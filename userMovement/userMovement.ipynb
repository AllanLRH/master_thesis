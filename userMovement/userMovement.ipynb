{
 "cells": [
  {
   "cell_type": "code",
   "execution_count": 1,
   "metadata": {},
   "outputs": [],
   "source": [
    "import sys\n",
    "import os\n",
    "sys.path.append(os.path.abspath(\"..\"))\n",
    "\n",
    "\n",
    "import warnings\n",
    "warnings.simplefilter(action='ignore', category=FutureWarning)\n",
    "\n",
    "import re\n",
    "import multiprocessing\n",
    "from collections import Counter\n",
    "import itertools\n",
    "import pickle\n",
    "from IPython.display import display as disp\n",
    "import stringcase\n",
    "\n",
    "import numpy as np\n",
    "import numpy.ma as ma\n",
    "# import bottleneck as bn\n",
    "import pandas as pd\n",
    "import networkx as nx\n",
    "# import igraph as ig\n",
    "import matplotlib as mpl\n",
    "import matplotlib.pyplot as plt\n",
    "import seaborn as sns\n",
    "colorcycle = [(0.498, 0.788, 0.498),\n",
    "              (0.745, 0.682, 0.831),\n",
    "              (0.992, 0.753, 0.525),\n",
    "              (0.220, 0.424, 0.690),\n",
    "              (0.749, 0.357, 0.090),\n",
    "              (1.000, 1.000, 0.600),\n",
    "              (0.941, 0.008, 0.498),\n",
    "              (0.400, 0.400, 0.400)]\n",
    "\n",
    "\n",
    "# import warnings\n",
    "# warnings.simplefilter(\"ignore\", category=DeprecationWarning)\n",
    "# warnings.simplefilter(\"ignore\", category=mpl.cbook.mplDeprecation)\n",
    "# warnings.simplefilter(\"ignore\", category=UserWarning)\n",
    "\n",
    "\n",
    "from speclib import misc, loaders, plotting, modeleval\n",
    "\n",
    "pd.set_option('display.max_rows', 55)\n",
    "pd.set_option('display.max_columns', 20)\n",
    "pd.set_option('display.width', 1000)\n",
    "np.set_printoptions(linewidth=145)\n",
    "\n",
    "# import pixiedust\n",
    "\n",
    "from sklearn.linear_model import SGDClassifier\n",
    "from sklearn import metrics\n",
    "from sklearn.decomposition import PCA \n",
    "from sklearn import model_selection\n",
    "from sklearn.pipeline import Pipeline\n",
    "\n",
    "from sklearn.externals.joblib import Memory\n",
    "memory = Memory(cachedir='../joblib_cache', verbose=0)\n",
    "\n",
    "%matplotlib inline\n",
    "\n",
    "sns.set(context='paper', style='whitegrid', color_codes=True, font_scale=2.8)\n",
    "sns.set_palette(colorcycle)\n",
    "mpl.rcParams['figure.max_open_warning'] = 65\n",
    "mpl.rcParams['figure.figsize'] = np.array([12, 7]) * 0.75\n",
    "mpl.rcParams['text.usetex'] = True  "
   ]
  },
  {
   "cell_type": "code",
   "execution_count": 2,
   "metadata": {},
   "outputs": [],
   "source": [
    "mpl.rcParams['figure.figsize'] = np.array([12, 7]) * 0.75 "
   ]
  },
  {
   "cell_type": "markdown",
   "metadata": {},
   "source": [
    "# The data\n",
    "\n",
    "`x` indicates activity, partitioned into eight quarters, for the four channels ABCD.\n",
    "`y` indicates movement."
   ]
  },
  {
   "cell_type": "code",
   "execution_count": 3,
   "metadata": {},
   "outputs": [],
   "source": [
    "data_path = '../../allan_data/DataPredictMovement_half.p'"
   ]
  },
  {
   "cell_type": "code",
   "execution_count": 4,
   "metadata": {},
   "outputs": [],
   "source": [
    "x, y = np.load(data_path) "
   ]
  },
  {
   "cell_type": "code",
   "execution_count": 19,
   "metadata": {},
   "outputs": [],
   "source": [
    "xx = x.copy()\n",
    "xx[xx==-1] = 0\n",
    "\n",
    "yy = y.copy() \n",
    "yy[yy==-1] = 0"
   ]
  },
  {
   "cell_type": "code",
   "execution_count": 20,
   "metadata": {},
   "outputs": [],
   "source": [
    "columns=[f\"{com}{qrt}\" for com in \"call sms gps bt\".split() for qrt in range(1, 9)] \n",
    "dfx = pd.DataFrame(x, columns=columns) "
   ]
  },
  {
   "cell_type": "code",
   "execution_count": 21,
   "metadata": {},
   "outputs": [
    {
     "data": {
      "text/html": [
       "<div>\n",
       "<style scoped>\n",
       "    .dataframe tbody tr th:only-of-type {\n",
       "        vertical-align: middle;\n",
       "    }\n",
       "\n",
       "    .dataframe tbody tr th {\n",
       "        vertical-align: top;\n",
       "    }\n",
       "\n",
       "    .dataframe thead th {\n",
       "        text-align: right;\n",
       "    }\n",
       "</style>\n",
       "<table border=\"1\" class=\"dataframe\">\n",
       "  <thead>\n",
       "    <tr style=\"text-align: right;\">\n",
       "      <th></th>\n",
       "      <th>call1</th>\n",
       "      <th>call2</th>\n",
       "      <th>call3</th>\n",
       "      <th>call4</th>\n",
       "      <th>call5</th>\n",
       "      <th>call6</th>\n",
       "      <th>call7</th>\n",
       "      <th>call8</th>\n",
       "      <th>sms1</th>\n",
       "      <th>sms2</th>\n",
       "      <th>...</th>\n",
       "      <th>gps7</th>\n",
       "      <th>gps8</th>\n",
       "      <th>bt1</th>\n",
       "      <th>bt2</th>\n",
       "      <th>bt3</th>\n",
       "      <th>bt4</th>\n",
       "      <th>bt5</th>\n",
       "      <th>bt6</th>\n",
       "      <th>bt7</th>\n",
       "      <th>bt8</th>\n",
       "    </tr>\n",
       "  </thead>\n",
       "  <tbody>\n",
       "    <tr>\n",
       "      <th>0</th>\n",
       "      <td>-1</td>\n",
       "      <td>-1</td>\n",
       "      <td>-1</td>\n",
       "      <td>1</td>\n",
       "      <td>-1</td>\n",
       "      <td>-1</td>\n",
       "      <td>1</td>\n",
       "      <td>-1</td>\n",
       "      <td>-1</td>\n",
       "      <td>-1</td>\n",
       "      <td>...</td>\n",
       "      <td>-1</td>\n",
       "      <td>-1</td>\n",
       "      <td>-1</td>\n",
       "      <td>-1</td>\n",
       "      <td>-1</td>\n",
       "      <td>-1</td>\n",
       "      <td>-1</td>\n",
       "      <td>-1</td>\n",
       "      <td>-1</td>\n",
       "      <td>-1</td>\n",
       "    </tr>\n",
       "    <tr>\n",
       "      <th>1</th>\n",
       "      <td>-1</td>\n",
       "      <td>-1</td>\n",
       "      <td>-1</td>\n",
       "      <td>1</td>\n",
       "      <td>-1</td>\n",
       "      <td>-1</td>\n",
       "      <td>-1</td>\n",
       "      <td>1</td>\n",
       "      <td>-1</td>\n",
       "      <td>-1</td>\n",
       "      <td>...</td>\n",
       "      <td>-1</td>\n",
       "      <td>-1</td>\n",
       "      <td>-1</td>\n",
       "      <td>-1</td>\n",
       "      <td>-1</td>\n",
       "      <td>-1</td>\n",
       "      <td>-1</td>\n",
       "      <td>-1</td>\n",
       "      <td>-1</td>\n",
       "      <td>-1</td>\n",
       "    </tr>\n",
       "    <tr>\n",
       "      <th>2</th>\n",
       "      <td>-1</td>\n",
       "      <td>-1</td>\n",
       "      <td>-1</td>\n",
       "      <td>-1</td>\n",
       "      <td>-1</td>\n",
       "      <td>-1</td>\n",
       "      <td>-1</td>\n",
       "      <td>-1</td>\n",
       "      <td>-1</td>\n",
       "      <td>-1</td>\n",
       "      <td>...</td>\n",
       "      <td>1</td>\n",
       "      <td>-1</td>\n",
       "      <td>-1</td>\n",
       "      <td>-1</td>\n",
       "      <td>1</td>\n",
       "      <td>-1</td>\n",
       "      <td>-1</td>\n",
       "      <td>-1</td>\n",
       "      <td>-1</td>\n",
       "      <td>1</td>\n",
       "    </tr>\n",
       "    <tr>\n",
       "      <th>3</th>\n",
       "      <td>-1</td>\n",
       "      <td>-1</td>\n",
       "      <td>-1</td>\n",
       "      <td>-1</td>\n",
       "      <td>-1</td>\n",
       "      <td>-1</td>\n",
       "      <td>-1</td>\n",
       "      <td>-1</td>\n",
       "      <td>-1</td>\n",
       "      <td>-1</td>\n",
       "      <td>...</td>\n",
       "      <td>-1</td>\n",
       "      <td>-1</td>\n",
       "      <td>-1</td>\n",
       "      <td>-1</td>\n",
       "      <td>-1</td>\n",
       "      <td>-1</td>\n",
       "      <td>-1</td>\n",
       "      <td>-1</td>\n",
       "      <td>-1</td>\n",
       "      <td>-1</td>\n",
       "    </tr>\n",
       "    <tr>\n",
       "      <th>4</th>\n",
       "      <td>-1</td>\n",
       "      <td>-1</td>\n",
       "      <td>-1</td>\n",
       "      <td>-1</td>\n",
       "      <td>-1</td>\n",
       "      <td>-1</td>\n",
       "      <td>-1</td>\n",
       "      <td>-1</td>\n",
       "      <td>1</td>\n",
       "      <td>-1</td>\n",
       "      <td>...</td>\n",
       "      <td>-1</td>\n",
       "      <td>-1</td>\n",
       "      <td>-1</td>\n",
       "      <td>-1</td>\n",
       "      <td>1</td>\n",
       "      <td>-1</td>\n",
       "      <td>-1</td>\n",
       "      <td>-1</td>\n",
       "      <td>-1</td>\n",
       "      <td>-1</td>\n",
       "    </tr>\n",
       "  </tbody>\n",
       "</table>\n",
       "<p>5 rows × 32 columns</p>\n",
       "</div>"
      ],
      "text/plain": [
       "   call1  call2  call3  call4  call5  call6  call7  call8  sms1  sms2 ...   gps7  gps8  bt1  bt2  bt3  bt4  bt5  bt6  bt7  bt8\n",
       "0     -1     -1     -1      1     -1     -1      1     -1    -1    -1 ...     -1    -1   -1   -1   -1   -1   -1   -1   -1   -1\n",
       "1     -1     -1     -1      1     -1     -1     -1      1    -1    -1 ...     -1    -1   -1   -1   -1   -1   -1   -1   -1   -1\n",
       "2     -1     -1     -1     -1     -1     -1     -1     -1    -1    -1 ...      1    -1   -1   -1    1   -1   -1   -1   -1    1\n",
       "3     -1     -1     -1     -1     -1     -1     -1     -1    -1    -1 ...     -1    -1   -1   -1   -1   -1   -1   -1   -1   -1\n",
       "4     -1     -1     -1     -1     -1     -1     -1     -1     1    -1 ...     -1    -1   -1   -1    1   -1   -1   -1   -1   -1\n",
       "\n",
       "[5 rows x 32 columns]"
      ]
     },
     "execution_count": 21,
     "metadata": {},
     "output_type": "execute_result"
    }
   ],
   "source": [
    "dfx.head() "
   ]
  },
  {
   "cell_type": "code",
   "execution_count": 22,
   "metadata": {},
   "outputs": [
    {
     "data": {
      "text/plain": [
       "(6549096, 32)"
      ]
     },
     "execution_count": 22,
     "metadata": {},
     "output_type": "execute_result"
    }
   ],
   "source": [
    "x.shape"
   ]
  },
  {
   "cell_type": "code",
   "execution_count": 23,
   "metadata": {},
   "outputs": [
    {
     "data": {
      "text/plain": [
       "array([ 2,  5,  8, 11, 14, 17, 20, 23, 26, 29, 32])"
      ]
     },
     "execution_count": 23,
     "metadata": {},
     "output_type": "execute_result"
    }
   ],
   "source": [
    "np.arange(2, x.shape[1]+1, 3) "
   ]
  },
  {
   "cell_type": "markdown",
   "metadata": {},
   "source": [
    "Plotting the average value of the `x`-vectors, we see that every first quarter of an lower amound of activity. This could reflect human behaviour, because events often start on an hourly basis, or it could be a binning problem."
   ]
  },
  {
   "cell_type": "code",
   "execution_count": 24,
   "metadata": {},
   "outputs": [
    {
     "data": {
      "image/png": "[encoded data removed]",
      "text/plain": [
       "<matplotlib.figure.Figure at 0x7ff16d2f0080>"
      ]
     },
     "metadata": {},
     "output_type": "display_data"
    }
   ],
   "source": [
    "fig, ax = plt.subplots()\n",
    "ax.plot(xx.mean(axis=0), 'o-', c=colorcycle[0])\n",
    "# xticks = np.array([np.array([0, 3]) + (i*4) for i in range(0, 8)]).ravel() \n",
    "xticks = np.arange(0, 32, 4)\n",
    "ax.set_xticks(xticks) \n",
    "ax.set_yticks(np.linspace(0, 0.1, 5))\n",
    "ax.set_xticklabels([\"H1\", \"H2\"]*4);\n",
    "ax.set_xlabel(\"Vectors for call, SMS, GPS and bluetooth\")\n",
    "ax.set_ylabel(\"Fraction of activity in data\")\n",
    "plt.tight_layout() \n",
    "# fig.subplots_adjust(bottom=0.15) \n",
    "fig.savefig('figs/quarters_value.pdf') "
   ]
  },
  {
   "cell_type": "markdown",
   "metadata": {},
   "source": [
    "Below is the average of the four quarters in an hour. The same effect with low counts in the first quarter is seen."
   ]
  },
  {
   "cell_type": "code",
   "execution_count": 8,
   "metadata": {},
   "outputs": [
    {
     "name": "stdout",
     "output_type": "stream",
     "text": [
      "0.026\n",
      "0.071\n",
      "0.089\n",
      "0.088\n"
     ]
    }
   ],
   "source": [
    "means = np.zeros(4)\n",
    "base_idx = np.arange(0, 32, 4)\n",
    "for i in range(4):\n",
    "    idx = base_idx + i\n",
    "    icut = min(base_idx[-1]+i, xx.shape[1])\n",
    "    idx = idx[idx <= icut]\n",
    "    arr = xx[:, base_idx + i]\n",
    "    means[i] = arr.mean()\n",
    "    print(\"%.3f\" % means[i])\n"
   ]
  },
  {
   "cell_type": "code",
   "execution_count": 9,
   "metadata": {},
   "outputs": [],
   "source": [
    "np.savetxt('quarterly_averages_accross_all_channels.txt', means)"
   ]
  },
  {
   "cell_type": "code",
   "execution_count": 10,
   "metadata": {},
   "outputs": [],
   "source": [
    "del xx, yy"
   ]
  },
  {
   "cell_type": "markdown",
   "metadata": {},
   "source": [
    "Heatmap of the correlation shows the same pattern... perhaps a dimmensionality reduction is in order, since the intrinsic dimmension of the data might be quite a bit smaller than the current dimmensionalty."
   ]
  },
  {
   "cell_type": "code",
   "execution_count": 11,
   "metadata": {},
   "outputs": [],
   "source": [
    "sample_idx = np.random.choice(range(len(y)), len(y)//25) \n",
    "dfs = pd.DataFrame(x[sample_idx, :])\n",
    "corr = dfs.corr() "
   ]
  },
  {
   "cell_type": "code",
   "execution_count": 12,
   "metadata": {},
   "outputs": [
    {
     "data": {
      "image/png": "[encoded data removed]",
      "text/plain": [
       "<matplotlib.figure.Figure at 0x7f12505a55f8>"
      ]
     },
     "metadata": {},
     "output_type": "display_data"
    }
   ],
   "source": [
    "with sns.axes_style(\"white\"):  # ticks\n",
    "    # Generate a mask for the upper triangle\n",
    "    mask = np.zeros_like(corr, dtype=np.bool)\n",
    "    mask[np.triu_indices_from(mask)] = True\n",
    "\n",
    "    # Set up the matplotlib figure\n",
    "    fig, ax = plt.subplots(figsize=(11, 9))\n",
    "\n",
    "    # Generate a custom diverging colormap\n",
    "    cmap = sns.diverging_palette(220, 10, as_cmap=True)\n",
    "\n",
    "    # Draw the heatmap with the mask and correct aspect ratio\n",
    "    # ticks = [str(i) if (i % 2 == 1) else ' ' for i in range(32)]\n",
    "    sns.heatmap(corr, mask=mask, cmap=cmap, vmin=-1, vmax=1, center=0,\n",
    "                square=True, linewidths=.5, cbar_kws={\"shrink\": .5}) \n",
    "    for lx, ly in zip(ax.get_xticklabels()[::2], ax.get_yticklabels()[::2]):\n",
    "        lx.set_visible(False)\n",
    "        ly.set_visible(False) \n",
    "    \n",
    "    fig.savefig(\"figs/quarters_correlations.pdf\") "
   ]
  },
  {
   "cell_type": "code",
   "execution_count": 13,
   "metadata": {},
   "outputs": [],
   "source": [
    "pca = PCA() \n",
    "pca.fit(x)\n",
    "xx = pca.transform(x)"
   ]
  },
  {
   "cell_type": "code",
   "execution_count": 89,
   "metadata": {},
   "outputs": [
    {
     "data": {
      "image/png": "[encoded data removed]",
      "text/plain": [
       "<matplotlib.figure.Figure at 0x7f1144d3d2e8>"
      ]
     },
     "metadata": {},
     "output_type": "display_data"
    },
    {
     "data": {
      "image/png": "[encoded data removed]",
      "text/plain": [
       "<matplotlib.figure.Figure at 0x7f10e4eeea90>"
      ]
     },
     "metadata": {},
     "output_type": "display_data"
    },
    {
     "data": {
      "image/png": "[encoded data removed]",
      "text/plain": [
       "<matplotlib.figure.Figure at 0x7f10e5c43dd8>"
      ]
     },
     "metadata": {},
     "output_type": "display_data"
    }
   ],
   "source": [
    "fig, ax = plt.subplots() \n",
    "ax.set_ybound(-0.05, 0.25)\n",
    "ax.plot(pca.explained_variance_ratio_, 'o-')\n",
    "ax.set_xlabel('Eigenvalue #')\n",
    "ax.set_ylabel('Eigenvalues')\n",
    "plt.tight_layout() \n",
    "# fig.subplots_adjust(left=0.15, bottom=0.15)\n",
    "fig.savefig('figs/pca_eigenvalues_userMovement.pdf')\n",
    "\n",
    "fig, ax = plt.subplots()\n",
    "ax.plot(np.cumsum(pca.explained_variance_ratio_), 'o-')\n",
    "ax.set_xlabel('Eigenvalue #')\n",
    "ax.set_ylabel('Eigenvalues accumulated')\n",
    "ax.set_ylim(-0.05, 1.05)\n",
    "plt.tight_layout() \n",
    "# fig.subplots_adjust(bottom=0.15)\n",
    "fig.savefig('figs/pca_eigenvalues_accumulated_userMovement.pdf')\n",
    "\n",
    "fig, ax = plt.subplots()\n",
    "ax.plot(1 - np.cumsum(pca.explained_variance_ratio_), 'o-')\n",
    "ax.set_xlabel('Eigenvalue #')\n",
    "ax.set_ylabel('1 - Eigenvalues accumulated')\n",
    "# ax.set_ylim(-0.05, 1.05)\n",
    "plt.tight_layout() \n",
    "fig.subplots_adjust(bottom=0.15)\n",
    "fig.savefig('figs/pca_eigenvalues_scree_userMovement.pdf') "
   ]
  },
  {
   "cell_type": "markdown",
   "metadata": {},
   "source": [
    "# Results of the cross validation\n",
    "\n",
    "Plotting and listing results"
   ]
  },
  {
   "cell_type": "code",
   "execution_count": 9,
   "metadata": {},
   "outputs": [],
   "source": [
    "with open('userMovement_sgd_std_final_coarse.pkl', 'br') as fid:\n",
    "    est = pickle.load(fid) "
   ]
  },
  {
   "cell_type": "markdown",
   "metadata": {},
   "source": [
    "Convert to DataFrame, explore random sampled of relevant columns"
   ]
  },
  {
   "cell_type": "code",
   "execution_count": 10,
   "metadata": {
    "scrolled": false
   },
   "outputs": [
    {
     "data": {
      "text/html": [
       "<div>\n",
       "<style scoped>\n",
       "    .dataframe tbody tr th:only-of-type {\n",
       "        vertical-align: middle;\n",
       "    }\n",
       "\n",
       "    .dataframe tbody tr th {\n",
       "        vertical-align: top;\n",
       "    }\n",
       "\n",
       "    .dataframe thead th {\n",
       "        text-align: right;\n",
       "    }\n",
       "</style>\n",
       "<table border=\"1\" class=\"dataframe\">\n",
       "  <thead>\n",
       "    <tr style=\"text-align: right;\">\n",
       "      <th></th>\n",
       "      <th>mean_test_score</th>\n",
       "      <th>mean_train_score</th>\n",
       "      <th>param_pca__n_components</th>\n",
       "      <th>param_sgd__alpha</th>\n",
       "      <th>param_sgd__class_weight</th>\n",
       "      <th>param_sgd__loss</th>\n",
       "      <th>param_sgd__penalty</th>\n",
       "    </tr>\n",
       "  </thead>\n",
       "  <tbody>\n",
       "    <tr>\n",
       "      <th>1105</th>\n",
       "      <td>0.840844</td>\n",
       "      <td>0.840862</td>\n",
       "      <td>9</td>\n",
       "      <td>0.1</td>\n",
       "      <td>balanced</td>\n",
       "      <td>modified_huber</td>\n",
       "      <td>elasticnet</td>\n",
       "    </tr>\n",
       "    <tr>\n",
       "      <th>736</th>\n",
       "      <td>0.830408</td>\n",
       "      <td>0.830423</td>\n",
       "      <td>5</td>\n",
       "      <td>0.215443</td>\n",
       "      <td>balanced</td>\n",
       "      <td>hinge</td>\n",
       "      <td>l2</td>\n",
       "    </tr>\n",
       "    <tr>\n",
       "      <th>124</th>\n",
       "      <td>0.792245</td>\n",
       "      <td>0.792217</td>\n",
       "      <td>2</td>\n",
       "      <td>0.0215443</td>\n",
       "      <td>balanced</td>\n",
       "      <td>hinge</td>\n",
       "      <td>l2</td>\n",
       "    </tr>\n",
       "    <tr>\n",
       "      <th>1102</th>\n",
       "      <td>0.767028</td>\n",
       "      <td>0.766981</td>\n",
       "      <td>9</td>\n",
       "      <td>0.0464159</td>\n",
       "      <td>None</td>\n",
       "      <td>hinge</td>\n",
       "      <td>l2</td>\n",
       "    </tr>\n",
       "    <tr>\n",
       "      <th>1988</th>\n",
       "      <td>0.848031</td>\n",
       "      <td>0.848155</td>\n",
       "      <td>30</td>\n",
       "      <td>0.000464159</td>\n",
       "      <td>None</td>\n",
       "      <td>log</td>\n",
       "      <td>l2</td>\n",
       "    </tr>\n",
       "    <tr>\n",
       "      <th>222</th>\n",
       "      <td>0.782572</td>\n",
       "      <td>0.782579</td>\n",
       "      <td>3</td>\n",
       "      <td>4.64159e-05</td>\n",
       "      <td>None</td>\n",
       "      <td>modified_huber</td>\n",
       "      <td>l2</td>\n",
       "    </tr>\n",
       "    <tr>\n",
       "      <th>548</th>\n",
       "      <td>0.816418</td>\n",
       "      <td>0.816419</td>\n",
       "      <td>4</td>\n",
       "      <td>0.215443</td>\n",
       "      <td>None</td>\n",
       "      <td>log</td>\n",
       "      <td>l2</td>\n",
       "    </tr>\n",
       "    <tr>\n",
       "      <th>1911</th>\n",
       "      <td>0.816904</td>\n",
       "      <td>0.817019</td>\n",
       "      <td>27</td>\n",
       "      <td>1</td>\n",
       "      <td>balanced</td>\n",
       "      <td>log</td>\n",
       "      <td>elasticnet</td>\n",
       "    </tr>\n",
       "    <tr>\n",
       "      <th>772</th>\n",
       "      <td>0.817004</td>\n",
       "      <td>0.817074</td>\n",
       "      <td>6</td>\n",
       "      <td>1e-05</td>\n",
       "      <td>balanced</td>\n",
       "      <td>hinge</td>\n",
       "      <td>l2</td>\n",
       "    </tr>\n",
       "    <tr>\n",
       "      <th>1773</th>\n",
       "      <td>0.845288</td>\n",
       "      <td>0.845489</td>\n",
       "      <td>27</td>\n",
       "      <td>0.0001</td>\n",
       "      <td>None</td>\n",
       "      <td>log</td>\n",
       "      <td>elasticnet</td>\n",
       "    </tr>\n",
       "    <tr>\n",
       "      <th>1743</th>\n",
       "      <td>0.842756</td>\n",
       "      <td>0.842726</td>\n",
       "      <td>27</td>\n",
       "      <td>2.15443e-05</td>\n",
       "      <td>balanced</td>\n",
       "      <td>log</td>\n",
       "      <td>elasticnet</td>\n",
       "    </tr>\n",
       "    <tr>\n",
       "      <th>522</th>\n",
       "      <td>0.815265</td>\n",
       "      <td>0.815259</td>\n",
       "      <td>4</td>\n",
       "      <td>0.0464159</td>\n",
       "      <td>None</td>\n",
       "      <td>modified_huber</td>\n",
       "      <td>l2</td>\n",
       "    </tr>\n",
       "    <tr>\n",
       "      <th>538</th>\n",
       "      <td>0.301658</td>\n",
       "      <td>0.301726</td>\n",
       "      <td>4</td>\n",
       "      <td>0.1</td>\n",
       "      <td>None</td>\n",
       "      <td>hinge</td>\n",
       "      <td>l2</td>\n",
       "    </tr>\n",
       "    <tr>\n",
       "      <th>1445</th>\n",
       "      <td>0.834092</td>\n",
       "      <td>0.833864</td>\n",
       "      <td>16</td>\n",
       "      <td>0.00464159</td>\n",
       "      <td>balanced</td>\n",
       "      <td>hinge</td>\n",
       "      <td>elasticnet</td>\n",
       "    </tr>\n",
       "    <tr>\n",
       "      <th>2488</th>\n",
       "      <td>0.826484</td>\n",
       "      <td>0.826780</td>\n",
       "      <td>32</td>\n",
       "      <td>1</td>\n",
       "      <td>balanced</td>\n",
       "      <td>hinge</td>\n",
       "      <td>l2</td>\n",
       "    </tr>\n",
       "    <tr>\n",
       "      <th>1924</th>\n",
       "      <td>0.803935</td>\n",
       "      <td>0.804242</td>\n",
       "      <td>30</td>\n",
       "      <td>1e-05</td>\n",
       "      <td>balanced</td>\n",
       "      <td>hinge</td>\n",
       "      <td>l2</td>\n",
       "    </tr>\n",
       "    <tr>\n",
       "      <th>1563</th>\n",
       "      <td>0.846382</td>\n",
       "      <td>0.846478</td>\n",
       "      <td>23</td>\n",
       "      <td>4.64159e-05</td>\n",
       "      <td>balanced</td>\n",
       "      <td>log</td>\n",
       "      <td>elasticnet</td>\n",
       "    </tr>\n",
       "    <tr>\n",
       "      <th>2004</th>\n",
       "      <td>0.847893</td>\n",
       "      <td>0.848006</td>\n",
       "      <td>30</td>\n",
       "      <td>0.00215443</td>\n",
       "      <td>balanced</td>\n",
       "      <td>modified_huber</td>\n",
       "      <td>l2</td>\n",
       "    </tr>\n",
       "    <tr>\n",
       "      <th>2403</th>\n",
       "      <td>0.850610</td>\n",
       "      <td>0.850680</td>\n",
       "      <td>32</td>\n",
       "      <td>0.00464159</td>\n",
       "      <td>balanced</td>\n",
       "      <td>log</td>\n",
       "      <td>elasticnet</td>\n",
       "    </tr>\n",
       "    <tr>\n",
       "      <th>1050</th>\n",
       "      <td>0.823790</td>\n",
       "      <td>0.823929</td>\n",
       "      <td>9</td>\n",
       "      <td>0.00215443</td>\n",
       "      <td>None</td>\n",
       "      <td>modified_huber</td>\n",
       "      <td>l2</td>\n",
       "    </tr>\n",
       "  </tbody>\n",
       "</table>\n",
       "</div>"
      ],
      "text/plain": [
       "      mean_test_score  mean_train_score param_pca__n_components param_sgd__alpha param_sgd__class_weight param_sgd__loss param_sgd__penalty\n",
       "1105         0.840844          0.840862                       9              0.1                balanced  modified_huber         elasticnet\n",
       "736          0.830408          0.830423                       5         0.215443                balanced           hinge                 l2\n",
       "124          0.792245          0.792217                       2        0.0215443                balanced           hinge                 l2\n",
       "1102         0.767028          0.766981                       9        0.0464159                    None           hinge                 l2\n",
       "1988         0.848031          0.848155                      30      0.000464159                    None             log                 l2\n",
       "222          0.782572          0.782579                       3      4.64159e-05                    None  modified_huber                 l2\n",
       "548          0.816418          0.816419                       4         0.215443                    None             log                 l2\n",
       "1911         0.816904          0.817019                      27                1                balanced             log         elasticnet\n",
       "772          0.817004          0.817074                       6            1e-05                balanced           hinge                 l2\n",
       "1773         0.845288          0.845489                      27           0.0001                    None             log         elasticnet\n",
       "1743         0.842756          0.842726                      27      2.15443e-05                balanced             log         elasticnet\n",
       "522          0.815265          0.815259                       4        0.0464159                    None  modified_huber                 l2\n",
       "538          0.301658          0.301726                       4              0.1                    None           hinge                 l2\n",
       "1445         0.834092          0.833864                      16       0.00464159                balanced           hinge         elasticnet\n",
       "2488         0.826484          0.826780                      32                1                balanced           hinge                 l2\n",
       "1924         0.803935          0.804242                      30            1e-05                balanced           hinge                 l2\n",
       "1563         0.846382          0.846478                      23      4.64159e-05                balanced             log         elasticnet\n",
       "2004         0.847893          0.848006                      30       0.00215443                balanced  modified_huber                 l2\n",
       "2403         0.850610          0.850680                      32       0.00464159                balanced             log         elasticnet\n",
       "1050         0.823790          0.823929                       9       0.00215443                    None  modified_huber                 l2"
      ]
     },
     "execution_count": 10,
     "metadata": {},
     "output_type": "execute_result"
    }
   ],
   "source": [
    "cvr = pd.DataFrame(est.cv_results_)\n",
    "cvr.filter(regex=r'^(?:param_|mean.+score$)').sample(20) "
   ]
  },
  {
   "cell_type": "code",
   "execution_count": 12,
   "metadata": {},
   "outputs": [
    {
     "data": {
      "text/plain": [
       "{'pca__n_components': 27,\n",
       " 'sgd__alpha': 1.0,\n",
       " 'sgd__class_weight': 'balanced',\n",
       " 'sgd__loss': 'log',\n",
       " 'sgd__penalty': 'l2'}"
      ]
     },
     "execution_count": 12,
     "metadata": {},
     "output_type": "execute_result"
    }
   ],
   "source": [
    "est.best_params_"
   ]
  },
  {
   "cell_type": "code",
   "execution_count": 13,
   "metadata": {},
   "outputs": [
    {
     "data": {
      "text/plain": [
       "0.8510681121381051"
      ]
     },
     "execution_count": 13,
     "metadata": {},
     "output_type": "execute_result"
    }
   ],
   "source": [
    "est.best_score_"
   ]
  },
  {
   "cell_type": "code",
   "execution_count": 14,
   "metadata": {},
   "outputs": [
    {
     "data": {
      "text/plain": [
       "0.851849571922662"
      ]
     },
     "execution_count": 14,
     "metadata": {},
     "output_type": "execute_result"
    }
   ],
   "source": [
    "est.validation_auc_score"
   ]
  },
  {
   "cell_type": "code",
   "execution_count": 15,
   "metadata": {},
   "outputs": [
    {
     "data": {
      "text/plain": [
       "{'pca__n_components': array([ 2,  3,  4,  5,  6,  9, 12, 16, 23, 27, 30, 31, 32]),\n",
       " 'sgd__alpha': array([1.00000000e-05, 2.15443469e-05, 4.64158883e-05, 1.00000000e-04, 2.15443469e-04, 4.64158883e-04, 1.00000000e-03, 2.15443469e-03,\n",
       "        4.64158883e-03, 1.00000000e-02, 2.15443469e-02, 4.64158883e-02, 1.00000000e-01, 2.15443469e-01, 4.64158883e-01, 1.00000000e+00]),\n",
       " 'sgd__class_weight': ['balanced', None],\n",
       " 'sgd__loss': ['modified_huber', 'log', 'hinge'],\n",
       " 'sgd__penalty': ['l2', 'elasticnet']}"
      ]
     },
     "execution_count": 15,
     "metadata": {},
     "output_type": "execute_result"
    }
   ],
   "source": [
    "est.param_grid"
   ]
  },
  {
   "cell_type": "markdown",
   "metadata": {},
   "source": [
    "Explore best parameters"
   ]
  },
  {
   "cell_type": "code",
   "execution_count": 161,
   "metadata": {},
   "outputs": [
    {
     "data": {
      "text/html": [
       "<div>\n",
       "<style scoped>\n",
       "    .dataframe tbody tr th:only-of-type {\n",
       "        vertical-align: middle;\n",
       "    }\n",
       "\n",
       "    .dataframe tbody tr th {\n",
       "        vertical-align: top;\n",
       "    }\n",
       "\n",
       "    .dataframe thead th {\n",
       "        text-align: right;\n",
       "    }\n",
       "</style>\n",
       "<table border=\"1\" class=\"dataframe\">\n",
       "  <thead>\n",
       "    <tr style=\"text-align: right;\">\n",
       "      <th></th>\n",
       "      <th>mean_test_score</th>\n",
       "      <th>mean_train_score</th>\n",
       "      <th>param_pca__n_components</th>\n",
       "      <th>param_sgd__alpha</th>\n",
       "      <th>param_sgd__class_weight</th>\n",
       "      <th>param_sgd__loss</th>\n",
       "      <th>param_sgd__penalty</th>\n",
       "    </tr>\n",
       "  </thead>\n",
       "  <tbody>\n",
       "    <tr>\n",
       "      <th>1908</th>\n",
       "      <td>0.850610</td>\n",
       "      <td>0.850639</td>\n",
       "      <td>27</td>\n",
       "      <td>1</td>\n",
       "      <td>balanced</td>\n",
       "      <td>modified_huber</td>\n",
       "      <td>l2</td>\n",
       "    </tr>\n",
       "    <tr>\n",
       "      <th>1909</th>\n",
       "      <td>0.842444</td>\n",
       "      <td>0.842453</td>\n",
       "      <td>27</td>\n",
       "      <td>1</td>\n",
       "      <td>balanced</td>\n",
       "      <td>modified_huber</td>\n",
       "      <td>elasticnet</td>\n",
       "    </tr>\n",
       "    <tr>\n",
       "      <th>1910</th>\n",
       "      <td>0.851068</td>\n",
       "      <td>0.851084</td>\n",
       "      <td>27</td>\n",
       "      <td>1</td>\n",
       "      <td>balanced</td>\n",
       "      <td>log</td>\n",
       "      <td>l2</td>\n",
       "    </tr>\n",
       "    <tr>\n",
       "      <th>1911</th>\n",
       "      <td>0.816904</td>\n",
       "      <td>0.817019</td>\n",
       "      <td>27</td>\n",
       "      <td>1</td>\n",
       "      <td>balanced</td>\n",
       "      <td>log</td>\n",
       "      <td>elasticnet</td>\n",
       "    </tr>\n",
       "    <tr>\n",
       "      <th>1912</th>\n",
       "      <td>0.835195</td>\n",
       "      <td>0.835180</td>\n",
       "      <td>27</td>\n",
       "      <td>1</td>\n",
       "      <td>balanced</td>\n",
       "      <td>hinge</td>\n",
       "      <td>l2</td>\n",
       "    </tr>\n",
       "    <tr>\n",
       "      <th>1913</th>\n",
       "      <td>0.838133</td>\n",
       "      <td>0.838116</td>\n",
       "      <td>27</td>\n",
       "      <td>1</td>\n",
       "      <td>balanced</td>\n",
       "      <td>hinge</td>\n",
       "      <td>elasticnet</td>\n",
       "    </tr>\n",
       "    <tr>\n",
       "      <th>1914</th>\n",
       "      <td>0.850488</td>\n",
       "      <td>0.850512</td>\n",
       "      <td>27</td>\n",
       "      <td>1</td>\n",
       "      <td>None</td>\n",
       "      <td>modified_huber</td>\n",
       "      <td>l2</td>\n",
       "    </tr>\n",
       "    <tr>\n",
       "      <th>1915</th>\n",
       "      <td>0.837119</td>\n",
       "      <td>0.837000</td>\n",
       "      <td>27</td>\n",
       "      <td>1</td>\n",
       "      <td>None</td>\n",
       "      <td>modified_huber</td>\n",
       "      <td>elasticnet</td>\n",
       "    </tr>\n",
       "    <tr>\n",
       "      <th>1916</th>\n",
       "      <td>0.850473</td>\n",
       "      <td>0.850504</td>\n",
       "      <td>27</td>\n",
       "      <td>1</td>\n",
       "      <td>None</td>\n",
       "      <td>log</td>\n",
       "      <td>l2</td>\n",
       "    </tr>\n",
       "    <tr>\n",
       "      <th>1917</th>\n",
       "      <td>0.500000</td>\n",
       "      <td>0.500000</td>\n",
       "      <td>27</td>\n",
       "      <td>1</td>\n",
       "      <td>None</td>\n",
       "      <td>log</td>\n",
       "      <td>elasticnet</td>\n",
       "    </tr>\n",
       "    <tr>\n",
       "      <th>1918</th>\n",
       "      <td>0.755947</td>\n",
       "      <td>0.756039</td>\n",
       "      <td>27</td>\n",
       "      <td>1</td>\n",
       "      <td>None</td>\n",
       "      <td>hinge</td>\n",
       "      <td>l2</td>\n",
       "    </tr>\n",
       "    <tr>\n",
       "      <th>1919</th>\n",
       "      <td>0.500000</td>\n",
       "      <td>0.500000</td>\n",
       "      <td>27</td>\n",
       "      <td>1</td>\n",
       "      <td>None</td>\n",
       "      <td>hinge</td>\n",
       "      <td>elasticnet</td>\n",
       "    </tr>\n",
       "  </tbody>\n",
       "</table>\n",
       "</div>"
      ],
      "text/plain": [
       "      mean_test_score  mean_train_score param_pca__n_components param_sgd__alpha param_sgd__class_weight param_sgd__loss param_sgd__penalty\n",
       "1908         0.850610          0.850639                      27                1                balanced  modified_huber                 l2\n",
       "1909         0.842444          0.842453                      27                1                balanced  modified_huber         elasticnet\n",
       "1910         0.851068          0.851084                      27                1                balanced             log                 l2\n",
       "1911         0.816904          0.817019                      27                1                balanced             log         elasticnet\n",
       "1912         0.835195          0.835180                      27                1                balanced           hinge                 l2\n",
       "1913         0.838133          0.838116                      27                1                balanced           hinge         elasticnet\n",
       "1914         0.850488          0.850512                      27                1                    None  modified_huber                 l2\n",
       "1915         0.837119          0.837000                      27                1                    None  modified_huber         elasticnet\n",
       "1916         0.850473          0.850504                      27                1                    None             log                 l2\n",
       "1917         0.500000          0.500000                      27                1                    None             log         elasticnet\n",
       "1918         0.755947          0.756039                      27                1                    None           hinge                 l2\n",
       "1919         0.500000          0.500000                      27                1                    None           hinge         elasticnet"
      ]
     },
     "execution_count": 161,
     "metadata": {},
     "output_type": "execute_result"
    }
   ],
   "source": [
    "expl = cvr.filter(regex=r'^(?:param_|mean.+score$)')[(cvr.param_sgd__alpha == 1) &\n",
    "                                                     (cvr.param_pca__n_components == 27)]\n",
    "\n",
    "expl"
   ]
  },
  {
   "cell_type": "code",
   "execution_count": 162,
   "metadata": {},
   "outputs": [
    {
     "data": {
      "text/plain": [
       "mean_test_score             0.777365\n",
       "mean_train_score            0.777379\n",
       "param_pca__n_components    27.000000\n",
       "param_sgd__alpha            1.000000\n",
       "dtype: float64"
      ]
     },
     "execution_count": 162,
     "metadata": {},
     "output_type": "execute_result"
    }
   ],
   "source": [
    "expl.mean() "
   ]
  },
  {
   "cell_type": "code",
   "execution_count": 163,
   "metadata": {},
   "outputs": [
    {
     "data": {
      "text/plain": [
       "{'pca__n_components': array([ 2,  3,  4,  5,  6,  9, 12, 16, 23, 27, 30, 31, 32]),\n",
       " 'sgd__alpha': array([1.00000000e-05, 2.15443469e-05, 4.64158883e-05, 1.00000000e-04, 2.15443469e-04, 4.64158883e-04, 1.00000000e-03, 2.15443469e-03,\n",
       "        4.64158883e-03, 1.00000000e-02, 2.15443469e-02, 4.64158883e-02, 1.00000000e-01, 2.15443469e-01, 4.64158883e-01, 1.00000000e+00]),\n",
       " 'sgd__class_weight': ['balanced', None],\n",
       " 'sgd__loss': ['modified_huber', 'log', 'hinge'],\n",
       " 'sgd__penalty': ['l2', 'elasticnet']}"
      ]
     },
     "execution_count": 163,
     "metadata": {},
     "output_type": "execute_result"
    }
   ],
   "source": [
    "est.param_grid"
   ]
  },
  {
   "cell_type": "code",
   "execution_count": 164,
   "metadata": {},
   "outputs": [
    {
     "data": {
      "text/plain": [
       "0.8510681121381051"
      ]
     },
     "execution_count": 164,
     "metadata": {},
     "output_type": "execute_result"
    }
   ],
   "source": [
    "est.best_score_"
   ]
  },
  {
   "cell_type": "code",
   "execution_count": 165,
   "metadata": {},
   "outputs": [
    {
     "data": {
      "text/plain": [
       "0.851849571922662"
      ]
     },
     "execution_count": 165,
     "metadata": {},
     "output_type": "execute_result"
    }
   ],
   "source": [
    "est.validation_auc_score"
   ]
  },
  {
   "cell_type": "code",
   "execution_count": 166,
   "metadata": {},
   "outputs": [
    {
     "data": {
      "text/plain": [
       "{'pca__n_components': 27,\n",
       " 'sgd__alpha': 1.0,\n",
       " 'sgd__class_weight': 'balanced',\n",
       " 'sgd__loss': 'log',\n",
       " 'sgd__penalty': 'l2'}"
      ]
     },
     "execution_count": 166,
     "metadata": {},
     "output_type": "execute_result"
    }
   ],
   "source": [
    "est.best_params_"
   ]
  },
  {
   "cell_type": "code",
   "execution_count": 167,
   "metadata": {},
   "outputs": [],
   "source": [
    "bestmodel = cvr[(cvr.param_sgd__penalty == 'l2') & \n",
    "                (cvr.param_sgd__class_weight == 'balanced') & \n",
    "                (cvr.param_sgd__loss == 'log')]"
   ]
  },
  {
   "cell_type": "code",
   "execution_count": 168,
   "metadata": {},
   "outputs": [],
   "source": [
    "bestscores = bestmodel[['mean_test_score', 'std_test_score']].sort_values('mean_test_score', ascending=False)[:10]"
   ]
  },
  {
   "cell_type": "code",
   "execution_count": 169,
   "metadata": {},
   "outputs": [
    {
     "name": "stdout",
     "output_type": "stream",
     "text": [
      "0.851068 \\pm 8.09 \\cdot 10^{-4}\n",
      "0.851062 \\pm 8.33 \\cdot 10^{-4}\n",
      "0.851017 \\pm 8.01 \\cdot 10^{-4}\n",
      "0.851014 \\pm 8.12 \\cdot 10^{-4}\n",
      "0.851003 \\pm 7.86 \\cdot 10^{-4}\n",
      "0.851001 \\pm 7.93 \\cdot 10^{-4}\n",
      "0.850991 \\pm 7.94 \\cdot 10^{-4}\n",
      "0.850988 \\pm 8.35 \\cdot 10^{-4}\n",
      "0.850976 \\pm 7.89 \\cdot 10^{-4}\n",
      "0.850967 \\pm 8.23 \\cdot 10^{-4}\n"
     ]
    }
   ],
   "source": [
    "for _, (avg, std) in bestscores.iterrows():\n",
    "    # print(f\"{avg:.6f} ± {std:.2e}\")\n",
    "    # LaTeX format\n",
    "    front, back = (f\"{std:.2e}\").split('e') \n",
    "    print(f\"{avg:.6f} \\\\pm {front} \\\\cdot 10^{{{back.replace('0', '')}}}\")  # LaTeX version"
   ]
  },
  {
   "cell_type": "markdown",
   "metadata": {},
   "source": [
    "# Construct new grid"
   ]
  },
  {
   "cell_type": "code",
   "execution_count": 135,
   "metadata": {},
   "outputs": [
    {
     "data": {
      "text/plain": [
       "{'pca__n_components': array([ 2,  3,  4,  5,  6,  7,  9, 12, 15, 18, 21, 24, 27, 28, 29, 30, 31, 32]),\n",
       " 'sgd__alpha': array([1.00000000e-05, 1.96841945e-05, 3.87467512e-05, 7.62698586e-05, 1.50131073e-04, 2.95520924e-04, 5.81709133e-04, 1.14504757e-03,\n",
       "        2.25393390e-03, 4.43668733e-03, 8.73326162e-03, 1.71907220e-02, 3.38385515e-02, 6.66084629e-02, 1.31113394e-01, 2.58086154e-01,\n",
       "        5.08021805e-01, 1.00000000e+00]),\n",
       " 'sgd__class_weight': ['balanced', None],\n",
       " 'sgd__loss': ['modified_huber', 'log', 'hinge'],\n",
       " 'sgd__penalty': ['l2', 'elasticnet']}"
      ]
     },
     "execution_count": 135,
     "metadata": {},
     "output_type": "execute_result"
    }
   ],
   "source": [
    "{'pca__n_components': np.array([2, 3, 4, 5, 6, 9, 12, 16, 23, 27, 30, 31, 32]),\n",
    " 'sgd__alpha': 10**np.linspace(-5, 0, 16),\n",
    " 'sgd__class_weight': ['balanced', None],\n",
    " 'sgd__loss': ['modified_huber', 'log', 'hinge'],\n",
    " 'sgd__penalty': ['l2', 'elasticnet']} "
   ]
  },
  {
   "cell_type": "markdown",
   "metadata": {},
   "source": [
    "# Examine RF grid"
   ]
  },
  {
   "cell_type": "code",
   "execution_count": 5,
   "metadata": {},
   "outputs": [],
   "source": [
    "with open('userMovement_rf_coarse.pkl', 'br') as fid:\n",
    "    rf = pickle.load(fid)  "
   ]
  },
  {
   "cell_type": "code",
   "execution_count": 6,
   "metadata": {},
   "outputs": [],
   "source": [
    "cvrf = pd.DataFrame(rf.cv_results_)\n",
    "rfgbu = cvrf.groupby([cvrf.param_rf__n_estimators, cvrf.param_rf__max_depth]).mean_test_score.mean().unstack() \n",
    "rfgbus = cvrf.groupby([cvrf.param_rf__n_estimators, cvrf.param_rf__max_depth]).std_test_score.mean().unstack() "
   ]
  },
  {
   "cell_type": "code",
   "execution_count": 7,
   "metadata": {},
   "outputs": [
    {
     "data": {
      "text/html": [
       "<div>\n",
       "<style scoped>\n",
       "    .dataframe tbody tr th:only-of-type {\n",
       "        vertical-align: middle;\n",
       "    }\n",
       "\n",
       "    .dataframe tbody tr th {\n",
       "        vertical-align: top;\n",
       "    }\n",
       "\n",
       "    .dataframe thead th {\n",
       "        text-align: right;\n",
       "    }\n",
       "</style>\n",
       "<table border=\"1\" class=\"dataframe\">\n",
       "  <thead>\n",
       "    <tr style=\"text-align: right;\">\n",
       "      <th></th>\n",
       "      <th>mean_test_score</th>\n",
       "      <th>std_test_score</th>\n",
       "      <th>mean_train_score</th>\n",
       "      <th>std_test_score</th>\n",
       "    </tr>\n",
       "  </thead>\n",
       "  <tbody>\n",
       "    <tr>\n",
       "      <th>count</th>\n",
       "      <td>264.000000</td>\n",
       "      <td>264.000000</td>\n",
       "      <td>264.000000</td>\n",
       "      <td>264.000000</td>\n",
       "    </tr>\n",
       "    <tr>\n",
       "      <th>mean</th>\n",
       "      <td>0.842411</td>\n",
       "      <td>0.000887</td>\n",
       "      <td>0.866912</td>\n",
       "      <td>0.000887</td>\n",
       "    </tr>\n",
       "    <tr>\n",
       "      <th>std</th>\n",
       "      <td>0.017594</td>\n",
       "      <td>0.001576</td>\n",
       "      <td>0.012098</td>\n",
       "      <td>0.001576</td>\n",
       "    </tr>\n",
       "    <tr>\n",
       "      <th>min</th>\n",
       "      <td>0.785924</td>\n",
       "      <td>0.000072</td>\n",
       "      <td>0.832550</td>\n",
       "      <td>0.000072</td>\n",
       "    </tr>\n",
       "    <tr>\n",
       "      <th>25%</th>\n",
       "      <td>0.833760</td>\n",
       "      <td>0.000510</td>\n",
       "      <td>0.856556</td>\n",
       "      <td>0.000510</td>\n",
       "    </tr>\n",
       "    <tr>\n",
       "      <th>50%</th>\n",
       "      <td>0.850580</td>\n",
       "      <td>0.000687</td>\n",
       "      <td>0.863766</td>\n",
       "      <td>0.000687</td>\n",
       "    </tr>\n",
       "    <tr>\n",
       "      <th>75%</th>\n",
       "      <td>0.854719</td>\n",
       "      <td>0.000871</td>\n",
       "      <td>0.878939</td>\n",
       "      <td>0.000871</td>\n",
       "    </tr>\n",
       "    <tr>\n",
       "      <th>max</th>\n",
       "      <td>0.858456</td>\n",
       "      <td>0.024757</td>\n",
       "      <td>0.887921</td>\n",
       "      <td>0.024757</td>\n",
       "    </tr>\n",
       "  </tbody>\n",
       "</table>\n",
       "</div>"
      ],
      "text/plain": [
       "       mean_test_score  std_test_score  mean_train_score  std_test_score\n",
       "count       264.000000      264.000000        264.000000      264.000000\n",
       "mean          0.842411        0.000887          0.866912        0.000887\n",
       "std           0.017594        0.001576          0.012098        0.001576\n",
       "min           0.785924        0.000072          0.832550        0.000072\n",
       "25%           0.833760        0.000510          0.856556        0.000510\n",
       "50%           0.850580        0.000687          0.863766        0.000687\n",
       "75%           0.854719        0.000871          0.878939        0.000871\n",
       "max           0.858456        0.024757          0.887921        0.024757"
      ]
     },
     "execution_count": 7,
     "metadata": {},
     "output_type": "execute_result"
    }
   ],
   "source": [
    "desc = cvrf[['mean_test_score', 'std_test_score', 'mean_train_score', 'std_test_score']].describe() \n",
    "desc"
   ]
  },
  {
   "cell_type": "code",
   "execution_count": 8,
   "metadata": {},
   "outputs": [
    {
     "name": "stdout",
     "output_type": "stream",
     "text": [
      "\\begin{tabular}{lrrrr}\n",
      "\\toprule\n",
      "{} &  mean\\_test\\_score &  std\\_test\\_score &  mean\\_train\\_score &  std\\_test\\_score \\\\\n",
      "\\midrule\n",
      "count &       264.000000 &      264.000000 &        264.000000 &      264.000000 \\\\\n",
      "mean  &         0.842411 &        0.000887 &          0.866912 &        0.000887 \\\\\n",
      "std   &         0.017594 &        0.001576 &          0.012098 &        0.001576 \\\\\n",
      "min   &         0.785924 &        0.000072 &          0.832550 &        0.000072 \\\\\n",
      "25\\%   &         0.833760 &        0.000510 &          0.856556 &        0.000510 \\\\\n",
      "50\\%   &         0.850580 &        0.000687 &          0.863766 &        0.000687 \\\\\n",
      "75\\%   &         0.854719 &        0.000871 &          0.878939 &        0.000871 \\\\\n",
      "max   &         0.858456 &        0.024757 &          0.887921 &        0.024757 \\\\\n",
      "\\bottomrule\n",
      "\\end{tabular}\n",
      "\n"
     ]
    }
   ],
   "source": [
    "print(desc.to_latex())"
   ]
  },
  {
   "cell_type": "code",
   "execution_count": 9,
   "metadata": {},
   "outputs": [],
   "source": [
    "rfgbu.index.name = '\\\\# estimators'\n",
    "rfgbu.columns.name = 'Max depth'\n",
    "rfgbus.index.name = '\\\\# estimators'\n",
    "rfgbus.columns.name = 'Max depth'"
   ]
  },
  {
   "cell_type": "code",
   "execution_count": 162,
   "metadata": {},
   "outputs": [
    {
     "data": {
      "image/png": "[encoded data removed]",
      "text/plain": [
       "<matplotlib.figure.Figure at 0x7f7175753240>"
      ]
     },
     "metadata": {},
     "output_type": "display_data"
    },
    {
     "data": {
      "image/png": "[encoded data removed]",
      "text/plain": [
       "<matplotlib.figure.Figure at 0x7f71736cdbe0>"
      ]
     },
     "metadata": {},
     "output_type": "display_data"
    }
   ],
   "source": [
    "with sns.axes_style('ticks'):\n",
    "    fig, ax = plt.subplots(figsize=[15, 6]) \n",
    "    sns.heatmap(rfgbu.T, cmap='inferno', vmin=0.74, vmax=0.86, ax=ax) \n",
    "    xticklabels = ['$' + el.get_text() + '$' for el in ax.get_xticklabels()]\n",
    "    yticklabels = ['$' + el.get_text() + '$' for el in ax.get_yticklabels()]\n",
    "    ax.set_xticklabels(xticklabels)\n",
    "    ax.set_yticklabels(yticklabels)\n",
    "    plt.tight_layout() \n",
    "    fig.savefig('figs/random_forest_coarse_gridsearch_auc_test_mean.pdf')\n",
    "\n",
    "    fig, ax = plt.subplots(figsize=[15, 6]) \n",
    "    sns.heatmap(rfgbus.T, cmap='inferno', vmin=0.0, vmax=0.0015, ax=ax) \n",
    "    xticklabels = ['$' + el.get_text() + '$' for el in ax.get_xticklabels()]\n",
    "    yticklabels = ['$' + el.get_text() + '$' for el in ax.get_yticklabels()] \n",
    "    ax.set_xticklabels(xticklabels)\n",
    "    ax.set_yticklabels(yticklabels)\n",
    "    plt.tight_layout()\n",
    "    fig.savefig('figs/random_forest_coarse_gridsearch_auc_test_std.pdf')"
   ]
  },
  {
   "cell_type": "code",
   "execution_count": 10,
   "metadata": {},
   "outputs": [
    {
     "data": {
      "text/plain": [
       "{'rf__class_weight': None,\n",
       " 'rf__criterion': 'entropy',\n",
       " 'rf__max_depth': 16,\n",
       " 'rf__n_estimators': 45}"
      ]
     },
     "execution_count": 10,
     "metadata": {},
     "output_type": "execute_result"
    }
   ],
   "source": [
    "rf.best_params_"
   ]
  },
  {
   "cell_type": "code",
   "execution_count": 11,
   "metadata": {},
   "outputs": [
    {
     "data": {
      "text/plain": [
       "0.8584558041362306"
      ]
     },
     "execution_count": 11,
     "metadata": {},
     "output_type": "execute_result"
    }
   ],
   "source": [
    "rf.best_score_"
   ]
  },
  {
   "cell_type": "code",
   "execution_count": 12,
   "metadata": {},
   "outputs": [
    {
     "data": {
      "text/plain": [
       "0.8589634875117511"
      ]
     },
     "execution_count": 12,
     "metadata": {},
     "output_type": "execute_result"
    }
   ],
   "source": [
    "rf.validation_auc_score"
   ]
  },
  {
   "cell_type": "markdown",
   "metadata": {},
   "source": [
    "# Examine RF grid, fine search"
   ]
  },
  {
   "cell_type": "code",
   "execution_count": 13,
   "metadata": {},
   "outputs": [],
   "source": [
    "with open('userMovement_rf_finer.pkl', 'br') as fid:\n",
    "    rf = pickle.load(fid) "
   ]
  },
  {
   "cell_type": "code",
   "execution_count": 164,
   "metadata": {},
   "outputs": [],
   "source": [
    "cvrf = pd.DataFrame(rf.cv_results_)\n",
    "rfgbu = cvrf.groupby([cvrf.param_rf__n_estimators, cvrf.param_rf__max_depth]).mean_test_score.mean().unstack() \n",
    "rfgbus = cvrf.groupby([cvrf.param_rf__n_estimators, cvrf.param_rf__max_depth]).std_test_score.mean().unstack() "
   ]
  },
  {
   "cell_type": "code",
   "execution_count": 165,
   "metadata": {},
   "outputs": [
    {
     "data": {
      "text/html": [
       "<div>\n",
       "<style scoped>\n",
       "    .dataframe tbody tr th:only-of-type {\n",
       "        vertical-align: middle;\n",
       "    }\n",
       "\n",
       "    .dataframe tbody tr th {\n",
       "        vertical-align: top;\n",
       "    }\n",
       "\n",
       "    .dataframe thead th {\n",
       "        text-align: right;\n",
       "    }\n",
       "</style>\n",
       "<table border=\"1\" class=\"dataframe\">\n",
       "  <thead>\n",
       "    <tr style=\"text-align: right;\">\n",
       "      <th></th>\n",
       "      <th>mean_test_score</th>\n",
       "      <th>std_test_score</th>\n",
       "      <th>mean_train_score</th>\n",
       "      <th>std_test_score</th>\n",
       "    </tr>\n",
       "  </thead>\n",
       "  <tbody>\n",
       "    <tr>\n",
       "      <th>count</th>\n",
       "      <td>399.000000</td>\n",
       "      <td>399.000000</td>\n",
       "      <td>399.000000</td>\n",
       "      <td>399.000000</td>\n",
       "    </tr>\n",
       "    <tr>\n",
       "      <th>mean</th>\n",
       "      <td>0.858678</td>\n",
       "      <td>0.000348</td>\n",
       "      <td>0.864280</td>\n",
       "      <td>0.000348</td>\n",
       "    </tr>\n",
       "    <tr>\n",
       "      <th>std</th>\n",
       "      <td>0.000164</td>\n",
       "      <td>0.000028</td>\n",
       "      <td>0.002636</td>\n",
       "      <td>0.000028</td>\n",
       "    </tr>\n",
       "    <tr>\n",
       "      <th>min</th>\n",
       "      <td>0.858208</td>\n",
       "      <td>0.000262</td>\n",
       "      <td>0.860357</td>\n",
       "      <td>0.000262</td>\n",
       "    </tr>\n",
       "    <tr>\n",
       "      <th>25%</th>\n",
       "      <td>0.858567</td>\n",
       "      <td>0.000334</td>\n",
       "      <td>0.861724</td>\n",
       "      <td>0.000334</td>\n",
       "    </tr>\n",
       "    <tr>\n",
       "      <th>50%</th>\n",
       "      <td>0.858713</td>\n",
       "      <td>0.000349</td>\n",
       "      <td>0.864082</td>\n",
       "      <td>0.000349</td>\n",
       "    </tr>\n",
       "    <tr>\n",
       "      <th>75%</th>\n",
       "      <td>0.858816</td>\n",
       "      <td>0.000363</td>\n",
       "      <td>0.866887</td>\n",
       "      <td>0.000363</td>\n",
       "    </tr>\n",
       "    <tr>\n",
       "      <th>max</th>\n",
       "      <td>0.858910</td>\n",
       "      <td>0.000531</td>\n",
       "      <td>0.868535</td>\n",
       "      <td>0.000531</td>\n",
       "    </tr>\n",
       "  </tbody>\n",
       "</table>\n",
       "</div>"
      ],
      "text/plain": [
       "       mean_test_score  std_test_score  mean_train_score  std_test_score\n",
       "count       399.000000      399.000000        399.000000      399.000000\n",
       "mean          0.858678        0.000348          0.864280        0.000348\n",
       "std           0.000164        0.000028          0.002636        0.000028\n",
       "min           0.858208        0.000262          0.860357        0.000262\n",
       "25%           0.858567        0.000334          0.861724        0.000334\n",
       "50%           0.858713        0.000349          0.864082        0.000349\n",
       "75%           0.858816        0.000363          0.866887        0.000363\n",
       "max           0.858910        0.000531          0.868535        0.000531"
      ]
     },
     "execution_count": 165,
     "metadata": {},
     "output_type": "execute_result"
    }
   ],
   "source": [
    "desc = cvrf[['mean_test_score', 'std_test_score', 'mean_train_score', 'std_test_score']].describe() \n",
    "desc "
   ]
  },
  {
   "cell_type": "code",
   "execution_count": 166,
   "metadata": {},
   "outputs": [
    {
     "name": "stdout",
     "output_type": "stream",
     "text": [
      "\\begin{tabular}{lrrrr}\n",
      "\\toprule\n",
      "{} &  mean\\_test\\_score &  std\\_test\\_score &  mean\\_train\\_score &  std\\_test\\_score \\\\\n",
      "\\midrule\n",
      "count &       399.000000 &      399.000000 &        399.000000 &      399.000000 \\\\\n",
      "mean  &         0.858678 &        0.000348 &          0.864280 &        0.000348 \\\\\n",
      "std   &         0.000164 &        0.000028 &          0.002636 &        0.000028 \\\\\n",
      "min   &         0.858208 &        0.000262 &          0.860357 &        0.000262 \\\\\n",
      "25\\%   &         0.858567 &        0.000334 &          0.861724 &        0.000334 \\\\\n",
      "50\\%   &         0.858713 &        0.000349 &          0.864082 &        0.000349 \\\\\n",
      "75\\%   &         0.858816 &        0.000363 &          0.866887 &        0.000363 \\\\\n",
      "max   &         0.858910 &        0.000531 &          0.868535 &        0.000531 \\\\\n",
      "\\bottomrule\n",
      "\\end{tabular}\n",
      "\n"
     ]
    }
   ],
   "source": [
    "print(desc.to_latex()) "
   ]
  },
  {
   "cell_type": "code",
   "execution_count": 167,
   "metadata": {},
   "outputs": [],
   "source": [
    "rfgbu.index.name = '\\\\# estimators'\n",
    "rfgbu.columns.name = 'Max depth'\n",
    "rfgbus.index.name = '\\\\# estimators'\n",
    "rfgbus.columns.name = 'Max depth'"
   ]
  },
  {
   "cell_type": "code",
   "execution_count": 168,
   "metadata": {},
   "outputs": [
    {
     "data": {
      "image/png": "[encoded data removed]",
      "text/plain": [
       "<matplotlib.figure.Figure at 0x7f7172cc5748>"
      ]
     },
     "metadata": {},
     "output_type": "display_data"
    },
    {
     "data": {
      "image/png": "[encoded data removed]",
      "text/plain": [
       "<matplotlib.figure.Figure at 0x7f7174c9c7b8>"
      ]
     },
     "metadata": {},
     "output_type": "display_data"
    },
    {
     "data": {
      "image/png": "[encoded data removed]",
      "text/plain": [
       "<matplotlib.figure.Figure at 0x7f7172cbccc0>"
      ]
     },
     "metadata": {},
     "output_type": "display_data"
    }
   ],
   "source": [
    "with sns.axes_style('ticks'):\n",
    "    fig, ax = plt.subplots(figsize=[15, 6]) \n",
    "    sns.heatmap(rfgbu.T, cmap='inferno', vmin=0.74, vmax=0.86, ax=ax) \n",
    "    xticklabels = ['$' + el.get_text() + '$' for el in ax.get_xticklabels()]\n",
    "    yticklabels = ['$' + el.get_text() + '$' for el in ax.get_yticklabels()]\n",
    "    ax.set_xticklabels(xticklabels)\n",
    "    ax.set_yticklabels(yticklabels) \n",
    "    plt.tight_layout()\n",
    "    fig.savefig('figs/random_forest_fine_gridsearch_auc_test_mean.pdf')\n",
    "\n",
    "    fig, ax = plt.subplots(figsize=[15, 6]) \n",
    "    sns.heatmap(rfgbu.T, cmap='Greys_r', ax=ax) \n",
    "    xticklabels = ['$' + el.get_text() + '$' for el in ax.get_xticklabels()]\n",
    "    yticklabels = ['$' + el.get_text() + '$' for el in ax.get_yticklabels()]\n",
    "    ax.set_xticklabels(xticklabels)\n",
    "    ax.set_yticklabels(yticklabels)\n",
    "    plt.tight_layout()\n",
    "    fig.savefig('figs/random_forest_fine_gridsearch_auc_test_mean_nolimits.pdf')\n",
    "\n",
    "    fig, ax = plt.subplots(figsize=[15, 6]) \n",
    "    sns.heatmap(rfgbus.T, cmap='inferno', vmin=0.0, vmax=0.0015, ax=ax) \n",
    "    xticklabels = ['$' + el.get_text() + '$' for el in ax.get_xticklabels()]\n",
    "    yticklabels = ['$' + el.get_text() + '$' for el in ax.get_yticklabels()] \n",
    "    ax.set_xticklabels(xticklabels)\n",
    "    ax.set_yticklabels(yticklabels)\n",
    "    plt.tight_layout()\n",
    "    fig.savefig('figs/random_forest_fine_gridsearch_auc_test_std.pdf')"
   ]
  },
  {
   "cell_type": "code",
   "execution_count": 169,
   "metadata": {},
   "outputs": [
    {
     "data": {
      "text/plain": [
       "(0.8582084580453364, 0.8589099565292093)"
      ]
     },
     "execution_count": 169,
     "metadata": {},
     "output_type": "execute_result"
    }
   ],
   "source": [
    "rfgbu.values.min(), rfgbu.values.max()"
   ]
  },
  {
   "cell_type": "code",
   "execution_count": 143,
   "metadata": {},
   "outputs": [
    {
     "data": {
      "text/plain": [
       "{'rf__max_depth': 17, 'rf__n_estimators': 97}"
      ]
     },
     "execution_count": 143,
     "metadata": {},
     "output_type": "execute_result"
    }
   ],
   "source": [
    "rf.best_params_"
   ]
  },
  {
   "cell_type": "code",
   "execution_count": 144,
   "metadata": {},
   "outputs": [
    {
     "data": {
      "text/plain": [
       "{'rf__max_depth': array([13, 14, 15, 16, 17, 18, 19]),\n",
       " 'rf__n_estimators': array([43, 44, 45, 46, 47, 48, 49, 50, 51, 52, 53, 54, 55, 56, 57, 58, 59, 60, 61, 62, 63, 64, 65, 66, 67, 68, 69, 70, 71, 72, 73, 74, 75, 76,\n",
       "        77, 78, 79, 80, 81, 82, 83, 84, 85, 86, 87, 88, 89, 90, 91, 92, 93, 94, 95, 96, 97, 98, 99])}"
      ]
     },
     "execution_count": 144,
     "metadata": {},
     "output_type": "execute_result"
    }
   ],
   "source": [
    "rf.param_grid"
   ]
  },
  {
   "cell_type": "code",
   "execution_count": 145,
   "metadata": {},
   "outputs": [
    {
     "data": {
      "text/plain": [
       "0.8589099565292093"
      ]
     },
     "execution_count": 145,
     "metadata": {},
     "output_type": "execute_result"
    }
   ],
   "source": [
    "rf.best_score_"
   ]
  },
  {
   "cell_type": "code",
   "execution_count": 14,
   "metadata": {},
   "outputs": [
    {
     "data": {
      "text/plain": [
       "0.8582778421410656"
      ]
     },
     "execution_count": 14,
     "metadata": {},
     "output_type": "execute_result"
    }
   ],
   "source": [
    "rf.validation_auc_score"
   ]
  },
  {
   "cell_type": "markdown",
   "metadata": {},
   "source": [
    "# Examine CV result further"
   ]
  },
  {
   "cell_type": "code",
   "execution_count": 11,
   "metadata": {},
   "outputs": [],
   "source": [
    "sidx = cvr.mean_test_score.argsort()[::-1]\n",
    "\n",
    "mtes = cvr.mean_test_score[sidx]\n",
    "\n",
    "stes = cvr.std_test_score[sidx]"
   ]
  },
  {
   "cell_type": "code",
   "execution_count": 12,
   "metadata": {},
   "outputs": [
    {
     "data": {
      "image/png": "[encoded data removed]",
      "text/plain": [
       "<matplotlib.figure.Figure at 0x7f8afcec2b38>"
      ]
     },
     "metadata": {},
     "output_type": "display_data"
    }
   ],
   "source": [
    "fig, ax = plt.subplots()\n",
    "plotx = np.arange(len(mtes))\n",
    "every_n = 20\n",
    "ax.plot(plotx, mtes)\n",
    "# ax.errorbar(plotx[::every_n], mtes[::every_n], stes[::every_n], color=colorcycle[0])\n",
    "ax.fill_between(plotx, mtes+stes, mtes-stes, alpha=0.4)\n",
    "ax.set_xlabel(\"Fold number (sorted)\")\n",
    "ax.set_ylabel(r\"Mean test score\")\n",
    "ax.set_yticks(np.linspace(0, 1, 5))\n",
    "plt.tight_layout() \n",
    "fig.savefig(\"figs/usermovement_cv_mean_test_score.pdf\") "
   ]
  },
  {
   "cell_type": "code",
   "execution_count": 13,
   "metadata": {},
   "outputs": [
    {
     "data": {
      "image/png": "[encoded data removed]",
      "text/plain": [
       "<matplotlib.figure.Figure at 0x7f8af4279a20>"
      ]
     },
     "metadata": {},
     "output_type": "display_data"
    }
   ],
   "source": [
    "fig, ax = plt.subplots()\n",
    "plotx = np.arange(len(mtes))\n",
    "crop_n = 150\n",
    "every_n = 5\n",
    "ax.plot(plotx[:crop_n], mtes[:crop_n])\n",
    "# ax.errorbar(plotx[:crop_n][::every_n], mtes[:crop_n][::every_n], stes[:crop_n][::every_n], color=colorcycle[0])\n",
    "ax.fill_between(plotx[:crop_n], mtes[:crop_n]+stes[:crop_n], mtes[:crop_n]-stes[:crop_n], alpha=0.4)\n",
    "ax.set_xlabel(f\"Fold number (sorted, {crop_n} largest values)\")\n",
    "ax.set_ylabel(r\"Mean test score\")\n",
    "plt.tight_layout() \n",
    "fig.savefig(\"figs/usermovement_cv_mean_test_score_crop.pdf\") "
   ]
  },
  {
   "cell_type": "code",
   "execution_count": 14,
   "metadata": {},
   "outputs": [],
   "source": [
    "tmp = cvr.param_sgd__loss[sidx].reset_index(drop=True)"
   ]
  },
  {
   "cell_type": "code",
   "execution_count": 15,
   "metadata": {},
   "outputs": [
    {
     "data": {
      "text/plain": [
       "45"
      ]
     },
     "execution_count": 15,
     "metadata": {},
     "output_type": "execute_result"
    }
   ],
   "source": [
    "(tmp != 'log').argmax() "
   ]
  },
  {
   "cell_type": "markdown",
   "metadata": {},
   "source": [
    "The best 45 performers are logistic regressions"
   ]
  },
  {
   "cell_type": "code",
   "execution_count": 16,
   "metadata": {},
   "outputs": [
    {
     "data": {
      "text/html": [
       "<div>\n",
       "<style scoped>\n",
       "    .dataframe tbody tr th:only-of-type {\n",
       "        vertical-align: middle;\n",
       "    }\n",
       "\n",
       "    .dataframe tbody tr th {\n",
       "        vertical-align: top;\n",
       "    }\n",
       "\n",
       "    .dataframe thead th {\n",
       "        text-align: right;\n",
       "    }\n",
       "</style>\n",
       "<table border=\"1\" class=\"dataframe\">\n",
       "  <thead>\n",
       "    <tr style=\"text-align: right;\">\n",
       "      <th></th>\n",
       "      <th>sum</th>\n",
       "      <th>mean</th>\n",
       "      <th>median</th>\n",
       "    </tr>\n",
       "    <tr>\n",
       "      <th>param_sgd__loss</th>\n",
       "      <th></th>\n",
       "      <th></th>\n",
       "      <th></th>\n",
       "    </tr>\n",
       "  </thead>\n",
       "  <tbody>\n",
       "    <tr>\n",
       "      <th>hinge</th>\n",
       "      <td>343.056406</td>\n",
       "      <td>0.822677</td>\n",
       "      <td>0.827204</td>\n",
       "    </tr>\n",
       "    <tr>\n",
       "      <th>log</th>\n",
       "      <td>666.682124</td>\n",
       "      <td>0.831274</td>\n",
       "      <td>0.834956</td>\n",
       "    </tr>\n",
       "    <tr>\n",
       "      <th>modified_huber</th>\n",
       "      <td>645.592172</td>\n",
       "      <td>0.826622</td>\n",
       "      <td>0.827922</td>\n",
       "    </tr>\n",
       "  </tbody>\n",
       "</table>\n",
       "</div>"
      ],
      "text/plain": [
       "                        sum      mean    median\n",
       "param_sgd__loss                                \n",
       "hinge            343.056406  0.822677  0.827204\n",
       "log              666.682124  0.831274  0.834956\n",
       "modified_huber   645.592172  0.826622  0.827922"
      ]
     },
     "execution_count": 16,
     "metadata": {},
     "output_type": "execute_result"
    }
   ],
   "source": [
    "tmp = cvr[['param_sgd__loss', 'mean_test_score']].iloc[sidx[:2000]].reset_index(drop=True) \n",
    "\n",
    "tmp.groupby('param_sgd__loss').mean_test_score.agg(['sum', 'mean', 'median']) "
   ]
  },
  {
   "cell_type": "code",
   "execution_count": 17,
   "metadata": {},
   "outputs": [
    {
     "data": {
      "text/html": [
       "<div>\n",
       "<style scoped>\n",
       "    .dataframe tbody tr th:only-of-type {\n",
       "        vertical-align: middle;\n",
       "    }\n",
       "\n",
       "    .dataframe tbody tr th {\n",
       "        vertical-align: top;\n",
       "    }\n",
       "\n",
       "    .dataframe thead th {\n",
       "        text-align: right;\n",
       "    }\n",
       "</style>\n",
       "<table border=\"1\" class=\"dataframe\">\n",
       "  <thead>\n",
       "    <tr style=\"text-align: right;\">\n",
       "      <th></th>\n",
       "      <th>sum</th>\n",
       "      <th>mean</th>\n",
       "      <th>median</th>\n",
       "      <th>std</th>\n",
       "    </tr>\n",
       "    <tr>\n",
       "      <th>param_sgd__loss</th>\n",
       "      <th></th>\n",
       "      <th></th>\n",
       "      <th></th>\n",
       "      <th></th>\n",
       "    </tr>\n",
       "  </thead>\n",
       "  <tbody>\n",
       "    <tr>\n",
       "      <th>hinge</th>\n",
       "      <td>636.512151</td>\n",
       "      <td>0.765039</td>\n",
       "      <td>0.788965</td>\n",
       "      <td>0.088548</td>\n",
       "    </tr>\n",
       "    <tr>\n",
       "      <th>log</th>\n",
       "      <td>686.403674</td>\n",
       "      <td>0.825004</td>\n",
       "      <td>0.834271</td>\n",
       "      <td>0.045438</td>\n",
       "    </tr>\n",
       "    <tr>\n",
       "      <th>modified_huber</th>\n",
       "      <td>685.057552</td>\n",
       "      <td>0.823386</td>\n",
       "      <td>0.826408</td>\n",
       "      <td>0.022660</td>\n",
       "    </tr>\n",
       "  </tbody>\n",
       "</table>\n",
       "</div>"
      ],
      "text/plain": [
       "                        sum      mean    median       std\n",
       "param_sgd__loss                                          \n",
       "hinge            636.512151  0.765039  0.788965  0.088548\n",
       "log              686.403674  0.825004  0.834271  0.045438\n",
       "modified_huber   685.057552  0.823386  0.826408  0.022660"
      ]
     },
     "metadata": {},
     "output_type": "display_data"
    },
    {
     "name": "stdout",
     "output_type": "stream",
     "text": [
      "\\begin{tabular}{lrrrr}\n",
      "\\toprule\n",
      "{} &         sum &      mean &    median &       std \\\\\n",
      "param\\_sgd\\_\\_loss &             &           &           &           \\\\\n",
      "\\midrule\n",
      "hinge           &  636.512151 &  0.765039 &  0.788965 &  0.088548 \\\\\n",
      "log             &  686.403674 &  0.825004 &  0.834271 &  0.045438 \\\\\n",
      "modified\\_huber  &  685.057552 &  0.823386 &  0.826408 &  0.022660 \\\\\n",
      "\\bottomrule\n",
      "\\end{tabular}\n",
      "\n"
     ]
    }
   ],
   "source": [
    "to_report = cvr.groupby('param_sgd__loss').mean_test_score.agg(['sum', 'mean', 'median', 'std']) \n",
    "disp(to_report)\n",
    "print(to_report.to_latex()) "
   ]
  },
  {
   "cell_type": "code",
   "execution_count": 18,
   "metadata": {},
   "outputs": [
    {
     "data": {
      "text/html": [
       "<div>\n",
       "<style scoped>\n",
       "    .dataframe tbody tr th:only-of-type {\n",
       "        vertical-align: middle;\n",
       "    }\n",
       "\n",
       "    .dataframe tbody tr th {\n",
       "        vertical-align: top;\n",
       "    }\n",
       "\n",
       "    .dataframe thead th {\n",
       "        text-align: right;\n",
       "    }\n",
       "</style>\n",
       "<table border=\"1\" class=\"dataframe\">\n",
       "  <thead>\n",
       "    <tr style=\"text-align: right;\">\n",
       "      <th></th>\n",
       "      <th>sum</th>\n",
       "      <th>mean</th>\n",
       "      <th>median</th>\n",
       "      <th>std</th>\n",
       "    </tr>\n",
       "    <tr>\n",
       "      <th>param_sgd__loss</th>\n",
       "      <th></th>\n",
       "      <th></th>\n",
       "      <th></th>\n",
       "      <th></th>\n",
       "    </tr>\n",
       "  </thead>\n",
       "  <tbody>\n",
       "    <tr>\n",
       "      <th>log</th>\n",
       "      <td>75.705055</td>\n",
       "      <td>0.850619</td>\n",
       "      <td>0.850632</td>\n",
       "      <td>0.000284</td>\n",
       "    </tr>\n",
       "    <tr>\n",
       "      <th>modified_huber</th>\n",
       "      <td>51.868488</td>\n",
       "      <td>0.850303</td>\n",
       "      <td>0.850299</td>\n",
       "      <td>0.000169</td>\n",
       "    </tr>\n",
       "  </tbody>\n",
       "</table>\n",
       "</div>"
      ],
      "text/plain": [
       "                       sum      mean    median       std\n",
       "param_sgd__loss                                         \n",
       "log              75.705055  0.850619  0.850632  0.000284\n",
       "modified_huber   51.868488  0.850303  0.850299  0.000169"
      ]
     },
     "metadata": {},
     "output_type": "display_data"
    },
    {
     "name": "stdout",
     "output_type": "stream",
     "text": [
      "\\begin{tabular}{lrrrr}\n",
      "\\toprule\n",
      "{} &        sum &      mean &    median &       std \\\\\n",
      "param\\_sgd\\_\\_loss &            &           &           &           \\\\\n",
      "\\midrule\n",
      "log             &  75.705055 &  0.850619 &  0.850632 &  0.000284 \\\\\n",
      "modified\\_huber  &  51.868488 &  0.850303 &  0.850299 &  0.000169 \\\\\n",
      "\\bottomrule\n",
      "\\end{tabular}\n",
      "\n"
     ]
    }
   ],
   "source": [
    "tmp = cvr[['param_sgd__loss', 'mean_test_score']].iloc[sidx[:150]].reset_index(drop=True) \n",
    "\n",
    "to_report = tmp.groupby('param_sgd__loss').mean_test_score.agg(['sum', 'mean', 'median', 'std']) \n",
    "disp(to_report)\n",
    "print(to_report.to_latex()) "
   ]
  },
  {
   "cell_type": "code",
   "execution_count": 19,
   "metadata": {},
   "outputs": [],
   "source": [
    "tmp = cvr[['param_sgd__loss', 'mean_test_score']]\n",
    "tmp = tmp.rename(columns={'param_sgd__loss': 'Loss function', 'mean_test_score': 'Mean AUC test score'})\n",
    "tmp['Loss function'] = tmp['Loss function'].str.replace('_', ' ')\n",
    "tmp['Loss function'] = tmp['Loss function'].str.title() \n",
    "tmp['Loss function'] = tmp['Loss function'].str.replace('Log', 'Logistic Reg.') "
   ]
  },
  {
   "cell_type": "code",
   "execution_count": 20,
   "metadata": {},
   "outputs": [
    {
     "data": {
      "image/png": "[encoded data removed]",
      "text/plain": [
       "<matplotlib.figure.Figure at 0x7f8af3aa4c18>"
      ]
     },
     "metadata": {},
     "output_type": "display_data"
    },
    {
     "data": {
      "image/png": "[encoded data removed]",
      "text/plain": [
       "<matplotlib.figure.Figure at 0x7f8afc8cc2e8>"
      ]
     },
     "metadata": {},
     "output_type": "display_data"
    }
   ],
   "source": [
    "fig, ax = plt.subplots()\n",
    "sns.violinplot(data=tmp, x='Loss function', y='Mean AUC test score', inner='quartile')\n",
    "ax.set_yticks(np.linspace(0, 1, 5))\n",
    "plt.tight_layout() \n",
    "fig.savefig('figs/sgd_coarse_cv_result_all_values_violinplot.pdf')\n",
    "\n",
    "fig, ax = plt.subplots()\n",
    "sns.boxplot(data=tmp, x='Loss function', y='Mean AUC test score') \n",
    "ax.set_yticks(np.linspace(0, 1, 5)) \n",
    "plt.tight_layout()  \n",
    "fig.savefig('figs/sgd_coarse_cv_result_all_values_boxplot.pdf')"
   ]
  },
  {
   "cell_type": "code",
   "execution_count": 25,
   "metadata": {
    "scrolled": false
   },
   "outputs": [
    {
     "ename": "TypeError",
     "evalue": "fill_between() missing 2 required positional arguments: 'x' and 'y1'",
     "output_type": "error",
     "traceback": [
      "\u001b[0;31m---------------------------------------------------------------------------\u001b[0m",
      "\u001b[0;31mTypeError\u001b[0m                                 Traceback (most recent call last)",
      "\u001b[0;32m<ipython-input-25-fbc75e973efb>\u001b[0m in \u001b[0;36m<module>\u001b[0;34m()\u001b[0m\n\u001b[1;32m      8\u001b[0m \u001b[0max\u001b[0m\u001b[0;34m.\u001b[0m\u001b[0mset_ylabel\u001b[0m\u001b[0;34m(\u001b[0m\u001b[0;34m\"Mean AUC test score\"\u001b[0m\u001b[0;34m)\u001b[0m\u001b[0;34m\u001b[0m\u001b[0m\n\u001b[1;32m      9\u001b[0m \u001b[0;32mfor\u001b[0m \u001b[0mi\u001b[0m \u001b[0;32min\u001b[0m \u001b[0mrange\u001b[0m\u001b[0;34m(\u001b[0m\u001b[0;36m3\u001b[0m\u001b[0;34m)\u001b[0m\u001b[0;34m:\u001b[0m\u001b[0;34m\u001b[0m\u001b[0m\n\u001b[0;32m---> 10\u001b[0;31m     \u001b[0max\u001b[0m\u001b[0;34m.\u001b[0m\u001b[0mfill_between\u001b[0m\u001b[0;34m(\u001b[0m\u001b[0;34m)\u001b[0m\u001b[0;34m\u001b[0m\u001b[0m\n\u001b[0m",
      "\u001b[0;32m/lscr_paper/allan/miniconda3/envs/py36up/lib/python3.6/site-packages/matplotlib/__init__.py\u001b[0m in \u001b[0;36minner\u001b[0;34m(ax, *args, **kwargs)\u001b[0m\n\u001b[1;32m   1715\u001b[0m                     warnings.warn(msg % (label_namer, func.__name__),\n\u001b[1;32m   1716\u001b[0m                                   RuntimeWarning, stacklevel=2)\n\u001b[0;32m-> 1717\u001b[0;31m             \u001b[0;32mreturn\u001b[0m \u001b[0mfunc\u001b[0m\u001b[0;34m(\u001b[0m\u001b[0max\u001b[0m\u001b[0;34m,\u001b[0m \u001b[0;34m*\u001b[0m\u001b[0margs\u001b[0m\u001b[0;34m,\u001b[0m \u001b[0;34m**\u001b[0m\u001b[0mkwargs\u001b[0m\u001b[0;34m)\u001b[0m\u001b[0;34m\u001b[0m\u001b[0m\n\u001b[0m\u001b[1;32m   1718\u001b[0m         \u001b[0mpre_doc\u001b[0m \u001b[0;34m=\u001b[0m \u001b[0minner\u001b[0m\u001b[0;34m.\u001b[0m\u001b[0m__doc__\u001b[0m\u001b[0;34m\u001b[0m\u001b[0m\n\u001b[1;32m   1719\u001b[0m         \u001b[0;32mif\u001b[0m \u001b[0mpre_doc\u001b[0m \u001b[0;32mis\u001b[0m \u001b[0;32mNone\u001b[0m\u001b[0;34m:\u001b[0m\u001b[0;34m\u001b[0m\u001b[0m\n",
      "\u001b[0;31mTypeError\u001b[0m: fill_between() missing 2 required positional arguments: 'x' and 'y1'"
     ]
    },
    {
     "data": {
      "image/png": "[encoded data removed]",
      "text/plain": [
       "<matplotlib.figure.Figure at 0x7f8af3ed3a20>"
      ]
     },
     "metadata": {},
     "output_type": "display_data"
    }
   ],
   "source": [
    "cvr2 = cvr.rename(columns=misc.snake2word(cvr.columns), index=misc.snake2word(cvr.index)) \n",
    "cvr2['param sgd loss'] = cvr2['param sgd loss'].str.replace('_', ' ').str.title() \n",
    "cvr2 = cvr2.rename(columns={'param sgd loss': 'Loss function'})\n",
    "\n",
    "fig, ax = plt.subplots()\n",
    "# sns.lineplot(data=cvr2, x='param pca n components', y='mean test score', hue='Loss function', ci=None)\n",
    "\n",
    "ax.set_xlabel(\"PCA components\")\n",
    "ax.set_ylabel(\"Mean AUC test score\")\n",
    "for i in range(3):\n",
    "    ax.fill_between()"
   ]
  },
  {
   "cell_type": "code",
   "execution_count": 253,
   "metadata": {},
   "outputs": [
    {
     "data": {
      "text/html": [
       "<div>\n",
       "<style scoped>\n",
       "    .dataframe tbody tr th:only-of-type {\n",
       "        vertical-align: middle;\n",
       "    }\n",
       "\n",
       "    .dataframe tbody tr th {\n",
       "        vertical-align: top;\n",
       "    }\n",
       "\n",
       "    .dataframe thead tr th {\n",
       "        text-align: left;\n",
       "    }\n",
       "\n",
       "    .dataframe thead tr:last-of-type th {\n",
       "        text-align: right;\n",
       "    }\n",
       "</style>\n",
       "<table border=\"1\" class=\"dataframe\">\n",
       "  <thead>\n",
       "    <tr>\n",
       "      <th></th>\n",
       "      <th colspan=\"2\" halign=\"left\">_mean</th>\n",
       "      <th colspan=\"2\" halign=\"left\">_std</th>\n",
       "    </tr>\n",
       "    <tr>\n",
       "      <th></th>\n",
       "      <th>mean_test_score</th>\n",
       "      <th>std_test_score</th>\n",
       "      <th>mean_test_score</th>\n",
       "      <th>std_test_score</th>\n",
       "    </tr>\n",
       "    <tr>\n",
       "      <th>param_pca__n_components</th>\n",
       "      <th></th>\n",
       "      <th></th>\n",
       "      <th></th>\n",
       "      <th></th>\n",
       "    </tr>\n",
       "  </thead>\n",
       "  <tbody>\n",
       "    <tr>\n",
       "      <th>2</th>\n",
       "      <td>0.758421</td>\n",
       "      <td>0.020070</td>\n",
       "      <td>10.589746</td>\n",
       "      <td>0.807158</td>\n",
       "    </tr>\n",
       "    <tr>\n",
       "      <th>3</th>\n",
       "      <td>0.757893</td>\n",
       "      <td>0.022753</td>\n",
       "      <td>10.571943</td>\n",
       "      <td>0.795051</td>\n",
       "    </tr>\n",
       "    <tr>\n",
       "      <th>4</th>\n",
       "      <td>0.788755</td>\n",
       "      <td>0.013527</td>\n",
       "      <td>10.979399</td>\n",
       "      <td>0.515451</td>\n",
       "    </tr>\n",
       "    <tr>\n",
       "      <th>5</th>\n",
       "      <td>0.808232</td>\n",
       "      <td>0.011043</td>\n",
       "      <td>11.223731</td>\n",
       "      <td>0.440996</td>\n",
       "    </tr>\n",
       "    <tr>\n",
       "      <th>6</th>\n",
       "      <td>0.808079</td>\n",
       "      <td>0.010204</td>\n",
       "      <td>11.224140</td>\n",
       "      <td>0.384570</td>\n",
       "    </tr>\n",
       "    <tr>\n",
       "      <th>9</th>\n",
       "      <td>0.815492</td>\n",
       "      <td>0.004032</td>\n",
       "      <td>11.316130</td>\n",
       "      <td>0.160375</td>\n",
       "    </tr>\n",
       "    <tr>\n",
       "      <th>12</th>\n",
       "      <td>0.814435</td>\n",
       "      <td>0.004577</td>\n",
       "      <td>11.302891</td>\n",
       "      <td>0.156555</td>\n",
       "    </tr>\n",
       "    <tr>\n",
       "      <th>16</th>\n",
       "      <td>0.818269</td>\n",
       "      <td>0.004328</td>\n",
       "      <td>11.354973</td>\n",
       "      <td>0.194554</td>\n",
       "    </tr>\n",
       "    <tr>\n",
       "      <th>23</th>\n",
       "      <td>0.819062</td>\n",
       "      <td>0.005265</td>\n",
       "      <td>11.372621</td>\n",
       "      <td>0.184275</td>\n",
       "    </tr>\n",
       "    <tr>\n",
       "      <th>27</th>\n",
       "      <td>0.818033</td>\n",
       "      <td>0.004634</td>\n",
       "      <td>11.361015</td>\n",
       "      <td>0.133509</td>\n",
       "    </tr>\n",
       "    <tr>\n",
       "      <th>30</th>\n",
       "      <td>0.817274</td>\n",
       "      <td>0.004799</td>\n",
       "      <td>11.350685</td>\n",
       "      <td>0.149826</td>\n",
       "    </tr>\n",
       "    <tr>\n",
       "      <th>31</th>\n",
       "      <td>0.817479</td>\n",
       "      <td>0.005321</td>\n",
       "      <td>11.352807</td>\n",
       "      <td>0.159094</td>\n",
       "    </tr>\n",
       "    <tr>\n",
       "      <th>32</th>\n",
       "      <td>0.816771</td>\n",
       "      <td>0.005110</td>\n",
       "      <td>11.343690</td>\n",
       "      <td>0.160690</td>\n",
       "    </tr>\n",
       "  </tbody>\n",
       "</table>\n",
       "</div>"
      ],
      "text/plain": [
       "                                  _mean                           _std               \n",
       "                        mean_test_score std_test_score mean_test_score std_test_score\n",
       "param_pca__n_components                                                              \n",
       "2                              0.758421       0.020070       10.589746       0.807158\n",
       "3                              0.757893       0.022753       10.571943       0.795051\n",
       "4                              0.788755       0.013527       10.979399       0.515451\n",
       "5                              0.808232       0.011043       11.223731       0.440996\n",
       "6                              0.808079       0.010204       11.224140       0.384570\n",
       "9                              0.815492       0.004032       11.316130       0.160375\n",
       "12                             0.814435       0.004577       11.302891       0.156555\n",
       "16                             0.818269       0.004328       11.354973       0.194554\n",
       "23                             0.819062       0.005265       11.372621       0.184275\n",
       "27                             0.818033       0.004634       11.361015       0.133509\n",
       "30                             0.817274       0.004799       11.350685       0.149826\n",
       "31                             0.817479       0.005321       11.352807       0.159094\n",
       "32                             0.816771       0.005110       11.343690       0.160690"
      ]
     },
     "execution_count": 253,
     "metadata": {},
     "output_type": "execute_result"
    }
   ],
   "source": [
    "cvr.groupby('param_pca__n_components')[['mean_test_score', 'std_test_score']].agg(\n",
    "    {'_mean': 'mean',\n",
    "     '_std': np.linalg.norm}) "
   ]
  },
  {
   "cell_type": "code",
   "execution_count": 240,
   "metadata": {},
   "outputs": [
    {
     "data": {
      "text/html": [
       "<div>\n",
       "<style scoped>\n",
       "    .dataframe tbody tr th:only-of-type {\n",
       "        vertical-align: middle;\n",
       "    }\n",
       "\n",
       "    .dataframe tbody tr th {\n",
       "        vertical-align: top;\n",
       "    }\n",
       "\n",
       "    .dataframe thead th {\n",
       "        text-align: right;\n",
       "    }\n",
       "</style>\n",
       "<table border=\"1\" class=\"dataframe\">\n",
       "  <thead>\n",
       "    <tr style=\"text-align: right;\">\n",
       "      <th></th>\n",
       "      <th>mean</th>\n",
       "      <th>median</th>\n",
       "      <th>std</th>\n",
       "      <th>&lt;lambda&gt;</th>\n",
       "    </tr>\n",
       "    <tr>\n",
       "      <th>param_pca__n_components</th>\n",
       "      <th></th>\n",
       "      <th></th>\n",
       "      <th></th>\n",
       "      <th></th>\n",
       "    </tr>\n",
       "  </thead>\n",
       "  <tbody>\n",
       "    <tr>\n",
       "      <th>2</th>\n",
       "      <td>0.758421</td>\n",
       "      <td>0.792700</td>\n",
       "      <td>0.094448</td>\n",
       "      <td>0.758421</td>\n",
       "    </tr>\n",
       "    <tr>\n",
       "      <th>3</th>\n",
       "      <td>0.757893</td>\n",
       "      <td>0.793695</td>\n",
       "      <td>0.088052</td>\n",
       "      <td>0.757893</td>\n",
       "    </tr>\n",
       "    <tr>\n",
       "      <th>4</th>\n",
       "      <td>0.788755</td>\n",
       "      <td>0.817604</td>\n",
       "      <td>0.075804</td>\n",
       "      <td>0.788755</td>\n",
       "    </tr>\n",
       "    <tr>\n",
       "      <th>5</th>\n",
       "      <td>0.808232</td>\n",
       "      <td>0.826604</td>\n",
       "      <td>0.053668</td>\n",
       "      <td>0.808232</td>\n",
       "    </tr>\n",
       "    <tr>\n",
       "      <th>6</th>\n",
       "      <td>0.808079</td>\n",
       "      <td>0.827134</td>\n",
       "      <td>0.056368</td>\n",
       "      <td>0.808079</td>\n",
       "    </tr>\n",
       "    <tr>\n",
       "      <th>9</th>\n",
       "      <td>0.815492</td>\n",
       "      <td>0.827754</td>\n",
       "      <td>0.043996</td>\n",
       "      <td>0.815492</td>\n",
       "    </tr>\n",
       "    <tr>\n",
       "      <th>12</th>\n",
       "      <td>0.814435</td>\n",
       "      <td>0.828311</td>\n",
       "      <td>0.045821</td>\n",
       "      <td>0.814435</td>\n",
       "    </tr>\n",
       "    <tr>\n",
       "      <th>16</th>\n",
       "      <td>0.818269</td>\n",
       "      <td>0.832193</td>\n",
       "      <td>0.044552</td>\n",
       "      <td>0.818269</td>\n",
       "    </tr>\n",
       "    <tr>\n",
       "      <th>23</th>\n",
       "      <td>0.819062</td>\n",
       "      <td>0.839141</td>\n",
       "      <td>0.052726</td>\n",
       "      <td>0.819062</td>\n",
       "    </tr>\n",
       "    <tr>\n",
       "      <th>27</th>\n",
       "      <td>0.818033</td>\n",
       "      <td>0.838324</td>\n",
       "      <td>0.055598</td>\n",
       "      <td>0.818033</td>\n",
       "    </tr>\n",
       "    <tr>\n",
       "      <th>30</th>\n",
       "      <td>0.817274</td>\n",
       "      <td>0.838364</td>\n",
       "      <td>0.055776</td>\n",
       "      <td>0.817274</td>\n",
       "    </tr>\n",
       "    <tr>\n",
       "      <th>31</th>\n",
       "      <td>0.817479</td>\n",
       "      <td>0.838141</td>\n",
       "      <td>0.055008</td>\n",
       "      <td>0.817479</td>\n",
       "    </tr>\n",
       "    <tr>\n",
       "      <th>32</th>\n",
       "      <td>0.816771</td>\n",
       "      <td>0.838162</td>\n",
       "      <td>0.055730</td>\n",
       "      <td>0.816771</td>\n",
       "    </tr>\n",
       "  </tbody>\n",
       "</table>\n",
       "</div>"
      ],
      "text/plain": [
       "                             mean    median       std  <lambda>\n",
       "param_pca__n_components                                        \n",
       "2                        0.758421  0.792700  0.094448  0.758421\n",
       "3                        0.757893  0.793695  0.088052  0.757893\n",
       "4                        0.788755  0.817604  0.075804  0.788755\n",
       "5                        0.808232  0.826604  0.053668  0.808232\n",
       "6                        0.808079  0.827134  0.056368  0.808079\n",
       "9                        0.815492  0.827754  0.043996  0.815492\n",
       "12                       0.814435  0.828311  0.045821  0.814435\n",
       "16                       0.818269  0.832193  0.044552  0.818269\n",
       "23                       0.819062  0.839141  0.052726  0.819062\n",
       "27                       0.818033  0.838324  0.055598  0.818033\n",
       "30                       0.817274  0.838364  0.055776  0.817274\n",
       "31                       0.817479  0.838141  0.055008  0.817479\n",
       "32                       0.816771  0.838162  0.055730  0.816771"
      ]
     },
     "execution_count": 240,
     "metadata": {},
     "output_type": "execute_result"
    }
   ],
   "source": [
    "cvr.groupby('param_pca__n_components').mean_test_score.agg(['mean', 'median', 'std', lambda x: x.mean()])"
   ]
  },
  {
   "cell_type": "code",
   "execution_count": null,
   "metadata": {},
   "outputs": [],
   "source": []
  },
  {
   "cell_type": "code",
   "execution_count": null,
   "metadata": {},
   "outputs": [],
   "source": []
  },
  {
   "cell_type": "code",
   "execution_count": null,
   "metadata": {},
   "outputs": [],
   "source": []
  },
  {
   "cell_type": "code",
   "execution_count": null,
   "metadata": {},
   "outputs": [],
   "source": []
  },
  {
   "cell_type": "code",
   "execution_count": null,
   "metadata": {},
   "outputs": [],
   "source": []
  },
  {
   "cell_type": "markdown",
   "metadata": {},
   "source": [
    "Just like the table of mean scores, make the matrix with standard deviations"
   ]
  },
  {
   "cell_type": "markdown",
   "metadata": {},
   "source": [
    "# Combining the data differently\n",
    "\n",
    "* I can simply group by quarter, and take the average, which still retains a lot of the information.\n",
    "* I can use Median to maintain the binary nature of the data... how is ties resolved?\n",
    "* I can remove the 0\n",
    "* I can impute them using... median? MCMC?\n",
    "* I can combine quarters on an hourly basis\n",
    "* I can combine pr. channel, in the same way I combined on quarters, but this throws away some temporal information!"
   ]
  },
  {
   "cell_type": "markdown",
   "metadata": {},
   "source": [
    "## Other ideas\n",
    "\n",
    "Do HDB-scan and t-sne on data"
   ]
  },
  {
   "cell_type": "code",
   "execution_count": 42,
   "metadata": {},
   "outputs": [
    {
     "data": {
      "text/html": [
       "<div>\n",
       "<style scoped>\n",
       "    .dataframe tbody tr th:only-of-type {\n",
       "        vertical-align: middle;\n",
       "    }\n",
       "\n",
       "    .dataframe tbody tr th {\n",
       "        vertical-align: top;\n",
       "    }\n",
       "\n",
       "    .dataframe thead th {\n",
       "        text-align: right;\n",
       "    }\n",
       "</style>\n",
       "<table border=\"1\" class=\"dataframe\">\n",
       "  <thead>\n",
       "    <tr style=\"text-align: right;\">\n",
       "      <th></th>\n",
       "      <th>c1</th>\n",
       "      <th>c2</th>\n",
       "      <th>c3</th>\n",
       "      <th>c4</th>\n",
       "      <th>c5</th>\n",
       "      <th>c6</th>\n",
       "      <th>c7</th>\n",
       "      <th>c8</th>\n",
       "      <th>s1</th>\n",
       "      <th>s2</th>\n",
       "      <th>...</th>\n",
       "      <th>g7</th>\n",
       "      <th>g8</th>\n",
       "      <th>b1</th>\n",
       "      <th>b2</th>\n",
       "      <th>b3</th>\n",
       "      <th>b4</th>\n",
       "      <th>b5</th>\n",
       "      <th>b6</th>\n",
       "      <th>b7</th>\n",
       "      <th>b8</th>\n",
       "    </tr>\n",
       "  </thead>\n",
       "  <tbody>\n",
       "    <tr>\n",
       "      <th>0</th>\n",
       "      <td>-1</td>\n",
       "      <td>-1</td>\n",
       "      <td>-1</td>\n",
       "      <td>1</td>\n",
       "      <td>-1</td>\n",
       "      <td>-1</td>\n",
       "      <td>1</td>\n",
       "      <td>-1</td>\n",
       "      <td>-1</td>\n",
       "      <td>-1</td>\n",
       "      <td>...</td>\n",
       "      <td>-1</td>\n",
       "      <td>-1</td>\n",
       "      <td>-1</td>\n",
       "      <td>-1</td>\n",
       "      <td>-1</td>\n",
       "      <td>-1</td>\n",
       "      <td>-1</td>\n",
       "      <td>-1</td>\n",
       "      <td>-1</td>\n",
       "      <td>-1</td>\n",
       "    </tr>\n",
       "    <tr>\n",
       "      <th>1</th>\n",
       "      <td>-1</td>\n",
       "      <td>-1</td>\n",
       "      <td>-1</td>\n",
       "      <td>1</td>\n",
       "      <td>-1</td>\n",
       "      <td>-1</td>\n",
       "      <td>-1</td>\n",
       "      <td>1</td>\n",
       "      <td>-1</td>\n",
       "      <td>-1</td>\n",
       "      <td>...</td>\n",
       "      <td>-1</td>\n",
       "      <td>-1</td>\n",
       "      <td>-1</td>\n",
       "      <td>-1</td>\n",
       "      <td>-1</td>\n",
       "      <td>-1</td>\n",
       "      <td>-1</td>\n",
       "      <td>-1</td>\n",
       "      <td>-1</td>\n",
       "      <td>-1</td>\n",
       "    </tr>\n",
       "    <tr>\n",
       "      <th>2</th>\n",
       "      <td>-1</td>\n",
       "      <td>-1</td>\n",
       "      <td>-1</td>\n",
       "      <td>-1</td>\n",
       "      <td>-1</td>\n",
       "      <td>-1</td>\n",
       "      <td>-1</td>\n",
       "      <td>-1</td>\n",
       "      <td>-1</td>\n",
       "      <td>-1</td>\n",
       "      <td>...</td>\n",
       "      <td>1</td>\n",
       "      <td>-1</td>\n",
       "      <td>-1</td>\n",
       "      <td>-1</td>\n",
       "      <td>1</td>\n",
       "      <td>-1</td>\n",
       "      <td>-1</td>\n",
       "      <td>-1</td>\n",
       "      <td>-1</td>\n",
       "      <td>1</td>\n",
       "    </tr>\n",
       "    <tr>\n",
       "      <th>3</th>\n",
       "      <td>-1</td>\n",
       "      <td>-1</td>\n",
       "      <td>-1</td>\n",
       "      <td>-1</td>\n",
       "      <td>-1</td>\n",
       "      <td>-1</td>\n",
       "      <td>-1</td>\n",
       "      <td>-1</td>\n",
       "      <td>-1</td>\n",
       "      <td>-1</td>\n",
       "      <td>...</td>\n",
       "      <td>-1</td>\n",
       "      <td>-1</td>\n",
       "      <td>-1</td>\n",
       "      <td>-1</td>\n",
       "      <td>-1</td>\n",
       "      <td>-1</td>\n",
       "      <td>-1</td>\n",
       "      <td>-1</td>\n",
       "      <td>-1</td>\n",
       "      <td>-1</td>\n",
       "    </tr>\n",
       "    <tr>\n",
       "      <th>4</th>\n",
       "      <td>-1</td>\n",
       "      <td>-1</td>\n",
       "      <td>-1</td>\n",
       "      <td>-1</td>\n",
       "      <td>-1</td>\n",
       "      <td>-1</td>\n",
       "      <td>-1</td>\n",
       "      <td>-1</td>\n",
       "      <td>1</td>\n",
       "      <td>-1</td>\n",
       "      <td>...</td>\n",
       "      <td>-1</td>\n",
       "      <td>-1</td>\n",
       "      <td>-1</td>\n",
       "      <td>-1</td>\n",
       "      <td>1</td>\n",
       "      <td>-1</td>\n",
       "      <td>-1</td>\n",
       "      <td>-1</td>\n",
       "      <td>-1</td>\n",
       "      <td>-1</td>\n",
       "    </tr>\n",
       "  </tbody>\n",
       "</table>\n",
       "<p>5 rows × 32 columns</p>\n",
       "</div>"
      ],
      "text/plain": [
       "   c1  c2  c3  c4  c5  c6  c7  c8  s1  s2 ...  g7  g8  b1  b2  b3  b4  b5  b6  b7  b8\n",
       "0  -1  -1  -1   1  -1  -1   1  -1  -1  -1 ...  -1  -1  -1  -1  -1  -1  -1  -1  -1  -1\n",
       "1  -1  -1  -1   1  -1  -1  -1   1  -1  -1 ...  -1  -1  -1  -1  -1  -1  -1  -1  -1  -1\n",
       "2  -1  -1  -1  -1  -1  -1  -1  -1  -1  -1 ...   1  -1  -1  -1   1  -1  -1  -1  -1   1\n",
       "3  -1  -1  -1  -1  -1  -1  -1  -1  -1  -1 ...  -1  -1  -1  -1  -1  -1  -1  -1  -1  -1\n",
       "4  -1  -1  -1  -1  -1  -1  -1  -1   1  -1 ...  -1  -1  -1  -1   1  -1  -1  -1  -1  -1\n",
       "\n",
       "[5 rows x 32 columns]"
      ]
     },
     "execution_count": 42,
     "metadata": {},
     "output_type": "execute_result"
    }
   ],
   "source": [
    "df = pd.DataFrame(x, columns=[f\"{c}{q}\" for c in 'csgb' for q in range(1, 9)]) \n",
    "df.head() "
   ]
  },
  {
   "cell_type": "code",
   "execution_count": 43,
   "metadata": {},
   "outputs": [],
   "source": [
    "cmb = df.groupby(df.columns.str[-1], axis=1).mean()"
   ]
  },
  {
   "cell_type": "code",
   "execution_count": 44,
   "metadata": {},
   "outputs": [
    {
     "data": {
      "text/html": [
       "<div>\n",
       "<style scoped>\n",
       "    .dataframe tbody tr th:only-of-type {\n",
       "        vertical-align: middle;\n",
       "    }\n",
       "\n",
       "    .dataframe tbody tr th {\n",
       "        vertical-align: top;\n",
       "    }\n",
       "\n",
       "    .dataframe thead th {\n",
       "        text-align: right;\n",
       "    }\n",
       "</style>\n",
       "<table border=\"1\" class=\"dataframe\">\n",
       "  <thead>\n",
       "    <tr style=\"text-align: right;\">\n",
       "      <th></th>\n",
       "      <th>1</th>\n",
       "      <th>2</th>\n",
       "      <th>3</th>\n",
       "      <th>4</th>\n",
       "      <th>5</th>\n",
       "      <th>6</th>\n",
       "      <th>7</th>\n",
       "      <th>8</th>\n",
       "    </tr>\n",
       "  </thead>\n",
       "  <tbody>\n",
       "    <tr>\n",
       "      <th>0</th>\n",
       "      <td>-1.0</td>\n",
       "      <td>-1.0</td>\n",
       "      <td>-0.5</td>\n",
       "      <td>-0.5</td>\n",
       "      <td>-1.0</td>\n",
       "      <td>-1.0</td>\n",
       "      <td>-0.5</td>\n",
       "      <td>-1.0</td>\n",
       "    </tr>\n",
       "    <tr>\n",
       "      <th>1</th>\n",
       "      <td>-1.0</td>\n",
       "      <td>-1.0</td>\n",
       "      <td>-1.0</td>\n",
       "      <td>0.5</td>\n",
       "      <td>-0.5</td>\n",
       "      <td>-1.0</td>\n",
       "      <td>-1.0</td>\n",
       "      <td>0.0</td>\n",
       "    </tr>\n",
       "    <tr>\n",
       "      <th>2</th>\n",
       "      <td>-1.0</td>\n",
       "      <td>-1.0</td>\n",
       "      <td>-0.5</td>\n",
       "      <td>-1.0</td>\n",
       "      <td>-1.0</td>\n",
       "      <td>-0.5</td>\n",
       "      <td>-0.5</td>\n",
       "      <td>-0.5</td>\n",
       "    </tr>\n",
       "    <tr>\n",
       "      <th>3</th>\n",
       "      <td>-1.0</td>\n",
       "      <td>-1.0</td>\n",
       "      <td>-1.0</td>\n",
       "      <td>-1.0</td>\n",
       "      <td>-1.0</td>\n",
       "      <td>-1.0</td>\n",
       "      <td>-1.0</td>\n",
       "      <td>-1.0</td>\n",
       "    </tr>\n",
       "    <tr>\n",
       "      <th>4</th>\n",
       "      <td>0.0</td>\n",
       "      <td>-1.0</td>\n",
       "      <td>-0.5</td>\n",
       "      <td>-1.0</td>\n",
       "      <td>-1.0</td>\n",
       "      <td>-1.0</td>\n",
       "      <td>-0.5</td>\n",
       "      <td>-1.0</td>\n",
       "    </tr>\n",
       "  </tbody>\n",
       "</table>\n",
       "</div>"
      ],
      "text/plain": [
       "     1    2    3    4    5    6    7    8\n",
       "0 -1.0 -1.0 -0.5 -0.5 -1.0 -1.0 -0.5 -1.0\n",
       "1 -1.0 -1.0 -1.0  0.5 -0.5 -1.0 -1.0  0.0\n",
       "2 -1.0 -1.0 -0.5 -1.0 -1.0 -0.5 -0.5 -0.5\n",
       "3 -1.0 -1.0 -1.0 -1.0 -1.0 -1.0 -1.0 -1.0\n",
       "4  0.0 -1.0 -0.5 -1.0 -1.0 -1.0 -0.5 -1.0"
      ]
     },
     "execution_count": 44,
     "metadata": {},
     "output_type": "execute_result"
    }
   ],
   "source": [
    "cmb.head() "
   ]
  },
  {
   "cell_type": "code",
   "execution_count": 45,
   "metadata": {},
   "outputs": [],
   "source": [
    "cmb.to_msgpack('../../allan_data/DataPredictMovement_half_quarter_comb_mean.msgpack')"
   ]
  },
  {
   "cell_type": "markdown",
   "metadata": {},
   "source": [
    "Combine hourly."
   ]
  },
  {
   "cell_type": "code",
   "execution_count": 46,
   "metadata": {},
   "outputs": [],
   "source": [
    "cmb_h = df.groupby(np.roll(df.columns.str[-1].astype(int) % 4, 1) + 1, axis=1).mean()"
   ]
  },
  {
   "cell_type": "code",
   "execution_count": 47,
   "metadata": {},
   "outputs": [
    {
     "data": {
      "text/html": [
       "<div>\n",
       "<style scoped>\n",
       "    .dataframe tbody tr th:only-of-type {\n",
       "        vertical-align: middle;\n",
       "    }\n",
       "\n",
       "    .dataframe tbody tr th {\n",
       "        vertical-align: top;\n",
       "    }\n",
       "\n",
       "    .dataframe thead th {\n",
       "        text-align: right;\n",
       "    }\n",
       "</style>\n",
       "<table border=\"1\" class=\"dataframe\">\n",
       "  <thead>\n",
       "    <tr style=\"text-align: right;\">\n",
       "      <th></th>\n",
       "      <th>1</th>\n",
       "      <th>2</th>\n",
       "      <th>3</th>\n",
       "      <th>4</th>\n",
       "    </tr>\n",
       "  </thead>\n",
       "  <tbody>\n",
       "    <tr>\n",
       "      <th>0</th>\n",
       "      <td>-1.00</td>\n",
       "      <td>-1.00</td>\n",
       "      <td>-0.5</td>\n",
       "      <td>-0.75</td>\n",
       "    </tr>\n",
       "    <tr>\n",
       "      <th>1</th>\n",
       "      <td>-0.75</td>\n",
       "      <td>-1.00</td>\n",
       "      <td>-1.0</td>\n",
       "      <td>0.25</td>\n",
       "    </tr>\n",
       "    <tr>\n",
       "      <th>2</th>\n",
       "      <td>-1.00</td>\n",
       "      <td>-0.75</td>\n",
       "      <td>-0.5</td>\n",
       "      <td>-0.75</td>\n",
       "    </tr>\n",
       "    <tr>\n",
       "      <th>3</th>\n",
       "      <td>-1.00</td>\n",
       "      <td>-1.00</td>\n",
       "      <td>-1.0</td>\n",
       "      <td>-1.00</td>\n",
       "    </tr>\n",
       "    <tr>\n",
       "      <th>4</th>\n",
       "      <td>-0.50</td>\n",
       "      <td>-1.00</td>\n",
       "      <td>-0.5</td>\n",
       "      <td>-1.00</td>\n",
       "    </tr>\n",
       "  </tbody>\n",
       "</table>\n",
       "</div>"
      ],
      "text/plain": [
       "      1     2    3     4\n",
       "0 -1.00 -1.00 -0.5 -0.75\n",
       "1 -0.75 -1.00 -1.0  0.25\n",
       "2 -1.00 -0.75 -0.5 -0.75\n",
       "3 -1.00 -1.00 -1.0 -1.00\n",
       "4 -0.50 -1.00 -0.5 -1.00"
      ]
     },
     "execution_count": 47,
     "metadata": {},
     "output_type": "execute_result"
    }
   ],
   "source": [
    "cmb_h.head() "
   ]
  },
  {
   "cell_type": "code",
   "execution_count": 48,
   "metadata": {},
   "outputs": [],
   "source": [
    "cmb_h.to_msgpack('../../allan_data/DataPredictMovement_half_quarter_comb_hourly_mean.msgpack')"
   ]
  },
  {
   "cell_type": "markdown",
   "metadata": {},
   "source": [
    "# More cv analysis"
   ]
  },
  {
   "cell_type": "code",
   "execution_count": 49,
   "metadata": {},
   "outputs": [
    {
     "name": "stdout",
     "output_type": "stream",
     "text": [
      "mean_fit_time\n",
      "mean_score_time\n",
      "mean_test_score\n",
      "mean_train_score\n",
      "param_pca__n_components\n",
      "param_sgd__alpha\n",
      "param_sgd__loss\n",
      "param_sgd__penalty\n",
      "params\n",
      "rank_test_score\n",
      "split0_test_score\n",
      "split0_train_score\n",
      "split1_test_score\n",
      "split1_train_score\n",
      "split2_test_score\n",
      "split2_train_score\n",
      "split3_test_score\n",
      "split3_train_score\n",
      "std_fit_time\n",
      "std_score_time\n",
      "std_test_score\n",
      "std_train_score\n"
     ]
    }
   ],
   "source": [
    "print(*cvr.columns, sep='\\n')"
   ]
  },
  {
   "cell_type": "code",
   "execution_count": 50,
   "metadata": {},
   "outputs": [],
   "source": [
    "mask_perceptron = (cvr.param_sgd__loss == 'perceptron') "
   ]
  },
  {
   "cell_type": "code",
   "execution_count": 51,
   "metadata": {},
   "outputs": [
    {
     "data": {
      "text/html": [
       "<div>\n",
       "<style scoped>\n",
       "    .dataframe tbody tr th:only-of-type {\n",
       "        vertical-align: middle;\n",
       "    }\n",
       "\n",
       "    .dataframe tbody tr th {\n",
       "        vertical-align: top;\n",
       "    }\n",
       "\n",
       "    .dataframe thead th {\n",
       "        text-align: right;\n",
       "    }\n",
       "</style>\n",
       "<table border=\"1\" class=\"dataframe\">\n",
       "  <thead>\n",
       "    <tr style=\"text-align: right;\">\n",
       "      <th></th>\n",
       "      <th>split0_test_score</th>\n",
       "      <th>split0_train_score</th>\n",
       "      <th>split1_test_score</th>\n",
       "      <th>split1_train_score</th>\n",
       "      <th>split2_test_score</th>\n",
       "      <th>split2_train_score</th>\n",
       "      <th>split3_test_score</th>\n",
       "      <th>split3_train_score</th>\n",
       "    </tr>\n",
       "  </thead>\n",
       "  <tbody>\n",
       "    <tr>\n",
       "      <th>0</th>\n",
       "      <td>0.783605</td>\n",
       "      <td>0.783395</td>\n",
       "      <td>0.783299</td>\n",
       "      <td>0.782905</td>\n",
       "      <td>0.783763</td>\n",
       "      <td>0.783679</td>\n",
       "      <td>0.782906</td>\n",
       "      <td>0.783591</td>\n",
       "    </tr>\n",
       "    <tr>\n",
       "      <th>1</th>\n",
       "      <td>0.783835</td>\n",
       "      <td>0.783617</td>\n",
       "      <td>0.783640</td>\n",
       "      <td>0.783245</td>\n",
       "      <td>0.783842</td>\n",
       "      <td>0.783752</td>\n",
       "      <td>0.783119</td>\n",
       "      <td>0.783807</td>\n",
       "    </tr>\n",
       "    <tr>\n",
       "      <th>2</th>\n",
       "      <td>0.287112</td>\n",
       "      <td>0.286859</td>\n",
       "      <td>0.277437</td>\n",
       "      <td>0.277938</td>\n",
       "      <td>0.684258</td>\n",
       "      <td>0.682537</td>\n",
       "      <td>0.703380</td>\n",
       "      <td>0.704737</td>\n",
       "    </tr>\n",
       "    <tr>\n",
       "      <th>3</th>\n",
       "      <td>0.500000</td>\n",
       "      <td>0.500000</td>\n",
       "      <td>0.500000</td>\n",
       "      <td>0.500000</td>\n",
       "      <td>0.500000</td>\n",
       "      <td>0.500000</td>\n",
       "      <td>0.500000</td>\n",
       "      <td>0.500000</td>\n",
       "    </tr>\n",
       "    <tr>\n",
       "      <th>4</th>\n",
       "      <td>0.785722</td>\n",
       "      <td>0.785503</td>\n",
       "      <td>0.785953</td>\n",
       "      <td>0.785565</td>\n",
       "      <td>0.785829</td>\n",
       "      <td>0.785699</td>\n",
       "      <td>0.784981</td>\n",
       "      <td>0.785705</td>\n",
       "    </tr>\n",
       "  </tbody>\n",
       "</table>\n",
       "</div>"
      ],
      "text/plain": [
       "   split0_test_score  split0_train_score  split1_test_score  split1_train_score  split2_test_score  split2_train_score  split3_test_score  split3_train_score\n",
       "0           0.783605            0.783395           0.783299            0.782905           0.783763            0.783679           0.782906            0.783591\n",
       "1           0.783835            0.783617           0.783640            0.783245           0.783842            0.783752           0.783119            0.783807\n",
       "2           0.287112            0.286859           0.277437            0.277938           0.684258            0.682537           0.703380            0.704737\n",
       "3           0.500000            0.500000           0.500000            0.500000           0.500000            0.500000           0.500000            0.500000\n",
       "4           0.785722            0.785503           0.785953            0.785565           0.785829            0.785699           0.784981            0.785705"
      ]
     },
     "execution_count": 51,
     "metadata": {},
     "output_type": "execute_result"
    }
   ],
   "source": [
    "cvr.filter(regex=r'split.+score$').head() "
   ]
  },
  {
   "cell_type": "code",
   "execution_count": 52,
   "metadata": {},
   "outputs": [
    {
     "data": {
      "text/plain": [
       "make_scorer(roc_auc_score, needs_threshold=True)"
      ]
     },
     "execution_count": 52,
     "metadata": {},
     "output_type": "execute_result"
    }
   ],
   "source": [
    "est.scorer_"
   ]
  },
  {
   "cell_type": "markdown",
   "metadata": {},
   "source": [
    "# Analysis of original data: State change\n",
    "\n",
    "Make a dataset where a change of state is indicated, not the state itself.\n",
    "Is this a better predictor?"
   ]
  },
  {
   "cell_type": "markdown",
   "metadata": {},
   "source": [
    "Show columns, get a groupby to work"
   ]
  },
  {
   "cell_type": "code",
   "execution_count": 53,
   "metadata": {},
   "outputs": [
    {
     "name": "stdout",
     "output_type": "stream",
     "text": [
      "bt1\tbt2\tbt3\tbt4\tbt5\tbt6\tbt7\tbt8\n",
      "call1\tcall2\tcall3\tcall4\tcall5\tcall6\tcall7\tcall8\n",
      "gps1\tgps2\tgps3\tgps4\tgps5\tgps6\tgps7\tgps8\n",
      "sms1\tsms2\tsms3\tsms4\tsms5\tsms6\tsms7\tsms8\n"
     ]
    }
   ],
   "source": [
    "for k, v in dfx.columns.groupby(dfx.columns.str[:2]).items():\n",
    "    print(*v, sep='\\t')"
   ]
  },
  {
   "cell_type": "code",
   "execution_count": 54,
   "metadata": {},
   "outputs": [],
   "source": [
    "dfxbt = dfx.filter(regex=r'bt')"
   ]
  },
  {
   "cell_type": "code",
   "execution_count": 55,
   "metadata": {},
   "outputs": [
    {
     "data": {
      "text/html": [
       "<div>\n",
       "<style scoped>\n",
       "    .dataframe tbody tr th:only-of-type {\n",
       "        vertical-align: middle;\n",
       "    }\n",
       "\n",
       "    .dataframe tbody tr th {\n",
       "        vertical-align: top;\n",
       "    }\n",
       "\n",
       "    .dataframe thead th {\n",
       "        text-align: right;\n",
       "    }\n",
       "</style>\n",
       "<table border=\"1\" class=\"dataframe\">\n",
       "  <thead>\n",
       "    <tr style=\"text-align: right;\">\n",
       "      <th></th>\n",
       "      <th>bt2</th>\n",
       "      <th>bt3</th>\n",
       "      <th>bt4</th>\n",
       "      <th>bt5</th>\n",
       "      <th>bt6</th>\n",
       "      <th>bt7</th>\n",
       "      <th>bt8</th>\n",
       "    </tr>\n",
       "  </thead>\n",
       "  <tbody>\n",
       "    <tr>\n",
       "      <th>0</th>\n",
       "      <td>0</td>\n",
       "      <td>0</td>\n",
       "      <td>0</td>\n",
       "      <td>0</td>\n",
       "      <td>0</td>\n",
       "      <td>0</td>\n",
       "      <td>0</td>\n",
       "    </tr>\n",
       "    <tr>\n",
       "      <th>1</th>\n",
       "      <td>0</td>\n",
       "      <td>0</td>\n",
       "      <td>0</td>\n",
       "      <td>0</td>\n",
       "      <td>0</td>\n",
       "      <td>0</td>\n",
       "      <td>0</td>\n",
       "    </tr>\n",
       "    <tr>\n",
       "      <th>2</th>\n",
       "      <td>0</td>\n",
       "      <td>1</td>\n",
       "      <td>1</td>\n",
       "      <td>0</td>\n",
       "      <td>0</td>\n",
       "      <td>0</td>\n",
       "      <td>1</td>\n",
       "    </tr>\n",
       "    <tr>\n",
       "      <th>3</th>\n",
       "      <td>0</td>\n",
       "      <td>0</td>\n",
       "      <td>0</td>\n",
       "      <td>0</td>\n",
       "      <td>0</td>\n",
       "      <td>0</td>\n",
       "      <td>0</td>\n",
       "    </tr>\n",
       "    <tr>\n",
       "      <th>4</th>\n",
       "      <td>0</td>\n",
       "      <td>1</td>\n",
       "      <td>1</td>\n",
       "      <td>0</td>\n",
       "      <td>0</td>\n",
       "      <td>0</td>\n",
       "      <td>0</td>\n",
       "    </tr>\n",
       "  </tbody>\n",
       "</table>\n",
       "</div>"
      ],
      "text/plain": [
       "   bt2  bt3  bt4  bt5  bt6  bt7  bt8\n",
       "0    0    0    0    0    0    0    0\n",
       "1    0    0    0    0    0    0    0\n",
       "2    0    1    1    0    0    0    1\n",
       "3    0    0    0    0    0    0    0\n",
       "4    0    1    1    0    0    0    0"
      ]
     },
     "execution_count": 55,
     "metadata": {},
     "output_type": "execute_result"
    }
   ],
   "source": [
    "(dfxbt.head().diff(axis=1).iloc[:, 1:] != 0).astype(int) "
   ]
  },
  {
   "cell_type": "code",
   "execution_count": 56,
   "metadata": {},
   "outputs": [],
   "source": [
    "dfch = (dfx.groupby(dfx.columns.str[:2], axis=1).diff(axis=1).iloc[:, 1:] != 0).astype(int) "
   ]
  },
  {
   "cell_type": "markdown",
   "metadata": {},
   "source": [
    "Onehot-like encoding"
   ]
  },
  {
   "cell_type": "code",
   "execution_count": 57,
   "metadata": {},
   "outputs": [
    {
     "data": {
      "text/html": [
       "<div>\n",
       "<style scoped>\n",
       "    .dataframe tbody tr th:only-of-type {\n",
       "        vertical-align: middle;\n",
       "    }\n",
       "\n",
       "    .dataframe tbody tr th {\n",
       "        vertical-align: top;\n",
       "    }\n",
       "\n",
       "    .dataframe thead th {\n",
       "        text-align: right;\n",
       "    }\n",
       "</style>\n",
       "<table border=\"1\" class=\"dataframe\">\n",
       "  <thead>\n",
       "    <tr style=\"text-align: right;\">\n",
       "      <th></th>\n",
       "      <th>call2</th>\n",
       "      <th>call3</th>\n",
       "      <th>call4</th>\n",
       "      <th>call5</th>\n",
       "      <th>call6</th>\n",
       "      <th>call7</th>\n",
       "      <th>call8</th>\n",
       "      <th>sms1</th>\n",
       "      <th>sms2</th>\n",
       "      <th>sms3</th>\n",
       "      <th>...</th>\n",
       "      <th>gps7</th>\n",
       "      <th>gps8</th>\n",
       "      <th>bt1</th>\n",
       "      <th>bt2</th>\n",
       "      <th>bt3</th>\n",
       "      <th>bt4</th>\n",
       "      <th>bt5</th>\n",
       "      <th>bt6</th>\n",
       "      <th>bt7</th>\n",
       "      <th>bt8</th>\n",
       "    </tr>\n",
       "  </thead>\n",
       "  <tbody>\n",
       "    <tr>\n",
       "      <th>0</th>\n",
       "      <td>0</td>\n",
       "      <td>0</td>\n",
       "      <td>1</td>\n",
       "      <td>1</td>\n",
       "      <td>0</td>\n",
       "      <td>1</td>\n",
       "      <td>1</td>\n",
       "      <td>1</td>\n",
       "      <td>0</td>\n",
       "      <td>1</td>\n",
       "      <td>...</td>\n",
       "      <td>0</td>\n",
       "      <td>0</td>\n",
       "      <td>1</td>\n",
       "      <td>0</td>\n",
       "      <td>0</td>\n",
       "      <td>0</td>\n",
       "      <td>0</td>\n",
       "      <td>0</td>\n",
       "      <td>0</td>\n",
       "      <td>0</td>\n",
       "    </tr>\n",
       "    <tr>\n",
       "      <th>1</th>\n",
       "      <td>0</td>\n",
       "      <td>0</td>\n",
       "      <td>1</td>\n",
       "      <td>1</td>\n",
       "      <td>0</td>\n",
       "      <td>0</td>\n",
       "      <td>1</td>\n",
       "      <td>1</td>\n",
       "      <td>0</td>\n",
       "      <td>0</td>\n",
       "      <td>...</td>\n",
       "      <td>0</td>\n",
       "      <td>0</td>\n",
       "      <td>1</td>\n",
       "      <td>0</td>\n",
       "      <td>0</td>\n",
       "      <td>0</td>\n",
       "      <td>0</td>\n",
       "      <td>0</td>\n",
       "      <td>0</td>\n",
       "      <td>0</td>\n",
       "    </tr>\n",
       "    <tr>\n",
       "      <th>2</th>\n",
       "      <td>0</td>\n",
       "      <td>0</td>\n",
       "      <td>0</td>\n",
       "      <td>0</td>\n",
       "      <td>0</td>\n",
       "      <td>0</td>\n",
       "      <td>0</td>\n",
       "      <td>1</td>\n",
       "      <td>0</td>\n",
       "      <td>0</td>\n",
       "      <td>...</td>\n",
       "      <td>0</td>\n",
       "      <td>1</td>\n",
       "      <td>1</td>\n",
       "      <td>0</td>\n",
       "      <td>1</td>\n",
       "      <td>1</td>\n",
       "      <td>0</td>\n",
       "      <td>0</td>\n",
       "      <td>0</td>\n",
       "      <td>1</td>\n",
       "    </tr>\n",
       "    <tr>\n",
       "      <th>3</th>\n",
       "      <td>0</td>\n",
       "      <td>0</td>\n",
       "      <td>0</td>\n",
       "      <td>0</td>\n",
       "      <td>0</td>\n",
       "      <td>0</td>\n",
       "      <td>0</td>\n",
       "      <td>1</td>\n",
       "      <td>0</td>\n",
       "      <td>0</td>\n",
       "      <td>...</td>\n",
       "      <td>0</td>\n",
       "      <td>0</td>\n",
       "      <td>1</td>\n",
       "      <td>0</td>\n",
       "      <td>0</td>\n",
       "      <td>0</td>\n",
       "      <td>0</td>\n",
       "      <td>0</td>\n",
       "      <td>0</td>\n",
       "      <td>0</td>\n",
       "    </tr>\n",
       "    <tr>\n",
       "      <th>4</th>\n",
       "      <td>0</td>\n",
       "      <td>0</td>\n",
       "      <td>0</td>\n",
       "      <td>0</td>\n",
       "      <td>0</td>\n",
       "      <td>0</td>\n",
       "      <td>0</td>\n",
       "      <td>1</td>\n",
       "      <td>1</td>\n",
       "      <td>0</td>\n",
       "      <td>...</td>\n",
       "      <td>0</td>\n",
       "      <td>0</td>\n",
       "      <td>1</td>\n",
       "      <td>0</td>\n",
       "      <td>1</td>\n",
       "      <td>1</td>\n",
       "      <td>0</td>\n",
       "      <td>0</td>\n",
       "      <td>0</td>\n",
       "      <td>0</td>\n",
       "    </tr>\n",
       "  </tbody>\n",
       "</table>\n",
       "<p>5 rows × 31 columns</p>\n",
       "</div>"
      ],
      "text/plain": [
       "   call2  call3  call4  call5  call6  call7  call8  sms1  sms2  sms3 ...   gps7  gps8  bt1  bt2  bt3  bt4  bt5  bt6  bt7  bt8\n",
       "0      0      0      1      1      0      1      1     1     0     1 ...      0     0    1    0    0    0    0    0    0    0\n",
       "1      0      0      1      1      0      0      1     1     0     0 ...      0     0    1    0    0    0    0    0    0    0\n",
       "2      0      0      0      0      0      0      0     1     0     0 ...      0     1    1    0    1    1    0    0    0    1\n",
       "3      0      0      0      0      0      0      0     1     0     0 ...      0     0    1    0    0    0    0    0    0    0\n",
       "4      0      0      0      0      0      0      0     1     1     0 ...      0     0    1    0    1    1    0    0    0    0\n",
       "\n",
       "[5 rows x 31 columns]"
      ]
     },
     "execution_count": 57,
     "metadata": {},
     "output_type": "execute_result"
    }
   ],
   "source": [
    "dfch.head() "
   ]
  },
  {
   "cell_type": "code",
   "execution_count": 58,
   "metadata": {},
   "outputs": [],
   "source": [
    "dfch.to_msgpack('../../allan_data/DataPredictMovement_change_of_movement_indicator_state.msgpack')"
   ]
  },
  {
   "cell_type": "markdown",
   "metadata": {},
   "source": [
    "# Examine SGD fine search"
   ]
  },
  {
   "cell_type": "code",
   "execution_count": 25,
   "metadata": {},
   "outputs": [
    {
     "name": "stdout",
     "output_type": "stream",
     "text": [
      ".\u001b[1;33mr\u001b[31mw\u001b[0m\u001b[38;5;244m-\u001b[33mr\u001b[31mw\u001b[38;5;244m-\u001b[33mr\u001b[38;5;244m--\u001b[0m  \u001b[1;32m21\u001b[0m\u001b[32mk\u001b[0m \u001b[1;33mbzg778\u001b[0m \u001b[34m26 Jul  1:51\u001b[0m usermove_statechange.pkl\r\n",
      ".\u001b[1;33mr\u001b[31mw\u001b[0m\u001b[38;5;244m-\u001b[33mr\u001b[31mw\u001b[38;5;244m-\u001b[33mr\u001b[38;5;244m--\u001b[0m \u001b[1;32m356\u001b[0m\u001b[32mM\u001b[0m \u001b[1;33mbzg778\u001b[0m \u001b[34m31 Jul 22:35\u001b[0m userMovement_cv_subgrid_search.pkl\r\n",
      ".\u001b[1;33mr\u001b[31mw\u001b[0m\u001b[38;5;244m-\u001b[33mr\u001b[31mw\u001b[38;5;244m-\u001b[33mr\u001b[38;5;244m--\u001b[0m \u001b[1;32m461\u001b[0m\u001b[32mM\u001b[0m \u001b[1;33mbzg778\u001b[0m \u001b[34m31 Jul 22:09\u001b[0m userMovement_rf_coarse.pkl\r\n",
      ".\u001b[1;33mr\u001b[31mw\u001b[0m\u001b[38;5;244m-\u001b[33mr\u001b[31mw\u001b[38;5;244m-\u001b[33mr\u001b[38;5;244m--\u001b[0m \u001b[1;32m667\u001b[0m\u001b[32mM\u001b[0m \u001b[1;33mbzg778\u001b[0m \u001b[34m 1 Aug 14:54\u001b[0m userMovement_rf_finer.pkl\r\n",
      ".\u001b[1;33mr\u001b[31mw\u001b[0m\u001b[38;5;244m-\u001b[33mr\u001b[31mw\u001b[38;5;244m-\u001b[33mr\u001b[38;5;244m--\u001b[0m \u001b[1;32m356\u001b[0m\u001b[32mM\u001b[0m \u001b[1;33mbzg778\u001b[0m \u001b[34m31 Jul 15:17\u001b[0m userMovement_sgd_std_final_coarse.pkl\r\n"
     ]
    }
   ],
   "source": [
    "!../../bin_allan/exa -l *pkl"
   ]
  },
  {
   "cell_type": "code",
   "execution_count": 27,
   "metadata": {},
   "outputs": [],
   "source": [
    "with open('userMovement_cv_subgrid_search.pkl', 'br') as fid:\n",
    "    est = pickle.load(fid)"
   ]
  },
  {
   "cell_type": "code",
   "execution_count": 29,
   "metadata": {},
   "outputs": [
    {
     "data": {
      "text/plain": [
       "0.8509705960241408"
      ]
     },
     "execution_count": 29,
     "metadata": {},
     "output_type": "execute_result"
    }
   ],
   "source": [
    "est.best_score_"
   ]
  },
  {
   "cell_type": "code",
   "execution_count": 30,
   "metadata": {},
   "outputs": [
    {
     "data": {
      "text/plain": [
       "0.8518750390426447"
      ]
     },
     "execution_count": 30,
     "metadata": {},
     "output_type": "execute_result"
    }
   ],
   "source": [
    "est.validation_auc_score"
   ]
  },
  {
   "cell_type": "code",
   "execution_count": 31,
   "metadata": {},
   "outputs": [
    {
     "data": {
      "text/plain": [
       "{'pca__n_components': 28, 'sgd__alpha': 0.7196856730011519}"
      ]
     },
     "execution_count": 31,
     "metadata": {},
     "output_type": "execute_result"
    }
   ],
   "source": [
    "est.best_params_"
   ]
  }
 ],
 "metadata": {
  "kernelspec": {
   "display_name": "Python 3",
   "language": "python",
   "name": "python3"
  },
  "language_info": {
   "codemirror_mode": {
    "name": "ipython",
    "version": 3
   },
   "file_extension": ".py",
   "mimetype": "text/x-python",
   "name": "python",
   "nbconvert_exporter": "python",
   "pygments_lexer": "ipython3",
   "version": "3.6.4"
  }
 },
 "nbformat": 4,
 "nbformat_minor": 2
}
