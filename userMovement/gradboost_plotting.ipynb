{
 "cells": [
  {
   "cell_type": "code",
   "execution_count": 23,
   "metadata": {},
   "outputs": [
    {
     "name": "stderr",
     "output_type": "stream",
     "text": [
      "/lscr_paper/allan/miniconda3/envs/py36up/lib/python3.6/site-packages/pprintpp/__init__.py:171: UserWarning: 'pprint' has already been imported; monkeypatching won't work everywhere.\n",
      "  warnings.warn(\"'pprint' has already been imported; monkeypatching \"\n"
     ]
    }
   ],
   "source": [
    "import pprintpp\n",
    "pprintpp.monkeypatch()\n",
    "\n",
    "import sys\n",
    "import os\n",
    "sys.path.append(os.path.abspath(\"..\"))\n",
    "\n",
    "import re\n",
    "import multiprocessing\n",
    "from collections import Counter\n",
    "import itertools\n",
    "import pickle\n",
    "import json\n",
    "from IPython.display import display as disp\n",
    "from sklearn.tree import export_graphviz \n",
    "from sklearn.tree import DecisionTreeClassifier\n",
    "import graphviz \n",
    "import subprocess\n",
    "\n",
    "import numpy as np\n",
    "# import bottleneck as bn\n",
    "import pandas as pd\n",
    "import networkx as nx\n",
    "import igraph as ig\n",
    "import matplotlib as mpl\n",
    "import matplotlib.pyplot as plt\n",
    "import seaborn as sns\n",
    "sns.cm.rocket.set_bad([0.01060815, 0.01808215, 0.10018654])\n",
    "sns.set(context='paper', style='whitegrid', color_codes=True, font_scale=1.8)\n",
    "colorcycle = [(0.498, 0.788, 0.498),\n",
    "              (0.745, 0.682, 0.831),\n",
    "              (0.992, 0.753, 0.525),\n",
    "              (0.220, 0.424, 0.690),\n",
    "              (0.749, 0.357, 0.090),\n",
    "              (1.000, 1.000, 0.600),\n",
    "              (0.941, 0.008, 0.498),\n",
    "              (0.400, 0.400, 0.400)]\n",
    "%matplotlib inline\n",
    "sns.set_palette(colorcycle)\n",
    "\n",
    "# import warnings\n",
    "# warnings.simplefilter(\"ignore\", category=DeprecationWarning)\n",
    "# warnings.simplefilter(\"ignore\", category=mpl.cbook.mplDeprecation)\n",
    "# warnings.simplefilter(\"ignore\", category=UserWarning)\n",
    "\n",
    "\n",
    "from speclib import misc, loaders, graph, plotting\n",
    "\n",
    "pd.set_option('display.max_rows', 55)\n",
    "pd.set_option('display.max_columns', 10)\n",
    "pd.set_option('display.width', 1000)\n",
    "np.set_printoptions(linewidth=145)\n",
    "\n",
    "mpl.rcParams['figure.max_open_warning'] = 65\n",
    "mpl.rcParams['text.usetex'] = True \n",
    "mpl.rcParams['figure.figsize'] = [12, 7] \n",
    "\n",
    "# import pixiedust"
   ]
  },
  {
   "cell_type": "code",
   "execution_count": 7,
   "metadata": {},
   "outputs": [
    {
     "name": "stdout",
     "output_type": "stream",
     "text": [
      ".\u001b[1;33mr\u001b[31mw\u001b[0m\u001b[38;5;244m-\u001b[33mr\u001b[31mw\u001b[38;5;244m-\u001b[33mr\u001b[38;5;244m--\u001b[0m  \u001b[1;32m21\u001b[0m\u001b[32mk\u001b[0m \u001b[1;33mbzg778\u001b[0m \u001b[34m26 Jul  1:51\u001b[0m usermove_statechange.pkl\r\n",
      ".\u001b[1;33mr\u001b[31mw\u001b[0m\u001b[38;5;244m-\u001b[33mr\u001b[31mw\u001b[38;5;244m-\u001b[33mr\u001b[38;5;244m--\u001b[0m \u001b[1;32m399\u001b[0m\u001b[32mM\u001b[0m \u001b[1;33mbzg778\u001b[0m \u001b[34m13 Aug  5:26\u001b[0m userMovement_adaboost_coarse.pkl\r\n",
      ".\u001b[1;33mr\u001b[31mw\u001b[0m\u001b[38;5;244m-\u001b[33mr\u001b[31mw\u001b[38;5;244m-\u001b[33mr\u001b[38;5;244m--\u001b[0m \u001b[1;32m357\u001b[0m\u001b[32mM\u001b[0m \u001b[1;33mbzg778\u001b[0m \u001b[34m21 Aug 13:57\u001b[0m userMovement_cv_GradientBoostingClassifier.pkl\r\n",
      ".\u001b[1;33mr\u001b[31mw\u001b[0m\u001b[38;5;244m-\u001b[33mr\u001b[31mw\u001b[38;5;244m-\u001b[33mr\u001b[38;5;244m--\u001b[0m \u001b[1;32m356\u001b[0m\u001b[32mM\u001b[0m \u001b[1;33mbzg778\u001b[0m \u001b[34m31 Jul 22:35\u001b[0m userMovement_cv_subgrid_search.pkl\r\n",
      ".\u001b[1;33mr\u001b[31mw\u001b[0m\u001b[38;5;244m-\u001b[33mr\u001b[31mw\u001b[38;5;244m-\u001b[33mr\u001b[38;5;244m--\u001b[0m \u001b[1;32m461\u001b[0m\u001b[32mM\u001b[0m \u001b[1;33mbzg778\u001b[0m \u001b[34m31 Jul 22:09\u001b[0m userMovement_rf_coarse.pkl\r\n",
      ".\u001b[1;33mr\u001b[31mw\u001b[0m\u001b[38;5;244m-\u001b[33mr\u001b[31mw\u001b[38;5;244m-\u001b[33mr\u001b[38;5;244m--\u001b[0m \u001b[1;32m667\u001b[0m\u001b[32mM\u001b[0m \u001b[1;33mbzg778\u001b[0m \u001b[34m 1 Aug 14:54\u001b[0m userMovement_rf_finer.pkl\r\n",
      ".\u001b[1;33mr\u001b[31mw\u001b[0m\u001b[38;5;244m-\u001b[33mr\u001b[31mw\u001b[38;5;244m-\u001b[33mr\u001b[38;5;244m--\u001b[0m \u001b[1;32m356\u001b[0m\u001b[32mM\u001b[0m \u001b[1;33mbzg778\u001b[0m \u001b[34m31 Jul 15:17\u001b[0m userMovement_sgd_std_final_coarse.pkl\r\n"
     ]
    }
   ],
   "source": [
    "! /lscr_paper/allan/bin_allan/exa -l *.pkl"
   ]
  },
  {
   "cell_type": "code",
   "execution_count": 8,
   "metadata": {},
   "outputs": [],
   "source": [
    "with open('userMovement_cv_GradientBoostingClassifier.pkl', 'br') as fid:\n",
    "    gbc = pickle.load(fid)"
   ]
  },
  {
   "cell_type": "code",
   "execution_count": 115,
   "metadata": {},
   "outputs": [],
   "source": [
    "columns = [f\"{cha}{qrt}\" for cha in \"csgb\" for qrt in range(1, 9)]\n",
    "columns = pd.Index(columns).str.upper()"
   ]
  },
  {
   "cell_type": "code",
   "execution_count": 24,
   "metadata": {},
   "outputs": [
    {
     "data": {
      "text/plain": [
       "GradientBoostingClassifier(criterion='friedman_mse', init=None,\n",
       "              learning_rate=0.5, loss='deviance', max_depth=5,\n",
       "              max_features=None, max_leaf_nodes=None,\n",
       "              min_impurity_decrease=0.0, min_impurity_split=None,\n",
       "              min_samples_leaf=1, min_samples_split=2,\n",
       "              min_weight_fraction_leaf=0.0, n_estimators=156, presort=True,\n",
       "              random_state=None, subsample=1.0, verbose=0,\n",
       "              warm_start=False)"
      ]
     },
     "execution_count": 24,
     "metadata": {},
     "output_type": "execute_result"
    }
   ],
   "source": [
    "gbc.best_estimator_"
   ]
  },
  {
   "cell_type": "code",
   "execution_count": 25,
   "metadata": {},
   "outputs": [
    {
     "data": {
      "text/plain": [
       "0.8590484332634439"
      ]
     },
     "execution_count": 25,
     "metadata": {},
     "output_type": "execute_result"
    }
   ],
   "source": [
    "gbc.validation_auc_score"
   ]
  },
  {
   "cell_type": "code",
   "execution_count": 117,
   "metadata": {},
   "outputs": [
    {
     "data": {
      "text/plain": [
       "0.8584678684923261"
      ]
     },
     "execution_count": 117,
     "metadata": {},
     "output_type": "execute_result"
    }
   ],
   "source": [
    "gbc.best_score_"
   ]
  },
  {
   "cell_type": "code",
   "execution_count": 118,
   "metadata": {},
   "outputs": [
    {
     "data": {
      "text/plain": [
       "0.0005805647711177864"
      ]
     },
     "execution_count": 118,
     "metadata": {},
     "output_type": "execute_result"
    }
   ],
   "source": [
    "gbc.validation_auc_score - gbc.best_score_"
   ]
  },
  {
   "cell_type": "code",
   "execution_count": 119,
   "metadata": {},
   "outputs": [],
   "source": [
    "est = gbc.best_estimator_"
   ]
  },
  {
   "cell_type": "code",
   "execution_count": 139,
   "metadata": {},
   "outputs": [
    {
     "data": {
      "text/html": [
       "<div>\n",
       "<style scoped>\n",
       "    .dataframe tbody tr th:only-of-type {\n",
       "        vertical-align: middle;\n",
       "    }\n",
       "\n",
       "    .dataframe tbody tr th {\n",
       "        vertical-align: top;\n",
       "    }\n",
       "\n",
       "    .dataframe thead th {\n",
       "        text-align: right;\n",
       "    }\n",
       "</style>\n",
       "<table border=\"1\" class=\"dataframe\">\n",
       "  <thead>\n",
       "    <tr style=\"text-align: right;\">\n",
       "      <th></th>\n",
       "      <th>Feature importance</th>\n",
       "      <th>cat</th>\n",
       "    </tr>\n",
       "  </thead>\n",
       "  <tbody>\n",
       "    <tr>\n",
       "      <th>B7</th>\n",
       "      <td>0.116868</td>\n",
       "      <td>B</td>\n",
       "    </tr>\n",
       "    <tr>\n",
       "      <th>B3</th>\n",
       "      <td>0.062492</td>\n",
       "      <td>B</td>\n",
       "    </tr>\n",
       "    <tr>\n",
       "      <th>G7</th>\n",
       "      <td>0.054269</td>\n",
       "      <td>G</td>\n",
       "    </tr>\n",
       "    <tr>\n",
       "      <th>G3</th>\n",
       "      <td>0.045004</td>\n",
       "      <td>G</td>\n",
       "    </tr>\n",
       "    <tr>\n",
       "      <th>C3</th>\n",
       "      <td>0.042471</td>\n",
       "      <td>C</td>\n",
       "    </tr>\n",
       "  </tbody>\n",
       "</table>\n",
       "</div>"
      ],
      "text/plain": [
       "    Feature importance cat\n",
       "B7            0.116868   B\n",
       "B3            0.062492   B\n",
       "G7            0.054269   G\n",
       "G3            0.045004   G\n",
       "C3            0.042471   C"
      ]
     },
     "execution_count": 139,
     "metadata": {},
     "output_type": "execute_result"
    }
   ],
   "source": [
    "dfi = pd.DataFrame(est.feature_importances_, index=columns, columns=['Feature importance'])\n",
    "dfi['cat'] = dfi.index.str[0]# .str.upper() \n",
    "dfi = dfi.sort_values('Feature importance', ascending=False) \n",
    "dfi.head() "
   ]
  },
  {
   "cell_type": "code",
   "execution_count": 280,
   "metadata": {},
   "outputs": [
    {
     "data": {
      "image/png": "[encoded data removed]",
      "text/plain": [
       "<matplotlib.figure.Figure at 0x7fbf96e77898>"
      ]
     },
     "metadata": {},
     "output_type": "display_data"
    }
   ],
   "source": [
    "fig, ax = plt.subplots(figsize=(8, 12))\n",
    "bars = sns.barplot(data=dfi, x='Feature importance', y=dfi.index,\n",
    "                   hue='cat', dodge=False, ax=ax, orient='h')\n",
    "custom_lines = [mpl.patches.Patch(facecolor=colorcycle[0]),\n",
    "                mpl.patches.Patch(facecolor=colorcycle[1]), \n",
    "                mpl.patches.Patch(facecolor=colorcycle[2]),\n",
    "                mpl.patches.Patch(facecolor=colorcycle[3])]\n",
    "ax.legend(custom_lines, [\"Call\", \"SMS\", \"GPS\", \"Bluetooth\"], loc=\"lower right\")\n",
    "ax.set_xticklabels(el.get_text().upper() for el in ax.get_xticklabels())\n",
    "fig.savefig('figs/graadient_boosted_trees_variable_importance.pdf')"
   ]
  },
  {
   "cell_type": "code",
   "execution_count": 146,
   "metadata": {},
   "outputs": [
    {
     "data": {
      "text/plain": [
       "{'learning_rate': 0.5, 'max_depth': 5, 'n_estimators': 156}"
      ]
     },
     "execution_count": 146,
     "metadata": {},
     "output_type": "execute_result"
    }
   ],
   "source": [
    "gbc.best_params_"
   ]
  },
  {
   "cell_type": "code",
   "execution_count": 149,
   "metadata": {},
   "outputs": [
    {
     "data": {
      "text/plain": [
       "array([DecisionTreeRegressor(criterion='friedman_mse', max_depth=5,\n",
       "           max_features=None, max_leaf_nodes=None,\n",
       "           min_impurity_decrease=0.0, min_impurity_split=None,\n",
       "           min_samples_leaf=1, min_samples_split=2,\n",
       "           min_weight_fraction_leaf=0.0, presort=True,\n",
       "           random_state=<mtrand.RandomState object at 0x7fbfa2b7e2d0>,\n",
       "           splitter='best')], dtype=object)"
      ]
     },
     "execution_count": 149,
     "metadata": {},
     "output_type": "execute_result"
    }
   ],
   "source": [
    "est.estimators_[0] "
   ]
  },
  {
   "cell_type": "code",
   "execution_count": 151,
   "metadata": {},
   "outputs": [
    {
     "data": {
      "text/plain": [
       "['classes_',\n",
       " 'estimators_',\n",
       " 'feature_importances_',\n",
       " 'init_',\n",
       " 'loss_',\n",
       " 'max_features_',\n",
       " 'n_classes_',\n",
       " 'n_features_',\n",
       " 'train_score_']"
      ]
     },
     "execution_count": 151,
     "metadata": {},
     "output_type": "execute_result"
    }
   ],
   "source": [
    "[el for el in dir(est) if (el.endswith('_') and not el.startswith('_'))] "
   ]
  },
  {
   "cell_type": "code",
   "execution_count": 156,
   "metadata": {},
   "outputs": [
    {
     "data": {
      "text/plain": [
       "[<matplotlib.lines.Line2D at 0x7fbf9ce02a20>]"
      ]
     },
     "execution_count": 156,
     "metadata": {},
     "output_type": "execute_result"
    },
    {
     "data": {
      "image/png": "[encoded data removed]",
      "text/plain": [
       "<matplotlib.figure.Figure at 0x7fbf9cb726a0>"
      ]
     },
     "metadata": {},
     "output_type": "display_data"
    }
   ],
   "source": [
    "plt.plot(est.train_score_)"
   ]
  },
  {
   "cell_type": "code",
   "execution_count": 157,
   "metadata": {},
   "outputs": [
    {
     "data": {
      "text/plain": [
       "156"
      ]
     },
     "execution_count": 157,
     "metadata": {},
     "output_type": "execute_result"
    }
   ],
   "source": [
    "est.n_estimators"
   ]
  },
  {
   "cell_type": "code",
   "execution_count": 160,
   "metadata": {},
   "outputs": [
    {
     "data": {
      "text/plain": [
       "32"
      ]
     },
     "execution_count": 160,
     "metadata": {},
     "output_type": "execute_result"
    }
   ],
   "source": [
    "est.n_features_"
   ]
  },
  {
   "cell_type": "code",
   "execution_count": 161,
   "metadata": {},
   "outputs": [
    {
     "data": {
      "text/plain": [
       "['best_estimator_',\n",
       " 'best_index_',\n",
       " 'best_params_',\n",
       " 'best_score_',\n",
       " 'classes_',\n",
       " 'cv_results_',\n",
       " 'grid_scores_',\n",
       " 'multimetric_',\n",
       " 'n_splits_',\n",
       " 'scorer_']"
      ]
     },
     "execution_count": 161,
     "metadata": {},
     "output_type": "execute_result"
    }
   ],
   "source": [
    "[el for el in dir(gbc) if (el.endswith('_') and not el.startswith('_'))] "
   ]
  },
  {
   "cell_type": "code",
   "execution_count": 166,
   "metadata": {},
   "outputs": [],
   "source": [
    "ds = pd.DataFrame(gbc.cv_results_)"
   ]
  },
  {
   "cell_type": "code",
   "execution_count": 172,
   "metadata": {},
   "outputs": [
    {
     "name": "stdout",
     "output_type": "stream",
     "text": [
      "mean_fit_time\n",
      "mean_score_time\n",
      "mean_test_score\n",
      "mean_train_score\n",
      "param_learning_rate\n",
      "param_max_depth\n",
      "param_n_estimators\n",
      "params\n",
      "rank_test_score\n",
      "split0_test_score\n",
      "split0_train_score\n",
      "split1_test_score\n",
      "split1_train_score\n",
      "split2_test_score\n",
      "split2_train_score\n",
      "split3_test_score\n",
      "split3_train_score\n",
      "std_fit_time\n",
      "std_score_time\n",
      "std_test_score\n",
      "std_train_score\n"
     ]
    }
   ],
   "source": [
    "print(*ds.columns, sep='\\n')"
   ]
  },
  {
   "cell_type": "code",
   "execution_count": 219,
   "metadata": {},
   "outputs": [],
   "source": [
    "ds2 = ds.copy()\n",
    "ds2 = ds2.rename(columns = misc.snake2word(ds2.columns)) "
   ]
  },
  {
   "cell_type": "code",
   "execution_count": 234,
   "metadata": {},
   "outputs": [
    {
     "data": {
      "text/plain": [
       "<matplotlib.axes._subplots.AxesSubplot at 0x7fbf970c2898>"
      ]
     },
     "execution_count": 234,
     "metadata": {},
     "output_type": "execute_result"
    },
    {
     "data": {
      "image/png": "[encoded data removed]",
      "text/plain": [
       "<matplotlib.figure.Figure at 0x7fbf97349cc0>"
      ]
     },
     "metadata": {},
     "output_type": "display_data"
    },
    {
     "data": {
      "image/png": "[encoded data removed]",
      "text/plain": [
       "<matplotlib.figure.Figure at 0x7fbf9709f358>"
      ]
     },
     "metadata": {},
     "output_type": "display_data"
    }
   ],
   "source": [
    "ds2g1 = ds2.groupby(['param n estimators', 'param max depth'])['mean test score'].mean().unstack() \n",
    "ds2g1s = ds2.groupby(['param n estimators', 'param max depth'])['mean test score'].std().unstack() \n",
    "fig, ax = plt.subplots()\n",
    "sns.heatmap(ds2g1) \n",
    "fig, ax = plt.subplots()\n",
    "sns.heatmap(ds2g1s) "
   ]
  },
  {
   "cell_type": "code",
   "execution_count": 235,
   "metadata": {},
   "outputs": [
    {
     "data": {
      "text/plain": [
       "<matplotlib.axes._subplots.AxesSubplot at 0x7fbf96f32278>"
      ]
     },
     "execution_count": 235,
     "metadata": {},
     "output_type": "execute_result"
    },
    {
     "data": {
      "image/png": "[encoded data removed]",
      "text/plain": [
       "<matplotlib.figure.Figure at 0x7fbf972e0c18>"
      ]
     },
     "metadata": {},
     "output_type": "display_data"
    },
    {
     "data": {
      "image/png": "[encoded data removed]",
      "text/plain": [
       "<matplotlib.figure.Figure at 0x7fbf96fd4be0>"
      ]
     },
     "metadata": {},
     "output_type": "display_data"
    }
   ],
   "source": [
    "ds2g2 = ds2.groupby(['param learning rate', 'param max depth'])['mean test score'].mean().unstack() \n",
    "ds2g2s = ds2.groupby(['param learning rate', 'param max depth'])['mean test score'].std().unstack() \n",
    "fig, ax = plt.subplots()\n",
    "sns.heatmap(ds2g2) \n",
    "fig, ax = plt.subplots()\n",
    "sns.heatmap(ds2g2s) "
   ]
  },
  {
   "cell_type": "code",
   "execution_count": null,
   "metadata": {},
   "outputs": [],
   "source": []
  }
 ],
 "metadata": {
  "kernelspec": {
   "display_name": "Python 3",
   "language": "python",
   "name": "python3"
  },
  "language_info": {
   "codemirror_mode": {
    "name": "ipython",
    "version": 3
   },
   "file_extension": ".py",
   "mimetype": "text/x-python",
   "name": "python",
   "nbconvert_exporter": "python",
   "pygments_lexer": "ipython3",
   "version": "3.6.4"
  }
 },
 "nbformat": 4,
 "nbformat_minor": 2
}
