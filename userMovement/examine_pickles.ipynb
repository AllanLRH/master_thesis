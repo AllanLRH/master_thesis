{
 "cells": [
  {
   "cell_type": "code",
   "execution_count": 24,
   "metadata": {},
   "outputs": [
    {
     "name": "stdout",
     "output_type": "stream",
     "text": [
      "usermove_statechange.pkl\n",
      "userMovement_sgd_std_final_coarse.pkl\n",
      "userMovement_cv_subgrid_search.pkl\n",
      "userMovement_rf_coarse.pkl\n"
     ]
    }
   ],
   "source": [
    "#!/usr/bin/env python\n",
    "# -*- coding: utf8 -*-\n",
    "\n",
    "import sys\n",
    "import os\n",
    "from glob import glob\n",
    "sys.path.append(os.path.abspath(\"..\"))\n",
    "import matplotlib as mpl\n",
    "mpl.use('agg')\n",
    "import pickle\n",
    "import matplotlib.pyplot as plt\n",
    "# import seaborn as sns\n",
    "# sns.set(context='paper', style='whitegrid', color_codes=True, font_scale=1.8)\n",
    "# colorcycle = [(0.498, 0.788, 0.498),\n",
    "#               (0.745, 0.682, 0.831),\n",
    "#               (0.992, 0.753, 0.525),\n",
    "#               (0.220, 0.424, 0.690),\n",
    "#               (0.749, 0.357, 0.090),\n",
    "#               (1.000, 1.000, 0.600),\n",
    "#               (0.941, 0.008, 0.498),\n",
    "#               (0.400, 0.400, 0.400)]\n",
    "# sns.set_palette(colorcycle)\n",
    "# mpl.rcParams['figure.max_open_warning'] = 65\n",
    "# mpl.rcParams['figure.figsize'] = [12, 7]\n",
    "# mpl.rcParams['text.usetex'] = True\n",
    "\n",
    "import warnings\n",
    "warnings.simplefilter(action='ignore', category=FutureWarning)\n",
    "\n",
    "import numpy as np\n",
    "from speclib import plotting, misc\n",
    "\n",
    "from sklearn.model_selection import GridSearchCV\n",
    "np.set_printoptions(linewidth=145)\n",
    "pickles = glob(\"*.pkl\")\n",
    "print(*pickles, sep='\\n')\n",
    "\n",
    "\n",
    "def lpk(pkl):\n",
    "    with open(pkl, 'br') as fid:\n",
    "        est = pickle.load(fid) \n",
    "    return est\n",
    "\n"
   ]
  },
  {
   "cell_type": "code",
   "execution_count": 21,
   "metadata": {},
   "outputs": [
    {
     "name": "stdout",
     "output_type": "stream",
     "text": [
      ".\u001b[1;33mr\u001b[31mw\u001b[0m\u001b[38;5;244m-\u001b[33mr\u001b[31mw\u001b[38;5;244m-\u001b[33mr\u001b[38;5;244m--\u001b[0m  \u001b[1;32m21\u001b[0m\u001b[32mk\u001b[0m \u001b[1;33mbzg778\u001b[0m \u001b[34m26 Jul  1:51\u001b[0m usermove_statechange.pkl\r\n",
      ".\u001b[1;33mr\u001b[31mw\u001b[0m\u001b[38;5;244m-\u001b[33mr\u001b[31mw\u001b[38;5;244m-\u001b[33mr\u001b[38;5;244m--\u001b[0m \u001b[1;32m205\u001b[0m\u001b[32mk\u001b[0m \u001b[1;33mbzg778\u001b[0m \u001b[34m30 Jul  6:20\u001b[0m userMovement_sgd_std_after_pca.pkl\r\n",
      ".\u001b[1;33mr\u001b[31mw\u001b[0m\u001b[38;5;244m-\u001b[33mr\u001b[31mw\u001b[38;5;244m-\u001b[33mr\u001b[38;5;244m--\u001b[0m \u001b[1;32m244\u001b[0m\u001b[32mk\u001b[0m \u001b[1;33mbzg778\u001b[0m \u001b[34m30 Jul 13:39\u001b[0m userMovement_sgd_std_after_pca_balanced_classes.pkl\r\n",
      ".\u001b[1;33mr\u001b[31mw\u001b[0m\u001b[38;5;244m-\u001b[33mr\u001b[31mw\u001b[38;5;244m-\u001b[33mr\u001b[38;5;244m--\u001b[0m \u001b[1;32m356\u001b[0m\u001b[32mM\u001b[0m \u001b[1;33mbzg778\u001b[0m \u001b[34m31 Jul 15:17\u001b[0m userMovement_sgd_std_final_coarse.pkl\r\n",
      ".\u001b[1;33mr\u001b[31mw\u001b[0m\u001b[38;5;244m-\u001b[33mr\u001b[31mw\u001b[38;5;244m-\u001b[33mr\u001b[38;5;244m--\u001b[0m \u001b[1;32m461\u001b[0m\u001b[32mM\u001b[0m \u001b[1;33mbzg778\u001b[0m \u001b[34m31 Jul 22:09\u001b[0m userMovement_rf_coarse.pkl\r\n",
      ".\u001b[1;33mr\u001b[31mw\u001b[0m\u001b[38;5;244m-\u001b[33mr\u001b[31mw\u001b[38;5;244m-\u001b[33mr\u001b[38;5;244m--\u001b[0m \u001b[1;32m356\u001b[0m\u001b[32mM\u001b[0m \u001b[1;33mbzg778\u001b[0m \u001b[34m31 Jul 22:35\u001b[0m userMovement_cv_subgrid_search.pkl\r\n"
     ]
    }
   ],
   "source": [
    "!/lscr_paper/allan/bin_allan/exa -ls modified *.pkl"
   ]
  },
  {
   "cell_type": "code",
   "execution_count": 7,
   "metadata": {},
   "outputs": [],
   "source": [
    "for pkl in pickles:\n",
    "    est = lpk(pkl)\n",
    "    # print(pkl, isinstance(est, GridSearchCV))\n",
    "    print(pkl, est.best_estimator_, est.param_grid, sep='\\n', end='\\n\\n')"
   ]
  },
  {
   "cell_type": "code",
   "execution_count": 26,
   "metadata": {},
   "outputs": [],
   "source": [
    "statechange          = lpk('usermove_statechange.pkl')\n",
    "sgd_std_final_coarse = lpk('userMovement_sgd_std_final_coarse.pkl')\n",
    "cv_subgrid_search    = lpk('userMovement_cv_subgrid_search.pkl')\n",
    "rf_coarse            = lpk('userMovement_rf_coarse.pkl')"
   ]
  },
  {
   "cell_type": "code",
   "execution_count": null,
   "metadata": {},
   "outputs": [],
   "source": [
    "rf_coarse.x_va\n",
    "\n",
    "cv_subgrid_search.x_va\n",
    "\n",
    "sgd_std_final_coarse.x_va"
   ]
  },
  {
   "cell_type": "code",
   "execution_count": 33,
   "metadata": {},
   "outputs": [
    {
     "data": {
      "text/plain": [
       "['agg', 'cairo', 'gdk', 'pdf', 'pgf', 'ps', 'svg', 'template']"
      ]
     },
     "execution_count": 33,
     "metadata": {},
     "output_type": "execute_result"
    }
   ],
   "source": [
    "mpl.rcsetup.non_interactive_bk"
   ]
  },
  {
   "cell_type": "code",
   "execution_count": 35,
   "metadata": {},
   "outputs": [
    {
     "data": {
      "text/plain": [
       "['GTK',\n",
       " 'GTKAgg',\n",
       " 'GTKCairo',\n",
       " 'MacOSX',\n",
       " 'Qt4Agg',\n",
       " 'Qt5Agg',\n",
       " 'TkAgg',\n",
       " 'WX',\n",
       " 'WXAgg',\n",
       " 'GTK3Cairo',\n",
       " 'GTK3Agg',\n",
       " 'WebAgg',\n",
       " 'nbAgg',\n",
       " 'agg',\n",
       " 'cairo',\n",
       " 'gdk',\n",
       " 'pdf',\n",
       " 'pgf',\n",
       " 'ps',\n",
       " 'svg',\n",
       " 'template']"
      ]
     },
     "execution_count": 35,
     "metadata": {},
     "output_type": "execute_result"
    }
   ],
   "source": [
    "mpl.rcsetup.all_backends"
   ]
  },
  {
   "cell_type": "code",
   "execution_count": 36,
   "metadata": {},
   "outputs": [
    {
     "data": {
      "text/plain": [
       "Pipeline(memory=None,\n",
       "     steps=[('scaler', StandardScaler(copy=True, with_mean=True, with_std=True)), ('sgd', SGDClassifier(alpha=0.25, average=False, class_weight=None, epsilon=0.1,\n",
       "       eta0=0.0, fit_intercept=True, l1_ratio=0.15,\n",
       "       learning_rate='optimal', loss='log', max_iter=None, n_iter=None,\n",
       "       n_jobs=1, penalty='l2', power_t=0.5, random_state=None,\n",
       "       shuffle=True, tol=None, verbose=0, warm_start=False))])"
      ]
     },
     "execution_count": 36,
     "metadata": {},
     "output_type": "execute_result"
    }
   ],
   "source": [
    "statechange.best_estimator_"
   ]
  },
  {
   "cell_type": "code",
   "execution_count": null,
   "metadata": {},
   "outputs": [],
   "source": []
  },
  {
   "cell_type": "code",
   "execution_count": null,
   "metadata": {},
   "outputs": [],
   "source": []
  },
  {
   "cell_type": "code",
   "execution_count": null,
   "metadata": {},
   "outputs": [],
   "source": []
  },
  {
   "cell_type": "code",
   "execution_count": null,
   "metadata": {},
   "outputs": [],
   "source": []
  },
  {
   "cell_type": "code",
   "execution_count": null,
   "metadata": {},
   "outputs": [],
   "source": []
  },
  {
   "cell_type": "code",
   "execution_count": null,
   "metadata": {},
   "outputs": [],
   "source": []
  },
  {
   "cell_type": "code",
   "execution_count": null,
   "metadata": {},
   "outputs": [],
   "source": []
  },
  {
   "cell_type": "code",
   "execution_count": null,
   "metadata": {},
   "outputs": [],
   "source": []
  },
  {
   "cell_type": "code",
   "execution_count": null,
   "metadata": {},
   "outputs": [],
   "source": []
  }
 ],
 "metadata": {
  "kernelspec": {
   "display_name": "Python 3",
   "language": "python",
   "name": "python3"
  },
  "language_info": {
   "codemirror_mode": {
    "name": "ipython",
    "version": 3
   },
   "file_extension": ".py",
   "mimetype": "text/x-python",
   "name": "python",
   "nbconvert_exporter": "python",
   "pygments_lexer": "ipython3",
   "version": "3.6.4"
  }
 },
 "nbformat": 4,
 "nbformat_minor": 2
}
