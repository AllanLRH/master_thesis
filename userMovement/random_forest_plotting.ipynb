{
 "cells": [
  {
   "cell_type": "code",
   "execution_count": 424,
   "metadata": {},
   "outputs": [],
   "source": [
    "import sys\n",
    "import os\n",
    "sys.path.append(os.path.abspath(\"..\"))\n",
    "\n",
    "import re\n",
    "import multiprocessing\n",
    "from collections import Counter\n",
    "import itertools\n",
    "import pickle\n",
    "import json\n",
    "from IPython.display import display as disp\n",
    "\n",
    "import numpy as np\n",
    "# import bottleneck as bn\n",
    "import pandas as pd\n",
    "import networkx as nx\n",
    "import igraph as ig\n",
    "import matplotlib as mpl\n",
    "import matplotlib.pyplot as plt\n",
    "import seaborn as sns\n",
    "sns.set(context='paper', style='whitegrid', color_codes=True, font_scale=1.8)\n",
    "colorcycle = [(0.498, 0.788, 0.498),\n",
    "              (0.745, 0.682, 0.831),\n",
    "              (0.992, 0.753, 0.525),\n",
    "              (0.220, 0.424, 0.690),\n",
    "              (0.749, 0.357, 0.090),\n",
    "              (1.000, 1.000, 0.600),\n",
    "              (0.941, 0.008, 0.498),\n",
    "              (0.400, 0.400, 0.400)]\n",
    "%matplotlib inline\n",
    "sns.set_palette(colorcycle)\n",
    "mpl.rcParams['figure.max_open_warning'] = 65\n",
    "mpl.rcParams['figure.figsize'] = [12, 7]\n",
    "\n",
    "# import warnings\n",
    "# warnings.simplefilter(\"ignore\", category=DeprecationWarning)\n",
    "# warnings.simplefilter(\"ignore\", category=mpl.cbook.mplDeprecation)\n",
    "# warnings.simplefilter(\"ignore\", category=UserWarning)\n",
    "\n",
    "\n",
    "from speclib import misc, loaders, graph, plotting\n",
    "\n",
    "pd.set_option('display.max_rows', 55)\n",
    "pd.set_option('display.max_columns', 10)\n",
    "pd.set_option('display.width', 1000)\n",
    "np.set_printoptions(linewidth=145)\n",
    "\n",
    "# import pixiedust"
   ]
  },
  {
   "cell_type": "code",
   "execution_count": 4,
   "metadata": {},
   "outputs": [],
   "source": [
    "with open('userMovement_rf_coarse.pkl', 'br') as fid:\n",
    "    rfc = pickle.load(fid)\n",
    "with open('userMovement_rf_finer.pkl', 'br') as fid:\n",
    "    rff = pickle.load(fid)"
   ]
  },
  {
   "cell_type": "code",
   "execution_count": 12,
   "metadata": {},
   "outputs": [
    {
     "data": {
      "text/plain": [
       "Pipeline(memory=None,\n",
       "     steps=[('scaler', StandardScaler(copy=True, with_mean=True, with_std=True)), ('rf', RandomForestClassifier(bootstrap=True, class_weight=None, criterion='entropy',\n",
       "            max_depth=16, max_features='auto', max_leaf_nodes=None,\n",
       "            min_impurity_decrease=0.0, min_impurity_split=None,\n",
       "     ...n_jobs=1,\n",
       "            oob_score=False, random_state=None, verbose=0,\n",
       "            warm_start=False))])"
      ]
     },
     "execution_count": 12,
     "metadata": {},
     "output_type": "execute_result"
    }
   ],
   "source": [
    "rfc.best_estimator_"
   ]
  },
  {
   "cell_type": "code",
   "execution_count": 15,
   "metadata": {},
   "outputs": [
    {
     "data": {
      "text/plain": [
       "0.8589634875117511"
      ]
     },
     "execution_count": 15,
     "metadata": {},
     "output_type": "execute_result"
    }
   ],
   "source": [
    "rfc.validation_auc_score"
   ]
  },
  {
   "cell_type": "code",
   "execution_count": 16,
   "metadata": {},
   "outputs": [
    {
     "data": {
      "text/plain": [
       "0.8584558041362306"
      ]
     },
     "execution_count": 16,
     "metadata": {},
     "output_type": "execute_result"
    }
   ],
   "source": [
    "rfc.best_score_"
   ]
  },
  {
   "cell_type": "code",
   "execution_count": 17,
   "metadata": {},
   "outputs": [
    {
     "data": {
      "text/plain": [
       "0.0005076833755205401"
      ]
     },
     "execution_count": 17,
     "metadata": {},
     "output_type": "execute_result"
    }
   ],
   "source": [
    "rfc.validation_auc_score - rfc.best_score_"
   ]
  },
  {
   "cell_type": "code",
   "execution_count": 27,
   "metadata": {},
   "outputs": [],
   "source": [
    "est = rfc.best_estimator_.steps[1][1] "
   ]
  },
  {
   "cell_type": "code",
   "execution_count": 31,
   "metadata": {},
   "outputs": [
    {
     "data": {
      "text/plain": [
       "(32,)"
      ]
     },
     "execution_count": 31,
     "metadata": {},
     "output_type": "execute_result"
    }
   ],
   "source": [
    "est.feature_importances_.shape"
   ]
  },
  {
   "cell_type": "code",
   "execution_count": 121,
   "metadata": {},
   "outputs": [],
   "source": [
    "tr0 = est.estimators_[0]\n",
    "\n",
    "feature_importance = np.zeros((len(est.estimators_), len(tr0.feature_importances_)))\n",
    "for i, tr in enumerate(est.estimators_):\n",
    "    feature_importance[i, :] = tr.feature_importances_ \n",
    "fi = pd.DataFrame(feature_importance, columns=[f\"{cha}{qrt}\" for cha in \"csgb\" for qrt in range(1, 9)])"
   ]
  },
  {
   "cell_type": "code",
   "execution_count": 272,
   "metadata": {},
   "outputs": [],
   "source": [
    "fi = fi[fi.mean().sort_values(ascending=False).index] * 100"
   ]
  },
  {
   "cell_type": "code",
   "execution_count": 273,
   "metadata": {},
   "outputs": [
    {
     "data": {
      "text/html": [
       "<div>\n",
       "<style scoped>\n",
       "    .dataframe tbody tr th:only-of-type {\n",
       "        vertical-align: middle;\n",
       "    }\n",
       "\n",
       "    .dataframe tbody tr th {\n",
       "        vertical-align: top;\n",
       "    }\n",
       "\n",
       "    .dataframe thead th {\n",
       "        text-align: right;\n",
       "    }\n",
       "</style>\n",
       "<table border=\"1\" class=\"dataframe\">\n",
       "  <thead>\n",
       "    <tr style=\"text-align: right;\">\n",
       "      <th></th>\n",
       "      <th>b7</th>\n",
       "      <th>b3</th>\n",
       "      <th>g7</th>\n",
       "      <th>g3</th>\n",
       "      <th>s7</th>\n",
       "      <th>...</th>\n",
       "      <th>c6</th>\n",
       "      <th>s5</th>\n",
       "      <th>s1</th>\n",
       "      <th>c5</th>\n",
       "      <th>c1</th>\n",
       "    </tr>\n",
       "  </thead>\n",
       "  <tbody>\n",
       "    <tr>\n",
       "      <th>0</th>\n",
       "      <td>44.911739</td>\n",
       "      <td>35.679640</td>\n",
       "      <td>0.976231</td>\n",
       "      <td>1.277292</td>\n",
       "      <td>1.337043</td>\n",
       "      <td>...</td>\n",
       "      <td>0.254748</td>\n",
       "      <td>0.172246</td>\n",
       "      <td>0.279923</td>\n",
       "      <td>0.171319</td>\n",
       "      <td>0.181755</td>\n",
       "    </tr>\n",
       "    <tr>\n",
       "      <th>1</th>\n",
       "      <td>77.268876</td>\n",
       "      <td>2.934542</td>\n",
       "      <td>2.970511</td>\n",
       "      <td>0.707058</td>\n",
       "      <td>0.798130</td>\n",
       "      <td>...</td>\n",
       "      <td>0.249481</td>\n",
       "      <td>0.196723</td>\n",
       "      <td>0.159604</td>\n",
       "      <td>0.162971</td>\n",
       "      <td>0.181244</td>\n",
       "    </tr>\n",
       "    <tr>\n",
       "      <th>2</th>\n",
       "      <td>75.404045</td>\n",
       "      <td>4.641294</td>\n",
       "      <td>2.561013</td>\n",
       "      <td>2.451872</td>\n",
       "      <td>0.564517</td>\n",
       "      <td>...</td>\n",
       "      <td>0.298924</td>\n",
       "      <td>0.180989</td>\n",
       "      <td>0.173417</td>\n",
       "      <td>0.176871</td>\n",
       "      <td>0.152236</td>\n",
       "    </tr>\n",
       "    <tr>\n",
       "      <th>3</th>\n",
       "      <td>52.733662</td>\n",
       "      <td>33.823561</td>\n",
       "      <td>0.718640</td>\n",
       "      <td>1.674308</td>\n",
       "      <td>0.695750</td>\n",
       "      <td>...</td>\n",
       "      <td>0.220801</td>\n",
       "      <td>0.222329</td>\n",
       "      <td>0.176601</td>\n",
       "      <td>0.183128</td>\n",
       "      <td>0.201160</td>\n",
       "    </tr>\n",
       "    <tr>\n",
       "      <th>4</th>\n",
       "      <td>80.813430</td>\n",
       "      <td>3.792741</td>\n",
       "      <td>1.388992</td>\n",
       "      <td>2.500923</td>\n",
       "      <td>0.651349</td>\n",
       "      <td>...</td>\n",
       "      <td>0.198659</td>\n",
       "      <td>0.179466</td>\n",
       "      <td>0.188586</td>\n",
       "      <td>0.184450</td>\n",
       "      <td>0.172293</td>\n",
       "    </tr>\n",
       "  </tbody>\n",
       "</table>\n",
       "<p>5 rows × 32 columns</p>\n",
       "</div>"
      ],
      "text/plain": [
       "          b7         b3        g7        g3        s7    ...           c6        s5        s1        c5        c1\n",
       "0  44.911739  35.679640  0.976231  1.277292  1.337043    ...     0.254748  0.172246  0.279923  0.171319  0.181755\n",
       "1  77.268876   2.934542  2.970511  0.707058  0.798130    ...     0.249481  0.196723  0.159604  0.162971  0.181244\n",
       "2  75.404045   4.641294  2.561013  2.451872  0.564517    ...     0.298924  0.180989  0.173417  0.176871  0.152236\n",
       "3  52.733662  33.823561  0.718640  1.674308  0.695750    ...     0.220801  0.222329  0.176601  0.183128  0.201160\n",
       "4  80.813430   3.792741  1.388992  2.500923  0.651349    ...     0.198659  0.179466  0.188586  0.184450  0.172293\n",
       "\n",
       "[5 rows x 32 columns]"
      ]
     },
     "execution_count": 273,
     "metadata": {},
     "output_type": "execute_result"
    }
   ],
   "source": [
    "fi.head() "
   ]
  },
  {
   "cell_type": "code",
   "execution_count": null,
   "metadata": {},
   "outputs": [],
   "source": []
  },
  {
   "cell_type": "code",
   "execution_count": 274,
   "metadata": {},
   "outputs": [],
   "source": [
    "cat_dct = {'b': 0.0, 'c': 1.0, 'g': 2.0, 's': 3.0} \n",
    "cat = pd.Series(fi.columns.str[0].map(lambda s: cat_dct[s]), index=fi.columns) "
   ]
  },
  {
   "cell_type": "code",
   "execution_count": 275,
   "metadata": {},
   "outputs": [
    {
     "data": {
      "text/html": [
       "<div>\n",
       "<style scoped>\n",
       "    .dataframe tbody tr th:only-of-type {\n",
       "        vertical-align: middle;\n",
       "    }\n",
       "\n",
       "    .dataframe tbody tr th {\n",
       "        vertical-align: top;\n",
       "    }\n",
       "\n",
       "    .dataframe thead th {\n",
       "        text-align: right;\n",
       "    }\n",
       "</style>\n",
       "<table border=\"1\" class=\"dataframe\">\n",
       "  <thead>\n",
       "    <tr style=\"text-align: right;\">\n",
       "      <th></th>\n",
       "      <th>Feature importance</th>\n",
       "      <th>std</th>\n",
       "      <th>cat</th>\n",
       "    </tr>\n",
       "  </thead>\n",
       "  <tbody>\n",
       "    <tr>\n",
       "      <th>b7</th>\n",
       "      <td>60.635047</td>\n",
       "      <td>15.640734</td>\n",
       "      <td>0.0</td>\n",
       "    </tr>\n",
       "    <tr>\n",
       "      <th>b3</th>\n",
       "      <td>14.030777</td>\n",
       "      <td>12.831086</td>\n",
       "      <td>0.0</td>\n",
       "    </tr>\n",
       "    <tr>\n",
       "      <th>g7</th>\n",
       "      <td>5.376852</td>\n",
       "      <td>5.762392</td>\n",
       "      <td>2.0</td>\n",
       "    </tr>\n",
       "    <tr>\n",
       "      <th>g3</th>\n",
       "      <td>3.488555</td>\n",
       "      <td>4.171598</td>\n",
       "      <td>2.0</td>\n",
       "    </tr>\n",
       "    <tr>\n",
       "      <th>s7</th>\n",
       "      <td>1.740810</td>\n",
       "      <td>2.083635</td>\n",
       "      <td>3.0</td>\n",
       "    </tr>\n",
       "  </tbody>\n",
       "</table>\n",
       "</div>"
      ],
      "text/plain": [
       "    Feature importance        std  cat\n",
       "b7           60.635047  15.640734  0.0\n",
       "b3           14.030777  12.831086  0.0\n",
       "g7            5.376852   5.762392  2.0\n",
       "g3            3.488555   4.171598  2.0\n",
       "s7            1.740810   2.083635  3.0"
      ]
     },
     "execution_count": 275,
     "metadata": {},
     "output_type": "execute_result"
    }
   ],
   "source": [
    "fi_agg = pd.DataFrame([fi.mean(), fi.std(), cat], index=['Feature importance', 'std', 'cat']).T\n",
    "\n",
    "fi_agg.head() "
   ]
  },
  {
   "cell_type": "code",
   "execution_count": 280,
   "metadata": {},
   "outputs": [
    {
     "name": "stderr",
     "output_type": "stream",
     "text": [
      "/lscr_paper/allan/miniconda3/envs/py36up/lib/python3.6/site-packages/matplotlib/scale.py:111: RuntimeWarning: invalid value encountered in less_equal\n",
      "  out[a <= 0] = -1000\n"
     ]
    },
    {
     "data": {
      "image/png": "[encoded data removed]",
      "text/plain": [
       "<matplotlib.figure.Figure at 0x7f912f9a22b0>"
      ]
     },
     "metadata": {},
     "output_type": "display_data"
    },
    {
     "data": {
      "image/png": "[encoded data removed]",
      "text/plain": [
       "<matplotlib.figure.Figure at 0x7f912f67c828>"
      ]
     },
     "metadata": {},
     "output_type": "display_data"
    }
   ],
   "source": [
    "for log_switch in [False, True]:\n",
    "    fig, ax = plt.subplots()\n",
    "    bars = sns.barplot(data=fi_agg, y='Feature importance', x=fi_agg.index,\n",
    "                       hue='cat', dodge=False, ax=ax, log=log_switch)\n",
    "    custom_lines = [mpl.patches.Patch(facecolor=colorcycle[0]),\n",
    "                    mpl.patches.Patch(facecolor=colorcycle[1]),\n",
    "                    mpl.patches.Patch(facecolor=colorcycle[2]),\n",
    "                    mpl.patches.Patch(facecolor=colorcycle[3])]\n",
    "    ax.legend(custom_lines, [\"Call, quarter\", \"SMS, quarter\", \"GPS, quarter\",\n",
    "                             \"Bluetooth, quarter\"], loc=\"upper right\")\n",
    "    ax.set_xticklabels(el.get_text().upper() for el in ax.get_xticklabels());\n",
    "    if log_switch:\n",
    "        fig.savefig('figs/random_forest_important_features_logarithmic.pdf')\n",
    "    else:\n",
    "        fig.savefig('figs/random_forest_important_features_linear.pdf')"
   ]
  },
  {
   "cell_type": "code",
   "execution_count": 286,
   "metadata": {},
   "outputs": [
    {
     "data": {
      "text/plain": [
       "Text(0,0.5,'Tree')"
      ]
     },
     "execution_count": 286,
     "metadata": {},
     "output_type": "execute_result"
    },
    {
     "data": {
      "image/png": "[encoded data removed]",
      "text/plain": [
       "<matplotlib.figure.Figure at 0x7f9128005048>"
      ]
     },
     "metadata": {},
     "output_type": "display_data"
    }
   ],
   "source": [
    "fig, ax = plt.subplots()\n",
    "ax.pcolorfast(feature_importance)\n",
    "ax.set_xlabel('Feature')\n",
    "ax.set_ylabel('Tree')"
   ]
  },
  {
   "cell_type": "code",
   "execution_count": 301,
   "metadata": {},
   "outputs": [],
   "source": [
    "from sklearn.tree import export_graphviz \n",
    "import subprocess"
   ]
  },
  {
   "cell_type": "code",
   "execution_count": 336,
   "metadata": {},
   "outputs": [],
   "source": [
    "export_graphviz(tr0, out_file='tree.dot') "
   ]
  },
  {
   "cell_type": "code",
   "execution_count": 310,
   "metadata": {},
   "outputs": [
    {
     "data": {
      "text/plain": [
       "31331"
      ]
     },
     "execution_count": 310,
     "metadata": {},
     "output_type": "execute_result"
    }
   ],
   "source": [
    "tr0.tree_.node_count"
   ]
  },
  {
   "cell_type": "code",
   "execution_count": 314,
   "metadata": {},
   "outputs": [],
   "source": [
    "n_tree_nodes = np.array([tr.tree_.node_count for tr in est.estimators_])"
   ]
  },
  {
   "cell_type": "code",
   "execution_count": 319,
   "metadata": {},
   "outputs": [
    {
     "data": {
      "text/plain": [
       "Text(0,0.5,'# trees')"
      ]
     },
     "execution_count": 319,
     "metadata": {},
     "output_type": "execute_result"
    },
    {
     "data": {
      "image/png": "[encoded data removed]",
      "text/plain": [
       "<matplotlib.figure.Figure at 0x7f912f95b2e8>"
      ]
     },
     "metadata": {},
     "output_type": "display_data"
    }
   ],
   "source": [
    "fig, ax = plt.subplots()\n",
    "ax.hist(n_tree_nodes)\n",
    "ax.set_xlabel(\"# of nodes in tree\")\n",
    "ax.set_ylabel(\"# trees\")"
   ]
  },
  {
   "cell_type": "code",
   "execution_count": 471,
   "metadata": {},
   "outputs": [],
   "source": [
    "kw_rx = re.compile(r'(?P<key>\\S+) = (?P<value>.+)')\n",
    "op_rx = re.compile(r'(?P<key>\\S+) (?P<operator>\\S=) (?P<value>.+)')\n",
    "\n",
    "def parse_label(label):\n",
    "    info = list()\n",
    "    for el in label.split('\\\\n'):\n",
    "        m = kw_rx.match(el)\n",
    "        if m:\n",
    "            info.append(m.groupdict())\n",
    "            continue\n",
    "        m = op_rx.match(el)\n",
    "        if m:\n",
    "            info.append(m.groupdict())\n",
    "            continue \n",
    "    return info "
   ]
  },
  {
   "cell_type": "code",
   "execution_count": 498,
   "metadata": {},
   "outputs": [],
   "source": [
    "x_rx = re.compile(r'X\\[(\\d{1,2})\\]')\n",
    "\n",
    "def parse_label(label):\n",
    "    m = x_rx.search(label)\n",
    "    if m:\n",
    "        return int(m.groups()[0]) \n",
    "    return None"
   ]
  },
  {
   "cell_type": "code",
   "execution_count": 499,
   "metadata": {},
   "outputs": [],
   "source": [
    "nodes, edges = list(), list() \n",
    "\n",
    "with open(\"tree.dot\") as fid:\n",
    "    for line in fid:\n",
    "        try:\n",
    "            if 'label' in line:\n",
    "                start = line.find('\"') + 1\n",
    "                end = line.find('\"', start)\n",
    "                lbl = line[start:end]\n",
    "                nodes.append((int(line.split(' ', maxsplit=1)[0]),\n",
    "                              parse_label(lbl)))\n",
    "                continue\n",
    "            elif '->' in line:\n",
    "                a, b = line.replace(' ;', '').split(' -> ')\n",
    "                edges.append((int(a), int(b)))\n",
    "        except:\n",
    "            print(line)"
   ]
  },
  {
   "cell_type": "code",
   "execution_count": 500,
   "metadata": {},
   "outputs": [],
   "source": [
    "g = nx.DiGraph() \n",
    "\n",
    "for nid, attr in nodes:\n",
    "    g.add_node(nid, nodeattr=attr) \n",
    "g.add_edges_from(edges)"
   ]
  },
  {
   "cell_type": "code",
   "execution_count": 501,
   "metadata": {},
   "outputs": [
    {
     "data": {
      "text/plain": [
       "[(0, 26),\n",
       " (1, 28),\n",
       " (2, 2),\n",
       " (3, 10),\n",
       " (4, 29),\n",
       " (5, 14),\n",
       " (6, 18),\n",
       " (7, 25),\n",
       " (8, 11),\n",
       " (9, 8),\n",
       " (10, 23),\n",
       " (11, 9),\n",
       " (12, 30),\n",
       " (13, 20),\n",
       " (14, 13),\n",
       " (15, 24),\n",
       " (16, None),\n",
       " (17, None),\n",
       " (18, 21),\n",
       " (19, None)]"
      ]
     },
     "execution_count": 501,
     "metadata": {},
     "output_type": "execute_result"
    }
   ],
   "source": [
    "nodes[:20]"
   ]
  },
  {
   "cell_type": "code",
   "execution_count": 474,
   "metadata": {},
   "outputs": [],
   "source": [
    "# nx.connectivity.average_node_connectivity(g)"
   ]
  },
  {
   "cell_type": "code",
   "execution_count": 475,
   "metadata": {},
   "outputs": [],
   "source": [
    "# gi = graph.networkx2igraph(g)"
   ]
  },
  {
   "cell_type": "code",
   "execution_count": 476,
   "metadata": {},
   "outputs": [],
   "source": [
    "# hst = gi.degree_distribution()"
   ]
  },
  {
   "cell_type": "code",
   "execution_count": 477,
   "metadata": {},
   "outputs": [
    {
     "data": {
      "text/plain": [
       "1.9999361654591084"
      ]
     },
     "execution_count": 477,
     "metadata": {},
     "output_type": "execute_result"
    }
   ],
   "source": [
    "# hst.mean"
   ]
  },
  {
   "cell_type": "code",
   "execution_count": 478,
   "metadata": {},
   "outputs": [
    {
     "data": {
      "text/plain": [
       "0.9999999979625106"
      ]
     },
     "execution_count": 478,
     "metadata": {},
     "output_type": "execute_result"
    }
   ],
   "source": [
    "# hst.sd"
   ]
  },
  {
   "cell_type": "code",
   "execution_count": 479,
   "metadata": {},
   "outputs": [
    {
     "data": {
      "text/plain": [
       "0    15666\n",
       "2    15665\n",
       "dtype: int64"
      ]
     },
     "execution_count": 479,
     "metadata": {},
     "output_type": "execute_result"
    }
   ],
   "source": [
    "# odeg = gi.outdegree() \n",
    "\n",
    "# pd.value_counts(odeg)"
   ]
  },
  {
   "cell_type": "code",
   "execution_count": 480,
   "metadata": {},
   "outputs": [
    {
     "data": {
      "text/plain": [
       "1    31330\n",
       "0        1\n",
       "dtype: int64"
      ]
     },
     "execution_count": 480,
     "metadata": {},
     "output_type": "execute_result"
    }
   ],
   "source": [
    "# ideg = gi.indegree()\n",
    "# pd.value_counts(ideg)"
   ]
  },
  {
   "cell_type": "code",
   "execution_count": 481,
   "metadata": {},
   "outputs": [
    {
     "data": {
      "text/plain": [
       "(array([0]),)"
      ]
     },
     "execution_count": 481,
     "metadata": {},
     "output_type": "execute_result"
    }
   ],
   "source": [
    "# np.where(np.array(g.in_degree)[:, 1] == 0)"
   ]
  },
  {
   "cell_type": "code",
   "execution_count": 502,
   "metadata": {},
   "outputs": [
    {
     "data": {
      "text/plain": [
       "{'nodeattr': 26}"
      ]
     },
     "execution_count": 502,
     "metadata": {},
     "output_type": "execute_result"
    }
   ],
   "source": [
    "g.nodes[0] "
   ]
  },
  {
   "cell_type": "code",
   "execution_count": 503,
   "metadata": {},
   "outputs": [
    {
     "data": {
      "text/plain": [
       "{'nodeattr': 28}"
      ]
     },
     "execution_count": 503,
     "metadata": {},
     "output_type": "execute_result"
    }
   ],
   "source": [
    "g.nodes[1]"
   ]
  },
  {
   "cell_type": "code",
   "execution_count": 504,
   "metadata": {},
   "outputs": [
    {
     "data": {
      "text/plain": [
       "{'nodeattr': 31}"
      ]
     },
     "execution_count": 504,
     "metadata": {},
     "output_type": "execute_result"
    }
   ],
   "source": [
    "g.nodes[16802]"
   ]
  },
  {
   "cell_type": "code",
   "execution_count": 505,
   "metadata": {},
   "outputs": [
    {
     "data": {
      "text/plain": [
       "1"
      ]
     },
     "execution_count": 505,
     "metadata": {},
     "output_type": "execute_result"
    }
   ],
   "source": [
    "nx.shortest_path_length(g, 0, 1)"
   ]
  },
  {
   "cell_type": "code",
   "execution_count": 506,
   "metadata": {},
   "outputs": [],
   "source": [
    "narr = np.array(nodes)"
   ]
  },
  {
   "cell_type": "code",
   "execution_count": 507,
   "metadata": {},
   "outputs": [
    {
     "data": {
      "text/plain": [
       "17    726\n",
       "5     717\n",
       "9     717\n",
       "1     700\n",
       "13    677\n",
       "21    651\n",
       "25    630\n",
       "3     584\n",
       "16    572\n",
       "18    571\n",
       "22    555\n",
       "0     528\n",
       "19    520\n",
       "8     519\n",
       "11    512\n",
       "4     508\n",
       "24    507\n",
       "12    482\n",
       "29    475\n",
       "20    457\n",
       "10    444\n",
       "7     429\n",
       "15    424\n",
       "6     422\n",
       "14    401\n",
       "30    392\n",
       "27    384\n",
       "23    375\n",
       "2     363\n",
       "31    217\n",
       "28    205\n",
       "26      1\n",
       "dtype: int64"
      ]
     },
     "execution_count": 507,
     "metadata": {},
     "output_type": "execute_result"
    }
   ],
   "source": [
    "pd.value_counts(narr[:, 1])"
   ]
  },
  {
   "cell_type": "code",
   "execution_count": null,
   "metadata": {},
   "outputs": [],
   "source": [
    "dot_file = export_graphviz(tr0, out_file=None) "
   ]
  },
  {
   "cell_type": "code",
   "execution_count": 513,
   "metadata": {},
   "outputs": [],
   "source": []
  },
  {
   "cell_type": "code",
   "execution_count": null,
   "metadata": {},
   "outputs": [],
   "source": []
  }
 ],
 "metadata": {
  "kernelspec": {
   "display_name": "Python 3",
   "language": "python",
   "name": "python3"
  },
  "language_info": {
   "codemirror_mode": {
    "name": "ipython",
    "version": 3
   },
   "file_extension": ".py",
   "mimetype": "text/x-python",
   "name": "python",
   "nbconvert_exporter": "python",
   "pygments_lexer": "ipython3",
   "version": "3.6.4"
  }
 },
 "nbformat": 4,
 "nbformat_minor": 2
}
