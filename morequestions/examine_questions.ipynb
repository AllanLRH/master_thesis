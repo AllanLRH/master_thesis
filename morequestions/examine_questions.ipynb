{
 "cells": [
  {
   "cell_type": "code",
   "execution_count": 37,
   "metadata": {},
   "outputs": [],
   "source": [
    "import sys\n",
    "import os\n",
    "sys.path.append(os.path.abspath(\"..\"))\n",
    "\n",
    "import numpy as np\n",
    "import pandas as pd\n",
    "import matplotlib as mpl\n",
    "import matplotlib.pyplot as plt\n",
    "import seaborn as sns\n",
    "import re\n",
    "sns.set(context='paper', style='whitegrid', color_codes=True, font_scale=1.8)\n",
    "colorcycle = [(0.498, 0.788, 0.498),\n",
    "              (0.745, 0.682, 0.831),\n",
    "              (0.992, 0.753, 0.525),\n",
    "              (0.220, 0.424, 0.690),\n",
    "              (0.749, 0.357, 0.090),\n",
    "              (1.000, 1.000, 0.600),\n",
    "              (0.941, 0.008, 0.498),\n",
    "              (0.400, 0.400, 0.400)]\n",
    "sns.set_palette(colorcycle)\n",
    "mpl.rcParams['figure.max_open_warning'] = 65\n",
    "mpl.rcParams['figure.figsize'] = [12, 7]\n",
    "mpl.rcParams['text.usetex'] = True\n",
    "\n",
    "from speclib import misc, plotting, loaders\n",
    "\n",
    "%matplotlib inline"
   ]
  },
  {
   "cell_type": "code",
   "execution_count": 38,
   "metadata": {},
   "outputs": [
    {
     "data": {
      "text/html": [
       "<div>\n",
       "<style scoped>\n",
       "    .dataframe tbody tr th:only-of-type {\n",
       "        vertical-align: middle;\n",
       "    }\n",
       "\n",
       "    .dataframe tbody tr th {\n",
       "        vertical-align: top;\n",
       "    }\n",
       "\n",
       "    .dataframe thead th {\n",
       "        text-align: right;\n",
       "    }\n",
       "</style>\n",
       "<table border=\"1\" class=\"dataframe\">\n",
       "  <thead>\n",
       "    <tr style=\"text-align: right;\">\n",
       "      <th></th>\n",
       "      <th>function_duties__answer</th>\n",
       "      <th>function_duties__answer_type</th>\n",
       "      <th>function_duties__question</th>\n",
       "      <th>function_duties__response</th>\n",
       "      <th>function_duties__condition</th>\n",
       "      <th>narcissism_opponents__answer</th>\n",
       "      <th>narcissism_opponents__answer_type</th>\n",
       "      <th>narcissism_opponents__question</th>\n",
       "      <th>narcissism_opponents__response</th>\n",
       "      <th>narcissism_opponents__condition</th>\n",
       "      <th>...</th>\n",
       "      <th>selfesteem_proud__answer_type</th>\n",
       "      <th>selfesteem_proud__question</th>\n",
       "      <th>selfesteem_proud__response</th>\n",
       "      <th>selfesteem_proud__condition</th>\n",
       "      <th>narcissism_excellent__answer</th>\n",
       "      <th>narcissism_excellent__answer_type</th>\n",
       "      <th>narcissism_excellent__question</th>\n",
       "      <th>narcissism_excellent__response</th>\n",
       "      <th>narcissism_excellent__condition</th>\n",
       "      <th>gender</th>\n",
       "    </tr>\n",
       "  </thead>\n",
       "  <tbody>\n",
       "    <tr>\n",
       "      <th>u0001</th>\n",
       "      <td>0.0</td>\n",
       "      <td>radio</td>\n",
       "      <td>At varetage dine praktiske pligter i hjemmet?</td>\n",
       "      <td>Slet ikke</td>\n",
       "      <td>False</td>\n",
       "      <td>1.0</td>\n",
       "      <td>radio</td>\n",
       "      <td>Jeg nyder for mig selv, når mine modstandere m...</td>\n",
       "      <td>2</td>\n",
       "      <td>False</td>\n",
       "      <td>...</td>\n",
       "      <td>radio</td>\n",
       "      <td>Jeg føler at jeg ikke har meget at være stolt af</td>\n",
       "      <td>Uenig</td>\n",
       "      <td>False</td>\n",
       "      <td>3.0</td>\n",
       "      <td>radio</td>\n",
       "      <td>Jeg formår at være midtpunkt for opmærksomhed ...</td>\n",
       "      <td>4</td>\n",
       "      <td>False</td>\n",
       "      <td>male</td>\n",
       "    </tr>\n",
       "    <tr>\n",
       "      <th>u0002</th>\n",
       "      <td>1.0</td>\n",
       "      <td>radio</td>\n",
       "      <td>At varetage dine praktiske pligter i hjemmet?</td>\n",
       "      <td>Lidt</td>\n",
       "      <td>False</td>\n",
       "      <td>2.0</td>\n",
       "      <td>radio</td>\n",
       "      <td>Jeg nyder for mig selv, når mine modstandere m...</td>\n",
       "      <td>3</td>\n",
       "      <td>False</td>\n",
       "      <td>...</td>\n",
       "      <td>radio</td>\n",
       "      <td>Jeg føler at jeg ikke har meget at være stolt af</td>\n",
       "      <td>Uenig</td>\n",
       "      <td>False</td>\n",
       "      <td>2.0</td>\n",
       "      <td>radio</td>\n",
       "      <td>Jeg formår at være midtpunkt for opmærksomhed ...</td>\n",
       "      <td>3</td>\n",
       "      <td>False</td>\n",
       "      <td>male</td>\n",
       "    </tr>\n",
       "    <tr>\n",
       "      <th>u0003</th>\n",
       "      <td>1.0</td>\n",
       "      <td>radio</td>\n",
       "      <td>At varetage dine praktiske pligter i hjemmet?</td>\n",
       "      <td>Lidt</td>\n",
       "      <td>False</td>\n",
       "      <td>1.0</td>\n",
       "      <td>radio</td>\n",
       "      <td>Jeg nyder for mig selv, når mine modstandere m...</td>\n",
       "      <td>2</td>\n",
       "      <td>False</td>\n",
       "      <td>...</td>\n",
       "      <td>radio</td>\n",
       "      <td>Jeg føler at jeg ikke har meget at være stolt af</td>\n",
       "      <td>Enig</td>\n",
       "      <td>False</td>\n",
       "      <td>1.0</td>\n",
       "      <td>radio</td>\n",
       "      <td>Jeg formår at være midtpunkt for opmærksomhed ...</td>\n",
       "      <td>2</td>\n",
       "      <td>False</td>\n",
       "      <td>male</td>\n",
       "    </tr>\n",
       "    <tr>\n",
       "      <th>u0004</th>\n",
       "      <td>1.0</td>\n",
       "      <td>radio</td>\n",
       "      <td>At varetage dine praktiske pligter i hjemmet?</td>\n",
       "      <td>Lidt</td>\n",
       "      <td>False</td>\n",
       "      <td>2.0</td>\n",
       "      <td>radio</td>\n",
       "      <td>Jeg nyder for mig selv, når mine modstandere m...</td>\n",
       "      <td>3</td>\n",
       "      <td>False</td>\n",
       "      <td>...</td>\n",
       "      <td>radio</td>\n",
       "      <td>Jeg føler at jeg ikke har meget at være stolt af</td>\n",
       "      <td>Uenig</td>\n",
       "      <td>False</td>\n",
       "      <td>1.0</td>\n",
       "      <td>radio</td>\n",
       "      <td>Jeg formår at være midtpunkt for opmærksomhed ...</td>\n",
       "      <td>2</td>\n",
       "      <td>False</td>\n",
       "      <td>male</td>\n",
       "    </tr>\n",
       "    <tr>\n",
       "      <th>u0006</th>\n",
       "      <td>1.0</td>\n",
       "      <td>radio</td>\n",
       "      <td>At varetage dine praktiske pligter i hjemmet?</td>\n",
       "      <td>Lidt</td>\n",
       "      <td>False</td>\n",
       "      <td>1.0</td>\n",
       "      <td>radio</td>\n",
       "      <td>Jeg nyder for mig selv, når mine modstandere m...</td>\n",
       "      <td>2</td>\n",
       "      <td>False</td>\n",
       "      <td>...</td>\n",
       "      <td>radio</td>\n",
       "      <td>Jeg føler at jeg ikke har meget at være stolt af</td>\n",
       "      <td>Stærkt uenig</td>\n",
       "      <td>False</td>\n",
       "      <td>0.0</td>\n",
       "      <td>radio</td>\n",
       "      <td>Jeg formår at være midtpunkt for opmærksomhed ...</td>\n",
       "      <td>Passer slet ikke 1</td>\n",
       "      <td>False</td>\n",
       "      <td>female</td>\n",
       "    </tr>\n",
       "  </tbody>\n",
       "</table>\n",
       "<p>5 rows × 1431 columns</p>\n",
       "</div>"
      ],
      "text/plain": [
       "       function_duties__answer function_duties__answer_type  \\\n",
       "u0001                      0.0                        radio   \n",
       "u0002                      1.0                        radio   \n",
       "u0003                      1.0                        radio   \n",
       "u0004                      1.0                        radio   \n",
       "u0006                      1.0                        radio   \n",
       "\n",
       "                           function_duties__question  \\\n",
       "u0001  At varetage dine praktiske pligter i hjemmet?   \n",
       "u0002  At varetage dine praktiske pligter i hjemmet?   \n",
       "u0003  At varetage dine praktiske pligter i hjemmet?   \n",
       "u0004  At varetage dine praktiske pligter i hjemmet?   \n",
       "u0006  At varetage dine praktiske pligter i hjemmet?   \n",
       "\n",
       "      function_duties__response  function_duties__condition  \\\n",
       "u0001                 Slet ikke                       False   \n",
       "u0002                      Lidt                       False   \n",
       "u0003                      Lidt                       False   \n",
       "u0004                      Lidt                       False   \n",
       "u0006                      Lidt                       False   \n",
       "\n",
       "       narcissism_opponents__answer narcissism_opponents__answer_type  \\\n",
       "u0001                           1.0                             radio   \n",
       "u0002                           2.0                             radio   \n",
       "u0003                           1.0                             radio   \n",
       "u0004                           2.0                             radio   \n",
       "u0006                           1.0                             radio   \n",
       "\n",
       "                          narcissism_opponents__question  \\\n",
       "u0001  Jeg nyder for mig selv, når mine modstandere m...   \n",
       "u0002  Jeg nyder for mig selv, når mine modstandere m...   \n",
       "u0003  Jeg nyder for mig selv, når mine modstandere m...   \n",
       "u0004  Jeg nyder for mig selv, når mine modstandere m...   \n",
       "u0006  Jeg nyder for mig selv, når mine modstandere m...   \n",
       "\n",
       "      narcissism_opponents__response  narcissism_opponents__condition   ...    \\\n",
       "u0001                              2                            False   ...     \n",
       "u0002                              3                            False   ...     \n",
       "u0003                              2                            False   ...     \n",
       "u0004                              3                            False   ...     \n",
       "u0006                              2                            False   ...     \n",
       "\n",
       "       selfesteem_proud__answer_type  \\\n",
       "u0001                          radio   \n",
       "u0002                          radio   \n",
       "u0003                          radio   \n",
       "u0004                          radio   \n",
       "u0006                          radio   \n",
       "\n",
       "                             selfesteem_proud__question  \\\n",
       "u0001  Jeg føler at jeg ikke har meget at være stolt af   \n",
       "u0002  Jeg føler at jeg ikke har meget at være stolt af   \n",
       "u0003  Jeg føler at jeg ikke har meget at være stolt af   \n",
       "u0004  Jeg føler at jeg ikke har meget at være stolt af   \n",
       "u0006  Jeg føler at jeg ikke har meget at være stolt af   \n",
       "\n",
       "      selfesteem_proud__response selfesteem_proud__condition  \\\n",
       "u0001                      Uenig                       False   \n",
       "u0002                      Uenig                       False   \n",
       "u0003                       Enig                       False   \n",
       "u0004                      Uenig                       False   \n",
       "u0006               Stærkt uenig                       False   \n",
       "\n",
       "       narcissism_excellent__answer  narcissism_excellent__answer_type  \\\n",
       "u0001                           3.0                              radio   \n",
       "u0002                           2.0                              radio   \n",
       "u0003                           1.0                              radio   \n",
       "u0004                           1.0                              radio   \n",
       "u0006                           0.0                              radio   \n",
       "\n",
       "                          narcissism_excellent__question  \\\n",
       "u0001  Jeg formår at være midtpunkt for opmærksomhed ...   \n",
       "u0002  Jeg formår at være midtpunkt for opmærksomhed ...   \n",
       "u0003  Jeg formår at være midtpunkt for opmærksomhed ...   \n",
       "u0004  Jeg formår at være midtpunkt for opmærksomhed ...   \n",
       "u0006  Jeg formår at være midtpunkt for opmærksomhed ...   \n",
       "\n",
       "      narcissism_excellent__response narcissism_excellent__condition  gender  \n",
       "u0001                              4                           False    male  \n",
       "u0002                              3                           False    male  \n",
       "u0003                              2                           False    male  \n",
       "u0004                              2                           False    male  \n",
       "u0006             Passer slet ikke 1                           False  female  \n",
       "\n",
       "[5 rows x 1431 columns]"
      ]
     },
     "execution_count": 38,
     "metadata": {},
     "output_type": "execute_result"
    }
   ],
   "source": [
    "df = pd.read_pickle('../../allan_data/RGender_.pkl')\n",
    "userAlias = loaders.Useralias()\n",
    "df.index = df.index.map(lambda s: userAlias[s])\n",
    "q = misc.QuestionCompleter(df)\n",
    "f = misc.QuestionFilterer(df)\n",
    "\n",
    "df.head()"
   ]
  },
  {
   "cell_type": "code",
   "execution_count": 39,
   "metadata": {},
   "outputs": [
    {
     "name": "stdout",
     "output_type": "stream",
     "text": [
      "alcohol_binge10__question\n",
      "Drukket mere end 10 genstande på en dag/aften\n",
      "--------------\n",
      "alcohol_binge5__question\n",
      "Drukket mere end 5 genstande på en dag/aften\n",
      "--------------\n",
      "alcohol_debut__question\n",
      "Hvor gammel var du første gang du drak mindst en genstand?\n",
      "--------------\n",
      "alcohol_drunk__question\n",
      "Hvor mange gange er du blevet fuld af at drikke alkohol i løbet af  <u>de sidste 30 dage</u>?\n",
      "--------------\n",
      "alcohol_everyday__question\n",
      "Drukket dig fuld på en hverdagsaften/dag, hvor du skulle i skole eller på dit fuldtidsjob dagen efter\n",
      "--------------\n",
      "alcohol_very_drunk__question\n",
      "Drukket dig meget fuld\n",
      "--------------\n",
      "alcohol_volume_friday__question\n",
      "\n",
      "--------------\n",
      "alcohol_volume_monday__question\n",
      "\n",
      "--------------\n",
      "alcohol_volume_saturday__question\n",
      "\n",
      "--------------\n",
      "alcohol_volume_sunday__question\n",
      "\n",
      "--------------\n",
      "alcohol_volume_thursday__question\n",
      "\n",
      "--------------\n",
      "alcohol_volume_tuesday__question\n",
      "\n",
      "--------------\n",
      "alcohol_volume_wednesday__question\n",
      "\n",
      "--------------\n",
      "alcohol_weekend__question\n",
      "Drukket alkohol i weekenden\n",
      "--------------\n"
     ]
    }
   ],
   "source": [
    "for col, question in ((col, df[col].unique()[0]) for col in\n",
    "                      sorted(df.filter(regex='alcohol.+?__question').columns)):\n",
    "    print(col, question, sep='\\n', end='\\n--------------\\n')"
   ]
  },
  {
   "cell_type": "code",
   "execution_count": 40,
   "metadata": {
    "scrolled": false
   },
   "outputs": [
    {
     "data": {
      "text/html": [
       "<h3><i>Question:</i>  Drukket mere end 5 genstande på en dag/aften</h3>"
      ],
      "text/plain": [
       "<IPython.core.display.HTML object>"
      ]
     },
     "metadata": {},
     "output_type": "display_data"
    },
    {
     "data": {
      "text/html": [
       "<i>Question str:</i>    <tt>alcohol_binge5</tt>"
      ],
      "text/plain": [
       "<IPython.core.display.HTML object>"
      ]
     },
     "metadata": {},
     "output_type": "display_data"
    },
    {
     "data": {
      "text/html": [
       "<i>Answer type:</i>    <tt>radio</tt>"
      ],
      "text/plain": [
       "<IPython.core.display.HTML object>"
      ]
     },
     "metadata": {},
     "output_type": "display_data"
    },
    {
     "data": {
      "text/html": [
       "<div>\n",
       "<style scoped>\n",
       "    .dataframe tbody tr th:only-of-type {\n",
       "        vertical-align: middle;\n",
       "    }\n",
       "\n",
       "    .dataframe tbody tr th {\n",
       "        vertical-align: top;\n",
       "    }\n",
       "\n",
       "    .dataframe thead th {\n",
       "        text-align: right;\n",
       "    }\n",
       "</style>\n",
       "<table border=\"1\" class=\"dataframe\">\n",
       "  <thead>\n",
       "    <tr style=\"text-align: right;\">\n",
       "      <th></th>\n",
       "      <th>response_index</th>\n",
       "      <th>answer_index</th>\n",
       "      <th>count</th>\n",
       "    </tr>\n",
       "  </thead>\n",
       "  <tbody>\n",
       "    <tr>\n",
       "      <th>0</th>\n",
       "      <td>0 gange</td>\n",
       "      <td>0.0</td>\n",
       "      <td>182</td>\n",
       "    </tr>\n",
       "    <tr>\n",
       "      <th>1</th>\n",
       "      <td>1 gange</td>\n",
       "      <td>1.0</td>\n",
       "      <td>189</td>\n",
       "    </tr>\n",
       "    <tr>\n",
       "      <th>2</th>\n",
       "      <td>2 gange</td>\n",
       "      <td>2.0</td>\n",
       "      <td>164</td>\n",
       "    </tr>\n",
       "    <tr>\n",
       "      <th>3</th>\n",
       "      <td>3 gange</td>\n",
       "      <td>3.0</td>\n",
       "      <td>153</td>\n",
       "    </tr>\n",
       "    <tr>\n",
       "      <th>4</th>\n",
       "      <td>4-5 gange</td>\n",
       "      <td>4.0</td>\n",
       "      <td>120</td>\n",
       "    </tr>\n",
       "    <tr>\n",
       "      <th>5</th>\n",
       "      <td>6+ gange</td>\n",
       "      <td>5.0</td>\n",
       "      <td>95</td>\n",
       "    </tr>\n",
       "  </tbody>\n",
       "</table>\n",
       "</div>"
      ],
      "text/plain": [
       "  response_index  answer_index  count\n",
       "0        0 gange           0.0    182\n",
       "1        1 gange           1.0    189\n",
       "2        2 gange           2.0    164\n",
       "3        3 gange           3.0    153\n",
       "4      4-5 gange           4.0    120\n",
       "5       6+ gange           5.0     95"
      ]
     },
     "metadata": {},
     "output_type": "display_data"
    },
    {
     "data": {
      "text/html": [
       "<div>\n",
       "<style scoped>\n",
       "    .dataframe tbody tr th:only-of-type {\n",
       "        vertical-align: middle;\n",
       "    }\n",
       "\n",
       "    .dataframe tbody tr th {\n",
       "        vertical-align: top;\n",
       "    }\n",
       "\n",
       "    .dataframe thead th {\n",
       "        text-align: right;\n",
       "    }\n",
       "</style>\n",
       "<table border=\"1\" class=\"dataframe\">\n",
       "  <thead>\n",
       "    <tr style=\"text-align: right;\">\n",
       "      <th></th>\n",
       "      <th>alcohol_binge5__answer</th>\n",
       "      <th>alcohol_binge5__response</th>\n",
       "    </tr>\n",
       "  </thead>\n",
       "  <tbody>\n",
       "    <tr>\n",
       "      <th>u0505</th>\n",
       "      <td>4.0</td>\n",
       "      <td>4-5 gange</td>\n",
       "    </tr>\n",
       "    <tr>\n",
       "      <th>u0835</th>\n",
       "      <td>2.0</td>\n",
       "      <td>2 gange</td>\n",
       "    </tr>\n",
       "    <tr>\n",
       "      <th>u0170</th>\n",
       "      <td>NaN</td>\n",
       "      <td>NaN</td>\n",
       "    </tr>\n",
       "    <tr>\n",
       "      <th>u0411</th>\n",
       "      <td>1.0</td>\n",
       "      <td>1 gange</td>\n",
       "    </tr>\n",
       "    <tr>\n",
       "      <th>u0554</th>\n",
       "      <td>0.0</td>\n",
       "      <td>0 gange</td>\n",
       "    </tr>\n",
       "  </tbody>\n",
       "</table>\n",
       "</div>"
      ],
      "text/plain": [
       "       alcohol_binge5__answer alcohol_binge5__response\n",
       "u0505                     4.0                4-5 gange\n",
       "u0835                     2.0                  2 gange\n",
       "u0170                     NaN                      NaN\n",
       "u0411                     1.0                  1 gange\n",
       "u0554                     0.0                  0 gange"
      ]
     },
     "metadata": {},
     "output_type": "display_data"
    },
    {
     "data": {
      "text/html": [
       "<h3><i>Question:</i>  Drukket mere end 10 genstande på en dag/aften</h3>"
      ],
      "text/plain": [
       "<IPython.core.display.HTML object>"
      ]
     },
     "metadata": {},
     "output_type": "display_data"
    },
    {
     "data": {
      "text/html": [
       "<i>Question str:</i>    <tt>alcohol_binge10</tt>"
      ],
      "text/plain": [
       "<IPython.core.display.HTML object>"
      ]
     },
     "metadata": {},
     "output_type": "display_data"
    },
    {
     "data": {
      "text/html": [
       "<i>Answer type:</i>    <tt>radio</tt>"
      ],
      "text/plain": [
       "<IPython.core.display.HTML object>"
      ]
     },
     "metadata": {},
     "output_type": "display_data"
    },
    {
     "data": {
      "text/html": [
       "<div>\n",
       "<style scoped>\n",
       "    .dataframe tbody tr th:only-of-type {\n",
       "        vertical-align: middle;\n",
       "    }\n",
       "\n",
       "    .dataframe tbody tr th {\n",
       "        vertical-align: top;\n",
       "    }\n",
       "\n",
       "    .dataframe thead th {\n",
       "        text-align: right;\n",
       "    }\n",
       "</style>\n",
       "<table border=\"1\" class=\"dataframe\">\n",
       "  <thead>\n",
       "    <tr style=\"text-align: right;\">\n",
       "      <th></th>\n",
       "      <th>response_index</th>\n",
       "      <th>answer_index</th>\n",
       "      <th>count</th>\n",
       "    </tr>\n",
       "  </thead>\n",
       "  <tbody>\n",
       "    <tr>\n",
       "      <th>0</th>\n",
       "      <td>0 gange</td>\n",
       "      <td>0.0</td>\n",
       "      <td>346</td>\n",
       "    </tr>\n",
       "    <tr>\n",
       "      <th>1</th>\n",
       "      <td>1 gange</td>\n",
       "      <td>1.0</td>\n",
       "      <td>190</td>\n",
       "    </tr>\n",
       "    <tr>\n",
       "      <th>2</th>\n",
       "      <td>2 gange</td>\n",
       "      <td>2.0</td>\n",
       "      <td>151</td>\n",
       "    </tr>\n",
       "    <tr>\n",
       "      <th>3</th>\n",
       "      <td>3 gange</td>\n",
       "      <td>3.0</td>\n",
       "      <td>89</td>\n",
       "    </tr>\n",
       "    <tr>\n",
       "      <th>4</th>\n",
       "      <td>4-5 gange</td>\n",
       "      <td>4.0</td>\n",
       "      <td>74</td>\n",
       "    </tr>\n",
       "    <tr>\n",
       "      <th>5</th>\n",
       "      <td>6+ gange</td>\n",
       "      <td>5.0</td>\n",
       "      <td>53</td>\n",
       "    </tr>\n",
       "  </tbody>\n",
       "</table>\n",
       "</div>"
      ],
      "text/plain": [
       "  response_index  answer_index  count\n",
       "0        0 gange           0.0    346\n",
       "1        1 gange           1.0    190\n",
       "2        2 gange           2.0    151\n",
       "3        3 gange           3.0     89\n",
       "4      4-5 gange           4.0     74\n",
       "5       6+ gange           5.0     53"
      ]
     },
     "metadata": {},
     "output_type": "display_data"
    },
    {
     "data": {
      "text/html": [
       "<div>\n",
       "<style scoped>\n",
       "    .dataframe tbody tr th:only-of-type {\n",
       "        vertical-align: middle;\n",
       "    }\n",
       "\n",
       "    .dataframe tbody tr th {\n",
       "        vertical-align: top;\n",
       "    }\n",
       "\n",
       "    .dataframe thead th {\n",
       "        text-align: right;\n",
       "    }\n",
       "</style>\n",
       "<table border=\"1\" class=\"dataframe\">\n",
       "  <thead>\n",
       "    <tr style=\"text-align: right;\">\n",
       "      <th></th>\n",
       "      <th>alcohol_binge10__answer</th>\n",
       "      <th>alcohol_binge10__response</th>\n",
       "    </tr>\n",
       "  </thead>\n",
       "  <tbody>\n",
       "    <tr>\n",
       "      <th>u0648</th>\n",
       "      <td>0.0</td>\n",
       "      <td>0 gange</td>\n",
       "    </tr>\n",
       "    <tr>\n",
       "      <th>u0150</th>\n",
       "      <td>1.0</td>\n",
       "      <td>1 gange</td>\n",
       "    </tr>\n",
       "    <tr>\n",
       "      <th>u0105</th>\n",
       "      <td>0.0</td>\n",
       "      <td>0 gange</td>\n",
       "    </tr>\n",
       "    <tr>\n",
       "      <th>u0551</th>\n",
       "      <td>1.0</td>\n",
       "      <td>1 gange</td>\n",
       "    </tr>\n",
       "    <tr>\n",
       "      <th>u0331</th>\n",
       "      <td>0.0</td>\n",
       "      <td>0 gange</td>\n",
       "    </tr>\n",
       "  </tbody>\n",
       "</table>\n",
       "</div>"
      ],
      "text/plain": [
       "       alcohol_binge10__answer alcohol_binge10__response\n",
       "u0648                      0.0                   0 gange\n",
       "u0150                      1.0                   1 gange\n",
       "u0105                      0.0                   0 gange\n",
       "u0551                      1.0                   1 gange\n",
       "u0331                      0.0                   0 gange"
      ]
     },
     "metadata": {},
     "output_type": "display_data"
    },
    {
     "data": {
      "text/html": [
       "<h3><i>Question:</i>  Drukket dig meget fuld</h3>"
      ],
      "text/plain": [
       "<IPython.core.display.HTML object>"
      ]
     },
     "metadata": {},
     "output_type": "display_data"
    },
    {
     "data": {
      "text/html": [
       "<i>Question str:</i>    <tt>alcohol_very_drunk</tt>"
      ],
      "text/plain": [
       "<IPython.core.display.HTML object>"
      ]
     },
     "metadata": {},
     "output_type": "display_data"
    },
    {
     "data": {
      "text/html": [
       "<i>Answer type:</i>    <tt>radio</tt>"
      ],
      "text/plain": [
       "<IPython.core.display.HTML object>"
      ]
     },
     "metadata": {},
     "output_type": "display_data"
    },
    {
     "data": {
      "text/html": [
       "<div>\n",
       "<style scoped>\n",
       "    .dataframe tbody tr th:only-of-type {\n",
       "        vertical-align: middle;\n",
       "    }\n",
       "\n",
       "    .dataframe tbody tr th {\n",
       "        vertical-align: top;\n",
       "    }\n",
       "\n",
       "    .dataframe thead th {\n",
       "        text-align: right;\n",
       "    }\n",
       "</style>\n",
       "<table border=\"1\" class=\"dataframe\">\n",
       "  <thead>\n",
       "    <tr style=\"text-align: right;\">\n",
       "      <th></th>\n",
       "      <th>response_index</th>\n",
       "      <th>answer_index</th>\n",
       "      <th>count</th>\n",
       "    </tr>\n",
       "  </thead>\n",
       "  <tbody>\n",
       "    <tr>\n",
       "      <th>0</th>\n",
       "      <td>0 gange</td>\n",
       "      <td>0.0</td>\n",
       "      <td>307</td>\n",
       "    </tr>\n",
       "    <tr>\n",
       "      <th>1</th>\n",
       "      <td>1 gange</td>\n",
       "      <td>1.0</td>\n",
       "      <td>216</td>\n",
       "    </tr>\n",
       "    <tr>\n",
       "      <th>2</th>\n",
       "      <td>2 gange</td>\n",
       "      <td>2.0</td>\n",
       "      <td>155</td>\n",
       "    </tr>\n",
       "    <tr>\n",
       "      <th>3</th>\n",
       "      <td>3 gange</td>\n",
       "      <td>3.0</td>\n",
       "      <td>97</td>\n",
       "    </tr>\n",
       "    <tr>\n",
       "      <th>4</th>\n",
       "      <td>4-5 gange</td>\n",
       "      <td>4.0</td>\n",
       "      <td>92</td>\n",
       "    </tr>\n",
       "    <tr>\n",
       "      <th>5</th>\n",
       "      <td>6+ gange</td>\n",
       "      <td>5.0</td>\n",
       "      <td>36</td>\n",
       "    </tr>\n",
       "  </tbody>\n",
       "</table>\n",
       "</div>"
      ],
      "text/plain": [
       "  response_index  answer_index  count\n",
       "0        0 gange           0.0    307\n",
       "1        1 gange           1.0    216\n",
       "2        2 gange           2.0    155\n",
       "3        3 gange           3.0     97\n",
       "4      4-5 gange           4.0     92\n",
       "5       6+ gange           5.0     36"
      ]
     },
     "metadata": {},
     "output_type": "display_data"
    },
    {
     "data": {
      "text/html": [
       "<div>\n",
       "<style scoped>\n",
       "    .dataframe tbody tr th:only-of-type {\n",
       "        vertical-align: middle;\n",
       "    }\n",
       "\n",
       "    .dataframe tbody tr th {\n",
       "        vertical-align: top;\n",
       "    }\n",
       "\n",
       "    .dataframe thead th {\n",
       "        text-align: right;\n",
       "    }\n",
       "</style>\n",
       "<table border=\"1\" class=\"dataframe\">\n",
       "  <thead>\n",
       "    <tr style=\"text-align: right;\">\n",
       "      <th></th>\n",
       "      <th>alcohol_very_drunk__answer</th>\n",
       "      <th>alcohol_very_drunk__response</th>\n",
       "    </tr>\n",
       "  </thead>\n",
       "  <tbody>\n",
       "    <tr>\n",
       "      <th>u0200</th>\n",
       "      <td>0.0</td>\n",
       "      <td>0 gange</td>\n",
       "    </tr>\n",
       "    <tr>\n",
       "      <th>u0630</th>\n",
       "      <td>1.0</td>\n",
       "      <td>1 gange</td>\n",
       "    </tr>\n",
       "    <tr>\n",
       "      <th>u0967</th>\n",
       "      <td>0.0</td>\n",
       "      <td>0 gange</td>\n",
       "    </tr>\n",
       "    <tr>\n",
       "      <th>u0344</th>\n",
       "      <td>1.0</td>\n",
       "      <td>1 gange</td>\n",
       "    </tr>\n",
       "    <tr>\n",
       "      <th>u0465</th>\n",
       "      <td>2.0</td>\n",
       "      <td>2 gange</td>\n",
       "    </tr>\n",
       "  </tbody>\n",
       "</table>\n",
       "</div>"
      ],
      "text/plain": [
       "       alcohol_very_drunk__answer alcohol_very_drunk__response\n",
       "u0200                         0.0                      0 gange\n",
       "u0630                         1.0                      1 gange\n",
       "u0967                         0.0                      0 gange\n",
       "u0344                         1.0                      1 gange\n",
       "u0465                         2.0                      2 gange"
      ]
     },
     "metadata": {},
     "output_type": "display_data"
    },
    {
     "data": {
      "text/html": [
       "<h3><i>Question:</i>  Hvor gammel var du første gang du drak mindst en genstand?</h3>"
      ],
      "text/plain": [
       "<IPython.core.display.HTML object>"
      ]
     },
     "metadata": {},
     "output_type": "display_data"
    },
    {
     "data": {
      "text/html": [
       "<i>Question str:</i>    <tt>alcohol_debut</tt>"
      ],
      "text/plain": [
       "<IPython.core.display.HTML object>"
      ]
     },
     "metadata": {},
     "output_type": "display_data"
    },
    {
     "data": {
      "text/html": [
       "<i>Answer type:</i>    <tt>number;radio</tt>"
      ],
      "text/plain": [
       "<IPython.core.display.HTML object>"
      ]
     },
     "metadata": {},
     "output_type": "display_data"
    },
    {
     "data": {
      "text/html": [
       "<div>\n",
       "<style scoped>\n",
       "    .dataframe tbody tr th:only-of-type {\n",
       "        vertical-align: middle;\n",
       "    }\n",
       "\n",
       "    .dataframe tbody tr th {\n",
       "        vertical-align: top;\n",
       "    }\n",
       "\n",
       "    .dataframe thead th {\n",
       "        text-align: right;\n",
       "    }\n",
       "</style>\n",
       "<table border=\"1\" class=\"dataframe\">\n",
       "  <thead>\n",
       "    <tr style=\"text-align: right;\">\n",
       "      <th></th>\n",
       "      <th>response_index</th>\n",
       "      <th>answer_index</th>\n",
       "      <th>count</th>\n",
       "    </tr>\n",
       "  </thead>\n",
       "  <tbody>\n",
       "    <tr>\n",
       "      <th>0</th>\n",
       "      <td>14</td>\n",
       "      <td>0.0</td>\n",
       "      <td>33</td>\n",
       "    </tr>\n",
       "    <tr>\n",
       "      <th>1</th>\n",
       "      <td>15</td>\n",
       "      <td>1.0</td>\n",
       "      <td>903</td>\n",
       "    </tr>\n",
       "  </tbody>\n",
       "</table>\n",
       "</div>"
      ],
      "text/plain": [
       "  response_index  answer_index  count\n",
       "0             14           0.0     33\n",
       "1             15           1.0    903"
      ]
     },
     "metadata": {},
     "output_type": "display_data"
    },
    {
     "data": {
      "text/html": [
       "<div>\n",
       "<style scoped>\n",
       "    .dataframe tbody tr th:only-of-type {\n",
       "        vertical-align: middle;\n",
       "    }\n",
       "\n",
       "    .dataframe tbody tr th {\n",
       "        vertical-align: top;\n",
       "    }\n",
       "\n",
       "    .dataframe thead th {\n",
       "        text-align: right;\n",
       "    }\n",
       "</style>\n",
       "<table border=\"1\" class=\"dataframe\">\n",
       "  <thead>\n",
       "    <tr style=\"text-align: right;\">\n",
       "      <th></th>\n",
       "      <th>alcohol_debut__answer</th>\n",
       "      <th>alcohol_debut__response</th>\n",
       "    </tr>\n",
       "  </thead>\n",
       "  <tbody>\n",
       "    <tr>\n",
       "      <th>u0240</th>\n",
       "      <td>1.0</td>\n",
       "      <td>14</td>\n",
       "    </tr>\n",
       "    <tr>\n",
       "      <th>u0101</th>\n",
       "      <td>1.0</td>\n",
       "      <td>16</td>\n",
       "    </tr>\n",
       "    <tr>\n",
       "      <th>u0153</th>\n",
       "      <td>1.0</td>\n",
       "      <td>15</td>\n",
       "    </tr>\n",
       "    <tr>\n",
       "      <th>u0857</th>\n",
       "      <td>1.0</td>\n",
       "      <td>15</td>\n",
       "    </tr>\n",
       "    <tr>\n",
       "      <th>u0932</th>\n",
       "      <td>1.0</td>\n",
       "      <td>16</td>\n",
       "    </tr>\n",
       "  </tbody>\n",
       "</table>\n",
       "</div>"
      ],
      "text/plain": [
       "       alcohol_debut__answer alcohol_debut__response\n",
       "u0240                    1.0                      14\n",
       "u0101                    1.0                      16\n",
       "u0153                    1.0                      15\n",
       "u0857                    1.0                      15\n",
       "u0932                    1.0                      16"
      ]
     },
     "metadata": {},
     "output_type": "display_data"
    },
    {
     "data": {
      "text/html": [
       "<h3><i>Question:</i>  Hvor mange gange er du blevet fuld af at drikke alkohol i løbet af  <u>de sidste 30 dage</u>?</h3>"
      ],
      "text/plain": [
       "<IPython.core.display.HTML object>"
      ]
     },
     "metadata": {},
     "output_type": "display_data"
    },
    {
     "data": {
      "text/html": [
       "<i>Question str:</i>    <tt>alcohol_drunk</tt>"
      ],
      "text/plain": [
       "<IPython.core.display.HTML object>"
      ]
     },
     "metadata": {},
     "output_type": "display_data"
    },
    {
     "data": {
      "text/html": [
       "<i>Answer type:</i>    <tt>radio</tt>"
      ],
      "text/plain": [
       "<IPython.core.display.HTML object>"
      ]
     },
     "metadata": {},
     "output_type": "display_data"
    },
    {
     "data": {
      "text/html": [
       "<div>\n",
       "<style scoped>\n",
       "    .dataframe tbody tr th:only-of-type {\n",
       "        vertical-align: middle;\n",
       "    }\n",
       "\n",
       "    .dataframe tbody tr th {\n",
       "        vertical-align: top;\n",
       "    }\n",
       "\n",
       "    .dataframe thead th {\n",
       "        text-align: right;\n",
       "    }\n",
       "</style>\n",
       "<table border=\"1\" class=\"dataframe\">\n",
       "  <thead>\n",
       "    <tr style=\"text-align: right;\">\n",
       "      <th></th>\n",
       "      <th>response_index</th>\n",
       "      <th>answer_index</th>\n",
       "      <th>count</th>\n",
       "    </tr>\n",
       "  </thead>\n",
       "  <tbody>\n",
       "    <tr>\n",
       "      <th>0</th>\n",
       "      <td>0 gange</td>\n",
       "      <td>0.0</td>\n",
       "      <td>135</td>\n",
       "    </tr>\n",
       "    <tr>\n",
       "      <th>1</th>\n",
       "      <td>1 gange</td>\n",
       "      <td>1.0</td>\n",
       "      <td>124</td>\n",
       "    </tr>\n",
       "    <tr>\n",
       "      <th>2</th>\n",
       "      <td>2 gange</td>\n",
       "      <td>2.0</td>\n",
       "      <td>153</td>\n",
       "    </tr>\n",
       "    <tr>\n",
       "      <th>3</th>\n",
       "      <td>3 gange</td>\n",
       "      <td>3.0</td>\n",
       "      <td>120</td>\n",
       "    </tr>\n",
       "    <tr>\n",
       "      <th>4</th>\n",
       "      <td>4-5 gange</td>\n",
       "      <td>4.0</td>\n",
       "      <td>187</td>\n",
       "    </tr>\n",
       "    <tr>\n",
       "      <th>5</th>\n",
       "      <td>6-9 gange</td>\n",
       "      <td>5.0</td>\n",
       "      <td>136</td>\n",
       "    </tr>\n",
       "    <tr>\n",
       "      <th>6</th>\n",
       "      <td>10+ gange</td>\n",
       "      <td>6.0</td>\n",
       "      <td>48</td>\n",
       "    </tr>\n",
       "  </tbody>\n",
       "</table>\n",
       "</div>"
      ],
      "text/plain": [
       "  response_index  answer_index  count\n",
       "0        0 gange           0.0    135\n",
       "1        1 gange           1.0    124\n",
       "2        2 gange           2.0    153\n",
       "3        3 gange           3.0    120\n",
       "4      4-5 gange           4.0    187\n",
       "5      6-9 gange           5.0    136\n",
       "6      10+ gange           6.0     48"
      ]
     },
     "metadata": {},
     "output_type": "display_data"
    },
    {
     "data": {
      "text/html": [
       "<div>\n",
       "<style scoped>\n",
       "    .dataframe tbody tr th:only-of-type {\n",
       "        vertical-align: middle;\n",
       "    }\n",
       "\n",
       "    .dataframe tbody tr th {\n",
       "        vertical-align: top;\n",
       "    }\n",
       "\n",
       "    .dataframe thead th {\n",
       "        text-align: right;\n",
       "    }\n",
       "</style>\n",
       "<table border=\"1\" class=\"dataframe\">\n",
       "  <thead>\n",
       "    <tr style=\"text-align: right;\">\n",
       "      <th></th>\n",
       "      <th>alcohol_drunk__answer</th>\n",
       "      <th>alcohol_drunk__response</th>\n",
       "    </tr>\n",
       "  </thead>\n",
       "  <tbody>\n",
       "    <tr>\n",
       "      <th>u0611</th>\n",
       "      <td>3.0</td>\n",
       "      <td>3 gange</td>\n",
       "    </tr>\n",
       "    <tr>\n",
       "      <th>u0879</th>\n",
       "      <td>5.0</td>\n",
       "      <td>6-9 gange</td>\n",
       "    </tr>\n",
       "    <tr>\n",
       "      <th>u0532</th>\n",
       "      <td>5.0</td>\n",
       "      <td>6-9 gange</td>\n",
       "    </tr>\n",
       "    <tr>\n",
       "      <th>u1052</th>\n",
       "      <td>6.0</td>\n",
       "      <td>10+ gange</td>\n",
       "    </tr>\n",
       "    <tr>\n",
       "      <th>u0497</th>\n",
       "      <td>2.0</td>\n",
       "      <td>2 gange</td>\n",
       "    </tr>\n",
       "  </tbody>\n",
       "</table>\n",
       "</div>"
      ],
      "text/plain": [
       "       alcohol_drunk__answer alcohol_drunk__response\n",
       "u0611                    3.0                 3 gange\n",
       "u0879                    5.0               6-9 gange\n",
       "u0532                    5.0               6-9 gange\n",
       "u1052                    6.0               10+ gange\n",
       "u0497                    2.0                 2 gange"
      ]
     },
     "metadata": {},
     "output_type": "display_data"
    },
    {
     "data": {
      "text/html": [
       "<h3><i>Question:</i>  Drukket dig fuld på en hverdagsaften/dag, hvor du skulle i skole eller på dit fuldtidsjob dagen efter</h3>"
      ],
      "text/plain": [
       "<IPython.core.display.HTML object>"
      ]
     },
     "metadata": {},
     "output_type": "display_data"
    },
    {
     "data": {
      "text/html": [
       "<i>Question str:</i>    <tt>alcohol_everyday</tt>"
      ],
      "text/plain": [
       "<IPython.core.display.HTML object>"
      ]
     },
     "metadata": {},
     "output_type": "display_data"
    },
    {
     "data": {
      "text/html": [
       "<i>Answer type:</i>    <tt>radio</tt>"
      ],
      "text/plain": [
       "<IPython.core.display.HTML object>"
      ]
     },
     "metadata": {},
     "output_type": "display_data"
    },
    {
     "data": {
      "text/html": [
       "<div>\n",
       "<style scoped>\n",
       "    .dataframe tbody tr th:only-of-type {\n",
       "        vertical-align: middle;\n",
       "    }\n",
       "\n",
       "    .dataframe tbody tr th {\n",
       "        vertical-align: top;\n",
       "    }\n",
       "\n",
       "    .dataframe thead th {\n",
       "        text-align: right;\n",
       "    }\n",
       "</style>\n",
       "<table border=\"1\" class=\"dataframe\">\n",
       "  <thead>\n",
       "    <tr style=\"text-align: right;\">\n",
       "      <th></th>\n",
       "      <th>response_index</th>\n",
       "      <th>answer_index</th>\n",
       "      <th>count</th>\n",
       "    </tr>\n",
       "  </thead>\n",
       "  <tbody>\n",
       "    <tr>\n",
       "      <th>0</th>\n",
       "      <td>0 gange</td>\n",
       "      <td>0.0</td>\n",
       "      <td>759</td>\n",
       "    </tr>\n",
       "    <tr>\n",
       "      <th>1</th>\n",
       "      <td>1 gange</td>\n",
       "      <td>1.0</td>\n",
       "      <td>99</td>\n",
       "    </tr>\n",
       "    <tr>\n",
       "      <th>2</th>\n",
       "      <td>2 gange</td>\n",
       "      <td>2.0</td>\n",
       "      <td>25</td>\n",
       "    </tr>\n",
       "    <tr>\n",
       "      <th>3</th>\n",
       "      <td>3 gange</td>\n",
       "      <td>3.0</td>\n",
       "      <td>11</td>\n",
       "    </tr>\n",
       "    <tr>\n",
       "      <th>4</th>\n",
       "      <td>4-5 gange</td>\n",
       "      <td>4.0</td>\n",
       "      <td>3</td>\n",
       "    </tr>\n",
       "    <tr>\n",
       "      <th>5</th>\n",
       "      <td>6+ gange</td>\n",
       "      <td>5.0</td>\n",
       "      <td>6</td>\n",
       "    </tr>\n",
       "  </tbody>\n",
       "</table>\n",
       "</div>"
      ],
      "text/plain": [
       "  response_index  answer_index  count\n",
       "0        0 gange           0.0    759\n",
       "1        1 gange           1.0     99\n",
       "2        2 gange           2.0     25\n",
       "3        3 gange           3.0     11\n",
       "4      4-5 gange           4.0      3\n",
       "5       6+ gange           5.0      6"
      ]
     },
     "metadata": {},
     "output_type": "display_data"
    },
    {
     "data": {
      "text/html": [
       "<div>\n",
       "<style scoped>\n",
       "    .dataframe tbody tr th:only-of-type {\n",
       "        vertical-align: middle;\n",
       "    }\n",
       "\n",
       "    .dataframe tbody tr th {\n",
       "        vertical-align: top;\n",
       "    }\n",
       "\n",
       "    .dataframe thead th {\n",
       "        text-align: right;\n",
       "    }\n",
       "</style>\n",
       "<table border=\"1\" class=\"dataframe\">\n",
       "  <thead>\n",
       "    <tr style=\"text-align: right;\">\n",
       "      <th></th>\n",
       "      <th>alcohol_everyday__answer</th>\n",
       "      <th>alcohol_everyday__response</th>\n",
       "    </tr>\n",
       "  </thead>\n",
       "  <tbody>\n",
       "    <tr>\n",
       "      <th>u0440</th>\n",
       "      <td>0.0</td>\n",
       "      <td>0 gange</td>\n",
       "    </tr>\n",
       "    <tr>\n",
       "      <th>u0888</th>\n",
       "      <td>0.0</td>\n",
       "      <td>0 gange</td>\n",
       "    </tr>\n",
       "    <tr>\n",
       "      <th>u0081</th>\n",
       "      <td>0.0</td>\n",
       "      <td>0 gange</td>\n",
       "    </tr>\n",
       "    <tr>\n",
       "      <th>u0510</th>\n",
       "      <td>0.0</td>\n",
       "      <td>0 gange</td>\n",
       "    </tr>\n",
       "    <tr>\n",
       "      <th>u0658</th>\n",
       "      <td>0.0</td>\n",
       "      <td>0 gange</td>\n",
       "    </tr>\n",
       "  </tbody>\n",
       "</table>\n",
       "</div>"
      ],
      "text/plain": [
       "       alcohol_everyday__answer alcohol_everyday__response\n",
       "u0440                       0.0                    0 gange\n",
       "u0888                       0.0                    0 gange\n",
       "u0081                       0.0                    0 gange\n",
       "u0510                       0.0                    0 gange\n",
       "u0658                       0.0                    0 gange"
      ]
     },
     "metadata": {},
     "output_type": "display_data"
    },
    {
     "data": {
      "text/html": [
       "<h3><i>Question:</i>  Drukket alkohol i weekenden</h3>"
      ],
      "text/plain": [
       "<IPython.core.display.HTML object>"
      ]
     },
     "metadata": {},
     "output_type": "display_data"
    },
    {
     "data": {
      "text/html": [
       "<i>Question str:</i>    <tt>alcohol_weekend</tt>"
      ],
      "text/plain": [
       "<IPython.core.display.HTML object>"
      ]
     },
     "metadata": {},
     "output_type": "display_data"
    },
    {
     "data": {
      "text/html": [
       "<i>Answer type:</i>    <tt>radio</tt>"
      ],
      "text/plain": [
       "<IPython.core.display.HTML object>"
      ]
     },
     "metadata": {},
     "output_type": "display_data"
    },
    {
     "data": {
      "text/html": [
       "<div>\n",
       "<style scoped>\n",
       "    .dataframe tbody tr th:only-of-type {\n",
       "        vertical-align: middle;\n",
       "    }\n",
       "\n",
       "    .dataframe tbody tr th {\n",
       "        vertical-align: top;\n",
       "    }\n",
       "\n",
       "    .dataframe thead th {\n",
       "        text-align: right;\n",
       "    }\n",
       "</style>\n",
       "<table border=\"1\" class=\"dataframe\">\n",
       "  <thead>\n",
       "    <tr style=\"text-align: right;\">\n",
       "      <th></th>\n",
       "      <th>response_index</th>\n",
       "      <th>answer_index</th>\n",
       "      <th>count</th>\n",
       "    </tr>\n",
       "  </thead>\n",
       "  <tbody>\n",
       "    <tr>\n",
       "      <th>0</th>\n",
       "      <td>0 gange</td>\n",
       "      <td>0.0</td>\n",
       "      <td>113</td>\n",
       "    </tr>\n",
       "    <tr>\n",
       "      <th>1</th>\n",
       "      <td>1 gange</td>\n",
       "      <td>1.0</td>\n",
       "      <td>158</td>\n",
       "    </tr>\n",
       "    <tr>\n",
       "      <th>2</th>\n",
       "      <td>2 gange</td>\n",
       "      <td>2.0</td>\n",
       "      <td>199</td>\n",
       "    </tr>\n",
       "    <tr>\n",
       "      <th>3</th>\n",
       "      <td>3 gange</td>\n",
       "      <td>3.0</td>\n",
       "      <td>173</td>\n",
       "    </tr>\n",
       "    <tr>\n",
       "      <th>4</th>\n",
       "      <td>4-5 gange</td>\n",
       "      <td>4.0</td>\n",
       "      <td>184</td>\n",
       "    </tr>\n",
       "    <tr>\n",
       "      <th>5</th>\n",
       "      <td>6+ gange</td>\n",
       "      <td>5.0</td>\n",
       "      <td>76</td>\n",
       "    </tr>\n",
       "  </tbody>\n",
       "</table>\n",
       "</div>"
      ],
      "text/plain": [
       "  response_index  answer_index  count\n",
       "0        0 gange           0.0    113\n",
       "1        1 gange           1.0    158\n",
       "2        2 gange           2.0    199\n",
       "3        3 gange           3.0    173\n",
       "4      4-5 gange           4.0    184\n",
       "5       6+ gange           5.0     76"
      ]
     },
     "metadata": {},
     "output_type": "display_data"
    },
    {
     "data": {
      "text/html": [
       "<div>\n",
       "<style scoped>\n",
       "    .dataframe tbody tr th:only-of-type {\n",
       "        vertical-align: middle;\n",
       "    }\n",
       "\n",
       "    .dataframe tbody tr th {\n",
       "        vertical-align: top;\n",
       "    }\n",
       "\n",
       "    .dataframe thead th {\n",
       "        text-align: right;\n",
       "    }\n",
       "</style>\n",
       "<table border=\"1\" class=\"dataframe\">\n",
       "  <thead>\n",
       "    <tr style=\"text-align: right;\">\n",
       "      <th></th>\n",
       "      <th>alcohol_weekend__answer</th>\n",
       "      <th>alcohol_weekend__response</th>\n",
       "    </tr>\n",
       "  </thead>\n",
       "  <tbody>\n",
       "    <tr>\n",
       "      <th>u0048</th>\n",
       "      <td>4.0</td>\n",
       "      <td>4-5 gange</td>\n",
       "    </tr>\n",
       "    <tr>\n",
       "      <th>u0709</th>\n",
       "      <td>3.0</td>\n",
       "      <td>3 gange</td>\n",
       "    </tr>\n",
       "    <tr>\n",
       "      <th>u0934</th>\n",
       "      <td>3.0</td>\n",
       "      <td>3 gange</td>\n",
       "    </tr>\n",
       "    <tr>\n",
       "      <th>u0940</th>\n",
       "      <td>2.0</td>\n",
       "      <td>2 gange</td>\n",
       "    </tr>\n",
       "    <tr>\n",
       "      <th>u0797</th>\n",
       "      <td>4.0</td>\n",
       "      <td>4-5 gange</td>\n",
       "    </tr>\n",
       "  </tbody>\n",
       "</table>\n",
       "</div>"
      ],
      "text/plain": [
       "       alcohol_weekend__answer alcohol_weekend__response\n",
       "u0048                      4.0                 4-5 gange\n",
       "u0709                      3.0                   3 gange\n",
       "u0934                      3.0                   3 gange\n",
       "u0940                      2.0                   2 gange\n",
       "u0797                      4.0                 4-5 gange"
      ]
     },
     "metadata": {},
     "output_type": "display_data"
    }
   ],
   "source": [
    "misc.questionSummary(df, 'alcohol_binge5', 5)\n",
    "misc.questionSummary(df, 'alcohol_binge10', 5)\n",
    "misc.questionSummary(df, 'alcohol_very_drunk', 5)\n",
    "misc.questionSummary(df, 'alcohol_debut', 5)\n",
    "misc.questionSummary(df, 'alcohol_drunk', 5)\n",
    "misc.questionSummary(df, 'alcohol_everyday', 5)\n",
    "misc.questionSummary(df, 'alcohol_weekend', 5)\n"
   ]
  },
  {
   "cell_type": "code",
   "execution_count": 41,
   "metadata": {},
   "outputs": [
    {
     "data": {
      "text/plain": [
       "<matplotlib.axes._subplots.AxesSubplot at 0x7f1a5c871e48>"
      ]
     },
     "execution_count": 41,
     "metadata": {},
     "output_type": "execute_result"
    },
    {
     "data": {
      "image/png": "[encoded data removed]",
      "text/plain": [
       "<matplotlib.figure.Figure at 0x7f19e1fbd4e0>"
      ]
     },
     "metadata": {},
     "output_type": "display_data"
    }
   ],
   "source": [
    "df.give_money__response.value_counts().loc[['DKK %d'%i for i in range(0, 101, 25)]].plot.bar(color=colorcycle[0]) "
   ]
  },
  {
   "cell_type": "code",
   "execution_count": 42,
   "metadata": {},
   "outputs": [
    {
     "data": {
      "text/html": [
       "<h3><i>Question:</i>  Hvordan tror du, at du kommer til at placere dig på dit hold på DTU?<br>Jeg tror at jeg kommer til at være:\t</h3>"
      ],
      "text/plain": [
       "<IPython.core.display.HTML object>"
      ]
     },
     "metadata": {},
     "output_type": "display_data"
    },
    {
     "data": {
      "text/html": [
       "<i>Question str:</i>    <tt>homophily_popularity_dtu</tt>"
      ],
      "text/plain": [
       "<IPython.core.display.HTML object>"
      ]
     },
     "metadata": {},
     "output_type": "display_data"
    },
    {
     "data": {
      "text/html": [
       "<i>Answer type:</i>    <tt>radio</tt>"
      ],
      "text/plain": [
       "<IPython.core.display.HTML object>"
      ]
     },
     "metadata": {},
     "output_type": "display_data"
    },
    {
     "data": {
      "text/html": [
       "<div>\n",
       "<style scoped>\n",
       "    .dataframe tbody tr th:only-of-type {\n",
       "        vertical-align: middle;\n",
       "    }\n",
       "\n",
       "    .dataframe tbody tr th {\n",
       "        vertical-align: top;\n",
       "    }\n",
       "\n",
       "    .dataframe thead th {\n",
       "        text-align: right;\n",
       "    }\n",
       "</style>\n",
       "<table border=\"1\" class=\"dataframe\">\n",
       "  <thead>\n",
       "    <tr style=\"text-align: right;\">\n",
       "      <th></th>\n",
       "      <th>response_index</th>\n",
       "      <th>answer_index</th>\n",
       "      <th>count</th>\n",
       "    </tr>\n",
       "  </thead>\n",
       "  <tbody>\n",
       "    <tr>\n",
       "      <th>0</th>\n",
       "      <td>Blandt de allermest populære</td>\n",
       "      <td>0.0</td>\n",
       "      <td>37</td>\n",
       "    </tr>\n",
       "    <tr>\n",
       "      <th>1</th>\n",
       "      <td>I den mere populære halvdel</td>\n",
       "      <td>1.0</td>\n",
       "      <td>316</td>\n",
       "    </tr>\n",
       "    <tr>\n",
       "      <th>2</th>\n",
       "      <td>Omtrent som gennemsnittet</td>\n",
       "      <td>2.0</td>\n",
       "      <td>543</td>\n",
       "    </tr>\n",
       "    <tr>\n",
       "      <th>3</th>\n",
       "      <td>I den mindre populære halvdel</td>\n",
       "      <td>3.0</td>\n",
       "      <td>38</td>\n",
       "    </tr>\n",
       "    <tr>\n",
       "      <th>4</th>\n",
       "      <td>Blandt de allermindst populære</td>\n",
       "      <td>4.0</td>\n",
       "      <td>2</td>\n",
       "    </tr>\n",
       "  </tbody>\n",
       "</table>\n",
       "</div>"
      ],
      "text/plain": [
       "                   response_index  answer_index  count\n",
       "0    Blandt de allermest populære           0.0     37\n",
       "1     I den mere populære halvdel           1.0    316\n",
       "2       Omtrent som gennemsnittet           2.0    543\n",
       "3   I den mindre populære halvdel           3.0     38\n",
       "4  Blandt de allermindst populære           4.0      2"
      ]
     },
     "metadata": {},
     "output_type": "display_data"
    }
   ],
   "source": [
    "misc.questionSummary(df, q.homophily_popularity_dtu)"
   ]
  },
  {
   "cell_type": "code",
   "execution_count": 43,
   "metadata": {},
   "outputs": [
    {
     "data": {
      "text/html": [
       "<h3><i>Question:</i>  Tænk på din adgangsgivende uddannelse til DTU (Gymnasiet, HTX, HHX, HF, VUC…). Hvor vurderer du andres opfattelse af dig selv i din klasse på den adgangsgivende uddannelse?<br>Jeg var: </h3>"
      ],
      "text/plain": [
       "<IPython.core.display.HTML object>"
      ]
     },
     "metadata": {},
     "output_type": "display_data"
    },
    {
     "data": {
      "text/html": [
       "<i>Question str:</i>    <tt>homophily_popularity</tt>"
      ],
      "text/plain": [
       "<IPython.core.display.HTML object>"
      ]
     },
     "metadata": {},
     "output_type": "display_data"
    },
    {
     "data": {
      "text/html": [
       "<i>Answer type:</i>    <tt>radio</tt>"
      ],
      "text/plain": [
       "<IPython.core.display.HTML object>"
      ]
     },
     "metadata": {},
     "output_type": "display_data"
    },
    {
     "data": {
      "text/html": [
       "<div>\n",
       "<style scoped>\n",
       "    .dataframe tbody tr th:only-of-type {\n",
       "        vertical-align: middle;\n",
       "    }\n",
       "\n",
       "    .dataframe tbody tr th {\n",
       "        vertical-align: top;\n",
       "    }\n",
       "\n",
       "    .dataframe thead th {\n",
       "        text-align: right;\n",
       "    }\n",
       "</style>\n",
       "<table border=\"1\" class=\"dataframe\">\n",
       "  <thead>\n",
       "    <tr style=\"text-align: right;\">\n",
       "      <th></th>\n",
       "      <th>response_index</th>\n",
       "      <th>answer_index</th>\n",
       "      <th>count</th>\n",
       "    </tr>\n",
       "  </thead>\n",
       "  <tbody>\n",
       "    <tr>\n",
       "      <th>0</th>\n",
       "      <td>Blandt de allermest populære</td>\n",
       "      <td>0.0</td>\n",
       "      <td>93</td>\n",
       "    </tr>\n",
       "    <tr>\n",
       "      <th>1</th>\n",
       "      <td>I den mere populære halvdel</td>\n",
       "      <td>1.0</td>\n",
       "      <td>324</td>\n",
       "    </tr>\n",
       "    <tr>\n",
       "      <th>2</th>\n",
       "      <td>Omtrent som gennemsnittet</td>\n",
       "      <td>2.0</td>\n",
       "      <td>417</td>\n",
       "    </tr>\n",
       "    <tr>\n",
       "      <th>3</th>\n",
       "      <td>I den mindre populære halvdel</td>\n",
       "      <td>3.0</td>\n",
       "      <td>89</td>\n",
       "    </tr>\n",
       "    <tr>\n",
       "      <th>4</th>\n",
       "      <td>Blandt de allermindst populære</td>\n",
       "      <td>4.0</td>\n",
       "      <td>10</td>\n",
       "    </tr>\n",
       "    <tr>\n",
       "      <th>5</th>\n",
       "      <td>Selvstuderende/havde ingen klasse</td>\n",
       "      <td>5.0</td>\n",
       "      <td>3</td>\n",
       "    </tr>\n",
       "  </tbody>\n",
       "</table>\n",
       "</div>"
      ],
      "text/plain": [
       "                      response_index  answer_index  count\n",
       "0       Blandt de allermest populære           0.0     93\n",
       "1        I den mere populære halvdel           1.0    324\n",
       "2          Omtrent som gennemsnittet           2.0    417\n",
       "3      I den mindre populære halvdel           3.0     89\n",
       "4     Blandt de allermindst populære           4.0     10\n",
       "5  Selvstuderende/havde ingen klasse           5.0      3"
      ]
     },
     "metadata": {},
     "output_type": "display_data"
    }
   ],
   "source": [
    "misc.questionSummary(df, q.homophily_popularity) "
   ]
  },
  {
   "cell_type": "code",
   "execution_count": 44,
   "metadata": {},
   "outputs": [
    {
     "data": {
      "text/html": [
       "<h3><i>Question:</i>  Lægger du vægt på, at de studiekammerater du vil omgås med fra DTU, er nogen som du hygger dig med? Muligheden for at hygge mig sammen med mine studiekammerater er:</h3>"
      ],
      "text/plain": [
       "<IPython.core.display.HTML object>"
      ]
     },
     "metadata": {},
     "output_type": "display_data"
    },
    {
     "data": {
      "text/html": [
       "<i>Question str:</i>    <tt>homophily_socialize</tt>"
      ],
      "text/plain": [
       "<IPython.core.display.HTML object>"
      ]
     },
     "metadata": {},
     "output_type": "display_data"
    },
    {
     "data": {
      "text/html": [
       "<i>Answer type:</i>    <tt>radio</tt>"
      ],
      "text/plain": [
       "<IPython.core.display.HTML object>"
      ]
     },
     "metadata": {},
     "output_type": "display_data"
    },
    {
     "data": {
      "text/html": [
       "<div>\n",
       "<style scoped>\n",
       "    .dataframe tbody tr th:only-of-type {\n",
       "        vertical-align: middle;\n",
       "    }\n",
       "\n",
       "    .dataframe tbody tr th {\n",
       "        vertical-align: top;\n",
       "    }\n",
       "\n",
       "    .dataframe thead th {\n",
       "        text-align: right;\n",
       "    }\n",
       "</style>\n",
       "<table border=\"1\" class=\"dataframe\">\n",
       "  <thead>\n",
       "    <tr style=\"text-align: right;\">\n",
       "      <th></th>\n",
       "      <th>response_index</th>\n",
       "      <th>answer_index</th>\n",
       "      <th>count</th>\n",
       "    </tr>\n",
       "  </thead>\n",
       "  <tbody>\n",
       "    <tr>\n",
       "      <th>0</th>\n",
       "      <td>meget vigtig for mig</td>\n",
       "      <td>0.0</td>\n",
       "      <td>445</td>\n",
       "    </tr>\n",
       "    <tr>\n",
       "      <th>1</th>\n",
       "      <td>vigtig for mig</td>\n",
       "      <td>1.0</td>\n",
       "      <td>423</td>\n",
       "    </tr>\n",
       "    <tr>\n",
       "      <th>2</th>\n",
       "      <td>ikke så vigtig for mig</td>\n",
       "      <td>2.0</td>\n",
       "      <td>57</td>\n",
       "    </tr>\n",
       "    <tr>\n",
       "      <th>3</th>\n",
       "      <td>er ligegyldig</td>\n",
       "      <td>3.0</td>\n",
       "      <td>7</td>\n",
       "    </tr>\n",
       "    <tr>\n",
       "      <th>4</th>\n",
       "      <td>ved ikke</td>\n",
       "      <td>4.0</td>\n",
       "      <td>4</td>\n",
       "    </tr>\n",
       "  </tbody>\n",
       "</table>\n",
       "</div>"
      ],
      "text/plain": [
       "           response_index  answer_index  count\n",
       "0    meget vigtig for mig           0.0    445\n",
       "1          vigtig for mig           1.0    423\n",
       "2  ikke så vigtig for mig           2.0     57\n",
       "3           er ligegyldig           3.0      7\n",
       "4                ved ikke           4.0      4"
      ]
     },
     "metadata": {},
     "output_type": "display_data"
    }
   ],
   "source": [
    "misc.questionSummary(df, q.homophily_socialize)"
   ]
  },
  {
   "cell_type": "code",
   "execution_count": 45,
   "metadata": {},
   "outputs": [
    {
     "data": {
      "text/html": [
       "<h3><i>Question:</i>  Bor du alene?</h3>"
      ],
      "text/plain": [
       "<IPython.core.display.HTML object>"
      ]
     },
     "metadata": {},
     "output_type": "display_data"
    },
    {
     "data": {
      "text/html": [
       "<i>Question str:</i>    <tt>live_alone</tt>"
      ],
      "text/plain": [
       "<IPython.core.display.HTML object>"
      ]
     },
     "metadata": {},
     "output_type": "display_data"
    },
    {
     "data": {
      "text/html": [
       "<i>Answer type:</i>    <tt>radio</tt>"
      ],
      "text/plain": [
       "<IPython.core.display.HTML object>"
      ]
     },
     "metadata": {},
     "output_type": "display_data"
    },
    {
     "data": {
      "text/html": [
       "<div>\n",
       "<style scoped>\n",
       "    .dataframe tbody tr th:only-of-type {\n",
       "        vertical-align: middle;\n",
       "    }\n",
       "\n",
       "    .dataframe tbody tr th {\n",
       "        vertical-align: top;\n",
       "    }\n",
       "\n",
       "    .dataframe thead th {\n",
       "        text-align: right;\n",
       "    }\n",
       "</style>\n",
       "<table border=\"1\" class=\"dataframe\">\n",
       "  <thead>\n",
       "    <tr style=\"text-align: right;\">\n",
       "      <th></th>\n",
       "      <th>response_index</th>\n",
       "      <th>answer_index</th>\n",
       "      <th>count</th>\n",
       "    </tr>\n",
       "  </thead>\n",
       "  <tbody>\n",
       "    <tr>\n",
       "      <th>0</th>\n",
       "      <td>Ja</td>\n",
       "      <td>0.0</td>\n",
       "      <td>374</td>\n",
       "    </tr>\n",
       "    <tr>\n",
       "      <th>1</th>\n",
       "      <td>Nej</td>\n",
       "      <td>1.0</td>\n",
       "      <td>562</td>\n",
       "    </tr>\n",
       "  </tbody>\n",
       "</table>\n",
       "</div>"
      ],
      "text/plain": [
       "  response_index  answer_index  count\n",
       "0             Ja           0.0    374\n",
       "1            Nej           1.0    562"
      ]
     },
     "metadata": {},
     "output_type": "display_data"
    }
   ],
   "source": [
    "misc.questionSummary(df, q.live_alone)"
   ]
  },
  {
   "cell_type": "markdown",
   "metadata": {},
   "source": [
    "Print `locus_of_control` questions"
   ]
  },
  {
   "cell_type": "code",
   "execution_count": 46,
   "metadata": {},
   "outputs": [
    {
     "data": {
      "text/plain": [
       "Mange af de ulykkelige ting der sker i folks liv er delvist fordi de er uheldige    489\n",
       "Folks ulykke er et resultat af de fejl de laver                                     444\n",
       "Name: locus_of_control_1__response, dtype: int64"
      ]
     },
     "metadata": {},
     "output_type": "display_data"
    },
    {
     "data": {
      "text/plain": [
       "Der vil altid være krige uanset hvor meget folk prøver at forebygge det                                   775\n",
       "En af de primære årsager til at vi har krige er at folk ikke er tilstrækkeligt interesserede i politik    158\n",
       "Name: locus_of_control_2__response, dtype: int64"
      ]
     },
     "metadata": {},
     "output_type": "display_data"
    },
    {
     "data": {
      "text/plain": [
       "Desværre bliver et individs værdi ofte overset uanset hvor meget  han eller hun prøver    491\n",
       "I det lange løb får folk den respekt de fortjener i denne verden                          442\n",
       "Name: locus_of_control_3__response, dtype: int64"
      ]
     },
     "metadata": {},
     "output_type": "display_data"
    },
    {
     "data": {
      "text/plain": [
       "Forestillingen om at lærere er unfair i forhold til studerende er nonsens                           571\n",
       "De fleste studerende forstår ikke i hvor høj grad deres karakterer er påvirket af tilfældigheder    362\n",
       "Name: locus_of_control_4__response, dtype: int64"
      ]
     },
     "metadata": {},
     "output_type": "display_data"
    },
    {
     "data": {
      "text/plain": [
       "Dygtige mennesker, der ikke bliver ledere har ikke udnyttet deres muligheder    585\n",
       "Man kan ikke blive en effektiv leder uden ”held i sprøjten\\                     348\n",
       "Name: locus_of_control_5__response, dtype: int64"
      ]
     },
     "metadata": {},
     "output_type": "display_data"
    },
    {
     "data": {
      "text/plain": [
       "Nogle mennesker kan bare ikke lide en uansat hvad man gør                                         609\n",
       "Folk der ikke kan få andre til at lide dem forstår ikke hvordan man finder ud af det med andre    324\n",
       "Name: locus_of_control_6__response, dtype: int64"
      ]
     },
     "metadata": {},
     "output_type": "display_data"
    },
    {
     "data": {
      "text/plain": [
       "At overlade ting til skæbnen har aldrig fungeret ligeså godt for mig som at tage en beslutning om at gøre noget    590\n",
       "Jeg oplever ofte at tingene går deres egen gang                                                                    343\n",
       "Name: locus_of_control_7__response, dtype: int64"
      ]
     },
     "metadata": {},
     "output_type": "display_data"
    },
    {
     "data": {
      "text/plain": [
       "Når der er tale om en velforberedt studerende kan man sjældent, om nogensinde, tale om en unfair eksamen    817\n",
       "Ofte er eksamensspørgsmål så langt fra pensum, at forberedelse reelt ikke giver mening                      116\n",
       "Name: locus_of_control_8__response, dtype: int64"
      ]
     },
     "metadata": {},
     "output_type": "display_data"
    },
    {
     "data": {
      "text/plain": [
       "Det at få succes er et spørgsmål om hårdt arbejde. Held har intet, eller kun meget lidt at gøre med det    615\n",
       "At få et godt job handler mest om at være på det rigtige sted på det rigtige tidspunkt                     318\n",
       "Name: locus_of_control_9__response, dtype: int64"
      ]
     },
     "metadata": {},
     "output_type": "display_data"
    },
    {
     "data": {
      "text/plain": [
       "Den gennemsnitlige borger kan have indflydelse på politiske beslutninger                                    558\n",
       "Verden køres af nogle få mennesker med magt, og der er ikke meget almindelige mennesker kan gøre ved det    375\n",
       "Name: locus_of_control_10__response, dtype: int64"
      ]
     },
     "metadata": {},
     "output_type": "display_data"
    },
    {
     "data": {
      "text/plain": [
       "Når jeg laver planer, er jeg næsten sikker på, at jeg kan få dem til at fungere                                                 620\n",
       "Det er ikke altid klogt at planlægge for langt ud i fremtiden, da mange ting alligevel ender med at blive afgjort tilfældigt    313\n",
       "Name: locus_of_control_11__response, dtype: int64"
      ]
     },
     "metadata": {},
     "output_type": "display_data"
    },
    {
     "data": {
      "text/plain": [
       "Jeg får hvad jeg vil have. Det har intet, eller kun meget lidt, med held at gøre    734\n",
       "Tit kan man ligeså godt slå plat eller krone, når man skal tage en beslutning       199\n",
       "Name: locus_of_control_12__response, dtype: int64"
      ]
     },
     "metadata": {},
     "output_type": "display_data"
    },
    {
     "data": {
      "text/plain": [
       "Hvad der sker for mig, skyldes det jeg selv gør                                      775\n",
       "Nogen gange føler jeg, at jeg ikke har nok kontrol over den retning mit liv tager    158\n",
       "Name: locus_of_control_13__response, dtype: int64"
      ]
     },
     "metadata": {},
     "output_type": "display_data"
    }
   ],
   "source": [
    "tmp = lambda st: int(re.search(r'(\\d+)', st).groups()[0])\n",
    "idx = sorted(df.filter(regex=r'locus_of_control.+__response').columns, key=tmp)\n",
    "for col in idx:\n",
    "    display(df[col].value_counts())"
   ]
  },
  {
   "cell_type": "code",
   "execution_count": 47,
   "metadata": {},
   "outputs": [
    {
     "data": {
      "text/html": [
       "<h3><i>Question:</i>  De fleste mennesker er nogle tabere</h3>"
      ],
      "text/plain": [
       "<IPython.core.display.HTML object>"
      ]
     },
     "metadata": {},
     "output_type": "display_data"
    },
    {
     "data": {
      "text/html": [
       "<i>Question str:</i>    <tt>narcissism_looser</tt>"
      ],
      "text/plain": [
       "<IPython.core.display.HTML object>"
      ]
     },
     "metadata": {},
     "output_type": "display_data"
    },
    {
     "data": {
      "text/html": [
       "<i>Answer type:</i>    <tt>radio</tt>"
      ],
      "text/plain": [
       "<IPython.core.display.HTML object>"
      ]
     },
     "metadata": {},
     "output_type": "display_data"
    },
    {
     "data": {
      "text/html": [
       "<div>\n",
       "<style scoped>\n",
       "    .dataframe tbody tr th:only-of-type {\n",
       "        vertical-align: middle;\n",
       "    }\n",
       "\n",
       "    .dataframe tbody tr th {\n",
       "        vertical-align: top;\n",
       "    }\n",
       "\n",
       "    .dataframe thead th {\n",
       "        text-align: right;\n",
       "    }\n",
       "</style>\n",
       "<table border=\"1\" class=\"dataframe\">\n",
       "  <thead>\n",
       "    <tr style=\"text-align: right;\">\n",
       "      <th></th>\n",
       "      <th>response_index</th>\n",
       "      <th>answer_index</th>\n",
       "      <th>count</th>\n",
       "    </tr>\n",
       "  </thead>\n",
       "  <tbody>\n",
       "    <tr>\n",
       "      <th>0</th>\n",
       "      <td>Passer slet ikke 1</td>\n",
       "      <td>0.0</td>\n",
       "      <td>616</td>\n",
       "    </tr>\n",
       "    <tr>\n",
       "      <th>1</th>\n",
       "      <td>2</td>\n",
       "      <td>1.0</td>\n",
       "      <td>193</td>\n",
       "    </tr>\n",
       "    <tr>\n",
       "      <th>2</th>\n",
       "      <td>3</td>\n",
       "      <td>2.0</td>\n",
       "      <td>73</td>\n",
       "    </tr>\n",
       "    <tr>\n",
       "      <th>3</th>\n",
       "      <td>4</td>\n",
       "      <td>3.0</td>\n",
       "      <td>30</td>\n",
       "    </tr>\n",
       "    <tr>\n",
       "      <th>4</th>\n",
       "      <td>5</td>\n",
       "      <td>4.0</td>\n",
       "      <td>10</td>\n",
       "    </tr>\n",
       "    <tr>\n",
       "      <th>5</th>\n",
       "      <td>6 Passer fuldstændigt</td>\n",
       "      <td>5.0</td>\n",
       "      <td>11</td>\n",
       "    </tr>\n",
       "  </tbody>\n",
       "</table>\n",
       "</div>"
      ],
      "text/plain": [
       "          response_index  answer_index  count\n",
       "0     Passer slet ikke 1           0.0    616\n",
       "1                      2           1.0    193\n",
       "2                      3           2.0     73\n",
       "3                      4           3.0     30\n",
       "4                      5           4.0     10\n",
       "5  6 Passer fuldstændigt           5.0     11"
      ]
     },
     "metadata": {},
     "output_type": "display_data"
    }
   ],
   "source": [
    "misc.questionSummary(df, q.narcissism_looser)"
   ]
  },
  {
   "cell_type": "code",
   "execution_count": 48,
   "metadata": {
    "scrolled": false
   },
   "outputs": [
    {
     "name": "stdout",
     "output_type": "stream",
     "text": [
      "Index(['smoke_daily', 'smoke_freq', 'smoke_volume_cerut', 'smoke_volume_cigar',\n",
      "       'smoke_volume_pibe', 'smoke_first_cigarette', 'smoke_volume_cigarette'],\n",
      "      dtype='object')\n"
     ]
    },
    {
     "data": {
      "text/html": [
       "<h3><i>Question:</i>  At ryge cigaretter dagligt?</h3>"
      ],
      "text/plain": [
       "<IPython.core.display.HTML object>"
      ]
     },
     "metadata": {},
     "output_type": "display_data"
    },
    {
     "data": {
      "text/html": [
       "<i>Question str:</i>    <tt>smoke_daily</tt>"
      ],
      "text/plain": [
       "<IPython.core.display.HTML object>"
      ]
     },
     "metadata": {},
     "output_type": "display_data"
    },
    {
     "data": {
      "text/html": [
       "<i>Answer type:</i>    <tt>radio</tt>"
      ],
      "text/plain": [
       "<IPython.core.display.HTML object>"
      ]
     },
     "metadata": {},
     "output_type": "display_data"
    },
    {
     "data": {
      "text/html": [
       "<div>\n",
       "<style scoped>\n",
       "    .dataframe tbody tr th:only-of-type {\n",
       "        vertical-align: middle;\n",
       "    }\n",
       "\n",
       "    .dataframe tbody tr th {\n",
       "        vertical-align: top;\n",
       "    }\n",
       "\n",
       "    .dataframe thead th {\n",
       "        text-align: right;\n",
       "    }\n",
       "</style>\n",
       "<table border=\"1\" class=\"dataframe\">\n",
       "  <thead>\n",
       "    <tr style=\"text-align: right;\">\n",
       "      <th></th>\n",
       "      <th>response_index</th>\n",
       "      <th>answer_index</th>\n",
       "      <th>count</th>\n",
       "    </tr>\n",
       "  </thead>\n",
       "  <tbody>\n",
       "    <tr>\n",
       "      <th>0</th>\n",
       "      <td>12 år</td>\n",
       "      <td>3.0</td>\n",
       "      <td>2</td>\n",
       "    </tr>\n",
       "    <tr>\n",
       "      <th>1</th>\n",
       "      <td>13 år</td>\n",
       "      <td>4.0</td>\n",
       "      <td>3</td>\n",
       "    </tr>\n",
       "    <tr>\n",
       "      <th>2</th>\n",
       "      <td>14 år</td>\n",
       "      <td>5.0</td>\n",
       "      <td>5</td>\n",
       "    </tr>\n",
       "    <tr>\n",
       "      <th>3</th>\n",
       "      <td>15 år</td>\n",
       "      <td>6.0</td>\n",
       "      <td>9</td>\n",
       "    </tr>\n",
       "    <tr>\n",
       "      <th>4</th>\n",
       "      <td>16 eller mere</td>\n",
       "      <td>7.0</td>\n",
       "      <td>44</td>\n",
       "    </tr>\n",
       "  </tbody>\n",
       "</table>\n",
       "</div>"
      ],
      "text/plain": [
       "  response_index  answer_index  count\n",
       "0          12 år           3.0      2\n",
       "1          13 år           4.0      3\n",
       "2          14 år           5.0      5\n",
       "3          15 år           6.0      9\n",
       "4  16 eller mere           7.0     44"
      ]
     },
     "metadata": {},
     "output_type": "display_data"
    },
    {
     "data": {
      "text/html": [
       "<h3><i>Question:</i>  Ryger du?</h3>"
      ],
      "text/plain": [
       "<IPython.core.display.HTML object>"
      ]
     },
     "metadata": {},
     "output_type": "display_data"
    },
    {
     "data": {
      "text/html": [
       "<i>Question str:</i>    <tt>smoke_freq</tt>"
      ],
      "text/plain": [
       "<IPython.core.display.HTML object>"
      ]
     },
     "metadata": {},
     "output_type": "display_data"
    },
    {
     "data": {
      "text/html": [
       "<i>Answer type:</i>    <tt>radio</tt>"
      ],
      "text/plain": [
       "<IPython.core.display.HTML object>"
      ]
     },
     "metadata": {},
     "output_type": "display_data"
    },
    {
     "data": {
      "text/html": [
       "<div>\n",
       "<style scoped>\n",
       "    .dataframe tbody tr th:only-of-type {\n",
       "        vertical-align: middle;\n",
       "    }\n",
       "\n",
       "    .dataframe tbody tr th {\n",
       "        vertical-align: top;\n",
       "    }\n",
       "\n",
       "    .dataframe thead th {\n",
       "        text-align: right;\n",
       "    }\n",
       "</style>\n",
       "<table border=\"1\" class=\"dataframe\">\n",
       "  <thead>\n",
       "    <tr style=\"text-align: right;\">\n",
       "      <th></th>\n",
       "      <th>response_index</th>\n",
       "      <th>answer_index</th>\n",
       "      <th>count</th>\n",
       "    </tr>\n",
       "  </thead>\n",
       "  <tbody>\n",
       "    <tr>\n",
       "      <th>0</th>\n",
       "      <td>Ja, dagligt</td>\n",
       "      <td>0.0</td>\n",
       "      <td>63</td>\n",
       "    </tr>\n",
       "    <tr>\n",
       "      <th>1</th>\n",
       "      <td>Ja, men ikke dagligt</td>\n",
       "      <td>1.0</td>\n",
       "      <td>98</td>\n",
       "    </tr>\n",
       "    <tr>\n",
       "      <th>2</th>\n",
       "      <td>Nej, men jeg har røget tidligere</td>\n",
       "      <td>2.0</td>\n",
       "      <td>121</td>\n",
       "    </tr>\n",
       "    <tr>\n",
       "      <th>3</th>\n",
       "      <td>Nej, jeg har aldrig røget</td>\n",
       "      <td>3.0</td>\n",
       "      <td>654</td>\n",
       "    </tr>\n",
       "  </tbody>\n",
       "</table>\n",
       "</div>"
      ],
      "text/plain": [
       "                     response_index  answer_index  count\n",
       "0                       Ja, dagligt           0.0     63\n",
       "1              Ja, men ikke dagligt           1.0     98\n",
       "2  Nej, men jeg har røget tidligere           2.0    121\n",
       "3         Nej, jeg har aldrig røget           3.0    654"
      ]
     },
     "metadata": {},
     "output_type": "display_data"
    },
    {
     "data": {
      "text/html": [
       "<h3><i>Question:</i>  </h3>"
      ],
      "text/plain": [
       "<IPython.core.display.HTML object>"
      ]
     },
     "metadata": {},
     "output_type": "display_data"
    },
    {
     "data": {
      "text/html": [
       "<i>Question str:</i>    <tt>smoke_volume_cerut</tt>"
      ],
      "text/plain": [
       "<IPython.core.display.HTML object>"
      ]
     },
     "metadata": {},
     "output_type": "display_data"
    },
    {
     "data": {
      "text/html": [
       "<i>Answer type:</i>    <tt>number</tt>"
      ],
      "text/plain": [
       "<IPython.core.display.HTML object>"
      ]
     },
     "metadata": {},
     "output_type": "display_data"
    },
    {
     "data": {
      "text/html": [
       "<div>\n",
       "<style scoped>\n",
       "    .dataframe tbody tr th:only-of-type {\n",
       "        vertical-align: middle;\n",
       "    }\n",
       "\n",
       "    .dataframe tbody tr th {\n",
       "        vertical-align: top;\n",
       "    }\n",
       "\n",
       "    .dataframe thead th {\n",
       "        text-align: right;\n",
       "    }\n",
       "</style>\n",
       "<table border=\"1\" class=\"dataframe\">\n",
       "  <thead>\n",
       "    <tr style=\"text-align: right;\">\n",
       "      <th></th>\n",
       "      <th>response_index</th>\n",
       "      <th>answer_index</th>\n",
       "      <th>count</th>\n",
       "    </tr>\n",
       "  </thead>\n",
       "  <tbody>\n",
       "    <tr>\n",
       "      <th>0</th>\n",
       "      <td>0.0</td>\n",
       "      <td>0.0</td>\n",
       "      <td>63</td>\n",
       "    </tr>\n",
       "  </tbody>\n",
       "</table>\n",
       "</div>"
      ],
      "text/plain": [
       "   response_index  answer_index  count\n",
       "0             0.0           0.0     63"
      ]
     },
     "metadata": {},
     "output_type": "display_data"
    },
    {
     "data": {
      "text/html": [
       "<h3><i>Question:</i>  </h3>"
      ],
      "text/plain": [
       "<IPython.core.display.HTML object>"
      ]
     },
     "metadata": {},
     "output_type": "display_data"
    },
    {
     "data": {
      "text/html": [
       "<i>Question str:</i>    <tt>smoke_volume_cigar</tt>"
      ],
      "text/plain": [
       "<IPython.core.display.HTML object>"
      ]
     },
     "metadata": {},
     "output_type": "display_data"
    },
    {
     "data": {
      "text/html": [
       "<i>Answer type:</i>    <tt>number</tt>"
      ],
      "text/plain": [
       "<IPython.core.display.HTML object>"
      ]
     },
     "metadata": {},
     "output_type": "display_data"
    },
    {
     "data": {
      "text/html": [
       "<div>\n",
       "<style scoped>\n",
       "    .dataframe tbody tr th:only-of-type {\n",
       "        vertical-align: middle;\n",
       "    }\n",
       "\n",
       "    .dataframe tbody tr th {\n",
       "        vertical-align: top;\n",
       "    }\n",
       "\n",
       "    .dataframe thead th {\n",
       "        text-align: right;\n",
       "    }\n",
       "</style>\n",
       "<table border=\"1\" class=\"dataframe\">\n",
       "  <thead>\n",
       "    <tr style=\"text-align: right;\">\n",
       "      <th></th>\n",
       "      <th>response_index</th>\n",
       "      <th>answer_index</th>\n",
       "      <th>count</th>\n",
       "    </tr>\n",
       "  </thead>\n",
       "  <tbody>\n",
       "    <tr>\n",
       "      <th>0</th>\n",
       "      <td>0.0</td>\n",
       "      <td>0.0</td>\n",
       "      <td>63</td>\n",
       "    </tr>\n",
       "  </tbody>\n",
       "</table>\n",
       "</div>"
      ],
      "text/plain": [
       "   response_index  answer_index  count\n",
       "0             0.0           0.0     63"
      ]
     },
     "metadata": {},
     "output_type": "display_data"
    },
    {
     "data": {
      "text/html": [
       "<h3><i>Question:</i>  </h3>"
      ],
      "text/plain": [
       "<IPython.core.display.HTML object>"
      ]
     },
     "metadata": {},
     "output_type": "display_data"
    },
    {
     "data": {
      "text/html": [
       "<i>Question str:</i>    <tt>smoke_volume_pibe</tt>"
      ],
      "text/plain": [
       "<IPython.core.display.HTML object>"
      ]
     },
     "metadata": {},
     "output_type": "display_data"
    },
    {
     "data": {
      "text/html": [
       "<i>Answer type:</i>    <tt>number</tt>"
      ],
      "text/plain": [
       "<IPython.core.display.HTML object>"
      ]
     },
     "metadata": {},
     "output_type": "display_data"
    },
    {
     "data": {
      "text/html": [
       "<div>\n",
       "<style scoped>\n",
       "    .dataframe tbody tr th:only-of-type {\n",
       "        vertical-align: middle;\n",
       "    }\n",
       "\n",
       "    .dataframe tbody tr th {\n",
       "        vertical-align: top;\n",
       "    }\n",
       "\n",
       "    .dataframe thead th {\n",
       "        text-align: right;\n",
       "    }\n",
       "</style>\n",
       "<table border=\"1\" class=\"dataframe\">\n",
       "  <thead>\n",
       "    <tr style=\"text-align: right;\">\n",
       "      <th></th>\n",
       "      <th>response_index</th>\n",
       "      <th>answer_index</th>\n",
       "      <th>count</th>\n",
       "    </tr>\n",
       "  </thead>\n",
       "  <tbody>\n",
       "    <tr>\n",
       "      <th>0</th>\n",
       "      <td>0.0</td>\n",
       "      <td>0.0</td>\n",
       "      <td>63</td>\n",
       "    </tr>\n",
       "  </tbody>\n",
       "</table>\n",
       "</div>"
      ],
      "text/plain": [
       "   response_index  answer_index  count\n",
       "0             0.0           0.0     63"
      ]
     },
     "metadata": {},
     "output_type": "display_data"
    },
    {
     "data": {
      "text/html": [
       "<h3><i>Question:</i>  At ryge din første cigaret?</h3>"
      ],
      "text/plain": [
       "<IPython.core.display.HTML object>"
      ]
     },
     "metadata": {},
     "output_type": "display_data"
    },
    {
     "data": {
      "text/html": [
       "<i>Question str:</i>    <tt>smoke_first_cigarette</tt>"
      ],
      "text/plain": [
       "<IPython.core.display.HTML object>"
      ]
     },
     "metadata": {},
     "output_type": "display_data"
    },
    {
     "data": {
      "text/html": [
       "<i>Answer type:</i>    <tt>radio</tt>"
      ],
      "text/plain": [
       "<IPython.core.display.HTML object>"
      ]
     },
     "metadata": {},
     "output_type": "display_data"
    },
    {
     "data": {
      "text/html": [
       "<div>\n",
       "<style scoped>\n",
       "    .dataframe tbody tr th:only-of-type {\n",
       "        vertical-align: middle;\n",
       "    }\n",
       "\n",
       "    .dataframe tbody tr th {\n",
       "        vertical-align: top;\n",
       "    }\n",
       "\n",
       "    .dataframe thead th {\n",
       "        text-align: right;\n",
       "    }\n",
       "</style>\n",
       "<table border=\"1\" class=\"dataframe\">\n",
       "  <thead>\n",
       "    <tr style=\"text-align: right;\">\n",
       "      <th></th>\n",
       "      <th>response_index</th>\n",
       "      <th>answer_index</th>\n",
       "      <th>count</th>\n",
       "    </tr>\n",
       "  </thead>\n",
       "  <tbody>\n",
       "    <tr>\n",
       "      <th>0</th>\n",
       "      <td>9 år eller yngre</td>\n",
       "      <td>0.0</td>\n",
       "      <td>6</td>\n",
       "    </tr>\n",
       "    <tr>\n",
       "      <th>1</th>\n",
       "      <td>10 år</td>\n",
       "      <td>1.0</td>\n",
       "      <td>4</td>\n",
       "    </tr>\n",
       "    <tr>\n",
       "      <th>2</th>\n",
       "      <td>11 år</td>\n",
       "      <td>2.0</td>\n",
       "      <td>4</td>\n",
       "    </tr>\n",
       "    <tr>\n",
       "      <th>3</th>\n",
       "      <td>12 år</td>\n",
       "      <td>3.0</td>\n",
       "      <td>14</td>\n",
       "    </tr>\n",
       "    <tr>\n",
       "      <th>4</th>\n",
       "      <td>13 år</td>\n",
       "      <td>4.0</td>\n",
       "      <td>27</td>\n",
       "    </tr>\n",
       "    <tr>\n",
       "      <th>5</th>\n",
       "      <td>14 år</td>\n",
       "      <td>5.0</td>\n",
       "      <td>65</td>\n",
       "    </tr>\n",
       "    <tr>\n",
       "      <th>6</th>\n",
       "      <td>15 år</td>\n",
       "      <td>6.0</td>\n",
       "      <td>60</td>\n",
       "    </tr>\n",
       "    <tr>\n",
       "      <th>7</th>\n",
       "      <td>16 eller mere</td>\n",
       "      <td>7.0</td>\n",
       "      <td>104</td>\n",
       "    </tr>\n",
       "  </tbody>\n",
       "</table>\n",
       "</div>"
      ],
      "text/plain": [
       "     response_index  answer_index  count\n",
       "0  9 år eller yngre           0.0      6\n",
       "1             10 år           1.0      4\n",
       "2             11 år           2.0      4\n",
       "3             12 år           3.0     14\n",
       "4             13 år           4.0     27\n",
       "5             14 år           5.0     65\n",
       "6             15 år           6.0     60\n",
       "7     16 eller mere           7.0    104"
      ]
     },
     "metadata": {},
     "output_type": "display_data"
    },
    {
     "data": {
      "text/html": [
       "<h3><i>Question:</i>  </h3>"
      ],
      "text/plain": [
       "<IPython.core.display.HTML object>"
      ]
     },
     "metadata": {},
     "output_type": "display_data"
    },
    {
     "data": {
      "text/html": [
       "<i>Question str:</i>    <tt>smoke_volume_cigarette</tt>"
      ],
      "text/plain": [
       "<IPython.core.display.HTML object>"
      ]
     },
     "metadata": {},
     "output_type": "display_data"
    },
    {
     "data": {
      "text/html": [
       "<i>Answer type:</i>    <tt>number</tt>"
      ],
      "text/plain": [
       "<IPython.core.display.HTML object>"
      ]
     },
     "metadata": {},
     "output_type": "display_data"
    },
    {
     "data": {
      "text/html": [
       "<div>\n",
       "<style scoped>\n",
       "    .dataframe tbody tr th:only-of-type {\n",
       "        vertical-align: middle;\n",
       "    }\n",
       "\n",
       "    .dataframe tbody tr th {\n",
       "        vertical-align: top;\n",
       "    }\n",
       "\n",
       "    .dataframe thead th {\n",
       "        text-align: right;\n",
       "    }\n",
       "</style>\n",
       "<table border=\"1\" class=\"dataframe\">\n",
       "  <thead>\n",
       "    <tr style=\"text-align: right;\">\n",
       "      <th></th>\n",
       "      <th>response_index</th>\n",
       "      <th>answer_index</th>\n",
       "      <th>count</th>\n",
       "    </tr>\n",
       "  </thead>\n",
       "  <tbody>\n",
       "    <tr>\n",
       "      <th>0</th>\n",
       "      <td>0.0</td>\n",
       "      <td>0.0</td>\n",
       "      <td>1</td>\n",
       "    </tr>\n",
       "    <tr>\n",
       "      <th>1</th>\n",
       "      <td>2.0</td>\n",
       "      <td>2.0</td>\n",
       "      <td>2</td>\n",
       "    </tr>\n",
       "    <tr>\n",
       "      <th>2</th>\n",
       "      <td>3.0</td>\n",
       "      <td>3.0</td>\n",
       "      <td>3</td>\n",
       "    </tr>\n",
       "    <tr>\n",
       "      <th>3</th>\n",
       "      <td>5.0</td>\n",
       "      <td>5.0</td>\n",
       "      <td>11</td>\n",
       "    </tr>\n",
       "    <tr>\n",
       "      <th>4</th>\n",
       "      <td>6.0</td>\n",
       "      <td>6.0</td>\n",
       "      <td>3</td>\n",
       "    </tr>\n",
       "    <tr>\n",
       "      <th>5</th>\n",
       "      <td>7.0</td>\n",
       "      <td>7.0</td>\n",
       "      <td>2</td>\n",
       "    </tr>\n",
       "    <tr>\n",
       "      <th>6</th>\n",
       "      <td>8.0</td>\n",
       "      <td>8.0</td>\n",
       "      <td>4</td>\n",
       "    </tr>\n",
       "    <tr>\n",
       "      <th>7</th>\n",
       "      <td>9.0</td>\n",
       "      <td>9.0</td>\n",
       "      <td>1</td>\n",
       "    </tr>\n",
       "    <tr>\n",
       "      <th>8</th>\n",
       "      <td>10.0</td>\n",
       "      <td>10.0</td>\n",
       "      <td>13</td>\n",
       "    </tr>\n",
       "    <tr>\n",
       "      <th>9</th>\n",
       "      <td>12.0</td>\n",
       "      <td>12.0</td>\n",
       "      <td>1</td>\n",
       "    </tr>\n",
       "    <tr>\n",
       "      <th>10</th>\n",
       "      <td>13.0</td>\n",
       "      <td>13.0</td>\n",
       "      <td>1</td>\n",
       "    </tr>\n",
       "    <tr>\n",
       "      <th>11</th>\n",
       "      <td>14.0</td>\n",
       "      <td>14.0</td>\n",
       "      <td>1</td>\n",
       "    </tr>\n",
       "    <tr>\n",
       "      <th>12</th>\n",
       "      <td>15.0</td>\n",
       "      <td>15.0</td>\n",
       "      <td>10</td>\n",
       "    </tr>\n",
       "    <tr>\n",
       "      <th>13</th>\n",
       "      <td>16.0</td>\n",
       "      <td>16.0</td>\n",
       "      <td>1</td>\n",
       "    </tr>\n",
       "    <tr>\n",
       "      <th>14</th>\n",
       "      <td>17.0</td>\n",
       "      <td>17.0</td>\n",
       "      <td>1</td>\n",
       "    </tr>\n",
       "    <tr>\n",
       "      <th>15</th>\n",
       "      <td>18.0</td>\n",
       "      <td>18.0</td>\n",
       "      <td>2</td>\n",
       "    </tr>\n",
       "    <tr>\n",
       "      <th>16</th>\n",
       "      <td>20.0</td>\n",
       "      <td>20.0</td>\n",
       "      <td>6</td>\n",
       "    </tr>\n",
       "  </tbody>\n",
       "</table>\n",
       "</div>"
      ],
      "text/plain": [
       "    response_index  answer_index  count\n",
       "0              0.0           0.0      1\n",
       "1              2.0           2.0      2\n",
       "2              3.0           3.0      3\n",
       "3              5.0           5.0     11\n",
       "4              6.0           6.0      3\n",
       "5              7.0           7.0      2\n",
       "6              8.0           8.0      4\n",
       "7              9.0           9.0      1\n",
       "8             10.0          10.0     13\n",
       "9             12.0          12.0      1\n",
       "10            13.0          13.0      1\n",
       "11            14.0          14.0      1\n",
       "12            15.0          15.0     10\n",
       "13            16.0          16.0      1\n",
       "14            17.0          17.0      1\n",
       "15            18.0          18.0      2\n",
       "16            20.0          20.0      6"
      ]
     },
     "metadata": {},
     "output_type": "display_data"
    }
   ],
   "source": [
    "idx = df.filter(regex='smoke.+__question').columns.str.replace('__question', '')\n",
    "print(idx)\n",
    "for col in idx:\n",
    "    misc.questionSummary(df, col)"
   ]
  },
  {
   "cell_type": "code",
   "execution_count": 60,
   "metadata": {},
   "outputs": [
    {
     "data": {
      "image/png": "[encoded data removed]",
      "text/plain": [
       "<matplotlib.figure.Figure at 0x7f1a8c63eba8>"
      ]
     },
     "metadata": {},
     "output_type": "display_data"
    }
   ],
   "source": [
    "fig, ax = plt.subplots()\n",
    "ser = df.filter(regex=r'smoke_volume.+__answer$').sum(axis=1, min_count=1).dropna().astype(int)\n",
    "ser.value_counts().sort_index().plot.bar(color=colorcycle[0], ax=ax, rot=0) \n",
    "ax.set_xlabel(\"Used smoking-consumables pr. day\")\n",
    "ax.set_ylabel(\"Number of responses\")\n",
    "fig.tight_layout()\n",
    "fig.savefig('figs/daily_smokers.pdf')  "
   ]
  },
  {
   "cell_type": "code",
   "execution_count": 14,
   "metadata": {},
   "outputs": [
    {
     "data": {
      "text/html": [
       "<div>\n",
       "<style scoped>\n",
       "    .dataframe tbody tr th:only-of-type {\n",
       "        vertical-align: middle;\n",
       "    }\n",
       "\n",
       "    .dataframe tbody tr th {\n",
       "        vertical-align: top;\n",
       "    }\n",
       "\n",
       "    .dataframe thead th {\n",
       "        text-align: right;\n",
       "    }\n",
       "</style>\n",
       "<table border=\"1\" class=\"dataframe\">\n",
       "  <thead>\n",
       "    <tr style=\"text-align: right;\">\n",
       "      <th></th>\n",
       "      <th>function_duties__answer</th>\n",
       "      <th>function_duties__answer_type</th>\n",
       "      <th>function_duties__question</th>\n",
       "      <th>function_duties__response</th>\n",
       "      <th>function_duties__condition</th>\n",
       "      <th>narcissism_opponents__answer</th>\n",
       "      <th>narcissism_opponents__answer_type</th>\n",
       "      <th>narcissism_opponents__question</th>\n",
       "      <th>narcissism_opponents__response</th>\n",
       "      <th>narcissism_opponents__condition</th>\n",
       "      <th>...</th>\n",
       "      <th>selfesteem_proud__answer_type</th>\n",
       "      <th>selfesteem_proud__question</th>\n",
       "      <th>selfesteem_proud__response</th>\n",
       "      <th>selfesteem_proud__condition</th>\n",
       "      <th>narcissism_excellent__answer</th>\n",
       "      <th>narcissism_excellent__answer_type</th>\n",
       "      <th>narcissism_excellent__question</th>\n",
       "      <th>narcissism_excellent__response</th>\n",
       "      <th>narcissism_excellent__condition</th>\n",
       "      <th>gender</th>\n",
       "    </tr>\n",
       "  </thead>\n",
       "  <tbody>\n",
       "    <tr>\n",
       "      <th>u0001</th>\n",
       "      <td>0.0</td>\n",
       "      <td>radio</td>\n",
       "      <td>At varetage dine praktiske pligter i hjemmet?</td>\n",
       "      <td>Slet ikke</td>\n",
       "      <td>False</td>\n",
       "      <td>1.0</td>\n",
       "      <td>radio</td>\n",
       "      <td>Jeg nyder for mig selv, når mine modstandere m...</td>\n",
       "      <td>2</td>\n",
       "      <td>False</td>\n",
       "      <td>...</td>\n",
       "      <td>radio</td>\n",
       "      <td>Jeg føler at jeg ikke har meget at være stolt af</td>\n",
       "      <td>Uenig</td>\n",
       "      <td>False</td>\n",
       "      <td>3.0</td>\n",
       "      <td>radio</td>\n",
       "      <td>Jeg formår at være midtpunkt for opmærksomhed ...</td>\n",
       "      <td>4</td>\n",
       "      <td>False</td>\n",
       "      <td>male</td>\n",
       "    </tr>\n",
       "    <tr>\n",
       "      <th>u0002</th>\n",
       "      <td>1.0</td>\n",
       "      <td>radio</td>\n",
       "      <td>At varetage dine praktiske pligter i hjemmet?</td>\n",
       "      <td>Lidt</td>\n",
       "      <td>False</td>\n",
       "      <td>2.0</td>\n",
       "      <td>radio</td>\n",
       "      <td>Jeg nyder for mig selv, når mine modstandere m...</td>\n",
       "      <td>3</td>\n",
       "      <td>False</td>\n",
       "      <td>...</td>\n",
       "      <td>radio</td>\n",
       "      <td>Jeg føler at jeg ikke har meget at være stolt af</td>\n",
       "      <td>Uenig</td>\n",
       "      <td>False</td>\n",
       "      <td>2.0</td>\n",
       "      <td>radio</td>\n",
       "      <td>Jeg formår at være midtpunkt for opmærksomhed ...</td>\n",
       "      <td>3</td>\n",
       "      <td>False</td>\n",
       "      <td>male</td>\n",
       "    </tr>\n",
       "    <tr>\n",
       "      <th>u0003</th>\n",
       "      <td>1.0</td>\n",
       "      <td>radio</td>\n",
       "      <td>At varetage dine praktiske pligter i hjemmet?</td>\n",
       "      <td>Lidt</td>\n",
       "      <td>False</td>\n",
       "      <td>1.0</td>\n",
       "      <td>radio</td>\n",
       "      <td>Jeg nyder for mig selv, når mine modstandere m...</td>\n",
       "      <td>2</td>\n",
       "      <td>False</td>\n",
       "      <td>...</td>\n",
       "      <td>radio</td>\n",
       "      <td>Jeg føler at jeg ikke har meget at være stolt af</td>\n",
       "      <td>Enig</td>\n",
       "      <td>False</td>\n",
       "      <td>1.0</td>\n",
       "      <td>radio</td>\n",
       "      <td>Jeg formår at være midtpunkt for opmærksomhed ...</td>\n",
       "      <td>2</td>\n",
       "      <td>False</td>\n",
       "      <td>male</td>\n",
       "    </tr>\n",
       "    <tr>\n",
       "      <th>u0004</th>\n",
       "      <td>1.0</td>\n",
       "      <td>radio</td>\n",
       "      <td>At varetage dine praktiske pligter i hjemmet?</td>\n",
       "      <td>Lidt</td>\n",
       "      <td>False</td>\n",
       "      <td>2.0</td>\n",
       "      <td>radio</td>\n",
       "      <td>Jeg nyder for mig selv, når mine modstandere m...</td>\n",
       "      <td>3</td>\n",
       "      <td>False</td>\n",
       "      <td>...</td>\n",
       "      <td>radio</td>\n",
       "      <td>Jeg føler at jeg ikke har meget at være stolt af</td>\n",
       "      <td>Uenig</td>\n",
       "      <td>False</td>\n",
       "      <td>1.0</td>\n",
       "      <td>radio</td>\n",
       "      <td>Jeg formår at være midtpunkt for opmærksomhed ...</td>\n",
       "      <td>2</td>\n",
       "      <td>False</td>\n",
       "      <td>male</td>\n",
       "    </tr>\n",
       "    <tr>\n",
       "      <th>u0006</th>\n",
       "      <td>1.0</td>\n",
       "      <td>radio</td>\n",
       "      <td>At varetage dine praktiske pligter i hjemmet?</td>\n",
       "      <td>Lidt</td>\n",
       "      <td>False</td>\n",
       "      <td>1.0</td>\n",
       "      <td>radio</td>\n",
       "      <td>Jeg nyder for mig selv, når mine modstandere m...</td>\n",
       "      <td>2</td>\n",
       "      <td>False</td>\n",
       "      <td>...</td>\n",
       "      <td>radio</td>\n",
       "      <td>Jeg føler at jeg ikke har meget at være stolt af</td>\n",
       "      <td>Stærkt uenig</td>\n",
       "      <td>False</td>\n",
       "      <td>0.0</td>\n",
       "      <td>radio</td>\n",
       "      <td>Jeg formår at være midtpunkt for opmærksomhed ...</td>\n",
       "      <td>Passer slet ikke 1</td>\n",
       "      <td>False</td>\n",
       "      <td>female</td>\n",
       "    </tr>\n",
       "  </tbody>\n",
       "</table>\n",
       "<p>5 rows × 1431 columns</p>\n",
       "</div>"
      ],
      "text/plain": [
       "       function_duties__answer function_duties__answer_type  \\\n",
       "u0001                      0.0                        radio   \n",
       "u0002                      1.0                        radio   \n",
       "u0003                      1.0                        radio   \n",
       "u0004                      1.0                        radio   \n",
       "u0006                      1.0                        radio   \n",
       "\n",
       "                           function_duties__question  \\\n",
       "u0001  At varetage dine praktiske pligter i hjemmet?   \n",
       "u0002  At varetage dine praktiske pligter i hjemmet?   \n",
       "u0003  At varetage dine praktiske pligter i hjemmet?   \n",
       "u0004  At varetage dine praktiske pligter i hjemmet?   \n",
       "u0006  At varetage dine praktiske pligter i hjemmet?   \n",
       "\n",
       "      function_duties__response  function_duties__condition  \\\n",
       "u0001                 Slet ikke                       False   \n",
       "u0002                      Lidt                       False   \n",
       "u0003                      Lidt                       False   \n",
       "u0004                      Lidt                       False   \n",
       "u0006                      Lidt                       False   \n",
       "\n",
       "       narcissism_opponents__answer narcissism_opponents__answer_type  \\\n",
       "u0001                           1.0                             radio   \n",
       "u0002                           2.0                             radio   \n",
       "u0003                           1.0                             radio   \n",
       "u0004                           2.0                             radio   \n",
       "u0006                           1.0                             radio   \n",
       "\n",
       "                          narcissism_opponents__question  \\\n",
       "u0001  Jeg nyder for mig selv, når mine modstandere m...   \n",
       "u0002  Jeg nyder for mig selv, når mine modstandere m...   \n",
       "u0003  Jeg nyder for mig selv, når mine modstandere m...   \n",
       "u0004  Jeg nyder for mig selv, når mine modstandere m...   \n",
       "u0006  Jeg nyder for mig selv, når mine modstandere m...   \n",
       "\n",
       "      narcissism_opponents__response  narcissism_opponents__condition   ...    \\\n",
       "u0001                              2                            False   ...     \n",
       "u0002                              3                            False   ...     \n",
       "u0003                              2                            False   ...     \n",
       "u0004                              3                            False   ...     \n",
       "u0006                              2                            False   ...     \n",
       "\n",
       "       selfesteem_proud__answer_type  \\\n",
       "u0001                          radio   \n",
       "u0002                          radio   \n",
       "u0003                          radio   \n",
       "u0004                          radio   \n",
       "u0006                          radio   \n",
       "\n",
       "                             selfesteem_proud__question  \\\n",
       "u0001  Jeg føler at jeg ikke har meget at være stolt af   \n",
       "u0002  Jeg føler at jeg ikke har meget at være stolt af   \n",
       "u0003  Jeg føler at jeg ikke har meget at være stolt af   \n",
       "u0004  Jeg føler at jeg ikke har meget at være stolt af   \n",
       "u0006  Jeg føler at jeg ikke har meget at være stolt af   \n",
       "\n",
       "      selfesteem_proud__response selfesteem_proud__condition  \\\n",
       "u0001                      Uenig                       False   \n",
       "u0002                      Uenig                       False   \n",
       "u0003                       Enig                       False   \n",
       "u0004                      Uenig                       False   \n",
       "u0006               Stærkt uenig                       False   \n",
       "\n",
       "       narcissism_excellent__answer  narcissism_excellent__answer_type  \\\n",
       "u0001                           3.0                              radio   \n",
       "u0002                           2.0                              radio   \n",
       "u0003                           1.0                              radio   \n",
       "u0004                           1.0                              radio   \n",
       "u0006                           0.0                              radio   \n",
       "\n",
       "                          narcissism_excellent__question  \\\n",
       "u0001  Jeg formår at være midtpunkt for opmærksomhed ...   \n",
       "u0002  Jeg formår at være midtpunkt for opmærksomhed ...   \n",
       "u0003  Jeg formår at være midtpunkt for opmærksomhed ...   \n",
       "u0004  Jeg formår at være midtpunkt for opmærksomhed ...   \n",
       "u0006  Jeg formår at være midtpunkt for opmærksomhed ...   \n",
       "\n",
       "      narcissism_excellent__response narcissism_excellent__condition  gender  \n",
       "u0001                              4                           False    male  \n",
       "u0002                              3                           False    male  \n",
       "u0003                              2                           False    male  \n",
       "u0004                              2                           False    male  \n",
       "u0006             Passer slet ikke 1                           False  female  \n",
       "\n",
       "[5 rows x 1431 columns]"
      ]
     },
     "execution_count": 14,
     "metadata": {},
     "output_type": "execute_result"
    }
   ],
   "source": [
    "df.head() "
   ]
  },
  {
   "cell_type": "code",
   "execution_count": 15,
   "metadata": {},
   "outputs": [],
   "source": [
    "alcohol_volume_alldays = df.filter(regex='alcohol_volume_.+_answer$')\n",
    "alcohol_volume_alldays = alcohol_volume_alldays.rename(columns=lambda s: s.replace('alcohol_volume_', '').replace('__answer', '').title())\n",
    "alcohol_volume_alldays = alcohol_volume_alldays[['Monday', 'Tuesday', 'Wednesday', 'Thursday', 'Friday', 'Saturday', 'Sunday']]\n",
    "alcohol_volume_weekdays = alcohol_volume_alldays.drop(['Saturday', 'Friday'], axis=1) "
   ]
  },
  {
   "cell_type": "code",
   "execution_count": 16,
   "metadata": {},
   "outputs": [
    {
     "data": {
      "image/png": "[encoded data removed]",
      "text/plain": [
       "<matplotlib.figure.Figure at 0x7f19e3d55080>"
      ]
     },
     "metadata": {},
     "output_type": "display_data"
    }
   ],
   "source": [
    "fig, ax = plt.subplots() \n",
    "sns.boxplot(data=alcohol_volume_alldays, color=colorcycle[0])\n",
    "ax.set_xticklabels(ax.get_xticklabels(), rotation=45); \n",
    "ax.set_xlabel(\"Alcohol volume\")\n",
    "ax.set_ylabel(\"Units (of alcohol)\")\n",
    "fig.savefig('figs/alcohol_volume.pdf')"
   ]
  },
  {
   "cell_type": "code",
   "execution_count": 17,
   "metadata": {},
   "outputs": [],
   "source": [
    "user_alcohol_weekdays = alcohol_volume_weekdays.sum(axis=1) \n",
    "user_alcohol_weekend = alcohol_volume_alldays.drop(alcohol_volume_weekdays.columns, axis=1)"
   ]
  },
  {
   "cell_type": "code",
   "execution_count": 18,
   "metadata": {},
   "outputs": [
    {
     "data": {
      "image/png": "[encoded data removed]",
      "text/plain": [
       "<matplotlib.figure.Figure at 0x7f1a8c22e240>"
      ]
     },
     "metadata": {},
     "output_type": "display_data"
    }
   ],
   "source": [
    "fig, (axr1, axr2) = plt.subplots(2, 7, figsize=(4*7, 4))\n",
    "for ax, day in zip(axr1, alcohol_volume_alldays.columns):\n",
    "    alcohol_volume_alldays[day].plot.hist(50, ax=ax) \n",
    "    ax.set_ylabel('')\n",
    "for ax, day in zip(axr2, alcohol_volume_alldays.columns):\n",
    "    ax.set_yscale('log')\n",
    "    alcohol_volume_alldays[day].plot.hist(50, ax=ax) \n",
    "    ax.set_ylabel('')\n",
    "    ax.set_xlabel(day)"
   ]
  },
  {
   "cell_type": "code",
   "execution_count": 19,
   "metadata": {},
   "outputs": [
    {
     "data": {
      "image/png": "[encoded data removed]",
      "text/plain": [
       "<matplotlib.figure.Figure at 0x7f19e3c9db70>"
      ]
     },
     "metadata": {},
     "output_type": "display_data"
    }
   ],
   "source": [
    "ax = misc.questionResponse(df, q.alcohol_drunk).plot.bar(color=colorcycle[0]) \n",
    "# ax.set_title(\"How many times were you drung in the last 30 days?\") \n",
    "ax.set_xticklabels([el.get_text().replace(' gange', '') for el in ax.get_xticklabels()], rotation=0); \n",
    "ax.set_xlabel(\"Times drunk in the last 30 days\") \n",
    "plt.gcf().savefig('figs/how_many_times_drunk_last_30_days.pdf')"
   ]
  },
  {
   "cell_type": "markdown",
   "metadata": {},
   "source": [
    "## Bør man kode det som 0, 1, 2, 3, 4 eller som 0, 1, 2, 3, 4.5, 6.5?"
   ]
  },
  {
   "cell_type": "code",
   "execution_count": 20,
   "metadata": {},
   "outputs": [
    {
     "name": "stdout",
     "output_type": "stream",
     "text": [
      "0.0\n",
      "radio\n",
      "Drukket dig fuld på en hverdagsaften/dag, hvor du skulle i skole eller på dit fuldtidsjob dagen efter\n",
      "0 gange\n",
      "alcohol_debut != 'Jeg har aldrig drukket alkohol'\n"
     ]
    },
    {
     "data": {
      "text/plain": [
       "0.0    759\n",
       "1.0     99\n",
       "2.0     25\n",
       "3.0     11\n",
       "5.0      6\n",
       "4.0      3\n",
       "Name: alcohol_everyday__answer, dtype: int64"
      ]
     },
     "execution_count": 20,
     "metadata": {},
     "output_type": "execute_result"
    }
   ],
   "source": [
    "for el in f.alcohol_everyday.iloc[0, :]:\n",
    "    print(el)\n",
    "\n",
    "df.alcohol_everyday__answer.value_counts() "
   ]
  },
  {
   "cell_type": "code",
   "execution_count": 21,
   "metadata": {},
   "outputs": [
    {
     "data": {
      "text/plain": [
       "0 gange      759\n",
       "1 gange       99\n",
       "2 gange       25\n",
       "3 gange       11\n",
       "4-5 gange      3\n",
       "6+ gange       6\n",
       "Name: alcohol_everyday__response, dtype: int64"
      ]
     },
     "execution_count": 21,
     "metadata": {},
     "output_type": "execute_result"
    }
   ],
   "source": [
    "alcohol_everyday = f.alcohol_everyday\n",
    "alcohol_everyday.alcohol_everyday__response.value_counts().sort_index()  "
   ]
  },
  {
   "cell_type": "code",
   "execution_count": 22,
   "metadata": {
    "scrolled": false
   },
   "outputs": [],
   "source": [
    "questions = pd.Series(pd.Series(df.columns[:-1]).str.extract(r'(.+?)__\\w+', expand=False).unique()).sort_values() "
   ]
  },
  {
   "cell_type": "code",
   "execution_count": 23,
   "metadata": {},
   "outputs": [
    {
     "name": "stdout",
     "output_type": "stream",
     "text": [
      "mdi_concentration\n",
      "mdi_confidence\n",
      "mdi_depressed\n",
      "mdi_energy\n",
      "mdi_guilty\n",
      "mdi_high_appetite\n",
      "mdi_interest\n",
      "mdi_life\n",
      "mdi_low_appetite\n",
      "mdi_quiet\n",
      "mdi_restless\n",
      "mdi_sleep\n",
      "medicine_concentration\n",
      "medicine_depressed\n",
      "medicine_headache\n",
      "medicine_nervous\n",
      "medicine_pain\n",
      "medicine_physical\n",
      "medicine_sleep\n"
     ]
    }
   ],
   "source": [
    "for q in questions:\n",
    "    if q.startswith('m'):\n",
    "        print(q)"
   ]
  },
  {
   "cell_type": "code",
   "execution_count": 24,
   "metadata": {},
   "outputs": [
    {
     "data": {
      "text/plain": [
       "bfi                  43\n",
       "loneliness           19\n",
       "narcissism           18\n",
       "symptoms             14\n",
       "alcohol              14\n",
       "locus                13\n",
       "mdi                  12\n",
       "homophily            11\n",
       "panas                10\n",
       "selfesteem           10\n",
       "stress               10\n",
       "function              8\n",
       "medicine              7\n",
       "smoke                 7\n",
       "physical              6\n",
       "demands               6\n",
       "talk                  6\n",
       "sleep                 6\n",
       "help                  6\n",
       "conflicts             6\n",
       "worries               6\n",
       "contact               6\n",
       "electronic            6\n",
       "satisfaction          5\n",
       "drugs                 5\n",
       "self                  5\n",
       "ambition              3\n",
       "politic               2\n",
       "know                  2\n",
       "give                  1\n",
       "online                1\n",
       "trust                 1\n",
       "weight                1\n",
       "bf                    1\n",
       "involuntary           1\n",
       "live                  1\n",
       "height                1\n",
       "selfrated             1\n",
       "selfreported          1\n",
       "birthyear             1\n",
       "religion              1\n",
       "lonelinessfriends     1\n",
       "later                 1\n",
       "gender                0\n",
       "dtype: int64"
      ]
     },
     "execution_count": 24,
     "metadata": {},
     "output_type": "execute_result"
    }
   ],
   "source": [
    "pd.value_counts([el[0] for el in df.columns.str.split('_', n=1, expand=False)]) // 5"
   ]
  },
  {
   "cell_type": "code",
   "execution_count": 25,
   "metadata": {},
   "outputs": [
    {
     "data": {
      "text/plain": [
       "286"
      ]
     },
     "execution_count": 25,
     "metadata": {},
     "output_type": "execute_result"
    }
   ],
   "source": [
    "_.sum() "
   ]
  },
  {
   "cell_type": "code",
   "execution_count": null,
   "metadata": {},
   "outputs": [],
   "source": []
  },
  {
   "cell_type": "code",
   "execution_count": null,
   "metadata": {},
   "outputs": [],
   "source": []
  },
  {
   "cell_type": "code",
   "execution_count": null,
   "metadata": {},
   "outputs": [],
   "source": []
  },
  {
   "cell_type": "code",
   "execution_count": null,
   "metadata": {},
   "outputs": [],
   "source": []
  }
 ],
 "metadata": {
  "kernelspec": {
   "display_name": "Python 3",
   "language": "python",
   "name": "python3"
  },
  "language_info": {
   "codemirror_mode": {
    "name": "ipython",
    "version": 3
   },
   "file_extension": ".py",
   "mimetype": "text/x-python",
   "name": "python",
   "nbconvert_exporter": "python",
   "pygments_lexer": "ipython3",
   "version": "3.6.4"
  }
 },
 "nbformat": 4,
 "nbformat_minor": 2
}
