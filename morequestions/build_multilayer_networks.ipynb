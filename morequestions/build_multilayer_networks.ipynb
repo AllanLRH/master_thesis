{
 "cells": [
  {
   "cell_type": "code",
   "execution_count": 1,
   "metadata": {},
   "outputs": [],
   "source": [
    "import sys\n",
    "import os\n",
    "sys.path.append(os.path.abspath(\"..\"))\n",
    "\n",
    "import numpy as np\n",
    "import pandas as pd\n",
    "import matplotlib as mpl\n",
    "import matplotlib.pyplot as plt\n",
    "import seaborn as sns\n",
    "import networkx as nx\n",
    "import re\n",
    "import multiprocessing\n",
    "from collections import Counter\n",
    "import itertools\n",
    "import multiprocessing\n",
    "import json\n",
    "sns.set(context='paper', style='whitegrid', color_codes=True, font_scale=1.8)\n",
    "colorcycle = [(0.498, 0.788, 0.498),\n",
    "              (0.745, 0.682, 0.831),\n",
    "              (0.992, 0.753, 0.525),\n",
    "              (0.220, 0.424, 0.690),\n",
    "              (0.749, 0.357, 0.090),\n",
    "              (1.000, 1.000, 0.600),\n",
    "              (0.941, 0.008, 0.498),\n",
    "              (0.400, 0.400, 0.400)]\n",
    "sns.set_palette(colorcycle)\n",
    "mpl.rcParams['figure.max_open_warning'] = 65\n",
    "mpl.rcParams['figure.figsize'] = [12, 7]\n",
    "\n",
    "from speclib import misc, loaders, graph, plotting\n",
    "\n",
    "pd.set_option('display.max_rows', 55)\n",
    "pd.set_option('display.max_columns', 10)\n",
    "pd.set_option('display.width', 1000)\n"
   ]
  },
  {
   "cell_type": "raw",
   "metadata": {},
   "source": [
    "import pixiedust"
   ]
  },
  {
   "cell_type": "code",
   "execution_count": 2,
   "metadata": {},
   "outputs": [],
   "source": [
    "df = pd.read_msgpack('../../allan_data/user_data_properties.msgpack')"
   ]
  },
  {
   "cell_type": "code",
   "execution_count": 3,
   "metadata": {},
   "outputs": [],
   "source": [
    "ua = loaders.Useralias() \n",
    "with open('../../allan_data/phonenumbers.json') as fid:\n",
    "    phonebook = json.load(fid)"
   ]
  },
  {
   "cell_type": "code",
   "execution_count": 4,
   "metadata": {},
   "outputs": [
    {
     "data": {
      "text/html": [
       "<div>\n",
       "<style scoped>\n",
       "    .dataframe tbody tr th:only-of-type {\n",
       "        vertical-align: middle;\n",
       "    }\n",
       "\n",
       "    .dataframe tbody tr th {\n",
       "        vertical-align: top;\n",
       "    }\n",
       "\n",
       "    .dataframe thead th {\n",
       "        text-align: right;\n",
       "    }\n",
       "</style>\n",
       "<table border=\"1\" class=\"dataframe\">\n",
       "  <thead>\n",
       "    <tr style=\"text-align: right;\">\n",
       "      <th></th>\n",
       "      <th>bt_timespan</th>\n",
       "      <th>call_count</th>\n",
       "      <th>call_timespan</th>\n",
       "      <th>sms_count</th>\n",
       "      <th>sms_timespan</th>\n",
       "      <th>user</th>\n",
       "    </tr>\n",
       "    <tr>\n",
       "      <th>useralias</th>\n",
       "      <th></th>\n",
       "      <th></th>\n",
       "      <th></th>\n",
       "      <th></th>\n",
       "      <th></th>\n",
       "      <th></th>\n",
       "    </tr>\n",
       "  </thead>\n",
       "  <tbody>\n",
       "    <tr>\n",
       "      <th>u0182</th>\n",
       "      <td>466 days 04:10:04</td>\n",
       "      <td>20.0</td>\n",
       "      <td>411 days 16:28:54</td>\n",
       "      <td>149.0</td>\n",
       "      <td>411 days 08:01:30</td>\n",
       "      <td>28b76d7b7879d364321f164df5169f</td>\n",
       "    </tr>\n",
       "    <tr>\n",
       "      <th>u1015</th>\n",
       "      <td>574 days 17:23:57</td>\n",
       "      <td>68.0</td>\n",
       "      <td>570 days 19:13:33</td>\n",
       "      <td>276.0</td>\n",
       "      <td>569 days 03:43:58</td>\n",
       "      <td>f41c375b5c87d3593b963b49a3f9a3</td>\n",
       "    </tr>\n",
       "    <tr>\n",
       "      <th>u0778</th>\n",
       "      <td>508 days 22:29:51</td>\n",
       "      <td>4.0</td>\n",
       "      <td>353 days 13:59:21</td>\n",
       "      <td>24.0</td>\n",
       "      <td>729 days 18:24:48</td>\n",
       "      <td>b600d2468831e0b3480a69af903dfc</td>\n",
       "    </tr>\n",
       "    <tr>\n",
       "      <th>u0933</th>\n",
       "      <td>514 days 02:33:14</td>\n",
       "      <td>145.0</td>\n",
       "      <td>498 days 00:14:03</td>\n",
       "      <td>200.0</td>\n",
       "      <td>498 days 05:41:58</td>\n",
       "      <td>dbbf1adb3264464838b938429d674b</td>\n",
       "    </tr>\n",
       "    <tr>\n",
       "      <th>u0256</th>\n",
       "      <td>305 days 07:02:31</td>\n",
       "      <td>20.0</td>\n",
       "      <td>283 days 06:59:02</td>\n",
       "      <td>121.0</td>\n",
       "      <td>292 days 01:19:01</td>\n",
       "      <td>3b6887b57d97d1ff1e1a674abfa5e3</td>\n",
       "    </tr>\n",
       "  </tbody>\n",
       "</table>\n",
       "</div>"
      ],
      "text/plain": [
       "                bt_timespan  call_count     call_timespan  sms_count      sms_timespan                            user\n",
       "useralias                                                                                                             \n",
       "u0182     466 days 04:10:04        20.0 411 days 16:28:54      149.0 411 days 08:01:30  28b76d7b7879d364321f164df5169f\n",
       "u1015     574 days 17:23:57        68.0 570 days 19:13:33      276.0 569 days 03:43:58  f41c375b5c87d3593b963b49a3f9a3\n",
       "u0778     508 days 22:29:51         4.0 353 days 13:59:21       24.0 729 days 18:24:48  b600d2468831e0b3480a69af903dfc\n",
       "u0933     514 days 02:33:14       145.0 498 days 00:14:03      200.0 498 days 05:41:58  dbbf1adb3264464838b938429d674b\n",
       "u0256     305 days 07:02:31        20.0 283 days 06:59:02      121.0 292 days 01:19:01  3b6887b57d97d1ff1e1a674abfa5e3"
      ]
     },
     "execution_count": 4,
     "metadata": {},
     "output_type": "execute_result"
    }
   ],
   "source": [
    "df.head() "
   ]
  },
  {
   "cell_type": "markdown",
   "metadata": {},
   "source": [
    "## Bluetooth\n",
    "\n",
    "Do this:\n",
    "\n",
    "1. Keep those users which are present in 2 or more timeslots\n",
    "2. Discard those users which were recorded as being in the 2 previous timeslots"
   ]
  },
  {
   "cell_type": "code",
   "execution_count": 5,
   "metadata": {},
   "outputs": [],
   "source": [
    "def aggfnc(s):\n",
    "    if len(s):\n",
    "        return set(s)\n",
    "    return None"
   ]
  },
  {
   "cell_type": "code",
   "execution_count": 6,
   "metadata": {},
   "outputs": [],
   "source": [
    "def user_bt_interactions(user):\n",
    "    dct = loaders.loadUser2(user, dataFilter=('bluetooth', ))\n",
    "    dbt = pd.DataFrame(dct['bluetooth'])\n",
    "    dbt = dbt[dbt.scanned_user.isin(ua.userdct)]  # filter out non-participants\n",
    "    dbt['timestamp'] = pd.to_datetime(dbt.timestamp, unit='s')\n",
    "    dbt = dbt[(dbt.timestamp.dt.hour > 17) | (dbt.timestamp.dt.hour < 7)]\n",
    "    dbt = dbt.set_index('timestamp')\n",
    "    dbt['user'] = dbt.user.replace(ua.userdct)\n",
    "    agg_5m = dbt[['scanned_user']].groupby(pd.Grouper(freq='5Min')).agg(aggfnc) \n",
    "    dct = dict()\n",
    "    discard_next_iteration = set() \n",
    "    for p0, p1 in zip(range(0, agg_5m.shape[0]-1), range(1, agg_5m.shape[0])):\n",
    "        p0d = agg_5m.iloc[p0, 0]\n",
    "        p1d = agg_5m.iloc[p1, 0]\n",
    "        if p0d and p1d:\n",
    "            in_both = agg_5m.iloc[p0, 0].intersection(agg_5m.iloc[p1, 0])\n",
    "            if in_both:\n",
    "                recorded = {ua[el] for el in in_both}\n",
    "                dct[agg_5m.index[p0]] = recorded - discard_next_iteration\n",
    "                discard_next_iteration = recorded\n",
    "\n",
    "    adj = pd.Series(dct) \n",
    "    return adj"
   ]
  },
  {
   "cell_type": "code",
   "execution_count": 7,
   "metadata": {},
   "outputs": [],
   "source": [
    "def main_bt(user):\n",
    "    adj = user_bt_interactions(user)\n",
    "    adj = adj[adj.map(len) > 0]  # remove empty timebins\n",
    "    adj_summarized = pd.Series(Counter(itertools.chain(*adj)))\n",
    "    user_alias = ua[user]\n",
    "    return {user_alias: (adj, adj_summarized)}\n"
   ]
  },
  {
   "cell_type": "code",
   "execution_count": 8,
   "metadata": {},
   "outputs": [],
   "source": [
    "dct_bt = dict()\n",
    "pool = multiprocessing.Pool(24)\n",
    "try:\n",
    "    us_lst = (df.iloc[:, 5]).tolist()\n",
    "    res = pool.map(main_bt, us_lst)\n",
    "    for el in res:\n",
    "        dct_bt.update(el)\n",
    "finally:\n",
    "    pool.close() \n"
   ]
  },
  {
   "cell_type": "code",
   "execution_count": 9,
   "metadata": {},
   "outputs": [],
   "source": [
    "gbt = nx.DiGraph() \n",
    "for user_alias, (_, summed) in dct_bt.items():\n",
    "    edgelist = [(user_alias, contact, {'weight': weight}) for (contact, weight) in summed.items()]\n",
    "    gbt.add_edges_from(edgelist)"
   ]
  },
  {
   "cell_type": "raw",
   "metadata": {},
   "source": [
    "plotting.drawWeightedGraph(gbt, nodeLabels=False)"
   ]
  },
  {
   "cell_type": "raw",
   "metadata": {},
   "source": [
    "plotting.nxQuickDraw(gbt)"
   ]
  },
  {
   "cell_type": "markdown",
   "metadata": {},
   "source": [
    "## SMS"
   ]
  },
  {
   "cell_type": "code",
   "execution_count": 10,
   "metadata": {},
   "outputs": [],
   "source": [
    "def main_sms(user):\n",
    "    dsm = pd.DataFrame(loaders.loadUser2(user, dataFilter=('sms', ))['sms']) \n",
    "    dsm = dsm[dsm.address.str.len() > 0]\n",
    "    dsm = dsm[dsm.address.isin(phonebook.keys())]\n",
    "    dsm['address'] = dsm.address.replace(phonebook).replace(ua.userdct)\n",
    "    dsm['timestamp'] = pd.to_datetime(dsm.timestamp, unit='s')\n",
    "    dsm['user'] = dsm.user.replace(ua.userdct)\n",
    "    return {ua[user]: dsm}"
   ]
  },
  {
   "cell_type": "code",
   "execution_count": 11,
   "metadata": {},
   "outputs": [],
   "source": [
    "dct_sms = dict()\n",
    "pool = multiprocessing.Pool(24)\n",
    "try:\n",
    "    us_lst = (df.iloc[:, 5]).tolist()\n",
    "    res = pool.map(main_sms, us_lst)\n",
    "    for el in res:\n",
    "        dct_sms.update(el)\n",
    "finally:\n",
    "    pool.close()"
   ]
  },
  {
   "cell_type": "code",
   "execution_count": 12,
   "metadata": {
    "pixiedust": {
     "displayParams": {}
    }
   },
   "outputs": [],
   "source": [
    "gsm = nx.DiGraph()\n",
    "for user, value in dct_sms.items():\n",
    "    tmp = value.groupby('address').timestamp.count()\n",
    "    for contact, weight in tmp.iteritems():\n",
    "        graph.updateWeight(gsm, user, contact, weight)"
   ]
  },
  {
   "cell_type": "code",
   "execution_count": 13,
   "metadata": {},
   "outputs": [
    {
     "data": {
      "text/plain": [
       "address\n",
       "u0117    17\n",
       "u0636     2\n",
       "u0750     4\n",
       "u0812     3\n",
       "u0929     5\n",
       "Name: timestamp, dtype: int64"
      ]
     },
     "execution_count": 13,
     "metadata": {},
     "output_type": "execute_result"
    }
   ],
   "source": [
    "tmp.head() "
   ]
  },
  {
   "cell_type": "raw",
   "metadata": {},
   "source": [
    "plotting.nxQuickDraw(gsm)"
   ]
  },
  {
   "cell_type": "markdown",
   "metadata": {},
   "source": [
    "## Call"
   ]
  },
  {
   "cell_type": "code",
   "execution_count": 14,
   "metadata": {},
   "outputs": [],
   "source": [
    "def main_call(user):\n",
    "    dca = pd.DataFrame(loaders.loadUser2(user, dataFilter=('call', ))['call']) \n",
    "    dca = dca.rename(columns={'number': 'address'})\n",
    "    dca = dca[dca.address.str.len() > 0]\n",
    "    dca = dca[dca.address.isin(phonebook.keys())]\n",
    "    dca['address'] = dca.address.replace(phonebook).replace(ua.userdct)\n",
    "    dca['timestamp'] = pd.to_datetime(dca.timestamp, unit='s')\n",
    "    dca['user'] = user\n",
    "    return {ua[user]: dca}"
   ]
  },
  {
   "cell_type": "code",
   "execution_count": 15,
   "metadata": {},
   "outputs": [],
   "source": [
    "dct_call = dict()\n",
    "pool = multiprocessing.Pool(24)\n",
    "try:\n",
    "    us_lst = (df.iloc[:, 5]).tolist()\n",
    "    res = pool.map(main_call, us_lst)\n",
    "    for el in res:\n",
    "        dct_call.update(el)\n",
    "finally:\n",
    "    pool.close()"
   ]
  },
  {
   "cell_type": "code",
   "execution_count": 16,
   "metadata": {},
   "outputs": [
    {
     "data": {
      "text/plain": [
       "dict_keys(['u0182', 'u1015', 'u0778', 'u0933', 'u0256', 'u0659', 'u0719', 'u0709', 'u0748', 'u0045', 'u0599', 'u1027', 'u0208', 'u0059', 'u0812', 'u0954', 'u0146', 'u0862', 'u0350', 'u0431', 'u0093', 'u0847', 'u0001', 'u1056', 'u0100', 'u0761', 'u0013', 'u0826', 'u0456', 'u0505', 'u0493', 'u0205', 'u0238', 'u0797', 'u0213', 'u0090', 'u0077', 'u0945', 'u0602', 'u0412', 'u0347', 'u0294', 'u0201', 'u0443', 'u1005', 'u0409', 'u0156', 'u0484', 'u0952', 'u0872', 'u0051', 'u0334', 'u0198', 'u0701', 'u1032', 'u0315', 'u0095', 'u0863', 'u0672', 'u0923', 'u0016', 'u0400', 'u0074', 'u0110', 'u0676', 'u0339', 'u0991', 'u0828', 'u0560', 'u0473', 'u0703', 'u0939', 'u0808', 'u0015', 'u0927', 'u0331', 'u0730', 'u0697', 'u0670', 'u0457', 'u0597', 'u0536', 'u0142', 'u0885', 'u0874', 'u0763', 'u0931', 'u0816', 'u0371', 'u1042', 'u0665', 'u0649', 'u0196', 'u0171', 'u0415', 'u1036', 'u0518', 'u0121', 'u0141', 'u0922', 'u0959', 'u0381', 'u0707', 'u0827', 'u0880', 'u0343', 'u1043', 'u0762', 'u0613', 'u0623', 'u0544', 'u0572', 'u0901', 'u0928', 'u0711', 'u0446', 'u0225', 'u0513', 'u0078', 'u0423', 'u0737', 'u0444', 'u0694', 'u1007', 'u0539', 'u0640', 'u0726', 'u0320', 'u0193', 'u0442', 'u0080', 'u0021', 'u0741', 'u0721', 'u1054', 'u0868', 'u0157', 'u0224', 'u0158', 'u0918', 'u1019', 'u0534', 'u0798', 'u0361', 'u0675', 'u0275', 'u0924', 'u0955', 'u0366', 'u0420', 'u0934', 'u0349', 'u0363', 'u0017', 'u0648', 'u0976', 'u0980', 'u0910', 'u0627', 'u0355', 'u0996', 'u0287', 'u0743', 'u0619', 'u0662', 'u0693', 'u0897', 'u0351', 'u0596', 'u0242', 'u0638', 'u0419', 'u0674', 'u0814', 'u0250', 'u0574', 'u0904', 'u0486', 'u0531', 'u0244', 'u0800', 'u0295', 'u0449', 'u0176', 'u0521', 'u0841', 'u0892', 'u0733', 'u0938', 'u0337', 'u0516', 'u0352', 'u0887', 'u0956', 'u0664', 'u0407', 'u0789', 'u0604', 'u0656', 'u0898', 'u0981', 'u0468', 'u0510', 'u0580', 'u0706', 'u0474', 'u0432', 'u0104', 'u0760', 'u0585', 'u0292', 'u0779', 'u0281', 'u0865', 'u0485', 'u0791', 'u0003', 'u0175', 'u0137', 'u0962', 'u0069', 'u0678', 'u0692', 'u0650', 'u0116', 'u0101', 'u0086', 'u0702', 'u0200', 'u0925', 'u0459', 'u0296', 'u0909', 'u0977', 'u0159', 'u0471', 'u0079', 'u0849', 'u0411', 'u0310', 'u0754', 'u0163', 'u0236', 'u1037', 'u0174', 'u0111', 'u0769', 'u0873', 'u0264', 'u0851', 'u0057', 'u0092', 'u0039', 'u0152', 'u0492', 'u0884', 'u0559', 'u0512', 'u0567', 'u0835', 'u0913', 'u1029', 'u0009', 'u0523', 'u0308', 'u0429', 'u0433', 'u0511', 'u0653', 'u0635', 'u0020', 'u0645', 'u0132', 'u0753', 'u0458', 'u0811', 'u0405', 'u0846', 'u0019', 'u0717', 'u0561', 'u0832', 'u0601', 'u0348', 'u0723', 'u0752', 'u0636', 'u0607', 'u0117', 'u0540', 'u0802', 'u0012', 'u0274', 'u0666', 'u0669', 'u0360', 'u0994', 'u0937', 'u0745', 'u0499', 'u1051', 'u0858', 'u1004', 'u0618', 'u0537', 'u0233', 'u0995', 'u0984', 'u0821', 'u0418', 'u0777', 'u0677', 'u0616', 'u0848', 'u0168', 'u1008', 'u1026', 'u0685', 'u0318', 'u0272', 'u0950', 'u0886', 'u0035', 'u0786', 'u0448', 'u0509', 'u0553', 'u0731', 'u0028', 'u0249', 'u0068', 'u0668', 'u1045', 'u1002', 'u0154', 'u0393', 'u0126', 'u1014', 'u0687', 'u0837', 'u0614', 'u0879', 'u0091', 'u0139', 'u0169', 'u0993', 'u0454', 'u0888', 'u0479', 'u0715', 'u0061', 'u0004', 'u0122', 'u0941', 'u0514', 'u1050', 'u0261', 'u0387', 'u0932', 'u0997', 'u0988', 'u0251', 'u1000', 'u0545', 'u0189', 'u0595', 'u0410', 'u0247', 'u0943', 'u0739', 'u0507', 'u0833', 'u0590', 'u0894', 'u0529', 'u0097', 'u0686', 'u0713', 'u0608', 'u0179', 'u0173', 'u0430', 'u0290', 'u0575', 'u1023', 'u0578', 'u0155', 'u0356', 'u0551', 'u0682', 'u1012', 'u0109', 'u0683', 'u0439', 'u0309', 'u0329', 'u0099', 'u0857', 'u1001', 'u0515', 'u0970', 'u0758', 'u0342', 'u0482', 'u0563', 'u0593', 'u0543', 'u0283', 'u0218', 'u0637', 'u0463', 'u0424', 'u0532', 'u0708', 'u0882', 'u0704', 'u0389', 'u0335', 'u0902', 'u0581', 'u0033', 'u0210', 'u0969', 'u0594', 'u0570', 'u0032', 'u0620', 'u1055', 'u0081', 'u0750', 'u0212', 'u0690', 'u0362', 'u0311', 'u0399', 'u0655', 'u0643', 'u0467', 'u0072', 'u0605', 'u0600', 'u0120', 'u0475', 'u0940', 'u0232', 'u0164', 'u0089', 'u1010', 'u0755', 'u0628', 'u0556', 'u0470', 'u0724', 'u0190', 'u0391', 'u0681', 'u0131', 'u0978', 'u0270', 'u0496', 'u0982', 'u0026', 'u0241', 'u1016', 'u1035', 'u0864', 'u0341', 'u0759', 'u0027', 'u0369', 'u0843', 'u0576', 'u0695', 'u0957', 'u0609', 'u0673', 'u0049', 'u0784', 'u0124', 'u0883', 'u0194', 'u0735', 'u0775', 'u0266', 'u0725', 'u0776', 'u0881', 'u0718', 'u0967', 'u0228', 'u0108', 'u0434', 'u0606', 'u1057', 'u0806', 'u0794', 'u0566', 'u0900', 'u0252', 'u0056', 'u0052', 'u0221', 'u0107', 'u0525', 'u0023', 'u0742', 'u0631', 'u0240', 'u0935', 'u0106', 'u0799', 'u0288', 'u0639', 'u0625', 'u0773', 'u0530', 'u0844', 'u0466', 'u0632', 'u0908', 'u0705', 'u0891', 'u0265', 'u0007', 'u0919', 'u0038', 'u0527', 'u0406', 'u0975', 'u0936', 'u0065', 'u0550', 'u0271', 'u0195', 'u0034', 'u0727', 'u0819', 'u0498', 'u0150', 'u0262', 'u0083', 'u0085', 'u0276', 'u0102', 'u0291', 'u0332', 'u0322', 'u0461', 'u0948', 'u0641', 'u0103', 'u0118', 'u0860', 'u0374', 'u0520', 'u0437', 'u0390', 'u0440', 'u0634', 'u0435', 'u0781', 'u0998', 'u0491', 'u0785', 'u0747', 'u0845', 'u0048', 'u0376', 'u0445', 'u0055', 'u0699', 'u1025', 'u0177', 'u1033', 'u0958', 'u0285', 'u0377', 'u0896', 'u0803', 'u0783', 'u1046', 'u0306', 'u0571', 'u0172', 'u0611', 'u0030', 'u0746', 'u0774', 'u0018', 'u0696', 'u0780', 'u0983', 'u0535', 'u0960', 'u0197', 'u0128', 'u0592', 'u0455', 'u0153', 'u0149', 'u0500', 'u0647', 'u0612', 'u0239', 'u0267', 'u0237', 'u0138', 'u0917', 'u0787', 'u0869', 'u0621', 'u0876', 'u0394', 'u1053', 'u0282', 'u0830', 'u0809', 'u0661', 'u0112', 'u0465', 'u0481', 'u0317', 'u0388', 'u0875', 'u0477', 'u0893', 'u1047', 'u0011', 'u0451', 'u0386', 'u0340', 'u0220', 'u0691', 'u0915', 'u0949', 'u0160', 'u0087', 'u0047', 'u0720', 'u0401', 'u0073', 'u0053', 'u1020', 'u0549', 'u0354', 'u0823', 'u0187', 'u0050', 'u0219', 'u0134', 'u0546', 'u0929', 'u0207', 'u0084', 'u0278', 'u0076', 'u0524', 'u0920', 'u1009', 'u0973', 'u1034', 'u0383', 'u0325', 'u0853', 'u0181', 'u1030', 'u0368', 'u0905', 'u0947', 'u0810', 'u0646', 'u0541', 'u0358', 'u0029', 'u0591', 'u1003', 'u0495', 'u0657', 'u0024', 'u0946', 'u0557', 'u0889', 'u0866', 'u0764', 'u0569', 'u0795', 'u0629', 'u0450', 'u0046', 'u0300', 'u0519', 'u0204', 'u0472', 'u0732', 'u0829', 'u0642', 'u0447', 'u0850', 'u0964', 'u0010', 'u0260', 'u1040', 'u0235', 'u0041', 'u0700', 'u0842', 'u0135', 'u0088', 'u0542', 'u0307', 'u0912', 'u0392', 'u0060', 'u0854', 'u0202', 'u0353', 'u0382', 'u0188'])"
      ]
     },
     "execution_count": 16,
     "metadata": {},
     "output_type": "execute_result"
    }
   ],
   "source": [
    "dct_call.keys() "
   ]
  },
  {
   "cell_type": "code",
   "execution_count": 17,
   "metadata": {},
   "outputs": [],
   "source": [
    "gca = nx.DiGraph()\n",
    "for user, value in dct_sms.items():\n",
    "    tmp = value.groupby('address').timestamp.count()\n",
    "    for contact, weight in tmp.iteritems():\n",
    "        graph.updateWeight(gca, user, contact, weight) "
   ]
  },
  {
   "cell_type": "raw",
   "metadata": {},
   "source": [
    "plotting.nxQuickDraw(gca)"
   ]
  },
  {
   "cell_type": "code",
   "execution_count": 19,
   "metadata": {},
   "outputs": [
    {
     "name": "stdout",
     "output_type": "stream",
     "text": [
      "Variable   Type       Data/Info\n",
      "-------------------------------\n",
      "gbt        DiGraph    \n",
      "gca        DiGraph    \n",
      "gsm        DiGraph    \n"
     ]
    }
   ],
   "source": [
    "%whos DiGraph"
   ]
  },
  {
   "cell_type": "code",
   "execution_count": 23,
   "metadata": {},
   "outputs": [],
   "source": [
    "nx.write_edgelist(gbt, '../../allan_data/weighted_graph_bluetooth.edgelist')\n",
    "nx.write_edgelist(gca, '../../allan_data/weighted_graph_call.edgelist')\n",
    "nx.write_edgelist(gsm, '../../allan_data/weighted_graph_sms.edgelist')"
   ]
  },
  {
   "cell_type": "code",
   "execution_count": null,
   "metadata": {},
   "outputs": [],
   "source": []
  }
 ],
 "metadata": {
  "kernelspec": {
   "display_name": "Python 3",
   "language": "python",
   "name": "python3"
  },
  "language_info": {
   "codemirror_mode": {
    "name": "ipython",
    "version": 3
   },
   "file_extension": ".py",
   "mimetype": "text/x-python",
   "name": "python",
   "nbconvert_exporter": "python",
   "pygments_lexer": "ipython3",
   "version": "3.6.4"
  }
 },
 "nbformat": 4,
 "nbformat_minor": 2
}
