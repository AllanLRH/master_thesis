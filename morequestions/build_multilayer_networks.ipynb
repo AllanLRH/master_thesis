{
 "cells": [
  {
   "cell_type": "code",
   "execution_count": 1,
   "metadata": {},
   "outputs": [],
   "source": [
    "import sys\n",
    "import os\n",
    "sys.path.append(os.path.abspath(\"..\"))\n",
    "\n",
    "import numpy as np\n",
    "import pandas as pd\n",
    "import matplotlib as mpl\n",
    "import matplotlib.pyplot as plt\n",
    "import seaborn as sns\n",
    "import networkx as nx\n",
    "import re\n",
    "import multiprocessing\n",
    "from collections import Counter\n",
    "import itertools\n",
    "import multiprocessing\n",
    "import json\n",
    "sns.set(context='paper', style='whitegrid', color_codes=True, font_scale=1.8)\n",
    "colorcycle = [(0.498, 0.788, 0.498),\n",
    "              (0.745, 0.682, 0.831),\n",
    "              (0.992, 0.753, 0.525),\n",
    "              (0.220, 0.424, 0.690),\n",
    "              (0.749, 0.357, 0.090),\n",
    "              (1.000, 1.000, 0.600),\n",
    "              (0.941, 0.008, 0.498),\n",
    "              (0.400, 0.400, 0.400)]\n",
    "sns.set_palette(colorcycle)\n",
    "mpl.rcParams['figure.max_open_warning'] = 65\n",
    "mpl.rcParams['figure.figsize'] = [12, 7]\n",
    "\n",
    "from speclib import misc, loaders, graph, plotting\n",
    "\n",
    "pd.set_option('display.max_rows', 55)\n",
    "pd.set_option('display.max_columns', 10)\n",
    "pd.set_option('display.width', 1000)\n"
   ]
  },
  {
   "cell_type": "code",
   "execution_count": 2,
   "metadata": {},
   "outputs": [
    {
     "name": "stdout",
     "output_type": "stream",
     "text": [
      "Pixiedust database opened successfully\n"
     ]
    },
    {
     "data": {
      "text/html": [
       "\n",
       "        <div style=\"margin:10px\">\n",
       "            <a href=\"https://github.com/ibm-watson-data-lab/pixiedust\" target=\"_new\">\n",
       "                <img src=\"https://github.com/ibm-watson-data-lab/pixiedust/raw/master/docs/_static/pd_icon32.png\" style=\"float:left;margin-right:10px\"/>\n",
       "            </a>\n",
       "            <span>Pixiedust version 1.1.9</span>\n",
       "        </div>\n",
       "        "
      ],
      "text/plain": [
       "<IPython.core.display.HTML object>"
      ]
     },
     "metadata": {},
     "output_type": "display_data"
    }
   ],
   "source": [
    "import pixiedust"
   ]
  },
  {
   "cell_type": "code",
   "execution_count": 3,
   "metadata": {},
   "outputs": [],
   "source": [
    "df = pd.read_msgpack('../../allan_data/user_data_properties.msgpack')"
   ]
  },
  {
   "cell_type": "code",
   "execution_count": 4,
   "metadata": {},
   "outputs": [],
   "source": [
    "ua = loaders.Useralias() \n",
    "with open('../../allan_data/phonenumbers.json') as fid:\n",
    "    phonebook = json.load(fid)"
   ]
  },
  {
   "cell_type": "code",
   "execution_count": 5,
   "metadata": {},
   "outputs": [
    {
     "data": {
      "text/html": [
       "<div>\n",
       "<style scoped>\n",
       "    .dataframe tbody tr th:only-of-type {\n",
       "        vertical-align: middle;\n",
       "    }\n",
       "\n",
       "    .dataframe tbody tr th {\n",
       "        vertical-align: top;\n",
       "    }\n",
       "\n",
       "    .dataframe thead th {\n",
       "        text-align: right;\n",
       "    }\n",
       "</style>\n",
       "<table border=\"1\" class=\"dataframe\">\n",
       "  <thead>\n",
       "    <tr style=\"text-align: right;\">\n",
       "      <th></th>\n",
       "      <th>bt_timespan</th>\n",
       "      <th>call_count</th>\n",
       "      <th>call_timespan</th>\n",
       "      <th>sms_count</th>\n",
       "      <th>sms_timespan</th>\n",
       "      <th>user</th>\n",
       "    </tr>\n",
       "    <tr>\n",
       "      <th>useralias</th>\n",
       "      <th></th>\n",
       "      <th></th>\n",
       "      <th></th>\n",
       "      <th></th>\n",
       "      <th></th>\n",
       "      <th></th>\n",
       "    </tr>\n",
       "  </thead>\n",
       "  <tbody>\n",
       "    <tr>\n",
       "      <th>u0182</th>\n",
       "      <td>466 days 04:10:04</td>\n",
       "      <td>20.0</td>\n",
       "      <td>411 days 16:28:54</td>\n",
       "      <td>149.0</td>\n",
       "      <td>411 days 08:01:30</td>\n",
       "      <td>28b76d7b7879d364321f164df5169f</td>\n",
       "    </tr>\n",
       "    <tr>\n",
       "      <th>u1015</th>\n",
       "      <td>574 days 17:23:57</td>\n",
       "      <td>68.0</td>\n",
       "      <td>570 days 19:13:33</td>\n",
       "      <td>276.0</td>\n",
       "      <td>569 days 03:43:58</td>\n",
       "      <td>f41c375b5c87d3593b963b49a3f9a3</td>\n",
       "    </tr>\n",
       "    <tr>\n",
       "      <th>u0778</th>\n",
       "      <td>508 days 22:29:51</td>\n",
       "      <td>4.0</td>\n",
       "      <td>353 days 13:59:21</td>\n",
       "      <td>24.0</td>\n",
       "      <td>729 days 18:24:48</td>\n",
       "      <td>b600d2468831e0b3480a69af903dfc</td>\n",
       "    </tr>\n",
       "    <tr>\n",
       "      <th>u0933</th>\n",
       "      <td>514 days 02:33:14</td>\n",
       "      <td>145.0</td>\n",
       "      <td>498 days 00:14:03</td>\n",
       "      <td>200.0</td>\n",
       "      <td>498 days 05:41:58</td>\n",
       "      <td>dbbf1adb3264464838b938429d674b</td>\n",
       "    </tr>\n",
       "    <tr>\n",
       "      <th>u0256</th>\n",
       "      <td>305 days 07:02:31</td>\n",
       "      <td>20.0</td>\n",
       "      <td>283 days 06:59:02</td>\n",
       "      <td>121.0</td>\n",
       "      <td>292 days 01:19:01</td>\n",
       "      <td>3b6887b57d97d1ff1e1a674abfa5e3</td>\n",
       "    </tr>\n",
       "  </tbody>\n",
       "</table>\n",
       "</div>"
      ],
      "text/plain": [
       "                bt_timespan  call_count     call_timespan  sms_count      sms_timespan                            user\n",
       "useralias                                                                                                             \n",
       "u0182     466 days 04:10:04        20.0 411 days 16:28:54      149.0 411 days 08:01:30  28b76d7b7879d364321f164df5169f\n",
       "u1015     574 days 17:23:57        68.0 570 days 19:13:33      276.0 569 days 03:43:58  f41c375b5c87d3593b963b49a3f9a3\n",
       "u0778     508 days 22:29:51         4.0 353 days 13:59:21       24.0 729 days 18:24:48  b600d2468831e0b3480a69af903dfc\n",
       "u0933     514 days 02:33:14       145.0 498 days 00:14:03      200.0 498 days 05:41:58  dbbf1adb3264464838b938429d674b\n",
       "u0256     305 days 07:02:31        20.0 283 days 06:59:02      121.0 292 days 01:19:01  3b6887b57d97d1ff1e1a674abfa5e3"
      ]
     },
     "execution_count": 5,
     "metadata": {},
     "output_type": "execute_result"
    }
   ],
   "source": [
    "df.head() "
   ]
  },
  {
   "cell_type": "markdown",
   "metadata": {},
   "source": [
    "## Bluetooth\n",
    "\n",
    "Do this:\n",
    "\n",
    "1. Keep those users which are present in 2 or more timeslots\n",
    "2. Discard those users which were recorded as being in the 2 previous timeslots"
   ]
  },
  {
   "cell_type": "code",
   "execution_count": 6,
   "metadata": {},
   "outputs": [],
   "source": [
    "def aggfnc(s):\n",
    "    if len(s):\n",
    "        return set(s)\n",
    "    return None"
   ]
  },
  {
   "cell_type": "code",
   "execution_count": 7,
   "metadata": {},
   "outputs": [],
   "source": [
    "def user_bt_interactions(user):\n",
    "    dct = loaders.loadUser2(user, dataFilter=('bluetooth', ))\n",
    "    dbt = pd.DataFrame(dct['bluetooth'])\n",
    "    dbt = dbt[dbt.scanned_user.str.len() == 30]  # filter out non-participants\n",
    "    dbt['timestamp'] = pd.to_datetime(dbt.timestamp, unit='s')\n",
    "    dbt = dbt[(dbt.timestamp.dt.hour > 17) | (dbt.timestamp.dt.hour < 7)]\n",
    "    dbt = dbt.set_index('timestamp')\n",
    "    dbt['user'] = dbt.user.replace(ua.userdct)\n",
    "    agg_5m = dbt[['scanned_user']].groupby(pd.Grouper(freq='5Min')).agg(aggfnc) \n",
    "    dct = dict()\n",
    "    discard_next_iteration = set() \n",
    "    for p0, p1 in zip(range(0, agg_5m.shape[0]-1), range(1, agg_5m.shape[0])):\n",
    "        p0d = agg_5m.iloc[p0, 0]\n",
    "        p1d = agg_5m.iloc[p1, 0]\n",
    "        if p0d and p1d:\n",
    "            in_both = agg_5m.iloc[p0, 0].intersection(agg_5m.iloc[p1, 0])\n",
    "            if in_both:\n",
    "                recorded = {ua[el] for el in in_both}\n",
    "                dct[agg_5m.index[p0]] = recorded - discard_next_iteration\n",
    "                discard_next_iteration = recorded\n",
    "\n",
    "    adj = pd.Series(dct) \n",
    "    return adj"
   ]
  },
  {
   "cell_type": "code",
   "execution_count": 8,
   "metadata": {},
   "outputs": [],
   "source": [
    "def main_bt(user):\n",
    "    adj = user_bt_interactions(user)\n",
    "    adj = adj[adj.map(len) > 0]  # remove empty timebins\n",
    "    adj_summarized = pd.Series(Counter(itertools.chain(*adj)))\n",
    "    user_alias = ua[user]\n",
    "    return {user_alias: (adj, adj_summarized)}\n"
   ]
  },
  {
   "cell_type": "code",
   "execution_count": 9,
   "metadata": {},
   "outputs": [],
   "source": [
    "dct_bt = dict()\n",
    "pool = multiprocessing.Pool(24)\n",
    "try:\n",
    "    us_lst = (df.iloc[:, 5]).tolist()\n",
    "    res = pool.map(main_bt, us_lst)\n",
    "    for el in res:\n",
    "        dct_bt.update(el)\n",
    "finally:\n",
    "    pool.close() \n"
   ]
  },
  {
   "cell_type": "code",
   "execution_count": 10,
   "metadata": {},
   "outputs": [],
   "source": [
    "gbt = nx.DiGraph() \n",
    "for user_alias, (_, summed) in dct_bt.items():\n",
    "    edgelist = [(user_alias, contact, {'weight': weight}) for (contact, weight) in summed.items()]\n",
    "    gbt.add_edges_from(edgelist)"
   ]
  },
  {
   "cell_type": "raw",
   "metadata": {},
   "source": [
    "plotting.drawWeightedGraph(gbt, nodeLabels=False)"
   ]
  },
  {
   "cell_type": "raw",
   "metadata": {},
   "source": [
    "plotting.nxQuickDraw(gbt)"
   ]
  },
  {
   "cell_type": "markdown",
   "metadata": {},
   "source": [
    "## SMS"
   ]
  },
  {
   "cell_type": "code",
   "execution_count": 6,
   "metadata": {},
   "outputs": [],
   "source": [
    "def main_sms(user):\n",
    "    dsm = pd.DataFrame(loaders.loadUser2(user, dataFilter=('sms', ))['sms']) \n",
    "    dsm = dsm[dsm.address.str.len() > 0]\n",
    "    dsm = dsm[dsm.address.isin(phonebook.keys())]\n",
    "    dsm['address'] = dsm.address.replace(phonebook).replace(ua.userdct)\n",
    "    dsm['timestamp'] = pd.to_datetime(dsm.timestamp, unit='s')\n",
    "    dsm['user'] = dsm.user.replace(ua.userdct)\n",
    "    return {ua[user]: dsm}"
   ]
  },
  {
   "cell_type": "code",
   "execution_count": 7,
   "metadata": {},
   "outputs": [],
   "source": [
    "dct_sms = dict()\n",
    "pool = multiprocessing.Pool(24)\n",
    "try:\n",
    "    us_lst = (df.iloc[:, 5]).tolist()\n",
    "    res = pool.map(main_sms, us_lst)\n",
    "    for el in res:\n",
    "        dct_sms.update(el)\n",
    "finally:\n",
    "    pool.close()"
   ]
  },
  {
   "cell_type": "code",
   "execution_count": 8,
   "metadata": {
    "pixiedust": {
     "displayParams": {}
    }
   },
   "outputs": [],
   "source": [
    "gsm = nx.DiGraph()\n",
    "for user, value in dct_sms.items():\n",
    "    tmp = value.groupby('address').timestamp.count()\n",
    "    for contact, weight in tmp.iteritems():\n",
    "        graph.updateWeight(gsm, user, contact, weight)"
   ]
  },
  {
   "cell_type": "code",
   "execution_count": 9,
   "metadata": {},
   "outputs": [
    {
     "data": {
      "text/plain": [
       "address\n",
       "u0411     2\n",
       "u0437    12\n",
       "u0635     2\n",
       "u0707    29\n",
       "u0854    44\n",
       "Name: timestamp, dtype: int64"
      ]
     },
     "execution_count": 9,
     "metadata": {},
     "output_type": "execute_result"
    }
   ],
   "source": [
    "tmp.head() "
   ]
  },
  {
   "cell_type": "raw",
   "metadata": {},
   "source": [
    "plotting.nxQuickDraw(gsm)"
   ]
  },
  {
   "cell_type": "markdown",
   "metadata": {},
   "source": [
    "## Call"
   ]
  },
  {
   "cell_type": "code",
   "execution_count": 16,
   "metadata": {},
   "outputs": [],
   "source": [
    "def main_call(user):\n",
    "    dca = pd.DataFrame(loaders.loadUser2(user, dataFilter=('call', ))['call']) \n",
    "    dca = dca.rename(columns={'number': 'address'})\n",
    "    dca = dca[dca.address.str.len() > 0]\n",
    "    dca = dca[dca.address.isin(phonebook.keys())]\n",
    "    dca['address'] = dca.address.replace(phonebook).replace(ua.userdct)\n",
    "    dca['timestamp'] = pd.to_datetime(dca.timestamp, unit='s')\n",
    "    dca['user'] = user\n",
    "    return {ua[user]: dca}"
   ]
  },
  {
   "cell_type": "code",
   "execution_count": 17,
   "metadata": {},
   "outputs": [],
   "source": [
    "dct_call = dict()\n",
    "pool = multiprocessing.Pool(24)\n",
    "try:\n",
    "    us_lst = (df.iloc[:, 5]).tolist()\n",
    "    res = pool.map(main_call, us_lst)\n",
    "    for el in res:\n",
    "        dct_call.update(el)\n",
    "finally:\n",
    "    pool.close()"
   ]
  },
  {
   "cell_type": "code",
   "execution_count": 19,
   "metadata": {},
   "outputs": [
    {
     "data": {
      "text/plain": [
       "dict_keys(['u0182', 'u1015', 'u0778', 'u0933', 'u0256'])"
      ]
     },
     "execution_count": 19,
     "metadata": {},
     "output_type": "execute_result"
    }
   ],
   "source": [
    "dct_call.keys() "
   ]
  },
  {
   "cell_type": "code",
   "execution_count": 20,
   "metadata": {},
   "outputs": [],
   "source": [
    "gca = nx.DiGraph()\n",
    "for user, value in dct_sms.items():\n",
    "    tmp = value.groupby('address').timestamp.count()\n",
    "    for contact, weight in tmp.iteritems():\n",
    "        graph.updateWeight(gca, user, contact, weight) "
   ]
  },
  {
   "cell_type": "raw",
   "metadata": {},
   "source": [
    "plotting.nxQuickDraw(gca)"
   ]
  },
  {
   "cell_type": "code",
   "execution_count": null,
   "metadata": {},
   "outputs": [],
   "source": []
  }
 ],
 "metadata": {
  "kernelspec": {
   "display_name": "Python 3",
   "language": "python",
   "name": "python3"
  },
  "language_info": {
   "codemirror_mode": {
    "name": "ipython",
    "version": 3
   },
   "file_extension": ".py",
   "mimetype": "text/x-python",
   "name": "python",
   "nbconvert_exporter": "python",
   "pygments_lexer": "ipython3",
   "version": "3.6.4"
  }
 },
 "nbformat": 4,
 "nbformat_minor": 2
}
