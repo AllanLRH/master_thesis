{
 "cells": [
  {
   "cell_type": "code",
   "execution_count": 1,
   "metadata": {
    "collapsed": true
   },
   "outputs": [],
   "source": [
    "import sys \n",
    "import os\n",
    "sys.path.append(os.path.abspath(\"..\"))\n",
    "\n",
    "import numpy as np\n",
    "import pandas as pd\n",
    "import matplotlib as mpl\n",
    "import matplotlib.pyplot as plt\n",
    "import seaborn as sns\n",
    "import re\n",
    "sns.set(context='paper', style='whitegrid', color_codes=True, font_scale=1.8)\n",
    "colorcycle = [(0.498, 0.788, 0.498),\n",
    "              (0.745, 0.682, 0.831),\n",
    "              (0.992, 0.753, 0.525),\n",
    "              (0.220, 0.424, 0.690),\n",
    "              (0.749, 0.357, 0.090),\n",
    "              (1.000, 1.000, 0.600),\n",
    "              (0.941, 0.008, 0.498),\n",
    "              (0.400, 0.400, 0.400)]\n",
    "sns.set_palette(colorcycle)\n",
    "mpl.rcParams['figure.max_open_warning'] = 65\n",
    "mpl.rcParams['figure.figsize'] = [12, 7]\n",
    "\n",
    "from speclib import misc, plotting, loaders\n",
    "\n",
    "%matplotlib inline "
   ]
  },
  {
   "cell_type": "code",
   "execution_count": 2,
   "metadata": {
    "collapsed": true
   },
   "outputs": [],
   "source": [
    "df = pd.read_msgpack('../../allan_data/bluetooth_light_no_nan.msgpack') "
   ]
  },
  {
   "cell_type": "code",
   "execution_count": 3,
   "metadata": {},
   "outputs": [
    {
     "data": {
      "text/html": [
       "<div>\n",
       "<table border=\"1\" class=\"dataframe\">\n",
       "  <thead>\n",
       "    <tr style=\"text-align: right;\">\n",
       "      <th></th>\n",
       "      <th>rssi</th>\n",
       "      <th>scanned_user</th>\n",
       "      <th>user</th>\n",
       "    </tr>\n",
       "    <tr>\n",
       "      <th>timestamp</th>\n",
       "      <th></th>\n",
       "      <th></th>\n",
       "      <th></th>\n",
       "    </tr>\n",
       "  </thead>\n",
       "  <tbody>\n",
       "    <tr>\n",
       "      <th>2013-12-05 10:51:22</th>\n",
       "      <td>-65</td>\n",
       "      <td>u0069</td>\n",
       "      <td>u0182</td>\n",
       "    </tr>\n",
       "    <tr>\n",
       "      <th>2013-12-05 10:51:22</th>\n",
       "      <td>-80</td>\n",
       "      <td>u0331</td>\n",
       "      <td>u0182</td>\n",
       "    </tr>\n",
       "    <tr>\n",
       "      <th>2013-12-05 10:51:22</th>\n",
       "      <td>-68</td>\n",
       "      <td>u0702</td>\n",
       "      <td>u0182</td>\n",
       "    </tr>\n",
       "    <tr>\n",
       "      <th>2013-12-05 10:51:22</th>\n",
       "      <td>-62</td>\n",
       "      <td>u0535</td>\n",
       "      <td>u0182</td>\n",
       "    </tr>\n",
       "    <tr>\n",
       "      <th>2013-12-05 10:51:22</th>\n",
       "      <td>-73</td>\n",
       "      <td>u0732</td>\n",
       "      <td>u0182</td>\n",
       "    </tr>\n",
       "  </tbody>\n",
       "</table>\n",
       "</div>"
      ],
      "text/plain": [
       "                     rssi scanned_user   user\n",
       "timestamp                                    \n",
       "2013-12-05 10:51:22   -65        u0069  u0182\n",
       "2013-12-05 10:51:22   -80        u0331  u0182\n",
       "2013-12-05 10:51:22   -68        u0702  u0182\n",
       "2013-12-05 10:51:22   -62        u0535  u0182\n",
       "2013-12-05 10:51:22   -73        u0732  u0182"
      ]
     },
     "execution_count": 3,
     "metadata": {},
     "output_type": "execute_result"
    }
   ],
   "source": [
    "df.head() "
   ]
  },
  {
   "cell_type": "code",
   "execution_count": 4,
   "metadata": {},
   "outputs": [
    {
     "data": {
      "text/plain": [
       "(37949304, 3)"
      ]
     },
     "execution_count": 4,
     "metadata": {},
     "output_type": "execute_result"
    }
   ],
   "source": [
    "df.shape"
   ]
  },
  {
   "cell_type": "code",
   "execution_count": 5,
   "metadata": {},
   "outputs": [
    {
     "name": "stdout",
     "output_type": "stream",
     "text": [
      "Done computing hour\n",
      "Done computing weekday\n",
      "Done computing before_workday\n",
      "Done computing free_time\n"
     ]
    }
   ],
   "source": [
    "df['hour'] = df.index.hour\n",
    "print(\"Done computing hour\")\n",
    "df['weekday'] = df.index.weekday\n",
    "print(\"Done computing weekday\")\n",
    "before_workday = df.weekday.isin({0, 1, 2, 3, 6})  # is it monday, tuesday, wendnesday, thursday or sunday?\n",
    "print(\"Done computing before_workday\")\n",
    "free_time = (19 < df.hour) | (df.hour < 7)\n",
    "print(\"Done computing free_time\")\n"
   ]
  },
  {
   "cell_type": "code",
   "execution_count": 6,
   "metadata": {
    "collapsed": true
   },
   "outputs": [],
   "source": [
    "dfti = df[df.user == 'u0182'].index"
   ]
  },
  {
   "cell_type": "code",
   "execution_count": 7,
   "metadata": {
    "collapsed": true
   },
   "outputs": [],
   "source": [
    "dftiu = dfti.unique()\n",
    "dftiu = dftiu.sort_values() "
   ]
  },
  {
   "cell_type": "code",
   "execution_count": 8,
   "metadata": {},
   "outputs": [
    {
     "data": {
      "text/plain": [
       "dtype('<M8[ns]')"
      ]
     },
     "execution_count": 8,
     "metadata": {},
     "output_type": "execute_result"
    }
   ],
   "source": [
    "dftiu.dtype"
   ]
  },
  {
   "cell_type": "code",
   "execution_count": 9,
   "metadata": {
    "collapsed": true
   },
   "outputs": [],
   "source": [
    "index_delta = list()\n",
    "for i in range(len(dftiu) - 1):\n",
    "    index_delta.append(dftiu[i+1] - dftiu[i])\n",
    "index_delta = pd.Series(index_delta)"
   ]
  },
  {
   "cell_type": "code",
   "execution_count": 10,
   "metadata": {},
   "outputs": [
    {
     "data": {
      "text/plain": [
       "count                      6427\n",
       "mean     0 days 01:44:26.905865\n",
       "std      0 days 14:06:33.015288\n",
       "min             0 days 00:01:04\n",
       "25%             0 days 00:05:00\n",
       "50%             0 days 00:05:02\n",
       "75%             0 days 00:05:14\n",
       "max            20 days 05:13:17\n",
       "dtype: object"
      ]
     },
     "execution_count": 10,
     "metadata": {},
     "output_type": "execute_result"
    }
   ],
   "source": [
    "index_delta.describe(include='all')"
   ]
  },
  {
   "cell_type": "markdown",
   "metadata": {
    "collapsed": true
   },
   "source": [
    "Krav: Folk skal være sammen i mindst 4 timer før det tæller som hænge ud sammen."
   ]
  },
  {
   "cell_type": "markdown",
   "metadata": {
    "collapsed": true
   },
   "source": [
    "Sample try:\n",
    "\n",
    "```\n",
    "dfs = df.sample(4500)\n",
    "dfs = dfs[dfs.before_workday & dfs.free_time] \n",
    "\n",
    "dfs.groupby(['user', dfs.index.weekday_name]).rssi.count()\n",
    "```"
   ]
  },
  {
   "cell_type": "code",
   "execution_count": 12,
   "metadata": {},
   "outputs": [],
   "source": [
    "# dfs = df.sample(20)\n",
    "dfs = df[before_workday & free_time] \n",
    "# dfs['user_id'] = dfs.scanned_user.replace(np.NaN, dfs.bt_mac)\n",
    "# dfs['scanned_user'] = dfs.scanned_user.replace(np.NaN, 'unknown')"
   ]
  },
  {
   "cell_type": "code",
   "execution_count": 13,
   "metadata": {
    "collapsed": true
   },
   "outputs": [],
   "source": [
    "tmp = dfs.iloc[:4000]"
   ]
  },
  {
   "cell_type": "markdown",
   "metadata": {},
   "source": [
    "Check that timestamps and timedaltas can be used for binning/slicing"
   ]
  },
  {
   "cell_type": "code",
   "execution_count": 17,
   "metadata": {},
   "outputs": [
    {
     "data": {
      "text/plain": [
       "Timestamp('2014-02-06 06:43:05')"
      ]
     },
     "execution_count": 17,
     "metadata": {},
     "output_type": "execute_result"
    }
   ],
   "source": [
    "tmp.index[0]"
   ]
  },
  {
   "cell_type": "code",
   "execution_count": 18,
   "metadata": {},
   "outputs": [
    {
     "data": {
      "text/plain": [
       "Timestamp('2014-02-06 10:43:05')"
      ]
     },
     "execution_count": 18,
     "metadata": {},
     "output_type": "execute_result"
    }
   ],
   "source": [
    "tmp.index[0] + pd.Timedelta(4, unit='h') "
   ]
  },
  {
   "cell_type": "code",
   "execution_count": 21,
   "metadata": {},
   "outputs": [
    {
     "data": {
      "text/plain": [
       "array([ True,  True,  True, False, False, False, False, False, False, False], dtype=bool)"
      ]
     },
     "execution_count": 21,
     "metadata": {},
     "output_type": "execute_result"
    }
   ],
   "source": [
    "(\n",
    "    ( tmp.index[0] <= tmp.index ) &\n",
    "    ( tmp.index <= (tmp.index[0] + pd.Timedelta(4, unit='h')) )\n",
    ")[:10] "
   ]
  },
  {
   "cell_type": "code",
   "execution_count": 22,
   "metadata": {},
   "outputs": [
    {
     "data": {
      "text/html": [
       "<div>\n",
       "<table border=\"1\" class=\"dataframe\">\n",
       "  <thead>\n",
       "    <tr style=\"text-align: right;\">\n",
       "      <th></th>\n",
       "      <th>rssi</th>\n",
       "      <th>scanned_user</th>\n",
       "      <th>user</th>\n",
       "      <th>hour</th>\n",
       "      <th>weekday</th>\n",
       "    </tr>\n",
       "    <tr>\n",
       "      <th>timestamp</th>\n",
       "      <th></th>\n",
       "      <th></th>\n",
       "      <th></th>\n",
       "      <th></th>\n",
       "      <th></th>\n",
       "    </tr>\n",
       "  </thead>\n",
       "  <tbody>\n",
       "    <tr>\n",
       "      <th>2014-02-06 06:43:05</th>\n",
       "      <td>-93</td>\n",
       "      <td>u0238</td>\n",
       "      <td>u0182</td>\n",
       "      <td>6</td>\n",
       "      <td>3</td>\n",
       "    </tr>\n",
       "    <tr>\n",
       "      <th>2014-02-06 06:58:10</th>\n",
       "      <td>-94</td>\n",
       "      <td>u0381</td>\n",
       "      <td>u0182</td>\n",
       "      <td>6</td>\n",
       "      <td>3</td>\n",
       "    </tr>\n",
       "    <tr>\n",
       "      <th>2014-02-06 06:58:10</th>\n",
       "      <td>-82</td>\n",
       "      <td>u0363</td>\n",
       "      <td>u0182</td>\n",
       "      <td>6</td>\n",
       "      <td>3</td>\n",
       "    </tr>\n",
       "    <tr>\n",
       "      <th>2014-02-13 06:44:40</th>\n",
       "      <td>-87</td>\n",
       "      <td>u0920</td>\n",
       "      <td>u0182</td>\n",
       "      <td>6</td>\n",
       "      <td>3</td>\n",
       "    </tr>\n",
       "    <tr>\n",
       "      <th>2014-02-13 06:54:40</th>\n",
       "      <td>-93</td>\n",
       "      <td>u0574</td>\n",
       "      <td>u0182</td>\n",
       "      <td>6</td>\n",
       "      <td>3</td>\n",
       "    </tr>\n",
       "  </tbody>\n",
       "</table>\n",
       "</div>"
      ],
      "text/plain": [
       "                     rssi scanned_user   user  hour  weekday\n",
       "timestamp                                                   \n",
       "2014-02-06 06:43:05   -93        u0238  u0182     6        3\n",
       "2014-02-06 06:58:10   -94        u0381  u0182     6        3\n",
       "2014-02-06 06:58:10   -82        u0363  u0182     6        3\n",
       "2014-02-13 06:44:40   -87        u0920  u0182     6        3\n",
       "2014-02-13 06:54:40   -93        u0574  u0182     6        3"
      ]
     },
     "execution_count": 22,
     "metadata": {},
     "output_type": "execute_result"
    }
   ],
   "source": [
    "dfs.head() "
   ]
  },
  {
   "cell_type": "code",
   "execution_count": 23,
   "metadata": {
    "collapsed": true
   },
   "outputs": [],
   "source": [
    "def concatenater(args, frac=0.85):\n",
    "    vc = args.value_counts()\n",
    "    return set(vc[vc >= frac*vc.max()].index)\n",
    "\n",
    "def mostly_present_counter(args):\n",
    "    return len(concatenater(args))\n",
    "    #con_len = len(concatenater(args))\n",
    "    # return int(con_len) if con_len else None "
   ]
  },
  {
   "cell_type": "markdown",
   "metadata": {},
   "source": [
    "Resampling `df` works, but it's not ideal since it's not organized pr. user basis"
   ]
  },
  {
   "cell_type": "code",
   "execution_count": 26,
   "metadata": {},
   "outputs": [
    {
     "data": {
      "text/html": [
       "<div>\n",
       "<table border=\"1\" class=\"dataframe\">\n",
       "  <thead>\n",
       "    <tr style=\"text-align: right;\">\n",
       "      <th></th>\n",
       "      <th>user</th>\n",
       "      <th>scanned_user</th>\n",
       "    </tr>\n",
       "    <tr>\n",
       "      <th>timestamp</th>\n",
       "      <th></th>\n",
       "      <th></th>\n",
       "    </tr>\n",
       "  </thead>\n",
       "  <tbody>\n",
       "    <tr>\n",
       "      <th>2013-12-05 08:00:00</th>\n",
       "      <td>{u0182}</td>\n",
       "      <td>{u0083}</td>\n",
       "    </tr>\n",
       "    <tr>\n",
       "      <th>2013-12-05 12:00:00</th>\n",
       "      <td>{u0182}</td>\n",
       "      <td>{u0020}</td>\n",
       "    </tr>\n",
       "    <tr>\n",
       "      <th>2013-12-05 16:00:00</th>\n",
       "      <td>{}</td>\n",
       "      <td>{}</td>\n",
       "    </tr>\n",
       "    <tr>\n",
       "      <th>2013-12-05 20:00:00</th>\n",
       "      <td>{}</td>\n",
       "      <td>{}</td>\n",
       "    </tr>\n",
       "    <tr>\n",
       "      <th>2013-12-06 00:00:00</th>\n",
       "      <td>{}</td>\n",
       "      <td>{}</td>\n",
       "    </tr>\n",
       "    <tr>\n",
       "      <th>2013-12-06 04:00:00</th>\n",
       "      <td>{}</td>\n",
       "      <td>{}</td>\n",
       "    </tr>\n",
       "    <tr>\n",
       "      <th>2013-12-06 08:00:00</th>\n",
       "      <td>{}</td>\n",
       "      <td>{}</td>\n",
       "    </tr>\n",
       "  </tbody>\n",
       "</table>\n",
       "</div>"
      ],
      "text/plain": [
       "                        user scanned_user\n",
       "timestamp                                \n",
       "2013-12-05 08:00:00  {u0182}      {u0083}\n",
       "2013-12-05 12:00:00  {u0182}      {u0020}\n",
       "2013-12-05 16:00:00       {}           {}\n",
       "2013-12-05 20:00:00       {}           {}\n",
       "2013-12-06 00:00:00       {}           {}\n",
       "2013-12-06 04:00:00       {}           {}\n",
       "2013-12-06 08:00:00       {}           {}"
      ]
     },
     "execution_count": 26,
     "metadata": {},
     "output_type": "execute_result"
    }
   ],
   "source": [
    "tmp2 = df.iloc[:1000][['user', 'scanned_user']].resample('4h', closed='left').agg(concatenater)\n",
    "tmp2.head(7) "
   ]
  },
  {
   "cell_type": "markdown",
   "metadata": {
    "collapsed": true
   },
   "source": [
    "A solution where the data is grouped pr. user basis, and thus usefor for multiprocessing\n",
    "\n",
    "```\n",
    "dfs2 = dfs2.set_index(['user', 'timestamp'])\n",
    "\n",
    "dfs2.head(12) \n",
    "\n",
    "tmp3 = dfs2.loc['u0182'].iloc[:1000]['scanned_user'].resample('4h', closed='left').agg(concatenater)\n",
    "tmp3.head(12)\n",
    "```"
   ]
  },
  {
   "cell_type": "code",
   "execution_count": 32,
   "metadata": {
    "collapsed": true
   },
   "outputs": [],
   "source": [
    "tmp3 = dfs.iloc[:3000].groupby('user')['scanned_user'].resample('4h', closed='left').agg(concatenater)"
   ]
  },
  {
   "cell_type": "code",
   "execution_count": 33,
   "metadata": {},
   "outputs": [
    {
     "data": {
      "text/plain": [
       "user   timestamp          \n",
       "u0182  2014-02-06 04:00:00    {u0238, u0363, u0381}\n",
       "       2014-02-06 08:00:00                       {}\n",
       "       2014-02-06 12:00:00                       {}\n",
       "       2014-02-06 16:00:00                       {}\n",
       "       2014-02-06 20:00:00                       {}\n",
       "       2014-02-07 00:00:00                       {}\n",
       "       2014-02-07 04:00:00                       {}\n",
       "       2014-02-07 08:00:00                       {}\n",
       "       2014-02-07 12:00:00                       {}\n",
       "       2014-02-07 16:00:00                       {}\n",
       "       2014-02-07 20:00:00                       {}\n",
       "       2014-02-08 00:00:00                       {}\n",
       "       2014-02-08 04:00:00                       {}\n",
       "       2014-02-08 08:00:00                       {}\n",
       "       2014-02-08 12:00:00                       {}\n",
       "       2014-02-08 16:00:00                       {}\n",
       "       2014-02-08 20:00:00                       {}\n",
       "       2014-02-09 00:00:00                       {}\n",
       "       2014-02-09 04:00:00                       {}\n",
       "       2014-02-09 08:00:00                       {}\n",
       "Name: scanned_user, dtype: object"
      ]
     },
     "execution_count": 33,
     "metadata": {},
     "output_type": "execute_result"
    }
   ],
   "source": [
    "tmp3.head(20) "
   ]
  },
  {
   "cell_type": "code",
   "execution_count": null,
   "metadata": {
    "collapsed": true
   },
   "outputs": [],
   "source": []
  },
  {
   "cell_type": "code",
   "execution_count": null,
   "metadata": {
    "collapsed": true
   },
   "outputs": [],
   "source": []
  },
  {
   "cell_type": "code",
   "execution_count": null,
   "metadata": {
    "collapsed": true
   },
   "outputs": [],
   "source": []
  },
  {
   "cell_type": "code",
   "execution_count": null,
   "metadata": {
    "collapsed": true
   },
   "outputs": [],
   "source": []
  },
  {
   "cell_type": "code",
   "execution_count": null,
   "metadata": {
    "collapsed": true
   },
   "outputs": [],
   "source": []
  },
  {
   "cell_type": "code",
   "execution_count": null,
   "metadata": {
    "collapsed": true
   },
   "outputs": [],
   "source": []
  },
  {
   "cell_type": "code",
   "execution_count": null,
   "metadata": {
    "collapsed": true
   },
   "outputs": [],
   "source": []
  }
 ],
 "metadata": {
  "kernelspec": {
   "display_name": "Python 3",
   "language": "python",
   "name": "python3"
  },
  "language_info": {
   "codemirror_mode": {
    "name": "ipython",
    "version": 3
   },
   "file_extension": ".py",
   "mimetype": "text/x-python",
   "name": "python",
   "nbconvert_exporter": "python",
   "pygments_lexer": "ipython3",
   "version": "3.6.4"
  }
 },
 "nbformat": 4,
 "nbformat_minor": 2
}
