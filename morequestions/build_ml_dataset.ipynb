{
 "cells": [
  {
   "cell_type": "code",
   "execution_count": 1,
   "metadata": {
    "collapsed": true
   },
   "outputs": [],
   "source": [
    "import sys \n",
    "import os\n",
    "sys.path.append(os.path.abspath(\"..\"))\n",
    "\n",
    "import numpy as np\n",
    "import pandas as pd\n",
    "import matplotlib as mpl\n",
    "import matplotlib.pyplot as plt\n",
    "import seaborn as sns\n",
    "import re\n",
    "import itertools\n",
    "import pickle\n",
    "sns.set(context='paper', style='whitegrid', color_codes=True, font_scale=1.8)\n",
    "colorcycle = [(0.498, 0.788, 0.498),\n",
    "              (0.745, 0.682, 0.831),\n",
    "              (0.992, 0.753, 0.525),\n",
    "              (0.220, 0.424, 0.690),\n",
    "              (0.749, 0.357, 0.090),\n",
    "              (1.000, 1.000, 0.600),\n",
    "              (0.941, 0.008, 0.498),\n",
    "              (0.400, 0.400, 0.400)]\n",
    "sns.set_palette(colorcycle)\n",
    "mpl.rcParams['figure.max_open_warning'] = 65\n",
    "mpl.rcParams['figure.figsize'] = [12, 7]\n",
    "\n",
    "from speclib import misc, plotting, loaders\n",
    "\n",
    "%matplotlib inline "
   ]
  },
  {
   "cell_type": "code",
   "execution_count": 2,
   "metadata": {},
   "outputs": [
    {
     "data": {
      "text/html": [
       "<div>\n",
       "<table border=\"1\" class=\"dataframe\">\n",
       "  <thead>\n",
       "    <tr style=\"text-align: right;\">\n",
       "      <th></th>\n",
       "      <th>function_duties__answer</th>\n",
       "      <th>function_duties__answer_type</th>\n",
       "      <th>function_duties__question</th>\n",
       "      <th>function_duties__response</th>\n",
       "      <th>function_duties__condition</th>\n",
       "      <th>narcissism_opponents__answer</th>\n",
       "      <th>narcissism_opponents__answer_type</th>\n",
       "      <th>narcissism_opponents__question</th>\n",
       "      <th>narcissism_opponents__response</th>\n",
       "      <th>narcissism_opponents__condition</th>\n",
       "      <th>...</th>\n",
       "      <th>selfesteem_proud__answer_type</th>\n",
       "      <th>selfesteem_proud__question</th>\n",
       "      <th>selfesteem_proud__response</th>\n",
       "      <th>selfesteem_proud__condition</th>\n",
       "      <th>narcissism_excellent__answer</th>\n",
       "      <th>narcissism_excellent__answer_type</th>\n",
       "      <th>narcissism_excellent__question</th>\n",
       "      <th>narcissism_excellent__response</th>\n",
       "      <th>narcissism_excellent__condition</th>\n",
       "      <th>gender</th>\n",
       "    </tr>\n",
       "  </thead>\n",
       "  <tbody>\n",
       "    <tr>\n",
       "      <th>u0001</th>\n",
       "      <td>0.0</td>\n",
       "      <td>radio</td>\n",
       "      <td>At varetage dine praktiske pligter i hjemmet?</td>\n",
       "      <td>Slet ikke</td>\n",
       "      <td>False</td>\n",
       "      <td>1.0</td>\n",
       "      <td>radio</td>\n",
       "      <td>Jeg nyder for mig selv, når mine modstandere m...</td>\n",
       "      <td>2</td>\n",
       "      <td>False</td>\n",
       "      <td>...</td>\n",
       "      <td>radio</td>\n",
       "      <td>Jeg føler at jeg ikke har meget at være stolt af</td>\n",
       "      <td>Uenig</td>\n",
       "      <td>False</td>\n",
       "      <td>3.0</td>\n",
       "      <td>radio</td>\n",
       "      <td>Jeg formår at være midtpunkt for opmærksomhed ...</td>\n",
       "      <td>4</td>\n",
       "      <td>False</td>\n",
       "      <td>male</td>\n",
       "    </tr>\n",
       "    <tr>\n",
       "      <th>u0002</th>\n",
       "      <td>1.0</td>\n",
       "      <td>radio</td>\n",
       "      <td>At varetage dine praktiske pligter i hjemmet?</td>\n",
       "      <td>Lidt</td>\n",
       "      <td>False</td>\n",
       "      <td>2.0</td>\n",
       "      <td>radio</td>\n",
       "      <td>Jeg nyder for mig selv, når mine modstandere m...</td>\n",
       "      <td>3</td>\n",
       "      <td>False</td>\n",
       "      <td>...</td>\n",
       "      <td>radio</td>\n",
       "      <td>Jeg føler at jeg ikke har meget at være stolt af</td>\n",
       "      <td>Uenig</td>\n",
       "      <td>False</td>\n",
       "      <td>2.0</td>\n",
       "      <td>radio</td>\n",
       "      <td>Jeg formår at være midtpunkt for opmærksomhed ...</td>\n",
       "      <td>3</td>\n",
       "      <td>False</td>\n",
       "      <td>male</td>\n",
       "    </tr>\n",
       "    <tr>\n",
       "      <th>u0003</th>\n",
       "      <td>1.0</td>\n",
       "      <td>radio</td>\n",
       "      <td>At varetage dine praktiske pligter i hjemmet?</td>\n",
       "      <td>Lidt</td>\n",
       "      <td>False</td>\n",
       "      <td>1.0</td>\n",
       "      <td>radio</td>\n",
       "      <td>Jeg nyder for mig selv, når mine modstandere m...</td>\n",
       "      <td>2</td>\n",
       "      <td>False</td>\n",
       "      <td>...</td>\n",
       "      <td>radio</td>\n",
       "      <td>Jeg føler at jeg ikke har meget at være stolt af</td>\n",
       "      <td>Enig</td>\n",
       "      <td>False</td>\n",
       "      <td>1.0</td>\n",
       "      <td>radio</td>\n",
       "      <td>Jeg formår at være midtpunkt for opmærksomhed ...</td>\n",
       "      <td>2</td>\n",
       "      <td>False</td>\n",
       "      <td>male</td>\n",
       "    </tr>\n",
       "    <tr>\n",
       "      <th>u0004</th>\n",
       "      <td>1.0</td>\n",
       "      <td>radio</td>\n",
       "      <td>At varetage dine praktiske pligter i hjemmet?</td>\n",
       "      <td>Lidt</td>\n",
       "      <td>False</td>\n",
       "      <td>2.0</td>\n",
       "      <td>radio</td>\n",
       "      <td>Jeg nyder for mig selv, når mine modstandere m...</td>\n",
       "      <td>3</td>\n",
       "      <td>False</td>\n",
       "      <td>...</td>\n",
       "      <td>radio</td>\n",
       "      <td>Jeg føler at jeg ikke har meget at være stolt af</td>\n",
       "      <td>Uenig</td>\n",
       "      <td>False</td>\n",
       "      <td>1.0</td>\n",
       "      <td>radio</td>\n",
       "      <td>Jeg formår at være midtpunkt for opmærksomhed ...</td>\n",
       "      <td>2</td>\n",
       "      <td>False</td>\n",
       "      <td>male</td>\n",
       "    </tr>\n",
       "    <tr>\n",
       "      <th>u0006</th>\n",
       "      <td>1.0</td>\n",
       "      <td>radio</td>\n",
       "      <td>At varetage dine praktiske pligter i hjemmet?</td>\n",
       "      <td>Lidt</td>\n",
       "      <td>False</td>\n",
       "      <td>1.0</td>\n",
       "      <td>radio</td>\n",
       "      <td>Jeg nyder for mig selv, når mine modstandere m...</td>\n",
       "      <td>2</td>\n",
       "      <td>False</td>\n",
       "      <td>...</td>\n",
       "      <td>radio</td>\n",
       "      <td>Jeg føler at jeg ikke har meget at være stolt af</td>\n",
       "      <td>Stærkt uenig</td>\n",
       "      <td>False</td>\n",
       "      <td>0.0</td>\n",
       "      <td>radio</td>\n",
       "      <td>Jeg formår at være midtpunkt for opmærksomhed ...</td>\n",
       "      <td>Passer slet ikke 1</td>\n",
       "      <td>False</td>\n",
       "      <td>female</td>\n",
       "    </tr>\n",
       "  </tbody>\n",
       "</table>\n",
       "<p>5 rows × 1431 columns</p>\n",
       "</div>"
      ],
      "text/plain": [
       "       function_duties__answer function_duties__answer_type  \\\n",
       "u0001                      0.0                        radio   \n",
       "u0002                      1.0                        radio   \n",
       "u0003                      1.0                        radio   \n",
       "u0004                      1.0                        radio   \n",
       "u0006                      1.0                        radio   \n",
       "\n",
       "                           function_duties__question  \\\n",
       "u0001  At varetage dine praktiske pligter i hjemmet?   \n",
       "u0002  At varetage dine praktiske pligter i hjemmet?   \n",
       "u0003  At varetage dine praktiske pligter i hjemmet?   \n",
       "u0004  At varetage dine praktiske pligter i hjemmet?   \n",
       "u0006  At varetage dine praktiske pligter i hjemmet?   \n",
       "\n",
       "      function_duties__response function_duties__condition  \\\n",
       "u0001                 Slet ikke                      False   \n",
       "u0002                      Lidt                      False   \n",
       "u0003                      Lidt                      False   \n",
       "u0004                      Lidt                      False   \n",
       "u0006                      Lidt                      False   \n",
       "\n",
       "       narcissism_opponents__answer narcissism_opponents__answer_type  \\\n",
       "u0001                           1.0                             radio   \n",
       "u0002                           2.0                             radio   \n",
       "u0003                           1.0                             radio   \n",
       "u0004                           2.0                             radio   \n",
       "u0006                           1.0                             radio   \n",
       "\n",
       "                          narcissism_opponents__question  \\\n",
       "u0001  Jeg nyder for mig selv, når mine modstandere m...   \n",
       "u0002  Jeg nyder for mig selv, når mine modstandere m...   \n",
       "u0003  Jeg nyder for mig selv, når mine modstandere m...   \n",
       "u0004  Jeg nyder for mig selv, når mine modstandere m...   \n",
       "u0006  Jeg nyder for mig selv, når mine modstandere m...   \n",
       "\n",
       "      narcissism_opponents__response narcissism_opponents__condition   ...    \\\n",
       "u0001                              2                           False   ...     \n",
       "u0002                              3                           False   ...     \n",
       "u0003                              2                           False   ...     \n",
       "u0004                              3                           False   ...     \n",
       "u0006                              2                           False   ...     \n",
       "\n",
       "       selfesteem_proud__answer_type  \\\n",
       "u0001                          radio   \n",
       "u0002                          radio   \n",
       "u0003                          radio   \n",
       "u0004                          radio   \n",
       "u0006                          radio   \n",
       "\n",
       "                             selfesteem_proud__question  \\\n",
       "u0001  Jeg føler at jeg ikke har meget at være stolt af   \n",
       "u0002  Jeg føler at jeg ikke har meget at være stolt af   \n",
       "u0003  Jeg føler at jeg ikke har meget at være stolt af   \n",
       "u0004  Jeg føler at jeg ikke har meget at være stolt af   \n",
       "u0006  Jeg føler at jeg ikke har meget at være stolt af   \n",
       "\n",
       "      selfesteem_proud__response selfesteem_proud__condition  \\\n",
       "u0001                      Uenig                       False   \n",
       "u0002                      Uenig                       False   \n",
       "u0003                       Enig                       False   \n",
       "u0004                      Uenig                       False   \n",
       "u0006               Stærkt uenig                       False   \n",
       "\n",
       "      narcissism_excellent__answer  narcissism_excellent__answer_type  \\\n",
       "u0001                          3.0                              radio   \n",
       "u0002                          2.0                              radio   \n",
       "u0003                          1.0                              radio   \n",
       "u0004                          1.0                              radio   \n",
       "u0006                          0.0                              radio   \n",
       "\n",
       "                          narcissism_excellent__question  \\\n",
       "u0001  Jeg formår at være midtpunkt for opmærksomhed ...   \n",
       "u0002  Jeg formår at være midtpunkt for opmærksomhed ...   \n",
       "u0003  Jeg formår at være midtpunkt for opmærksomhed ...   \n",
       "u0004  Jeg formår at være midtpunkt for opmærksomhed ...   \n",
       "u0006  Jeg formår at være midtpunkt for opmærksomhed ...   \n",
       "\n",
       "      narcissism_excellent__response narcissism_excellent__condition  gender  \n",
       "u0001                              4                           False    male  \n",
       "u0002                              3                           False    male  \n",
       "u0003                              2                           False    male  \n",
       "u0004                              2                           False    male  \n",
       "u0006             Passer slet ikke 1                           False  female  \n",
       "\n",
       "[5 rows x 1431 columns]"
      ]
     },
     "execution_count": 2,
     "metadata": {},
     "output_type": "execute_result"
    }
   ],
   "source": [
    "qdf = pd.read_pickle('../../allan_data/RGender_.pkl') \n",
    "userAlias = loaders.Useralias()\n",
    "qdf.index = qdf.index.map(lambda us: userAlias[us])\n",
    "f = misc.QuestionFilterer(qdf)\n",
    "q = misc.QuestionCompleter(qdf)\n",
    "\n",
    "qdf.head() "
   ]
  },
  {
   "cell_type": "code",
   "execution_count": 3,
   "metadata": {},
   "outputs": [
    {
     "data": {
      "text/html": [
       "<div>\n",
       "<table border=\"1\" class=\"dataframe\">\n",
       "  <thead>\n",
       "    <tr style=\"text-align: right;\">\n",
       "      <th></th>\n",
       "      <th>u0182</th>\n",
       "      <th>u1015</th>\n",
       "      <th>u0778</th>\n",
       "      <th>u0933</th>\n",
       "      <th>u0256</th>\n",
       "      <th>u0659</th>\n",
       "      <th>u0719</th>\n",
       "      <th>u0709</th>\n",
       "      <th>u0748</th>\n",
       "      <th>u0045</th>\n",
       "      <th>...</th>\n",
       "      <th>u0912</th>\n",
       "      <th>u0392</th>\n",
       "      <th>u0060</th>\n",
       "      <th>u0125</th>\n",
       "      <th>u0854</th>\n",
       "      <th>u0404</th>\n",
       "      <th>u0202</th>\n",
       "      <th>u0353</th>\n",
       "      <th>u0382</th>\n",
       "      <th>u0188</th>\n",
       "    </tr>\n",
       "  </thead>\n",
       "  <tbody>\n",
       "    <tr>\n",
       "      <th>2013-12-10</th>\n",
       "      <td>27.0</td>\n",
       "      <td>1.0</td>\n",
       "      <td>24.0</td>\n",
       "      <td>222.0</td>\n",
       "      <td>0.0</td>\n",
       "      <td>0.0</td>\n",
       "      <td>104.0</td>\n",
       "      <td>0.0</td>\n",
       "      <td>0.0</td>\n",
       "      <td>66.0</td>\n",
       "      <td>...</td>\n",
       "      <td>96.0</td>\n",
       "      <td>0.0</td>\n",
       "      <td>0.0</td>\n",
       "      <td>66.0</td>\n",
       "      <td>145.0</td>\n",
       "      <td>65.0</td>\n",
       "      <td>104.0</td>\n",
       "      <td>403.0</td>\n",
       "      <td>96.0</td>\n",
       "      <td>71.0</td>\n",
       "    </tr>\n",
       "    <tr>\n",
       "      <th>2013-12-11</th>\n",
       "      <td>60.0</td>\n",
       "      <td>0.0</td>\n",
       "      <td>16.0</td>\n",
       "      <td>269.0</td>\n",
       "      <td>0.0</td>\n",
       "      <td>0.0</td>\n",
       "      <td>131.0</td>\n",
       "      <td>0.0</td>\n",
       "      <td>0.0</td>\n",
       "      <td>94.0</td>\n",
       "      <td>...</td>\n",
       "      <td>87.0</td>\n",
       "      <td>0.0</td>\n",
       "      <td>0.0</td>\n",
       "      <td>68.0</td>\n",
       "      <td>176.0</td>\n",
       "      <td>44.0</td>\n",
       "      <td>92.0</td>\n",
       "      <td>462.0</td>\n",
       "      <td>176.0</td>\n",
       "      <td>140.0</td>\n",
       "    </tr>\n",
       "    <tr>\n",
       "      <th>2013-12-12</th>\n",
       "      <td>67.0</td>\n",
       "      <td>0.0</td>\n",
       "      <td>16.0</td>\n",
       "      <td>177.0</td>\n",
       "      <td>0.0</td>\n",
       "      <td>0.0</td>\n",
       "      <td>130.0</td>\n",
       "      <td>0.0</td>\n",
       "      <td>0.0</td>\n",
       "      <td>68.0</td>\n",
       "      <td>...</td>\n",
       "      <td>83.0</td>\n",
       "      <td>0.0</td>\n",
       "      <td>0.0</td>\n",
       "      <td>40.0</td>\n",
       "      <td>176.0</td>\n",
       "      <td>30.0</td>\n",
       "      <td>76.0</td>\n",
       "      <td>458.0</td>\n",
       "      <td>183.0</td>\n",
       "      <td>156.0</td>\n",
       "    </tr>\n",
       "    <tr>\n",
       "      <th>2013-12-13</th>\n",
       "      <td>80.0</td>\n",
       "      <td>0.0</td>\n",
       "      <td>16.0</td>\n",
       "      <td>176.0</td>\n",
       "      <td>0.0</td>\n",
       "      <td>0.0</td>\n",
       "      <td>112.0</td>\n",
       "      <td>0.0</td>\n",
       "      <td>0.0</td>\n",
       "      <td>64.0</td>\n",
       "      <td>...</td>\n",
       "      <td>112.0</td>\n",
       "      <td>0.0</td>\n",
       "      <td>0.0</td>\n",
       "      <td>32.0</td>\n",
       "      <td>176.0</td>\n",
       "      <td>16.0</td>\n",
       "      <td>64.0</td>\n",
       "      <td>512.0</td>\n",
       "      <td>192.0</td>\n",
       "      <td>160.0</td>\n",
       "    </tr>\n",
       "    <tr>\n",
       "      <th>2013-12-14</th>\n",
       "      <td>80.0</td>\n",
       "      <td>0.0</td>\n",
       "      <td>16.0</td>\n",
       "      <td>176.0</td>\n",
       "      <td>0.0</td>\n",
       "      <td>0.0</td>\n",
       "      <td>112.0</td>\n",
       "      <td>0.0</td>\n",
       "      <td>0.0</td>\n",
       "      <td>64.0</td>\n",
       "      <td>...</td>\n",
       "      <td>112.0</td>\n",
       "      <td>0.0</td>\n",
       "      <td>0.0</td>\n",
       "      <td>32.0</td>\n",
       "      <td>176.0</td>\n",
       "      <td>16.0</td>\n",
       "      <td>64.0</td>\n",
       "      <td>512.0</td>\n",
       "      <td>192.0</td>\n",
       "      <td>160.0</td>\n",
       "    </tr>\n",
       "  </tbody>\n",
       "</table>\n",
       "<p>5 rows × 845 columns</p>\n",
       "</div>"
      ],
      "text/plain": [
       "            u0182  u1015  u0778  u0933  u0256  u0659  u0719  u0709  u0748  \\\n",
       "2013-12-10   27.0    1.0   24.0  222.0    0.0    0.0  104.0    0.0    0.0   \n",
       "2013-12-11   60.0    0.0   16.0  269.0    0.0    0.0  131.0    0.0    0.0   \n",
       "2013-12-12   67.0    0.0   16.0  177.0    0.0    0.0  130.0    0.0    0.0   \n",
       "2013-12-13   80.0    0.0   16.0  176.0    0.0    0.0  112.0    0.0    0.0   \n",
       "2013-12-14   80.0    0.0   16.0  176.0    0.0    0.0  112.0    0.0    0.0   \n",
       "\n",
       "            u0045  ...    u0912  u0392  u0060  u0125  u0854  u0404  u0202  \\\n",
       "2013-12-10   66.0  ...     96.0    0.0    0.0   66.0  145.0   65.0  104.0   \n",
       "2013-12-11   94.0  ...     87.0    0.0    0.0   68.0  176.0   44.0   92.0   \n",
       "2013-12-12   68.0  ...     83.0    0.0    0.0   40.0  176.0   30.0   76.0   \n",
       "2013-12-13   64.0  ...    112.0    0.0    0.0   32.0  176.0   16.0   64.0   \n",
       "2013-12-14   64.0  ...    112.0    0.0    0.0   32.0  176.0   16.0   64.0   \n",
       "\n",
       "            u0353  u0382  u0188  \n",
       "2013-12-10  403.0   96.0   71.0  \n",
       "2013-12-11  462.0  176.0  140.0  \n",
       "2013-12-12  458.0  183.0  156.0  \n",
       "2013-12-13  512.0  192.0  160.0  \n",
       "2013-12-14  512.0  192.0  160.0  \n",
       "\n",
       "[5 rows x 845 columns]"
      ]
     },
     "execution_count": 3,
     "metadata": {},
     "output_type": "execute_result"
    }
   ],
   "source": [
    "bi = pd.read_msgpack('../../allan_data/bluetooth_interaction_daily_df.msgpack')\n",
    "bi = bi.fillna(0)\n",
    "bi.head() "
   ]
  },
  {
   "cell_type": "code",
   "execution_count": 4,
   "metadata": {
    "collapsed": true
   },
   "outputs": [],
   "source": [
    "fs = pd.DataFrame() "
   ]
  },
  {
   "cell_type": "code",
   "execution_count": 5,
   "metadata": {},
   "outputs": [
    {
     "data": {
      "text/html": [
       "<div>\n",
       "<table border=\"1\" class=\"dataframe\">\n",
       "  <thead>\n",
       "    <tr style=\"text-align: right;\">\n",
       "      <th></th>\n",
       "      <th>weekly_alcohol</th>\n",
       "    </tr>\n",
       "  </thead>\n",
       "  <tbody>\n",
       "    <tr>\n",
       "      <th>u0001</th>\n",
       "      <td>35.0</td>\n",
       "    </tr>\n",
       "    <tr>\n",
       "      <th>u0002</th>\n",
       "      <td>0.0</td>\n",
       "    </tr>\n",
       "    <tr>\n",
       "      <th>u0003</th>\n",
       "      <td>14.0</td>\n",
       "    </tr>\n",
       "    <tr>\n",
       "      <th>u0004</th>\n",
       "      <td>4.0</td>\n",
       "    </tr>\n",
       "    <tr>\n",
       "      <th>u0006</th>\n",
       "      <td>0.0</td>\n",
       "    </tr>\n",
       "  </tbody>\n",
       "</table>\n",
       "</div>"
      ],
      "text/plain": [
       "       weekly_alcohol\n",
       "u0001            35.0\n",
       "u0002             0.0\n",
       "u0003            14.0\n",
       "u0004             4.0\n",
       "u0006             0.0"
      ]
     },
     "execution_count": 5,
     "metadata": {},
     "output_type": "execute_result"
    }
   ],
   "source": [
    "fs['weekly_alcohol'] = qdf.filter(regex='alcohol_volume.+_answer$').sum(axis=1)\n",
    "fs.head() "
   ]
  },
  {
   "cell_type": "code",
   "execution_count": 6,
   "metadata": {},
   "outputs": [
    {
     "data": {
      "text/html": [
       "<div>\n",
       "<table border=\"1\" class=\"dataframe\">\n",
       "  <thead>\n",
       "    <tr style=\"text-align: right;\">\n",
       "      <th></th>\n",
       "      <th>monday</th>\n",
       "      <th>tuesday</th>\n",
       "      <th>wednesday</th>\n",
       "      <th>thursday</th>\n",
       "      <th>friday</th>\n",
       "      <th>saturday</th>\n",
       "      <th>sunday</th>\n",
       "    </tr>\n",
       "  </thead>\n",
       "  <tbody>\n",
       "    <tr>\n",
       "      <th>u0001</th>\n",
       "      <td>0.0</td>\n",
       "      <td>30.0</td>\n",
       "      <td>5.0</td>\n",
       "      <td>0.0</td>\n",
       "      <td>0.0</td>\n",
       "      <td>0.0</td>\n",
       "      <td>0.0</td>\n",
       "    </tr>\n",
       "    <tr>\n",
       "      <th>u0002</th>\n",
       "      <td>0.0</td>\n",
       "      <td>0.0</td>\n",
       "      <td>0.0</td>\n",
       "      <td>0.0</td>\n",
       "      <td>0.0</td>\n",
       "      <td>0.0</td>\n",
       "      <td>0.0</td>\n",
       "    </tr>\n",
       "    <tr>\n",
       "      <th>u0003</th>\n",
       "      <td>0.0</td>\n",
       "      <td>0.0</td>\n",
       "      <td>0.0</td>\n",
       "      <td>0.0</td>\n",
       "      <td>12.0</td>\n",
       "      <td>2.0</td>\n",
       "      <td>0.0</td>\n",
       "    </tr>\n",
       "    <tr>\n",
       "      <th>u0004</th>\n",
       "      <td>1.0</td>\n",
       "      <td>1.0</td>\n",
       "      <td>0.0</td>\n",
       "      <td>0.0</td>\n",
       "      <td>0.0</td>\n",
       "      <td>1.0</td>\n",
       "      <td>1.0</td>\n",
       "    </tr>\n",
       "    <tr>\n",
       "      <th>u0006</th>\n",
       "      <td>0.0</td>\n",
       "      <td>0.0</td>\n",
       "      <td>0.0</td>\n",
       "      <td>0.0</td>\n",
       "      <td>0.0</td>\n",
       "      <td>0.0</td>\n",
       "      <td>0.0</td>\n",
       "    </tr>\n",
       "  </tbody>\n",
       "</table>\n",
       "</div>"
      ],
      "text/plain": [
       "       monday  tuesday  wednesday  thursday  friday  saturday  sunday\n",
       "u0001     0.0     30.0        5.0       0.0     0.0       0.0     0.0\n",
       "u0002     0.0      0.0        0.0       0.0     0.0       0.0     0.0\n",
       "u0003     0.0      0.0        0.0       0.0    12.0       2.0     0.0\n",
       "u0004     1.0      1.0        0.0       0.0     0.0       1.0     1.0\n",
       "u0006     0.0      0.0        0.0       0.0     0.0       0.0     0.0"
      ]
     },
     "metadata": {},
     "output_type": "display_data"
    },
    {
     "data": {
      "text/html": [
       "<div>\n",
       "<table border=\"1\" class=\"dataframe\">\n",
       "  <thead>\n",
       "    <tr style=\"text-align: right;\">\n",
       "      <th></th>\n",
       "      <th>weekly_alcohol</th>\n",
       "      <th>weekday_weekend_alcohol</th>\n",
       "    </tr>\n",
       "  </thead>\n",
       "  <tbody>\n",
       "    <tr>\n",
       "      <th>u0001</th>\n",
       "      <td>35.0</td>\n",
       "      <td>0.000000</td>\n",
       "    </tr>\n",
       "    <tr>\n",
       "      <th>u0002</th>\n",
       "      <td>0.0</td>\n",
       "      <td>0.000000</td>\n",
       "    </tr>\n",
       "    <tr>\n",
       "      <th>u0003</th>\n",
       "      <td>14.0</td>\n",
       "      <td>0.000000</td>\n",
       "    </tr>\n",
       "    <tr>\n",
       "      <th>u0004</th>\n",
       "      <td>4.0</td>\n",
       "      <td>0.333333</td>\n",
       "    </tr>\n",
       "    <tr>\n",
       "      <th>u0006</th>\n",
       "      <td>0.0</td>\n",
       "      <td>0.000000</td>\n",
       "    </tr>\n",
       "  </tbody>\n",
       "</table>\n",
       "</div>"
      ],
      "text/plain": [
       "       weekly_alcohol  weekday_weekend_alcohol\n",
       "u0001            35.0                 0.000000\n",
       "u0002             0.0                 0.000000\n",
       "u0003            14.0                 0.000000\n",
       "u0004             4.0                 0.333333\n",
       "u0006             0.0                 0.000000"
      ]
     },
     "execution_count": 6,
     "metadata": {},
     "output_type": "execute_result"
    }
   ],
   "source": [
    "tmp = qdf.filter(regex='alcohol_volume.+_answer$') \n",
    "tmp.columns = tmp.columns.str.extract(r'([^_]+day)', expand=False)\n",
    "tmp = tmp[misc.sortWeekdays(tmp.columns)]\n",
    "display(tmp.head())\n",
    "weekend_days = [\"friday\", \"saturday\"]\n",
    "fs['weekday_weekend_alcohol'] = tmp[weekend_days].sum(axis=1) / tmp.drop(weekend_days, axis=1).sum(axis=1)\n",
    "fs['weekday_weekend_alcohol'] = fs.weekday_weekend_alcohol.replace({np.inf: 0, np.NaN: 0})\n",
    "fs.head() "
   ]
  },
  {
   "cell_type": "code",
   "execution_count": 7,
   "metadata": {},
   "outputs": [
    {
     "data": {
      "text/html": [
       "<h3><i>Question:</i>  Drukket dig fuld på en hverdagsaften/dag, hvor du skulle i skole eller på dit fuldtidsjob dagen efter</h3>"
      ],
      "text/plain": [
       "<IPython.core.display.HTML object>"
      ]
     },
     "metadata": {},
     "output_type": "display_data"
    },
    {
     "data": {
      "text/html": [
       "<i>Question str:</i>    <tt>alcohol_everyday</tt>"
      ],
      "text/plain": [
       "<IPython.core.display.HTML object>"
      ]
     },
     "metadata": {},
     "output_type": "display_data"
    },
    {
     "data": {
      "text/html": [
       "<i>Answer type:</i>    <tt>radio</tt>"
      ],
      "text/plain": [
       "<IPython.core.display.HTML object>"
      ]
     },
     "metadata": {},
     "output_type": "display_data"
    },
    {
     "data": {
      "text/html": [
       "<div>\n",
       "<table border=\"1\" class=\"dataframe\">\n",
       "  <thead>\n",
       "    <tr style=\"text-align: right;\">\n",
       "      <th></th>\n",
       "      <th>response_index</th>\n",
       "      <th>answer_index</th>\n",
       "      <th>count</th>\n",
       "    </tr>\n",
       "  </thead>\n",
       "  <tbody>\n",
       "    <tr>\n",
       "      <th>0</th>\n",
       "      <td>0 gange</td>\n",
       "      <td>0.0</td>\n",
       "      <td>755</td>\n",
       "    </tr>\n",
       "    <tr>\n",
       "      <th>1</th>\n",
       "      <td>1 gange</td>\n",
       "      <td>1.0</td>\n",
       "      <td>98</td>\n",
       "    </tr>\n",
       "    <tr>\n",
       "      <th>2</th>\n",
       "      <td>2 gange</td>\n",
       "      <td>2.0</td>\n",
       "      <td>24</td>\n",
       "    </tr>\n",
       "    <tr>\n",
       "      <th>3</th>\n",
       "      <td>3 gange</td>\n",
       "      <td>3.0</td>\n",
       "      <td>11</td>\n",
       "    </tr>\n",
       "    <tr>\n",
       "      <th>4</th>\n",
       "      <td>4-5 gange</td>\n",
       "      <td>4.0</td>\n",
       "      <td>2</td>\n",
       "    </tr>\n",
       "    <tr>\n",
       "      <th>5</th>\n",
       "      <td>6+ gange</td>\n",
       "      <td>5.0</td>\n",
       "      <td>6</td>\n",
       "    </tr>\n",
       "  </tbody>\n",
       "</table>\n",
       "</div>"
      ],
      "text/plain": [
       "  response_index  answer_index  count\n",
       "0        0 gange           0.0    755\n",
       "1        1 gange           1.0     98\n",
       "2        2 gange           2.0     24\n",
       "3        3 gange           3.0     11\n",
       "4      4-5 gange           4.0      2\n",
       "5       6+ gange           5.0      6"
      ]
     },
     "metadata": {},
     "output_type": "display_data"
    }
   ],
   "source": [
    "misc.questionSummary(qdf, q.alcohol_everyday)"
   ]
  },
  {
   "cell_type": "code",
   "execution_count": 8,
   "metadata": {
    "collapsed": true
   },
   "outputs": [],
   "source": [
    "tmp = qdf.alcohol_everyday__answer\n",
    "tmp = tmp.replace({4: 4.5, 5: 6})\n",
    "\n",
    "fs['before_workday_alcohol'] = tmp "
   ]
  },
  {
   "cell_type": "code",
   "execution_count": 9,
   "metadata": {},
   "outputs": [
    {
     "data": {
      "text/html": [
       "<h3><i>Question:</i>  Hvor mange gange er du blevet fuld af at drikke alkohol i løbet af  <u>de sidste 30 dage</u>?</h3>"
      ],
      "text/plain": [
       "<IPython.core.display.HTML object>"
      ]
     },
     "metadata": {},
     "output_type": "display_data"
    },
    {
     "data": {
      "text/html": [
       "<i>Question str:</i>    <tt>alcohol_drunk</tt>"
      ],
      "text/plain": [
       "<IPython.core.display.HTML object>"
      ]
     },
     "metadata": {},
     "output_type": "display_data"
    },
    {
     "data": {
      "text/html": [
       "<i>Answer type:</i>    <tt>radio</tt>"
      ],
      "text/plain": [
       "<IPython.core.display.HTML object>"
      ]
     },
     "metadata": {},
     "output_type": "display_data"
    },
    {
     "data": {
      "text/html": [
       "<div>\n",
       "<table border=\"1\" class=\"dataframe\">\n",
       "  <thead>\n",
       "    <tr style=\"text-align: right;\">\n",
       "      <th></th>\n",
       "      <th>response_index</th>\n",
       "      <th>answer_index</th>\n",
       "      <th>count</th>\n",
       "    </tr>\n",
       "  </thead>\n",
       "  <tbody>\n",
       "    <tr>\n",
       "      <th>0</th>\n",
       "      <td>0 gange</td>\n",
       "      <td>0.0</td>\n",
       "      <td>135</td>\n",
       "    </tr>\n",
       "    <tr>\n",
       "      <th>1</th>\n",
       "      <td>1 gange</td>\n",
       "      <td>1.0</td>\n",
       "      <td>124</td>\n",
       "    </tr>\n",
       "    <tr>\n",
       "      <th>2</th>\n",
       "      <td>2 gange</td>\n",
       "      <td>2.0</td>\n",
       "      <td>152</td>\n",
       "    </tr>\n",
       "    <tr>\n",
       "      <th>3</th>\n",
       "      <td>3 gange</td>\n",
       "      <td>3.0</td>\n",
       "      <td>119</td>\n",
       "    </tr>\n",
       "    <tr>\n",
       "      <th>4</th>\n",
       "      <td>4-5 gange</td>\n",
       "      <td>4.0</td>\n",
       "      <td>185</td>\n",
       "    </tr>\n",
       "    <tr>\n",
       "      <th>5</th>\n",
       "      <td>6-9 gange</td>\n",
       "      <td>5.0</td>\n",
       "      <td>133</td>\n",
       "    </tr>\n",
       "    <tr>\n",
       "      <th>6</th>\n",
       "      <td>10+ gange</td>\n",
       "      <td>6.0</td>\n",
       "      <td>48</td>\n",
       "    </tr>\n",
       "  </tbody>\n",
       "</table>\n",
       "</div>"
      ],
      "text/plain": [
       "  response_index  answer_index  count\n",
       "0        0 gange           0.0    135\n",
       "1        1 gange           1.0    124\n",
       "2        2 gange           2.0    152\n",
       "3        3 gange           3.0    119\n",
       "4      4-5 gange           4.0    185\n",
       "5      6-9 gange           5.0    133\n",
       "6      10+ gange           6.0     48"
      ]
     },
     "metadata": {},
     "output_type": "display_data"
    }
   ],
   "source": [
    "misc.questionSummary(qdf, q.alcohol_drunk)"
   ]
  },
  {
   "cell_type": "markdown",
   "metadata": {},
   "source": [
    "Replace codes with numbers which reflect numerical estimates"
   ]
  },
  {
   "cell_type": "code",
   "execution_count": 10,
   "metadata": {
    "collapsed": true
   },
   "outputs": [],
   "source": [
    "fs['times_drunk_last_30_days_alcohol'] = qdf.alcohol_drunk__answer.replace({4: 4.5, 5: 7.5, 6: 10})"
   ]
  },
  {
   "cell_type": "code",
   "execution_count": 11,
   "metadata": {},
   "outputs": [
    {
     "data": {
      "text/html": [
       "<h3><i>Question:</i>  I forbindelse med møde af nye studiekammerater, betyder det noget for et evt. venskab og samarbejde, at personen er fagligt kompetent, dvs. at han/hun er dygtig og/eller er hårdtarbejdende?<br> Mine studiekammeraters faglighed er:</h3>"
      ],
      "text/plain": [
       "<IPython.core.display.HTML object>"
      ]
     },
     "metadata": {},
     "output_type": "display_data"
    },
    {
     "data": {
      "text/html": [
       "<i>Question str:</i>    <tt>homophily_competent</tt>"
      ],
      "text/plain": [
       "<IPython.core.display.HTML object>"
      ]
     },
     "metadata": {},
     "output_type": "display_data"
    },
    {
     "data": {
      "text/html": [
       "<i>Answer type:</i>    <tt>radio</tt>"
      ],
      "text/plain": [
       "<IPython.core.display.HTML object>"
      ]
     },
     "metadata": {},
     "output_type": "display_data"
    },
    {
     "data": {
      "text/html": [
       "<div>\n",
       "<table border=\"1\" class=\"dataframe\">\n",
       "  <thead>\n",
       "    <tr style=\"text-align: right;\">\n",
       "      <th></th>\n",
       "      <th>response_index</th>\n",
       "      <th>answer_index</th>\n",
       "      <th>count</th>\n",
       "    </tr>\n",
       "  </thead>\n",
       "  <tbody>\n",
       "    <tr>\n",
       "      <th>0</th>\n",
       "      <td>meget vigtig for mig</td>\n",
       "      <td>0.0</td>\n",
       "      <td>66</td>\n",
       "    </tr>\n",
       "    <tr>\n",
       "      <th>1</th>\n",
       "      <td>vigtig for mig</td>\n",
       "      <td>1.0</td>\n",
       "      <td>487</td>\n",
       "    </tr>\n",
       "    <tr>\n",
       "      <th>2</th>\n",
       "      <td>ikke så vigtig for mig</td>\n",
       "      <td>2.0</td>\n",
       "      <td>298</td>\n",
       "    </tr>\n",
       "    <tr>\n",
       "      <th>3</th>\n",
       "      <td>er ligegyldig</td>\n",
       "      <td>3.0</td>\n",
       "      <td>48</td>\n",
       "    </tr>\n",
       "    <tr>\n",
       "      <th>4</th>\n",
       "      <td>ved ikke</td>\n",
       "      <td>4.0</td>\n",
       "      <td>9</td>\n",
       "    </tr>\n",
       "  </tbody>\n",
       "</table>\n",
       "</div>"
      ],
      "text/plain": [
       "           response_index  answer_index  count\n",
       "0    meget vigtig for mig           0.0     66\n",
       "1          vigtig for mig           1.0    487\n",
       "2  ikke så vigtig for mig           2.0    298\n",
       "3           er ligegyldig           3.0     48\n",
       "4                ved ikke           4.0      9"
      ]
     },
     "metadata": {},
     "output_type": "display_data"
    }
   ],
   "source": [
    "misc.questionSummary(qdf, q.homophily_competent) "
   ]
  },
  {
   "cell_type": "markdown",
   "metadata": {},
   "source": [
    "Combine \"ved ikke\" and \"er ligegyldigt\"."
   ]
  },
  {
   "cell_type": "code",
   "execution_count": 12,
   "metadata": {},
   "outputs": [
    {
     "data": {
      "text/html": [
       "<div>\n",
       "<table border=\"1\" class=\"dataframe\">\n",
       "  <thead>\n",
       "    <tr style=\"text-align: right;\">\n",
       "      <th></th>\n",
       "      <th>weekly_alcohol</th>\n",
       "      <th>weekday_weekend_alcohol</th>\n",
       "      <th>before_workday_alcohol</th>\n",
       "      <th>times_drunk_last_30_days_alcohol</th>\n",
       "      <th>academic_skills_importance_homophily</th>\n",
       "    </tr>\n",
       "  </thead>\n",
       "  <tbody>\n",
       "    <tr>\n",
       "      <th>u0001</th>\n",
       "      <td>35.0</td>\n",
       "      <td>0.000000</td>\n",
       "      <td>0.0</td>\n",
       "      <td>3.0</td>\n",
       "      <td>1.0</td>\n",
       "    </tr>\n",
       "    <tr>\n",
       "      <th>u0002</th>\n",
       "      <td>0.0</td>\n",
       "      <td>0.000000</td>\n",
       "      <td>0.0</td>\n",
       "      <td>1.0</td>\n",
       "      <td>1.0</td>\n",
       "    </tr>\n",
       "    <tr>\n",
       "      <th>u0003</th>\n",
       "      <td>14.0</td>\n",
       "      <td>0.000000</td>\n",
       "      <td>0.0</td>\n",
       "      <td>2.0</td>\n",
       "      <td>2.0</td>\n",
       "    </tr>\n",
       "    <tr>\n",
       "      <th>u0004</th>\n",
       "      <td>4.0</td>\n",
       "      <td>0.333333</td>\n",
       "      <td>0.0</td>\n",
       "      <td>1.0</td>\n",
       "      <td>0.0</td>\n",
       "    </tr>\n",
       "    <tr>\n",
       "      <th>u0006</th>\n",
       "      <td>0.0</td>\n",
       "      <td>0.000000</td>\n",
       "      <td>0.0</td>\n",
       "      <td>1.0</td>\n",
       "      <td>1.0</td>\n",
       "    </tr>\n",
       "  </tbody>\n",
       "</table>\n",
       "</div>"
      ],
      "text/plain": [
       "       weekly_alcohol  weekday_weekend_alcohol  before_workday_alcohol  \\\n",
       "u0001            35.0                 0.000000                     0.0   \n",
       "u0002             0.0                 0.000000                     0.0   \n",
       "u0003            14.0                 0.000000                     0.0   \n",
       "u0004             4.0                 0.333333                     0.0   \n",
       "u0006             0.0                 0.000000                     0.0   \n",
       "\n",
       "       times_drunk_last_30_days_alcohol  academic_skills_importance_homophily  \n",
       "u0001                               3.0                                   1.0  \n",
       "u0002                               1.0                                   1.0  \n",
       "u0003                               2.0                                   2.0  \n",
       "u0004                               1.0                                   0.0  \n",
       "u0006                               1.0                                   1.0  "
      ]
     },
     "execution_count": 12,
     "metadata": {},
     "output_type": "execute_result"
    }
   ],
   "source": [
    "tmp = qdf.homophily_competent__answer \n",
    "tmp = tmp.replace(4, 3)\n",
    "fs['academic_skills_importance_homophily'] = tmp\n",
    "fs.head() "
   ]
  },
  {
   "cell_type": "code",
   "execution_count": 13,
   "metadata": {},
   "outputs": [
    {
     "data": {
      "text/html": [
       "<h3><i>Question:</i>  Drukket mere end 5 genstande på en dag/aften</h3>"
      ],
      "text/plain": [
       "<IPython.core.display.HTML object>"
      ]
     },
     "metadata": {},
     "output_type": "display_data"
    },
    {
     "data": {
      "text/html": [
       "<i>Question str:</i>    <tt>alcohol_binge5</tt>"
      ],
      "text/plain": [
       "<IPython.core.display.HTML object>"
      ]
     },
     "metadata": {},
     "output_type": "display_data"
    },
    {
     "data": {
      "text/html": [
       "<i>Answer type:</i>    <tt>radio</tt>"
      ],
      "text/plain": [
       "<IPython.core.display.HTML object>"
      ]
     },
     "metadata": {},
     "output_type": "display_data"
    },
    {
     "data": {
      "text/html": [
       "<div>\n",
       "<table border=\"1\" class=\"dataframe\">\n",
       "  <thead>\n",
       "    <tr style=\"text-align: right;\">\n",
       "      <th></th>\n",
       "      <th>response_index</th>\n",
       "      <th>answer_index</th>\n",
       "      <th>count</th>\n",
       "    </tr>\n",
       "  </thead>\n",
       "  <tbody>\n",
       "    <tr>\n",
       "      <th>0</th>\n",
       "      <td>0 gange</td>\n",
       "      <td>0.0</td>\n",
       "      <td>182</td>\n",
       "    </tr>\n",
       "    <tr>\n",
       "      <th>1</th>\n",
       "      <td>1 gange</td>\n",
       "      <td>1.0</td>\n",
       "      <td>187</td>\n",
       "    </tr>\n",
       "    <tr>\n",
       "      <th>2</th>\n",
       "      <td>2 gange</td>\n",
       "      <td>2.0</td>\n",
       "      <td>164</td>\n",
       "    </tr>\n",
       "    <tr>\n",
       "      <th>3</th>\n",
       "      <td>3 gange</td>\n",
       "      <td>3.0</td>\n",
       "      <td>151</td>\n",
       "    </tr>\n",
       "    <tr>\n",
       "      <th>4</th>\n",
       "      <td>4-5 gange</td>\n",
       "      <td>4.0</td>\n",
       "      <td>118</td>\n",
       "    </tr>\n",
       "    <tr>\n",
       "      <th>5</th>\n",
       "      <td>6+ gange</td>\n",
       "      <td>5.0</td>\n",
       "      <td>94</td>\n",
       "    </tr>\n",
       "  </tbody>\n",
       "</table>\n",
       "</div>"
      ],
      "text/plain": [
       "  response_index  answer_index  count\n",
       "0        0 gange           0.0    182\n",
       "1        1 gange           1.0    187\n",
       "2        2 gange           2.0    164\n",
       "3        3 gange           3.0    151\n",
       "4      4-5 gange           4.0    118\n",
       "5       6+ gange           5.0     94"
      ]
     },
     "metadata": {},
     "output_type": "display_data"
    }
   ],
   "source": [
    "misc.questionSummary(qdf, 'alcohol_binge5')"
   ]
  },
  {
   "cell_type": "code",
   "execution_count": 14,
   "metadata": {},
   "outputs": [],
   "source": [
    "fs['binge_5_alcohol'] = qdf.alcohol_binge5__answer\n",
    "fs['binge_10_alcohol'] = qdf.alcohol_binge10__answer"
   ]
  },
  {
   "cell_type": "code",
   "execution_count": 15,
   "metadata": {},
   "outputs": [],
   "source": [
    "fs['times_very_drunk_alcohol'] = qdf.alcohol_very_drunk__answer.replace({4:4.5, 5:6})"
   ]
  },
  {
   "cell_type": "code",
   "execution_count": 16,
   "metadata": {},
   "outputs": [
    {
     "data": {
      "text/html": [
       "<h3><i>Question:</i>  Drukket alkohol i weekenden</h3>"
      ],
      "text/plain": [
       "<IPython.core.display.HTML object>"
      ]
     },
     "metadata": {},
     "output_type": "display_data"
    },
    {
     "data": {
      "text/html": [
       "<i>Question str:</i>    <tt>alcohol_weekend</tt>"
      ],
      "text/plain": [
       "<IPython.core.display.HTML object>"
      ]
     },
     "metadata": {},
     "output_type": "display_data"
    },
    {
     "data": {
      "text/html": [
       "<i>Answer type:</i>    <tt>radio</tt>"
      ],
      "text/plain": [
       "<IPython.core.display.HTML object>"
      ]
     },
     "metadata": {},
     "output_type": "display_data"
    },
    {
     "data": {
      "text/html": [
       "<div>\n",
       "<table border=\"1\" class=\"dataframe\">\n",
       "  <thead>\n",
       "    <tr style=\"text-align: right;\">\n",
       "      <th></th>\n",
       "      <th>response_index</th>\n",
       "      <th>answer_index</th>\n",
       "      <th>count</th>\n",
       "    </tr>\n",
       "  </thead>\n",
       "  <tbody>\n",
       "    <tr>\n",
       "      <th>0</th>\n",
       "      <td>0 gange</td>\n",
       "      <td>0.0</td>\n",
       "      <td>112</td>\n",
       "    </tr>\n",
       "    <tr>\n",
       "      <th>1</th>\n",
       "      <td>1 gange</td>\n",
       "      <td>1.0</td>\n",
       "      <td>158</td>\n",
       "    </tr>\n",
       "    <tr>\n",
       "      <th>2</th>\n",
       "      <td>2 gange</td>\n",
       "      <td>2.0</td>\n",
       "      <td>197</td>\n",
       "    </tr>\n",
       "    <tr>\n",
       "      <th>3</th>\n",
       "      <td>3 gange</td>\n",
       "      <td>3.0</td>\n",
       "      <td>171</td>\n",
       "    </tr>\n",
       "    <tr>\n",
       "      <th>4</th>\n",
       "      <td>4-5 gange</td>\n",
       "      <td>4.0</td>\n",
       "      <td>182</td>\n",
       "    </tr>\n",
       "    <tr>\n",
       "      <th>5</th>\n",
       "      <td>6+ gange</td>\n",
       "      <td>5.0</td>\n",
       "      <td>76</td>\n",
       "    </tr>\n",
       "  </tbody>\n",
       "</table>\n",
       "</div>"
      ],
      "text/plain": [
       "  response_index  answer_index  count\n",
       "0        0 gange           0.0    112\n",
       "1        1 gange           1.0    158\n",
       "2        2 gange           2.0    197\n",
       "3        3 gange           3.0    171\n",
       "4      4-5 gange           4.0    182\n",
       "5       6+ gange           5.0     76"
      ]
     },
     "metadata": {},
     "output_type": "display_data"
    }
   ],
   "source": [
    "misc.questionSummary(qdf, q.alcohol_weekend)"
   ]
  },
  {
   "cell_type": "code",
   "execution_count": 17,
   "metadata": {},
   "outputs": [],
   "source": [
    "fs['alcohol_weekend_alcohol'] = qdf.alcohol_weekend__answer.replace({4: 4.5, 5: 6}) "
   ]
  },
  {
   "cell_type": "code",
   "execution_count": 18,
   "metadata": {
    "collapsed": true
   },
   "outputs": [],
   "source": [
    "fs['gender'] = qdf.gender.replace({'male': 0, 'female': 1})"
   ]
  },
  {
   "cell_type": "code",
   "execution_count": 19,
   "metadata": {},
   "outputs": [
    {
     "data": {
      "text/html": [
       "<div>\n",
       "<table border=\"1\" class=\"dataframe\">\n",
       "  <thead>\n",
       "    <tr style=\"text-align: right;\">\n",
       "      <th></th>\n",
       "      <th>weekly_alcohol</th>\n",
       "      <th>weekday_weekend_alcohol</th>\n",
       "      <th>before_workday_alcohol</th>\n",
       "      <th>times_drunk_last_30_days_alcohol</th>\n",
       "      <th>academic_skills_importance_homophily</th>\n",
       "      <th>binge_5_alcohol</th>\n",
       "      <th>binge_10_alcohol</th>\n",
       "      <th>times_very_drunk_alcohol</th>\n",
       "      <th>alcohol_weekend_alcohol</th>\n",
       "      <th>gender</th>\n",
       "    </tr>\n",
       "  </thead>\n",
       "  <tbody>\n",
       "    <tr>\n",
       "      <th>u0001</th>\n",
       "      <td>35.0</td>\n",
       "      <td>0.000000</td>\n",
       "      <td>0.0</td>\n",
       "      <td>3.0</td>\n",
       "      <td>1.0</td>\n",
       "      <td>2.0</td>\n",
       "      <td>1.0</td>\n",
       "      <td>1.0</td>\n",
       "      <td>3.0</td>\n",
       "      <td>0</td>\n",
       "    </tr>\n",
       "    <tr>\n",
       "      <th>u0002</th>\n",
       "      <td>0.0</td>\n",
       "      <td>0.000000</td>\n",
       "      <td>0.0</td>\n",
       "      <td>1.0</td>\n",
       "      <td>1.0</td>\n",
       "      <td>0.0</td>\n",
       "      <td>1.0</td>\n",
       "      <td>0.0</td>\n",
       "      <td>1.0</td>\n",
       "      <td>0</td>\n",
       "    </tr>\n",
       "    <tr>\n",
       "      <th>u0003</th>\n",
       "      <td>14.0</td>\n",
       "      <td>0.000000</td>\n",
       "      <td>0.0</td>\n",
       "      <td>2.0</td>\n",
       "      <td>2.0</td>\n",
       "      <td>2.0</td>\n",
       "      <td>2.0</td>\n",
       "      <td>2.0</td>\n",
       "      <td>3.0</td>\n",
       "      <td>0</td>\n",
       "    </tr>\n",
       "    <tr>\n",
       "      <th>u0004</th>\n",
       "      <td>4.0</td>\n",
       "      <td>0.333333</td>\n",
       "      <td>0.0</td>\n",
       "      <td>1.0</td>\n",
       "      <td>0.0</td>\n",
       "      <td>1.0</td>\n",
       "      <td>1.0</td>\n",
       "      <td>1.0</td>\n",
       "      <td>1.0</td>\n",
       "      <td>0</td>\n",
       "    </tr>\n",
       "    <tr>\n",
       "      <th>u0006</th>\n",
       "      <td>0.0</td>\n",
       "      <td>0.000000</td>\n",
       "      <td>0.0</td>\n",
       "      <td>1.0</td>\n",
       "      <td>1.0</td>\n",
       "      <td>1.0</td>\n",
       "      <td>0.0</td>\n",
       "      <td>0.0</td>\n",
       "      <td>1.0</td>\n",
       "      <td>1</td>\n",
       "    </tr>\n",
       "    <tr>\n",
       "      <th>u0007</th>\n",
       "      <td>13.0</td>\n",
       "      <td>0.000000</td>\n",
       "      <td>0.0</td>\n",
       "      <td>3.0</td>\n",
       "      <td>1.0</td>\n",
       "      <td>3.0</td>\n",
       "      <td>2.0</td>\n",
       "      <td>2.0</td>\n",
       "      <td>3.0</td>\n",
       "      <td>0</td>\n",
       "    </tr>\n",
       "    <tr>\n",
       "      <th>u0008</th>\n",
       "      <td>37.0</td>\n",
       "      <td>0.156250</td>\n",
       "      <td>0.0</td>\n",
       "      <td>7.5</td>\n",
       "      <td>1.0</td>\n",
       "      <td>4.0</td>\n",
       "      <td>2.0</td>\n",
       "      <td>2.0</td>\n",
       "      <td>3.0</td>\n",
       "      <td>1</td>\n",
       "    </tr>\n",
       "    <tr>\n",
       "      <th>u0009</th>\n",
       "      <td>2.0</td>\n",
       "      <td>1.000000</td>\n",
       "      <td>0.0</td>\n",
       "      <td>2.0</td>\n",
       "      <td>2.0</td>\n",
       "      <td>1.0</td>\n",
       "      <td>1.0</td>\n",
       "      <td>1.0</td>\n",
       "      <td>1.0</td>\n",
       "      <td>0</td>\n",
       "    </tr>\n",
       "    <tr>\n",
       "      <th>u0010</th>\n",
       "      <td>0.0</td>\n",
       "      <td>0.000000</td>\n",
       "      <td>0.0</td>\n",
       "      <td>4.5</td>\n",
       "      <td>1.0</td>\n",
       "      <td>4.0</td>\n",
       "      <td>3.0</td>\n",
       "      <td>2.0</td>\n",
       "      <td>1.0</td>\n",
       "      <td>0</td>\n",
       "    </tr>\n",
       "    <tr>\n",
       "      <th>u0011</th>\n",
       "      <td>32.0</td>\n",
       "      <td>15.000000</td>\n",
       "      <td>0.0</td>\n",
       "      <td>7.5</td>\n",
       "      <td>1.0</td>\n",
       "      <td>5.0</td>\n",
       "      <td>5.0</td>\n",
       "      <td>6.0</td>\n",
       "      <td>6.0</td>\n",
       "      <td>0</td>\n",
       "    </tr>\n",
       "    <tr>\n",
       "      <th>u0012</th>\n",
       "      <td>21.0</td>\n",
       "      <td>0.750000</td>\n",
       "      <td>1.0</td>\n",
       "      <td>7.5</td>\n",
       "      <td>1.0</td>\n",
       "      <td>3.0</td>\n",
       "      <td>1.0</td>\n",
       "      <td>1.0</td>\n",
       "      <td>3.0</td>\n",
       "      <td>0</td>\n",
       "    </tr>\n",
       "    <tr>\n",
       "      <th>u0013</th>\n",
       "      <td>31.0</td>\n",
       "      <td>0.000000</td>\n",
       "      <td>0.0</td>\n",
       "      <td>7.5</td>\n",
       "      <td>1.0</td>\n",
       "      <td>3.0</td>\n",
       "      <td>2.0</td>\n",
       "      <td>2.0</td>\n",
       "      <td>2.0</td>\n",
       "      <td>0</td>\n",
       "    </tr>\n",
       "  </tbody>\n",
       "</table>\n",
       "</div>"
      ],
      "text/plain": [
       "       weekly_alcohol  weekday_weekend_alcohol  before_workday_alcohol  \\\n",
       "u0001            35.0                 0.000000                     0.0   \n",
       "u0002             0.0                 0.000000                     0.0   \n",
       "u0003            14.0                 0.000000                     0.0   \n",
       "u0004             4.0                 0.333333                     0.0   \n",
       "u0006             0.0                 0.000000                     0.0   \n",
       "u0007            13.0                 0.000000                     0.0   \n",
       "u0008            37.0                 0.156250                     0.0   \n",
       "u0009             2.0                 1.000000                     0.0   \n",
       "u0010             0.0                 0.000000                     0.0   \n",
       "u0011            32.0                15.000000                     0.0   \n",
       "u0012            21.0                 0.750000                     1.0   \n",
       "u0013            31.0                 0.000000                     0.0   \n",
       "\n",
       "       times_drunk_last_30_days_alcohol  academic_skills_importance_homophily  \\\n",
       "u0001                               3.0                                   1.0   \n",
       "u0002                               1.0                                   1.0   \n",
       "u0003                               2.0                                   2.0   \n",
       "u0004                               1.0                                   0.0   \n",
       "u0006                               1.0                                   1.0   \n",
       "u0007                               3.0                                   1.0   \n",
       "u0008                               7.5                                   1.0   \n",
       "u0009                               2.0                                   2.0   \n",
       "u0010                               4.5                                   1.0   \n",
       "u0011                               7.5                                   1.0   \n",
       "u0012                               7.5                                   1.0   \n",
       "u0013                               7.5                                   1.0   \n",
       "\n",
       "       binge_5_alcohol  binge_10_alcohol  times_very_drunk_alcohol  \\\n",
       "u0001              2.0               1.0                       1.0   \n",
       "u0002              0.0               1.0                       0.0   \n",
       "u0003              2.0               2.0                       2.0   \n",
       "u0004              1.0               1.0                       1.0   \n",
       "u0006              1.0               0.0                       0.0   \n",
       "u0007              3.0               2.0                       2.0   \n",
       "u0008              4.0               2.0                       2.0   \n",
       "u0009              1.0               1.0                       1.0   \n",
       "u0010              4.0               3.0                       2.0   \n",
       "u0011              5.0               5.0                       6.0   \n",
       "u0012              3.0               1.0                       1.0   \n",
       "u0013              3.0               2.0                       2.0   \n",
       "\n",
       "       alcohol_weekend_alcohol  gender  \n",
       "u0001                      3.0       0  \n",
       "u0002                      1.0       0  \n",
       "u0003                      3.0       0  \n",
       "u0004                      1.0       0  \n",
       "u0006                      1.0       1  \n",
       "u0007                      3.0       0  \n",
       "u0008                      3.0       1  \n",
       "u0009                      1.0       0  \n",
       "u0010                      1.0       0  \n",
       "u0011                      6.0       0  \n",
       "u0012                      3.0       0  \n",
       "u0013                      2.0       0  "
      ]
     },
     "execution_count": 19,
     "metadata": {},
     "output_type": "execute_result"
    }
   ],
   "source": [
    "fs.head(12)"
   ]
  },
  {
   "cell_type": "code",
   "execution_count": 20,
   "metadata": {},
   "outputs": [
    {
     "data": {
      "text/html": [
       "<h3><i>Question:</i>  At ryge cigaretter dagligt?</h3>"
      ],
      "text/plain": [
       "<IPython.core.display.HTML object>"
      ]
     },
     "metadata": {},
     "output_type": "display_data"
    },
    {
     "data": {
      "text/html": [
       "<i>Question str:</i>    <tt>smoke_daily</tt>"
      ],
      "text/plain": [
       "<IPython.core.display.HTML object>"
      ]
     },
     "metadata": {},
     "output_type": "display_data"
    },
    {
     "data": {
      "text/html": [
       "<i>Answer type:</i>    <tt>radio</tt>"
      ],
      "text/plain": [
       "<IPython.core.display.HTML object>"
      ]
     },
     "metadata": {},
     "output_type": "display_data"
    },
    {
     "data": {
      "text/html": [
       "<div>\n",
       "<table border=\"1\" class=\"dataframe\">\n",
       "  <thead>\n",
       "    <tr style=\"text-align: right;\">\n",
       "      <th></th>\n",
       "      <th>response_index</th>\n",
       "      <th>answer_index</th>\n",
       "      <th>count</th>\n",
       "    </tr>\n",
       "  </thead>\n",
       "  <tbody>\n",
       "    <tr>\n",
       "      <th>0</th>\n",
       "      <td>12 år</td>\n",
       "      <td>3.0</td>\n",
       "      <td>2</td>\n",
       "    </tr>\n",
       "    <tr>\n",
       "      <th>1</th>\n",
       "      <td>13 år</td>\n",
       "      <td>4.0</td>\n",
       "      <td>3</td>\n",
       "    </tr>\n",
       "    <tr>\n",
       "      <th>2</th>\n",
       "      <td>14 år</td>\n",
       "      <td>5.0</td>\n",
       "      <td>5</td>\n",
       "    </tr>\n",
       "    <tr>\n",
       "      <th>3</th>\n",
       "      <td>15 år</td>\n",
       "      <td>6.0</td>\n",
       "      <td>9</td>\n",
       "    </tr>\n",
       "    <tr>\n",
       "      <th>4</th>\n",
       "      <td>16 eller mere</td>\n",
       "      <td>7.0</td>\n",
       "      <td>44</td>\n",
       "    </tr>\n",
       "  </tbody>\n",
       "</table>\n",
       "</div>"
      ],
      "text/plain": [
       "  response_index  answer_index  count\n",
       "0          12 år           3.0      2\n",
       "1          13 år           4.0      3\n",
       "2          14 år           5.0      5\n",
       "3          15 år           6.0      9\n",
       "4  16 eller mere           7.0     44"
      ]
     },
     "metadata": {},
     "output_type": "display_data"
    }
   ],
   "source": [
    "misc.questionSummary(qdf, q.smoke_daily)"
   ]
  },
  {
   "cell_type": "code",
   "execution_count": 21,
   "metadata": {},
   "outputs": [
    {
     "data": {
      "text/html": [
       "<h3><i>Question:</i>  At ryge din første cigaret?</h3>"
      ],
      "text/plain": [
       "<IPython.core.display.HTML object>"
      ]
     },
     "metadata": {},
     "output_type": "display_data"
    },
    {
     "data": {
      "text/html": [
       "<i>Question str:</i>    <tt>smoke_first_cigarette</tt>"
      ],
      "text/plain": [
       "<IPython.core.display.HTML object>"
      ]
     },
     "metadata": {},
     "output_type": "display_data"
    },
    {
     "data": {
      "text/html": [
       "<i>Answer type:</i>    <tt>radio</tt>"
      ],
      "text/plain": [
       "<IPython.core.display.HTML object>"
      ]
     },
     "metadata": {},
     "output_type": "display_data"
    },
    {
     "data": {
      "text/html": [
       "<div>\n",
       "<table border=\"1\" class=\"dataframe\">\n",
       "  <thead>\n",
       "    <tr style=\"text-align: right;\">\n",
       "      <th></th>\n",
       "      <th>response_index</th>\n",
       "      <th>answer_index</th>\n",
       "      <th>count</th>\n",
       "    </tr>\n",
       "  </thead>\n",
       "  <tbody>\n",
       "    <tr>\n",
       "      <th>0</th>\n",
       "      <td>9 år eller yngre</td>\n",
       "      <td>0.0</td>\n",
       "      <td>6</td>\n",
       "    </tr>\n",
       "    <tr>\n",
       "      <th>1</th>\n",
       "      <td>10 år</td>\n",
       "      <td>1.0</td>\n",
       "      <td>4</td>\n",
       "    </tr>\n",
       "    <tr>\n",
       "      <th>2</th>\n",
       "      <td>11 år</td>\n",
       "      <td>2.0</td>\n",
       "      <td>4</td>\n",
       "    </tr>\n",
       "    <tr>\n",
       "      <th>3</th>\n",
       "      <td>12 år</td>\n",
       "      <td>3.0</td>\n",
       "      <td>13</td>\n",
       "    </tr>\n",
       "    <tr>\n",
       "      <th>4</th>\n",
       "      <td>13 år</td>\n",
       "      <td>4.0</td>\n",
       "      <td>27</td>\n",
       "    </tr>\n",
       "    <tr>\n",
       "      <th>5</th>\n",
       "      <td>14 år</td>\n",
       "      <td>5.0</td>\n",
       "      <td>65</td>\n",
       "    </tr>\n",
       "    <tr>\n",
       "      <th>6</th>\n",
       "      <td>15 år</td>\n",
       "      <td>6.0</td>\n",
       "      <td>60</td>\n",
       "    </tr>\n",
       "    <tr>\n",
       "      <th>7</th>\n",
       "      <td>16 eller mere</td>\n",
       "      <td>7.0</td>\n",
       "      <td>104</td>\n",
       "    </tr>\n",
       "  </tbody>\n",
       "</table>\n",
       "</div>"
      ],
      "text/plain": [
       "     response_index  answer_index  count\n",
       "0  9 år eller yngre           0.0      6\n",
       "1             10 år           1.0      4\n",
       "2             11 år           2.0      4\n",
       "3             12 år           3.0     13\n",
       "4             13 år           4.0     27\n",
       "5             14 år           5.0     65\n",
       "6             15 år           6.0     60\n",
       "7     16 eller mere           7.0    104"
      ]
     },
     "metadata": {},
     "output_type": "display_data"
    }
   ],
   "source": [
    "misc.questionSummary(qdf, q.smoke_first_cigarette)"
   ]
  },
  {
   "cell_type": "code",
   "execution_count": 22,
   "metadata": {},
   "outputs": [
    {
     "data": {
      "text/plain": [
       "'smoke_freq'"
      ]
     },
     "execution_count": 22,
     "metadata": {},
     "output_type": "execute_result"
    }
   ],
   "source": [
    "q.smoke_freq"
   ]
  }
 ],
 "metadata": {
  "kernelspec": {
   "display_name": "Python 3",
   "language": "python",
   "name": "python3"
  },
  "language_info": {
   "codemirror_mode": {
    "name": "ipython",
    "version": 3
   },
   "file_extension": ".py",
   "mimetype": "text/x-python",
   "name": "python",
   "nbconvert_exporter": "python",
   "pygments_lexer": "ipython3",
   "version": "3.6.4"
  }
 },
 "nbformat": 4,
 "nbformat_minor": 2
}
