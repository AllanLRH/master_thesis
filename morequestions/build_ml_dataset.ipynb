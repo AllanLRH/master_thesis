{
 "cells": [
  {
   "cell_type": "code",
   "execution_count": 115,
   "metadata": {},
   "outputs": [],
   "source": [
    "import sys \n",
    "import os\n",
    "sys.path.append(os.path.abspath(\"..\"))\n",
    "\n",
    "import numpy as np\n",
    "import pandas as pd\n",
    "import matplotlib as mpl\n",
    "import matplotlib.pyplot as plt\n",
    "import seaborn as sns\n",
    "import re\n",
    "import itertools\n",
    "import pickle\n",
    "sns.set(context='paper', style='whitegrid', color_codes=True, font_scale=1.8)\n",
    "colorcycle = [(0.498, 0.788, 0.498),\n",
    "              (0.745, 0.682, 0.831),\n",
    "              (0.992, 0.753, 0.525),\n",
    "              (0.220, 0.424, 0.690),\n",
    "              (0.749, 0.357, 0.090),\n",
    "              (1.000, 1.000, 0.600),\n",
    "              (0.941, 0.008, 0.498),\n",
    "              (0.400, 0.400, 0.400)]\n",
    "sns.set_palette(colorcycle)\n",
    "mpl.rcParams['figure.max_open_warning'] = 65\n",
    "mpl.rcParams['figure.figsize'] = [12, 7]\n",
    "mpl.rcParams['text.usetex'] = True\n",
    "\n",
    "from speclib import misc, plotting, loaders\n",
    "\n",
    "%matplotlib inline "
   ]
  },
  {
   "cell_type": "code",
   "execution_count": 2,
   "metadata": {},
   "outputs": [
    {
     "data": {
      "text/html": [
       "<div>\n",
       "<style scoped>\n",
       "    .dataframe tbody tr th:only-of-type {\n",
       "        vertical-align: middle;\n",
       "    }\n",
       "\n",
       "    .dataframe tbody tr th {\n",
       "        vertical-align: top;\n",
       "    }\n",
       "\n",
       "    .dataframe thead th {\n",
       "        text-align: right;\n",
       "    }\n",
       "</style>\n",
       "<table border=\"1\" class=\"dataframe\">\n",
       "  <thead>\n",
       "    <tr style=\"text-align: right;\">\n",
       "      <th></th>\n",
       "      <th>function_duties__answer</th>\n",
       "      <th>function_duties__answer_type</th>\n",
       "      <th>function_duties__question</th>\n",
       "      <th>function_duties__response</th>\n",
       "      <th>function_duties__condition</th>\n",
       "      <th>narcissism_opponents__answer</th>\n",
       "      <th>narcissism_opponents__answer_type</th>\n",
       "      <th>narcissism_opponents__question</th>\n",
       "      <th>narcissism_opponents__response</th>\n",
       "      <th>narcissism_opponents__condition</th>\n",
       "      <th>...</th>\n",
       "      <th>selfesteem_proud__answer_type</th>\n",
       "      <th>selfesteem_proud__question</th>\n",
       "      <th>selfesteem_proud__response</th>\n",
       "      <th>selfesteem_proud__condition</th>\n",
       "      <th>narcissism_excellent__answer</th>\n",
       "      <th>narcissism_excellent__answer_type</th>\n",
       "      <th>narcissism_excellent__question</th>\n",
       "      <th>narcissism_excellent__response</th>\n",
       "      <th>narcissism_excellent__condition</th>\n",
       "      <th>gender</th>\n",
       "    </tr>\n",
       "  </thead>\n",
       "  <tbody>\n",
       "    <tr>\n",
       "      <th>u0001</th>\n",
       "      <td>0.0</td>\n",
       "      <td>radio</td>\n",
       "      <td>At varetage dine praktiske pligter i hjemmet?</td>\n",
       "      <td>Slet ikke</td>\n",
       "      <td>False</td>\n",
       "      <td>1.0</td>\n",
       "      <td>radio</td>\n",
       "      <td>Jeg nyder for mig selv, når mine modstandere m...</td>\n",
       "      <td>2</td>\n",
       "      <td>False</td>\n",
       "      <td>...</td>\n",
       "      <td>radio</td>\n",
       "      <td>Jeg føler at jeg ikke har meget at være stolt af</td>\n",
       "      <td>Uenig</td>\n",
       "      <td>False</td>\n",
       "      <td>3.0</td>\n",
       "      <td>radio</td>\n",
       "      <td>Jeg formår at være midtpunkt for opmærksomhed ...</td>\n",
       "      <td>4</td>\n",
       "      <td>False</td>\n",
       "      <td>male</td>\n",
       "    </tr>\n",
       "    <tr>\n",
       "      <th>u0002</th>\n",
       "      <td>1.0</td>\n",
       "      <td>radio</td>\n",
       "      <td>At varetage dine praktiske pligter i hjemmet?</td>\n",
       "      <td>Lidt</td>\n",
       "      <td>False</td>\n",
       "      <td>2.0</td>\n",
       "      <td>radio</td>\n",
       "      <td>Jeg nyder for mig selv, når mine modstandere m...</td>\n",
       "      <td>3</td>\n",
       "      <td>False</td>\n",
       "      <td>...</td>\n",
       "      <td>radio</td>\n",
       "      <td>Jeg føler at jeg ikke har meget at være stolt af</td>\n",
       "      <td>Uenig</td>\n",
       "      <td>False</td>\n",
       "      <td>2.0</td>\n",
       "      <td>radio</td>\n",
       "      <td>Jeg formår at være midtpunkt for opmærksomhed ...</td>\n",
       "      <td>3</td>\n",
       "      <td>False</td>\n",
       "      <td>male</td>\n",
       "    </tr>\n",
       "    <tr>\n",
       "      <th>u0003</th>\n",
       "      <td>1.0</td>\n",
       "      <td>radio</td>\n",
       "      <td>At varetage dine praktiske pligter i hjemmet?</td>\n",
       "      <td>Lidt</td>\n",
       "      <td>False</td>\n",
       "      <td>1.0</td>\n",
       "      <td>radio</td>\n",
       "      <td>Jeg nyder for mig selv, når mine modstandere m...</td>\n",
       "      <td>2</td>\n",
       "      <td>False</td>\n",
       "      <td>...</td>\n",
       "      <td>radio</td>\n",
       "      <td>Jeg føler at jeg ikke har meget at være stolt af</td>\n",
       "      <td>Enig</td>\n",
       "      <td>False</td>\n",
       "      <td>1.0</td>\n",
       "      <td>radio</td>\n",
       "      <td>Jeg formår at være midtpunkt for opmærksomhed ...</td>\n",
       "      <td>2</td>\n",
       "      <td>False</td>\n",
       "      <td>male</td>\n",
       "    </tr>\n",
       "    <tr>\n",
       "      <th>u0004</th>\n",
       "      <td>1.0</td>\n",
       "      <td>radio</td>\n",
       "      <td>At varetage dine praktiske pligter i hjemmet?</td>\n",
       "      <td>Lidt</td>\n",
       "      <td>False</td>\n",
       "      <td>2.0</td>\n",
       "      <td>radio</td>\n",
       "      <td>Jeg nyder for mig selv, når mine modstandere m...</td>\n",
       "      <td>3</td>\n",
       "      <td>False</td>\n",
       "      <td>...</td>\n",
       "      <td>radio</td>\n",
       "      <td>Jeg føler at jeg ikke har meget at være stolt af</td>\n",
       "      <td>Uenig</td>\n",
       "      <td>False</td>\n",
       "      <td>1.0</td>\n",
       "      <td>radio</td>\n",
       "      <td>Jeg formår at være midtpunkt for opmærksomhed ...</td>\n",
       "      <td>2</td>\n",
       "      <td>False</td>\n",
       "      <td>male</td>\n",
       "    </tr>\n",
       "    <tr>\n",
       "      <th>u0006</th>\n",
       "      <td>1.0</td>\n",
       "      <td>radio</td>\n",
       "      <td>At varetage dine praktiske pligter i hjemmet?</td>\n",
       "      <td>Lidt</td>\n",
       "      <td>False</td>\n",
       "      <td>1.0</td>\n",
       "      <td>radio</td>\n",
       "      <td>Jeg nyder for mig selv, når mine modstandere m...</td>\n",
       "      <td>2</td>\n",
       "      <td>False</td>\n",
       "      <td>...</td>\n",
       "      <td>radio</td>\n",
       "      <td>Jeg føler at jeg ikke har meget at være stolt af</td>\n",
       "      <td>Stærkt uenig</td>\n",
       "      <td>False</td>\n",
       "      <td>0.0</td>\n",
       "      <td>radio</td>\n",
       "      <td>Jeg formår at være midtpunkt for opmærksomhed ...</td>\n",
       "      <td>Passer slet ikke 1</td>\n",
       "      <td>False</td>\n",
       "      <td>female</td>\n",
       "    </tr>\n",
       "  </tbody>\n",
       "</table>\n",
       "<p>5 rows × 1431 columns</p>\n",
       "</div>"
      ],
      "text/plain": [
       "       function_duties__answer function_duties__answer_type  \\\n",
       "u0001                      0.0                        radio   \n",
       "u0002                      1.0                        radio   \n",
       "u0003                      1.0                        radio   \n",
       "u0004                      1.0                        radio   \n",
       "u0006                      1.0                        radio   \n",
       "\n",
       "                           function_duties__question  \\\n",
       "u0001  At varetage dine praktiske pligter i hjemmet?   \n",
       "u0002  At varetage dine praktiske pligter i hjemmet?   \n",
       "u0003  At varetage dine praktiske pligter i hjemmet?   \n",
       "u0004  At varetage dine praktiske pligter i hjemmet?   \n",
       "u0006  At varetage dine praktiske pligter i hjemmet?   \n",
       "\n",
       "      function_duties__response  function_duties__condition  \\\n",
       "u0001                 Slet ikke                       False   \n",
       "u0002                      Lidt                       False   \n",
       "u0003                      Lidt                       False   \n",
       "u0004                      Lidt                       False   \n",
       "u0006                      Lidt                       False   \n",
       "\n",
       "       narcissism_opponents__answer narcissism_opponents__answer_type  \\\n",
       "u0001                           1.0                             radio   \n",
       "u0002                           2.0                             radio   \n",
       "u0003                           1.0                             radio   \n",
       "u0004                           2.0                             radio   \n",
       "u0006                           1.0                             radio   \n",
       "\n",
       "                          narcissism_opponents__question  \\\n",
       "u0001  Jeg nyder for mig selv, når mine modstandere m...   \n",
       "u0002  Jeg nyder for mig selv, når mine modstandere m...   \n",
       "u0003  Jeg nyder for mig selv, når mine modstandere m...   \n",
       "u0004  Jeg nyder for mig selv, når mine modstandere m...   \n",
       "u0006  Jeg nyder for mig selv, når mine modstandere m...   \n",
       "\n",
       "      narcissism_opponents__response  narcissism_opponents__condition   ...    \\\n",
       "u0001                              2                            False   ...     \n",
       "u0002                              3                            False   ...     \n",
       "u0003                              2                            False   ...     \n",
       "u0004                              3                            False   ...     \n",
       "u0006                              2                            False   ...     \n",
       "\n",
       "       selfesteem_proud__answer_type  \\\n",
       "u0001                          radio   \n",
       "u0002                          radio   \n",
       "u0003                          radio   \n",
       "u0004                          radio   \n",
       "u0006                          radio   \n",
       "\n",
       "                             selfesteem_proud__question  \\\n",
       "u0001  Jeg føler at jeg ikke har meget at være stolt af   \n",
       "u0002  Jeg føler at jeg ikke har meget at være stolt af   \n",
       "u0003  Jeg føler at jeg ikke har meget at være stolt af   \n",
       "u0004  Jeg føler at jeg ikke har meget at være stolt af   \n",
       "u0006  Jeg føler at jeg ikke har meget at være stolt af   \n",
       "\n",
       "      selfesteem_proud__response selfesteem_proud__condition  \\\n",
       "u0001                      Uenig                       False   \n",
       "u0002                      Uenig                       False   \n",
       "u0003                       Enig                       False   \n",
       "u0004                      Uenig                       False   \n",
       "u0006               Stærkt uenig                       False   \n",
       "\n",
       "       narcissism_excellent__answer  narcissism_excellent__answer_type  \\\n",
       "u0001                           3.0                              radio   \n",
       "u0002                           2.0                              radio   \n",
       "u0003                           1.0                              radio   \n",
       "u0004                           1.0                              radio   \n",
       "u0006                           0.0                              radio   \n",
       "\n",
       "                          narcissism_excellent__question  \\\n",
       "u0001  Jeg formår at være midtpunkt for opmærksomhed ...   \n",
       "u0002  Jeg formår at være midtpunkt for opmærksomhed ...   \n",
       "u0003  Jeg formår at være midtpunkt for opmærksomhed ...   \n",
       "u0004  Jeg formår at være midtpunkt for opmærksomhed ...   \n",
       "u0006  Jeg formår at være midtpunkt for opmærksomhed ...   \n",
       "\n",
       "      narcissism_excellent__response narcissism_excellent__condition  gender  \n",
       "u0001                              4                           False    male  \n",
       "u0002                              3                           False    male  \n",
       "u0003                              2                           False    male  \n",
       "u0004                              2                           False    male  \n",
       "u0006             Passer slet ikke 1                           False  female  \n",
       "\n",
       "[5 rows x 1431 columns]"
      ]
     },
     "execution_count": 2,
     "metadata": {},
     "output_type": "execute_result"
    }
   ],
   "source": [
    "qdf = pd.read_pickle('../../allan_data/RGender_.pkl') \n",
    "userAlias = loaders.Useralias()\n",
    "qdf.index = qdf.index.map(lambda us: userAlias[us])\n",
    "f = misc.QuestionFilterer(qdf)\n",
    "q = misc.QuestionCompleter(qdf) \n",
    "\n",
    "qdf.head() "
   ]
  },
  {
   "cell_type": "code",
   "execution_count": 3,
   "metadata": {},
   "outputs": [
    {
     "data": {
      "text/html": [
       "<div>\n",
       "<style scoped>\n",
       "    .dataframe tbody tr th:only-of-type {\n",
       "        vertical-align: middle;\n",
       "    }\n",
       "\n",
       "    .dataframe tbody tr th {\n",
       "        vertical-align: top;\n",
       "    }\n",
       "\n",
       "    .dataframe thead th {\n",
       "        text-align: right;\n",
       "    }\n",
       "</style>\n",
       "<table border=\"1\" class=\"dataframe\">\n",
       "  <thead>\n",
       "    <tr style=\"text-align: right;\">\n",
       "      <th></th>\n",
       "      <th>u0182</th>\n",
       "      <th>u1015</th>\n",
       "      <th>u0778</th>\n",
       "      <th>u0933</th>\n",
       "      <th>u0256</th>\n",
       "      <th>u0659</th>\n",
       "      <th>u0719</th>\n",
       "      <th>u0709</th>\n",
       "      <th>u0748</th>\n",
       "      <th>u0045</th>\n",
       "      <th>...</th>\n",
       "      <th>u0912</th>\n",
       "      <th>u0392</th>\n",
       "      <th>u0060</th>\n",
       "      <th>u0125</th>\n",
       "      <th>u0854</th>\n",
       "      <th>u0404</th>\n",
       "      <th>u0202</th>\n",
       "      <th>u0353</th>\n",
       "      <th>u0382</th>\n",
       "      <th>u0188</th>\n",
       "    </tr>\n",
       "    <tr>\n",
       "      <th>timestamp</th>\n",
       "      <th></th>\n",
       "      <th></th>\n",
       "      <th></th>\n",
       "      <th></th>\n",
       "      <th></th>\n",
       "      <th></th>\n",
       "      <th></th>\n",
       "      <th></th>\n",
       "      <th></th>\n",
       "      <th></th>\n",
       "      <th></th>\n",
       "      <th></th>\n",
       "      <th></th>\n",
       "      <th></th>\n",
       "      <th></th>\n",
       "      <th></th>\n",
       "      <th></th>\n",
       "      <th></th>\n",
       "      <th></th>\n",
       "      <th></th>\n",
       "      <th></th>\n",
       "    </tr>\n",
       "  </thead>\n",
       "  <tbody>\n",
       "    <tr>\n",
       "      <th>2013-12-10</th>\n",
       "      <td>27.0</td>\n",
       "      <td>1.0</td>\n",
       "      <td>24.0</td>\n",
       "      <td>222.0</td>\n",
       "      <td>0.0</td>\n",
       "      <td>0.0</td>\n",
       "      <td>104.0</td>\n",
       "      <td>0.0</td>\n",
       "      <td>0.0</td>\n",
       "      <td>66.0</td>\n",
       "      <td>...</td>\n",
       "      <td>96.0</td>\n",
       "      <td>0.0</td>\n",
       "      <td>0.0</td>\n",
       "      <td>66.0</td>\n",
       "      <td>145.0</td>\n",
       "      <td>65.0</td>\n",
       "      <td>104.0</td>\n",
       "      <td>403.0</td>\n",
       "      <td>96.0</td>\n",
       "      <td>71.0</td>\n",
       "    </tr>\n",
       "    <tr>\n",
       "      <th>2013-12-11</th>\n",
       "      <td>60.0</td>\n",
       "      <td>0.0</td>\n",
       "      <td>16.0</td>\n",
       "      <td>269.0</td>\n",
       "      <td>0.0</td>\n",
       "      <td>0.0</td>\n",
       "      <td>131.0</td>\n",
       "      <td>0.0</td>\n",
       "      <td>0.0</td>\n",
       "      <td>94.0</td>\n",
       "      <td>...</td>\n",
       "      <td>87.0</td>\n",
       "      <td>0.0</td>\n",
       "      <td>0.0</td>\n",
       "      <td>68.0</td>\n",
       "      <td>176.0</td>\n",
       "      <td>44.0</td>\n",
       "      <td>92.0</td>\n",
       "      <td>462.0</td>\n",
       "      <td>176.0</td>\n",
       "      <td>140.0</td>\n",
       "    </tr>\n",
       "    <tr>\n",
       "      <th>2013-12-12</th>\n",
       "      <td>67.0</td>\n",
       "      <td>0.0</td>\n",
       "      <td>16.0</td>\n",
       "      <td>177.0</td>\n",
       "      <td>0.0</td>\n",
       "      <td>0.0</td>\n",
       "      <td>130.0</td>\n",
       "      <td>0.0</td>\n",
       "      <td>0.0</td>\n",
       "      <td>68.0</td>\n",
       "      <td>...</td>\n",
       "      <td>83.0</td>\n",
       "      <td>0.0</td>\n",
       "      <td>0.0</td>\n",
       "      <td>40.0</td>\n",
       "      <td>176.0</td>\n",
       "      <td>30.0</td>\n",
       "      <td>76.0</td>\n",
       "      <td>458.0</td>\n",
       "      <td>183.0</td>\n",
       "      <td>156.0</td>\n",
       "    </tr>\n",
       "    <tr>\n",
       "      <th>2013-12-13</th>\n",
       "      <td>80.0</td>\n",
       "      <td>0.0</td>\n",
       "      <td>16.0</td>\n",
       "      <td>176.0</td>\n",
       "      <td>0.0</td>\n",
       "      <td>0.0</td>\n",
       "      <td>112.0</td>\n",
       "      <td>0.0</td>\n",
       "      <td>0.0</td>\n",
       "      <td>64.0</td>\n",
       "      <td>...</td>\n",
       "      <td>112.0</td>\n",
       "      <td>0.0</td>\n",
       "      <td>0.0</td>\n",
       "      <td>32.0</td>\n",
       "      <td>176.0</td>\n",
       "      <td>16.0</td>\n",
       "      <td>64.0</td>\n",
       "      <td>512.0</td>\n",
       "      <td>192.0</td>\n",
       "      <td>160.0</td>\n",
       "    </tr>\n",
       "    <tr>\n",
       "      <th>2013-12-14</th>\n",
       "      <td>80.0</td>\n",
       "      <td>0.0</td>\n",
       "      <td>16.0</td>\n",
       "      <td>176.0</td>\n",
       "      <td>0.0</td>\n",
       "      <td>0.0</td>\n",
       "      <td>112.0</td>\n",
       "      <td>0.0</td>\n",
       "      <td>0.0</td>\n",
       "      <td>64.0</td>\n",
       "      <td>...</td>\n",
       "      <td>112.0</td>\n",
       "      <td>0.0</td>\n",
       "      <td>0.0</td>\n",
       "      <td>32.0</td>\n",
       "      <td>176.0</td>\n",
       "      <td>16.0</td>\n",
       "      <td>64.0</td>\n",
       "      <td>512.0</td>\n",
       "      <td>192.0</td>\n",
       "      <td>160.0</td>\n",
       "    </tr>\n",
       "  </tbody>\n",
       "</table>\n",
       "<p>5 rows × 845 columns</p>\n",
       "</div>"
      ],
      "text/plain": [
       "            u0182  u1015  u0778  u0933  u0256  u0659  u0719  u0709  u0748  \\\n",
       "timestamp                                                                   \n",
       "2013-12-10   27.0    1.0   24.0  222.0    0.0    0.0  104.0    0.0    0.0   \n",
       "2013-12-11   60.0    0.0   16.0  269.0    0.0    0.0  131.0    0.0    0.0   \n",
       "2013-12-12   67.0    0.0   16.0  177.0    0.0    0.0  130.0    0.0    0.0   \n",
       "2013-12-13   80.0    0.0   16.0  176.0    0.0    0.0  112.0    0.0    0.0   \n",
       "2013-12-14   80.0    0.0   16.0  176.0    0.0    0.0  112.0    0.0    0.0   \n",
       "\n",
       "            u0045  ...    u0912  u0392  u0060  u0125  u0854  u0404  u0202  \\\n",
       "timestamp          ...                                                      \n",
       "2013-12-10   66.0  ...     96.0    0.0    0.0   66.0  145.0   65.0  104.0   \n",
       "2013-12-11   94.0  ...     87.0    0.0    0.0   68.0  176.0   44.0   92.0   \n",
       "2013-12-12   68.0  ...     83.0    0.0    0.0   40.0  176.0   30.0   76.0   \n",
       "2013-12-13   64.0  ...    112.0    0.0    0.0   32.0  176.0   16.0   64.0   \n",
       "2013-12-14   64.0  ...    112.0    0.0    0.0   32.0  176.0   16.0   64.0   \n",
       "\n",
       "            u0353  u0382  u0188  \n",
       "timestamp                        \n",
       "2013-12-10  403.0   96.0   71.0  \n",
       "2013-12-11  462.0  176.0  140.0  \n",
       "2013-12-12  458.0  183.0  156.0  \n",
       "2013-12-13  512.0  192.0  160.0  \n",
       "2013-12-14  512.0  192.0  160.0  \n",
       "\n",
       "[5 rows x 845 columns]"
      ]
     },
     "execution_count": 3,
     "metadata": {},
     "output_type": "execute_result"
    }
   ],
   "source": [
    "bi = pd.read_msgpack('../../allan_data/bluetooth_interaction_daily_df.msgpack')\n",
    "bi = bi.fillna(0)\n",
    "bi.head() "
   ]
  },
  {
   "cell_type": "code",
   "execution_count": 4,
   "metadata": {},
   "outputs": [],
   "source": [
    "fs = pd.DataFrame() "
   ]
  },
  {
   "cell_type": "code",
   "execution_count": 5,
   "metadata": {},
   "outputs": [
    {
     "data": {
      "text/html": [
       "<div>\n",
       "<style scoped>\n",
       "    .dataframe tbody tr th:only-of-type {\n",
       "        vertical-align: middle;\n",
       "    }\n",
       "\n",
       "    .dataframe tbody tr th {\n",
       "        vertical-align: top;\n",
       "    }\n",
       "\n",
       "    .dataframe thead th {\n",
       "        text-align: right;\n",
       "    }\n",
       "</style>\n",
       "<table border=\"1\" class=\"dataframe\">\n",
       "  <thead>\n",
       "    <tr style=\"text-align: right;\">\n",
       "      <th></th>\n",
       "      <th>weekly_alcohol</th>\n",
       "    </tr>\n",
       "  </thead>\n",
       "  <tbody>\n",
       "    <tr>\n",
       "      <th>u0001</th>\n",
       "      <td>35.0</td>\n",
       "    </tr>\n",
       "    <tr>\n",
       "      <th>u0002</th>\n",
       "      <td>0.0</td>\n",
       "    </tr>\n",
       "    <tr>\n",
       "      <th>u0003</th>\n",
       "      <td>14.0</td>\n",
       "    </tr>\n",
       "    <tr>\n",
       "      <th>u0004</th>\n",
       "      <td>4.0</td>\n",
       "    </tr>\n",
       "    <tr>\n",
       "      <th>u0006</th>\n",
       "      <td>0.0</td>\n",
       "    </tr>\n",
       "  </tbody>\n",
       "</table>\n",
       "</div>"
      ],
      "text/plain": [
       "       weekly_alcohol\n",
       "u0001            35.0\n",
       "u0002             0.0\n",
       "u0003            14.0\n",
       "u0004             4.0\n",
       "u0006             0.0"
      ]
     },
     "execution_count": 5,
     "metadata": {},
     "output_type": "execute_result"
    }
   ],
   "source": [
    "fs['weekly_alcohol'] = qdf.filter(regex='alcohol_volume.+_answer$').sum(axis=1)\n",
    "fs.head() "
   ]
  },
  {
   "cell_type": "code",
   "execution_count": 6,
   "metadata": {},
   "outputs": [
    {
     "data": {
      "text/html": [
       "<div>\n",
       "<style scoped>\n",
       "    .dataframe tbody tr th:only-of-type {\n",
       "        vertical-align: middle;\n",
       "    }\n",
       "\n",
       "    .dataframe tbody tr th {\n",
       "        vertical-align: top;\n",
       "    }\n",
       "\n",
       "    .dataframe thead th {\n",
       "        text-align: right;\n",
       "    }\n",
       "</style>\n",
       "<table border=\"1\" class=\"dataframe\">\n",
       "  <thead>\n",
       "    <tr style=\"text-align: right;\">\n",
       "      <th></th>\n",
       "      <th>monday</th>\n",
       "      <th>tuesday</th>\n",
       "      <th>wednesday</th>\n",
       "      <th>thursday</th>\n",
       "      <th>friday</th>\n",
       "      <th>saturday</th>\n",
       "      <th>sunday</th>\n",
       "    </tr>\n",
       "  </thead>\n",
       "  <tbody>\n",
       "    <tr>\n",
       "      <th>u0001</th>\n",
       "      <td>0.0</td>\n",
       "      <td>30.0</td>\n",
       "      <td>5.0</td>\n",
       "      <td>0.0</td>\n",
       "      <td>0.0</td>\n",
       "      <td>0.0</td>\n",
       "      <td>0.0</td>\n",
       "    </tr>\n",
       "    <tr>\n",
       "      <th>u0002</th>\n",
       "      <td>0.0</td>\n",
       "      <td>0.0</td>\n",
       "      <td>0.0</td>\n",
       "      <td>0.0</td>\n",
       "      <td>0.0</td>\n",
       "      <td>0.0</td>\n",
       "      <td>0.0</td>\n",
       "    </tr>\n",
       "    <tr>\n",
       "      <th>u0003</th>\n",
       "      <td>0.0</td>\n",
       "      <td>0.0</td>\n",
       "      <td>0.0</td>\n",
       "      <td>0.0</td>\n",
       "      <td>12.0</td>\n",
       "      <td>2.0</td>\n",
       "      <td>0.0</td>\n",
       "    </tr>\n",
       "    <tr>\n",
       "      <th>u0004</th>\n",
       "      <td>1.0</td>\n",
       "      <td>1.0</td>\n",
       "      <td>0.0</td>\n",
       "      <td>0.0</td>\n",
       "      <td>0.0</td>\n",
       "      <td>1.0</td>\n",
       "      <td>1.0</td>\n",
       "    </tr>\n",
       "    <tr>\n",
       "      <th>u0006</th>\n",
       "      <td>0.0</td>\n",
       "      <td>0.0</td>\n",
       "      <td>0.0</td>\n",
       "      <td>0.0</td>\n",
       "      <td>0.0</td>\n",
       "      <td>0.0</td>\n",
       "      <td>0.0</td>\n",
       "    </tr>\n",
       "  </tbody>\n",
       "</table>\n",
       "</div>"
      ],
      "text/plain": [
       "       monday  tuesday  wednesday  thursday  friday  saturday  sunday\n",
       "u0001     0.0     30.0        5.0       0.0     0.0       0.0     0.0\n",
       "u0002     0.0      0.0        0.0       0.0     0.0       0.0     0.0\n",
       "u0003     0.0      0.0        0.0       0.0    12.0       2.0     0.0\n",
       "u0004     1.0      1.0        0.0       0.0     0.0       1.0     1.0\n",
       "u0006     0.0      0.0        0.0       0.0     0.0       0.0     0.0"
      ]
     },
     "metadata": {},
     "output_type": "display_data"
    },
    {
     "data": {
      "text/html": [
       "<div>\n",
       "<style scoped>\n",
       "    .dataframe tbody tr th:only-of-type {\n",
       "        vertical-align: middle;\n",
       "    }\n",
       "\n",
       "    .dataframe tbody tr th {\n",
       "        vertical-align: top;\n",
       "    }\n",
       "\n",
       "    .dataframe thead th {\n",
       "        text-align: right;\n",
       "    }\n",
       "</style>\n",
       "<table border=\"1\" class=\"dataframe\">\n",
       "  <thead>\n",
       "    <tr style=\"text-align: right;\">\n",
       "      <th></th>\n",
       "      <th>weekly_alcohol</th>\n",
       "      <th>weekday_weekend_alcohol</th>\n",
       "    </tr>\n",
       "  </thead>\n",
       "  <tbody>\n",
       "    <tr>\n",
       "      <th>u0001</th>\n",
       "      <td>35.0</td>\n",
       "      <td>0.000000</td>\n",
       "    </tr>\n",
       "    <tr>\n",
       "      <th>u0002</th>\n",
       "      <td>0.0</td>\n",
       "      <td>0.000000</td>\n",
       "    </tr>\n",
       "    <tr>\n",
       "      <th>u0003</th>\n",
       "      <td>14.0</td>\n",
       "      <td>0.000000</td>\n",
       "    </tr>\n",
       "    <tr>\n",
       "      <th>u0004</th>\n",
       "      <td>4.0</td>\n",
       "      <td>0.333333</td>\n",
       "    </tr>\n",
       "    <tr>\n",
       "      <th>u0006</th>\n",
       "      <td>0.0</td>\n",
       "      <td>0.000000</td>\n",
       "    </tr>\n",
       "  </tbody>\n",
       "</table>\n",
       "</div>"
      ],
      "text/plain": [
       "       weekly_alcohol  weekday_weekend_alcohol\n",
       "u0001            35.0                 0.000000\n",
       "u0002             0.0                 0.000000\n",
       "u0003            14.0                 0.000000\n",
       "u0004             4.0                 0.333333\n",
       "u0006             0.0                 0.000000"
      ]
     },
     "execution_count": 6,
     "metadata": {},
     "output_type": "execute_result"
    }
   ],
   "source": [
    "tmp = qdf.filter(regex='alcohol_volume.+_answer$') \n",
    "tmp.columns = tmp.columns.str.extract(r'([^_]+day)', expand=False)\n",
    "tmp = tmp[misc.sortWeekdays(tmp.columns)]\n",
    "display(tmp.head())\n",
    "weekend_days = [\"friday\", \"saturday\"]\n",
    "fs['weekday_weekend_alcohol'] = tmp[weekend_days].sum(axis=1) / tmp.drop(weekend_days, axis=1).sum(axis=1)\n",
    "fs['weekday_weekend_alcohol'] = fs.weekday_weekend_alcohol.replace({np.inf: 0, np.NaN: 0})\n",
    "fs.head() "
   ]
  },
  {
   "cell_type": "code",
   "execution_count": 7,
   "metadata": {},
   "outputs": [
    {
     "data": {
      "text/html": [
       "<h3><i>Question:</i>  Drukket dig fuld på en hverdagsaften/dag, hvor du skulle i skole eller på dit fuldtidsjob dagen efter</h3>"
      ],
      "text/plain": [
       "<IPython.core.display.HTML object>"
      ]
     },
     "metadata": {},
     "output_type": "display_data"
    },
    {
     "data": {
      "text/html": [
       "<i>Question str:</i>    <tt>alcohol_everyday</tt>"
      ],
      "text/plain": [
       "<IPython.core.display.HTML object>"
      ]
     },
     "metadata": {},
     "output_type": "display_data"
    },
    {
     "data": {
      "text/html": [
       "<i>Answer type:</i>    <tt>radio</tt>"
      ],
      "text/plain": [
       "<IPython.core.display.HTML object>"
      ]
     },
     "metadata": {},
     "output_type": "display_data"
    },
    {
     "data": {
      "text/html": [
       "<div>\n",
       "<style scoped>\n",
       "    .dataframe tbody tr th:only-of-type {\n",
       "        vertical-align: middle;\n",
       "    }\n",
       "\n",
       "    .dataframe tbody tr th {\n",
       "        vertical-align: top;\n",
       "    }\n",
       "\n",
       "    .dataframe thead th {\n",
       "        text-align: right;\n",
       "    }\n",
       "</style>\n",
       "<table border=\"1\" class=\"dataframe\">\n",
       "  <thead>\n",
       "    <tr style=\"text-align: right;\">\n",
       "      <th></th>\n",
       "      <th>response_index</th>\n",
       "      <th>answer_index</th>\n",
       "      <th>count</th>\n",
       "    </tr>\n",
       "  </thead>\n",
       "  <tbody>\n",
       "    <tr>\n",
       "      <th>0</th>\n",
       "      <td>0 gange</td>\n",
       "      <td>0.0</td>\n",
       "      <td>759</td>\n",
       "    </tr>\n",
       "    <tr>\n",
       "      <th>1</th>\n",
       "      <td>1 gange</td>\n",
       "      <td>1.0</td>\n",
       "      <td>99</td>\n",
       "    </tr>\n",
       "    <tr>\n",
       "      <th>2</th>\n",
       "      <td>2 gange</td>\n",
       "      <td>2.0</td>\n",
       "      <td>25</td>\n",
       "    </tr>\n",
       "    <tr>\n",
       "      <th>3</th>\n",
       "      <td>3 gange</td>\n",
       "      <td>3.0</td>\n",
       "      <td>11</td>\n",
       "    </tr>\n",
       "    <tr>\n",
       "      <th>4</th>\n",
       "      <td>4-5 gange</td>\n",
       "      <td>4.0</td>\n",
       "      <td>3</td>\n",
       "    </tr>\n",
       "    <tr>\n",
       "      <th>5</th>\n",
       "      <td>6+ gange</td>\n",
       "      <td>5.0</td>\n",
       "      <td>6</td>\n",
       "    </tr>\n",
       "  </tbody>\n",
       "</table>\n",
       "</div>"
      ],
      "text/plain": [
       "  response_index  answer_index  count\n",
       "0        0 gange           0.0    759\n",
       "1        1 gange           1.0     99\n",
       "2        2 gange           2.0     25\n",
       "3        3 gange           3.0     11\n",
       "4      4-5 gange           4.0      3\n",
       "5       6+ gange           5.0      6"
      ]
     },
     "metadata": {},
     "output_type": "display_data"
    }
   ],
   "source": [
    "misc.questionSummary(qdf, q.alcohol_everyday)"
   ]
  },
  {
   "cell_type": "code",
   "execution_count": 8,
   "metadata": {},
   "outputs": [],
   "source": [
    "tmp = qdf.alcohol_everyday__answer\n",
    "tmp = tmp.replace({4: 4.5, 5: 6})\n",
    "\n",
    "fs['before_workday_alcohol'] = tmp "
   ]
  },
  {
   "cell_type": "code",
   "execution_count": 9,
   "metadata": {},
   "outputs": [
    {
     "data": {
      "text/html": [
       "<h3><i>Question:</i>  Hvor mange gange er du blevet fuld af at drikke alkohol i løbet af  <u>de sidste 30 dage</u>?</h3>"
      ],
      "text/plain": [
       "<IPython.core.display.HTML object>"
      ]
     },
     "metadata": {},
     "output_type": "display_data"
    },
    {
     "data": {
      "text/html": [
       "<i>Question str:</i>    <tt>alcohol_drunk</tt>"
      ],
      "text/plain": [
       "<IPython.core.display.HTML object>"
      ]
     },
     "metadata": {},
     "output_type": "display_data"
    },
    {
     "data": {
      "text/html": [
       "<i>Answer type:</i>    <tt>radio</tt>"
      ],
      "text/plain": [
       "<IPython.core.display.HTML object>"
      ]
     },
     "metadata": {},
     "output_type": "display_data"
    },
    {
     "data": {
      "text/html": [
       "<div>\n",
       "<style scoped>\n",
       "    .dataframe tbody tr th:only-of-type {\n",
       "        vertical-align: middle;\n",
       "    }\n",
       "\n",
       "    .dataframe tbody tr th {\n",
       "        vertical-align: top;\n",
       "    }\n",
       "\n",
       "    .dataframe thead th {\n",
       "        text-align: right;\n",
       "    }\n",
       "</style>\n",
       "<table border=\"1\" class=\"dataframe\">\n",
       "  <thead>\n",
       "    <tr style=\"text-align: right;\">\n",
       "      <th></th>\n",
       "      <th>response_index</th>\n",
       "      <th>answer_index</th>\n",
       "      <th>count</th>\n",
       "    </tr>\n",
       "  </thead>\n",
       "  <tbody>\n",
       "    <tr>\n",
       "      <th>0</th>\n",
       "      <td>0 gange</td>\n",
       "      <td>0.0</td>\n",
       "      <td>135</td>\n",
       "    </tr>\n",
       "    <tr>\n",
       "      <th>1</th>\n",
       "      <td>1 gange</td>\n",
       "      <td>1.0</td>\n",
       "      <td>124</td>\n",
       "    </tr>\n",
       "    <tr>\n",
       "      <th>2</th>\n",
       "      <td>2 gange</td>\n",
       "      <td>2.0</td>\n",
       "      <td>153</td>\n",
       "    </tr>\n",
       "    <tr>\n",
       "      <th>3</th>\n",
       "      <td>3 gange</td>\n",
       "      <td>3.0</td>\n",
       "      <td>120</td>\n",
       "    </tr>\n",
       "    <tr>\n",
       "      <th>4</th>\n",
       "      <td>4-5 gange</td>\n",
       "      <td>4.0</td>\n",
       "      <td>187</td>\n",
       "    </tr>\n",
       "    <tr>\n",
       "      <th>5</th>\n",
       "      <td>6-9 gange</td>\n",
       "      <td>5.0</td>\n",
       "      <td>136</td>\n",
       "    </tr>\n",
       "    <tr>\n",
       "      <th>6</th>\n",
       "      <td>10+ gange</td>\n",
       "      <td>6.0</td>\n",
       "      <td>48</td>\n",
       "    </tr>\n",
       "  </tbody>\n",
       "</table>\n",
       "</div>"
      ],
      "text/plain": [
       "  response_index  answer_index  count\n",
       "0        0 gange           0.0    135\n",
       "1        1 gange           1.0    124\n",
       "2        2 gange           2.0    153\n",
       "3        3 gange           3.0    120\n",
       "4      4-5 gange           4.0    187\n",
       "5      6-9 gange           5.0    136\n",
       "6      10+ gange           6.0     48"
      ]
     },
     "metadata": {},
     "output_type": "display_data"
    }
   ],
   "source": [
    "misc.questionSummary(qdf, q.alcohol_drunk)"
   ]
  },
  {
   "cell_type": "markdown",
   "metadata": {},
   "source": [
    "Replace codes with numbers which reflect numerical estimates"
   ]
  },
  {
   "cell_type": "code",
   "execution_count": 10,
   "metadata": {},
   "outputs": [],
   "source": [
    "fs['times_drunk_last_30_days_alcohol'] = qdf.alcohol_drunk__answer.replace({4: 4.5, 5: 7.5, 6: 10})"
   ]
  },
  {
   "cell_type": "code",
   "execution_count": 11,
   "metadata": {},
   "outputs": [
    {
     "data": {
      "text/html": [
       "<h3><i>Question:</i>  Drukket mere end 5 genstande på en dag/aften</h3>"
      ],
      "text/plain": [
       "<IPython.core.display.HTML object>"
      ]
     },
     "metadata": {},
     "output_type": "display_data"
    },
    {
     "data": {
      "text/html": [
       "<i>Question str:</i>    <tt>alcohol_binge5</tt>"
      ],
      "text/plain": [
       "<IPython.core.display.HTML object>"
      ]
     },
     "metadata": {},
     "output_type": "display_data"
    },
    {
     "data": {
      "text/html": [
       "<i>Answer type:</i>    <tt>radio</tt>"
      ],
      "text/plain": [
       "<IPython.core.display.HTML object>"
      ]
     },
     "metadata": {},
     "output_type": "display_data"
    },
    {
     "data": {
      "text/html": [
       "<div>\n",
       "<style scoped>\n",
       "    .dataframe tbody tr th:only-of-type {\n",
       "        vertical-align: middle;\n",
       "    }\n",
       "\n",
       "    .dataframe tbody tr th {\n",
       "        vertical-align: top;\n",
       "    }\n",
       "\n",
       "    .dataframe thead th {\n",
       "        text-align: right;\n",
       "    }\n",
       "</style>\n",
       "<table border=\"1\" class=\"dataframe\">\n",
       "  <thead>\n",
       "    <tr style=\"text-align: right;\">\n",
       "      <th></th>\n",
       "      <th>response_index</th>\n",
       "      <th>answer_index</th>\n",
       "      <th>count</th>\n",
       "    </tr>\n",
       "  </thead>\n",
       "  <tbody>\n",
       "    <tr>\n",
       "      <th>0</th>\n",
       "      <td>0 gange</td>\n",
       "      <td>0.0</td>\n",
       "      <td>182</td>\n",
       "    </tr>\n",
       "    <tr>\n",
       "      <th>1</th>\n",
       "      <td>1 gange</td>\n",
       "      <td>1.0</td>\n",
       "      <td>189</td>\n",
       "    </tr>\n",
       "    <tr>\n",
       "      <th>2</th>\n",
       "      <td>2 gange</td>\n",
       "      <td>2.0</td>\n",
       "      <td>164</td>\n",
       "    </tr>\n",
       "    <tr>\n",
       "      <th>3</th>\n",
       "      <td>3 gange</td>\n",
       "      <td>3.0</td>\n",
       "      <td>153</td>\n",
       "    </tr>\n",
       "    <tr>\n",
       "      <th>4</th>\n",
       "      <td>4-5 gange</td>\n",
       "      <td>4.0</td>\n",
       "      <td>120</td>\n",
       "    </tr>\n",
       "    <tr>\n",
       "      <th>5</th>\n",
       "      <td>6+ gange</td>\n",
       "      <td>5.0</td>\n",
       "      <td>95</td>\n",
       "    </tr>\n",
       "  </tbody>\n",
       "</table>\n",
       "</div>"
      ],
      "text/plain": [
       "  response_index  answer_index  count\n",
       "0        0 gange           0.0    182\n",
       "1        1 gange           1.0    189\n",
       "2        2 gange           2.0    164\n",
       "3        3 gange           3.0    153\n",
       "4      4-5 gange           4.0    120\n",
       "5       6+ gange           5.0     95"
      ]
     },
     "metadata": {},
     "output_type": "display_data"
    }
   ],
   "source": [
    "misc.questionSummary(qdf, 'alcohol_binge5')"
   ]
  },
  {
   "cell_type": "code",
   "execution_count": 12,
   "metadata": {},
   "outputs": [],
   "source": [
    "fs['binge_5_alcohol'] = qdf.alcohol_binge5__answer\n",
    "fs['binge_10_alcohol'] = qdf.alcohol_binge10__answer"
   ]
  },
  {
   "cell_type": "code",
   "execution_count": 13,
   "metadata": {},
   "outputs": [],
   "source": [
    "fs['times_very_drunk_alcohol'] = qdf.alcohol_very_drunk__answer.replace({4:4.5, 5:6})"
   ]
  },
  {
   "cell_type": "code",
   "execution_count": 16,
   "metadata": {},
   "outputs": [
    {
     "data": {
      "text/html": [
       "<h3><i>Question:</i>  Drukket dig meget fuld</h3>"
      ],
      "text/plain": [
       "<IPython.core.display.HTML object>"
      ]
     },
     "metadata": {},
     "output_type": "display_data"
    },
    {
     "data": {
      "text/html": [
       "<i>Question str:</i>    <tt>alcohol_very_drunk</tt>"
      ],
      "text/plain": [
       "<IPython.core.display.HTML object>"
      ]
     },
     "metadata": {},
     "output_type": "display_data"
    },
    {
     "data": {
      "text/html": [
       "<i>Answer type:</i>    <tt>radio</tt>"
      ],
      "text/plain": [
       "<IPython.core.display.HTML object>"
      ]
     },
     "metadata": {},
     "output_type": "display_data"
    },
    {
     "data": {
      "text/html": [
       "<div>\n",
       "<style scoped>\n",
       "    .dataframe tbody tr th:only-of-type {\n",
       "        vertical-align: middle;\n",
       "    }\n",
       "\n",
       "    .dataframe tbody tr th {\n",
       "        vertical-align: top;\n",
       "    }\n",
       "\n",
       "    .dataframe thead th {\n",
       "        text-align: right;\n",
       "    }\n",
       "</style>\n",
       "<table border=\"1\" class=\"dataframe\">\n",
       "  <thead>\n",
       "    <tr style=\"text-align: right;\">\n",
       "      <th></th>\n",
       "      <th>response_index</th>\n",
       "      <th>answer_index</th>\n",
       "      <th>count</th>\n",
       "    </tr>\n",
       "  </thead>\n",
       "  <tbody>\n",
       "    <tr>\n",
       "      <th>0</th>\n",
       "      <td>0 gange</td>\n",
       "      <td>0.0</td>\n",
       "      <td>307</td>\n",
       "    </tr>\n",
       "    <tr>\n",
       "      <th>1</th>\n",
       "      <td>1 gange</td>\n",
       "      <td>1.0</td>\n",
       "      <td>216</td>\n",
       "    </tr>\n",
       "    <tr>\n",
       "      <th>2</th>\n",
       "      <td>2 gange</td>\n",
       "      <td>2.0</td>\n",
       "      <td>155</td>\n",
       "    </tr>\n",
       "    <tr>\n",
       "      <th>3</th>\n",
       "      <td>3 gange</td>\n",
       "      <td>3.0</td>\n",
       "      <td>97</td>\n",
       "    </tr>\n",
       "    <tr>\n",
       "      <th>4</th>\n",
       "      <td>4-5 gange</td>\n",
       "      <td>4.0</td>\n",
       "      <td>92</td>\n",
       "    </tr>\n",
       "    <tr>\n",
       "      <th>5</th>\n",
       "      <td>6+ gange</td>\n",
       "      <td>5.0</td>\n",
       "      <td>36</td>\n",
       "    </tr>\n",
       "  </tbody>\n",
       "</table>\n",
       "</div>"
      ],
      "text/plain": [
       "  response_index  answer_index  count\n",
       "0        0 gange           0.0    307\n",
       "1        1 gange           1.0    216\n",
       "2        2 gange           2.0    155\n",
       "3        3 gange           3.0     97\n",
       "4      4-5 gange           4.0     92\n",
       "5       6+ gange           5.0     36"
      ]
     },
     "metadata": {},
     "output_type": "display_data"
    }
   ],
   "source": [
    "misc.questionSummary(qdf, q.alcohol_very_drunk)"
   ]
  },
  {
   "cell_type": "code",
   "execution_count": 14,
   "metadata": {},
   "outputs": [
    {
     "data": {
      "text/html": [
       "<h3><i>Question:</i>  Drukket alkohol i weekenden</h3>"
      ],
      "text/plain": [
       "<IPython.core.display.HTML object>"
      ]
     },
     "metadata": {},
     "output_type": "display_data"
    },
    {
     "data": {
      "text/html": [
       "<i>Question str:</i>    <tt>alcohol_weekend</tt>"
      ],
      "text/plain": [
       "<IPython.core.display.HTML object>"
      ]
     },
     "metadata": {},
     "output_type": "display_data"
    },
    {
     "data": {
      "text/html": [
       "<i>Answer type:</i>    <tt>radio</tt>"
      ],
      "text/plain": [
       "<IPython.core.display.HTML object>"
      ]
     },
     "metadata": {},
     "output_type": "display_data"
    },
    {
     "data": {
      "text/html": [
       "<div>\n",
       "<style scoped>\n",
       "    .dataframe tbody tr th:only-of-type {\n",
       "        vertical-align: middle;\n",
       "    }\n",
       "\n",
       "    .dataframe tbody tr th {\n",
       "        vertical-align: top;\n",
       "    }\n",
       "\n",
       "    .dataframe thead th {\n",
       "        text-align: right;\n",
       "    }\n",
       "</style>\n",
       "<table border=\"1\" class=\"dataframe\">\n",
       "  <thead>\n",
       "    <tr style=\"text-align: right;\">\n",
       "      <th></th>\n",
       "      <th>response_index</th>\n",
       "      <th>answer_index</th>\n",
       "      <th>count</th>\n",
       "    </tr>\n",
       "  </thead>\n",
       "  <tbody>\n",
       "    <tr>\n",
       "      <th>0</th>\n",
       "      <td>0 gange</td>\n",
       "      <td>0.0</td>\n",
       "      <td>113</td>\n",
       "    </tr>\n",
       "    <tr>\n",
       "      <th>1</th>\n",
       "      <td>1 gange</td>\n",
       "      <td>1.0</td>\n",
       "      <td>158</td>\n",
       "    </tr>\n",
       "    <tr>\n",
       "      <th>2</th>\n",
       "      <td>2 gange</td>\n",
       "      <td>2.0</td>\n",
       "      <td>199</td>\n",
       "    </tr>\n",
       "    <tr>\n",
       "      <th>3</th>\n",
       "      <td>3 gange</td>\n",
       "      <td>3.0</td>\n",
       "      <td>173</td>\n",
       "    </tr>\n",
       "    <tr>\n",
       "      <th>4</th>\n",
       "      <td>4-5 gange</td>\n",
       "      <td>4.0</td>\n",
       "      <td>184</td>\n",
       "    </tr>\n",
       "    <tr>\n",
       "      <th>5</th>\n",
       "      <td>6+ gange</td>\n",
       "      <td>5.0</td>\n",
       "      <td>76</td>\n",
       "    </tr>\n",
       "  </tbody>\n",
       "</table>\n",
       "</div>"
      ],
      "text/plain": [
       "  response_index  answer_index  count\n",
       "0        0 gange           0.0    113\n",
       "1        1 gange           1.0    158\n",
       "2        2 gange           2.0    199\n",
       "3        3 gange           3.0    173\n",
       "4      4-5 gange           4.0    184\n",
       "5       6+ gange           5.0     76"
      ]
     },
     "metadata": {},
     "output_type": "display_data"
    }
   ],
   "source": [
    "misc.questionSummary(qdf, q.alcohol_weekend)"
   ]
  },
  {
   "cell_type": "code",
   "execution_count": 17,
   "metadata": {},
   "outputs": [],
   "source": [
    "fs['alcohol_weekend_alcohol'] = qdf.alcohol_weekend__answer.replace({4: 4.5, 5: 6}) "
   ]
  },
  {
   "cell_type": "code",
   "execution_count": 18,
   "metadata": {},
   "outputs": [],
   "source": [
    "fs['gender'] = qdf.gender.replace({'male': 0, 'female': 1})"
   ]
  },
  {
   "cell_type": "code",
   "execution_count": 19,
   "metadata": {},
   "outputs": [
    {
     "data": {
      "text/html": [
       "<div>\n",
       "<style scoped>\n",
       "    .dataframe tbody tr th:only-of-type {\n",
       "        vertical-align: middle;\n",
       "    }\n",
       "\n",
       "    .dataframe tbody tr th {\n",
       "        vertical-align: top;\n",
       "    }\n",
       "\n",
       "    .dataframe thead th {\n",
       "        text-align: right;\n",
       "    }\n",
       "</style>\n",
       "<table border=\"1\" class=\"dataframe\">\n",
       "  <thead>\n",
       "    <tr style=\"text-align: right;\">\n",
       "      <th></th>\n",
       "      <th>weekly_alcohol</th>\n",
       "      <th>weekday_weekend_alcohol</th>\n",
       "      <th>before_workday_alcohol</th>\n",
       "      <th>times_drunk_last_30_days_alcohol</th>\n",
       "      <th>binge_5_alcohol</th>\n",
       "      <th>binge_10_alcohol</th>\n",
       "      <th>times_very_drunk_alcohol</th>\n",
       "      <th>alcohol_weekend_alcohol</th>\n",
       "      <th>gender</th>\n",
       "    </tr>\n",
       "  </thead>\n",
       "  <tbody>\n",
       "    <tr>\n",
       "      <th>u0001</th>\n",
       "      <td>35.0</td>\n",
       "      <td>0.000000</td>\n",
       "      <td>0.0</td>\n",
       "      <td>3.0</td>\n",
       "      <td>2.0</td>\n",
       "      <td>1.0</td>\n",
       "      <td>1.0</td>\n",
       "      <td>3.0</td>\n",
       "      <td>0</td>\n",
       "    </tr>\n",
       "    <tr>\n",
       "      <th>u0002</th>\n",
       "      <td>0.0</td>\n",
       "      <td>0.000000</td>\n",
       "      <td>0.0</td>\n",
       "      <td>1.0</td>\n",
       "      <td>0.0</td>\n",
       "      <td>1.0</td>\n",
       "      <td>0.0</td>\n",
       "      <td>1.0</td>\n",
       "      <td>0</td>\n",
       "    </tr>\n",
       "    <tr>\n",
       "      <th>u0003</th>\n",
       "      <td>14.0</td>\n",
       "      <td>0.000000</td>\n",
       "      <td>0.0</td>\n",
       "      <td>2.0</td>\n",
       "      <td>2.0</td>\n",
       "      <td>2.0</td>\n",
       "      <td>2.0</td>\n",
       "      <td>3.0</td>\n",
       "      <td>0</td>\n",
       "    </tr>\n",
       "    <tr>\n",
       "      <th>u0004</th>\n",
       "      <td>4.0</td>\n",
       "      <td>0.333333</td>\n",
       "      <td>0.0</td>\n",
       "      <td>1.0</td>\n",
       "      <td>1.0</td>\n",
       "      <td>1.0</td>\n",
       "      <td>1.0</td>\n",
       "      <td>1.0</td>\n",
       "      <td>0</td>\n",
       "    </tr>\n",
       "    <tr>\n",
       "      <th>u0006</th>\n",
       "      <td>0.0</td>\n",
       "      <td>0.000000</td>\n",
       "      <td>0.0</td>\n",
       "      <td>1.0</td>\n",
       "      <td>1.0</td>\n",
       "      <td>0.0</td>\n",
       "      <td>0.0</td>\n",
       "      <td>1.0</td>\n",
       "      <td>1</td>\n",
       "    </tr>\n",
       "    <tr>\n",
       "      <th>u0007</th>\n",
       "      <td>13.0</td>\n",
       "      <td>0.000000</td>\n",
       "      <td>0.0</td>\n",
       "      <td>3.0</td>\n",
       "      <td>3.0</td>\n",
       "      <td>2.0</td>\n",
       "      <td>2.0</td>\n",
       "      <td>3.0</td>\n",
       "      <td>0</td>\n",
       "    </tr>\n",
       "    <tr>\n",
       "      <th>u0008</th>\n",
       "      <td>37.0</td>\n",
       "      <td>0.156250</td>\n",
       "      <td>0.0</td>\n",
       "      <td>7.5</td>\n",
       "      <td>4.0</td>\n",
       "      <td>2.0</td>\n",
       "      <td>2.0</td>\n",
       "      <td>3.0</td>\n",
       "      <td>1</td>\n",
       "    </tr>\n",
       "    <tr>\n",
       "      <th>u0009</th>\n",
       "      <td>2.0</td>\n",
       "      <td>1.000000</td>\n",
       "      <td>0.0</td>\n",
       "      <td>2.0</td>\n",
       "      <td>1.0</td>\n",
       "      <td>1.0</td>\n",
       "      <td>1.0</td>\n",
       "      <td>1.0</td>\n",
       "      <td>0</td>\n",
       "    </tr>\n",
       "    <tr>\n",
       "      <th>u0010</th>\n",
       "      <td>0.0</td>\n",
       "      <td>0.000000</td>\n",
       "      <td>0.0</td>\n",
       "      <td>4.5</td>\n",
       "      <td>4.0</td>\n",
       "      <td>3.0</td>\n",
       "      <td>2.0</td>\n",
       "      <td>1.0</td>\n",
       "      <td>0</td>\n",
       "    </tr>\n",
       "    <tr>\n",
       "      <th>u0011</th>\n",
       "      <td>32.0</td>\n",
       "      <td>15.000000</td>\n",
       "      <td>0.0</td>\n",
       "      <td>7.5</td>\n",
       "      <td>5.0</td>\n",
       "      <td>5.0</td>\n",
       "      <td>6.0</td>\n",
       "      <td>6.0</td>\n",
       "      <td>0</td>\n",
       "    </tr>\n",
       "    <tr>\n",
       "      <th>u0012</th>\n",
       "      <td>21.0</td>\n",
       "      <td>0.750000</td>\n",
       "      <td>1.0</td>\n",
       "      <td>7.5</td>\n",
       "      <td>3.0</td>\n",
       "      <td>1.0</td>\n",
       "      <td>1.0</td>\n",
       "      <td>3.0</td>\n",
       "      <td>0</td>\n",
       "    </tr>\n",
       "    <tr>\n",
       "      <th>u0013</th>\n",
       "      <td>31.0</td>\n",
       "      <td>0.000000</td>\n",
       "      <td>0.0</td>\n",
       "      <td>7.5</td>\n",
       "      <td>3.0</td>\n",
       "      <td>2.0</td>\n",
       "      <td>2.0</td>\n",
       "      <td>2.0</td>\n",
       "      <td>0</td>\n",
       "    </tr>\n",
       "  </tbody>\n",
       "</table>\n",
       "</div>"
      ],
      "text/plain": [
       "       weekly_alcohol  weekday_weekend_alcohol  before_workday_alcohol  \\\n",
       "u0001            35.0                 0.000000                     0.0   \n",
       "u0002             0.0                 0.000000                     0.0   \n",
       "u0003            14.0                 0.000000                     0.0   \n",
       "u0004             4.0                 0.333333                     0.0   \n",
       "u0006             0.0                 0.000000                     0.0   \n",
       "u0007            13.0                 0.000000                     0.0   \n",
       "u0008            37.0                 0.156250                     0.0   \n",
       "u0009             2.0                 1.000000                     0.0   \n",
       "u0010             0.0                 0.000000                     0.0   \n",
       "u0011            32.0                15.000000                     0.0   \n",
       "u0012            21.0                 0.750000                     1.0   \n",
       "u0013            31.0                 0.000000                     0.0   \n",
       "\n",
       "       times_drunk_last_30_days_alcohol  binge_5_alcohol  binge_10_alcohol  \\\n",
       "u0001                               3.0              2.0               1.0   \n",
       "u0002                               1.0              0.0               1.0   \n",
       "u0003                               2.0              2.0               2.0   \n",
       "u0004                               1.0              1.0               1.0   \n",
       "u0006                               1.0              1.0               0.0   \n",
       "u0007                               3.0              3.0               2.0   \n",
       "u0008                               7.5              4.0               2.0   \n",
       "u0009                               2.0              1.0               1.0   \n",
       "u0010                               4.5              4.0               3.0   \n",
       "u0011                               7.5              5.0               5.0   \n",
       "u0012                               7.5              3.0               1.0   \n",
       "u0013                               7.5              3.0               2.0   \n",
       "\n",
       "       times_very_drunk_alcohol  alcohol_weekend_alcohol  gender  \n",
       "u0001                       1.0                      3.0       0  \n",
       "u0002                       0.0                      1.0       0  \n",
       "u0003                       2.0                      3.0       0  \n",
       "u0004                       1.0                      1.0       0  \n",
       "u0006                       0.0                      1.0       1  \n",
       "u0007                       2.0                      3.0       0  \n",
       "u0008                       2.0                      3.0       1  \n",
       "u0009                       1.0                      1.0       0  \n",
       "u0010                       2.0                      1.0       0  \n",
       "u0011                       6.0                      6.0       0  \n",
       "u0012                       1.0                      3.0       0  \n",
       "u0013                       2.0                      2.0       0  "
      ]
     },
     "execution_count": 19,
     "metadata": {},
     "output_type": "execute_result"
    }
   ],
   "source": [
    "fs.head(12)"
   ]
  },
  {
   "cell_type": "code",
   "execution_count": 20,
   "metadata": {},
   "outputs": [
    {
     "data": {
      "text/html": [
       "<h3><i>Question:</i>  At ryge cigaretter dagligt?</h3>"
      ],
      "text/plain": [
       "<IPython.core.display.HTML object>"
      ]
     },
     "metadata": {},
     "output_type": "display_data"
    },
    {
     "data": {
      "text/html": [
       "<i>Question str:</i>    <tt>smoke_daily</tt>"
      ],
      "text/plain": [
       "<IPython.core.display.HTML object>"
      ]
     },
     "metadata": {},
     "output_type": "display_data"
    },
    {
     "data": {
      "text/html": [
       "<i>Answer type:</i>    <tt>radio</tt>"
      ],
      "text/plain": [
       "<IPython.core.display.HTML object>"
      ]
     },
     "metadata": {},
     "output_type": "display_data"
    },
    {
     "data": {
      "text/html": [
       "<div>\n",
       "<style scoped>\n",
       "    .dataframe tbody tr th:only-of-type {\n",
       "        vertical-align: middle;\n",
       "    }\n",
       "\n",
       "    .dataframe tbody tr th {\n",
       "        vertical-align: top;\n",
       "    }\n",
       "\n",
       "    .dataframe thead th {\n",
       "        text-align: right;\n",
       "    }\n",
       "</style>\n",
       "<table border=\"1\" class=\"dataframe\">\n",
       "  <thead>\n",
       "    <tr style=\"text-align: right;\">\n",
       "      <th></th>\n",
       "      <th>response_index</th>\n",
       "      <th>answer_index</th>\n",
       "      <th>count</th>\n",
       "    </tr>\n",
       "  </thead>\n",
       "  <tbody>\n",
       "    <tr>\n",
       "      <th>0</th>\n",
       "      <td>12 år</td>\n",
       "      <td>3.0</td>\n",
       "      <td>2</td>\n",
       "    </tr>\n",
       "    <tr>\n",
       "      <th>1</th>\n",
       "      <td>13 år</td>\n",
       "      <td>4.0</td>\n",
       "      <td>3</td>\n",
       "    </tr>\n",
       "    <tr>\n",
       "      <th>2</th>\n",
       "      <td>14 år</td>\n",
       "      <td>5.0</td>\n",
       "      <td>5</td>\n",
       "    </tr>\n",
       "    <tr>\n",
       "      <th>3</th>\n",
       "      <td>15 år</td>\n",
       "      <td>6.0</td>\n",
       "      <td>9</td>\n",
       "    </tr>\n",
       "    <tr>\n",
       "      <th>4</th>\n",
       "      <td>16 eller mere</td>\n",
       "      <td>7.0</td>\n",
       "      <td>44</td>\n",
       "    </tr>\n",
       "  </tbody>\n",
       "</table>\n",
       "</div>"
      ],
      "text/plain": [
       "  response_index  answer_index  count\n",
       "0          12 år           3.0      2\n",
       "1          13 år           4.0      3\n",
       "2          14 år           5.0      5\n",
       "3          15 år           6.0      9\n",
       "4  16 eller mere           7.0     44"
      ]
     },
     "metadata": {},
     "output_type": "display_data"
    }
   ],
   "source": [
    "misc.questionSummary(qdf, q.smoke_daily)"
   ]
  },
  {
   "cell_type": "code",
   "execution_count": 21,
   "metadata": {},
   "outputs": [
    {
     "data": {
      "text/html": [
       "<h3><i>Question:</i>  At ryge din første cigaret?</h3>"
      ],
      "text/plain": [
       "<IPython.core.display.HTML object>"
      ]
     },
     "metadata": {},
     "output_type": "display_data"
    },
    {
     "data": {
      "text/html": [
       "<i>Question str:</i>    <tt>smoke_first_cigarette</tt>"
      ],
      "text/plain": [
       "<IPython.core.display.HTML object>"
      ]
     },
     "metadata": {},
     "output_type": "display_data"
    },
    {
     "data": {
      "text/html": [
       "<i>Answer type:</i>    <tt>radio</tt>"
      ],
      "text/plain": [
       "<IPython.core.display.HTML object>"
      ]
     },
     "metadata": {},
     "output_type": "display_data"
    },
    {
     "data": {
      "text/html": [
       "<div>\n",
       "<style scoped>\n",
       "    .dataframe tbody tr th:only-of-type {\n",
       "        vertical-align: middle;\n",
       "    }\n",
       "\n",
       "    .dataframe tbody tr th {\n",
       "        vertical-align: top;\n",
       "    }\n",
       "\n",
       "    .dataframe thead th {\n",
       "        text-align: right;\n",
       "    }\n",
       "</style>\n",
       "<table border=\"1\" class=\"dataframe\">\n",
       "  <thead>\n",
       "    <tr style=\"text-align: right;\">\n",
       "      <th></th>\n",
       "      <th>response_index</th>\n",
       "      <th>answer_index</th>\n",
       "      <th>count</th>\n",
       "    </tr>\n",
       "  </thead>\n",
       "  <tbody>\n",
       "    <tr>\n",
       "      <th>0</th>\n",
       "      <td>9 år eller yngre</td>\n",
       "      <td>0.0</td>\n",
       "      <td>6</td>\n",
       "    </tr>\n",
       "    <tr>\n",
       "      <th>1</th>\n",
       "      <td>11 år</td>\n",
       "      <td>1.0</td>\n",
       "      <td>4</td>\n",
       "    </tr>\n",
       "    <tr>\n",
       "      <th>2</th>\n",
       "      <td>10 år</td>\n",
       "      <td>2.0</td>\n",
       "      <td>4</td>\n",
       "    </tr>\n",
       "    <tr>\n",
       "      <th>3</th>\n",
       "      <td>12 år</td>\n",
       "      <td>3.0</td>\n",
       "      <td>14</td>\n",
       "    </tr>\n",
       "    <tr>\n",
       "      <th>4</th>\n",
       "      <td>13 år</td>\n",
       "      <td>4.0</td>\n",
       "      <td>27</td>\n",
       "    </tr>\n",
       "    <tr>\n",
       "      <th>5</th>\n",
       "      <td>14 år</td>\n",
       "      <td>5.0</td>\n",
       "      <td>65</td>\n",
       "    </tr>\n",
       "    <tr>\n",
       "      <th>6</th>\n",
       "      <td>15 år</td>\n",
       "      <td>6.0</td>\n",
       "      <td>60</td>\n",
       "    </tr>\n",
       "    <tr>\n",
       "      <th>7</th>\n",
       "      <td>16 eller mere</td>\n",
       "      <td>7.0</td>\n",
       "      <td>104</td>\n",
       "    </tr>\n",
       "  </tbody>\n",
       "</table>\n",
       "</div>"
      ],
      "text/plain": [
       "     response_index  answer_index  count\n",
       "0  9 år eller yngre           0.0      6\n",
       "1             11 år           1.0      4\n",
       "2             10 år           2.0      4\n",
       "3             12 år           3.0     14\n",
       "4             13 år           4.0     27\n",
       "5             14 år           5.0     65\n",
       "6             15 år           6.0     60\n",
       "7     16 eller mere           7.0    104"
      ]
     },
     "metadata": {},
     "output_type": "display_data"
    }
   ],
   "source": [
    "misc.questionSummary(qdf, q.smoke_first_cigarette)"
   ]
  },
  {
   "cell_type": "code",
   "execution_count": 22,
   "metadata": {},
   "outputs": [],
   "source": [
    "fs['frequent_smoke'] = qdf.smoke_freq__answer.replace({0:3, 1:2, 2:1, 3:0})"
   ]
  },
  {
   "cell_type": "code",
   "execution_count": 27,
   "metadata": {},
   "outputs": [
    {
     "data": {
      "text/html": [
       "<h3><i>Question:</i>  Ryger du?</h3>"
      ],
      "text/plain": [
       "<IPython.core.display.HTML object>"
      ]
     },
     "metadata": {},
     "output_type": "display_data"
    },
    {
     "data": {
      "text/html": [
       "<i>Question str:</i>    <tt>smoke_freq</tt>"
      ],
      "text/plain": [
       "<IPython.core.display.HTML object>"
      ]
     },
     "metadata": {},
     "output_type": "display_data"
    },
    {
     "data": {
      "text/html": [
       "<i>Answer type:</i>    <tt>radio</tt>"
      ],
      "text/plain": [
       "<IPython.core.display.HTML object>"
      ]
     },
     "metadata": {},
     "output_type": "display_data"
    },
    {
     "data": {
      "text/html": [
       "<div>\n",
       "<style scoped>\n",
       "    .dataframe tbody tr th:only-of-type {\n",
       "        vertical-align: middle;\n",
       "    }\n",
       "\n",
       "    .dataframe tbody tr th {\n",
       "        vertical-align: top;\n",
       "    }\n",
       "\n",
       "    .dataframe thead th {\n",
       "        text-align: right;\n",
       "    }\n",
       "</style>\n",
       "<table border=\"1\" class=\"dataframe\">\n",
       "  <thead>\n",
       "    <tr style=\"text-align: right;\">\n",
       "      <th></th>\n",
       "      <th>response_index</th>\n",
       "      <th>answer_index</th>\n",
       "      <th>count</th>\n",
       "    </tr>\n",
       "  </thead>\n",
       "  <tbody>\n",
       "    <tr>\n",
       "      <th>0</th>\n",
       "      <td>Ja, dagligt</td>\n",
       "      <td>0.0</td>\n",
       "      <td>63</td>\n",
       "    </tr>\n",
       "    <tr>\n",
       "      <th>1</th>\n",
       "      <td>Ja, men ikke dagligt</td>\n",
       "      <td>1.0</td>\n",
       "      <td>98</td>\n",
       "    </tr>\n",
       "    <tr>\n",
       "      <th>2</th>\n",
       "      <td>Nej, men jeg har røget tidligere</td>\n",
       "      <td>2.0</td>\n",
       "      <td>121</td>\n",
       "    </tr>\n",
       "    <tr>\n",
       "      <th>3</th>\n",
       "      <td>Nej, jeg har aldrig røget</td>\n",
       "      <td>3.0</td>\n",
       "      <td>654</td>\n",
       "    </tr>\n",
       "  </tbody>\n",
       "</table>\n",
       "</div>"
      ],
      "text/plain": [
       "                     response_index  answer_index  count\n",
       "0                       Ja, dagligt           0.0     63\n",
       "1              Ja, men ikke dagligt           1.0     98\n",
       "2  Nej, men jeg har røget tidligere           2.0    121\n",
       "3         Nej, jeg har aldrig røget           3.0    654"
      ]
     },
     "metadata": {},
     "output_type": "display_data"
    }
   ],
   "source": [
    "misc.questionSummary(qdf, q.smoke_freq)"
   ]
  },
  {
   "cell_type": "markdown",
   "metadata": {},
   "source": [
    "Collapse `volume_smoke` into bins 0, 1, 2 and 3."
   ]
  },
  {
   "cell_type": "code",
   "execution_count": 99,
   "metadata": {},
   "outputs": [
    {
     "data": {
      "text/html": [
       "<h3><i>Question:</i>  </h3>"
      ],
      "text/plain": [
       "<IPython.core.display.HTML object>"
      ]
     },
     "metadata": {},
     "output_type": "display_data"
    },
    {
     "data": {
      "text/html": [
       "<i>Question str:</i>    <tt>smoke_volume_cigarette</tt>"
      ],
      "text/plain": [
       "<IPython.core.display.HTML object>"
      ]
     },
     "metadata": {},
     "output_type": "display_data"
    },
    {
     "data": {
      "text/html": [
       "<i>Answer type:</i>    <tt>number</tt>"
      ],
      "text/plain": [
       "<IPython.core.display.HTML object>"
      ]
     },
     "metadata": {},
     "output_type": "display_data"
    },
    {
     "data": {
      "text/html": [
       "<div>\n",
       "<style scoped>\n",
       "    .dataframe tbody tr th:only-of-type {\n",
       "        vertical-align: middle;\n",
       "    }\n",
       "\n",
       "    .dataframe tbody tr th {\n",
       "        vertical-align: top;\n",
       "    }\n",
       "\n",
       "    .dataframe thead th {\n",
       "        text-align: right;\n",
       "    }\n",
       "</style>\n",
       "<table border=\"1\" class=\"dataframe\">\n",
       "  <thead>\n",
       "    <tr style=\"text-align: right;\">\n",
       "      <th></th>\n",
       "      <th>response_index</th>\n",
       "      <th>answer_index</th>\n",
       "      <th>count</th>\n",
       "    </tr>\n",
       "  </thead>\n",
       "  <tbody>\n",
       "    <tr>\n",
       "      <th>0</th>\n",
       "      <td>0.0</td>\n",
       "      <td>0.0</td>\n",
       "      <td>1</td>\n",
       "    </tr>\n",
       "    <tr>\n",
       "      <th>1</th>\n",
       "      <td>2.0</td>\n",
       "      <td>2.0</td>\n",
       "      <td>2</td>\n",
       "    </tr>\n",
       "    <tr>\n",
       "      <th>2</th>\n",
       "      <td>3.0</td>\n",
       "      <td>3.0</td>\n",
       "      <td>3</td>\n",
       "    </tr>\n",
       "    <tr>\n",
       "      <th>3</th>\n",
       "      <td>5.0</td>\n",
       "      <td>5.0</td>\n",
       "      <td>11</td>\n",
       "    </tr>\n",
       "    <tr>\n",
       "      <th>4</th>\n",
       "      <td>6.0</td>\n",
       "      <td>6.0</td>\n",
       "      <td>3</td>\n",
       "    </tr>\n",
       "    <tr>\n",
       "      <th>5</th>\n",
       "      <td>7.0</td>\n",
       "      <td>7.0</td>\n",
       "      <td>2</td>\n",
       "    </tr>\n",
       "    <tr>\n",
       "      <th>6</th>\n",
       "      <td>8.0</td>\n",
       "      <td>8.0</td>\n",
       "      <td>4</td>\n",
       "    </tr>\n",
       "    <tr>\n",
       "      <th>7</th>\n",
       "      <td>9.0</td>\n",
       "      <td>9.0</td>\n",
       "      <td>1</td>\n",
       "    </tr>\n",
       "    <tr>\n",
       "      <th>8</th>\n",
       "      <td>10.0</td>\n",
       "      <td>10.0</td>\n",
       "      <td>13</td>\n",
       "    </tr>\n",
       "    <tr>\n",
       "      <th>9</th>\n",
       "      <td>12.0</td>\n",
       "      <td>12.0</td>\n",
       "      <td>1</td>\n",
       "    </tr>\n",
       "    <tr>\n",
       "      <th>10</th>\n",
       "      <td>13.0</td>\n",
       "      <td>13.0</td>\n",
       "      <td>1</td>\n",
       "    </tr>\n",
       "    <tr>\n",
       "      <th>11</th>\n",
       "      <td>14.0</td>\n",
       "      <td>14.0</td>\n",
       "      <td>1</td>\n",
       "    </tr>\n",
       "    <tr>\n",
       "      <th>12</th>\n",
       "      <td>15.0</td>\n",
       "      <td>15.0</td>\n",
       "      <td>10</td>\n",
       "    </tr>\n",
       "    <tr>\n",
       "      <th>13</th>\n",
       "      <td>16.0</td>\n",
       "      <td>16.0</td>\n",
       "      <td>1</td>\n",
       "    </tr>\n",
       "    <tr>\n",
       "      <th>14</th>\n",
       "      <td>17.0</td>\n",
       "      <td>17.0</td>\n",
       "      <td>1</td>\n",
       "    </tr>\n",
       "    <tr>\n",
       "      <th>15</th>\n",
       "      <td>18.0</td>\n",
       "      <td>18.0</td>\n",
       "      <td>2</td>\n",
       "    </tr>\n",
       "    <tr>\n",
       "      <th>16</th>\n",
       "      <td>20.0</td>\n",
       "      <td>20.0</td>\n",
       "      <td>6</td>\n",
       "    </tr>\n",
       "  </tbody>\n",
       "</table>\n",
       "</div>"
      ],
      "text/plain": [
       "    response_index  answer_index  count\n",
       "0              0.0           0.0      1\n",
       "1              2.0           2.0      2\n",
       "2              3.0           3.0      3\n",
       "3              5.0           5.0     11\n",
       "4              6.0           6.0      3\n",
       "5              7.0           7.0      2\n",
       "6              8.0           8.0      4\n",
       "7              9.0           9.0      1\n",
       "8             10.0          10.0     13\n",
       "9             12.0          12.0      1\n",
       "10            13.0          13.0      1\n",
       "11            14.0          14.0      1\n",
       "12            15.0          15.0     10\n",
       "13            16.0          16.0      1\n",
       "14            17.0          17.0      1\n",
       "15            18.0          18.0      2\n",
       "16            20.0          20.0      6"
      ]
     },
     "metadata": {},
     "output_type": "display_data"
    }
   ],
   "source": [
    "misc.questionSummary(qdf, q.smoke_volume_cigarette)"
   ]
  },
  {
   "cell_type": "code",
   "execution_count": 101,
   "metadata": {},
   "outputs": [],
   "source": [
    "volume_smoke = qdf.filter(regex=r'smoke_volume_\\w+__answer$').fillna(0).sum(axis=1)"
   ]
  },
  {
   "cell_type": "code",
   "execution_count": 104,
   "metadata": {},
   "outputs": [
    {
     "data": {
      "text/plain": [
       "4    5\n",
       "3    5\n",
       "2    5\n",
       "1    5\n",
       "0    1\n",
       "dtype: int64"
      ]
     },
     "execution_count": 104,
     "metadata": {},
     "output_type": "execute_result"
    }
   ],
   "source": [
    "pd.value_counts((np.ceil((np.arange(0, 21)-0.5) / 5)).astype(np.int)) "
   ]
  },
  {
   "cell_type": "code",
   "execution_count": 105,
   "metadata": {},
   "outputs": [],
   "source": [
    "fs['volume_smoke'] = volume_smoke.replace({x: (np.ceil(x - 0.5)/5).astype(int) for x in range(21)}) "
   ]
  },
  {
   "cell_type": "code",
   "execution_count": 96,
   "metadata": {},
   "outputs": [
    {
     "data": {
      "text/html": [
       "<div>\n",
       "<style scoped>\n",
       "    .dataframe tbody tr th:only-of-type {\n",
       "        vertical-align: middle;\n",
       "    }\n",
       "\n",
       "    .dataframe tbody tr th {\n",
       "        vertical-align: top;\n",
       "    }\n",
       "\n",
       "    .dataframe thead th {\n",
       "        text-align: right;\n",
       "    }\n",
       "</style>\n",
       "<table border=\"1\" class=\"dataframe\">\n",
       "  <thead>\n",
       "    <tr style=\"text-align: right;\">\n",
       "      <th></th>\n",
       "      <th>weekly_alcohol</th>\n",
       "      <th>weekday_weekend_alcohol</th>\n",
       "      <th>before_workday_alcohol</th>\n",
       "      <th>times_drunk_last_30_days_alcohol</th>\n",
       "      <th>binge_5_alcohol</th>\n",
       "      <th>binge_10_alcohol</th>\n",
       "      <th>times_very_drunk_alcohol</th>\n",
       "      <th>alcohol_weekend_alcohol</th>\n",
       "      <th>gender</th>\n",
       "      <th>frequent_smoke</th>\n",
       "      <th>volume_smoke</th>\n",
       "    </tr>\n",
       "  </thead>\n",
       "  <tbody>\n",
       "    <tr>\n",
       "      <th>u0001</th>\n",
       "      <td>35.0</td>\n",
       "      <td>0.000000</td>\n",
       "      <td>0.0</td>\n",
       "      <td>3.0</td>\n",
       "      <td>2.0</td>\n",
       "      <td>1.0</td>\n",
       "      <td>1.0</td>\n",
       "      <td>3.0</td>\n",
       "      <td>0</td>\n",
       "      <td>1.0</td>\n",
       "      <td>0.0</td>\n",
       "    </tr>\n",
       "    <tr>\n",
       "      <th>u0002</th>\n",
       "      <td>0.0</td>\n",
       "      <td>0.000000</td>\n",
       "      <td>0.0</td>\n",
       "      <td>1.0</td>\n",
       "      <td>0.0</td>\n",
       "      <td>1.0</td>\n",
       "      <td>0.0</td>\n",
       "      <td>1.0</td>\n",
       "      <td>0</td>\n",
       "      <td>3.0</td>\n",
       "      <td>4.0</td>\n",
       "    </tr>\n",
       "    <tr>\n",
       "      <th>u0003</th>\n",
       "      <td>14.0</td>\n",
       "      <td>0.000000</td>\n",
       "      <td>0.0</td>\n",
       "      <td>2.0</td>\n",
       "      <td>2.0</td>\n",
       "      <td>2.0</td>\n",
       "      <td>2.0</td>\n",
       "      <td>3.0</td>\n",
       "      <td>0</td>\n",
       "      <td>0.0</td>\n",
       "      <td>0.0</td>\n",
       "    </tr>\n",
       "    <tr>\n",
       "      <th>u0004</th>\n",
       "      <td>4.0</td>\n",
       "      <td>0.333333</td>\n",
       "      <td>0.0</td>\n",
       "      <td>1.0</td>\n",
       "      <td>1.0</td>\n",
       "      <td>1.0</td>\n",
       "      <td>1.0</td>\n",
       "      <td>1.0</td>\n",
       "      <td>0</td>\n",
       "      <td>0.0</td>\n",
       "      <td>0.0</td>\n",
       "    </tr>\n",
       "    <tr>\n",
       "      <th>u0006</th>\n",
       "      <td>0.0</td>\n",
       "      <td>0.000000</td>\n",
       "      <td>0.0</td>\n",
       "      <td>1.0</td>\n",
       "      <td>1.0</td>\n",
       "      <td>0.0</td>\n",
       "      <td>0.0</td>\n",
       "      <td>1.0</td>\n",
       "      <td>1</td>\n",
       "      <td>0.0</td>\n",
       "      <td>0.0</td>\n",
       "    </tr>\n",
       "    <tr>\n",
       "      <th>u0007</th>\n",
       "      <td>13.0</td>\n",
       "      <td>0.000000</td>\n",
       "      <td>0.0</td>\n",
       "      <td>3.0</td>\n",
       "      <td>3.0</td>\n",
       "      <td>2.0</td>\n",
       "      <td>2.0</td>\n",
       "      <td>3.0</td>\n",
       "      <td>0</td>\n",
       "      <td>0.0</td>\n",
       "      <td>0.0</td>\n",
       "    </tr>\n",
       "    <tr>\n",
       "      <th>u0008</th>\n",
       "      <td>37.0</td>\n",
       "      <td>0.156250</td>\n",
       "      <td>0.0</td>\n",
       "      <td>7.5</td>\n",
       "      <td>4.0</td>\n",
       "      <td>2.0</td>\n",
       "      <td>2.0</td>\n",
       "      <td>3.0</td>\n",
       "      <td>1</td>\n",
       "      <td>2.0</td>\n",
       "      <td>0.0</td>\n",
       "    </tr>\n",
       "    <tr>\n",
       "      <th>u0009</th>\n",
       "      <td>2.0</td>\n",
       "      <td>1.000000</td>\n",
       "      <td>0.0</td>\n",
       "      <td>2.0</td>\n",
       "      <td>1.0</td>\n",
       "      <td>1.0</td>\n",
       "      <td>1.0</td>\n",
       "      <td>1.0</td>\n",
       "      <td>0</td>\n",
       "      <td>2.0</td>\n",
       "      <td>0.0</td>\n",
       "    </tr>\n",
       "    <tr>\n",
       "      <th>u0010</th>\n",
       "      <td>0.0</td>\n",
       "      <td>0.000000</td>\n",
       "      <td>0.0</td>\n",
       "      <td>4.5</td>\n",
       "      <td>4.0</td>\n",
       "      <td>3.0</td>\n",
       "      <td>2.0</td>\n",
       "      <td>1.0</td>\n",
       "      <td>0</td>\n",
       "      <td>0.0</td>\n",
       "      <td>0.0</td>\n",
       "    </tr>\n",
       "    <tr>\n",
       "      <th>u0011</th>\n",
       "      <td>32.0</td>\n",
       "      <td>15.000000</td>\n",
       "      <td>0.0</td>\n",
       "      <td>7.5</td>\n",
       "      <td>5.0</td>\n",
       "      <td>5.0</td>\n",
       "      <td>6.0</td>\n",
       "      <td>6.0</td>\n",
       "      <td>0</td>\n",
       "      <td>2.0</td>\n",
       "      <td>0.0</td>\n",
       "    </tr>\n",
       "    <tr>\n",
       "      <th>u0012</th>\n",
       "      <td>21.0</td>\n",
       "      <td>0.750000</td>\n",
       "      <td>1.0</td>\n",
       "      <td>7.5</td>\n",
       "      <td>3.0</td>\n",
       "      <td>1.0</td>\n",
       "      <td>1.0</td>\n",
       "      <td>3.0</td>\n",
       "      <td>0</td>\n",
       "      <td>3.0</td>\n",
       "      <td>2.0</td>\n",
       "    </tr>\n",
       "    <tr>\n",
       "      <th>u0013</th>\n",
       "      <td>31.0</td>\n",
       "      <td>0.000000</td>\n",
       "      <td>0.0</td>\n",
       "      <td>7.5</td>\n",
       "      <td>3.0</td>\n",
       "      <td>2.0</td>\n",
       "      <td>2.0</td>\n",
       "      <td>2.0</td>\n",
       "      <td>0</td>\n",
       "      <td>0.0</td>\n",
       "      <td>0.0</td>\n",
       "    </tr>\n",
       "  </tbody>\n",
       "</table>\n",
       "</div>"
      ],
      "text/plain": [
       "       weekly_alcohol  weekday_weekend_alcohol  before_workday_alcohol  \\\n",
       "u0001            35.0                 0.000000                     0.0   \n",
       "u0002             0.0                 0.000000                     0.0   \n",
       "u0003            14.0                 0.000000                     0.0   \n",
       "u0004             4.0                 0.333333                     0.0   \n",
       "u0006             0.0                 0.000000                     0.0   \n",
       "u0007            13.0                 0.000000                     0.0   \n",
       "u0008            37.0                 0.156250                     0.0   \n",
       "u0009             2.0                 1.000000                     0.0   \n",
       "u0010             0.0                 0.000000                     0.0   \n",
       "u0011            32.0                15.000000                     0.0   \n",
       "u0012            21.0                 0.750000                     1.0   \n",
       "u0013            31.0                 0.000000                     0.0   \n",
       "\n",
       "       times_drunk_last_30_days_alcohol  binge_5_alcohol  binge_10_alcohol  \\\n",
       "u0001                               3.0              2.0               1.0   \n",
       "u0002                               1.0              0.0               1.0   \n",
       "u0003                               2.0              2.0               2.0   \n",
       "u0004                               1.0              1.0               1.0   \n",
       "u0006                               1.0              1.0               0.0   \n",
       "u0007                               3.0              3.0               2.0   \n",
       "u0008                               7.5              4.0               2.0   \n",
       "u0009                               2.0              1.0               1.0   \n",
       "u0010                               4.5              4.0               3.0   \n",
       "u0011                               7.5              5.0               5.0   \n",
       "u0012                               7.5              3.0               1.0   \n",
       "u0013                               7.5              3.0               2.0   \n",
       "\n",
       "       times_very_drunk_alcohol  alcohol_weekend_alcohol  gender  \\\n",
       "u0001                       1.0                      3.0       0   \n",
       "u0002                       0.0                      1.0       0   \n",
       "u0003                       2.0                      3.0       0   \n",
       "u0004                       1.0                      1.0       0   \n",
       "u0006                       0.0                      1.0       1   \n",
       "u0007                       2.0                      3.0       0   \n",
       "u0008                       2.0                      3.0       1   \n",
       "u0009                       1.0                      1.0       0   \n",
       "u0010                       2.0                      1.0       0   \n",
       "u0011                       6.0                      6.0       0   \n",
       "u0012                       1.0                      3.0       0   \n",
       "u0013                       2.0                      2.0       0   \n",
       "\n",
       "       frequent_smoke  volume_smoke  \n",
       "u0001             1.0           0.0  \n",
       "u0002             3.0           4.0  \n",
       "u0003             0.0           0.0  \n",
       "u0004             0.0           0.0  \n",
       "u0006             0.0           0.0  \n",
       "u0007             0.0           0.0  \n",
       "u0008             2.0           0.0  \n",
       "u0009             2.0           0.0  \n",
       "u0010             0.0           0.0  \n",
       "u0011             2.0           0.0  \n",
       "u0012             3.0           2.0  \n",
       "u0013             0.0           0.0  "
      ]
     },
     "execution_count": 96,
     "metadata": {},
     "output_type": "execute_result"
    }
   ],
   "source": [
    "fs.head(12) "
   ]
  },
  {
   "cell_type": "code",
   "execution_count": 23,
   "metadata": {},
   "outputs": [
    {
     "data": {
      "text/html": [
       "<h3><i>Question:</i>  I forbindelse med møde af nye studiekammerater, betyder det noget for et evt. venskab og samarbejde, at personen er fagligt kompetent, dvs. at han/hun er dygtig og/eller er hårdtarbejdende?<br> Mine studiekammeraters faglighed er:</h3>"
      ],
      "text/plain": [
       "<IPython.core.display.HTML object>"
      ]
     },
     "metadata": {},
     "output_type": "display_data"
    },
    {
     "data": {
      "text/html": [
       "<i>Question str:</i>    <tt>homophily_competent</tt>"
      ],
      "text/plain": [
       "<IPython.core.display.HTML object>"
      ]
     },
     "metadata": {},
     "output_type": "display_data"
    },
    {
     "data": {
      "text/html": [
       "<i>Answer type:</i>    <tt>radio</tt>"
      ],
      "text/plain": [
       "<IPython.core.display.HTML object>"
      ]
     },
     "metadata": {},
     "output_type": "display_data"
    },
    {
     "data": {
      "text/html": [
       "<div>\n",
       "<table border=\"1\" class=\"dataframe\">\n",
       "  <thead>\n",
       "    <tr style=\"text-align: right;\">\n",
       "      <th></th>\n",
       "      <th>response_index</th>\n",
       "      <th>answer_index</th>\n",
       "      <th>count</th>\n",
       "    </tr>\n",
       "  </thead>\n",
       "  <tbody>\n",
       "    <tr>\n",
       "      <th>0</th>\n",
       "      <td>meget vigtig for mig</td>\n",
       "      <td>0.0</td>\n",
       "      <td>66</td>\n",
       "    </tr>\n",
       "    <tr>\n",
       "      <th>1</th>\n",
       "      <td>vigtig for mig</td>\n",
       "      <td>1.0</td>\n",
       "      <td>487</td>\n",
       "    </tr>\n",
       "    <tr>\n",
       "      <th>2</th>\n",
       "      <td>ikke så vigtig for mig</td>\n",
       "      <td>2.0</td>\n",
       "      <td>298</td>\n",
       "    </tr>\n",
       "    <tr>\n",
       "      <th>3</th>\n",
       "      <td>er ligegyldig</td>\n",
       "      <td>3.0</td>\n",
       "      <td>48</td>\n",
       "    </tr>\n",
       "    <tr>\n",
       "      <th>4</th>\n",
       "      <td>ved ikke</td>\n",
       "      <td>4.0</td>\n",
       "      <td>9</td>\n",
       "    </tr>\n",
       "  </tbody>\n",
       "</table>\n",
       "</div>"
      ],
      "text/plain": [
       "           response_index  answer_index  count\n",
       "0    meget vigtig for mig           0.0     66\n",
       "1          vigtig for mig           1.0    487\n",
       "2  ikke så vigtig for mig           2.0    298\n",
       "3           er ligegyldig           3.0     48\n",
       "4                ved ikke           4.0      9"
      ]
     },
     "metadata": {},
     "output_type": "display_data"
    }
   ],
   "source": [
    "misc.questionSummary(qdf, q.homophily_competent) "
   ]
  },
  {
   "cell_type": "code",
   "execution_count": 107,
   "metadata": {},
   "outputs": [
    {
     "data": {
      "text/plain": [
       "array([\"smoke_freq=='Ja, dagligt'\"], dtype=object)"
      ]
     },
     "execution_count": 107,
     "metadata": {},
     "output_type": "execute_result"
    }
   ],
   "source": [
    "qdf.smoke_volume_cigarette__condition.unique() "
   ]
  },
  {
   "cell_type": "markdown",
   "metadata": {},
   "source": [
    "Combine \"ved ikke\" and \"er ligegyldigt\"."
   ]
  },
  {
   "cell_type": "code",
   "execution_count": 108,
   "metadata": {},
   "outputs": [
    {
     "data": {
      "text/html": [
       "<h3><i>Question:</i>  I forbindelse med møde af nye studiekammerater, betyder det noget for et evt. venskab og samarbejde, at personen er fagligt kompetent, dvs. at han/hun er dygtig og/eller er hårdtarbejdende?<br> Mine studiekammeraters faglighed er:</h3>"
      ],
      "text/plain": [
       "<IPython.core.display.HTML object>"
      ]
     },
     "metadata": {},
     "output_type": "display_data"
    },
    {
     "data": {
      "text/html": [
       "<i>Question str:</i>    <tt>homophily_competent</tt>"
      ],
      "text/plain": [
       "<IPython.core.display.HTML object>"
      ]
     },
     "metadata": {},
     "output_type": "display_data"
    },
    {
     "data": {
      "text/html": [
       "<i>Answer type:</i>    <tt>radio</tt>"
      ],
      "text/plain": [
       "<IPython.core.display.HTML object>"
      ]
     },
     "metadata": {},
     "output_type": "display_data"
    },
    {
     "data": {
      "text/html": [
       "<div>\n",
       "<style scoped>\n",
       "    .dataframe tbody tr th:only-of-type {\n",
       "        vertical-align: middle;\n",
       "    }\n",
       "\n",
       "    .dataframe tbody tr th {\n",
       "        vertical-align: top;\n",
       "    }\n",
       "\n",
       "    .dataframe thead th {\n",
       "        text-align: right;\n",
       "    }\n",
       "</style>\n",
       "<table border=\"1\" class=\"dataframe\">\n",
       "  <thead>\n",
       "    <tr style=\"text-align: right;\">\n",
       "      <th></th>\n",
       "      <th>response_index</th>\n",
       "      <th>answer_index</th>\n",
       "      <th>count</th>\n",
       "    </tr>\n",
       "  </thead>\n",
       "  <tbody>\n",
       "    <tr>\n",
       "      <th>0</th>\n",
       "      <td>meget vigtig for mig</td>\n",
       "      <td>0.0</td>\n",
       "      <td>70</td>\n",
       "    </tr>\n",
       "    <tr>\n",
       "      <th>1</th>\n",
       "      <td>vigtig for mig</td>\n",
       "      <td>1.0</td>\n",
       "      <td>503</td>\n",
       "    </tr>\n",
       "    <tr>\n",
       "      <th>2</th>\n",
       "      <td>ikke så vigtig for mig</td>\n",
       "      <td>2.0</td>\n",
       "      <td>306</td>\n",
       "    </tr>\n",
       "    <tr>\n",
       "      <th>3</th>\n",
       "      <td>er ligegyldig</td>\n",
       "      <td>3.0</td>\n",
       "      <td>48</td>\n",
       "    </tr>\n",
       "    <tr>\n",
       "      <th>4</th>\n",
       "      <td>ved ikke</td>\n",
       "      <td>4.0</td>\n",
       "      <td>9</td>\n",
       "    </tr>\n",
       "  </tbody>\n",
       "</table>\n",
       "</div>"
      ],
      "text/plain": [
       "           response_index  answer_index  count\n",
       "0    meget vigtig for mig           0.0     70\n",
       "1          vigtig for mig           1.0    503\n",
       "2  ikke så vigtig for mig           2.0    306\n",
       "3           er ligegyldig           3.0     48\n",
       "4                ved ikke           4.0      9"
      ]
     },
     "metadata": {},
     "output_type": "display_data"
    }
   ],
   "source": [
    "misc.questionSummary(qdf, q.homophily_competent )"
   ]
  },
  {
   "cell_type": "code",
   "execution_count": 150,
   "metadata": {},
   "outputs": [
    {
     "data": {
      "image/png": "[encoded data removed]",
      "text/plain": [
       "<matplotlib.figure.Figure at 0x7f898cebc7b8>"
      ]
     },
     "metadata": {},
     "output_type": "display_data"
    }
   ],
   "source": [
    "fig, ax = plt.subplots()\n",
    "misc.questionResponse(qdf, q.homophily_competent).plot.bar(ax=ax, color=colorcycle[0]) \n",
    "ax.set_xticklabels([\"Very important\", \"Important\", \"Not important\", \"Doesn't care\", \"Don't know\"])\n",
    "fig.subplots_adjust(bottom=0.35) \n",
    "ax.set_yticks(np.arange(0, 501, 100))\n",
    "fig.savefig('figs/academic_ambition_importance.pdf') "
   ]
  },
  {
   "cell_type": "code",
   "execution_count": 123,
   "metadata": {},
   "outputs": [
    {
     "data": {
      "text/html": [
       "<div>\n",
       "<style scoped>\n",
       "    .dataframe tbody tr th:only-of-type {\n",
       "        vertical-align: middle;\n",
       "    }\n",
       "\n",
       "    .dataframe tbody tr th {\n",
       "        vertical-align: top;\n",
       "    }\n",
       "\n",
       "    .dataframe thead th {\n",
       "        text-align: right;\n",
       "    }\n",
       "</style>\n",
       "<table border=\"1\" class=\"dataframe\">\n",
       "  <thead>\n",
       "    <tr style=\"text-align: right;\">\n",
       "      <th></th>\n",
       "      <th>weekly_alcohol</th>\n",
       "      <th>weekday_weekend_alcohol</th>\n",
       "      <th>before_workday_alcohol</th>\n",
       "      <th>times_drunk_last_30_days_alcohol</th>\n",
       "      <th>binge_5_alcohol</th>\n",
       "      <th>binge_10_alcohol</th>\n",
       "      <th>times_very_drunk_alcohol</th>\n",
       "      <th>alcohol_weekend_alcohol</th>\n",
       "      <th>gender</th>\n",
       "      <th>frequent_smoke</th>\n",
       "      <th>volume_smoke</th>\n",
       "      <th>academic_skills_importance_homophily</th>\n",
       "    </tr>\n",
       "  </thead>\n",
       "  <tbody>\n",
       "    <tr>\n",
       "      <th>u0001</th>\n",
       "      <td>35.0</td>\n",
       "      <td>0.000000</td>\n",
       "      <td>0.0</td>\n",
       "      <td>3.0</td>\n",
       "      <td>2.0</td>\n",
       "      <td>1.0</td>\n",
       "      <td>1.0</td>\n",
       "      <td>3.0</td>\n",
       "      <td>0</td>\n",
       "      <td>1.0</td>\n",
       "      <td>0.0</td>\n",
       "      <td>1.0</td>\n",
       "    </tr>\n",
       "    <tr>\n",
       "      <th>u0002</th>\n",
       "      <td>0.0</td>\n",
       "      <td>0.000000</td>\n",
       "      <td>0.0</td>\n",
       "      <td>1.0</td>\n",
       "      <td>0.0</td>\n",
       "      <td>1.0</td>\n",
       "      <td>0.0</td>\n",
       "      <td>1.0</td>\n",
       "      <td>0</td>\n",
       "      <td>3.0</td>\n",
       "      <td>4.0</td>\n",
       "      <td>1.0</td>\n",
       "    </tr>\n",
       "    <tr>\n",
       "      <th>u0003</th>\n",
       "      <td>14.0</td>\n",
       "      <td>0.000000</td>\n",
       "      <td>0.0</td>\n",
       "      <td>2.0</td>\n",
       "      <td>2.0</td>\n",
       "      <td>2.0</td>\n",
       "      <td>2.0</td>\n",
       "      <td>3.0</td>\n",
       "      <td>0</td>\n",
       "      <td>0.0</td>\n",
       "      <td>0.0</td>\n",
       "      <td>2.0</td>\n",
       "    </tr>\n",
       "    <tr>\n",
       "      <th>u0004</th>\n",
       "      <td>4.0</td>\n",
       "      <td>0.333333</td>\n",
       "      <td>0.0</td>\n",
       "      <td>1.0</td>\n",
       "      <td>1.0</td>\n",
       "      <td>1.0</td>\n",
       "      <td>1.0</td>\n",
       "      <td>1.0</td>\n",
       "      <td>0</td>\n",
       "      <td>0.0</td>\n",
       "      <td>0.0</td>\n",
       "      <td>0.0</td>\n",
       "    </tr>\n",
       "    <tr>\n",
       "      <th>u0006</th>\n",
       "      <td>0.0</td>\n",
       "      <td>0.000000</td>\n",
       "      <td>0.0</td>\n",
       "      <td>1.0</td>\n",
       "      <td>1.0</td>\n",
       "      <td>0.0</td>\n",
       "      <td>0.0</td>\n",
       "      <td>1.0</td>\n",
       "      <td>1</td>\n",
       "      <td>0.0</td>\n",
       "      <td>0.0</td>\n",
       "      <td>1.0</td>\n",
       "    </tr>\n",
       "  </tbody>\n",
       "</table>\n",
       "</div>"
      ],
      "text/plain": [
       "       weekly_alcohol  weekday_weekend_alcohol  before_workday_alcohol  \\\n",
       "u0001            35.0                 0.000000                     0.0   \n",
       "u0002             0.0                 0.000000                     0.0   \n",
       "u0003            14.0                 0.000000                     0.0   \n",
       "u0004             4.0                 0.333333                     0.0   \n",
       "u0006             0.0                 0.000000                     0.0   \n",
       "\n",
       "       times_drunk_last_30_days_alcohol  binge_5_alcohol  binge_10_alcohol  \\\n",
       "u0001                               3.0              2.0               1.0   \n",
       "u0002                               1.0              0.0               1.0   \n",
       "u0003                               2.0              2.0               2.0   \n",
       "u0004                               1.0              1.0               1.0   \n",
       "u0006                               1.0              1.0               0.0   \n",
       "\n",
       "       times_very_drunk_alcohol  alcohol_weekend_alcohol  gender  \\\n",
       "u0001                       1.0                      3.0       0   \n",
       "u0002                       0.0                      1.0       0   \n",
       "u0003                       2.0                      3.0       0   \n",
       "u0004                       1.0                      1.0       0   \n",
       "u0006                       0.0                      1.0       1   \n",
       "\n",
       "       frequent_smoke  volume_smoke  academic_skills_importance_homophily  \n",
       "u0001             1.0           0.0                                   1.0  \n",
       "u0002             3.0           4.0                                   1.0  \n",
       "u0003             0.0           0.0                                   2.0  \n",
       "u0004             0.0           0.0                                   0.0  \n",
       "u0006             0.0           0.0                                   1.0  "
      ]
     },
     "execution_count": 123,
     "metadata": {},
     "output_type": "execute_result"
    }
   ],
   "source": [
    "tmp = qdf.homophily_competent__answer \n",
    "tmp = tmp.replace(4, 3)\n",
    "fs['academic_skills_importance_homophily'] = tmp\n",
    "fs.head() "
   ]
  },
  {
   "cell_type": "code",
   "execution_count": 124,
   "metadata": {},
   "outputs": [
    {
     "data": {
      "text/html": [
       "<h3><i>Question:</i>  Lægger du vægt på, at de studiekammerater du vil omgås med fra DTU, er nogen som du hygger dig med? Muligheden for at hygge mig sammen med mine studiekammerater er:</h3>"
      ],
      "text/plain": [
       "<IPython.core.display.HTML object>"
      ]
     },
     "metadata": {},
     "output_type": "display_data"
    },
    {
     "data": {
      "text/html": [
       "<i>Question str:</i>    <tt>homophily_socialize</tt>"
      ],
      "text/plain": [
       "<IPython.core.display.HTML object>"
      ]
     },
     "metadata": {},
     "output_type": "display_data"
    },
    {
     "data": {
      "text/html": [
       "<i>Answer type:</i>    <tt>radio</tt>"
      ],
      "text/plain": [
       "<IPython.core.display.HTML object>"
      ]
     },
     "metadata": {},
     "output_type": "display_data"
    },
    {
     "data": {
      "text/html": [
       "<div>\n",
       "<style scoped>\n",
       "    .dataframe tbody tr th:only-of-type {\n",
       "        vertical-align: middle;\n",
       "    }\n",
       "\n",
       "    .dataframe tbody tr th {\n",
       "        vertical-align: top;\n",
       "    }\n",
       "\n",
       "    .dataframe thead th {\n",
       "        text-align: right;\n",
       "    }\n",
       "</style>\n",
       "<table border=\"1\" class=\"dataframe\">\n",
       "  <thead>\n",
       "    <tr style=\"text-align: right;\">\n",
       "      <th></th>\n",
       "      <th>response_index</th>\n",
       "      <th>answer_index</th>\n",
       "      <th>count</th>\n",
       "    </tr>\n",
       "  </thead>\n",
       "  <tbody>\n",
       "    <tr>\n",
       "      <th>0</th>\n",
       "      <td>meget vigtig for mig</td>\n",
       "      <td>0.0</td>\n",
       "      <td>445</td>\n",
       "    </tr>\n",
       "    <tr>\n",
       "      <th>1</th>\n",
       "      <td>vigtig for mig</td>\n",
       "      <td>1.0</td>\n",
       "      <td>423</td>\n",
       "    </tr>\n",
       "    <tr>\n",
       "      <th>2</th>\n",
       "      <td>ikke så vigtig for mig</td>\n",
       "      <td>2.0</td>\n",
       "      <td>57</td>\n",
       "    </tr>\n",
       "    <tr>\n",
       "      <th>3</th>\n",
       "      <td>er ligegyldig</td>\n",
       "      <td>3.0</td>\n",
       "      <td>7</td>\n",
       "    </tr>\n",
       "    <tr>\n",
       "      <th>4</th>\n",
       "      <td>ved ikke</td>\n",
       "      <td>4.0</td>\n",
       "      <td>4</td>\n",
       "    </tr>\n",
       "  </tbody>\n",
       "</table>\n",
       "</div>"
      ],
      "text/plain": [
       "           response_index  answer_index  count\n",
       "0    meget vigtig for mig           0.0    445\n",
       "1          vigtig for mig           1.0    423\n",
       "2  ikke så vigtig for mig           2.0     57\n",
       "3           er ligegyldig           3.0      7\n",
       "4                ved ikke           4.0      4"
      ]
     },
     "metadata": {},
     "output_type": "display_data"
    }
   ],
   "source": [
    "misc.questionSummary(qdf, q.homophily_socialize)"
   ]
  },
  {
   "cell_type": "code",
   "execution_count": 125,
   "metadata": {},
   "outputs": [
    {
     "data": {
      "text/html": [
       "<div>\n",
       "<style scoped>\n",
       "    .dataframe tbody tr th:only-of-type {\n",
       "        vertical-align: middle;\n",
       "    }\n",
       "\n",
       "    .dataframe tbody tr th {\n",
       "        vertical-align: top;\n",
       "    }\n",
       "\n",
       "    .dataframe thead th {\n",
       "        text-align: right;\n",
       "    }\n",
       "</style>\n",
       "<table border=\"1\" class=\"dataframe\">\n",
       "  <thead>\n",
       "    <tr style=\"text-align: right;\">\n",
       "      <th></th>\n",
       "      <th>weekly_alcohol</th>\n",
       "      <th>weekday_weekend_alcohol</th>\n",
       "      <th>before_workday_alcohol</th>\n",
       "      <th>times_drunk_last_30_days_alcohol</th>\n",
       "      <th>binge_5_alcohol</th>\n",
       "      <th>binge_10_alcohol</th>\n",
       "      <th>times_very_drunk_alcohol</th>\n",
       "      <th>alcohol_weekend_alcohol</th>\n",
       "      <th>gender</th>\n",
       "      <th>frequent_smoke</th>\n",
       "      <th>volume_smoke</th>\n",
       "      <th>academic_skills_importance_homophily</th>\n",
       "      <th>social_study_friends_homophily</th>\n",
       "    </tr>\n",
       "  </thead>\n",
       "  <tbody>\n",
       "    <tr>\n",
       "      <th>u0001</th>\n",
       "      <td>35.0</td>\n",
       "      <td>0.000000</td>\n",
       "      <td>0.0</td>\n",
       "      <td>3.0</td>\n",
       "      <td>2.0</td>\n",
       "      <td>1.0</td>\n",
       "      <td>1.0</td>\n",
       "      <td>3.0</td>\n",
       "      <td>0</td>\n",
       "      <td>1.0</td>\n",
       "      <td>0.0</td>\n",
       "      <td>1.0</td>\n",
       "      <td>3.0</td>\n",
       "    </tr>\n",
       "    <tr>\n",
       "      <th>u0002</th>\n",
       "      <td>0.0</td>\n",
       "      <td>0.000000</td>\n",
       "      <td>0.0</td>\n",
       "      <td>1.0</td>\n",
       "      <td>0.0</td>\n",
       "      <td>1.0</td>\n",
       "      <td>0.0</td>\n",
       "      <td>1.0</td>\n",
       "      <td>0</td>\n",
       "      <td>3.0</td>\n",
       "      <td>4.0</td>\n",
       "      <td>1.0</td>\n",
       "      <td>2.0</td>\n",
       "    </tr>\n",
       "    <tr>\n",
       "      <th>u0003</th>\n",
       "      <td>14.0</td>\n",
       "      <td>0.000000</td>\n",
       "      <td>0.0</td>\n",
       "      <td>2.0</td>\n",
       "      <td>2.0</td>\n",
       "      <td>2.0</td>\n",
       "      <td>2.0</td>\n",
       "      <td>3.0</td>\n",
       "      <td>0</td>\n",
       "      <td>0.0</td>\n",
       "      <td>0.0</td>\n",
       "      <td>2.0</td>\n",
       "      <td>2.0</td>\n",
       "    </tr>\n",
       "    <tr>\n",
       "      <th>u0004</th>\n",
       "      <td>4.0</td>\n",
       "      <td>0.333333</td>\n",
       "      <td>0.0</td>\n",
       "      <td>1.0</td>\n",
       "      <td>1.0</td>\n",
       "      <td>1.0</td>\n",
       "      <td>1.0</td>\n",
       "      <td>1.0</td>\n",
       "      <td>0</td>\n",
       "      <td>0.0</td>\n",
       "      <td>0.0</td>\n",
       "      <td>0.0</td>\n",
       "      <td>2.0</td>\n",
       "    </tr>\n",
       "    <tr>\n",
       "      <th>u0006</th>\n",
       "      <td>0.0</td>\n",
       "      <td>0.000000</td>\n",
       "      <td>0.0</td>\n",
       "      <td>1.0</td>\n",
       "      <td>1.0</td>\n",
       "      <td>0.0</td>\n",
       "      <td>0.0</td>\n",
       "      <td>1.0</td>\n",
       "      <td>1</td>\n",
       "      <td>0.0</td>\n",
       "      <td>0.0</td>\n",
       "      <td>1.0</td>\n",
       "      <td>2.0</td>\n",
       "    </tr>\n",
       "  </tbody>\n",
       "</table>\n",
       "</div>"
      ],
      "text/plain": [
       "       weekly_alcohol  weekday_weekend_alcohol  before_workday_alcohol  \\\n",
       "u0001            35.0                 0.000000                     0.0   \n",
       "u0002             0.0                 0.000000                     0.0   \n",
       "u0003            14.0                 0.000000                     0.0   \n",
       "u0004             4.0                 0.333333                     0.0   \n",
       "u0006             0.0                 0.000000                     0.0   \n",
       "\n",
       "       times_drunk_last_30_days_alcohol  binge_5_alcohol  binge_10_alcohol  \\\n",
       "u0001                               3.0              2.0               1.0   \n",
       "u0002                               1.0              0.0               1.0   \n",
       "u0003                               2.0              2.0               2.0   \n",
       "u0004                               1.0              1.0               1.0   \n",
       "u0006                               1.0              1.0               0.0   \n",
       "\n",
       "       times_very_drunk_alcohol  alcohol_weekend_alcohol  gender  \\\n",
       "u0001                       1.0                      3.0       0   \n",
       "u0002                       0.0                      1.0       0   \n",
       "u0003                       2.0                      3.0       0   \n",
       "u0004                       1.0                      1.0       0   \n",
       "u0006                       0.0                      1.0       1   \n",
       "\n",
       "       frequent_smoke  volume_smoke  academic_skills_importance_homophily  \\\n",
       "u0001             1.0           0.0                                   1.0   \n",
       "u0002             3.0           4.0                                   1.0   \n",
       "u0003             0.0           0.0                                   2.0   \n",
       "u0004             0.0           0.0                                   0.0   \n",
       "u0006             0.0           0.0                                   1.0   \n",
       "\n",
       "       social_study_friends_homophily  \n",
       "u0001                             3.0  \n",
       "u0002                             2.0  \n",
       "u0003                             2.0  \n",
       "u0004                             2.0  \n",
       "u0006                             2.0  "
      ]
     },
     "execution_count": 125,
     "metadata": {},
     "output_type": "execute_result"
    }
   ],
   "source": [
    "tmp = qdf.homophily_socialize__answer \n",
    "tmp = tmp.replace({4: 0, 3: 0, 2: 1, 1: 2, 0: 3})\n",
    "fs['social_study_friends_homophily'] = tmp\n",
    "fs.head() "
   ]
  },
  {
   "cell_type": "code",
   "execution_count": 151,
   "metadata": {},
   "outputs": [
    {
     "data": {
      "image/png": "[encoded data removed]",
      "text/plain": [
       "<matplotlib.figure.Figure at 0x7f89fde164e0>"
      ]
     },
     "metadata": {},
     "output_type": "display_data"
    }
   ],
   "source": [
    "fig, ax = plt.subplots()\n",
    "misc.questionResponse(qdf, q.homophily_socialize).plot.bar(ax=ax, color=colorcycle[0]) \n",
    "ax.set_xticklabels([\"Very important\", \"Important\", \"Not important\", \"Doesn't care\", \"Don't know\"])\n",
    "fig.subplots_adjust(bottom=0.35) \n",
    "ax.set_yticks(np.arange(0, 501, 100))\n",
    "fig.savefig('figs/socialization_importance.pdf')"
   ]
  },
  {
   "cell_type": "code",
   "execution_count": 146,
   "metadata": {},
   "outputs": [
    {
     "name": "stdout",
     "output_type": "stream",
     "text": [
      "Academic ambition are more important than the social aspects for 6.3 % of students.\n",
      "21.7 % of students rates it as equally important.\n"
     ]
    }
   ],
   "source": [
    "print(\"Academic ambition are more important than the social aspects for {:0.1f} % of students.\".format((fs.social_study_friends_homophily < fs.academic_skills_importance_homophily).mean() * 100))\n",
    "\n",
    "print(\"{:0.1f} % of students rates it as equally important.\".format((fs.social_study_friends_homophily == fs.academic_skills_importance_homophily).mean() * 100))"
   ]
  },
  {
   "cell_type": "code",
   "execution_count": 128,
   "metadata": {},
   "outputs": [],
   "source": [
    "fs['live_alone'] = qdf.live_alone__answer"
   ]
  },
  {
   "cell_type": "code",
   "execution_count": 129,
   "metadata": {},
   "outputs": [],
   "source": [
    "fs['bt_registered_mean'] = bi.mean()"
   ]
  },
  {
   "cell_type": "code",
   "execution_count": 35,
   "metadata": {},
   "outputs": [
    {
     "data": {
      "text/plain": [
       "weekly_alcohol                          0\n",
       "weekday_weekend_alcohol                 0\n",
       "before_workday_alcohol                  0\n",
       "times_drunk_last_30_days_alcohol        0\n",
       "binge_5_alcohol                         0\n",
       "binge_10_alcohol                        0\n",
       "times_very_drunk_alcohol                0\n",
       "alcohol_weekend_alcohol                 0\n",
       "gender                                  0\n",
       "frequent_smoke                          0\n",
       "volume_smoke                            0\n",
       "academic_skills_importance_homophily    0\n",
       "social_study_friends_homophily          0\n",
       "live_alone                              0\n",
       "bt_registered_mean                      0\n",
       "dtype: int64"
      ]
     },
     "execution_count": 35,
     "metadata": {},
     "output_type": "execute_result"
    }
   ],
   "source": [
    "fs.isnull().sum() "
   ]
  },
  {
   "cell_type": "code",
   "execution_count": 36,
   "metadata": {},
   "outputs": [
    {
     "data": {
      "text/plain": [
       "808"
      ]
     },
     "execution_count": 36,
     "metadata": {},
     "output_type": "execute_result"
    }
   ],
   "source": [
    "fs.shape[0]"
   ]
  },
  {
   "cell_type": "code",
   "execution_count": 37,
   "metadata": {
    "collapsed": true
   },
   "outputs": [],
   "source": [
    "fs = fs.dropna() "
   ]
  },
  {
   "cell_type": "code",
   "execution_count": 39,
   "metadata": {},
   "outputs": [],
   "source": [
    "fs = fs.sort_values('bt_registered_mean')"
   ]
  },
  {
   "cell_type": "code",
   "execution_count": 40,
   "metadata": {
    "collapsed": true
   },
   "outputs": [],
   "source": [
    "fs.to_msgpack('../../allan_data/morequestions_feature_space.msgpack')"
   ]
  },
  {
   "cell_type": "code",
   "execution_count": 41,
   "metadata": {
    "collapsed": true
   },
   "outputs": [],
   "source": [
    "bi.to_msgpack('../../allan_data/bluetooth_daily.msgpack')"
   ]
  },
  {
   "cell_type": "code",
   "execution_count": null,
   "metadata": {
    "collapsed": true
   },
   "outputs": [],
   "source": []
  }
 ],
 "metadata": {
  "kernelspec": {
   "display_name": "Python 3",
   "language": "python",
   "name": "python3"
  },
  "language_info": {
   "codemirror_mode": {
    "name": "ipython",
    "version": 3
   },
   "file_extension": ".py",
   "mimetype": "text/x-python",
   "name": "python",
   "nbconvert_exporter": "python",
   "pygments_lexer": "ipython3",
   "version": "3.6.4"
  }
 },
 "nbformat": 4,
 "nbformat_minor": 2
}
