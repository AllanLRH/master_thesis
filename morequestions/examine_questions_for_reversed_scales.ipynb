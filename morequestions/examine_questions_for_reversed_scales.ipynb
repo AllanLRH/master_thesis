{
 "cells": [
  {
   "cell_type": "code",
   "execution_count": 1,
   "metadata": {},
   "outputs": [],
   "source": [
    "import sys\n",
    "import os\n",
    "sys.path.append(os.path.abspath(\"..\"))\n",
    "\n",
    "import numpy as np\n",
    "import pandas as pd\n",
    "import matplotlib as mpl\n",
    "import matplotlib.pyplot as plt\n",
    "import seaborn as sns\n",
    "import re\n",
    "from IPython.display import display, HTML\n",
    "sns.set(context='paper', style='whitegrid', color_codes=True, font_scale=1.8)\n",
    "colorcycle = [(0.498, 0.788, 0.498),\n",
    "              (0.745, 0.682, 0.831),\n",
    "              (0.992, 0.753, 0.525),\n",
    "              (0.220, 0.424, 0.690),\n",
    "              (0.749, 0.357, 0.090),\n",
    "              (1.000, 1.000, 0.600),\n",
    "              (0.941, 0.008, 0.498),\n",
    "              (0.400, 0.400, 0.400)]\n",
    "sns.set_palette(colorcycle)\n",
    "mpl.rcParams['figure.max_open_warning'] = 65\n",
    "mpl.rcParams['figure.figsize'] = [12, 7]\n",
    "mpl.rcParams['text.usetex'] = True\n",
    "\n",
    "from speclib import misc, plotting, loaders\n",
    "\n",
    "%matplotlib inline"
   ]
  },
  {
   "cell_type": "code",
   "execution_count": 2,
   "metadata": {},
   "outputs": [
    {
     "data": {
      "text/html": [
       "<div>\n",
       "<style scoped>\n",
       "    .dataframe tbody tr th:only-of-type {\n",
       "        vertical-align: middle;\n",
       "    }\n",
       "\n",
       "    .dataframe tbody tr th {\n",
       "        vertical-align: top;\n",
       "    }\n",
       "\n",
       "    .dataframe thead th {\n",
       "        text-align: right;\n",
       "    }\n",
       "</style>\n",
       "<table border=\"1\" class=\"dataframe\">\n",
       "  <thead>\n",
       "    <tr style=\"text-align: right;\">\n",
       "      <th></th>\n",
       "      <th>alcohol_binge10__answer</th>\n",
       "      <th>alcohol_binge10__answer_type</th>\n",
       "      <th>alcohol_binge10__condition</th>\n",
       "      <th>alcohol_binge10__question</th>\n",
       "      <th>alcohol_binge10__response</th>\n",
       "      <th>alcohol_binge5__answer</th>\n",
       "      <th>alcohol_binge5__answer_type</th>\n",
       "      <th>alcohol_binge5__condition</th>\n",
       "      <th>alcohol_binge5__question</th>\n",
       "      <th>alcohol_binge5__response</th>\n",
       "      <th>...</th>\n",
       "      <th>worries_partner__answer</th>\n",
       "      <th>worries_partner__answer_type</th>\n",
       "      <th>worries_partner__condition</th>\n",
       "      <th>worries_partner__question</th>\n",
       "      <th>worries_partner__response</th>\n",
       "      <th>worries_zieblings__answer</th>\n",
       "      <th>worries_zieblings__answer_type</th>\n",
       "      <th>worries_zieblings__condition</th>\n",
       "      <th>worries_zieblings__question</th>\n",
       "      <th>worries_zieblings__response</th>\n",
       "    </tr>\n",
       "  </thead>\n",
       "  <tbody>\n",
       "    <tr>\n",
       "      <th>0010fedde8e61cad5b049da6df8b5a</th>\n",
       "      <td>1.0</td>\n",
       "      <td>radio</td>\n",
       "      <td>alcohol_debut != 'Jeg har aldrig drukket alkohol'</td>\n",
       "      <td>Drukket mere end 10 genstande på en dag/aften</td>\n",
       "      <td>1 gange</td>\n",
       "      <td>2.0</td>\n",
       "      <td>radio</td>\n",
       "      <td>alcohol_debut != 'Jeg har aldrig drukket alkohol'</td>\n",
       "      <td>Drukket mere end 5 genstande på en dag/aften</td>\n",
       "      <td>2 gange</td>\n",
       "      <td>...</td>\n",
       "      <td>NaN</td>\n",
       "      <td>radio</td>\n",
       "      <td>False</td>\n",
       "      <td>Kæreste/ægtefælle</td>\n",
       "      <td>Har ingen</td>\n",
       "      <td>3.0</td>\n",
       "      <td>radio</td>\n",
       "      <td>False</td>\n",
       "      <td>Søskende</td>\n",
       "      <td>Sjældent</td>\n",
       "    </tr>\n",
       "    <tr>\n",
       "      <th>002ee26a0c38a1f77b7cdeab8046cd</th>\n",
       "      <td>1.0</td>\n",
       "      <td>radio</td>\n",
       "      <td>alcohol_debut != 'Jeg har aldrig drukket alkohol'</td>\n",
       "      <td>Drukket mere end 10 genstande på en dag/aften</td>\n",
       "      <td>1 gange</td>\n",
       "      <td>0.0</td>\n",
       "      <td>radio</td>\n",
       "      <td>alcohol_debut != 'Jeg har aldrig drukket alkohol'</td>\n",
       "      <td>Drukket mere end 5 genstande på en dag/aften</td>\n",
       "      <td>0 gange</td>\n",
       "      <td>...</td>\n",
       "      <td>2.0</td>\n",
       "      <td>radio</td>\n",
       "      <td>False</td>\n",
       "      <td>Kæreste/ægtefælle</td>\n",
       "      <td>Af og til</td>\n",
       "      <td>NaN</td>\n",
       "      <td>radio</td>\n",
       "      <td>False</td>\n",
       "      <td>Søskende</td>\n",
       "      <td>Har ingen</td>\n",
       "    </tr>\n",
       "    <tr>\n",
       "      <th>0037c93a19a7e90580086b462ba11b</th>\n",
       "      <td>2.0</td>\n",
       "      <td>radio</td>\n",
       "      <td>alcohol_debut != 'Jeg har aldrig drukket alkohol'</td>\n",
       "      <td>Drukket mere end 10 genstande på en dag/aften</td>\n",
       "      <td>2 gange</td>\n",
       "      <td>2.0</td>\n",
       "      <td>radio</td>\n",
       "      <td>alcohol_debut != 'Jeg har aldrig drukket alkohol'</td>\n",
       "      <td>Drukket mere end 5 genstande på en dag/aften</td>\n",
       "      <td>2 gange</td>\n",
       "      <td>...</td>\n",
       "      <td>NaN</td>\n",
       "      <td>radio</td>\n",
       "      <td>False</td>\n",
       "      <td>Kæreste/ægtefælle</td>\n",
       "      <td>Har ingen</td>\n",
       "      <td>2.0</td>\n",
       "      <td>radio</td>\n",
       "      <td>False</td>\n",
       "      <td>Søskende</td>\n",
       "      <td>Af og til</td>\n",
       "    </tr>\n",
       "    <tr>\n",
       "      <th>005b1e0298bde6b726156aefb8d88c</th>\n",
       "      <td>1.0</td>\n",
       "      <td>radio</td>\n",
       "      <td>alcohol_debut != 'Jeg har aldrig drukket alkohol'</td>\n",
       "      <td>Drukket mere end 10 genstande på en dag/aften</td>\n",
       "      <td>1 gange</td>\n",
       "      <td>1.0</td>\n",
       "      <td>radio</td>\n",
       "      <td>alcohol_debut != 'Jeg har aldrig drukket alkohol'</td>\n",
       "      <td>Drukket mere end 5 genstande på en dag/aften</td>\n",
       "      <td>1 gange</td>\n",
       "      <td>...</td>\n",
       "      <td>NaN</td>\n",
       "      <td>radio</td>\n",
       "      <td>False</td>\n",
       "      <td>Kæreste/ægtefælle</td>\n",
       "      <td>Har ingen</td>\n",
       "      <td>NaN</td>\n",
       "      <td>radio</td>\n",
       "      <td>False</td>\n",
       "      <td>Søskende</td>\n",
       "      <td>Har ingen</td>\n",
       "    </tr>\n",
       "    <tr>\n",
       "      <th>00ad591e46eb6f3d8c474d9de9e219</th>\n",
       "      <td>0.0</td>\n",
       "      <td>radio</td>\n",
       "      <td>alcohol_debut != 'Jeg har aldrig drukket alkohol'</td>\n",
       "      <td>Drukket mere end 10 genstande på en dag/aften</td>\n",
       "      <td>0 gange</td>\n",
       "      <td>1.0</td>\n",
       "      <td>radio</td>\n",
       "      <td>alcohol_debut != 'Jeg har aldrig drukket alkohol'</td>\n",
       "      <td>Drukket mere end 5 genstande på en dag/aften</td>\n",
       "      <td>1 gange</td>\n",
       "      <td>...</td>\n",
       "      <td>2.0</td>\n",
       "      <td>radio</td>\n",
       "      <td>False</td>\n",
       "      <td>Kæreste/ægtefælle</td>\n",
       "      <td>Af og til</td>\n",
       "      <td>3.0</td>\n",
       "      <td>radio</td>\n",
       "      <td>False</td>\n",
       "      <td>Søskende</td>\n",
       "      <td>Sjældent</td>\n",
       "    </tr>\n",
       "  </tbody>\n",
       "</table>\n",
       "<p>5 rows × 1431 columns</p>\n",
       "</div>"
      ],
      "text/plain": [
       "                                alcohol_binge10__answer  \\\n",
       "0010fedde8e61cad5b049da6df8b5a                      1.0   \n",
       "002ee26a0c38a1f77b7cdeab8046cd                      1.0   \n",
       "0037c93a19a7e90580086b462ba11b                      2.0   \n",
       "005b1e0298bde6b726156aefb8d88c                      1.0   \n",
       "00ad591e46eb6f3d8c474d9de9e219                      0.0   \n",
       "\n",
       "                               alcohol_binge10__answer_type  \\\n",
       "0010fedde8e61cad5b049da6df8b5a                        radio   \n",
       "002ee26a0c38a1f77b7cdeab8046cd                        radio   \n",
       "0037c93a19a7e90580086b462ba11b                        radio   \n",
       "005b1e0298bde6b726156aefb8d88c                        radio   \n",
       "00ad591e46eb6f3d8c474d9de9e219                        radio   \n",
       "\n",
       "                                                       alcohol_binge10__condition  \\\n",
       "0010fedde8e61cad5b049da6df8b5a  alcohol_debut != 'Jeg har aldrig drukket alkohol'   \n",
       "002ee26a0c38a1f77b7cdeab8046cd  alcohol_debut != 'Jeg har aldrig drukket alkohol'   \n",
       "0037c93a19a7e90580086b462ba11b  alcohol_debut != 'Jeg har aldrig drukket alkohol'   \n",
       "005b1e0298bde6b726156aefb8d88c  alcohol_debut != 'Jeg har aldrig drukket alkohol'   \n",
       "00ad591e46eb6f3d8c474d9de9e219  alcohol_debut != 'Jeg har aldrig drukket alkohol'   \n",
       "\n",
       "                                                    alcohol_binge10__question  \\\n",
       "0010fedde8e61cad5b049da6df8b5a  Drukket mere end 10 genstande på en dag/aften   \n",
       "002ee26a0c38a1f77b7cdeab8046cd  Drukket mere end 10 genstande på en dag/aften   \n",
       "0037c93a19a7e90580086b462ba11b  Drukket mere end 10 genstande på en dag/aften   \n",
       "005b1e0298bde6b726156aefb8d88c  Drukket mere end 10 genstande på en dag/aften   \n",
       "00ad591e46eb6f3d8c474d9de9e219  Drukket mere end 10 genstande på en dag/aften   \n",
       "\n",
       "                               alcohol_binge10__response  \\\n",
       "0010fedde8e61cad5b049da6df8b5a                   1 gange   \n",
       "002ee26a0c38a1f77b7cdeab8046cd                   1 gange   \n",
       "0037c93a19a7e90580086b462ba11b                   2 gange   \n",
       "005b1e0298bde6b726156aefb8d88c                   1 gange   \n",
       "00ad591e46eb6f3d8c474d9de9e219                   0 gange   \n",
       "\n",
       "                                alcohol_binge5__answer  \\\n",
       "0010fedde8e61cad5b049da6df8b5a                     2.0   \n",
       "002ee26a0c38a1f77b7cdeab8046cd                     0.0   \n",
       "0037c93a19a7e90580086b462ba11b                     2.0   \n",
       "005b1e0298bde6b726156aefb8d88c                     1.0   \n",
       "00ad591e46eb6f3d8c474d9de9e219                     1.0   \n",
       "\n",
       "                               alcohol_binge5__answer_type  \\\n",
       "0010fedde8e61cad5b049da6df8b5a                       radio   \n",
       "002ee26a0c38a1f77b7cdeab8046cd                       radio   \n",
       "0037c93a19a7e90580086b462ba11b                       radio   \n",
       "005b1e0298bde6b726156aefb8d88c                       radio   \n",
       "00ad591e46eb6f3d8c474d9de9e219                       radio   \n",
       "\n",
       "                                                        alcohol_binge5__condition  \\\n",
       "0010fedde8e61cad5b049da6df8b5a  alcohol_debut != 'Jeg har aldrig drukket alkohol'   \n",
       "002ee26a0c38a1f77b7cdeab8046cd  alcohol_debut != 'Jeg har aldrig drukket alkohol'   \n",
       "0037c93a19a7e90580086b462ba11b  alcohol_debut != 'Jeg har aldrig drukket alkohol'   \n",
       "005b1e0298bde6b726156aefb8d88c  alcohol_debut != 'Jeg har aldrig drukket alkohol'   \n",
       "00ad591e46eb6f3d8c474d9de9e219  alcohol_debut != 'Jeg har aldrig drukket alkohol'   \n",
       "\n",
       "                                                    alcohol_binge5__question  \\\n",
       "0010fedde8e61cad5b049da6df8b5a  Drukket mere end 5 genstande på en dag/aften   \n",
       "002ee26a0c38a1f77b7cdeab8046cd  Drukket mere end 5 genstande på en dag/aften   \n",
       "0037c93a19a7e90580086b462ba11b  Drukket mere end 5 genstande på en dag/aften   \n",
       "005b1e0298bde6b726156aefb8d88c  Drukket mere end 5 genstande på en dag/aften   \n",
       "00ad591e46eb6f3d8c474d9de9e219  Drukket mere end 5 genstande på en dag/aften   \n",
       "\n",
       "                               alcohol_binge5__response  \\\n",
       "0010fedde8e61cad5b049da6df8b5a                  2 gange   \n",
       "002ee26a0c38a1f77b7cdeab8046cd                  0 gange   \n",
       "0037c93a19a7e90580086b462ba11b                  2 gange   \n",
       "005b1e0298bde6b726156aefb8d88c                  1 gange   \n",
       "00ad591e46eb6f3d8c474d9de9e219                  1 gange   \n",
       "\n",
       "                                           ...              \\\n",
       "0010fedde8e61cad5b049da6df8b5a             ...               \n",
       "002ee26a0c38a1f77b7cdeab8046cd             ...               \n",
       "0037c93a19a7e90580086b462ba11b             ...               \n",
       "005b1e0298bde6b726156aefb8d88c             ...               \n",
       "00ad591e46eb6f3d8c474d9de9e219             ...               \n",
       "\n",
       "                                worries_partner__answer  \\\n",
       "0010fedde8e61cad5b049da6df8b5a                      NaN   \n",
       "002ee26a0c38a1f77b7cdeab8046cd                      2.0   \n",
       "0037c93a19a7e90580086b462ba11b                      NaN   \n",
       "005b1e0298bde6b726156aefb8d88c                      NaN   \n",
       "00ad591e46eb6f3d8c474d9de9e219                      2.0   \n",
       "\n",
       "                               worries_partner__answer_type  \\\n",
       "0010fedde8e61cad5b049da6df8b5a                        radio   \n",
       "002ee26a0c38a1f77b7cdeab8046cd                        radio   \n",
       "0037c93a19a7e90580086b462ba11b                        radio   \n",
       "005b1e0298bde6b726156aefb8d88c                        radio   \n",
       "00ad591e46eb6f3d8c474d9de9e219                        radio   \n",
       "\n",
       "                                worries_partner__condition  \\\n",
       "0010fedde8e61cad5b049da6df8b5a                       False   \n",
       "002ee26a0c38a1f77b7cdeab8046cd                       False   \n",
       "0037c93a19a7e90580086b462ba11b                       False   \n",
       "005b1e0298bde6b726156aefb8d88c                       False   \n",
       "00ad591e46eb6f3d8c474d9de9e219                       False   \n",
       "\n",
       "                               worries_partner__question  \\\n",
       "0010fedde8e61cad5b049da6df8b5a         Kæreste/ægtefælle   \n",
       "002ee26a0c38a1f77b7cdeab8046cd         Kæreste/ægtefælle   \n",
       "0037c93a19a7e90580086b462ba11b         Kæreste/ægtefælle   \n",
       "005b1e0298bde6b726156aefb8d88c         Kæreste/ægtefælle   \n",
       "00ad591e46eb6f3d8c474d9de9e219         Kæreste/ægtefælle   \n",
       "\n",
       "                               worries_partner__response  \\\n",
       "0010fedde8e61cad5b049da6df8b5a                 Har ingen   \n",
       "002ee26a0c38a1f77b7cdeab8046cd                 Af og til   \n",
       "0037c93a19a7e90580086b462ba11b                 Har ingen   \n",
       "005b1e0298bde6b726156aefb8d88c                 Har ingen   \n",
       "00ad591e46eb6f3d8c474d9de9e219                 Af og til   \n",
       "\n",
       "                                worries_zieblings__answer  \\\n",
       "0010fedde8e61cad5b049da6df8b5a                        3.0   \n",
       "002ee26a0c38a1f77b7cdeab8046cd                        NaN   \n",
       "0037c93a19a7e90580086b462ba11b                        2.0   \n",
       "005b1e0298bde6b726156aefb8d88c                        NaN   \n",
       "00ad591e46eb6f3d8c474d9de9e219                        3.0   \n",
       "\n",
       "                               worries_zieblings__answer_type  \\\n",
       "0010fedde8e61cad5b049da6df8b5a                          radio   \n",
       "002ee26a0c38a1f77b7cdeab8046cd                          radio   \n",
       "0037c93a19a7e90580086b462ba11b                          radio   \n",
       "005b1e0298bde6b726156aefb8d88c                          radio   \n",
       "00ad591e46eb6f3d8c474d9de9e219                          radio   \n",
       "\n",
       "                               worries_zieblings__condition  \\\n",
       "0010fedde8e61cad5b049da6df8b5a                        False   \n",
       "002ee26a0c38a1f77b7cdeab8046cd                        False   \n",
       "0037c93a19a7e90580086b462ba11b                        False   \n",
       "005b1e0298bde6b726156aefb8d88c                        False   \n",
       "00ad591e46eb6f3d8c474d9de9e219                        False   \n",
       "\n",
       "                               worries_zieblings__question  \\\n",
       "0010fedde8e61cad5b049da6df8b5a                    Søskende   \n",
       "002ee26a0c38a1f77b7cdeab8046cd                    Søskende   \n",
       "0037c93a19a7e90580086b462ba11b                    Søskende   \n",
       "005b1e0298bde6b726156aefb8d88c                    Søskende   \n",
       "00ad591e46eb6f3d8c474d9de9e219                    Søskende   \n",
       "\n",
       "                               worries_zieblings__response  \n",
       "0010fedde8e61cad5b049da6df8b5a                    Sjældent  \n",
       "002ee26a0c38a1f77b7cdeab8046cd                   Har ingen  \n",
       "0037c93a19a7e90580086b462ba11b                   Af og til  \n",
       "005b1e0298bde6b726156aefb8d88c                   Har ingen  \n",
       "00ad591e46eb6f3d8c474d9de9e219                    Sjældent  \n",
       "\n",
       "[5 rows x 1431 columns]"
      ]
     },
     "execution_count": 2,
     "metadata": {},
     "output_type": "execute_result"
    }
   ],
   "source": [
    "df = pd.read_json('../../allan_data/RGender_.json')\n",
    "userAlias = loaders.Useralias()\n",
    "df.index = df.index.map(lambda s: userAlias.lookup(s))\n",
    "q = misc.QuestionCompleter(df)\n",
    "f = misc.QuestionFilterer(df)\n",
    "\n",
    "df.head()"
   ]
  },
  {
   "cell_type": "markdown",
   "metadata": {},
   "source": [
    "## The types of questions"
   ]
  },
  {
   "cell_type": "code",
   "execution_count": 3,
   "metadata": {},
   "outputs": [
    {
     "data": {
      "text/plain": [
       "radio           266\n",
       "number           16\n",
       "multi_number      2\n",
       "number;radio      1\n",
       "scale             1\n",
       "Name: 0010fedde8e61cad5b049da6df8b5a, dtype: int64"
      ]
     },
     "execution_count": 3,
     "metadata": {},
     "output_type": "execute_result"
    }
   ],
   "source": [
    "df.filter(like='answer_type').iloc[0].value_counts()"
   ]
  },
  {
   "cell_type": "code",
   "execution_count": 4,
   "metadata": {},
   "outputs": [
    {
     "data": {
      "text/html": [
       "<h3><i>Question:</i>  Hvor gammel var du første gang du drak mindst en genstand?</h3>"
      ],
      "text/plain": [
       "<IPython.core.display.HTML object>"
      ]
     },
     "metadata": {},
     "output_type": "display_data"
    },
    {
     "data": {
      "text/html": [
       "<i>Question str:</i>    <tt>alcohol_debut</tt>"
      ],
      "text/plain": [
       "<IPython.core.display.HTML object>"
      ]
     },
     "metadata": {},
     "output_type": "display_data"
    },
    {
     "data": {
      "text/html": [
       "<i>Answer type:</i>    <tt>number;radio</tt>"
      ],
      "text/plain": [
       "<IPython.core.display.HTML object>"
      ]
     },
     "metadata": {},
     "output_type": "display_data"
    },
    {
     "data": {
      "text/html": [
       "<div>\n",
       "<style scoped>\n",
       "    .dataframe tbody tr th:only-of-type {\n",
       "        vertical-align: middle;\n",
       "    }\n",
       "\n",
       "    .dataframe tbody tr th {\n",
       "        vertical-align: top;\n",
       "    }\n",
       "\n",
       "    .dataframe thead th {\n",
       "        text-align: right;\n",
       "    }\n",
       "</style>\n",
       "<table border=\"1\" class=\"dataframe\">\n",
       "  <thead>\n",
       "    <tr style=\"text-align: right;\">\n",
       "      <th></th>\n",
       "      <th>response_index</th>\n",
       "      <th>answer_index</th>\n",
       "      <th>count</th>\n",
       "    </tr>\n",
       "  </thead>\n",
       "  <tbody>\n",
       "    <tr>\n",
       "      <th>0</th>\n",
       "      <td>14</td>\n",
       "      <td>0.0</td>\n",
       "      <td>34</td>\n",
       "    </tr>\n",
       "    <tr>\n",
       "      <th>1</th>\n",
       "      <td>15</td>\n",
       "      <td>1.0</td>\n",
       "      <td>906</td>\n",
       "    </tr>\n",
       "  </tbody>\n",
       "</table>\n",
       "</div>"
      ],
      "text/plain": [
       "  response_index  answer_index  count\n",
       "0             14           0.0     34\n",
       "1             15           1.0    906"
      ]
     },
     "metadata": {},
     "output_type": "display_data"
    },
    {
     "data": {
      "text/html": [
       "<div>\n",
       "<style scoped>\n",
       "    .dataframe tbody tr th:only-of-type {\n",
       "        vertical-align: middle;\n",
       "    }\n",
       "\n",
       "    .dataframe tbody tr th {\n",
       "        vertical-align: top;\n",
       "    }\n",
       "\n",
       "    .dataframe thead th {\n",
       "        text-align: right;\n",
       "    }\n",
       "</style>\n",
       "<table border=\"1\" class=\"dataframe\">\n",
       "  <thead>\n",
       "    <tr style=\"text-align: right;\">\n",
       "      <th></th>\n",
       "      <th>alcohol_debut__answer</th>\n",
       "      <th>alcohol_debut__response</th>\n",
       "    </tr>\n",
       "  </thead>\n",
       "  <tbody>\n",
       "    <tr>\n",
       "      <th>bb3f9dfc64509a9dee49ec4c7e670d</th>\n",
       "      <td>1.0</td>\n",
       "      <td>15</td>\n",
       "    </tr>\n",
       "    <tr>\n",
       "      <th>85f2ae5a83dfeb08f17108c6b9d8b2</th>\n",
       "      <td>1.0</td>\n",
       "      <td>15</td>\n",
       "    </tr>\n",
       "    <tr>\n",
       "      <th>dd2c2d79f8e0a38073fd286ec6cf0c</th>\n",
       "      <td>1.0</td>\n",
       "      <td>14</td>\n",
       "    </tr>\n",
       "    <tr>\n",
       "      <th>725188ac89900e25dffce6454379e5</th>\n",
       "      <td>1.0</td>\n",
       "      <td>15</td>\n",
       "    </tr>\n",
       "    <tr>\n",
       "      <th>675f9031919f7cf29cc486c6413582</th>\n",
       "      <td>1.0</td>\n",
       "      <td>14</td>\n",
       "    </tr>\n",
       "    <tr>\n",
       "      <th>5fe575cba6e239cf733cd8bd84e32d</th>\n",
       "      <td>1.0</td>\n",
       "      <td>13</td>\n",
       "    </tr>\n",
       "    <tr>\n",
       "      <th>0b7ba47fa2c9b9f0120d25c0656d14</th>\n",
       "      <td>1.0</td>\n",
       "      <td>14</td>\n",
       "    </tr>\n",
       "    <tr>\n",
       "      <th>7005914c2b3a1945ba461a5053efdf</th>\n",
       "      <td>1.0</td>\n",
       "      <td>16</td>\n",
       "    </tr>\n",
       "    <tr>\n",
       "      <th>c57e0f05b263ee8827fc6798662fed</th>\n",
       "      <td>1.0</td>\n",
       "      <td>13</td>\n",
       "    </tr>\n",
       "    <tr>\n",
       "      <th>dcead5dae37182784d4c9603a718b0</th>\n",
       "      <td>1.0</td>\n",
       "      <td>14</td>\n",
       "    </tr>\n",
       "  </tbody>\n",
       "</table>\n",
       "</div>"
      ],
      "text/plain": [
       "                                alcohol_debut__answer alcohol_debut__response\n",
       "bb3f9dfc64509a9dee49ec4c7e670d                    1.0                      15\n",
       "85f2ae5a83dfeb08f17108c6b9d8b2                    1.0                      15\n",
       "dd2c2d79f8e0a38073fd286ec6cf0c                    1.0                      14\n",
       "725188ac89900e25dffce6454379e5                    1.0                      15\n",
       "675f9031919f7cf29cc486c6413582                    1.0                      14\n",
       "5fe575cba6e239cf733cd8bd84e32d                    1.0                      13\n",
       "0b7ba47fa2c9b9f0120d25c0656d14                    1.0                      14\n",
       "7005914c2b3a1945ba461a5053efdf                    1.0                      16\n",
       "c57e0f05b263ee8827fc6798662fed                    1.0                      13\n",
       "dcead5dae37182784d4c9603a718b0                    1.0                      14"
      ]
     },
     "metadata": {},
     "output_type": "display_data"
    }
   ],
   "source": [
    "misc.questionSummary(df, q.alcohol_debut, samplesize=10)"
   ]
  },
  {
   "cell_type": "code",
   "execution_count": 5,
   "metadata": {},
   "outputs": [
    {
     "data": {
      "text/html": [
       "<div>\n",
       "<style scoped>\n",
       "    .dataframe tbody tr th:only-of-type {\n",
       "        vertical-align: middle;\n",
       "    }\n",
       "\n",
       "    .dataframe tbody tr th {\n",
       "        vertical-align: top;\n",
       "    }\n",
       "\n",
       "    .dataframe thead th {\n",
       "        text-align: right;\n",
       "    }\n",
       "</style>\n",
       "<table border=\"1\" class=\"dataframe\">\n",
       "  <thead>\n",
       "    <tr style=\"text-align: right;\">\n",
       "      <th></th>\n",
       "      <th>alcohol_debut__answer</th>\n",
       "      <th>alcohol_debut__answer_type</th>\n",
       "      <th>alcohol_debut__condition</th>\n",
       "      <th>alcohol_debut__question</th>\n",
       "      <th>alcohol_debut__response</th>\n",
       "    </tr>\n",
       "  </thead>\n",
       "  <tbody>\n",
       "    <tr>\n",
       "      <th>0010fedde8e61cad5b049da6df8b5a</th>\n",
       "      <td>1.0</td>\n",
       "      <td>number;radio</td>\n",
       "      <td>False</td>\n",
       "      <td>Hvor gammel var du første gang du drak mindst ...</td>\n",
       "      <td>15</td>\n",
       "    </tr>\n",
       "    <tr>\n",
       "      <th>002ee26a0c38a1f77b7cdeab8046cd</th>\n",
       "      <td>1.0</td>\n",
       "      <td>number;radio</td>\n",
       "      <td>False</td>\n",
       "      <td>Hvor gammel var du første gang du drak mindst ...</td>\n",
       "      <td>14</td>\n",
       "    </tr>\n",
       "    <tr>\n",
       "      <th>0037c93a19a7e90580086b462ba11b</th>\n",
       "      <td>1.0</td>\n",
       "      <td>number;radio</td>\n",
       "      <td>False</td>\n",
       "      <td>Hvor gammel var du første gang du drak mindst ...</td>\n",
       "      <td>15</td>\n",
       "    </tr>\n",
       "    <tr>\n",
       "      <th>005b1e0298bde6b726156aefb8d88c</th>\n",
       "      <td>1.0</td>\n",
       "      <td>number;radio</td>\n",
       "      <td>False</td>\n",
       "      <td>Hvor gammel var du første gang du drak mindst ...</td>\n",
       "      <td>14</td>\n",
       "    </tr>\n",
       "    <tr>\n",
       "      <th>00ad591e46eb6f3d8c474d9de9e219</th>\n",
       "      <td>1.0</td>\n",
       "      <td>number;radio</td>\n",
       "      <td>False</td>\n",
       "      <td>Hvor gammel var du første gang du drak mindst ...</td>\n",
       "      <td>16</td>\n",
       "    </tr>\n",
       "  </tbody>\n",
       "</table>\n",
       "</div>"
      ],
      "text/plain": [
       "                                alcohol_debut__answer  \\\n",
       "0010fedde8e61cad5b049da6df8b5a                    1.0   \n",
       "002ee26a0c38a1f77b7cdeab8046cd                    1.0   \n",
       "0037c93a19a7e90580086b462ba11b                    1.0   \n",
       "005b1e0298bde6b726156aefb8d88c                    1.0   \n",
       "00ad591e46eb6f3d8c474d9de9e219                    1.0   \n",
       "\n",
       "                               alcohol_debut__answer_type  \\\n",
       "0010fedde8e61cad5b049da6df8b5a               number;radio   \n",
       "002ee26a0c38a1f77b7cdeab8046cd               number;radio   \n",
       "0037c93a19a7e90580086b462ba11b               number;radio   \n",
       "005b1e0298bde6b726156aefb8d88c               number;radio   \n",
       "00ad591e46eb6f3d8c474d9de9e219               number;radio   \n",
       "\n",
       "                                alcohol_debut__condition  \\\n",
       "0010fedde8e61cad5b049da6df8b5a                     False   \n",
       "002ee26a0c38a1f77b7cdeab8046cd                     False   \n",
       "0037c93a19a7e90580086b462ba11b                     False   \n",
       "005b1e0298bde6b726156aefb8d88c                     False   \n",
       "00ad591e46eb6f3d8c474d9de9e219                     False   \n",
       "\n",
       "                                                          alcohol_debut__question  \\\n",
       "0010fedde8e61cad5b049da6df8b5a  Hvor gammel var du første gang du drak mindst ...   \n",
       "002ee26a0c38a1f77b7cdeab8046cd  Hvor gammel var du første gang du drak mindst ...   \n",
       "0037c93a19a7e90580086b462ba11b  Hvor gammel var du første gang du drak mindst ...   \n",
       "005b1e0298bde6b726156aefb8d88c  Hvor gammel var du første gang du drak mindst ...   \n",
       "00ad591e46eb6f3d8c474d9de9e219  Hvor gammel var du første gang du drak mindst ...   \n",
       "\n",
       "                               alcohol_debut__response  \n",
       "0010fedde8e61cad5b049da6df8b5a                      15  \n",
       "002ee26a0c38a1f77b7cdeab8046cd                      14  \n",
       "0037c93a19a7e90580086b462ba11b                      15  \n",
       "005b1e0298bde6b726156aefb8d88c                      14  \n",
       "00ad591e46eb6f3d8c474d9de9e219                      16  "
      ]
     },
     "execution_count": 5,
     "metadata": {},
     "output_type": "execute_result"
    }
   ],
   "source": [
    "f.alcohol_debut.head()"
   ]
  },
  {
   "cell_type": "code",
   "execution_count": 6,
   "metadata": {},
   "outputs": [
    {
     "data": {
      "text/plain": [
       "1.0    906\n",
       "0.0     34\n",
       "Name: alcohol_debut__answer, dtype: int64"
      ]
     },
     "execution_count": 6,
     "metadata": {},
     "output_type": "execute_result"
    }
   ],
   "source": [
    "df.alcohol_debut__answer.value_counts()"
   ]
  },
  {
   "cell_type": "code",
   "execution_count": 7,
   "metadata": {},
   "outputs": [
    {
     "name": "stdout",
     "output_type": "stream",
     "text": [
      "alcohol_debut__answer\n",
      "alcohol_debut__answer_type\n",
      "alcohol_debut__condition\n",
      "alcohol_debut__question\n",
      "alcohol_debut__response\n"
     ]
    }
   ],
   "source": [
    "print(*f.alcohol_debut.columns, sep='\\n')"
   ]
  },
  {
   "cell_type": "code",
   "execution_count": 8,
   "metadata": {},
   "outputs": [],
   "source": [
    "cq = f.alcohol_drunk"
   ]
  },
  {
   "cell_type": "code",
   "execution_count": 9,
   "metadata": {},
   "outputs": [
    {
     "data": {
      "text/plain": [
       "alcohol_drunk__answer  alcohol_drunk__response\n",
       "0.0                    0 gange                    135\n",
       "1.0                    1 gange                    124\n",
       "2.0                    2 gange                    155\n",
       "3.0                    3 gange                    120\n",
       "4.0                    4-5 gange                  187\n",
       "5.0                    6-9 gange                  136\n",
       "6.0                    10+ gange                   49\n",
       "Name: alcohol_drunk__response, dtype: int64"
      ]
     },
     "execution_count": 9,
     "metadata": {},
     "output_type": "execute_result"
    }
   ],
   "source": [
    "cq.groupby(cq.alcohol_drunk__answer)[q.alcohol_drunk__response].value_counts()"
   ]
  },
  {
   "cell_type": "code",
   "execution_count": 10,
   "metadata": {},
   "outputs": [],
   "source": [
    "radio_questions = df.iloc[0].filter(like='answer_type')\n",
    "radio_questions = radio_questions[radio_questions == 'radio'].index\n",
    "radio_questions = radio_questions.str.replace('__answer_type', '').tolist()"
   ]
  },
  {
   "cell_type": "code",
   "execution_count": 14,
   "metadata": {},
   "outputs": [],
   "source": [
    "def response_compare(df, q):\n",
    "    cq = df.filter(like=q)\n",
    "    res = cq.groupby(cq[q + '__answer'])[q + '__response'].value_counts()\n",
    "    res.index.names = [el.split('__')[-1] for el in res.index.names]\n",
    "    res.name = res.name.split('__')[0]\n",
    "    return res"
   ]
  },
  {
   "cell_type": "code",
   "execution_count": 15,
   "metadata": {},
   "outputs": [],
   "source": [
    "summary_list = list()\n",
    "for cq in radio_questions:\n",
    "    res = pd.DataFrame(response_compare(df, cq))\n",
    "    qstr = df.iloc[0].filter(like=cq + '__question')\n",
    "    summary_list.append((qstr, res))"
   ]
  },
  {
   "cell_type": "code",
   "execution_count": 16,
   "metadata": {},
   "outputs": [
    {
     "name": "stdout",
     "output_type": "stream",
     "text": [
      "Drukket mere end 10 genstande på en dag/aften\n"
     ]
    },
    {
     "data": {
      "text/html": [
       "<div>\n",
       "<style scoped>\n",
       "    .dataframe tbody tr th:only-of-type {\n",
       "        vertical-align: middle;\n",
       "    }\n",
       "\n",
       "    .dataframe tbody tr th {\n",
       "        vertical-align: top;\n",
       "    }\n",
       "\n",
       "    .dataframe thead th {\n",
       "        text-align: right;\n",
       "    }\n",
       "</style>\n",
       "<table border=\"1\" class=\"dataframe\">\n",
       "  <thead>\n",
       "    <tr style=\"text-align: right;\">\n",
       "      <th></th>\n",
       "      <th></th>\n",
       "      <th>alcohol_binge10</th>\n",
       "    </tr>\n",
       "    <tr>\n",
       "      <th>answer</th>\n",
       "      <th>response</th>\n",
       "      <th></th>\n",
       "    </tr>\n",
       "  </thead>\n",
       "  <tbody>\n",
       "    <tr>\n",
       "      <th>0.0</th>\n",
       "      <th>0 gange</th>\n",
       "      <td>348</td>\n",
       "    </tr>\n",
       "    <tr>\n",
       "      <th>1.0</th>\n",
       "      <th>1 gange</th>\n",
       "      <td>190</td>\n",
       "    </tr>\n",
       "    <tr>\n",
       "      <th>2.0</th>\n",
       "      <th>2 gange</th>\n",
       "      <td>151</td>\n",
       "    </tr>\n",
       "    <tr>\n",
       "      <th>3.0</th>\n",
       "      <th>3 gange</th>\n",
       "      <td>89</td>\n",
       "    </tr>\n",
       "    <tr>\n",
       "      <th>4.0</th>\n",
       "      <th>4-5 gange</th>\n",
       "      <td>74</td>\n",
       "    </tr>\n",
       "    <tr>\n",
       "      <th>5.0</th>\n",
       "      <th>6+ gange</th>\n",
       "      <td>54</td>\n",
       "    </tr>\n",
       "  </tbody>\n",
       "</table>\n",
       "</div>"
      ],
      "text/plain": [
       "                  alcohol_binge10\n",
       "answer response                  \n",
       "0.0    0 gange                348\n",
       "1.0    1 gange                190\n",
       "2.0    2 gange                151\n",
       "3.0    3 gange                 89\n",
       "4.0    4-5 gange               74\n",
       "5.0    6+ gange                54"
      ]
     },
     "execution_count": 16,
     "metadata": {},
     "output_type": "execute_result"
    }
   ],
   "source": [
    "print(summary_list[0][0].values[0])\n",
    "summary_list[0][1]"
   ]
  },
  {
   "cell_type": "code",
   "execution_count": 17,
   "metadata": {
    "scrolled": true
   },
   "outputs": [
    {
     "data": {
      "text/html": [
       "<h3><i>Question:</i>  At varetage dine praktiske pligter i hjemmet?</h3>"
      ],
      "text/plain": [
       "<IPython.core.display.HTML object>"
      ]
     },
     "metadata": {},
     "output_type": "display_data"
    },
    {
     "data": {
      "text/html": [
       "<i>Question str:</i>    <tt>function_duties</tt>"
      ],
      "text/plain": [
       "<IPython.core.display.HTML object>"
      ]
     },
     "metadata": {},
     "output_type": "display_data"
    },
    {
     "data": {
      "text/html": [
       "<i>Answer type:</i>    <tt>radio</tt>"
      ],
      "text/plain": [
       "<IPython.core.display.HTML object>"
      ]
     },
     "metadata": {},
     "output_type": "display_data"
    },
    {
     "data": {
      "text/html": [
       "<div>\n",
       "<style scoped>\n",
       "    .dataframe tbody tr th:only-of-type {\n",
       "        vertical-align: middle;\n",
       "    }\n",
       "\n",
       "    .dataframe tbody tr th {\n",
       "        vertical-align: top;\n",
       "    }\n",
       "\n",
       "    .dataframe thead th {\n",
       "        text-align: right;\n",
       "    }\n",
       "</style>\n",
       "<table border=\"1\" class=\"dataframe\">\n",
       "  <thead>\n",
       "    <tr style=\"text-align: right;\">\n",
       "      <th></th>\n",
       "      <th>response_index</th>\n",
       "      <th>answer_index</th>\n",
       "      <th>count</th>\n",
       "    </tr>\n",
       "  </thead>\n",
       "  <tbody>\n",
       "    <tr>\n",
       "      <th>0</th>\n",
       "      <td>Slet ikke</td>\n",
       "      <td>0.0</td>\n",
       "      <td>322</td>\n",
       "    </tr>\n",
       "    <tr>\n",
       "      <th>1</th>\n",
       "      <td>Lidt</td>\n",
       "      <td>1.0</td>\n",
       "      <td>341</td>\n",
       "    </tr>\n",
       "    <tr>\n",
       "      <th>2</th>\n",
       "      <td>Noget</td>\n",
       "      <td>2.0</td>\n",
       "      <td>188</td>\n",
       "    </tr>\n",
       "    <tr>\n",
       "      <th>3</th>\n",
       "      <td>Meget</td>\n",
       "      <td>3.0</td>\n",
       "      <td>70</td>\n",
       "    </tr>\n",
       "    <tr>\n",
       "      <th>4</th>\n",
       "      <td>Virkelig meget/kan ikke</td>\n",
       "      <td>4.0</td>\n",
       "      <td>12</td>\n",
       "    </tr>\n",
       "  </tbody>\n",
       "</table>\n",
       "</div>"
      ],
      "text/plain": [
       "            response_index  answer_index  count\n",
       "0                Slet ikke           0.0    322\n",
       "1                     Lidt           1.0    341\n",
       "2                    Noget           2.0    188\n",
       "3                    Meget           3.0     70\n",
       "4  Virkelig meget/kan ikke           4.0     12"
      ]
     },
     "metadata": {},
     "output_type": "display_data"
    }
   ],
   "source": [
    "misc.questionSummary(df, q.function_duties)"
   ]
  },
  {
   "cell_type": "code",
   "execution_count": null,
   "metadata": {
    "scrolled": true
   },
   "outputs": [],
   "source": [
    "fails = list()\n",
    "for qc in (el for el in dir(f) if ('__' not in el and el != 'gender')):\n",
    "    try:\n",
    "        misc.questionSummary(df, qc)\n",
    "    except:\n",
    "        fails.append(qc)"
   ]
  },
  {
   "cell_type": "code",
   "execution_count": 19,
   "metadata": {},
   "outputs": [
    {
     "data": {
      "text/plain": [
       "[]"
      ]
     },
     "execution_count": 19,
     "metadata": {},
     "output_type": "execute_result"
    }
   ],
   "source": [
    "fails"
   ]
  },
  {
   "cell_type": "code",
   "execution_count": 20,
   "metadata": {},
   "outputs": [],
   "source": [
    "qstr, res = summary_list[0]"
   ]
  },
  {
   "cell_type": "code",
   "execution_count": 68,
   "metadata": {},
   "outputs": [],
   "source": [
    "def check_question_scales(res, debug=False):\n",
    "    resp, ans = res.index.levels\n",
    "    resp = pd.Series(resp)\n",
    "    ans_extract = ans.str.extractall(r'(\\d+)').astype(float).mean(level=0)\n",
    "    try:\n",
    "        ans_extract = ans_extract[0]\n",
    "    except:\n",
    "        if debug:\n",
    "            print(ans_extract)\n",
    "        return False\n",
    "    if debug:\n",
    "        print(resp, ans, ans_extract)\n",
    "        \n",
    "    if res.shape != ans_extract.shape:\n",
    "        return False\n",
    "    is_sorted = (resp.argsort() == ans_extract.argsort()).all() \n",
    "    return is_sorted"
   ]
  },
  {
   "cell_type": "code",
   "execution_count": 69,
   "metadata": {},
   "outputs": [
    {
     "name": "stdout",
     "output_type": "stream",
     "text": [
      "0    0.0\n",
      "1    1.0\n",
      "2    2.0\n",
      "3    3.0\n",
      "4    4.0\n",
      "5    5.0\n",
      "6    6.0\n",
      "Name: answer, dtype: float64 Index(['0 gange', '1 gange', '10+ gange', '2 gange', '3 gange', '4-5 gange',\n",
      "       '6-9 gange'],\n",
      "      dtype='object', name='response') 0     0.0\n",
      "1     1.0\n",
      "2    10.0\n",
      "3     2.0\n",
      "4     3.0\n",
      "5     4.5\n",
      "6     7.5\n",
      "Name: 0, dtype: float64\n"
     ]
    },
    {
     "data": {
      "text/plain": [
       "False"
      ]
     },
     "execution_count": 69,
     "metadata": {},
     "output_type": "execute_result"
    }
   ],
   "source": [
    "check_question_scales(summary_list[2][1], debug=True)"
   ]
  },
  {
   "cell_type": "code",
   "execution_count": null,
   "metadata": {},
   "outputs": [],
   "source": []
  },
  {
   "cell_type": "code",
   "execution_count": null,
   "metadata": {},
   "outputs": [],
   "source": []
  },
  {
   "cell_type": "code",
   "execution_count": null,
   "metadata": {},
   "outputs": [],
   "source": []
  },
  {
   "cell_type": "code",
   "execution_count": null,
   "metadata": {},
   "outputs": [],
   "source": []
  }
 ],
 "metadata": {
  "kernelspec": {
   "display_name": "Python 3",
   "language": "python",
   "name": "python3"
  },
  "language_info": {
   "codemirror_mode": {
    "name": "ipython",
    "version": 3
   },
   "file_extension": ".py",
   "mimetype": "text/x-python",
   "name": "python",
   "nbconvert_exporter": "python",
   "pygments_lexer": "ipython3",
   "version": "3.6.4"
  }
 },
 "nbformat": 4,
 "nbformat_minor": 2
}
