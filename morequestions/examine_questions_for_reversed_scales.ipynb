{
 "cells": [
  {
   "cell_type": "code",
   "execution_count": 1,
   "metadata": {},
   "outputs": [],
   "source": [
    "import sys\n",
    "import os\n",
    "sys.path.append(os.path.abspath(\"..\"))\n",
    "\n",
    "import numpy as np\n",
    "import pandas as pd\n",
    "import matplotlib as mpl\n",
    "import matplotlib.pyplot as plt\n",
    "import seaborn as sns\n",
    "import re\n",
    "from IPython.display import display, HTML\n",
    "sns.set(context='paper', style='whitegrid', color_codes=True, font_scale=1.8)\n",
    "colorcycle = [(0.498, 0.788, 0.498),\n",
    "              (0.745, 0.682, 0.831),\n",
    "              (0.992, 0.753, 0.525),\n",
    "              (0.220, 0.424, 0.690),\n",
    "              (0.749, 0.357, 0.090),\n",
    "              (1.000, 1.000, 0.600),\n",
    "              (0.941, 0.008, 0.498),\n",
    "              (0.400, 0.400, 0.400)]\n",
    "sns.set_palette(colorcycle)\n",
    "mpl.rcParams['figure.max_open_warning'] = 65\n",
    "mpl.rcParams['figure.figsize'] = [12, 7]\n",
    "mpl.rcParams['text.usetex'] = True\n",
    "\n",
    "from speclib import misc, plotting, loaders\n",
    "\n",
    "%matplotlib inline"
   ]
  },
  {
   "cell_type": "code",
   "execution_count": 2,
   "metadata": {},
   "outputs": [
    {
     "data": {
      "text/html": [
       "<div>\n",
       "<style scoped>\n",
       "    .dataframe tbody tr th:only-of-type {\n",
       "        vertical-align: middle;\n",
       "    }\n",
       "\n",
       "    .dataframe tbody tr th {\n",
       "        vertical-align: top;\n",
       "    }\n",
       "\n",
       "    .dataframe thead th {\n",
       "        text-align: right;\n",
       "    }\n",
       "</style>\n",
       "<table border=\"1\" class=\"dataframe\">\n",
       "  <thead>\n",
       "    <tr style=\"text-align: right;\">\n",
       "      <th></th>\n",
       "      <th>alcohol_binge10__answer</th>\n",
       "      <th>alcohol_binge10__answer_type</th>\n",
       "      <th>alcohol_binge10__condition</th>\n",
       "      <th>alcohol_binge10__question</th>\n",
       "      <th>alcohol_binge10__response</th>\n",
       "      <th>alcohol_binge5__answer</th>\n",
       "      <th>alcohol_binge5__answer_type</th>\n",
       "      <th>alcohol_binge5__condition</th>\n",
       "      <th>alcohol_binge5__question</th>\n",
       "      <th>alcohol_binge5__response</th>\n",
       "      <th>...</th>\n",
       "      <th>worries_partner__answer</th>\n",
       "      <th>worries_partner__answer_type</th>\n",
       "      <th>worries_partner__condition</th>\n",
       "      <th>worries_partner__question</th>\n",
       "      <th>worries_partner__response</th>\n",
       "      <th>worries_zieblings__answer</th>\n",
       "      <th>worries_zieblings__answer_type</th>\n",
       "      <th>worries_zieblings__condition</th>\n",
       "      <th>worries_zieblings__question</th>\n",
       "      <th>worries_zieblings__response</th>\n",
       "    </tr>\n",
       "  </thead>\n",
       "  <tbody>\n",
       "    <tr>\n",
       "      <th>0010fedde8e61cad5b049da6df8b5a</th>\n",
       "      <td>1.0</td>\n",
       "      <td>radio</td>\n",
       "      <td>alcohol_debut != 'Jeg har aldrig drukket alkohol'</td>\n",
       "      <td>Drukket mere end 10 genstande på en dag/aften</td>\n",
       "      <td>1 gange</td>\n",
       "      <td>2.0</td>\n",
       "      <td>radio</td>\n",
       "      <td>alcohol_debut != 'Jeg har aldrig drukket alkohol'</td>\n",
       "      <td>Drukket mere end 5 genstande på en dag/aften</td>\n",
       "      <td>2 gange</td>\n",
       "      <td>...</td>\n",
       "      <td>NaN</td>\n",
       "      <td>radio</td>\n",
       "      <td>False</td>\n",
       "      <td>Kæreste/ægtefælle</td>\n",
       "      <td>Har ingen</td>\n",
       "      <td>3.0</td>\n",
       "      <td>radio</td>\n",
       "      <td>False</td>\n",
       "      <td>Søskende</td>\n",
       "      <td>Sjældent</td>\n",
       "    </tr>\n",
       "    <tr>\n",
       "      <th>002ee26a0c38a1f77b7cdeab8046cd</th>\n",
       "      <td>1.0</td>\n",
       "      <td>radio</td>\n",
       "      <td>alcohol_debut != 'Jeg har aldrig drukket alkohol'</td>\n",
       "      <td>Drukket mere end 10 genstande på en dag/aften</td>\n",
       "      <td>1 gange</td>\n",
       "      <td>0.0</td>\n",
       "      <td>radio</td>\n",
       "      <td>alcohol_debut != 'Jeg har aldrig drukket alkohol'</td>\n",
       "      <td>Drukket mere end 5 genstande på en dag/aften</td>\n",
       "      <td>0 gange</td>\n",
       "      <td>...</td>\n",
       "      <td>2.0</td>\n",
       "      <td>radio</td>\n",
       "      <td>False</td>\n",
       "      <td>Kæreste/ægtefælle</td>\n",
       "      <td>Af og til</td>\n",
       "      <td>NaN</td>\n",
       "      <td>radio</td>\n",
       "      <td>False</td>\n",
       "      <td>Søskende</td>\n",
       "      <td>Har ingen</td>\n",
       "    </tr>\n",
       "    <tr>\n",
       "      <th>0037c93a19a7e90580086b462ba11b</th>\n",
       "      <td>2.0</td>\n",
       "      <td>radio</td>\n",
       "      <td>alcohol_debut != 'Jeg har aldrig drukket alkohol'</td>\n",
       "      <td>Drukket mere end 10 genstande på en dag/aften</td>\n",
       "      <td>2 gange</td>\n",
       "      <td>2.0</td>\n",
       "      <td>radio</td>\n",
       "      <td>alcohol_debut != 'Jeg har aldrig drukket alkohol'</td>\n",
       "      <td>Drukket mere end 5 genstande på en dag/aften</td>\n",
       "      <td>2 gange</td>\n",
       "      <td>...</td>\n",
       "      <td>NaN</td>\n",
       "      <td>radio</td>\n",
       "      <td>False</td>\n",
       "      <td>Kæreste/ægtefælle</td>\n",
       "      <td>Har ingen</td>\n",
       "      <td>2.0</td>\n",
       "      <td>radio</td>\n",
       "      <td>False</td>\n",
       "      <td>Søskende</td>\n",
       "      <td>Af og til</td>\n",
       "    </tr>\n",
       "    <tr>\n",
       "      <th>005b1e0298bde6b726156aefb8d88c</th>\n",
       "      <td>1.0</td>\n",
       "      <td>radio</td>\n",
       "      <td>alcohol_debut != 'Jeg har aldrig drukket alkohol'</td>\n",
       "      <td>Drukket mere end 10 genstande på en dag/aften</td>\n",
       "      <td>1 gange</td>\n",
       "      <td>1.0</td>\n",
       "      <td>radio</td>\n",
       "      <td>alcohol_debut != 'Jeg har aldrig drukket alkohol'</td>\n",
       "      <td>Drukket mere end 5 genstande på en dag/aften</td>\n",
       "      <td>1 gange</td>\n",
       "      <td>...</td>\n",
       "      <td>NaN</td>\n",
       "      <td>radio</td>\n",
       "      <td>False</td>\n",
       "      <td>Kæreste/ægtefælle</td>\n",
       "      <td>Har ingen</td>\n",
       "      <td>NaN</td>\n",
       "      <td>radio</td>\n",
       "      <td>False</td>\n",
       "      <td>Søskende</td>\n",
       "      <td>Har ingen</td>\n",
       "    </tr>\n",
       "    <tr>\n",
       "      <th>00ad591e46eb6f3d8c474d9de9e219</th>\n",
       "      <td>0.0</td>\n",
       "      <td>radio</td>\n",
       "      <td>alcohol_debut != 'Jeg har aldrig drukket alkohol'</td>\n",
       "      <td>Drukket mere end 10 genstande på en dag/aften</td>\n",
       "      <td>0 gange</td>\n",
       "      <td>1.0</td>\n",
       "      <td>radio</td>\n",
       "      <td>alcohol_debut != 'Jeg har aldrig drukket alkohol'</td>\n",
       "      <td>Drukket mere end 5 genstande på en dag/aften</td>\n",
       "      <td>1 gange</td>\n",
       "      <td>...</td>\n",
       "      <td>2.0</td>\n",
       "      <td>radio</td>\n",
       "      <td>False</td>\n",
       "      <td>Kæreste/ægtefælle</td>\n",
       "      <td>Af og til</td>\n",
       "      <td>3.0</td>\n",
       "      <td>radio</td>\n",
       "      <td>False</td>\n",
       "      <td>Søskende</td>\n",
       "      <td>Sjældent</td>\n",
       "    </tr>\n",
       "  </tbody>\n",
       "</table>\n",
       "<p>5 rows × 1431 columns</p>\n",
       "</div>"
      ],
      "text/plain": [
       "                                alcohol_binge10__answer  \\\n",
       "0010fedde8e61cad5b049da6df8b5a                      1.0   \n",
       "002ee26a0c38a1f77b7cdeab8046cd                      1.0   \n",
       "0037c93a19a7e90580086b462ba11b                      2.0   \n",
       "005b1e0298bde6b726156aefb8d88c                      1.0   \n",
       "00ad591e46eb6f3d8c474d9de9e219                      0.0   \n",
       "\n",
       "                               alcohol_binge10__answer_type  \\\n",
       "0010fedde8e61cad5b049da6df8b5a                        radio   \n",
       "002ee26a0c38a1f77b7cdeab8046cd                        radio   \n",
       "0037c93a19a7e90580086b462ba11b                        radio   \n",
       "005b1e0298bde6b726156aefb8d88c                        radio   \n",
       "00ad591e46eb6f3d8c474d9de9e219                        radio   \n",
       "\n",
       "                                                       alcohol_binge10__condition  \\\n",
       "0010fedde8e61cad5b049da6df8b5a  alcohol_debut != 'Jeg har aldrig drukket alkohol'   \n",
       "002ee26a0c38a1f77b7cdeab8046cd  alcohol_debut != 'Jeg har aldrig drukket alkohol'   \n",
       "0037c93a19a7e90580086b462ba11b  alcohol_debut != 'Jeg har aldrig drukket alkohol'   \n",
       "005b1e0298bde6b726156aefb8d88c  alcohol_debut != 'Jeg har aldrig drukket alkohol'   \n",
       "00ad591e46eb6f3d8c474d9de9e219  alcohol_debut != 'Jeg har aldrig drukket alkohol'   \n",
       "\n",
       "                                                    alcohol_binge10__question  \\\n",
       "0010fedde8e61cad5b049da6df8b5a  Drukket mere end 10 genstande på en dag/aften   \n",
       "002ee26a0c38a1f77b7cdeab8046cd  Drukket mere end 10 genstande på en dag/aften   \n",
       "0037c93a19a7e90580086b462ba11b  Drukket mere end 10 genstande på en dag/aften   \n",
       "005b1e0298bde6b726156aefb8d88c  Drukket mere end 10 genstande på en dag/aften   \n",
       "00ad591e46eb6f3d8c474d9de9e219  Drukket mere end 10 genstande på en dag/aften   \n",
       "\n",
       "                               alcohol_binge10__response  \\\n",
       "0010fedde8e61cad5b049da6df8b5a                   1 gange   \n",
       "002ee26a0c38a1f77b7cdeab8046cd                   1 gange   \n",
       "0037c93a19a7e90580086b462ba11b                   2 gange   \n",
       "005b1e0298bde6b726156aefb8d88c                   1 gange   \n",
       "00ad591e46eb6f3d8c474d9de9e219                   0 gange   \n",
       "\n",
       "                                alcohol_binge5__answer  \\\n",
       "0010fedde8e61cad5b049da6df8b5a                     2.0   \n",
       "002ee26a0c38a1f77b7cdeab8046cd                     0.0   \n",
       "0037c93a19a7e90580086b462ba11b                     2.0   \n",
       "005b1e0298bde6b726156aefb8d88c                     1.0   \n",
       "00ad591e46eb6f3d8c474d9de9e219                     1.0   \n",
       "\n",
       "                               alcohol_binge5__answer_type  \\\n",
       "0010fedde8e61cad5b049da6df8b5a                       radio   \n",
       "002ee26a0c38a1f77b7cdeab8046cd                       radio   \n",
       "0037c93a19a7e90580086b462ba11b                       radio   \n",
       "005b1e0298bde6b726156aefb8d88c                       radio   \n",
       "00ad591e46eb6f3d8c474d9de9e219                       radio   \n",
       "\n",
       "                                                        alcohol_binge5__condition  \\\n",
       "0010fedde8e61cad5b049da6df8b5a  alcohol_debut != 'Jeg har aldrig drukket alkohol'   \n",
       "002ee26a0c38a1f77b7cdeab8046cd  alcohol_debut != 'Jeg har aldrig drukket alkohol'   \n",
       "0037c93a19a7e90580086b462ba11b  alcohol_debut != 'Jeg har aldrig drukket alkohol'   \n",
       "005b1e0298bde6b726156aefb8d88c  alcohol_debut != 'Jeg har aldrig drukket alkohol'   \n",
       "00ad591e46eb6f3d8c474d9de9e219  alcohol_debut != 'Jeg har aldrig drukket alkohol'   \n",
       "\n",
       "                                                    alcohol_binge5__question  \\\n",
       "0010fedde8e61cad5b049da6df8b5a  Drukket mere end 5 genstande på en dag/aften   \n",
       "002ee26a0c38a1f77b7cdeab8046cd  Drukket mere end 5 genstande på en dag/aften   \n",
       "0037c93a19a7e90580086b462ba11b  Drukket mere end 5 genstande på en dag/aften   \n",
       "005b1e0298bde6b726156aefb8d88c  Drukket mere end 5 genstande på en dag/aften   \n",
       "00ad591e46eb6f3d8c474d9de9e219  Drukket mere end 5 genstande på en dag/aften   \n",
       "\n",
       "                               alcohol_binge5__response  \\\n",
       "0010fedde8e61cad5b049da6df8b5a                  2 gange   \n",
       "002ee26a0c38a1f77b7cdeab8046cd                  0 gange   \n",
       "0037c93a19a7e90580086b462ba11b                  2 gange   \n",
       "005b1e0298bde6b726156aefb8d88c                  1 gange   \n",
       "00ad591e46eb6f3d8c474d9de9e219                  1 gange   \n",
       "\n",
       "                                           ...              \\\n",
       "0010fedde8e61cad5b049da6df8b5a             ...               \n",
       "002ee26a0c38a1f77b7cdeab8046cd             ...               \n",
       "0037c93a19a7e90580086b462ba11b             ...               \n",
       "005b1e0298bde6b726156aefb8d88c             ...               \n",
       "00ad591e46eb6f3d8c474d9de9e219             ...               \n",
       "\n",
       "                                worries_partner__answer  \\\n",
       "0010fedde8e61cad5b049da6df8b5a                      NaN   \n",
       "002ee26a0c38a1f77b7cdeab8046cd                      2.0   \n",
       "0037c93a19a7e90580086b462ba11b                      NaN   \n",
       "005b1e0298bde6b726156aefb8d88c                      NaN   \n",
       "00ad591e46eb6f3d8c474d9de9e219                      2.0   \n",
       "\n",
       "                               worries_partner__answer_type  \\\n",
       "0010fedde8e61cad5b049da6df8b5a                        radio   \n",
       "002ee26a0c38a1f77b7cdeab8046cd                        radio   \n",
       "0037c93a19a7e90580086b462ba11b                        radio   \n",
       "005b1e0298bde6b726156aefb8d88c                        radio   \n",
       "00ad591e46eb6f3d8c474d9de9e219                        radio   \n",
       "\n",
       "                                worries_partner__condition  \\\n",
       "0010fedde8e61cad5b049da6df8b5a                       False   \n",
       "002ee26a0c38a1f77b7cdeab8046cd                       False   \n",
       "0037c93a19a7e90580086b462ba11b                       False   \n",
       "005b1e0298bde6b726156aefb8d88c                       False   \n",
       "00ad591e46eb6f3d8c474d9de9e219                       False   \n",
       "\n",
       "                               worries_partner__question  \\\n",
       "0010fedde8e61cad5b049da6df8b5a         Kæreste/ægtefælle   \n",
       "002ee26a0c38a1f77b7cdeab8046cd         Kæreste/ægtefælle   \n",
       "0037c93a19a7e90580086b462ba11b         Kæreste/ægtefælle   \n",
       "005b1e0298bde6b726156aefb8d88c         Kæreste/ægtefælle   \n",
       "00ad591e46eb6f3d8c474d9de9e219         Kæreste/ægtefælle   \n",
       "\n",
       "                               worries_partner__response  \\\n",
       "0010fedde8e61cad5b049da6df8b5a                 Har ingen   \n",
       "002ee26a0c38a1f77b7cdeab8046cd                 Af og til   \n",
       "0037c93a19a7e90580086b462ba11b                 Har ingen   \n",
       "005b1e0298bde6b726156aefb8d88c                 Har ingen   \n",
       "00ad591e46eb6f3d8c474d9de9e219                 Af og til   \n",
       "\n",
       "                                worries_zieblings__answer  \\\n",
       "0010fedde8e61cad5b049da6df8b5a                        3.0   \n",
       "002ee26a0c38a1f77b7cdeab8046cd                        NaN   \n",
       "0037c93a19a7e90580086b462ba11b                        2.0   \n",
       "005b1e0298bde6b726156aefb8d88c                        NaN   \n",
       "00ad591e46eb6f3d8c474d9de9e219                        3.0   \n",
       "\n",
       "                               worries_zieblings__answer_type  \\\n",
       "0010fedde8e61cad5b049da6df8b5a                          radio   \n",
       "002ee26a0c38a1f77b7cdeab8046cd                          radio   \n",
       "0037c93a19a7e90580086b462ba11b                          radio   \n",
       "005b1e0298bde6b726156aefb8d88c                          radio   \n",
       "00ad591e46eb6f3d8c474d9de9e219                          radio   \n",
       "\n",
       "                               worries_zieblings__condition  \\\n",
       "0010fedde8e61cad5b049da6df8b5a                        False   \n",
       "002ee26a0c38a1f77b7cdeab8046cd                        False   \n",
       "0037c93a19a7e90580086b462ba11b                        False   \n",
       "005b1e0298bde6b726156aefb8d88c                        False   \n",
       "00ad591e46eb6f3d8c474d9de9e219                        False   \n",
       "\n",
       "                               worries_zieblings__question  \\\n",
       "0010fedde8e61cad5b049da6df8b5a                    Søskende   \n",
       "002ee26a0c38a1f77b7cdeab8046cd                    Søskende   \n",
       "0037c93a19a7e90580086b462ba11b                    Søskende   \n",
       "005b1e0298bde6b726156aefb8d88c                    Søskende   \n",
       "00ad591e46eb6f3d8c474d9de9e219                    Søskende   \n",
       "\n",
       "                               worries_zieblings__response  \n",
       "0010fedde8e61cad5b049da6df8b5a                    Sjældent  \n",
       "002ee26a0c38a1f77b7cdeab8046cd                   Har ingen  \n",
       "0037c93a19a7e90580086b462ba11b                   Af og til  \n",
       "005b1e0298bde6b726156aefb8d88c                   Har ingen  \n",
       "00ad591e46eb6f3d8c474d9de9e219                    Sjældent  \n",
       "\n",
       "[5 rows x 1431 columns]"
      ]
     },
     "execution_count": 2,
     "metadata": {},
     "output_type": "execute_result"
    }
   ],
   "source": [
    "df = pd.read_json('../../allan_data/RGender_.json')\n",
    "userAlias = loaders.Useralias()\n",
    "df.index = df.index.map(lambda s: userAlias.lookup(s))\n",
    "q = misc.QuestionCompleter(df)\n",
    "f = misc.QuestionFilterer(df)\n",
    "\n",
    "df.head()"
   ]
  },
  {
   "cell_type": "markdown",
   "metadata": {},
   "source": [
    "## The types of questions"
   ]
  },
  {
   "cell_type": "code",
   "execution_count": 3,
   "metadata": {},
   "outputs": [
    {
     "data": {
      "text/plain": [
       "radio           266\n",
       "number           16\n",
       "multi_number      2\n",
       "number;radio      1\n",
       "scale             1\n",
       "Name: 0010fedde8e61cad5b049da6df8b5a, dtype: int64"
      ]
     },
     "execution_count": 3,
     "metadata": {},
     "output_type": "execute_result"
    }
   ],
   "source": [
    "df.filter(like='answer_type').iloc[0].value_counts()"
   ]
  },
  {
   "cell_type": "code",
   "execution_count": 4,
   "metadata": {},
   "outputs": [
    {
     "data": {
      "text/html": [
       "<h3><i>Question:</i>  Hvor gammel var du første gang du drak mindst en genstand?</h3>"
      ],
      "text/plain": [
       "<IPython.core.display.HTML object>"
      ]
     },
     "metadata": {},
     "output_type": "display_data"
    },
    {
     "data": {
      "text/html": [
       "<i>Question str:</i>    <tt>alcohol_debut</tt>"
      ],
      "text/plain": [
       "<IPython.core.display.HTML object>"
      ]
     },
     "metadata": {},
     "output_type": "display_data"
    },
    {
     "data": {
      "text/html": [
       "<i>Answer type:</i>    <tt>number;radio</tt>"
      ],
      "text/plain": [
       "<IPython.core.display.HTML object>"
      ]
     },
     "metadata": {},
     "output_type": "display_data"
    },
    {
     "data": {
      "text/html": [
       "<div>\n",
       "<style scoped>\n",
       "    .dataframe tbody tr th:only-of-type {\n",
       "        vertical-align: middle;\n",
       "    }\n",
       "\n",
       "    .dataframe tbody tr th {\n",
       "        vertical-align: top;\n",
       "    }\n",
       "\n",
       "    .dataframe thead th {\n",
       "        text-align: right;\n",
       "    }\n",
       "</style>\n",
       "<table border=\"1\" class=\"dataframe\">\n",
       "  <thead>\n",
       "    <tr style=\"text-align: right;\">\n",
       "      <th></th>\n",
       "      <th>response_index</th>\n",
       "      <th>answer_index</th>\n",
       "      <th>count</th>\n",
       "    </tr>\n",
       "  </thead>\n",
       "  <tbody>\n",
       "    <tr>\n",
       "      <th>0</th>\n",
       "      <td>14</td>\n",
       "      <td>0.0</td>\n",
       "      <td>34</td>\n",
       "    </tr>\n",
       "    <tr>\n",
       "      <th>1</th>\n",
       "      <td>15</td>\n",
       "      <td>1.0</td>\n",
       "      <td>906</td>\n",
       "    </tr>\n",
       "  </tbody>\n",
       "</table>\n",
       "</div>"
      ],
      "text/plain": [
       "  response_index  answer_index  count\n",
       "0             14           0.0     34\n",
       "1             15           1.0    906"
      ]
     },
     "metadata": {},
     "output_type": "display_data"
    },
    {
     "data": {
      "text/html": [
       "<div>\n",
       "<style scoped>\n",
       "    .dataframe tbody tr th:only-of-type {\n",
       "        vertical-align: middle;\n",
       "    }\n",
       "\n",
       "    .dataframe tbody tr th {\n",
       "        vertical-align: top;\n",
       "    }\n",
       "\n",
       "    .dataframe thead th {\n",
       "        text-align: right;\n",
       "    }\n",
       "</style>\n",
       "<table border=\"1\" class=\"dataframe\">\n",
       "  <thead>\n",
       "    <tr style=\"text-align: right;\">\n",
       "      <th></th>\n",
       "      <th>alcohol_debut__answer</th>\n",
       "      <th>alcohol_debut__response</th>\n",
       "    </tr>\n",
       "  </thead>\n",
       "  <tbody>\n",
       "    <tr>\n",
       "      <th>c97d4dc047548a58aed2e7aaca58be</th>\n",
       "      <td>1.0</td>\n",
       "      <td>15</td>\n",
       "    </tr>\n",
       "    <tr>\n",
       "      <th>30b639aa61a5ea9037774f851b16f3</th>\n",
       "      <td>1.0</td>\n",
       "      <td>13</td>\n",
       "    </tr>\n",
       "    <tr>\n",
       "      <th>249ade4a6962f7f6a7ba663bd5468e</th>\n",
       "      <td>0.0</td>\n",
       "      <td>jeg_har_aldrig_drukket_alkohol</td>\n",
       "    </tr>\n",
       "    <tr>\n",
       "      <th>1a876510d7aee92aca3989ee1c0020</th>\n",
       "      <td>1.0</td>\n",
       "      <td>14</td>\n",
       "    </tr>\n",
       "    <tr>\n",
       "      <th>c1fcc5591fdbaf78c00d468ddcc43b</th>\n",
       "      <td>1.0</td>\n",
       "      <td>15</td>\n",
       "    </tr>\n",
       "    <tr>\n",
       "      <th>c3e0d3ae5936ee580d4dcdba281446</th>\n",
       "      <td>1.0</td>\n",
       "      <td>12</td>\n",
       "    </tr>\n",
       "    <tr>\n",
       "      <th>f41c375b5c87d3593b963b49a3f9a3</th>\n",
       "      <td>1.0</td>\n",
       "      <td>16</td>\n",
       "    </tr>\n",
       "    <tr>\n",
       "      <th>fa14720117a29e0a03f8f23975de5e</th>\n",
       "      <td>1.0</td>\n",
       "      <td>16</td>\n",
       "    </tr>\n",
       "    <tr>\n",
       "      <th>d10c230dd1eba0aeb6f4a2a2a90b94</th>\n",
       "      <td>1.0</td>\n",
       "      <td>16</td>\n",
       "    </tr>\n",
       "    <tr>\n",
       "      <th>0ff4e370c221cd71bbb1f892c60cfd</th>\n",
       "      <td>1.0</td>\n",
       "      <td>5</td>\n",
       "    </tr>\n",
       "  </tbody>\n",
       "</table>\n",
       "</div>"
      ],
      "text/plain": [
       "                                alcohol_debut__answer  \\\n",
       "c97d4dc047548a58aed2e7aaca58be                    1.0   \n",
       "30b639aa61a5ea9037774f851b16f3                    1.0   \n",
       "249ade4a6962f7f6a7ba663bd5468e                    0.0   \n",
       "1a876510d7aee92aca3989ee1c0020                    1.0   \n",
       "c1fcc5591fdbaf78c00d468ddcc43b                    1.0   \n",
       "c3e0d3ae5936ee580d4dcdba281446                    1.0   \n",
       "f41c375b5c87d3593b963b49a3f9a3                    1.0   \n",
       "fa14720117a29e0a03f8f23975de5e                    1.0   \n",
       "d10c230dd1eba0aeb6f4a2a2a90b94                    1.0   \n",
       "0ff4e370c221cd71bbb1f892c60cfd                    1.0   \n",
       "\n",
       "                                       alcohol_debut__response  \n",
       "c97d4dc047548a58aed2e7aaca58be                              15  \n",
       "30b639aa61a5ea9037774f851b16f3                              13  \n",
       "249ade4a6962f7f6a7ba663bd5468e  jeg_har_aldrig_drukket_alkohol  \n",
       "1a876510d7aee92aca3989ee1c0020                              14  \n",
       "c1fcc5591fdbaf78c00d468ddcc43b                              15  \n",
       "c3e0d3ae5936ee580d4dcdba281446                              12  \n",
       "f41c375b5c87d3593b963b49a3f9a3                              16  \n",
       "fa14720117a29e0a03f8f23975de5e                              16  \n",
       "d10c230dd1eba0aeb6f4a2a2a90b94                              16  \n",
       "0ff4e370c221cd71bbb1f892c60cfd                               5  "
      ]
     },
     "metadata": {},
     "output_type": "display_data"
    }
   ],
   "source": [
    "misc.questionSummary(df, q.alcohol_debut, samplesize=10)"
   ]
  },
  {
   "cell_type": "code",
   "execution_count": 5,
   "metadata": {},
   "outputs": [
    {
     "data": {
      "text/html": [
       "<div>\n",
       "<style scoped>\n",
       "    .dataframe tbody tr th:only-of-type {\n",
       "        vertical-align: middle;\n",
       "    }\n",
       "\n",
       "    .dataframe tbody tr th {\n",
       "        vertical-align: top;\n",
       "    }\n",
       "\n",
       "    .dataframe thead th {\n",
       "        text-align: right;\n",
       "    }\n",
       "</style>\n",
       "<table border=\"1\" class=\"dataframe\">\n",
       "  <thead>\n",
       "    <tr style=\"text-align: right;\">\n",
       "      <th></th>\n",
       "      <th>alcohol_debut__answer</th>\n",
       "      <th>alcohol_debut__answer_type</th>\n",
       "      <th>alcohol_debut__condition</th>\n",
       "      <th>alcohol_debut__question</th>\n",
       "      <th>alcohol_debut__response</th>\n",
       "    </tr>\n",
       "  </thead>\n",
       "  <tbody>\n",
       "    <tr>\n",
       "      <th>0010fedde8e61cad5b049da6df8b5a</th>\n",
       "      <td>1.0</td>\n",
       "      <td>number;radio</td>\n",
       "      <td>False</td>\n",
       "      <td>Hvor gammel var du første gang du drak mindst ...</td>\n",
       "      <td>15</td>\n",
       "    </tr>\n",
       "    <tr>\n",
       "      <th>002ee26a0c38a1f77b7cdeab8046cd</th>\n",
       "      <td>1.0</td>\n",
       "      <td>number;radio</td>\n",
       "      <td>False</td>\n",
       "      <td>Hvor gammel var du første gang du drak mindst ...</td>\n",
       "      <td>14</td>\n",
       "    </tr>\n",
       "    <tr>\n",
       "      <th>0037c93a19a7e90580086b462ba11b</th>\n",
       "      <td>1.0</td>\n",
       "      <td>number;radio</td>\n",
       "      <td>False</td>\n",
       "      <td>Hvor gammel var du første gang du drak mindst ...</td>\n",
       "      <td>15</td>\n",
       "    </tr>\n",
       "    <tr>\n",
       "      <th>005b1e0298bde6b726156aefb8d88c</th>\n",
       "      <td>1.0</td>\n",
       "      <td>number;radio</td>\n",
       "      <td>False</td>\n",
       "      <td>Hvor gammel var du første gang du drak mindst ...</td>\n",
       "      <td>14</td>\n",
       "    </tr>\n",
       "    <tr>\n",
       "      <th>00ad591e46eb6f3d8c474d9de9e219</th>\n",
       "      <td>1.0</td>\n",
       "      <td>number;radio</td>\n",
       "      <td>False</td>\n",
       "      <td>Hvor gammel var du første gang du drak mindst ...</td>\n",
       "      <td>16</td>\n",
       "    </tr>\n",
       "  </tbody>\n",
       "</table>\n",
       "</div>"
      ],
      "text/plain": [
       "                                alcohol_debut__answer  \\\n",
       "0010fedde8e61cad5b049da6df8b5a                    1.0   \n",
       "002ee26a0c38a1f77b7cdeab8046cd                    1.0   \n",
       "0037c93a19a7e90580086b462ba11b                    1.0   \n",
       "005b1e0298bde6b726156aefb8d88c                    1.0   \n",
       "00ad591e46eb6f3d8c474d9de9e219                    1.0   \n",
       "\n",
       "                               alcohol_debut__answer_type  \\\n",
       "0010fedde8e61cad5b049da6df8b5a               number;radio   \n",
       "002ee26a0c38a1f77b7cdeab8046cd               number;radio   \n",
       "0037c93a19a7e90580086b462ba11b               number;radio   \n",
       "005b1e0298bde6b726156aefb8d88c               number;radio   \n",
       "00ad591e46eb6f3d8c474d9de9e219               number;radio   \n",
       "\n",
       "                                alcohol_debut__condition  \\\n",
       "0010fedde8e61cad5b049da6df8b5a                     False   \n",
       "002ee26a0c38a1f77b7cdeab8046cd                     False   \n",
       "0037c93a19a7e90580086b462ba11b                     False   \n",
       "005b1e0298bde6b726156aefb8d88c                     False   \n",
       "00ad591e46eb6f3d8c474d9de9e219                     False   \n",
       "\n",
       "                                                          alcohol_debut__question  \\\n",
       "0010fedde8e61cad5b049da6df8b5a  Hvor gammel var du første gang du drak mindst ...   \n",
       "002ee26a0c38a1f77b7cdeab8046cd  Hvor gammel var du første gang du drak mindst ...   \n",
       "0037c93a19a7e90580086b462ba11b  Hvor gammel var du første gang du drak mindst ...   \n",
       "005b1e0298bde6b726156aefb8d88c  Hvor gammel var du første gang du drak mindst ...   \n",
       "00ad591e46eb6f3d8c474d9de9e219  Hvor gammel var du første gang du drak mindst ...   \n",
       "\n",
       "                               alcohol_debut__response  \n",
       "0010fedde8e61cad5b049da6df8b5a                      15  \n",
       "002ee26a0c38a1f77b7cdeab8046cd                      14  \n",
       "0037c93a19a7e90580086b462ba11b                      15  \n",
       "005b1e0298bde6b726156aefb8d88c                      14  \n",
       "00ad591e46eb6f3d8c474d9de9e219                      16  "
      ]
     },
     "execution_count": 5,
     "metadata": {},
     "output_type": "execute_result"
    }
   ],
   "source": [
    "f.alcohol_debut.head()"
   ]
  },
  {
   "cell_type": "code",
   "execution_count": 6,
   "metadata": {},
   "outputs": [
    {
     "data": {
      "text/plain": [
       "1.0    906\n",
       "0.0     34\n",
       "Name: alcohol_debut__answer, dtype: int64"
      ]
     },
     "execution_count": 6,
     "metadata": {},
     "output_type": "execute_result"
    }
   ],
   "source": [
    "df.alcohol_debut__answer.value_counts()"
   ]
  },
  {
   "cell_type": "code",
   "execution_count": 7,
   "metadata": {},
   "outputs": [
    {
     "name": "stdout",
     "output_type": "stream",
     "text": [
      "alcohol_debut__answer\n",
      "alcohol_debut__answer_type\n",
      "alcohol_debut__condition\n",
      "alcohol_debut__question\n",
      "alcohol_debut__response\n"
     ]
    }
   ],
   "source": [
    "print(*f.alcohol_debut.columns, sep='\\n')"
   ]
  },
  {
   "cell_type": "code",
   "execution_count": 8,
   "metadata": {},
   "outputs": [],
   "source": [
    "cq = f.alcohol_drunk"
   ]
  },
  {
   "cell_type": "code",
   "execution_count": 9,
   "metadata": {},
   "outputs": [
    {
     "data": {
      "text/plain": [
       "alcohol_drunk__answer  alcohol_drunk__response\n",
       "0.0                    0 gange                    135\n",
       "1.0                    1 gange                    124\n",
       "2.0                    2 gange                    155\n",
       "3.0                    3 gange                    120\n",
       "4.0                    4-5 gange                  187\n",
       "5.0                    6-9 gange                  136\n",
       "6.0                    10+ gange                   49\n",
       "Name: alcohol_drunk__response, dtype: int64"
      ]
     },
     "execution_count": 9,
     "metadata": {},
     "output_type": "execute_result"
    }
   ],
   "source": [
    "cq.groupby(cq.alcohol_drunk__answer)[q.alcohol_drunk__response].value_counts()"
   ]
  },
  {
   "cell_type": "code",
   "execution_count": 10,
   "metadata": {},
   "outputs": [],
   "source": [
    "radio_questions = df.iloc[0].filter(like='answer_type')\n",
    "radio_questions = radio_questions[radio_questions == 'radio'].index\n",
    "radio_questions = radio_questions.str.replace('__answer_type', '').tolist()"
   ]
  },
  {
   "cell_type": "code",
   "execution_count": 11,
   "metadata": {},
   "outputs": [],
   "source": [
    "def response_compare(df, q):\n",
    "    cq = df.filter(like=q)\n",
    "    res = cq.groupby(cq[q + '__answer'])[q + '__response'].unique()\n",
    "    res = res.map(lambda el: el[0])\n",
    "    return res"
   ]
  },
  {
   "cell_type": "code",
   "execution_count": 12,
   "metadata": {},
   "outputs": [],
   "source": [
    "summary_list = list()\n",
    "for cq in radio_questions:\n",
    "    res = pd.DataFrame(response_compare(df, cq))\n",
    "    qstr = df.iloc[0].filter(like=cq + '__question')\n",
    "    summary_list.append((qstr, res))"
   ]
  },
  {
   "cell_type": "code",
   "execution_count": 13,
   "metadata": {
    "scrolled": true
   },
   "outputs": [
    {
     "data": {
      "text/html": [
       "<h3><i>Question:</i>  At varetage dine praktiske pligter i hjemmet?</h3>"
      ],
      "text/plain": [
       "<IPython.core.display.HTML object>"
      ]
     },
     "metadata": {},
     "output_type": "display_data"
    },
    {
     "data": {
      "text/html": [
       "<i>Question str:</i>    <tt>function_duties</tt>"
      ],
      "text/plain": [
       "<IPython.core.display.HTML object>"
      ]
     },
     "metadata": {},
     "output_type": "display_data"
    },
    {
     "data": {
      "text/html": [
       "<i>Answer type:</i>    <tt>radio</tt>"
      ],
      "text/plain": [
       "<IPython.core.display.HTML object>"
      ]
     },
     "metadata": {},
     "output_type": "display_data"
    },
    {
     "data": {
      "text/html": [
       "<div>\n",
       "<style scoped>\n",
       "    .dataframe tbody tr th:only-of-type {\n",
       "        vertical-align: middle;\n",
       "    }\n",
       "\n",
       "    .dataframe tbody tr th {\n",
       "        vertical-align: top;\n",
       "    }\n",
       "\n",
       "    .dataframe thead th {\n",
       "        text-align: right;\n",
       "    }\n",
       "</style>\n",
       "<table border=\"1\" class=\"dataframe\">\n",
       "  <thead>\n",
       "    <tr style=\"text-align: right;\">\n",
       "      <th></th>\n",
       "      <th>response_index</th>\n",
       "      <th>answer_index</th>\n",
       "      <th>count</th>\n",
       "    </tr>\n",
       "  </thead>\n",
       "  <tbody>\n",
       "    <tr>\n",
       "      <th>0</th>\n",
       "      <td>Slet ikke</td>\n",
       "      <td>0.0</td>\n",
       "      <td>322</td>\n",
       "    </tr>\n",
       "    <tr>\n",
       "      <th>1</th>\n",
       "      <td>Lidt</td>\n",
       "      <td>1.0</td>\n",
       "      <td>341</td>\n",
       "    </tr>\n",
       "    <tr>\n",
       "      <th>2</th>\n",
       "      <td>Noget</td>\n",
       "      <td>2.0</td>\n",
       "      <td>188</td>\n",
       "    </tr>\n",
       "    <tr>\n",
       "      <th>3</th>\n",
       "      <td>Meget</td>\n",
       "      <td>3.0</td>\n",
       "      <td>70</td>\n",
       "    </tr>\n",
       "    <tr>\n",
       "      <th>4</th>\n",
       "      <td>Virkelig meget/kan ikke</td>\n",
       "      <td>4.0</td>\n",
       "      <td>12</td>\n",
       "    </tr>\n",
       "  </tbody>\n",
       "</table>\n",
       "</div>"
      ],
      "text/plain": [
       "            response_index  answer_index  count\n",
       "0                Slet ikke           0.0    322\n",
       "1                     Lidt           1.0    341\n",
       "2                    Noget           2.0    188\n",
       "3                    Meget           3.0     70\n",
       "4  Virkelig meget/kan ikke           4.0     12"
      ]
     },
     "metadata": {},
     "output_type": "display_data"
    }
   ],
   "source": [
    "misc.questionSummary(df, q.function_duties)"
   ]
  },
  {
   "cell_type": "raw",
   "metadata": {
    "scrolled": true
   },
   "source": [
    "fails = list()\n",
    "for qc in (el for el in dir(f) if ('__' not in el and el != 'gender')):\n",
    "    try:\n",
    "        misc.questionSummary(df, qc)\n",
    "    except:\n",
    "        fails.append(qc)\n",
    "\n",
    "fails"
   ]
  },
  {
   "cell_type": "code",
   "execution_count": 14,
   "metadata": {},
   "outputs": [],
   "source": [
    "%run examine_questions_for_reversed_scales_functions.py"
   ]
  },
  {
   "cell_type": "code",
   "execution_count": 15,
   "metadata": {},
   "outputs": [],
   "source": [
    "processed = list()\n",
    "for i, (qstr, res) in enumerate(summary_list):\n",
    "    ans_extract = check_question_scales(res)\n",
    "    ans_extract['idx'] = i\n",
    "    ans_extract['qname'] = qstr.index[0]\n",
    "    ans_extract['qstr'] = qstr.values[0]\n",
    "    processed.append(ans_extract)"
   ]
  },
  {
   "cell_type": "code",
   "execution_count": 16,
   "metadata": {},
   "outputs": [
    {
     "data": {
      "text/html": [
       "<div>\n",
       "<style scoped>\n",
       "    .dataframe tbody tr th:only-of-type {\n",
       "        vertical-align: middle;\n",
       "    }\n",
       "\n",
       "    .dataframe tbody tr th {\n",
       "        vertical-align: top;\n",
       "    }\n",
       "\n",
       "    .dataframe thead th {\n",
       "        text-align: right;\n",
       "    }\n",
       "</style>\n",
       "<table border=\"1\" class=\"dataframe\">\n",
       "  <thead>\n",
       "    <tr style=\"text-align: right;\">\n",
       "      <th></th>\n",
       "      <th>ans_resp_shape_mismatch</th>\n",
       "      <th>idx</th>\n",
       "      <th>numeric_responses</th>\n",
       "      <th>qname</th>\n",
       "      <th>qstr</th>\n",
       "      <th>resp_is_sorted</th>\n",
       "      <th>ved_ikke</th>\n",
       "    </tr>\n",
       "  </thead>\n",
       "  <tbody>\n",
       "    <tr>\n",
       "      <th>0</th>\n",
       "      <td>NaN</td>\n",
       "      <td>0</td>\n",
       "      <td>True</td>\n",
       "      <td>alcohol_binge10</td>\n",
       "      <td>Drukket mere end 10 genstande på en dag/aften</td>\n",
       "      <td>True</td>\n",
       "      <td>0</td>\n",
       "    </tr>\n",
       "    <tr>\n",
       "      <th>1</th>\n",
       "      <td>NaN</td>\n",
       "      <td>1</td>\n",
       "      <td>True</td>\n",
       "      <td>alcohol_binge5</td>\n",
       "      <td>Drukket mere end 5 genstande på en dag/aften</td>\n",
       "      <td>True</td>\n",
       "      <td>0</td>\n",
       "    </tr>\n",
       "    <tr>\n",
       "      <th>2</th>\n",
       "      <td>NaN</td>\n",
       "      <td>2</td>\n",
       "      <td>True</td>\n",
       "      <td>alcohol_drunk</td>\n",
       "      <td>Hvor mange gange er du blevet fuld af at drikk...</td>\n",
       "      <td>True</td>\n",
       "      <td>0</td>\n",
       "    </tr>\n",
       "    <tr>\n",
       "      <th>3</th>\n",
       "      <td>NaN</td>\n",
       "      <td>3</td>\n",
       "      <td>True</td>\n",
       "      <td>alcohol_everyday</td>\n",
       "      <td>Drukket dig fuld på en hverdagsaften/dag, hvor...</td>\n",
       "      <td>True</td>\n",
       "      <td>0</td>\n",
       "    </tr>\n",
       "    <tr>\n",
       "      <th>4</th>\n",
       "      <td>NaN</td>\n",
       "      <td>4</td>\n",
       "      <td>True</td>\n",
       "      <td>alcohol_very_drunk</td>\n",
       "      <td>Drukket dig meget fuld</td>\n",
       "      <td>True</td>\n",
       "      <td>0</td>\n",
       "    </tr>\n",
       "    <tr>\n",
       "      <th>5</th>\n",
       "      <td>NaN</td>\n",
       "      <td>5</td>\n",
       "      <td>True</td>\n",
       "      <td>alcohol_weekend</td>\n",
       "      <td>Drukket alkohol i weekenden</td>\n",
       "      <td>True</td>\n",
       "      <td>0</td>\n",
       "    </tr>\n",
       "    <tr>\n",
       "      <th>6</th>\n",
       "      <td>NaN</td>\n",
       "      <td>6</td>\n",
       "      <td>False</td>\n",
       "      <td>ambition_career</td>\n",
       "      <td>Hvor vigtig er din faglige karriere for dig i ...</td>\n",
       "      <td>NaN</td>\n",
       "      <td>1</td>\n",
       "    </tr>\n",
       "    <tr>\n",
       "      <th>7</th>\n",
       "      <td>NaN</td>\n",
       "      <td>7</td>\n",
       "      <td>False</td>\n",
       "      <td>ambition_job</td>\n",
       "      <td>Hvor vigtige tror du, at dine karakterer på de...</td>\n",
       "      <td>NaN</td>\n",
       "      <td>1</td>\n",
       "    </tr>\n",
       "    <tr>\n",
       "      <th>8</th>\n",
       "      <td>NaN</td>\n",
       "      <td>8</td>\n",
       "      <td>False</td>\n",
       "      <td>ambition_mark</td>\n",
       "      <td>Hvor meget betyder dine karakterer for dig?</td>\n",
       "      <td>NaN</td>\n",
       "      <td>0</td>\n",
       "    </tr>\n",
       "    <tr>\n",
       "      <th>9</th>\n",
       "      <td>NaN</td>\n",
       "      <td>9</td>\n",
       "      <td>False</td>\n",
       "      <td>bf_complet</td>\n",
       "      <td>lægger planer og får dem gennemført</td>\n",
       "      <td>NaN</td>\n",
       "      <td>0</td>\n",
       "    </tr>\n",
       "  </tbody>\n",
       "</table>\n",
       "</div>"
      ],
      "text/plain": [
       "  ans_resp_shape_mismatch  idx  numeric_responses               qname  \\\n",
       "0                     NaN    0               True     alcohol_binge10   \n",
       "1                     NaN    1               True      alcohol_binge5   \n",
       "2                     NaN    2               True       alcohol_drunk   \n",
       "3                     NaN    3               True    alcohol_everyday   \n",
       "4                     NaN    4               True  alcohol_very_drunk   \n",
       "5                     NaN    5               True     alcohol_weekend   \n",
       "6                     NaN    6              False     ambition_career   \n",
       "7                     NaN    7              False        ambition_job   \n",
       "8                     NaN    8              False       ambition_mark   \n",
       "9                     NaN    9              False          bf_complet   \n",
       "\n",
       "                                                qstr resp_is_sorted  ved_ikke  \n",
       "0      Drukket mere end 10 genstande på en dag/aften           True         0  \n",
       "1       Drukket mere end 5 genstande på en dag/aften           True         0  \n",
       "2  Hvor mange gange er du blevet fuld af at drikk...           True         0  \n",
       "3  Drukket dig fuld på en hverdagsaften/dag, hvor...           True         0  \n",
       "4                             Drukket dig meget fuld           True         0  \n",
       "5                        Drukket alkohol i weekenden           True         0  \n",
       "6  Hvor vigtig er din faglige karriere for dig i ...            NaN         1  \n",
       "7  Hvor vigtige tror du, at dine karakterer på de...            NaN         1  \n",
       "8        Hvor meget betyder dine karakterer for dig?            NaN         0  \n",
       "9                lægger planer og får dem gennemført            NaN         0  "
      ]
     },
     "execution_count": 16,
     "metadata": {},
     "output_type": "execute_result"
    }
   ],
   "source": [
    "pr = pd.DataFrame(processed)\n",
    "pr['qname'] = pr.qname.str.replace('__question', '')\n",
    "pr.head(10)"
   ]
  },
  {
   "cell_type": "code",
   "execution_count": 17,
   "metadata": {},
   "outputs": [
    {
     "data": {
      "text/plain": [
       "0.13909774436090225"
      ]
     },
     "execution_count": 17,
     "metadata": {},
     "output_type": "execute_result"
    }
   ],
   "source": [
    "pr.resp_is_sorted.fillna(False).mean()"
   ]
  },
  {
   "cell_type": "code",
   "execution_count": 18,
   "metadata": {},
   "outputs": [
    {
     "data": {
      "text/html": [
       "<h3><i>Question:</i>  Hvor meget betyder dine karakterer for dig?</h3>"
      ],
      "text/plain": [
       "<IPython.core.display.HTML object>"
      ]
     },
     "metadata": {},
     "output_type": "display_data"
    },
    {
     "data": {
      "text/html": [
       "<i>Question str:</i>    <tt>ambition_mark</tt>"
      ],
      "text/plain": [
       "<IPython.core.display.HTML object>"
      ]
     },
     "metadata": {},
     "output_type": "display_data"
    },
    {
     "data": {
      "text/html": [
       "<i>Answer type:</i>    <tt>radio</tt>"
      ],
      "text/plain": [
       "<IPython.core.display.HTML object>"
      ]
     },
     "metadata": {},
     "output_type": "display_data"
    },
    {
     "data": {
      "text/html": [
       "<div>\n",
       "<style scoped>\n",
       "    .dataframe tbody tr th:only-of-type {\n",
       "        vertical-align: middle;\n",
       "    }\n",
       "\n",
       "    .dataframe tbody tr th {\n",
       "        vertical-align: top;\n",
       "    }\n",
       "\n",
       "    .dataframe thead th {\n",
       "        text-align: right;\n",
       "    }\n",
       "</style>\n",
       "<table border=\"1\" class=\"dataframe\">\n",
       "  <thead>\n",
       "    <tr style=\"text-align: right;\">\n",
       "      <th></th>\n",
       "      <th>response_index</th>\n",
       "      <th>answer_index</th>\n",
       "      <th>count</th>\n",
       "    </tr>\n",
       "  </thead>\n",
       "  <tbody>\n",
       "    <tr>\n",
       "      <th>0</th>\n",
       "      <td>Mine karakterer er meget vigtige for mig</td>\n",
       "      <td>0.0</td>\n",
       "      <td>149</td>\n",
       "    </tr>\n",
       "    <tr>\n",
       "      <th>1</th>\n",
       "      <td>Mine karakterer er vigtige for mig</td>\n",
       "      <td>1.0</td>\n",
       "      <td>574</td>\n",
       "    </tr>\n",
       "    <tr>\n",
       "      <th>2</th>\n",
       "      <td>Mine karakterer er ikke så vigtige for mig</td>\n",
       "      <td>2.0</td>\n",
       "      <td>210</td>\n",
       "    </tr>\n",
       "    <tr>\n",
       "      <th>3</th>\n",
       "      <td>Ved ikke</td>\n",
       "      <td>3.0</td>\n",
       "      <td>8</td>\n",
       "    </tr>\n",
       "  </tbody>\n",
       "</table>\n",
       "</div>"
      ],
      "text/plain": [
       "                               response_index  answer_index  count\n",
       "0    Mine karakterer er meget vigtige for mig           0.0    149\n",
       "1          Mine karakterer er vigtige for mig           1.0    574\n",
       "2  Mine karakterer er ikke så vigtige for mig           2.0    210\n",
       "3                                    Ved ikke           3.0      8"
      ]
     },
     "metadata": {},
     "output_type": "display_data"
    }
   ],
   "source": [
    "misc.questionSummary(df, pr.qname.loc[8])"
   ]
  },
  {
   "cell_type": "code",
   "execution_count": 19,
   "metadata": {},
   "outputs": [
    {
     "data": {
      "text/html": [
       "<div>\n",
       "<style scoped>\n",
       "    .dataframe tbody tr th:only-of-type {\n",
       "        vertical-align: middle;\n",
       "    }\n",
       "\n",
       "    .dataframe tbody tr th {\n",
       "        vertical-align: top;\n",
       "    }\n",
       "\n",
       "    .dataframe thead th {\n",
       "        text-align: right;\n",
       "    }\n",
       "</style>\n",
       "<table border=\"1\" class=\"dataframe\">\n",
       "  <thead>\n",
       "    <tr style=\"text-align: right;\">\n",
       "      <th></th>\n",
       "      <th>ambition_mark__response</th>\n",
       "    </tr>\n",
       "    <tr>\n",
       "      <th>ambition_mark__answer</th>\n",
       "      <th></th>\n",
       "    </tr>\n",
       "  </thead>\n",
       "  <tbody>\n",
       "    <tr>\n",
       "      <th>0.0</th>\n",
       "      <td>Mine karakterer er meget vigtige for mig</td>\n",
       "    </tr>\n",
       "    <tr>\n",
       "      <th>1.0</th>\n",
       "      <td>Mine karakterer er vigtige for mig</td>\n",
       "    </tr>\n",
       "    <tr>\n",
       "      <th>2.0</th>\n",
       "      <td>Mine karakterer er ikke så vigtige for mig</td>\n",
       "    </tr>\n",
       "    <tr>\n",
       "      <th>3.0</th>\n",
       "      <td>Jeg er helt ligeglad med hvilke karakterer jeg...</td>\n",
       "    </tr>\n",
       "  </tbody>\n",
       "</table>\n",
       "</div>"
      ],
      "text/plain": [
       "                                                 ambition_mark__response\n",
       "ambition_mark__answer                                                   \n",
       "0.0                             Mine karakterer er meget vigtige for mig\n",
       "1.0                                   Mine karakterer er vigtige for mig\n",
       "2.0                           Mine karakterer er ikke så vigtige for mig\n",
       "3.0                    Jeg er helt ligeglad med hvilke karakterer jeg..."
      ]
     },
     "execution_count": 19,
     "metadata": {},
     "output_type": "execute_result"
    }
   ],
   "source": [
    "summary_list[8][1]"
   ]
  },
  {
   "cell_type": "markdown",
   "metadata": {},
   "source": [
    "The methods are inconsistent!?!?"
   ]
  },
  {
   "cell_type": "code",
   "execution_count": 31,
   "metadata": {},
   "outputs": [
    {
     "name": "stdout",
     "output_type": "stream",
     "text": [
      "Mine karakterer er ikke så vigtige for mig\n",
      "Mine karakterer er meget vigtige for mig\n",
      "Mine karakterer er vigtige for mig\n",
      "Ved ikke\n",
      "Jeg er helt ligeglad med hvilke karakterer jeg får\n",
      "None\n"
     ]
    }
   ],
   "source": [
    "print(*df[q.ambition_mark__response].unique(), sep='\\n')"
   ]
  },
  {
   "cell_type": "code",
   "execution_count": 37,
   "metadata": {},
   "outputs": [
    {
     "data": {
      "text/html": [
       "<div>\n",
       "<style scoped>\n",
       "    .dataframe tbody tr th:only-of-type {\n",
       "        vertical-align: middle;\n",
       "    }\n",
       "\n",
       "    .dataframe tbody tr th {\n",
       "        vertical-align: top;\n",
       "    }\n",
       "\n",
       "    .dataframe thead th {\n",
       "        text-align: right;\n",
       "    }\n",
       "</style>\n",
       "<table border=\"1\" class=\"dataframe\">\n",
       "  <thead>\n",
       "    <tr style=\"text-align: right;\">\n",
       "      <th></th>\n",
       "      <th>ambition_mark__answer</th>\n",
       "      <th>ambition_mark__response</th>\n",
       "    </tr>\n",
       "  </thead>\n",
       "  <tbody>\n",
       "    <tr>\n",
       "      <th>0010fedde8e61cad5b049da6df8b5a</th>\n",
       "      <td>2.0</td>\n",
       "      <td>Mine karakterer er ikke så vigtige for mig</td>\n",
       "    </tr>\n",
       "    <tr>\n",
       "      <th>002ee26a0c38a1f77b7cdeab8046cd</th>\n",
       "      <td>2.0</td>\n",
       "      <td>Mine karakterer er ikke så vigtige for mig</td>\n",
       "    </tr>\n",
       "    <tr>\n",
       "      <th>0037c93a19a7e90580086b462ba11b</th>\n",
       "      <td>2.0</td>\n",
       "      <td>Mine karakterer er ikke så vigtige for mig</td>\n",
       "    </tr>\n",
       "    <tr>\n",
       "      <th>005b1e0298bde6b726156aefb8d88c</th>\n",
       "      <td>0.0</td>\n",
       "      <td>Mine karakterer er meget vigtige for mig</td>\n",
       "    </tr>\n",
       "    <tr>\n",
       "      <th>00ad591e46eb6f3d8c474d9de9e219</th>\n",
       "      <td>1.0</td>\n",
       "      <td>Mine karakterer er vigtige for mig</td>\n",
       "    </tr>\n",
       "  </tbody>\n",
       "</table>\n",
       "</div>"
      ],
      "text/plain": [
       "                                ambition_mark__answer  \\\n",
       "0010fedde8e61cad5b049da6df8b5a                    2.0   \n",
       "002ee26a0c38a1f77b7cdeab8046cd                    2.0   \n",
       "0037c93a19a7e90580086b462ba11b                    2.0   \n",
       "005b1e0298bde6b726156aefb8d88c                    0.0   \n",
       "00ad591e46eb6f3d8c474d9de9e219                    1.0   \n",
       "\n",
       "                                                   ambition_mark__response  \n",
       "0010fedde8e61cad5b049da6df8b5a  Mine karakterer er ikke så vigtige for mig  \n",
       "002ee26a0c38a1f77b7cdeab8046cd  Mine karakterer er ikke så vigtige for mig  \n",
       "0037c93a19a7e90580086b462ba11b  Mine karakterer er ikke så vigtige for mig  \n",
       "005b1e0298bde6b726156aefb8d88c    Mine karakterer er meget vigtige for mig  \n",
       "00ad591e46eb6f3d8c474d9de9e219          Mine karakterer er vigtige for mig  "
      ]
     },
     "execution_count": 37,
     "metadata": {},
     "output_type": "execute_result"
    }
   ],
   "source": [
    "tm1 = df.filter(regex=q.ambition_mark + '__(answer|response)$')\n",
    "tm1.head()"
   ]
  },
  {
   "cell_type": "code",
   "execution_count": 40,
   "metadata": {},
   "outputs": [],
   "source": [
    "tm2 = tm1.dropna()"
   ]
  },
  {
   "cell_type": "code",
   "execution_count": 47,
   "metadata": {},
   "outputs": [
    {
     "data": {
      "text/plain": [
       "{(0.0, 'Mine karakterer er meget vigtige for mig'),\n",
       " (1.0, 'Mine karakterer er vigtige for mig'),\n",
       " (2.0, 'Mine karakterer er ikke så vigtige for mig'),\n",
       " (3.0, 'Jeg er helt ligeglad med hvilke karakterer jeg får')}"
      ]
     },
     "execution_count": 47,
     "metadata": {},
     "output_type": "execute_result"
    }
   ],
   "source": [
    "{tuple(el) for el in tm2.values}"
   ]
  },
  {
   "cell_type": "code",
   "execution_count": 48,
   "metadata": {},
   "outputs": [
    {
     "data": {
      "text/plain": [
       "{(nan, None),\n",
       " (nan, 'Ved ikke'),\n",
       " (nan, 'Ved ikke'),\n",
       " (nan, 'Ved ikke'),\n",
       " (nan, 'Ved ikke'),\n",
       " (nan, 'Ved ikke'),\n",
       " (0.0, 'Mine karakterer er meget vigtige for mig'),\n",
       " (nan, None),\n",
       " (nan, 'Ved ikke'),\n",
       " (nan, 'Ved ikke'),\n",
       " (1.0, 'Mine karakterer er vigtige for mig'),\n",
       " (nan, 'Ved ikke'),\n",
       " (nan, 'Ved ikke'),\n",
       " (nan, None),\n",
       " (nan, None),\n",
       " (2.0, 'Mine karakterer er ikke så vigtige for mig'),\n",
       " (3.0, 'Jeg er helt ligeglad med hvilke karakterer jeg får')}"
      ]
     },
     "execution_count": 48,
     "metadata": {},
     "output_type": "execute_result"
    }
   ],
   "source": [
    "{tuple(el) for el in tm1.values}"
   ]
  },
  {
   "cell_type": "code",
   "execution_count": null,
   "metadata": {},
   "outputs": [],
   "source": []
  },
  {
   "cell_type": "code",
   "execution_count": null,
   "metadata": {},
   "outputs": [],
   "source": []
  },
  {
   "cell_type": "code",
   "execution_count": null,
   "metadata": {},
   "outputs": [],
   "source": []
  },
  {
   "cell_type": "code",
   "execution_count": null,
   "metadata": {},
   "outputs": [],
   "source": []
  },
  {
   "cell_type": "code",
   "execution_count": null,
   "metadata": {},
   "outputs": [],
   "source": []
  },
  {
   "cell_type": "code",
   "execution_count": null,
   "metadata": {},
   "outputs": [],
   "source": []
  },
  {
   "cell_type": "code",
   "execution_count": null,
   "metadata": {},
   "outputs": [],
   "source": []
  },
  {
   "cell_type": "code",
   "execution_count": null,
   "metadata": {},
   "outputs": [],
   "source": []
  }
 ],
 "metadata": {
  "kernelspec": {
   "display_name": "Python 3",
   "language": "python",
   "name": "python3"
  },
  "language_info": {
   "codemirror_mode": {
    "name": "ipython",
    "version": 3
   },
   "file_extension": ".py",
   "mimetype": "text/x-python",
   "name": "python",
   "nbconvert_exporter": "python",
   "pygments_lexer": "ipython3",
   "version": "3.6.4"
  }
 },
 "nbformat": 4,
 "nbformat_minor": 2
}
