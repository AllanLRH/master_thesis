{
 "cells": [
  {
   "cell_type": "code",
   "execution_count": 1,
   "metadata": {},
   "outputs": [],
   "source": [
    "import sys \n",
    "import os\n",
    "sys.path.append(os.path.abspath(\"..\"))\n",
    "\n",
    "import math\n",
    "import numpy as np\n",
    "import pandas as pd\n",
    "import matplotlib as mpl\n",
    "import matplotlib.pyplot as plt\n",
    "import seaborn as sns\n",
    "import networkx as nx\n",
    "import re\n",
    "import itertools \n",
    "sns.set(context='paper', style='whitegrid', color_codes=True, font_scale=1.8)\n",
    "colorcycle = [(0.498, 0.788, 0.498),\n",
    "              (0.745, 0.682, 0.831),\n",
    "              (0.992, 0.753, 0.525),\n",
    "              (0.220, 0.424, 0.690),\n",
    "              (0.749, 0.357, 0.090),\n",
    "              (1.000, 1.000, 0.600),\n",
    "              (0.941, 0.008, 0.498),\n",
    "              (0.400, 0.400, 0.400)]\n",
    "sns.set_palette(colorcycle)\n",
    "mpl.rcParams['figure.max_open_warning'] = 65\n",
    "mpl.rcParams['figure.figsize'] = [12, 7]\n",
    "\n",
    "from speclib import misc, plotting, loaders, graph\n",
    "\n",
    "%matplotlib inline "
   ]
  },
  {
   "cell_type": "code",
   "execution_count": 57,
   "metadata": {},
   "outputs": [
    {
     "data": {
      "text/html": [
       "<div>\n",
       "<style scoped>\n",
       "    .dataframe tbody tr th:only-of-type {\n",
       "        vertical-align: middle;\n",
       "    }\n",
       "\n",
       "    .dataframe tbody tr th {\n",
       "        vertical-align: top;\n",
       "    }\n",
       "\n",
       "    .dataframe thead th {\n",
       "        text-align: right;\n",
       "    }\n",
       "</style>\n",
       "<table border=\"1\" class=\"dataframe\">\n",
       "  <thead>\n",
       "    <tr style=\"text-align: right;\">\n",
       "      <th></th>\n",
       "      <th>factor</th>\n",
       "      <th>function</th>\n",
       "      <th>left</th>\n",
       "      <th>right</th>\n",
       "      <th>res</th>\n",
       "    </tr>\n",
       "  </thead>\n",
       "  <tbody>\n",
       "    <tr>\n",
       "      <th>0</th>\n",
       "      <td>1</td>\n",
       "      <td>cos</td>\n",
       "      <td>vecL</td>\n",
       "      <td>vecL</td>\n",
       "      <td>0.50</td>\n",
       "    </tr>\n",
       "    <tr>\n",
       "      <th>1</th>\n",
       "      <td>1</td>\n",
       "      <td>cos</td>\n",
       "      <td>vecL</td>\n",
       "      <td>vecM</td>\n",
       "      <td>0.25</td>\n",
       "    </tr>\n",
       "    <tr>\n",
       "      <th>2</th>\n",
       "      <td>1</td>\n",
       "      <td>cos</td>\n",
       "      <td>vecL</td>\n",
       "      <td>vecR</td>\n",
       "      <td>0.00</td>\n",
       "    </tr>\n",
       "    <tr>\n",
       "      <th>3</th>\n",
       "      <td>1</td>\n",
       "      <td>cos</td>\n",
       "      <td>vecM</td>\n",
       "      <td>vecL</td>\n",
       "      <td>0.25</td>\n",
       "    </tr>\n",
       "    <tr>\n",
       "      <th>4</th>\n",
       "      <td>1</td>\n",
       "      <td>cos</td>\n",
       "      <td>vecM</td>\n",
       "      <td>vecM</td>\n",
       "      <td>0.50</td>\n",
       "    </tr>\n",
       "  </tbody>\n",
       "</table>\n",
       "</div>"
      ],
      "text/plain": [
       "   factor function  left right   res\n",
       "0       1      cos  vecL  vecL  0.50\n",
       "1       1      cos  vecL  vecM  0.25\n",
       "2       1      cos  vecL  vecR  0.00\n",
       "3       1      cos  vecM  vecL  0.25\n",
       "4       1      cos  vecM  vecM  0.50"
      ]
     },
     "metadata": {},
     "output_type": "display_data"
    }
   ],
   "source": [
    "sim1 = lambda ua, ub: 2*np.dot(ua, ub) / (np.dot(ua, ua) + np.dot(ub, ub))  \n",
    "\n",
    "vecL = np.array([0, 0, 1, 1])\n",
    "vecM = np.array([1, 0, 1, 0])\n",
    "vecR = np.array([1, 1, 0, 0])\n",
    "\n",
    "vecs = [(\"vecL\", vecL), (\"vecM\", vecM), (\"vecR\", vecR)]\n",
    "fncs = [(\"sim1\", sim1), (\"graph.cosSim\", graph.cosSim)]\n",
    "\n",
    "dct = dict()\n",
    "for i in range(1, 10):\n",
    "    for orl, left, in vecs:\n",
    "        for name, fcn in fncs:\n",
    "            for orr, right in vecs:\n",
    "                dct[(i, name, orl, orr)] = fcn(i*left, i*right)\n",
    "\n",
    "\n",
    "fcneval =  pd.Series(dct, name='res').reset_index().rename(columns={'level_0': 'factor', 'level_1': 'function',\n",
    "                                                                    'level_2': 'left', 'level_3': 'right'})\n",
    "fcneval['function'] = fcneval.function.str.replace('graph.cosSim', 'cos')\n",
    "display(fcneval.head())\n",
    "\n",
    "lr = fcneval[['left', 'right']] \n",
    "fcneval_mid = fcneval[(lr == 'vecM').sum(axis=1) == 1]\n",
    "fcneval_idd = fcneval[lr.apply(pd.value_counts, axis=1).fillna(0).max(axis=1) == 2]\n",
    "tmp = lr.apply(pd.value_counts, axis=1).fillna(0) \n",
    "fcneval_non = fcneval[(tmp.vecL == 1) & (tmp.vecR == 1)]\n"
   ]
  },
  {
   "cell_type": "code",
   "execution_count": 58,
   "metadata": {},
   "outputs": [
    {
     "name": "stdout",
     "output_type": "stream",
     "text": [
      "\\begin{tabular}{rlllr}\n",
      "\\toprule\n",
      " factor & function &  left & right &   res \\\\\n",
      "\\midrule\n",
      "      8 &     sim1 &  vecL &  vecM &  0.50 \\\\\n",
      "      5 &     sim1 &  vecM &  vecM &  1.00 \\\\\n",
      "      3 &     sim1 &  vecM &  vecR &  0.50 \\\\\n",
      "      7 &     sim1 &  vecR &  vecL &  0.00 \\\\\n",
      "      4 &      cos &  vecL &  vecR &  0.00 \\\\\n",
      "      6 &      cos &  vecM &  vecR &  0.25 \\\\\n",
      "      3 &     sim1 &  vecM &  vecL &  0.50 \\\\\n",
      "      7 &      cos &  vecM &  vecR &  0.25 \\\\\n",
      "\\bottomrule\n",
      "\\end{tabular}\n",
      "\n"
     ]
    }
   ],
   "source": [
    "tmp = fcneval.sample(8)\n",
    "\n",
    "print(tmp.to_latex(index=False))"
   ]
  },
  {
   "cell_type": "code",
   "execution_count": 59,
   "metadata": {},
   "outputs": [
    {
     "data": {
      "text/plain": [
       "array([0, 0, 1, 1])"
      ]
     },
     "execution_count": 59,
     "metadata": {},
     "output_type": "execute_result"
    }
   ],
   "source": [
    "vecL"
   ]
  },
  {
   "cell_type": "code",
   "execution_count": 60,
   "metadata": {},
   "outputs": [
    {
     "data": {
      "text/plain": [
       "array([1, 0, 1, 0])"
      ]
     },
     "execution_count": 60,
     "metadata": {},
     "output_type": "execute_result"
    }
   ],
   "source": [
    "vecM"
   ]
  },
  {
   "cell_type": "code",
   "execution_count": 61,
   "metadata": {},
   "outputs": [
    {
     "data": {
      "text/plain": [
       "array([1, 1, 0, 0])"
      ]
     },
     "execution_count": 61,
     "metadata": {},
     "output_type": "execute_result"
    }
   ],
   "source": [
    "vecR"
   ]
  },
  {
   "cell_type": "code",
   "execution_count": 66,
   "metadata": {},
   "outputs": [
    {
     "data": {
      "image/png": "[encoded data removed]",
      "text/plain": [
       "<matplotlib.figure.Figure at 0x7fd63c7874a8>"
      ]
     },
     "metadata": {},
     "output_type": "display_data"
    },
    {
     "data": {
      "image/png": "[encoded data removed]",
      "text/plain": [
       "<matplotlib.figure.Figure at 0x7fd63c787320>"
      ]
     },
     "metadata": {},
     "output_type": "display_data"
    },
    {
     "data": {
      "image/png": "[encoded data removed]",
      "text/plain": [
       "<matplotlib.figure.Figure at 0x7fd63c914e80>"
      ]
     },
     "metadata": {},
     "output_type": "display_data"
    }
   ],
   "source": [
    "def plotit(df, label):\n",
    "    data = list(df.groupby(\"function\"))\n",
    "    fig, ax = plt.subplots()\n",
    "    for el in data:\n",
    "        ax.plot(el[1].groupby('factor').mean(), label=el[0])\n",
    "    ax.set_ylim([-1.1, 1.1])\n",
    "    ax.set_xlabel(\"Factor\")\n",
    "    ax.set_xticks(np.arange(1, 10))\n",
    "    plt.legend()\n",
    "    ax.set_title(label)\n",
    "    return fig, ax\n",
    "\n",
    "fig, ax = plotit(fcneval_mid, \"Overlap\")\n",
    "fig, ax = plotit(fcneval_idd, \"Identical\")\n",
    "fig, ax = plotit(fcneval_non, \"No overlap\")"
   ]
  },
  {
   "cell_type": "code",
   "execution_count": null,
   "metadata": {},
   "outputs": [],
   "source": []
  }
 ],
 "metadata": {
  "kernelspec": {
   "display_name": "Python 3",
   "language": "python",
   "name": "python3"
  },
  "language_info": {
   "codemirror_mode": {
    "name": "ipython",
    "version": 3
   },
   "file_extension": ".py",
   "mimetype": "text/x-python",
   "name": "python",
   "nbconvert_exporter": "python",
   "pygments_lexer": "ipython3",
   "version": "3.6.4"
  }
 },
 "nbformat": 4,
 "nbformat_minor": 2
}
