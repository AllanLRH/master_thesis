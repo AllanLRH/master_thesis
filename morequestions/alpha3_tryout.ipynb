{
 "cells": [
  {
   "cell_type": "code",
   "execution_count": 1,
   "metadata": {},
   "outputs": [],
   "source": [
    "from time import time\n",
    "\n",
    "import matplotlib as mpl\n",
    "import matplotlib.pyplot as plt\n",
    "import seaborn as sns\n",
    "sns.set(context='paper', style='whitegrid', color_codes=True, font_scale=1.8)\n",
    "colorcycle = [(0.498, 0.788, 0.498),\n",
    "              (0.745, 0.682, 0.831),\n",
    "              (0.992, 0.753, 0.525),\n",
    "              (0.220, 0.424, 0.690),\n",
    "              (0.749, 0.357, 0.090),\n",
    "              (1.000, 1.000, 0.600),\n",
    "              (0.941, 0.008, 0.498),\n",
    "              (0.400, 0.400, 0.400)]\n",
    "sns.set_palette(colorcycle)\n",
    "mpl.rcParams['figure.max_open_warning'] = 65\n",
    "mpl.rcParams['figure.figsize'] = [12, 7]"
   ]
  },
  {
   "cell_type": "code",
   "execution_count": 2,
   "metadata": {},
   "outputs": [],
   "source": [
    "%run alpha3.py"
   ]
  },
  {
   "cell_type": "code",
   "execution_count": 3,
   "metadata": {},
   "outputs": [],
   "source": [
    "# Load questionaire\n",
    "ua        = loaders.Useralias()\n",
    "qdf       = pd.read_json('../../allan_data/RGender_.json')\n",
    "qdf.index = qdf.index.map(lambda x: ua[x])\n"
   ]
  },
  {
   "cell_type": "code",
   "execution_count": 4,
   "metadata": {},
   "outputs": [],
   "source": [
    "datafile = datafiles[1][0]\n",
    "G_org = nx.read_edgelist(datafile, create_using=nx.DiGraph())\n",
    "G_org.remove_edges_from(G_org.selfloop_edges())  # This should be done alreaddy?\n",
    "G = graph.nxDiGraph2Graph(G_org).to_directed()  # w_ij != w_ji, so the graph need to be directed"
   ]
  },
  {
   "cell_type": "code",
   "execution_count": 5,
   "metadata": {},
   "outputs": [],
   "source": [
    "q, g, entries_kept = get_aligned_data(qdf.gender, G)"
   ]
  },
  {
   "cell_type": "code",
   "execution_count": 6,
   "metadata": {},
   "outputs": [
    {
     "data": {
      "text/plain": [
       "1.0"
      ]
     },
     "execution_count": 6,
     "metadata": {},
     "output_type": "execute_result"
    }
   ],
   "source": [
    "entries_kept"
   ]
  },
  {
   "cell_type": "code",
   "execution_count": 7,
   "metadata": {},
   "outputs": [
    {
     "data": {
      "text/plain": [
       "True"
      ]
     },
     "execution_count": 7,
     "metadata": {},
     "output_type": "execute_result"
    }
   ],
   "source": [
    "sorted(g.nodes) == sorted(q.index.tolist())"
   ]
  },
  {
   "cell_type": "code",
   "execution_count": 8,
   "metadata": {},
   "outputs": [
    {
     "data": {
      "text/plain": [
       "766"
      ]
     },
     "execution_count": 8,
     "metadata": {},
     "output_type": "execute_result"
    }
   ],
   "source": [
    "len(q.index.tolist() )"
   ]
  },
  {
   "cell_type": "code",
   "execution_count": 9,
   "metadata": {},
   "outputs": [
    {
     "data": {
      "text/plain": [
       "array([0.  , 0.01, 0.02, 0.03, 0.04, 0.05, 0.06, 0.07, 0.08, 0.09, 0.1 , 0.11, 0.12, 0.13, 0.14, 0.15, 0.16, 0.17, 0.18, 0.19, 0.2 , 0.21, 0.22,\n",
       "       0.23, 0.24, 0.25, 0.26, 0.27, 0.28, 0.29, 0.3 , 0.31, 0.32, 0.33, 0.34, 0.35, 0.36, 0.37, 0.38, 0.39, 0.4 , 0.41, 0.42, 0.43, 0.44, 0.45,\n",
       "       0.46, 0.47, 0.48, 0.49, 0.5 , 0.51, 0.52, 0.53, 0.54, 0.55, 0.56, 0.57, 0.58, 0.59, 0.6 , 0.61, 0.62, 0.63, 0.64, 0.65, 0.66, 0.67, 0.68,\n",
       "       0.69, 0.7 , 0.71, 0.72, 0.73, 0.74, 0.75, 0.76, 0.77, 0.78, 0.79, 0.8 , 0.81, 0.82, 0.83, 0.84, 0.85, 0.86, 0.87, 0.88, 0.89, 0.9 , 0.91,\n",
       "       0.92, 0.93, 0.94, 0.95, 0.96, 0.97, 0.98, 0.99, 1.  , 1.01, 1.02, 1.03, 1.04, 1.05, 1.06, 1.07, 1.08, 1.09, 1.1 , 1.11, 1.12, 1.13, 1.14,\n",
       "       1.15, 1.16, 1.17, 1.18, 1.19, 1.2 , 1.21, 1.22, 1.23, 1.24, 1.25, 1.26, 1.27, 1.28, 1.29, 1.3 , 1.31, 1.32, 1.33, 1.34, 1.35, 1.36, 1.37,\n",
       "       1.38, 1.39, 1.4 , 1.41, 1.42, 1.43, 1.44, 1.45, 1.46, 1.47, 1.48, 1.49, 1.5 , 1.51, 1.52, 1.53, 1.54, 1.55, 1.56, 1.57, 1.58, 1.59, 1.6 ,\n",
       "       1.61, 1.62, 1.63, 1.64, 1.65, 1.66, 1.67, 1.68, 1.69, 1.7 , 1.71, 1.72, 1.73, 1.74, 1.75, 1.76, 1.77, 1.78, 1.79, 1.8 , 1.81, 1.82, 1.83,\n",
       "       1.84, 1.85, 1.86, 1.87, 1.88, 1.89, 1.9 , 1.91, 1.92, 1.93, 1.94, 1.95, 1.96, 1.97, 1.98, 1.99, 2.  ])"
      ]
     },
     "execution_count": 9,
     "metadata": {},
     "output_type": "execute_result"
    }
   ],
   "source": [
    "alpha = np.linspace(0, 2, 201)\n",
    "alpha"
   ]
  },
  {
   "cell_type": "code",
   "execution_count": 10,
   "metadata": {},
   "outputs": [
    {
     "name": "stdout",
     "output_type": "stream",
     "text": [
      "Calculating and setting w_ij for 4694 edges took 1.86 seconds.\n"
     ]
    }
   ],
   "source": [
    "t0 = time()\n",
    "set_w_ij_sms_call(g, alpha)\n",
    "t1 = time()\n",
    "print(f\"Calculating and setting w_ij for {g.number_of_edges()} edges took { '{:.2f}'.format(t1 - t0)} seconds.\")"
   ]
  },
  {
   "cell_type": "code",
   "execution_count": 11,
   "metadata": {},
   "outputs": [
    {
     "name": "stdout",
     "output_type": "stream",
     "text": [
      "Calculating q_mean for 766 users took 3.78 seconds.\n"
     ]
    }
   ],
   "source": [
    "t0 = time()\n",
    "q_mean = get_q_mean(g, q)\n",
    "t1 = time()\n",
    "print(f\"Calculating q_mean for {len(q.index)} users took { '{:.2f}'.format(t1 - t0)} seconds.\")"
   ]
  },
  {
   "cell_type": "code",
   "execution_count": 12,
   "metadata": {},
   "outputs": [
    {
     "data": {
      "text/plain": [
       "alpha\n",
       "0.00    0.238857\n",
       "0.01    0.238825\n",
       "0.02    0.238795\n",
       "0.03    0.238768\n",
       "0.04    0.238744\n",
       "0.05    0.238721\n",
       "0.06    0.238701\n",
       "0.07    0.238684\n",
       "0.08    0.238669\n",
       "0.09    0.238656\n",
       "0.10    0.238646\n",
       "0.11    0.238638\n",
       "0.12    0.238632\n",
       "0.13    0.238629\n",
       "0.14    0.238628\n",
       "0.15    0.238629\n",
       "0.16    0.238632\n",
       "0.17    0.238637\n",
       "0.18    0.238645\n",
       "0.19    0.238654\n",
       "0.20    0.238665\n",
       "0.21    0.238678\n",
       "0.22    0.238693\n",
       "0.23    0.238710\n",
       "0.24    0.238728\n",
       "0.25    0.238748\n",
       "0.26    0.238770\n",
       "          ...   \n",
       "1.74    0.241681\n",
       "1.75    0.241676\n",
       "1.76    0.241671\n",
       "1.77    0.241666\n",
       "1.78    0.241661\n",
       "1.79    0.241656\n",
       "1.80    0.241650\n",
       "1.81    0.241645\n",
       "1.82    0.241640\n",
       "1.83    0.241634\n",
       "1.84    0.241628\n",
       "1.85    0.241622\n",
       "1.86    0.241617\n",
       "1.87    0.241611\n",
       "1.88    0.241605\n",
       "1.89    0.241599\n",
       "1.90    0.241592\n",
       "1.91    0.241586\n",
       "1.92    0.241580\n",
       "1.93    0.241573\n",
       "1.94    0.241567\n",
       "1.95    0.241561\n",
       "1.96    0.241554\n",
       "1.97    0.241547\n",
       "1.98    0.241541\n",
       "1.99    0.241534\n",
       "2.00    0.241527\n",
       "Name: u0550, Length: 201, dtype: float64"
      ]
     },
     "execution_count": 12,
     "metadata": {},
     "output_type": "execute_result"
    }
   ],
   "source": [
    "q_mean"
   ]
  },
  {
   "cell_type": "code",
   "execution_count": 13,
   "metadata": {},
   "outputs": [
    {
     "name": "stdout",
     "output_type": "stream",
     "text": [
      "Calculating s_sq, t_sq and r for 766 users took 11.18 seconds.\n"
     ]
    }
   ],
   "source": [
    "t0 = time()\n",
    "s_sq, t_sq, r = get_s2_t2_r(g, q, q_mean)\n",
    "t1 = time()\n",
    "print(f\"Calculating s_sq, t_sq and r for {len(q.index)} users took { '{:.2f}'.format(t1 - t0)} seconds.\")"
   ]
  },
  {
   "cell_type": "code",
   "execution_count": 14,
   "metadata": {},
   "outputs": [
    {
     "data": {
      "text/plain": [
       "alpha\n",
       "0.00    0.181804\n",
       "0.01    0.181788\n",
       "0.02    0.181772\n",
       "0.03    0.181758\n",
       "0.04    0.181745\n",
       "0.05    0.181733\n",
       "0.06    0.181723\n",
       "0.07    0.181714\n",
       "0.08    0.181706\n",
       "0.09    0.181699\n",
       "0.10    0.181694\n",
       "0.11    0.181690\n",
       "0.12    0.181687\n",
       "0.13    0.181685\n",
       "0.14    0.181685\n",
       "0.15    0.181685\n",
       "0.16    0.181687\n",
       "0.17    0.181689\n",
       "0.18    0.181693\n",
       "0.19    0.181698\n",
       "0.20    0.181704\n",
       "0.21    0.181711\n",
       "0.22    0.181719\n",
       "0.23    0.181728\n",
       "0.24    0.181737\n",
       "0.25    0.181748\n",
       "0.26    0.181759\n",
       "          ...   \n",
       "1.74    0.183271\n",
       "1.75    0.183269\n",
       "1.76    0.183266\n",
       "1.77    0.183264\n",
       "1.78    0.183261\n",
       "1.79    0.183258\n",
       "1.80    0.183256\n",
       "1.81    0.183253\n",
       "1.82    0.183250\n",
       "1.83    0.183247\n",
       "1.84    0.183244\n",
       "1.85    0.183241\n",
       "1.86    0.183238\n",
       "1.87    0.183235\n",
       "1.88    0.183232\n",
       "1.89    0.183229\n",
       "1.90    0.183226\n",
       "1.91    0.183222\n",
       "1.92    0.183219\n",
       "1.93    0.183216\n",
       "1.94    0.183212\n",
       "1.95    0.183209\n",
       "1.96    0.183206\n",
       "1.97    0.183202\n",
       "1.98    0.183199\n",
       "1.99    0.183195\n",
       "2.00    0.183192\n",
       "Name: u0550, Length: 201, dtype: float64"
      ]
     },
     "execution_count": 14,
     "metadata": {},
     "output_type": "execute_result"
    }
   ],
   "source": [
    "s_sq"
   ]
  },
  {
   "cell_type": "code",
   "execution_count": 15,
   "metadata": {},
   "outputs": [
    {
     "data": {
      "text/plain": [
       "alpha\n",
       "0.00    0.022543\n",
       "0.01    0.022603\n",
       "0.02    0.022662\n",
       "0.03    0.022721\n",
       "0.04    0.022779\n",
       "0.05    0.022837\n",
       "0.06    0.022895\n",
       "0.07    0.022953\n",
       "0.08    0.023010\n",
       "0.09    0.023067\n",
       "0.10    0.023123\n",
       "0.11    0.023179\n",
       "0.12    0.023234\n",
       "0.13    0.023288\n",
       "0.14    0.023342\n",
       "0.15    0.023396\n",
       "0.16    0.023449\n",
       "0.17    0.023501\n",
       "0.18    0.023553\n",
       "0.19    0.023604\n",
       "0.20    0.023654\n",
       "0.21    0.023704\n",
       "0.22    0.023753\n",
       "0.23    0.023802\n",
       "0.24    0.023850\n",
       "0.25    0.023897\n",
       "0.26    0.023944\n",
       "          ...   \n",
       "1.74    0.028483\n",
       "1.75    0.028496\n",
       "1.76    0.028508\n",
       "1.77    0.028520\n",
       "1.78    0.028532\n",
       "1.79    0.028543\n",
       "1.80    0.028555\n",
       "1.81    0.028566\n",
       "1.82    0.028577\n",
       "1.83    0.028588\n",
       "1.84    0.028598\n",
       "1.85    0.028609\n",
       "1.86    0.028619\n",
       "1.87    0.028629\n",
       "1.88    0.028639\n",
       "1.89    0.028649\n",
       "1.90    0.028659\n",
       "1.91    0.028668\n",
       "1.92    0.028678\n",
       "1.93    0.028687\n",
       "1.94    0.028696\n",
       "1.95    0.028705\n",
       "1.96    0.028713\n",
       "1.97    0.028722\n",
       "1.98    0.028730\n",
       "1.99    0.028739\n",
       "2.00    0.028747\n",
       "Name: u0550, Length: 201, dtype: float64"
      ]
     },
     "execution_count": 15,
     "metadata": {},
     "output_type": "execute_result"
    }
   ],
   "source": [
    "t_sq"
   ]
  },
  {
   "cell_type": "code",
   "execution_count": 16,
   "metadata": {},
   "outputs": [
    {
     "data": {
      "text/plain": [
       "alpha\n",
       "0.00    0.123997\n",
       "0.01    0.124335\n",
       "0.02    0.124671\n",
       "0.03    0.125004\n",
       "0.04    0.125335\n",
       "0.05    0.125664\n",
       "0.06    0.125990\n",
       "0.07    0.126313\n",
       "0.08    0.126633\n",
       "0.09    0.126949\n",
       "0.10    0.127263\n",
       "0.11    0.127572\n",
       "0.12    0.127878\n",
       "0.13    0.128180\n",
       "0.14    0.128478\n",
       "0.15    0.128772\n",
       "0.16    0.129062\n",
       "0.17    0.129348\n",
       "0.18    0.129630\n",
       "0.19    0.129907\n",
       "0.20    0.130180\n",
       "0.21    0.130450\n",
       "0.22    0.130715\n",
       "0.23    0.130976\n",
       "0.24    0.131232\n",
       "0.25    0.131485\n",
       "0.26    0.131734\n",
       "          ...   \n",
       "1.74    0.155416\n",
       "1.75    0.155486\n",
       "1.76    0.155554\n",
       "1.77    0.155622\n",
       "1.78    0.155688\n",
       "1.79    0.155754\n",
       "1.80    0.155819\n",
       "1.81    0.155882\n",
       "1.82    0.155945\n",
       "1.83    0.156007\n",
       "1.84    0.156067\n",
       "1.85    0.156127\n",
       "1.86    0.156186\n",
       "1.87    0.156244\n",
       "1.88    0.156301\n",
       "1.89    0.156357\n",
       "1.90    0.156413\n",
       "1.91    0.156467\n",
       "1.92    0.156521\n",
       "1.93    0.156574\n",
       "1.94    0.156626\n",
       "1.95    0.156677\n",
       "1.96    0.156727\n",
       "1.97    0.156777\n",
       "1.98    0.156826\n",
       "1.99    0.156874\n",
       "2.00    0.156921\n",
       "Name: u0550, Length: 201, dtype: float64"
      ]
     },
     "execution_count": 16,
     "metadata": {},
     "output_type": "execute_result"
    }
   ],
   "source": [
    "r"
   ]
  },
  {
   "cell_type": "code",
   "execution_count": 17,
   "metadata": {},
   "outputs": [
    {
     "data": {
      "text/plain": [
       "Text(0.5,1,'q_mean')"
      ]
     },
     "execution_count": 17,
     "metadata": {},
     "output_type": "execute_result"
    },
    {
     "data": {
      "image/png": "[encoded data removed]",
      "text/plain": [
       "<matplotlib.figure.Figure at 0x7f948ef1ea90>"
      ]
     },
     "metadata": {},
     "output_type": "display_data"
    }
   ],
   "source": [
    "fig, ((ax1, ax2), (ax3, ax4)) = plt.subplots(2, 2, figsize=(10, 5), sharex=True)\n",
    "ax1.plot(alpha, s_sq)\n",
    "ax1.set_title(\"s**2\")\n",
    "ax2.plot(alpha, t_sq)\n",
    "ax2.set_title(\"t**2\")\n",
    "ax3.plot(alpha, r)\n",
    "ax3.set_title(\"r\")\n",
    "ax4.plot(alpha, q_mean)\n",
    "ax4.set_title(\"q_mean\")"
   ]
  },
  {
   "cell_type": "markdown",
   "metadata": {},
   "source": [
    "Check that $w_{ij} \\neq w_{ji}$"
   ]
  },
  {
   "cell_type": "code",
   "execution_count": 18,
   "metadata": {},
   "outputs": [],
   "source": [
    "u, v = 'u0175', 'u0201'\n",
    "assert (g[u][v]['w_ij'] != g[v][u]['w_ij']).mean() >= 1 - 1/len(alpha)"
   ]
  },
  {
   "cell_type": "code",
   "execution_count": null,
   "metadata": {},
   "outputs": [],
   "source": []
  },
  {
   "cell_type": "code",
   "execution_count": null,
   "metadata": {},
   "outputs": [],
   "source": []
  },
  {
   "cell_type": "markdown",
   "metadata": {},
   "source": [
    "# Bluetooth"
   ]
  },
  {
   "cell_type": "code",
   "execution_count": 19,
   "metadata": {},
   "outputs": [],
   "source": [
    "datafile = datafiles[0][0]\n",
    "G_org = nx.read_edgelist(datafile, create_using=nx.DiGraph())\n",
    "G_org.remove_edges_from(G_org.selfloop_edges())  # This should be done alreaddy?\n",
    "G = graph.nxDiGraph2Graph(G_org)"
   ]
  },
  {
   "cell_type": "code",
   "execution_count": 20,
   "metadata": {},
   "outputs": [],
   "source": [
    "q, g, entries_kept = get_aligned_data(qdf.gender, G)"
   ]
  },
  {
   "cell_type": "code",
   "execution_count": null,
   "metadata": {},
   "outputs": [],
   "source": []
  },
  {
   "cell_type": "code",
   "execution_count": null,
   "metadata": {},
   "outputs": [],
   "source": []
  },
  {
   "cell_type": "code",
   "execution_count": null,
   "metadata": {},
   "outputs": [],
   "source": []
  },
  {
   "cell_type": "code",
   "execution_count": null,
   "metadata": {},
   "outputs": [],
   "source": []
  },
  {
   "cell_type": "code",
   "execution_count": null,
   "metadata": {},
   "outputs": [],
   "source": []
  },
  {
   "cell_type": "code",
   "execution_count": null,
   "metadata": {},
   "outputs": [],
   "source": []
  }
 ],
 "metadata": {
  "kernelspec": {
   "display_name": "Python 3",
   "language": "python",
   "name": "python3"
  },
  "language_info": {
   "codemirror_mode": {
    "name": "ipython",
    "version": 3
   },
   "file_extension": ".py",
   "mimetype": "text/x-python",
   "name": "python",
   "nbconvert_exporter": "python",
   "pygments_lexer": "ipython3",
   "version": "3.6.4"
  }
 },
 "nbformat": 4,
 "nbformat_minor": 2
}
