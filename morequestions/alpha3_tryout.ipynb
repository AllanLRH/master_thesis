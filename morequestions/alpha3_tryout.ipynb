{
 "cells": [
  {
   "cell_type": "code",
   "execution_count": 1,
   "metadata": {},
   "outputs": [],
   "source": [
    "%run alpha3.py"
   ]
  },
  {
   "cell_type": "code",
   "execution_count": 2,
   "metadata": {},
   "outputs": [],
   "source": [
    "# Load questionaire\n",
    "ua        = loaders.Useralias()\n",
    "qdf       = pd.read_json('../../allan_data/RGender_.json')\n",
    "qdf.index = qdf.index.map(lambda x: ua[x])\n"
   ]
  },
  {
   "cell_type": "code",
   "execution_count": 3,
   "metadata": {},
   "outputs": [],
   "source": [
    "datafile = datafiles[1][0]\n",
    "G_org = nx.read_edgelist(datafile, create_using=nx.DiGraph())"
   ]
  },
  {
   "cell_type": "code",
   "execution_count": 4,
   "metadata": {},
   "outputs": [],
   "source": [
    "q, g, entries_kept = get_aligned_data(qdf.alcohol_binge10__answer, G_org)"
   ]
  },
  {
   "cell_type": "code",
   "execution_count": 5,
   "metadata": {},
   "outputs": [
    {
     "data": {
      "text/plain": [
       "0.949685534591195"
      ]
     },
     "execution_count": 5,
     "metadata": {},
     "output_type": "execute_result"
    }
   ],
   "source": [
    "entries_kept"
   ]
  },
  {
   "cell_type": "code",
   "execution_count": 6,
   "metadata": {},
   "outputs": [
    {
     "data": {
      "text/plain": [
       "749"
      ]
     },
     "execution_count": 6,
     "metadata": {},
     "output_type": "execute_result"
    }
   ],
   "source": [
    "len(set(g.nodes).intersection(set(q.index.tolist())))"
   ]
  },
  {
   "cell_type": "code",
   "execution_count": 7,
   "metadata": {},
   "outputs": [
    {
     "data": {
      "text/plain": [
       "True"
      ]
     },
     "execution_count": 7,
     "metadata": {},
     "output_type": "execute_result"
    }
   ],
   "source": [
    "sorted(g.nodes) == sorted(q.index.tolist())"
   ]
  },
  {
   "cell_type": "code",
   "execution_count": 8,
   "metadata": {},
   "outputs": [
    {
     "data": {
      "text/plain": [
       "749"
      ]
     },
     "execution_count": 8,
     "metadata": {},
     "output_type": "execute_result"
    }
   ],
   "source": [
    "len(q.index.tolist() )"
   ]
  },
  {
   "cell_type": "code",
   "execution_count": 9,
   "metadata": {},
   "outputs": [],
   "source": [
    "gg = graph.nxDiGraph2Graph(g)\n",
    "amca = nx.adjacency_matrix(gg)\n",
    "# np.random.shuffle(amca.data)\n"
   ]
  },
  {
   "cell_type": "code",
   "execution_count": 10,
   "metadata": {
    "scrolled": true
   },
   "outputs": [
    {
     "name": "stdout",
     "output_type": "stream",
     "text": [
      "(('u0578', 'u0461'), 332.0)\n",
      "(('u0578', 'u0532'), 17.5)\n",
      "(('u0578', 'u0578'), 32.0)\n",
      "(('u0578', 'u0593'), 2.0)\n",
      "(('u0578', 'u0828'), 159.5)\n",
      "(('u0578', 'u0847'), 112.0)\n",
      "(('u0578', 'u0777'), 0.5)\n",
      "(('u0578', 'u0933'), 2.0)\n",
      "(('u0578', 'u0809'), 592.5)\n",
      "(('u0461', 'u0847'), 1629.5)\n",
      "(('u0461', 'u0593'), 19410.0)\n"
     ]
    }
   ],
   "source": [
    "for i, el in enumerate(nx.get_edge_attributes(gg, 'weight').items()):\n",
    "    if i > 10:\n",
    "        break\n",
    "    print(el)"
   ]
  },
  {
   "cell_type": "code",
   "execution_count": 11,
   "metadata": {},
   "outputs": [],
   "source": [
    "import random\n",
    "links, weights = zip(*nx.get_edge_attributes(gg, 'weight').items())\n",
    "weights = list(weights)\n",
    "random.shuffle(weights)\n",
    "\n",
    "gg_sh = nx.Graph()\n",
    "gg_sh.add_weighted_edges_from((u, v, w) for ((u, v), w) in zip(links, weights))\n",
    "# nx.set_edge_attributes(gg, {(u, v): w for ((u, v), w) in zip(links, weights)}, name='weight')"
   ]
  },
  {
   "cell_type": "code",
   "execution_count": 12,
   "metadata": {},
   "outputs": [],
   "source": [
    "d1 = np.array(list(nx.get_edge_attributes(gg, 'weight').values()))\n",
    "d2 = np.array(list(nx.get_edge_attributes(gg_sh, 'weight').values()))\n",
    "assert np.allclose(d1.mean(), d2.mean())\n",
    "assert np.allclose(d1.std(), d2.std())\n",
    "assert (d1 != d2).sum() != len(d1)\n"
   ]
  },
  {
   "cell_type": "code",
   "execution_count": 13,
   "metadata": {},
   "outputs": [],
   "source": [
    "gg2 = gg.copy() \n",
    "nx.set_edge_attributes(gg2, {(u, v): w for ((u, v), w) in zip(links, weights)}, name='weight')"
   ]
  },
  {
   "cell_type": "code",
   "execution_count": 14,
   "metadata": {},
   "outputs": [],
   "source": [
    "u = 'u0872'"
   ]
  },
  {
   "cell_type": "code",
   "execution_count": 15,
   "metadata": {},
   "outputs": [
    {
     "data": {
      "text/plain": [
       "AtlasView({'u0746': {'weight': 1.5}, 'u0540': {'weight': 45.5}, 'u0683': {'weight': 3.0}, 'u0760': {'weight': 13.5}, 'u0922': {'weight': 7.0}, 'u0390': {'weight': 0.5}, 'u0349': {'weight': 4.0}, 'u0454': {'weight': 7.5}, 'u0773': {'weight': 32.5}, 'u1010': {'weight': 5.0}, 'u0250': {'weight': 32.5}, 'u0675': {'weight': 16.5}, 'u0934': {'weight': 35.0}, 'u0797': {'weight': 0.5}, 'u0887': {'weight': 13.0}, 'u0532': {'weight': 18.0}, 'u0340': {'weight': 44.5}, 'u0138': {'weight': 58.5}, 'u0267': {'weight': 0.5}, 'u0275': {'weight': 1.0}, 'u0500': {'weight': 1.0}, 'u0650': {'weight': 193.0}, 'u0761': {'weight': 1.5}, 'u0872': {'weight': 2.0}, 'u1019': {'weight': 2.0}})"
      ]
     },
     "execution_count": 15,
     "metadata": {},
     "output_type": "execute_result"
    }
   ],
   "source": [
    "gg[u]"
   ]
  },
  {
   "cell_type": "code",
   "execution_count": 16,
   "metadata": {},
   "outputs": [
    {
     "data": {
      "text/plain": [
       "array([  1.5,  45.5,   3. ,  13.5,   7. ,   0.5,   4. ,   7.5,  32.5,   5. ,  32.5,  16.5,  35. ,   0.5,  13. ,  18. ,  44.5,  58.5,   0.5,\n",
       "         1. ,   1. , 193. ,   1.5,   2. ,   2. ])"
      ]
     },
     "execution_count": 16,
     "metadata": {},
     "output_type": "execute_result"
    }
   ],
   "source": [
    "u_weights = np.array([v['weight'] for v in gg[u].values()])\n",
    "u_weights"
   ]
  },
  {
   "cell_type": "code",
   "execution_count": 17,
   "metadata": {},
   "outputs": [
    {
     "data": {
      "text/plain": [
       "['u0746',\n",
       " 'u0540',\n",
       " 'u0683',\n",
       " 'u0760',\n",
       " 'u0922',\n",
       " 'u0390',\n",
       " 'u0349',\n",
       " 'u0454',\n",
       " 'u0773',\n",
       " 'u1010',\n",
       " 'u0250',\n",
       " 'u0675',\n",
       " 'u0934',\n",
       " 'u0797',\n",
       " 'u0887',\n",
       " 'u0532',\n",
       " 'u0340',\n",
       " 'u0138',\n",
       " 'u0267',\n",
       " 'u0275',\n",
       " 'u0500',\n",
       " 'u0650',\n",
       " 'u0761',\n",
       " 'u0872',\n",
       " 'u1019']"
      ]
     },
     "execution_count": 17,
     "metadata": {},
     "output_type": "execute_result"
    }
   ],
   "source": [
    "u_friends = list(gg[u])\n",
    "u_friends"
   ]
  },
  {
   "cell_type": "code",
   "execution_count": 18,
   "metadata": {},
   "outputs": [],
   "source": [
    "v = 'u0540'"
   ]
  },
  {
   "cell_type": "code",
   "execution_count": 19,
   "metadata": {},
   "outputs": [
    {
     "data": {
      "text/plain": [
       "{'weight': 23.5}"
      ]
     },
     "execution_count": 19,
     "metadata": {},
     "output_type": "execute_result"
    }
   ],
   "source": [
    "gg2[u][v]"
   ]
  },
  {
   "cell_type": "code",
   "execution_count": 20,
   "metadata": {},
   "outputs": [
    {
     "data": {
      "text/plain": [
       "array([0. , 0.2, 0.4, 0.6, 0.8, 1. , 1.2, 1.4, 1.6, 1.8, 2. ])"
      ]
     },
     "execution_count": 20,
     "metadata": {},
     "output_type": "execute_result"
    }
   ],
   "source": [
    "alpha = np.linspace(0, 2, 11)\n",
    "alpha"
   ]
  },
  {
   "cell_type": "code",
   "execution_count": 21,
   "metadata": {},
   "outputs": [
    {
     "data": {
      "text/plain": [
       "25"
      ]
     },
     "execution_count": 21,
     "metadata": {},
     "output_type": "execute_result"
    }
   ],
   "source": [
    "len(u_friends)"
   ]
  },
  {
   "cell_type": "code",
   "execution_count": 23,
   "metadata": {},
   "outputs": [],
   "source": [
    "tdf = pd.DataFrame(u_weights[:, np.newaxis]**alpha, columns=alpha, index=u_friends)"
   ]
  },
  {
   "cell_type": "code",
   "execution_count": 24,
   "metadata": {},
   "outputs": [],
   "source": [
    "tdf = tdf / tdf.sum(axis=0)"
   ]
  },
  {
   "cell_type": "code",
   "execution_count": 25,
   "metadata": {},
   "outputs": [
    {
     "data": {
      "text/plain": [
       "(25, 11)"
      ]
     },
     "execution_count": 25,
     "metadata": {},
     "output_type": "execute_result"
    }
   ],
   "source": [
    "tdf.shape"
   ]
  },
  {
   "cell_type": "code",
   "execution_count": 26,
   "metadata": {},
   "outputs": [],
   "source": [
    "tdf.columns.name = 'alpha'\n",
    "tdf.index.name = f'{u} friends'"
   ]
  },
  {
   "cell_type": "code",
   "execution_count": 27,
   "metadata": {},
   "outputs": [
    {
     "data": {
      "text/html": [
       "<div>\n",
       "<style scoped>\n",
       "    .dataframe tbody tr th:only-of-type {\n",
       "        vertical-align: middle;\n",
       "    }\n",
       "\n",
       "    .dataframe tbody tr th {\n",
       "        vertical-align: top;\n",
       "    }\n",
       "\n",
       "    .dataframe thead th {\n",
       "        text-align: right;\n",
       "    }\n",
       "</style>\n",
       "<table border=\"1\" class=\"dataframe\">\n",
       "  <thead>\n",
       "    <tr style=\"text-align: right;\">\n",
       "      <th>alpha</th>\n",
       "      <th>0.0</th>\n",
       "      <th>0.2</th>\n",
       "      <th>0.4</th>\n",
       "      <th>0.6000000000000001</th>\n",
       "      <th>0.8</th>\n",
       "      <th>...</th>\n",
       "      <th>1.2000000000000002</th>\n",
       "      <th>1.4000000000000001</th>\n",
       "      <th>1.6</th>\n",
       "      <th>1.8</th>\n",
       "      <th>2.0</th>\n",
       "    </tr>\n",
       "    <tr>\n",
       "      <th>u0872 friends</th>\n",
       "      <th></th>\n",
       "      <th></th>\n",
       "      <th></th>\n",
       "      <th></th>\n",
       "      <th></th>\n",
       "      <th></th>\n",
       "      <th></th>\n",
       "      <th></th>\n",
       "      <th></th>\n",
       "      <th></th>\n",
       "      <th></th>\n",
       "    </tr>\n",
       "  </thead>\n",
       "  <tbody>\n",
       "    <tr>\n",
       "      <th>u0746</th>\n",
       "      <td>0.04</td>\n",
       "      <td>0.028289</td>\n",
       "      <td>0.017980</td>\n",
       "      <td>0.010397</td>\n",
       "      <td>0.005554</td>\n",
       "      <td>...</td>\n",
       "      <td>0.001319</td>\n",
       "      <td>0.000598</td>\n",
       "      <td>0.000261</td>\n",
       "      <td>0.000111</td>\n",
       "      <td>0.000046</td>\n",
       "    </tr>\n",
       "    <tr>\n",
       "      <th>u0540</th>\n",
       "      <td>0.04</td>\n",
       "      <td>0.055977</td>\n",
       "      <td>0.070397</td>\n",
       "      <td>0.080546</td>\n",
       "      <td>0.085146</td>\n",
       "      <td>...</td>\n",
       "      <td>0.079164</td>\n",
       "      <td>0.071052</td>\n",
       "      <td>0.061433</td>\n",
       "      <td>0.051499</td>\n",
       "      <td>0.042098</td>\n",
       "    </tr>\n",
       "    <tr>\n",
       "      <th>u0683</th>\n",
       "      <td>0.04</td>\n",
       "      <td>0.032496</td>\n",
       "      <td>0.023725</td>\n",
       "      <td>0.015758</td>\n",
       "      <td>0.009671</td>\n",
       "      <td>...</td>\n",
       "      <td>0.003030</td>\n",
       "      <td>0.001579</td>\n",
       "      <td>0.000792</td>\n",
       "      <td>0.000386</td>\n",
       "      <td>0.000183</td>\n",
       "    </tr>\n",
       "    <tr>\n",
       "      <th>u0760</th>\n",
       "      <td>0.04</td>\n",
       "      <td>0.043901</td>\n",
       "      <td>0.043300</td>\n",
       "      <td>0.038854</td>\n",
       "      <td>0.032212</td>\n",
       "      <td>...</td>\n",
       "      <td>0.018421</td>\n",
       "      <td>0.012967</td>\n",
       "      <td>0.008793</td>\n",
       "      <td>0.005781</td>\n",
       "      <td>0.003706</td>\n",
       "    </tr>\n",
       "    <tr>\n",
       "      <th>u0922</th>\n",
       "      <td>0.04</td>\n",
       "      <td>0.038497</td>\n",
       "      <td>0.033296</td>\n",
       "      <td>0.026200</td>\n",
       "      <td>0.019047</td>\n",
       "      <td>...</td>\n",
       "      <td>0.008376</td>\n",
       "      <td>0.005170</td>\n",
       "      <td>0.003074</td>\n",
       "      <td>0.001772</td>\n",
       "      <td>0.000996</td>\n",
       "    </tr>\n",
       "  </tbody>\n",
       "</table>\n",
       "<p>5 rows × 11 columns</p>\n",
       "</div>"
      ],
      "text/plain": [
       "alpha           0.0       0.2       0.4       0.6       0.8    ...          1.2       1.4       1.6       1.8       2.0\n",
       "u0872 friends                                                  ...                                                     \n",
       "u0746          0.04  0.028289  0.017980  0.010397  0.005554    ...     0.001319  0.000598  0.000261  0.000111  0.000046\n",
       "u0540          0.04  0.055977  0.070397  0.080546  0.085146    ...     0.079164  0.071052  0.061433  0.051499  0.042098\n",
       "u0683          0.04  0.032496  0.023725  0.015758  0.009671    ...     0.003030  0.001579  0.000792  0.000386  0.000183\n",
       "u0760          0.04  0.043901  0.043300  0.038854  0.032212    ...     0.018421  0.012967  0.008793  0.005781  0.003706\n",
       "u0922          0.04  0.038497  0.033296  0.026200  0.019047    ...     0.008376  0.005170  0.003074  0.001772  0.000996\n",
       "\n",
       "[5 rows x 11 columns]"
      ]
     },
     "execution_count": 27,
     "metadata": {},
     "output_type": "execute_result"
    }
   ],
   "source": [
    "tdf.head()"
   ]
  },
  {
   "cell_type": "code",
   "execution_count": 28,
   "metadata": {},
   "outputs": [
    {
     "data": {
      "text/plain": [
       "alpha\n",
       "0.0    0.040000\n",
       "0.2    0.055977\n",
       "0.4    0.070397\n",
       "0.6    0.080546\n",
       "0.8    0.085146\n",
       "1.0    0.084337\n",
       "1.2    0.079164\n",
       "1.4    0.071052\n",
       "1.6    0.061433\n",
       "1.8    0.051499\n",
       "2.0    0.042098\n",
       "Name: u0540, dtype: float64"
      ]
     },
     "execution_count": 28,
     "metadata": {},
     "output_type": "execute_result"
    }
   ],
   "source": [
    "tdf.loc[v]"
   ]
  },
  {
   "cell_type": "code",
   "execution_count": 37,
   "metadata": {},
   "outputs": [
    {
     "name": "stdout",
     "output_type": "stream",
     "text": [
      "It's bidirectional properties in the graph.\n"
     ]
    }
   ],
   "source": [
    "if 'w_ij' not in gg2[u][v]:\n",
    "    print(\"Setting w_ij\")\n",
    "    gg2[u][v]['w_ij'] = tdf.loc[v]\n",
    "if 'w_ij' in gg2[v][u]:\n",
    "    print(\"It's bidirectional properties in the graph.\")"
   ]
  },
  {
   "cell_type": "code",
   "execution_count": 38,
   "metadata": {},
   "outputs": [],
   "source": [
    "seen = set()"
   ]
  },
  {
   "cell_type": "code",
   "execution_count": 39,
   "metadata": {},
   "outputs": [],
   "source": [
    "seen.add(frozenset((u, v)))"
   ]
  },
  {
   "cell_type": "code",
   "execution_count": 42,
   "metadata": {},
   "outputs": [
    {
     "data": {
      "text/plain": [
       "{frozenset({'u0540', 'u0872'})}"
      ]
     },
     "execution_count": 42,
     "metadata": {},
     "output_type": "execute_result"
    }
   ],
   "source": [
    "seen"
   ]
  },
  {
   "cell_type": "code",
   "execution_count": 41,
   "metadata": {},
   "outputs": [
    {
     "data": {
      "text/plain": [
       "True"
      ]
     },
     "execution_count": 41,
     "metadata": {},
     "output_type": "execute_result"
    }
   ],
   "source": [
    "{u, v} in seen"
   ]
  },
  {
   "cell_type": "code",
   "execution_count": null,
   "metadata": {},
   "outputs": [],
   "source": []
  },
  {
   "cell_type": "code",
   "execution_count": null,
   "metadata": {},
   "outputs": [],
   "source": []
  },
  {
   "cell_type": "code",
   "execution_count": null,
   "metadata": {},
   "outputs": [],
   "source": []
  },
  {
   "cell_type": "code",
   "execution_count": null,
   "metadata": {},
   "outputs": [],
   "source": []
  }
 ],
 "metadata": {
  "kernelspec": {
   "display_name": "Python 3",
   "language": "python",
   "name": "python3"
  },
  "language_info": {
   "codemirror_mode": {
    "name": "ipython",
    "version": 3
   },
   "file_extension": ".py",
   "mimetype": "text/x-python",
   "name": "python",
   "nbconvert_exporter": "python",
   "pygments_lexer": "ipython3",
   "version": "3.6.4"
  }
 },
 "nbformat": 4,
 "nbformat_minor": 2
}
