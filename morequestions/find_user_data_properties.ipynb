{
 "cells": [
  {
   "cell_type": "code",
   "execution_count": 1,
   "metadata": {},
   "outputs": [],
   "source": [
    "import sys\n",
    "import os\n",
    "sys.path.append(os.path.abspath(\"..\"))\n",
    "\n",
    "import numpy as np\n",
    "import pandas as pd\n",
    "import matplotlib as mpl\n",
    "import matplotlib.pyplot as plt\n",
    "import seaborn as sns\n",
    "import networkx as nx\n",
    "import re\n",
    "import multiprocessing\n",
    "import itertools\n",
    "sns.set(context='paper', style='whitegrid', color_codes=True, font_scale=1.8)\n",
    "colorcycle = [(0.498, 0.788, 0.498),\n",
    "              (0.745, 0.682, 0.831),\n",
    "              (0.992, 0.753, 0.525),\n",
    "              (0.220, 0.424, 0.690),\n",
    "              (0.749, 0.357, 0.090),\n",
    "              (1.000, 1.000, 0.600),\n",
    "              (0.941, 0.008, 0.498),\n",
    "              (0.400, 0.400, 0.400)]\n",
    "sns.set_palette(colorcycle)\n",
    "mpl.rcParams['figure.max_open_warning'] = 65\n",
    "mpl.rcParams['figure.figsize'] = [12, 7]\n",
    "\n",
    "from speclib import misc, loaders\n",
    "\n",
    "pd.set_option('display.max_rows', 55)\n",
    "pd.set_option('display.max_columns', 10)\n",
    "pd.set_option('display.width', 1000)\n"
   ]
  },
  {
   "cell_type": "code",
   "execution_count": 2,
   "metadata": {},
   "outputs": [],
   "source": [
    "import pickle"
   ]
  },
  {
   "cell_type": "code",
   "execution_count": 3,
   "metadata": {},
   "outputs": [],
   "source": [
    "userlist = loaders.getUserList()\n",
    "ua = loaders.Useralias() "
   ]
  },
  {
   "cell_type": "code",
   "execution_count": 4,
   "metadata": {},
   "outputs": [],
   "source": [
    "with open('/lscr_paper/allan/phonenumbers.p', 'rb') as fid:\n",
    "    phonebook = pickle.load(fid)\n",
    "\n",
    "phonebook = {k: ua.userdct[v] for (k, v) in phonebook.items() if v in ua.userdct}"
   ]
  },
  {
   "cell_type": "markdown",
   "metadata": {},
   "source": [
    "# Check that the functions work with just 1 user\n",
    "\n",
    "Do the real calculation further down the document."
   ]
  },
  {
   "cell_type": "markdown",
   "metadata": {},
   "source": [
    "## Check bluetooth\n",
    "\n",
    "* Must be at least 200 hours of interaction"
   ]
  },
  {
   "cell_type": "code",
   "execution_count": 5,
   "metadata": {},
   "outputs": [],
   "source": [
    "def user_bluetooth_timespan(user, ua):\n",
    "    ub = loaders.loadUserBluetooth(user, ua)\n",
    "    if ub is None:\n",
    "        return pd.Timedelta('0H')\n",
    "    ub = ub.dropna() \n",
    "    bt_timespan = ub.index.max() - ub.index.min()\n",
    "    return bt_timespan"
   ]
  },
  {
   "cell_type": "code",
   "execution_count": 6,
   "metadata": {},
   "outputs": [
    {
     "data": {
      "text/plain": [
       "Timedelta('466 days 04:10:04')"
      ]
     },
     "execution_count": 6,
     "metadata": {},
     "output_type": "execute_result"
    }
   ],
   "source": [
    "user_bluetooth_timespan(userlist[0], ua)"
   ]
  },
  {
   "cell_type": "markdown",
   "metadata": {},
   "source": [
    "## Check sms\n",
    "\n",
    "* At least 90 sms data for 90 days\n",
    "* At least 950 messages"
   ]
  },
  {
   "cell_type": "code",
   "execution_count": 7,
   "metadata": {},
   "outputs": [],
   "source": [
    "def user_sms_timespan_and_count(user, ua):\n",
    "    us = loaders.loadUser2(user, dataFilter=('sms',))\n",
    "    us = pd.DataFrame(us['sms'])\n",
    "    if us.empty:\n",
    "        return [pd.Timedelta('0H'), 0]\n",
    "    us = us.rename(columns={'address': 'number'}) \n",
    "    us['user'] = us.user.replace(ua.userdct, inplace=None)\n",
    "    us['timestamp'] = pd.to_datetime(us.timestamp, unit='s', infer_datetime_format=True) \n",
    "    us['number'] = us.number.replace(phonebook, inplace=None)\n",
    "    us = us[us.number.str.len() == 5]  # drop phones not in study\n",
    "\n",
    "    return [np.ptp(us.timestamp), us.shape[0] ]\n"
   ]
  },
  {
   "cell_type": "code",
   "execution_count": 8,
   "metadata": {},
   "outputs": [
    {
     "data": {
      "text/plain": [
       "[Timedelta('411 days 08:01:30'), 149]"
      ]
     },
     "execution_count": 8,
     "metadata": {},
     "output_type": "execute_result"
    }
   ],
   "source": [
    "user_sms_timespan_and_count(userlist[0], ua)"
   ]
  },
  {
   "cell_type": "markdown",
   "metadata": {},
   "source": [
    "## Check calls\n",
    "\n",
    "* At least 90 call data for 90 days\n",
    "* At least 180 calls"
   ]
  },
  {
   "cell_type": "code",
   "execution_count": 9,
   "metadata": {},
   "outputs": [],
   "source": [
    "def user_call_timespan_and_count(user, ua):\n",
    "    uc = loaders.loadUser2(user, dataFilter=('call',))\n",
    "    uc = pd.DataFrame(uc['call'])\n",
    "    if uc.empty:\n",
    "        return [pd.Timedelta('0H'), 0] \n",
    "    uc['user'] = uc.user.replace(ua.userdct, inplace=None)\n",
    "    uc['timestamp'] = pd.to_datetime(uc.timestamp, unit='s', infer_datetime_format=True) \n",
    "    uc['number'] = uc.number.replace(phonebook, inplace=None)\n",
    "    uc = uc[uc.number.str.len() == 5] \n",
    "    return [np.ptp(uc.timestamp), uc.shape[0]] "
   ]
  },
  {
   "cell_type": "code",
   "execution_count": 10,
   "metadata": {},
   "outputs": [
    {
     "data": {
      "text/plain": [
       "[Timedelta('411 days 16:28:54'), 20]"
      ]
     },
     "execution_count": 10,
     "metadata": {},
     "output_type": "execute_result"
    }
   ],
   "source": [
    "user_call_timespan_and_count(userlist[0], ua)"
   ]
  },
  {
   "cell_type": "code",
   "execution_count": 11,
   "metadata": {},
   "outputs": [],
   "source": [
    "def get_user_data(user, ua):\n",
    "    \"\"\"Function to call the functions above\"\"\"\n",
    "    try:\n",
    "        dct = {'user': user}\n",
    "        dct['useralias'] = ua[user]\n",
    "        dct['bt_timespan'] = user_bluetooth_timespan(user, ua)\n",
    "        dct['sms_timespan'], dct['sms_count'] = user_sms_timespan_and_count(user, ua)\n",
    "        dct['call_timespan'], dct['call_count'] = user_call_timespan_and_count(user, ua)\n",
    "        return pd.Series(dct)\n",
    "    except Exception as err:\n",
    "        print(f\"Failed for {ua[user]}\")\n",
    "        print(err)\n",
    "        return pd.Series({'bt_timespan': None, 'call_count': None, 'call_timespan': None, 'sms_count': None,\n",
    "                          'sms_timespan': None, 'user': None, 'useralias': None})"
   ]
  },
  {
   "cell_type": "code",
   "execution_count": 12,
   "metadata": {},
   "outputs": [],
   "source": [
    "df = pd.DataFrame([get_user_data(user, ua) for user in userlist[:2]])"
   ]
  },
  {
   "cell_type": "code",
   "execution_count": 13,
   "metadata": {},
   "outputs": [
    {
     "data": {
      "text/html": [
       "<div>\n",
       "<style scoped>\n",
       "    .dataframe tbody tr th:only-of-type {\n",
       "        vertical-align: middle;\n",
       "    }\n",
       "\n",
       "    .dataframe tbody tr th {\n",
       "        vertical-align: top;\n",
       "    }\n",
       "\n",
       "    .dataframe thead th {\n",
       "        text-align: right;\n",
       "    }\n",
       "</style>\n",
       "<table border=\"1\" class=\"dataframe\">\n",
       "  <thead>\n",
       "    <tr style=\"text-align: right;\">\n",
       "      <th></th>\n",
       "      <th>bt_timespan</th>\n",
       "      <th>call_count</th>\n",
       "      <th>call_timespan</th>\n",
       "      <th>sms_count</th>\n",
       "      <th>sms_timespan</th>\n",
       "      <th>user</th>\n",
       "    </tr>\n",
       "    <tr>\n",
       "      <th>useralias</th>\n",
       "      <th></th>\n",
       "      <th></th>\n",
       "      <th></th>\n",
       "      <th></th>\n",
       "      <th></th>\n",
       "      <th></th>\n",
       "    </tr>\n",
       "  </thead>\n",
       "  <tbody>\n",
       "    <tr>\n",
       "      <th>u0182</th>\n",
       "      <td>466 days 04:10:04</td>\n",
       "      <td>20</td>\n",
       "      <td>411 days 16:28:54</td>\n",
       "      <td>149</td>\n",
       "      <td>411 days 08:01:30</td>\n",
       "      <td>28b76d7b7879d364321f164df5169f</td>\n",
       "    </tr>\n",
       "    <tr>\n",
       "      <th>u1015</th>\n",
       "      <td>574 days 17:23:57</td>\n",
       "      <td>68</td>\n",
       "      <td>570 days 19:13:33</td>\n",
       "      <td>276</td>\n",
       "      <td>569 days 03:43:58</td>\n",
       "      <td>f41c375b5c87d3593b963b49a3f9a3</td>\n",
       "    </tr>\n",
       "  </tbody>\n",
       "</table>\n",
       "</div>"
      ],
      "text/plain": [
       "                bt_timespan  call_count     call_timespan  sms_count      sms_timespan                            user\n",
       "useralias                                                                                                             \n",
       "u0182     466 days 04:10:04          20 411 days 16:28:54        149 411 days 08:01:30  28b76d7b7879d364321f164df5169f\n",
       "u1015     574 days 17:23:57          68 570 days 19:13:33        276 569 days 03:43:58  f41c375b5c87d3593b963b49a3f9a3"
      ]
     },
     "execution_count": 13,
     "metadata": {},
     "output_type": "execute_result"
    }
   ],
   "source": [
    "df = df.set_index('useralias')\n",
    "df"
   ]
  },
  {
   "cell_type": "markdown",
   "metadata": {},
   "source": [
    "# Do the real computation\n",
    "\n",
    "The proof-of-concept works"
   ]
  },
  {
   "cell_type": "code",
   "execution_count": 14,
   "metadata": {},
   "outputs": [],
   "source": [
    "N = len(userlist)"
   ]
  },
  {
   "cell_type": "code",
   "execution_count": 15,
   "metadata": {},
   "outputs": [],
   "source": [
    "pool = multiprocessing.Pool(24)\n",
    "try:\n",
    "    df = pd.DataFrame(pool.starmap(get_user_data, [(user, ua) for user in userlist]))\n",
    "finally:\n",
    "    pool.close()"
   ]
  },
  {
   "cell_type": "code",
   "execution_count": 16,
   "metadata": {},
   "outputs": [
    {
     "data": {
      "text/plain": [
       "Index(['bt_timespan', 'call_count', 'call_timespan', 'sms_count', 'sms_timespan', 'user', 'useralias'], dtype='object')"
      ]
     },
     "execution_count": 16,
     "metadata": {},
     "output_type": "execute_result"
    }
   ],
   "source": [
    "df.columns"
   ]
  },
  {
   "cell_type": "code",
   "execution_count": 17,
   "metadata": {},
   "outputs": [
    {
     "data": {
      "text/plain": [
       "(1059, 7)"
      ]
     },
     "execution_count": 17,
     "metadata": {},
     "output_type": "execute_result"
    }
   ],
   "source": [
    "df.shape"
   ]
  },
  {
   "cell_type": "code",
   "execution_count": 18,
   "metadata": {},
   "outputs": [],
   "source": [
    "df = df.dropna() "
   ]
  },
  {
   "cell_type": "code",
   "execution_count": 19,
   "metadata": {},
   "outputs": [
    {
     "data": {
      "text/plain": [
       "(936, 7)"
      ]
     },
     "execution_count": 19,
     "metadata": {},
     "output_type": "execute_result"
    }
   ],
   "source": [
    "df.shape"
   ]
  },
  {
   "cell_type": "code",
   "execution_count": 20,
   "metadata": {},
   "outputs": [],
   "source": [
    "df = df.set_index('useralias')"
   ]
  },
  {
   "cell_type": "code",
   "execution_count": 21,
   "metadata": {},
   "outputs": [
    {
     "data": {
      "text/html": [
       "<div>\n",
       "<style scoped>\n",
       "    .dataframe tbody tr th:only-of-type {\n",
       "        vertical-align: middle;\n",
       "    }\n",
       "\n",
       "    .dataframe tbody tr th {\n",
       "        vertical-align: top;\n",
       "    }\n",
       "\n",
       "    .dataframe thead th {\n",
       "        text-align: right;\n",
       "    }\n",
       "</style>\n",
       "<table border=\"1\" class=\"dataframe\">\n",
       "  <thead>\n",
       "    <tr style=\"text-align: right;\">\n",
       "      <th></th>\n",
       "      <th>bt_timespan</th>\n",
       "      <th>call_count</th>\n",
       "      <th>call_timespan</th>\n",
       "      <th>sms_count</th>\n",
       "      <th>sms_timespan</th>\n",
       "      <th>user</th>\n",
       "    </tr>\n",
       "    <tr>\n",
       "      <th>useralias</th>\n",
       "      <th></th>\n",
       "      <th></th>\n",
       "      <th></th>\n",
       "      <th></th>\n",
       "      <th></th>\n",
       "      <th></th>\n",
       "    </tr>\n",
       "  </thead>\n",
       "  <tbody>\n",
       "    <tr>\n",
       "      <th>u0182</th>\n",
       "      <td>466 days 04:10:04</td>\n",
       "      <td>20</td>\n",
       "      <td>411 days 16:28:54</td>\n",
       "      <td>149</td>\n",
       "      <td>411 days 08:01:30</td>\n",
       "      <td>28b76d7b7879d364321f164df5169f</td>\n",
       "    </tr>\n",
       "    <tr>\n",
       "      <th>u1015</th>\n",
       "      <td>574 days 17:23:57</td>\n",
       "      <td>68</td>\n",
       "      <td>570 days 19:13:33</td>\n",
       "      <td>276</td>\n",
       "      <td>569 days 03:43:58</td>\n",
       "      <td>f41c375b5c87d3593b963b49a3f9a3</td>\n",
       "    </tr>\n",
       "    <tr>\n",
       "      <th>u0778</th>\n",
       "      <td>508 days 22:29:51</td>\n",
       "      <td>4</td>\n",
       "      <td>353 days 13:59:21</td>\n",
       "      <td>24</td>\n",
       "      <td>729 days 18:24:48</td>\n",
       "      <td>b600d2468831e0b3480a69af903dfc</td>\n",
       "    </tr>\n",
       "    <tr>\n",
       "      <th>u0933</th>\n",
       "      <td>514 days 02:33:14</td>\n",
       "      <td>145</td>\n",
       "      <td>498 days 00:14:03</td>\n",
       "      <td>200</td>\n",
       "      <td>498 days 05:41:58</td>\n",
       "      <td>dbbf1adb3264464838b938429d674b</td>\n",
       "    </tr>\n",
       "    <tr>\n",
       "      <th>u0256</th>\n",
       "      <td>305 days 07:02:31</td>\n",
       "      <td>20</td>\n",
       "      <td>283 days 06:59:02</td>\n",
       "      <td>121</td>\n",
       "      <td>292 days 01:19:01</td>\n",
       "      <td>3b6887b57d97d1ff1e1a674abfa5e3</td>\n",
       "    </tr>\n",
       "  </tbody>\n",
       "</table>\n",
       "</div>"
      ],
      "text/plain": [
       "                bt_timespan  call_count     call_timespan  sms_count      sms_timespan                            user\n",
       "useralias                                                                                                             \n",
       "u0182     466 days 04:10:04          20 411 days 16:28:54        149 411 days 08:01:30  28b76d7b7879d364321f164df5169f\n",
       "u1015     574 days 17:23:57          68 570 days 19:13:33        276 569 days 03:43:58  f41c375b5c87d3593b963b49a3f9a3\n",
       "u0778     508 days 22:29:51           4 353 days 13:59:21         24 729 days 18:24:48  b600d2468831e0b3480a69af903dfc\n",
       "u0933     514 days 02:33:14         145 498 days 00:14:03        200 498 days 05:41:58  dbbf1adb3264464838b938429d674b\n",
       "u0256     305 days 07:02:31          20 283 days 06:59:02        121 292 days 01:19:01  3b6887b57d97d1ff1e1a674abfa5e3"
      ]
     },
     "execution_count": 21,
     "metadata": {},
     "output_type": "execute_result"
    }
   ],
   "source": [
    "df.head()"
   ]
  },
  {
   "cell_type": "code",
   "execution_count": 22,
   "metadata": {},
   "outputs": [],
   "source": [
    "dfc = df.drop('user', axis=1) "
   ]
  },
  {
   "cell_type": "code",
   "execution_count": 23,
   "metadata": {},
   "outputs": [],
   "source": [
    "dfc['sms_timespan_be'] = dfc.sms_timespan >= pd.Timedelta('90D') "
   ]
  },
  {
   "cell_type": "code",
   "execution_count": 24,
   "metadata": {},
   "outputs": [],
   "source": [
    "dfc['call_timespan_be'] = dfc.call_timespan >= pd.Timedelta('90D') "
   ]
  },
  {
   "cell_type": "code",
   "execution_count": 25,
   "metadata": {},
   "outputs": [],
   "source": [
    "dfc['call_count_be'] = dfc.call_count >= 180"
   ]
  },
  {
   "cell_type": "code",
   "execution_count": 26,
   "metadata": {},
   "outputs": [],
   "source": [
    "dfc['sms_count_be'] = dfc.sms_count >= 600 # 950"
   ]
  },
  {
   "cell_type": "code",
   "execution_count": 27,
   "metadata": {},
   "outputs": [],
   "source": [
    "dfc['bt_timespan_be'] = dfc.bt_timespan >= pd.Timedelta('200H')"
   ]
  },
  {
   "cell_type": "code",
   "execution_count": 28,
   "metadata": {},
   "outputs": [
    {
     "data": {
      "text/html": [
       "<div>\n",
       "<style scoped>\n",
       "    .dataframe tbody tr th:only-of-type {\n",
       "        vertical-align: middle;\n",
       "    }\n",
       "\n",
       "    .dataframe tbody tr th {\n",
       "        vertical-align: top;\n",
       "    }\n",
       "\n",
       "    .dataframe thead th {\n",
       "        text-align: right;\n",
       "    }\n",
       "</style>\n",
       "<table border=\"1\" class=\"dataframe\">\n",
       "  <thead>\n",
       "    <tr style=\"text-align: right;\">\n",
       "      <th></th>\n",
       "      <th>bt_timespan</th>\n",
       "      <th>call_count</th>\n",
       "      <th>call_timespan</th>\n",
       "      <th>sms_count</th>\n",
       "      <th>sms_timespan</th>\n",
       "      <th>sms_timespan_be</th>\n",
       "      <th>call_timespan_be</th>\n",
       "      <th>call_count_be</th>\n",
       "      <th>sms_count_be</th>\n",
       "      <th>bt_timespan_be</th>\n",
       "    </tr>\n",
       "    <tr>\n",
       "      <th>useralias</th>\n",
       "      <th></th>\n",
       "      <th></th>\n",
       "      <th></th>\n",
       "      <th></th>\n",
       "      <th></th>\n",
       "      <th></th>\n",
       "      <th></th>\n",
       "      <th></th>\n",
       "      <th></th>\n",
       "      <th></th>\n",
       "    </tr>\n",
       "  </thead>\n",
       "  <tbody>\n",
       "    <tr>\n",
       "      <th>u0182</th>\n",
       "      <td>466 days 04:10:04</td>\n",
       "      <td>20</td>\n",
       "      <td>411 days 16:28:54</td>\n",
       "      <td>149</td>\n",
       "      <td>411 days 08:01:30</td>\n",
       "      <td>True</td>\n",
       "      <td>True</td>\n",
       "      <td>False</td>\n",
       "      <td>False</td>\n",
       "      <td>True</td>\n",
       "    </tr>\n",
       "    <tr>\n",
       "      <th>u1015</th>\n",
       "      <td>574 days 17:23:57</td>\n",
       "      <td>68</td>\n",
       "      <td>570 days 19:13:33</td>\n",
       "      <td>276</td>\n",
       "      <td>569 days 03:43:58</td>\n",
       "      <td>True</td>\n",
       "      <td>True</td>\n",
       "      <td>False</td>\n",
       "      <td>False</td>\n",
       "      <td>True</td>\n",
       "    </tr>\n",
       "    <tr>\n",
       "      <th>u0778</th>\n",
       "      <td>508 days 22:29:51</td>\n",
       "      <td>4</td>\n",
       "      <td>353 days 13:59:21</td>\n",
       "      <td>24</td>\n",
       "      <td>729 days 18:24:48</td>\n",
       "      <td>True</td>\n",
       "      <td>True</td>\n",
       "      <td>False</td>\n",
       "      <td>False</td>\n",
       "      <td>True</td>\n",
       "    </tr>\n",
       "    <tr>\n",
       "      <th>u0933</th>\n",
       "      <td>514 days 02:33:14</td>\n",
       "      <td>145</td>\n",
       "      <td>498 days 00:14:03</td>\n",
       "      <td>200</td>\n",
       "      <td>498 days 05:41:58</td>\n",
       "      <td>True</td>\n",
       "      <td>True</td>\n",
       "      <td>False</td>\n",
       "      <td>False</td>\n",
       "      <td>True</td>\n",
       "    </tr>\n",
       "    <tr>\n",
       "      <th>u0256</th>\n",
       "      <td>305 days 07:02:31</td>\n",
       "      <td>20</td>\n",
       "      <td>283 days 06:59:02</td>\n",
       "      <td>121</td>\n",
       "      <td>292 days 01:19:01</td>\n",
       "      <td>True</td>\n",
       "      <td>True</td>\n",
       "      <td>False</td>\n",
       "      <td>False</td>\n",
       "      <td>True</td>\n",
       "    </tr>\n",
       "  </tbody>\n",
       "</table>\n",
       "</div>"
      ],
      "text/plain": [
       "                bt_timespan  call_count     call_timespan  sms_count      sms_timespan  sms_timespan_be  call_timespan_be  call_count_be  sms_count_be  bt_timespan_be\n",
       "useralias                                                                                                                                                             \n",
       "u0182     466 days 04:10:04          20 411 days 16:28:54        149 411 days 08:01:30             True              True          False         False            True\n",
       "u1015     574 days 17:23:57          68 570 days 19:13:33        276 569 days 03:43:58             True              True          False         False            True\n",
       "u0778     508 days 22:29:51           4 353 days 13:59:21         24 729 days 18:24:48             True              True          False         False            True\n",
       "u0933     514 days 02:33:14         145 498 days 00:14:03        200 498 days 05:41:58             True              True          False         False            True\n",
       "u0256     305 days 07:02:31          20 283 days 06:59:02        121 292 days 01:19:01             True              True          False         False            True"
      ]
     },
     "execution_count": 28,
     "metadata": {},
     "output_type": "execute_result"
    }
   ],
   "source": [
    "dfc.head() "
   ]
  },
  {
   "cell_type": "code",
   "execution_count": 29,
   "metadata": {},
   "outputs": [
    {
     "data": {
      "text/plain": [
       "Text(0.5,1,'BT time')"
      ]
     },
     "execution_count": 29,
     "metadata": {},
     "output_type": "execute_result"
    },
    {
     "data": {
      "image/png": "[encoded data removed]",
      "text/plain": [
       "<matplotlib.figure.Figure at 0x7fab8431ff60>"
      ]
     },
     "metadata": {},
     "output_type": "display_data"
    }
   ],
   "source": [
    "fig, (ax1, ax2, ax3) = plt.subplots(1, 3, figsize=(17, 5))\n",
    "dfc.call_count.plot.hist(60, ax=ax1)\n",
    "dfc.sms_count.plot.hist(60, ax=ax2)\n",
    "dfc.bt_timespan.dt.days.plot.hist(100, ax=ax3)\n",
    "ax1.set_title(\"Call\")\n",
    "ax2.set_title(\"SMS\")\n",
    "ax3.set_title(\"BT time\")"
   ]
  },
  {
   "cell_type": "code",
   "execution_count": 30,
   "metadata": {},
   "outputs": [
    {
     "data": {
      "text/plain": [
       "75"
      ]
     },
     "execution_count": 30,
     "metadata": {},
     "output_type": "execute_result"
    }
   ],
   "source": [
    "dfc.all(axis=1).sum() "
   ]
  },
  {
   "cell_type": "code",
   "execution_count": 31,
   "metadata": {},
   "outputs": [
    {
     "data": {
      "text/plain": [
       "call_count_be       0.125000\n",
       "sms_count_be        0.168803\n",
       "call_timespan_be    0.633547\n",
       "sms_timespan_be     0.657051\n",
       "bt_timespan_be      0.767094\n",
       "dtype: float64"
      ]
     },
     "execution_count": 31,
     "metadata": {},
     "output_type": "execute_result"
    }
   ],
   "source": [
    "dfc.filter(regex='_be$').mean().sort_values()"
   ]
  },
  {
   "cell_type": "code",
   "execution_count": 32,
   "metadata": {},
   "outputs": [
    {
     "data": {
      "text/plain": [
       "75"
      ]
     },
     "execution_count": 32,
     "metadata": {},
     "output_type": "execute_result"
    }
   ],
   "source": [
    "dfc.filter(regex='_be$').all(axis=1).sum() "
   ]
  },
  {
   "cell_type": "code",
   "execution_count": 33,
   "metadata": {},
   "outputs": [
    {
     "data": {
      "text/plain": [
       "0.08012820512820513"
      ]
     },
     "execution_count": 33,
     "metadata": {},
     "output_type": "execute_result"
    }
   ],
   "source": [
    "dfc.filter(regex='_be$').all(axis=1).mean() "
   ]
  },
  {
   "cell_type": "code",
   "execution_count": 34,
   "metadata": {},
   "outputs": [],
   "source": [
    "df.to_msgpack('../../allan_data/user_data_properties.msgpack')"
   ]
  },
  {
   "cell_type": "code",
   "execution_count": null,
   "metadata": {},
   "outputs": [],
   "source": []
  }
 ],
 "metadata": {
  "kernelspec": {
   "display_name": "Python 3",
   "language": "python",
   "name": "python3"
  },
  "language_info": {
   "codemirror_mode": {
    "name": "ipython",
    "version": 3
   },
   "file_extension": ".py",
   "mimetype": "text/x-python",
   "name": "python",
   "nbconvert_exporter": "python",
   "pygments_lexer": "ipython3",
   "version": "3.6.4"
  }
 },
 "nbformat": 4,
 "nbformat_minor": 2
}
