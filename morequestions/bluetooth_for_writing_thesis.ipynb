{
 "cells": [
  {
   "cell_type": "code",
   "execution_count": 1,
   "metadata": {},
   "outputs": [],
   "source": [
    "import matplotlib as mpl\n",
    "import matplotlib.pyplot as plt\n",
    "import seaborn as sns\n",
    "sns.set(context='paper', style='whitegrid', color_codes=True, font_scale=1.8)\n",
    "colorcycle = [(0.498, 0.788, 0.498),\n",
    "              (0.745, 0.682, 0.831),\n",
    "              (0.992, 0.753, 0.525),\n",
    "              (0.220, 0.424, 0.690),\n",
    "              (0.749, 0.357, 0.090),\n",
    "              (1.000, 1.000, 0.600),\n",
    "              (0.941, 0.008, 0.498),\n",
    "              (0.400, 0.400, 0.400)]\n",
    "sns.set_palette(colorcycle)\n",
    "mpl.rcParams['figure.max_open_warning'] = 65\n",
    "mpl.rcParams['figure.figsize'] = [12, 7]\n",
    "\n",
    "import sys\n",
    "import os\n",
    "sys.path.append(os.path.abspath(\"..\"))\n",
    "\n",
    "import numpy as np  # noqa\n",
    "import pandas as pd\n",
    "import itertools\n",
    "from speclib import loaders\n",
    "\n",
    "%matplotlib inline "
   ]
  },
  {
   "cell_type": "code",
   "execution_count": 2,
   "metadata": {},
   "outputs": [],
   "source": [
    "df = pd.read_msgpack('../allan_data/bluetooth.msgpack')"
   ]
  },
  {
   "cell_type": "code",
   "execution_count": 3,
   "metadata": {},
   "outputs": [
    {
     "data": {
      "text/plain": [
       "(77738977, 7)"
      ]
     },
     "execution_count": 3,
     "metadata": {},
     "output_type": "execute_result"
    }
   ],
   "source": [
    "df.shape"
   ]
  },
  {
   "cell_type": "code",
   "execution_count": 4,
   "metadata": {},
   "outputs": [
    {
     "data": {
      "text/html": [
       "<div>\n",
       "<style scoped>\n",
       "    .dataframe tbody tr th:only-of-type {\n",
       "        vertical-align: middle;\n",
       "    }\n",
       "\n",
       "    .dataframe tbody tr th {\n",
       "        vertical-align: top;\n",
       "    }\n",
       "\n",
       "    .dataframe thead th {\n",
       "        text-align: right;\n",
       "    }\n",
       "</style>\n",
       "<table border=\"1\" class=\"dataframe\">\n",
       "  <thead>\n",
       "    <tr style=\"text-align: right;\">\n",
       "      <th></th>\n",
       "      <th>bt_mac</th>\n",
       "      <th>class</th>\n",
       "      <th>id</th>\n",
       "      <th>name</th>\n",
       "      <th>rssi</th>\n",
       "      <th>scanned_user</th>\n",
       "      <th>user</th>\n",
       "    </tr>\n",
       "    <tr>\n",
       "      <th>timestamp</th>\n",
       "      <th></th>\n",
       "      <th></th>\n",
       "      <th></th>\n",
       "      <th></th>\n",
       "      <th></th>\n",
       "      <th></th>\n",
       "      <th></th>\n",
       "    </tr>\n",
       "  </thead>\n",
       "  <tbody>\n",
       "    <tr>\n",
       "      <th>2013-12-05 10:51:22</th>\n",
       "      <td>2f2ae7a8f68d6f66de4198bc7326fd3326680f4d5bcf3c...</td>\n",
       "      <td>4063500</td>\n",
       "      <td>24838993</td>\n",
       "      <td>b8505ec380543b901bd61355348a442d</td>\n",
       "      <td>-80</td>\n",
       "      <td>NaN</td>\n",
       "      <td>u0182</td>\n",
       "    </tr>\n",
       "    <tr>\n",
       "      <th>2013-12-05 10:51:22</th>\n",
       "      <td>7af08c543a2f81ca130b96397c08e97d1aa6338a761147...</td>\n",
       "      <td>5898764</td>\n",
       "      <td>24838994</td>\n",
       "      <td>5533e1cccdc47b11570846700393084a</td>\n",
       "      <td>-78</td>\n",
       "      <td>NaN</td>\n",
       "      <td>u0182</td>\n",
       "    </tr>\n",
       "    <tr>\n",
       "      <th>2013-12-05 10:51:22</th>\n",
       "      <td>bba1612f9961ca163d314c506e8f12bf4f9b5878f55759...</td>\n",
       "      <td>5898764</td>\n",
       "      <td>24838995</td>\n",
       "      <td>d565ccd0b683ad49f3d1cdd5d02ae79e</td>\n",
       "      <td>-65</td>\n",
       "      <td>u0069</td>\n",
       "      <td>u0182</td>\n",
       "    </tr>\n",
       "    <tr>\n",
       "      <th>2013-12-05 10:51:22</th>\n",
       "      <td>63be2ac92478e550184cdcac47eff78f9354c3ca164497...</td>\n",
       "      <td>5898764</td>\n",
       "      <td>24838996</td>\n",
       "      <td>d565ccd0b683ad49f3d1cdd5d02ae79e</td>\n",
       "      <td>-80</td>\n",
       "      <td>u0331</td>\n",
       "      <td>u0182</td>\n",
       "    </tr>\n",
       "    <tr>\n",
       "      <th>2013-12-05 10:51:22</th>\n",
       "      <td>b4116b6dd742c591e1dc7cfbc447431425f7042f9f83ae...</td>\n",
       "      <td>5898764</td>\n",
       "      <td>24838997</td>\n",
       "      <td>d565ccd0b683ad49f3d1cdd5d02ae79e</td>\n",
       "      <td>-72</td>\n",
       "      <td>NaN</td>\n",
       "      <td>u0182</td>\n",
       "    </tr>\n",
       "  </tbody>\n",
       "</table>\n",
       "</div>"
      ],
      "text/plain": [
       "                                                                bt_mac  \\\n",
       "timestamp                                                                \n",
       "2013-12-05 10:51:22  2f2ae7a8f68d6f66de4198bc7326fd3326680f4d5bcf3c...   \n",
       "2013-12-05 10:51:22  7af08c543a2f81ca130b96397c08e97d1aa6338a761147...   \n",
       "2013-12-05 10:51:22  bba1612f9961ca163d314c506e8f12bf4f9b5878f55759...   \n",
       "2013-12-05 10:51:22  63be2ac92478e550184cdcac47eff78f9354c3ca164497...   \n",
       "2013-12-05 10:51:22  b4116b6dd742c591e1dc7cfbc447431425f7042f9f83ae...   \n",
       "\n",
       "                       class        id                              name  \\\n",
       "timestamp                                                                  \n",
       "2013-12-05 10:51:22  4063500  24838993  b8505ec380543b901bd61355348a442d   \n",
       "2013-12-05 10:51:22  5898764  24838994  5533e1cccdc47b11570846700393084a   \n",
       "2013-12-05 10:51:22  5898764  24838995  d565ccd0b683ad49f3d1cdd5d02ae79e   \n",
       "2013-12-05 10:51:22  5898764  24838996  d565ccd0b683ad49f3d1cdd5d02ae79e   \n",
       "2013-12-05 10:51:22  5898764  24838997  d565ccd0b683ad49f3d1cdd5d02ae79e   \n",
       "\n",
       "                     rssi scanned_user   user  \n",
       "timestamp                                      \n",
       "2013-12-05 10:51:22   -80          NaN  u0182  \n",
       "2013-12-05 10:51:22   -78          NaN  u0182  \n",
       "2013-12-05 10:51:22   -65        u0069  u0182  \n",
       "2013-12-05 10:51:22   -80        u0331  u0182  \n",
       "2013-12-05 10:51:22   -72          NaN  u0182  "
      ]
     },
     "execution_count": 4,
     "metadata": {},
     "output_type": "execute_result"
    }
   ],
   "source": [
    "df.head() "
   ]
  },
  {
   "cell_type": "code",
   "execution_count": 5,
   "metadata": {},
   "outputs": [],
   "source": [
    "u0182 = df[df.user == 'u0182']"
   ]
  },
  {
   "cell_type": "code",
   "execution_count": 8,
   "metadata": {},
   "outputs": [],
   "source": [
    "btcnt = u0182.bt_mac.value_counts()"
   ]
  },
  {
   "cell_type": "code",
   "execution_count": null,
   "metadata": {},
   "outputs": [],
   "source": []
  },
  {
   "cell_type": "code",
   "execution_count": null,
   "metadata": {},
   "outputs": [],
   "source": []
  },
  {
   "cell_type": "code",
   "execution_count": null,
   "metadata": {},
   "outputs": [],
   "source": []
  }
 ],
 "metadata": {
  "kernelspec": {
   "display_name": "Python 3",
   "language": "python",
   "name": "python3"
  },
  "language_info": {
   "codemirror_mode": {
    "name": "ipython",
    "version": 3
   },
   "file_extension": ".py",
   "mimetype": "text/x-python",
   "name": "python",
   "nbconvert_exporter": "python",
   "pygments_lexer": "ipython3",
   "version": "3.6.4"
  }
 },
 "nbformat": 4,
 "nbformat_minor": 2
}
