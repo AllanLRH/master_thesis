{
 "cells": [
  {
   "cell_type": "code",
   "execution_count": 1,
   "metadata": {},
   "outputs": [],
   "source": [
    "import sys\n",
    "import os\n",
    "sys.path.append(os.path.abspath(\"..\"))\n",
    "\n",
    "import re\n",
    "import multiprocessing\n",
    "from collections import Counter\n",
    "import itertools\n",
    "import json\n",
    "from IPython.display import display as disp\n",
    "from colorsys import hsv_to_rgb, rgb_to_hsv\n",
    "\n",
    "import numpy as np\n",
    "# import bottleneck as bn\n",
    "import pandas as pd\n",
    "import networkx as nx\n",
    "import igraph as ig\n",
    "import matplotlib as mpl\n",
    "import matplotlib.pyplot as plt\n",
    "import seaborn as sns\n",
    "sns.set(context='paper', style='whitegrid', color_codes=True, font_scale=1.8)\n",
    "colorcycle = [(0.498, 0.788, 0.498),\n",
    "              (0.745, 0.682, 0.831),\n",
    "              (0.992, 0.753, 0.525),\n",
    "              (0.220, 0.424, 0.690),\n",
    "              (0.749, 0.357, 0.090),\n",
    "              (1.000, 1.000, 0.600),\n",
    "              (0.941, 0.008, 0.498),\n",
    "              (0.400, 0.400, 0.400)]\n",
    "%matplotlib inline\n",
    "sns.set_palette(colorcycle)\n",
    "mpl.rcParams['figure.max_open_warning'] = 65\n",
    "mpl.rcParams['figure.figsize'] = [12, 7]\n",
    "\n",
    "# import warnings\n",
    "# warnings.simplefilter(\"ignore\", category=DeprecationWarning)\n",
    "# warnings.simplefilter(\"ignore\", category=mpl.cbook.mplDeprecation)\n",
    "# warnings.simplefilter(\"ignore\", category=UserWarning)\n",
    "\n",
    "\n",
    "from speclib import misc, loaders, graph, plotting\n",
    "\n",
    "pd.set_option('display.max_rows', 55)\n",
    "pd.set_option('display.max_columns', 10)\n",
    "pd.set_option('display.width', 1000)\n",
    "np.set_printoptions(linewidth=145)\n",
    "\n",
    "# import pixiedust"
   ]
  },
  {
   "cell_type": "code",
   "execution_count": 2,
   "metadata": {},
   "outputs": [],
   "source": [
    "datafiles = ['../../allan_data/weighted_graph_bluetooth.edgelist',\n",
    "             '../../allan_data/weighted_graph_call.edgelist',\n",
    "             '../../allan_data/weighted_graph_sms.edgelist'] "
   ]
  },
  {
   "cell_type": "markdown",
   "metadata": {},
   "source": [
    "For calls and SMS:\n",
    "$$ w_{ij} = \\frac{n_{ij}^{\\alpha}}{ \\sum_{ik} n_{ik}^{\\alpha} } $$\n",
    "\n",
    "For Bluetooth:\n",
    "$$   w_{ij} = \\frac{T_{ij}^{\\alpha}}{ \\sum_{ik} T_{ik}^{\\alpha} } $$\n",
    "\n",
    "$$ r = t^2/s^2 $$\n",
    "\n",
    "$$ \\bar{x} = \\frac{\\sum_{i > j} (x_i + x_j)}{2 w_{ij}} $$\n",
    "\n",
    "$$ s^2 = \\frac{\\sum_{i > j} w_{ij}\\left( (x_i - \\bar{x})^2 + (x_j - \\bar{x})^2 \\right) }{\\sum_{i < j} 2w_{ij}}  $$\n",
    "\n",
    "$$ t^2 = \\frac{\\sum_{i > j} w_{ij}\\left( (x_i - \\bar{x}) (x_j - \\bar{x}) \\right) }{\\sum_{i < j} 2w_{ij}} $$\n",
    "\n",
    "Construct the dataset $ x_i, x_j, w_{ij} $, where $x_i$ and $x_j$ are questionaire variable for persons $i$ and $j$, and $w_{ij}$ are the weight of their connection."
   ]
  },
  {
   "cell_type": "code",
   "execution_count": 3,
   "metadata": {},
   "outputs": [
    {
     "data": {
      "text/html": [
       "<div>\n",
       "<style scoped>\n",
       "    .dataframe tbody tr th:only-of-type {\n",
       "        vertical-align: middle;\n",
       "    }\n",
       "\n",
       "    .dataframe tbody tr th {\n",
       "        vertical-align: top;\n",
       "    }\n",
       "\n",
       "    .dataframe thead th {\n",
       "        text-align: right;\n",
       "    }\n",
       "</style>\n",
       "<table border=\"1\" class=\"dataframe\">\n",
       "  <thead>\n",
       "    <tr style=\"text-align: right;\">\n",
       "      <th></th>\n",
       "      <th>alcohol_binge10__answer</th>\n",
       "      <th>alcohol_binge10__answer_type</th>\n",
       "      <th>alcohol_binge10__condition</th>\n",
       "      <th>alcohol_binge10__question</th>\n",
       "      <th>alcohol_binge10__response</th>\n",
       "      <th>...</th>\n",
       "      <th>worries_zieblings__answer</th>\n",
       "      <th>worries_zieblings__answer_type</th>\n",
       "      <th>worries_zieblings__condition</th>\n",
       "      <th>worries_zieblings__question</th>\n",
       "      <th>worries_zieblings__response</th>\n",
       "    </tr>\n",
       "  </thead>\n",
       "  <tbody>\n",
       "    <tr>\n",
       "      <th>u0001</th>\n",
       "      <td>1.0</td>\n",
       "      <td>radio</td>\n",
       "      <td>alcohol_debut != 'Jeg har aldrig drukket alkohol'</td>\n",
       "      <td>Drukket mere end 10 genstande på en dag/aften</td>\n",
       "      <td>1 gange</td>\n",
       "      <td>...</td>\n",
       "      <td>3.0</td>\n",
       "      <td>radio</td>\n",
       "      <td>False</td>\n",
       "      <td>Søskende</td>\n",
       "      <td>Sjældent</td>\n",
       "    </tr>\n",
       "    <tr>\n",
       "      <th>u0002</th>\n",
       "      <td>1.0</td>\n",
       "      <td>radio</td>\n",
       "      <td>alcohol_debut != 'Jeg har aldrig drukket alkohol'</td>\n",
       "      <td>Drukket mere end 10 genstande på en dag/aften</td>\n",
       "      <td>1 gange</td>\n",
       "      <td>...</td>\n",
       "      <td>NaN</td>\n",
       "      <td>radio</td>\n",
       "      <td>False</td>\n",
       "      <td>Søskende</td>\n",
       "      <td>Har ingen</td>\n",
       "    </tr>\n",
       "    <tr>\n",
       "      <th>u0003</th>\n",
       "      <td>2.0</td>\n",
       "      <td>radio</td>\n",
       "      <td>alcohol_debut != 'Jeg har aldrig drukket alkohol'</td>\n",
       "      <td>Drukket mere end 10 genstande på en dag/aften</td>\n",
       "      <td>2 gange</td>\n",
       "      <td>...</td>\n",
       "      <td>2.0</td>\n",
       "      <td>radio</td>\n",
       "      <td>False</td>\n",
       "      <td>Søskende</td>\n",
       "      <td>Af og til</td>\n",
       "    </tr>\n",
       "    <tr>\n",
       "      <th>u0004</th>\n",
       "      <td>1.0</td>\n",
       "      <td>radio</td>\n",
       "      <td>alcohol_debut != 'Jeg har aldrig drukket alkohol'</td>\n",
       "      <td>Drukket mere end 10 genstande på en dag/aften</td>\n",
       "      <td>1 gange</td>\n",
       "      <td>...</td>\n",
       "      <td>NaN</td>\n",
       "      <td>radio</td>\n",
       "      <td>False</td>\n",
       "      <td>Søskende</td>\n",
       "      <td>Har ingen</td>\n",
       "    </tr>\n",
       "    <tr>\n",
       "      <th>u0006</th>\n",
       "      <td>0.0</td>\n",
       "      <td>radio</td>\n",
       "      <td>alcohol_debut != 'Jeg har aldrig drukket alkohol'</td>\n",
       "      <td>Drukket mere end 10 genstande på en dag/aften</td>\n",
       "      <td>0 gange</td>\n",
       "      <td>...</td>\n",
       "      <td>3.0</td>\n",
       "      <td>radio</td>\n",
       "      <td>False</td>\n",
       "      <td>Søskende</td>\n",
       "      <td>Sjældent</td>\n",
       "    </tr>\n",
       "  </tbody>\n",
       "</table>\n",
       "<p>5 rows × 1431 columns</p>\n",
       "</div>"
      ],
      "text/plain": [
       "       alcohol_binge10__answer alcohol_binge10__answer_type                         alcohol_binge10__condition                      alcohol_binge10__question alcohol_binge10__response             ...              worries_zieblings__answer worries_zieblings__answer_type worries_zieblings__condition worries_zieblings__question worries_zieblings__response\n",
       "u0001                      1.0                        radio  alcohol_debut != 'Jeg har aldrig drukket alkohol'  Drukket mere end 10 genstande på en dag/aften                   1 gange             ...                                    3.0                          radio                        False                    Søskende                    Sjældent\n",
       "u0002                      1.0                        radio  alcohol_debut != 'Jeg har aldrig drukket alkohol'  Drukket mere end 10 genstande på en dag/aften                   1 gange             ...                                    NaN                          radio                        False                    Søskende                   Har ingen\n",
       "u0003                      2.0                        radio  alcohol_debut != 'Jeg har aldrig drukket alkohol'  Drukket mere end 10 genstande på en dag/aften                   2 gange             ...                                    2.0                          radio                        False                    Søskende                   Af og til\n",
       "u0004                      1.0                        radio  alcohol_debut != 'Jeg har aldrig drukket alkohol'  Drukket mere end 10 genstande på en dag/aften                   1 gange             ...                                    NaN                          radio                        False                    Søskende                   Har ingen\n",
       "u0006                      0.0                        radio  alcohol_debut != 'Jeg har aldrig drukket alkohol'  Drukket mere end 10 genstande på en dag/aften                   0 gange             ...                                    3.0                          radio                        False                    Søskende                    Sjældent\n",
       "\n",
       "[5 rows x 1431 columns]"
      ]
     },
     "execution_count": 3,
     "metadata": {},
     "output_type": "execute_result"
    }
   ],
   "source": [
    "ua = loaders.Useralias() \n",
    "qdf = pd.read_json('../../allan_data/RGender_.json')\n",
    "qdf.index = qdf.index.map(lambda x: ua[x]) \n",
    "qq = misc.QuestionCompleter(qdf)\n",
    "qdf.head() "
   ]
  },
  {
   "cell_type": "code",
   "execution_count": 4,
   "metadata": {},
   "outputs": [],
   "source": [
    "def alpha_weighted(g, u, v, alpha):\n",
    "    u_edges = g[u]\n",
    "    u_edges_sum = sum(u_edges[v]['weight']**alpha for v in u_edges)\n",
    "    return u_edges[v]['weight']**alpha / u_edges_sum "
   ]
  },
  {
   "cell_type": "code",
   "execution_count": 13,
   "metadata": {},
   "outputs": [],
   "source": [
    "q = qdf.alcohol_binge10__answer"
   ]
  },
  {
   "cell_type": "code",
   "execution_count": 24,
   "metadata": {},
   "outputs": [
    {
     "name": "stdout",
     "output_type": "stream",
     "text": [
      "0.949685534591195\n"
     ]
    }
   ],
   "source": [
    "gca = nx.read_edgelist(datafiles[1], create_using=nx.DiGraph()) \n",
    "\n",
    "print(q.notna().mean())\n",
    "\n",
    "gca_q = gca.subgraph(q.index[q.notna()].tolist())\n",
    "\n",
    "gca_qu = graph.nxDiGraph2Graph(gca_q)\n",
    "\n",
    "gam_qu = np.array(nx.adjacency_matrix(gca_qu).todense())"
   ]
  },
  {
   "cell_type": "code",
   "execution_count": null,
   "metadata": {},
   "outputs": [],
   "source": []
  },
  {
   "cell_type": "code",
   "execution_count": null,
   "metadata": {},
   "outputs": [],
   "source": []
  },
  {
   "cell_type": "code",
   "execution_count": null,
   "metadata": {},
   "outputs": [],
   "source": []
  },
  {
   "cell_type": "code",
   "execution_count": null,
   "metadata": {},
   "outputs": [],
   "source": []
  },
  {
   "cell_type": "code",
   "execution_count": 131,
   "metadata": {},
   "outputs": [
    {
     "ename": "TypeError",
     "evalue": "data type not understood",
     "output_type": "error",
     "traceback": [
      "\u001b[0;31m---------------------------------------------------------------------------\u001b[0m",
      "\u001b[0;31mTypeError\u001b[0m                                 Traceback (most recent call last)",
      "\u001b[0;32m<ipython-input-131-ad2d30c42aef>\u001b[0m in \u001b[0;36m<module>\u001b[0;34m()\u001b[0m\n\u001b[1;32m     15\u001b[0m \u001b[0;34m\u001b[0m\u001b[0m\n\u001b[1;32m     16\u001b[0m \u001b[0malpha\u001b[0m \u001b[0;34m=\u001b[0m \u001b[0mnp\u001b[0m\u001b[0;34m.\u001b[0m\u001b[0mlinspace\u001b[0m\u001b[0;34m(\u001b[0m\u001b[0;36m0\u001b[0m\u001b[0;34m,\u001b[0m \u001b[0;36m2\u001b[0m\u001b[0;34m,\u001b[0m \u001b[0mn_alpha\u001b[0m\u001b[0;34m)\u001b[0m\u001b[0;34m\u001b[0m\u001b[0m\n\u001b[0;32m---> 17\u001b[0;31m \u001b[0mr\u001b[0m \u001b[0;34m=\u001b[0m \u001b[0mnp\u001b[0m\u001b[0;34m.\u001b[0m\u001b[0mzeros\u001b[0m\u001b[0;34m(\u001b[0m\u001b[0mgamu\u001b[0m\u001b[0;34m.\u001b[0m\u001b[0mshape\u001b[0m\u001b[0;34m[\u001b[0m\u001b[0;36m0\u001b[0m\u001b[0;34m]\u001b[0m\u001b[0;34m,\u001b[0m \u001b[0mn_alpha\u001b[0m\u001b[0;34m)\u001b[0m\u001b[0;34m\u001b[0m\u001b[0m\n\u001b[0m\u001b[1;32m     18\u001b[0m \u001b[0mx_mean\u001b[0m \u001b[0;34m=\u001b[0m \u001b[0;36m0\u001b[0m\u001b[0;34m\u001b[0m\u001b[0m\n\u001b[1;32m     19\u001b[0m \u001b[0;32mfor\u001b[0m \u001b[0mi\u001b[0m \u001b[0;32min\u001b[0m \u001b[0mrange\u001b[0m\u001b[0;34m(\u001b[0m\u001b[0mgamu\u001b[0m\u001b[0;34m.\u001b[0m\u001b[0mshape\u001b[0m\u001b[0;34m[\u001b[0m\u001b[0;36m0\u001b[0m\u001b[0;34m]\u001b[0m\u001b[0;34m)\u001b[0m\u001b[0;34m:\u001b[0m\u001b[0;34m\u001b[0m\u001b[0m\n",
      "\u001b[0;31mTypeError\u001b[0m: data type not understood"
     ]
    }
   ],
   "source": [
    "n_alpha = 8\n",
    "w = np.zeros((*gamu.shape, n_alpha))\n",
    "alpha = np.linspace(0, 2, n_alpha)\n",
    "N = gamu.shape[0] \n",
    "for i in range(N):\n",
    "    for j in range(i):\n",
    "        if gamu[i, j] != 0.0:\n",
    "            numerator = gamu[i, j] ** alpha\n",
    "        else:\n",
    "            numerator = np.zeros(n_alpha)\n",
    "        denominator = sum((el ** alpha for el in gamu[i, (gamu[i, :] != 0)]))\n",
    "        res = numerator / denominator\n",
    "        w[i, j, :] = res\n",
    "        w[j, i, :] = res\n",
    "\n",
    "alpha = np.linspace(0, 2, n_alpha)\n",
    "r = np.zeros((gamu.shape[0], n_alpha))\n",
    "x_mean = 0\n",
    "for i in range(gamu.shape[0]):\n",
    "    for j in range(i):\n",
    "        xi, xj = q.loc[ui], q.loc[uj]\n",
    "        x_mean += (w[i, j, :] * (xi + xj))/(2*(w[i, j, :]))\n",
    "\n",
    "for i in range(gamu.shape[0]):\n",
    "    for j in range(i):\n",
    "        xi, xj = q.loc[ui], q.loc[uj]\n",
    "        t_sq = (w[i, j, :] * (xi - x_mean) * (xj - x_mean)) / (2*w[i, j, :])\n",
    "        s_sq = ()/()\n",
    "        r[i, :] = t_sq / s_sq"
   ]
  },
  {
   "cell_type": "code",
   "execution_count": null,
   "metadata": {},
   "outputs": [],
   "source": []
  },
  {
   "cell_type": "code",
   "execution_count": null,
   "metadata": {},
   "outputs": [],
   "source": []
  },
  {
   "cell_type": "code",
   "execution_count": null,
   "metadata": {},
   "outputs": [],
   "source": []
  },
  {
   "cell_type": "code",
   "execution_count": null,
   "metadata": {},
   "outputs": [],
   "source": []
  },
  {
   "cell_type": "code",
   "execution_count": null,
   "metadata": {},
   "outputs": [],
   "source": []
  },
  {
   "cell_type": "code",
   "execution_count": null,
   "metadata": {},
   "outputs": [],
   "source": []
  },
  {
   "cell_type": "code",
   "execution_count": null,
   "metadata": {},
   "outputs": [],
   "source": []
  },
  {
   "cell_type": "code",
   "execution_count": null,
   "metadata": {},
   "outputs": [],
   "source": []
  }
 ],
 "metadata": {
  "kernelspec": {
   "display_name": "Python 3",
   "language": "python",
   "name": "python3"
  },
  "language_info": {
   "codemirror_mode": {
    "name": "ipython",
    "version": 3
   },
   "file_extension": ".py",
   "mimetype": "text/x-python",
   "name": "python",
   "nbconvert_exporter": "python",
   "pygments_lexer": "ipython3",
   "version": "3.6.4"
  }
 },
 "nbformat": 4,
 "nbformat_minor": 2
}
