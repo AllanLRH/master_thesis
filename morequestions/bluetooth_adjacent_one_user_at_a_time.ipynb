{
 "cells": [
  {
   "cell_type": "code",
   "execution_count": 37,
   "metadata": {
    "collapsed": true
   },
   "outputs": [],
   "source": [
    "import sys \n",
    "import os\n",
    "sys.path.append(os.path.abspath(\"..\"))\n",
    "\n",
    "import numpy as np\n",
    "import pandas as pd\n",
    "import matplotlib as mpl\n",
    "import matplotlib.pyplot as plt\n",
    "import seaborn as sns\n",
    "import re\n",
    "import itertools\n",
    "from collections import  Counter\n",
    "sns.set(context='paper', style='whitegrid', color_codes=True, font_scale=1.8)\n",
    "colorcycle = [(0.498, 0.788, 0.498),\n",
    "              (0.745, 0.682, 0.831),\n",
    "              (0.992, 0.753, 0.525),\n",
    "              (0.220, 0.424, 0.690),\n",
    "              (0.749, 0.357, 0.090),\n",
    "              (1.000, 1.000, 0.600),\n",
    "              (0.941, 0.008, 0.498),\n",
    "              (0.400, 0.400, 0.400)]\n",
    "sns.set_palette(colorcycle)\n",
    "mpl.rcParams['figure.max_open_warning'] = 65\n",
    "mpl.rcParams['figure.figsize'] = [12, 7]\n",
    "\n",
    "from speclib import misc, plotting, loaders\n",
    "\n",
    "%matplotlib inline "
   ]
  },
  {
   "cell_type": "code",
   "execution_count": 3,
   "metadata": {
    "collapsed": true
   },
   "outputs": [],
   "source": [
    "ua = loaders.Useralias() \n",
    "userlist = loaders.getUserList() "
   ]
  },
  {
   "cell_type": "markdown",
   "metadata": {},
   "source": [
    "# Goal\n",
    "\n",
    "* Filter data for omnipresent devices, which are a bad proxy for social interactions\n",
    "* Group data\n"
   ]
  },
  {
   "cell_type": "code",
   "execution_count": 5,
   "metadata": {
    "collapsed": true
   },
   "outputs": [],
   "source": [
    "u0 = userlist[0]"
   ]
  },
  {
   "cell_type": "code",
   "execution_count": 6,
   "metadata": {},
   "outputs": [
    {
     "data": {
      "text/plain": [
       "'28b76d7b7879d364321f164df5169f'"
      ]
     },
     "execution_count": 6,
     "metadata": {},
     "output_type": "execute_result"
    }
   ],
   "source": [
    "u0"
   ]
  },
  {
   "cell_type": "code",
   "execution_count": null,
   "metadata": {
    "collapsed": true
   },
   "outputs": [],
   "source": []
  },
  {
   "cell_type": "code",
   "execution_count": 7,
   "metadata": {
    "collapsed": true
   },
   "outputs": [],
   "source": [
    "df = loaders.loadUserBluetooth(u0, ua)"
   ]
  },
  {
   "cell_type": "markdown",
   "metadata": {},
   "source": [
    "Filter out time where they're probably at DTU"
   ]
  },
  {
   "cell_type": "code",
   "execution_count": 75,
   "metadata": {},
   "outputs": [],
   "source": [
    "is_freetime = (df.index.hour > 19) | (df.index.hour < 7)\n",
    "\n",
    "dff = df[is_freetime]"
   ]
  },
  {
   "cell_type": "markdown",
   "metadata": {},
   "source": [
    "Group to day of year"
   ]
  },
  {
   "cell_type": "code",
   "execution_count": 76,
   "metadata": {},
   "outputs": [],
   "source": [
    "doy = dff.groupby(dff.index.dayofyear)['bt_mac'].unique() "
   ]
  },
  {
   "cell_type": "markdown",
   "metadata": {},
   "source": [
    "Count occurence of mac addresses, summed for all days (in free time)"
   ]
  },
  {
   "cell_type": "code",
   "execution_count": 111,
   "metadata": {
    "scrolled": false
   },
   "outputs": [
    {
     "data": {
      "text/plain": [
       "647da12097b032f653183feb76067d1a3e2dce0d0f31bbf54a772fbcb465e68a    200\n",
       "69752cf5dec2a6ad97c5678dfb80b0021ff55afa121b20068e72140f3e7e9afc    121\n",
       "f51e357a57cd274cff7e5e43f71297eaa5a6777b41924851659143fa5fd6c200     83\n",
       "559f27d6f66229ef07533bbb8ea502fb7e4cfc5079ffc6e4e9f50d0d4451320b     63\n",
       "29ec51ae6823202c71133c291e289f193a44275d28687412b08a97cccc6b2781     57\n",
       "a723692e6d835b8d8fb99d61d28e3e513eaaa2a3c643d62de3171e69e2d9077b     40\n",
       "9b9accfde6a2b852ca5c368c8d6ef3a8adc6dfcae28d0d4fa43e4776c3450571     37\n",
       "aa5c145dbfd93e93355df175d1913c92c9f1810e086a93616ceb1b430b5bfd13     35\n",
       "6a7394988b3f301a1177bfc45ab9a87cdfe3e88fcb7f9c7003ede888d5ccd5f1     35\n",
       "2170265c5674d7abdb3dd7dc36fffb617cd89410e6188ffdb33c811377e6b821     31\n",
       "9766dbf05b3a1350a1b28d43762d30525b0b470b2e0930c1eecd4ec0d6febdf5     27\n",
       "c46c51fb297cc6297fd761e3244e619c6daa6eb18fee7a7d1fb906ee1396abb1     19\n",
       "dtype: int64"
      ]
     },
     "metadata": {},
     "output_type": "display_data"
    },
    {
     "data": {
      "text/plain": [
       "<matplotlib.axes._subplots.AxesSubplot at 0x7f886cbb47b8>"
      ]
     },
     "execution_count": 111,
     "metadata": {},
     "output_type": "execute_result"
    },
    {
     "data": {
      "image/png": "[encoded data removed]",
      "text/plain": [
       "<matplotlib.figure.Figure at 0x7f886cbb4128>"
      ]
     },
     "metadata": {},
     "output_type": "display_data"
    }
   ],
   "source": [
    "fig, ax = plt.subplots()\n",
    "ax.set_yscale('log')\n",
    "cnt = pd.value_counts(el for el in itertools.chain(*doy))\n",
    "display(cnt.head(12)) \n",
    "cnt.plot.hist(50, ax=ax)"
   ]
  },
  {
   "cell_type": "code",
   "execution_count": 141,
   "metadata": {},
   "outputs": [
    {
     "data": {
      "text/plain": [
       "{'2170265c5674d7abdb3dd7dc36fffb617cd89410e6188ffdb33c811377e6b821',\n",
       " '29ec51ae6823202c71133c291e289f193a44275d28687412b08a97cccc6b2781',\n",
       " '559f27d6f66229ef07533bbb8ea502fb7e4cfc5079ffc6e4e9f50d0d4451320b',\n",
       " '647da12097b032f653183feb76067d1a3e2dce0d0f31bbf54a772fbcb465e68a',\n",
       " '69752cf5dec2a6ad97c5678dfb80b0021ff55afa121b20068e72140f3e7e9afc',\n",
       " '6a7394988b3f301a1177bfc45ab9a87cdfe3e88fcb7f9c7003ede888d5ccd5f1',\n",
       " '9b9accfde6a2b852ca5c368c8d6ef3a8adc6dfcae28d0d4fa43e4776c3450571',\n",
       " 'a723692e6d835b8d8fb99d61d28e3e513eaaa2a3c643d62de3171e69e2d9077b',\n",
       " 'aa5c145dbfd93e93355df175d1913c92c9f1810e086a93616ceb1b430b5bfd13',\n",
       " 'f51e357a57cd274cff7e5e43f71297eaa5a6777b41924851659143fa5fd6c200'}"
      ]
     },
     "execution_count": 141,
     "metadata": {},
     "output_type": "execute_result"
    }
   ],
   "source": [
    "discard = set(cnt[cnt > 30].index)\n",
    "discard"
   ]
  },
  {
   "cell_type": "code",
   "execution_count": 146,
   "metadata": {},
   "outputs": [],
   "source": [
    "dfc = df[~df.bt_mac.isin(discard)]"
   ]
  },
  {
   "cell_type": "code",
   "execution_count": 147,
   "metadata": {},
   "outputs": [
    {
     "data": {
      "text/plain": [
       "(70221, 7)"
      ]
     },
     "execution_count": 147,
     "metadata": {},
     "output_type": "execute_result"
    }
   ],
   "source": [
    "dfc.shape"
   ]
  },
  {
   "cell_type": "code",
   "execution_count": 226,
   "metadata": {},
   "outputs": [
    {
     "data": {
      "text/plain": [
       "[<matplotlib.lines.Line2D at 0x7f88684a2710>]"
      ]
     },
     "execution_count": 226,
     "metadata": {},
     "output_type": "execute_result"
    },
    {
     "data": {
      "image/png": "[encoded data removed]",
      "text/plain": [
       "<matplotlib.figure.Figure at 0x7f886d4a0048>"
      ]
     },
     "metadata": {},
     "output_type": "display_data"
    }
   ],
   "source": [
    "plt.plot(var2[:, 0], var2[:, 1], '-o') "
   ]
  },
  {
   "cell_type": "code",
   "execution_count": null,
   "metadata": {
    "collapsed": true
   },
   "outputs": [],
   "source": []
  },
  {
   "cell_type": "code",
   "execution_count": null,
   "metadata": {
    "collapsed": true
   },
   "outputs": [],
   "source": []
  },
  {
   "cell_type": "code",
   "execution_count": null,
   "metadata": {
    "collapsed": true
   },
   "outputs": [],
   "source": []
  },
  {
   "cell_type": "code",
   "execution_count": null,
   "metadata": {
    "collapsed": true
   },
   "outputs": [],
   "source": []
  }
 ],
 "metadata": {
  "kernelspec": {
   "display_name": "Python 3",
   "language": "python",
   "name": "python3"
  },
  "language_info": {
   "codemirror_mode": {
    "name": "ipython",
    "version": 3
   },
   "file_extension": ".py",
   "mimetype": "text/x-python",
   "name": "python",
   "nbconvert_exporter": "python",
   "pygments_lexer": "ipython3",
   "version": "3.6.4"
  }
 },
 "nbformat": 4,
 "nbformat_minor": 2
}
