{
 "cells": [
  {
   "cell_type": "code",
   "execution_count": 13,
   "metadata": {},
   "outputs": [],
   "source": [
    "import matplotlib as mpl\n",
    "import matplotlib.pyplot as plt\n",
    "import seaborn as sns\n",
    "sns.set(context='paper', style='whitegrid', color_codes=True, font_scale=1.8)\n",
    "colorcycle = [(0.498, 0.788, 0.498),\n",
    "              (0.745, 0.682, 0.831),\n",
    "              (0.992, 0.753, 0.525),\n",
    "              (0.220, 0.424, 0.690),\n",
    "              (0.749, 0.357, 0.090),\n",
    "              (1.000, 1.000, 0.600),\n",
    "              (0.941, 0.008, 0.498),\n",
    "              (0.400, 0.400, 0.400)]\n",
    "sns.set_palette(colorcycle)\n",
    "mpl.rcParams['figure.max_open_warning'] = 65\n",
    "mpl.rcParams['figure.figsize'] = [12, 7]\n",
    "\n",
    "%matplotlib inline "
   ]
  },
  {
   "cell_type": "code",
   "execution_count": 42,
   "metadata": {},
   "outputs": [
    {
     "name": "stdout",
     "output_type": "stream",
     "text": [
      "Processing user b600d2468831e0b3480a69af903dfc\n",
      "Processing user 28b76d7b7879d364321f164df5169f\n",
      "Processing user f41c375b5c87d3593b963b49a3f9a3\n",
      "Processing user dbbf1adb3264464838b938429d674b\n",
      "Fraction of non-nulls: 0.0855716021055473\n",
      "Number of of non-nulls: 634\n",
      "Fraction of non-nulls: 0.07473397673843109\n",
      "Number of of non-nulls: 604\n",
      "Fraction of non-nulls: 0.059622268855696825\n",
      "Number of of non-nulls: 483\n",
      "Fraction of non-nulls: 0.06173105978847399\n",
      "Number of of non-nulls: 572\n"
     ]
    },
    {
     "data": {
      "text/plain": [
       "<matplotlib.figure.Figure at 0x7f1ef4541c18>"
      ]
     },
     "metadata": {},
     "output_type": "display_data"
    }
   ],
   "source": [
    "%run bluetooth_adjacent_one_user_at_a_time.py "
   ]
  },
  {
   "cell_type": "code",
   "execution_count": 43,
   "metadata": {},
   "outputs": [],
   "source": [
    "r0 = grouped_res[list(grouped_res.keys())[0]] "
   ]
  },
  {
   "cell_type": "code",
   "execution_count": 44,
   "metadata": {},
   "outputs": [],
   "source": [
    "grp0, var0 = r0"
   ]
  },
  {
   "cell_type": "code",
   "execution_count": 45,
   "metadata": {},
   "outputs": [
    {
     "data": {
      "text/plain": [
       "((7409, 1), pandas.core.frame.DataFrame)"
      ]
     },
     "execution_count": 45,
     "metadata": {},
     "output_type": "execute_result"
    }
   ],
   "source": [
    "grp0.shape, type(grp0)"
   ]
  },
  {
   "cell_type": "code",
   "execution_count": 46,
   "metadata": {},
   "outputs": [
    {
     "data": {
      "text/plain": [
       "((51,), pandas.core.series.Series)"
      ]
     },
     "execution_count": 46,
     "metadata": {},
     "output_type": "execute_result"
    }
   ],
   "source": [
    "var0.shape, type(var0) "
   ]
  },
  {
   "cell_type": "code",
   "execution_count": 47,
   "metadata": {},
   "outputs": [
    {
     "data": {
      "text/plain": [
       "252    100463\n",
       "205     84845\n",
       "135     83696\n",
       "87      75737\n",
       "71      75169\n",
       "dtype: int64"
      ]
     },
     "execution_count": 47,
     "metadata": {},
     "output_type": "execute_result"
    }
   ],
   "source": [
    "var0.head() "
   ]
  },
  {
   "cell_type": "code",
   "execution_count": 48,
   "metadata": {},
   "outputs": [
    {
     "data": {
      "text/plain": [
       "<matplotlib.axes._subplots.AxesSubplot at 0x7f1eed52ed68>"
      ]
     },
     "execution_count": 48,
     "metadata": {},
     "output_type": "execute_result"
    },
    {
     "data": {
      "image/png": "[encoded data removed]",
      "text/plain": [
       "<matplotlib.figure.Figure at 0x7f1eed52e400>"
      ]
     },
     "metadata": {},
     "output_type": "display_data"
    }
   ],
   "source": [
    "var0.plot(style='o-')"
   ]
  },
  {
   "cell_type": "code",
   "execution_count": 49,
   "metadata": {},
   "outputs": [
    {
     "data": {
      "text/html": [
       "<div>\n",
       "<style scoped>\n",
       "    .dataframe tbody tr th:only-of-type {\n",
       "        vertical-align: middle;\n",
       "    }\n",
       "\n",
       "    .dataframe tbody tr th {\n",
       "        vertical-align: top;\n",
       "    }\n",
       "\n",
       "    .dataframe thead th {\n",
       "        text-align: right;\n",
       "    }\n",
       "</style>\n",
       "<table border=\"1\" class=\"dataframe\">\n",
       "  <thead>\n",
       "    <tr style=\"text-align: right;\">\n",
       "      <th></th>\n",
       "      <th></th>\n",
       "      <th>scanned_user</th>\n",
       "    </tr>\n",
       "    <tr>\n",
       "      <th>user</th>\n",
       "      <th>timestamp</th>\n",
       "      <th></th>\n",
       "    </tr>\n",
       "  </thead>\n",
       "  <tbody>\n",
       "    <tr>\n",
       "      <th rowspan=\"55\" valign=\"top\">u0182</th>\n",
       "      <th>2013-12-10 06:00:00</th>\n",
       "      <td>{89bcd6850fda4863c29a652250d4a5d58215af544b91f...</td>\n",
       "    </tr>\n",
       "    <tr>\n",
       "      <th>2013-12-10 07:30:00</th>\n",
       "      <td>NaN</td>\n",
       "    </tr>\n",
       "    <tr>\n",
       "      <th>2013-12-10 09:00:00</th>\n",
       "      <td>NaN</td>\n",
       "    </tr>\n",
       "    <tr>\n",
       "      <th>2013-12-10 10:30:00</th>\n",
       "      <td>NaN</td>\n",
       "    </tr>\n",
       "    <tr>\n",
       "      <th>2013-12-10 12:00:00</th>\n",
       "      <td>NaN</td>\n",
       "    </tr>\n",
       "    <tr>\n",
       "      <th>2013-12-10 13:30:00</th>\n",
       "      <td>NaN</td>\n",
       "    </tr>\n",
       "    <tr>\n",
       "      <th>2013-12-10 15:00:00</th>\n",
       "      <td>NaN</td>\n",
       "    </tr>\n",
       "    <tr>\n",
       "      <th>2013-12-10 16:30:00</th>\n",
       "      <td>NaN</td>\n",
       "    </tr>\n",
       "    <tr>\n",
       "      <th>2013-12-10 18:00:00</th>\n",
       "      <td>NaN</td>\n",
       "    </tr>\n",
       "    <tr>\n",
       "      <th>2013-12-10 19:30:00</th>\n",
       "      <td>NaN</td>\n",
       "    </tr>\n",
       "    <tr>\n",
       "      <th>2013-12-10 21:00:00</th>\n",
       "      <td>{5f96dbe7e457e1972cb083c23fcba472e51e573f306d4...</td>\n",
       "    </tr>\n",
       "    <tr>\n",
       "      <th>2013-12-10 22:30:00</th>\n",
       "      <td>NaN</td>\n",
       "    </tr>\n",
       "    <tr>\n",
       "      <th>2013-12-11 00:00:00</th>\n",
       "      <td>NaN</td>\n",
       "    </tr>\n",
       "    <tr>\n",
       "      <th>2013-12-11 01:30:00</th>\n",
       "      <td>NaN</td>\n",
       "    </tr>\n",
       "    <tr>\n",
       "      <th>2013-12-11 03:00:00</th>\n",
       "      <td>NaN</td>\n",
       "    </tr>\n",
       "    <tr>\n",
       "      <th>2013-12-11 04:30:00</th>\n",
       "      <td>NaN</td>\n",
       "    </tr>\n",
       "    <tr>\n",
       "      <th>2013-12-11 06:00:00</th>\n",
       "      <td>{bfab5d033620f2815c65c0f2761ea6e3963c19788d988...</td>\n",
       "    </tr>\n",
       "    <tr>\n",
       "      <th>2013-12-11 07:30:00</th>\n",
       "      <td>NaN</td>\n",
       "    </tr>\n",
       "    <tr>\n",
       "      <th>2013-12-11 09:00:00</th>\n",
       "      <td>NaN</td>\n",
       "    </tr>\n",
       "    <tr>\n",
       "      <th>2013-12-11 10:30:00</th>\n",
       "      <td>NaN</td>\n",
       "    </tr>\n",
       "    <tr>\n",
       "      <th>2013-12-11 12:00:00</th>\n",
       "      <td>NaN</td>\n",
       "    </tr>\n",
       "    <tr>\n",
       "      <th>2013-12-11 13:30:00</th>\n",
       "      <td>NaN</td>\n",
       "    </tr>\n",
       "    <tr>\n",
       "      <th>2013-12-11 15:00:00</th>\n",
       "      <td>NaN</td>\n",
       "    </tr>\n",
       "    <tr>\n",
       "      <th>2013-12-11 16:30:00</th>\n",
       "      <td>NaN</td>\n",
       "    </tr>\n",
       "    <tr>\n",
       "      <th>2013-12-11 18:00:00</th>\n",
       "      <td>NaN</td>\n",
       "    </tr>\n",
       "    <tr>\n",
       "      <th>2013-12-11 19:30:00</th>\n",
       "      <td>NaN</td>\n",
       "    </tr>\n",
       "    <tr>\n",
       "      <th>2013-12-11 21:00:00</th>\n",
       "      <td>NaN</td>\n",
       "    </tr>\n",
       "    <tr>\n",
       "      <th>...</th>\n",
       "      <td>...</td>\n",
       "    </tr>\n",
       "    <tr>\n",
       "      <th>2015-03-16 15:00:00</th>\n",
       "      <td>NaN</td>\n",
       "    </tr>\n",
       "    <tr>\n",
       "      <th>2015-03-16 16:30:00</th>\n",
       "      <td>NaN</td>\n",
       "    </tr>\n",
       "    <tr>\n",
       "      <th>2015-03-16 18:00:00</th>\n",
       "      <td>{1bc4db182ecea10d4b8ab8c9b987f778062869fedfd6e...</td>\n",
       "    </tr>\n",
       "    <tr>\n",
       "      <th>2015-03-16 19:30:00</th>\n",
       "      <td>{1bc4db182ecea10d4b8ab8c9b987f778062869fedfd6e...</td>\n",
       "    </tr>\n",
       "    <tr>\n",
       "      <th>2015-03-16 21:00:00</th>\n",
       "      <td>{86713120a2c56aaad27d7fa391970de4fce0d3cb34fa3...</td>\n",
       "    </tr>\n",
       "    <tr>\n",
       "      <th>2015-03-16 22:30:00</th>\n",
       "      <td>{86713120a2c56aaad27d7fa391970de4fce0d3cb34fa3...</td>\n",
       "    </tr>\n",
       "    <tr>\n",
       "      <th>2015-03-17 00:00:00</th>\n",
       "      <td>{1bc4db182ecea10d4b8ab8c9b987f778062869fedfd6e...</td>\n",
       "    </tr>\n",
       "    <tr>\n",
       "      <th>2015-03-17 01:30:00</th>\n",
       "      <td>NaN</td>\n",
       "    </tr>\n",
       "    <tr>\n",
       "      <th>2015-03-17 03:00:00</th>\n",
       "      <td>NaN</td>\n",
       "    </tr>\n",
       "    <tr>\n",
       "      <th>2015-03-17 04:30:00</th>\n",
       "      <td>NaN</td>\n",
       "    </tr>\n",
       "    <tr>\n",
       "      <th>2015-03-17 06:00:00</th>\n",
       "      <td>{0f28961e7d2a86f1d6890fb681de8dab688505d48f4ff...</td>\n",
       "    </tr>\n",
       "    <tr>\n",
       "      <th>2015-03-17 07:30:00</th>\n",
       "      <td>NaN</td>\n",
       "    </tr>\n",
       "    <tr>\n",
       "      <th>2015-03-17 09:00:00</th>\n",
       "      <td>NaN</td>\n",
       "    </tr>\n",
       "    <tr>\n",
       "      <th>2015-03-17 10:30:00</th>\n",
       "      <td>NaN</td>\n",
       "    </tr>\n",
       "    <tr>\n",
       "      <th>2015-03-17 12:00:00</th>\n",
       "      <td>NaN</td>\n",
       "    </tr>\n",
       "    <tr>\n",
       "      <th>2015-03-17 13:30:00</th>\n",
       "      <td>NaN</td>\n",
       "    </tr>\n",
       "    <tr>\n",
       "      <th>2015-03-17 15:00:00</th>\n",
       "      <td>NaN</td>\n",
       "    </tr>\n",
       "    <tr>\n",
       "      <th>2015-03-17 16:30:00</th>\n",
       "      <td>NaN</td>\n",
       "    </tr>\n",
       "    <tr>\n",
       "      <th>2015-03-17 18:00:00</th>\n",
       "      <td>{01ae0be30f2032657f28d419d1028bb7d722101698d82...</td>\n",
       "    </tr>\n",
       "    <tr>\n",
       "      <th>2015-03-17 19:30:00</th>\n",
       "      <td>{9e47b9499dfc3c921872a55d5b6be4b38440437b9d425...</td>\n",
       "    </tr>\n",
       "    <tr>\n",
       "      <th>2015-03-17 21:00:00</th>\n",
       "      <td>{9e47b9499dfc3c921872a55d5b6be4b38440437b9d425...</td>\n",
       "    </tr>\n",
       "    <tr>\n",
       "      <th>2015-03-17 22:30:00</th>\n",
       "      <td>{5f307e22a41f91847d402766b995380b3ea3165ad240e...</td>\n",
       "    </tr>\n",
       "    <tr>\n",
       "      <th>2015-03-18 00:00:00</th>\n",
       "      <td>{28643a25bb9f8dc907de2449bd12dc5904c74b2052a6a...</td>\n",
       "    </tr>\n",
       "    <tr>\n",
       "      <th>2015-03-18 01:30:00</th>\n",
       "      <td>NaN</td>\n",
       "    </tr>\n",
       "    <tr>\n",
       "      <th>2015-03-18 03:00:00</th>\n",
       "      <td>NaN</td>\n",
       "    </tr>\n",
       "    <tr>\n",
       "      <th>2015-03-18 04:30:00</th>\n",
       "      <td>NaN</td>\n",
       "    </tr>\n",
       "    <tr>\n",
       "      <th>2015-03-18 06:00:00</th>\n",
       "      <td>{1f37da2eae48714f8f14e56c27cd33fa73664349f08dd...</td>\n",
       "    </tr>\n",
       "  </tbody>\n",
       "</table>\n",
       "<p>7409 rows × 1 columns</p>\n",
       "</div>"
      ],
      "text/plain": [
       "                                                                scanned_user\n",
       "user  timestamp                                                             \n",
       "u0182 2013-12-10 06:00:00  {89bcd6850fda4863c29a652250d4a5d58215af544b91f...\n",
       "      2013-12-10 07:30:00                                                NaN\n",
       "      2013-12-10 09:00:00                                                NaN\n",
       "      2013-12-10 10:30:00                                                NaN\n",
       "      2013-12-10 12:00:00                                                NaN\n",
       "      2013-12-10 13:30:00                                                NaN\n",
       "      2013-12-10 15:00:00                                                NaN\n",
       "      2013-12-10 16:30:00                                                NaN\n",
       "      2013-12-10 18:00:00                                                NaN\n",
       "      2013-12-10 19:30:00                                                NaN\n",
       "      2013-12-10 21:00:00  {5f96dbe7e457e1972cb083c23fcba472e51e573f306d4...\n",
       "      2013-12-10 22:30:00                                                NaN\n",
       "      2013-12-11 00:00:00                                                NaN\n",
       "      2013-12-11 01:30:00                                                NaN\n",
       "      2013-12-11 03:00:00                                                NaN\n",
       "      2013-12-11 04:30:00                                                NaN\n",
       "      2013-12-11 06:00:00  {bfab5d033620f2815c65c0f2761ea6e3963c19788d988...\n",
       "      2013-12-11 07:30:00                                                NaN\n",
       "      2013-12-11 09:00:00                                                NaN\n",
       "      2013-12-11 10:30:00                                                NaN\n",
       "      2013-12-11 12:00:00                                                NaN\n",
       "      2013-12-11 13:30:00                                                NaN\n",
       "      2013-12-11 15:00:00                                                NaN\n",
       "      2013-12-11 16:30:00                                                NaN\n",
       "      2013-12-11 18:00:00                                                NaN\n",
       "      2013-12-11 19:30:00                                                NaN\n",
       "      2013-12-11 21:00:00                                                NaN\n",
       "...                                                                      ...\n",
       "      2015-03-16 15:00:00                                                NaN\n",
       "      2015-03-16 16:30:00                                                NaN\n",
       "      2015-03-16 18:00:00  {1bc4db182ecea10d4b8ab8c9b987f778062869fedfd6e...\n",
       "      2015-03-16 19:30:00  {1bc4db182ecea10d4b8ab8c9b987f778062869fedfd6e...\n",
       "      2015-03-16 21:00:00  {86713120a2c56aaad27d7fa391970de4fce0d3cb34fa3...\n",
       "      2015-03-16 22:30:00  {86713120a2c56aaad27d7fa391970de4fce0d3cb34fa3...\n",
       "      2015-03-17 00:00:00  {1bc4db182ecea10d4b8ab8c9b987f778062869fedfd6e...\n",
       "      2015-03-17 01:30:00                                                NaN\n",
       "      2015-03-17 03:00:00                                                NaN\n",
       "      2015-03-17 04:30:00                                                NaN\n",
       "      2015-03-17 06:00:00  {0f28961e7d2a86f1d6890fb681de8dab688505d48f4ff...\n",
       "      2015-03-17 07:30:00                                                NaN\n",
       "      2015-03-17 09:00:00                                                NaN\n",
       "      2015-03-17 10:30:00                                                NaN\n",
       "      2015-03-17 12:00:00                                                NaN\n",
       "      2015-03-17 13:30:00                                                NaN\n",
       "      2015-03-17 15:00:00                                                NaN\n",
       "      2015-03-17 16:30:00                                                NaN\n",
       "      2015-03-17 18:00:00  {01ae0be30f2032657f28d419d1028bb7d722101698d82...\n",
       "      2015-03-17 19:30:00  {9e47b9499dfc3c921872a55d5b6be4b38440437b9d425...\n",
       "      2015-03-17 21:00:00  {9e47b9499dfc3c921872a55d5b6be4b38440437b9d425...\n",
       "      2015-03-17 22:30:00  {5f307e22a41f91847d402766b995380b3ea3165ad240e...\n",
       "      2015-03-18 00:00:00  {28643a25bb9f8dc907de2449bd12dc5904c74b2052a6a...\n",
       "      2015-03-18 01:30:00                                                NaN\n",
       "      2015-03-18 03:00:00                                                NaN\n",
       "      2015-03-18 04:30:00                                                NaN\n",
       "      2015-03-18 06:00:00  {1f37da2eae48714f8f14e56c27cd33fa73664349f08dd...\n",
       "\n",
       "[7409 rows x 1 columns]"
      ]
     },
     "execution_count": 49,
     "metadata": {},
     "output_type": "execute_result"
    }
   ],
   "source": [
    "grp0"
   ]
  },
  {
   "cell_type": "code",
   "execution_count": null,
   "metadata": {},
   "outputs": [],
   "source": []
  }
 ],
 "metadata": {
  "kernelspec": {
   "display_name": "Python 3",
   "language": "python",
   "name": "python3"
  },
  "language_info": {
   "codemirror_mode": {
    "name": "ipython",
    "version": 3
   },
   "file_extension": ".py",
   "mimetype": "text/x-python",
   "name": "python",
   "nbconvert_exporter": "python",
   "pygments_lexer": "ipython3",
   "version": "3.6.4"
  }
 },
 "nbformat": 4,
 "nbformat_minor": 2
}
