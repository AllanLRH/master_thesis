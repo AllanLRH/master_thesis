{
 "cells": [
  {
   "cell_type": "code",
   "execution_count": 1,
   "metadata": {},
   "outputs": [],
   "source": [
    "import sys \n",
    "import os\n",
    "sys.path.append(os.path.abspath(\"..\"))\n",
    "\n",
    "import math\n",
    "import numpy as np\n",
    "import pandas as pd\n",
    "import matplotlib as mpl\n",
    "import matplotlib.pyplot as plt\n",
    "import seaborn as sns\n",
    "import networkx as nx\n",
    "import re\n",
    "import itertools \n",
    "sns.set(context='paper', style='whitegrid', color_codes=True, font_scale=1.8)\n",
    "colorcycle = [(0.498, 0.788, 0.498),\n",
    "              (0.745, 0.682, 0.831),\n",
    "              (0.992, 0.753, 0.525),\n",
    "              (0.220, 0.424, 0.690),\n",
    "              (0.749, 0.357, 0.090),\n",
    "              (1.000, 1.000, 0.600),\n",
    "              (0.941, 0.008, 0.498),\n",
    "              (0.400, 0.400, 0.400)]\n",
    "sns.set_palette(colorcycle)\n",
    "mpl.rcParams['figure.max_open_warning'] = 65\n",
    "mpl.rcParams['figure.figsize'] = [12, 7]\n",
    "\n",
    "from speclib import misc, plotting, loaders, graph\n",
    "\n",
    "%matplotlib inline "
   ]
  },
  {
   "cell_type": "code",
   "execution_count": 2,
   "metadata": {},
   "outputs": [
    {
     "data": {
      "text/html": [
       "<div>\n",
       "<style scoped>\n",
       "    .dataframe tbody tr th:only-of-type {\n",
       "        vertical-align: middle;\n",
       "    }\n",
       "\n",
       "    .dataframe tbody tr th {\n",
       "        vertical-align: top;\n",
       "    }\n",
       "\n",
       "    .dataframe thead th {\n",
       "        text-align: right;\n",
       "    }\n",
       "</style>\n",
       "<table border=\"1\" class=\"dataframe\">\n",
       "  <thead>\n",
       "    <tr style=\"text-align: right;\">\n",
       "      <th></th>\n",
       "      <th>u0182</th>\n",
       "      <th>u1015</th>\n",
       "      <th>u0778</th>\n",
       "      <th>u0933</th>\n",
       "      <th>u0256</th>\n",
       "      <th>u0659</th>\n",
       "      <th>u0719</th>\n",
       "      <th>u0709</th>\n",
       "      <th>u0748</th>\n",
       "      <th>u0045</th>\n",
       "      <th>...</th>\n",
       "      <th>u0912</th>\n",
       "      <th>u0392</th>\n",
       "      <th>u0060</th>\n",
       "      <th>u0125</th>\n",
       "      <th>u0854</th>\n",
       "      <th>u0404</th>\n",
       "      <th>u0202</th>\n",
       "      <th>u0353</th>\n",
       "      <th>u0382</th>\n",
       "      <th>u0188</th>\n",
       "    </tr>\n",
       "  </thead>\n",
       "  <tbody>\n",
       "    <tr>\n",
       "      <th>u0182</th>\n",
       "      <td>0.0</td>\n",
       "      <td>126.0</td>\n",
       "      <td>134.0</td>\n",
       "      <td>33.0</td>\n",
       "      <td>50.0</td>\n",
       "      <td>0.0</td>\n",
       "      <td>0.0</td>\n",
       "      <td>107.0</td>\n",
       "      <td>4.0</td>\n",
       "      <td>3.0</td>\n",
       "      <td>...</td>\n",
       "      <td>562.0</td>\n",
       "      <td>3.0</td>\n",
       "      <td>20.0</td>\n",
       "      <td>16.0</td>\n",
       "      <td>237.0</td>\n",
       "      <td>0.0</td>\n",
       "      <td>40.0</td>\n",
       "      <td>6.0</td>\n",
       "      <td>26.0</td>\n",
       "      <td>76.0</td>\n",
       "    </tr>\n",
       "    <tr>\n",
       "      <th>u1015</th>\n",
       "      <td>126.0</td>\n",
       "      <td>0.0</td>\n",
       "      <td>78.0</td>\n",
       "      <td>286.0</td>\n",
       "      <td>72.0</td>\n",
       "      <td>0.0</td>\n",
       "      <td>14.0</td>\n",
       "      <td>2928.0</td>\n",
       "      <td>11.0</td>\n",
       "      <td>17.0</td>\n",
       "      <td>...</td>\n",
       "      <td>323.0</td>\n",
       "      <td>80.0</td>\n",
       "      <td>24.0</td>\n",
       "      <td>39.0</td>\n",
       "      <td>622.0</td>\n",
       "      <td>2.0</td>\n",
       "      <td>82.0</td>\n",
       "      <td>48.0</td>\n",
       "      <td>34.0</td>\n",
       "      <td>55.0</td>\n",
       "    </tr>\n",
       "    <tr>\n",
       "      <th>u0778</th>\n",
       "      <td>134.0</td>\n",
       "      <td>78.0</td>\n",
       "      <td>0.0</td>\n",
       "      <td>43.0</td>\n",
       "      <td>89.0</td>\n",
       "      <td>0.0</td>\n",
       "      <td>9.0</td>\n",
       "      <td>2056.0</td>\n",
       "      <td>3.0</td>\n",
       "      <td>10.0</td>\n",
       "      <td>...</td>\n",
       "      <td>645.0</td>\n",
       "      <td>3.0</td>\n",
       "      <td>21.0</td>\n",
       "      <td>13.0</td>\n",
       "      <td>387.0</td>\n",
       "      <td>2.0</td>\n",
       "      <td>22.0</td>\n",
       "      <td>45.0</td>\n",
       "      <td>67.0</td>\n",
       "      <td>89.0</td>\n",
       "    </tr>\n",
       "    <tr>\n",
       "      <th>u0933</th>\n",
       "      <td>33.0</td>\n",
       "      <td>286.0</td>\n",
       "      <td>43.0</td>\n",
       "      <td>0.0</td>\n",
       "      <td>34.0</td>\n",
       "      <td>0.0</td>\n",
       "      <td>0.0</td>\n",
       "      <td>72.0</td>\n",
       "      <td>0.0</td>\n",
       "      <td>110.0</td>\n",
       "      <td>...</td>\n",
       "      <td>13.0</td>\n",
       "      <td>3191.0</td>\n",
       "      <td>6.0</td>\n",
       "      <td>69.0</td>\n",
       "      <td>272.0</td>\n",
       "      <td>4.0</td>\n",
       "      <td>10723.0</td>\n",
       "      <td>0.0</td>\n",
       "      <td>18.0</td>\n",
       "      <td>69.0</td>\n",
       "    </tr>\n",
       "    <tr>\n",
       "      <th>u0256</th>\n",
       "      <td>50.0</td>\n",
       "      <td>72.0</td>\n",
       "      <td>89.0</td>\n",
       "      <td>34.0</td>\n",
       "      <td>0.0</td>\n",
       "      <td>0.0</td>\n",
       "      <td>0.0</td>\n",
       "      <td>41.0</td>\n",
       "      <td>0.0</td>\n",
       "      <td>1.0</td>\n",
       "      <td>...</td>\n",
       "      <td>37.0</td>\n",
       "      <td>17.0</td>\n",
       "      <td>0.0</td>\n",
       "      <td>0.0</td>\n",
       "      <td>2722.0</td>\n",
       "      <td>0.0</td>\n",
       "      <td>38.0</td>\n",
       "      <td>0.0</td>\n",
       "      <td>2.0</td>\n",
       "      <td>1.0</td>\n",
       "    </tr>\n",
       "  </tbody>\n",
       "</table>\n",
       "<p>5 rows × 852 columns</p>\n",
       "</div>"
      ],
      "text/plain": [
       "       u0182  u1015  u0778  u0933  u0256  u0659  u0719   u0709  u0748  u0045  \\\n",
       "u0182    0.0  126.0  134.0   33.0   50.0    0.0    0.0   107.0    4.0    3.0   \n",
       "u1015  126.0    0.0   78.0  286.0   72.0    0.0   14.0  2928.0   11.0   17.0   \n",
       "u0778  134.0   78.0    0.0   43.0   89.0    0.0    9.0  2056.0    3.0   10.0   \n",
       "u0933   33.0  286.0   43.0    0.0   34.0    0.0    0.0    72.0    0.0  110.0   \n",
       "u0256   50.0   72.0   89.0   34.0    0.0    0.0    0.0    41.0    0.0    1.0   \n",
       "\n",
       "       ...    u0912   u0392  u0060  u0125   u0854  u0404    u0202  u0353  \\\n",
       "u0182  ...    562.0     3.0   20.0   16.0   237.0    0.0     40.0    6.0   \n",
       "u1015  ...    323.0    80.0   24.0   39.0   622.0    2.0     82.0   48.0   \n",
       "u0778  ...    645.0     3.0   21.0   13.0   387.0    2.0     22.0   45.0   \n",
       "u0933  ...     13.0  3191.0    6.0   69.0   272.0    4.0  10723.0    0.0   \n",
       "u0256  ...     37.0    17.0    0.0    0.0  2722.0    0.0     38.0    0.0   \n",
       "\n",
       "       u0382  u0188  \n",
       "u0182   26.0   76.0  \n",
       "u1015   34.0   55.0  \n",
       "u0778   67.0   89.0  \n",
       "u0933   18.0   69.0  \n",
       "u0256    2.0    1.0  \n",
       "\n",
       "[5 rows x 852 columns]"
      ]
     },
     "execution_count": 2,
     "metadata": {},
     "output_type": "execute_result"
    }
   ],
   "source": [
    "dfa = pd.read_msgpack('../../allan_data/participants_graph_adjacency.msgpack')\n",
    "mask = dfa.sum() != 0\n",
    "dfa = dfa.loc[mask, mask]  # drop zero-columns\n",
    "dfa.head() "
   ]
  },
  {
   "cell_type": "code",
   "execution_count": 3,
   "metadata": {},
   "outputs": [],
   "source": [
    "qdf = pd.read_json('../../allan_data/RGender_.json')\n",
    "q = misc.QuestionCompleter(qdf)\n",
    "f = misc.QuestionFilterer(qdf)\n",
    "ua = loaders.Useralias() \n",
    "\n",
    "qdf.index = qdf.index.map(lambda el: ua[el]) "
   ]
  },
  {
   "cell_type": "markdown",
   "metadata": {},
   "source": [
    "Remove persons with more than 10 % null answers"
   ]
  },
  {
   "cell_type": "code",
   "execution_count": 4,
   "metadata": {},
   "outputs": [],
   "source": [
    "qdf = qdf[(qdf.isna().mean() < 0.10).index]"
   ]
  },
  {
   "cell_type": "markdown",
   "metadata": {},
   "source": [
    "Unify participants in qdf and dfa"
   ]
  },
  {
   "cell_type": "code",
   "execution_count": 5,
   "metadata": {},
   "outputs": [],
   "source": [
    "user_union = qdf.index.intersection(dfa.index)\n",
    "dfa = dfa.filter(items=user_union, axis=0).filter(items=user_union, axis=1)\n",
    "qdf = qdf.filter(items=user_union, axis=0)\n",
    "\n",
    "assert dfa.shape[0] == dfa.shape[1]\n",
    "assert (dfa.values[np.diag_indices_from(dfa.values)] == 0).all()\n",
    "assert len(qdf.index) == len(dfa.index)\n",
    "assert len(qdf.index.difference(dfa.index)) == 0"
   ]
  },
  {
   "cell_type": "markdown",
   "metadata": {},
   "source": [
    "Get alcohol-relarted question answers"
   ]
  },
  {
   "cell_type": "code",
   "execution_count": 6,
   "metadata": {},
   "outputs": [
    {
     "data": {
      "text/html": [
       "<div>\n",
       "<style scoped>\n",
       "    .dataframe tbody tr th:only-of-type {\n",
       "        vertical-align: middle;\n",
       "    }\n",
       "\n",
       "    .dataframe tbody tr th {\n",
       "        vertical-align: top;\n",
       "    }\n",
       "\n",
       "    .dataframe thead th {\n",
       "        text-align: right;\n",
       "    }\n",
       "</style>\n",
       "<table border=\"1\" class=\"dataframe\">\n",
       "  <thead>\n",
       "    <tr style=\"text-align: right;\">\n",
       "      <th></th>\n",
       "      <th>alcohol_binge10__answer</th>\n",
       "      <th>alcohol_binge5__answer</th>\n",
       "      <th>alcohol_debut__answer</th>\n",
       "      <th>alcohol_drunk__answer</th>\n",
       "      <th>alcohol_everyday__answer</th>\n",
       "      <th>alcohol_very_drunk__answer</th>\n",
       "      <th>alcohol_volume_friday__answer</th>\n",
       "      <th>alcohol_volume_monday__answer</th>\n",
       "      <th>alcohol_volume_saturday__answer</th>\n",
       "      <th>alcohol_volume_sunday__answer</th>\n",
       "      <th>alcohol_volume_thursday__answer</th>\n",
       "      <th>alcohol_volume_tuesday__answer</th>\n",
       "      <th>alcohol_volume_wednesday__answer</th>\n",
       "      <th>alcohol_weekend__answer</th>\n",
       "    </tr>\n",
       "  </thead>\n",
       "  <tbody>\n",
       "    <tr>\n",
       "      <th>u0001</th>\n",
       "      <td>1.0</td>\n",
       "      <td>2.0</td>\n",
       "      <td>1.0</td>\n",
       "      <td>3.0</td>\n",
       "      <td>0.0</td>\n",
       "      <td>1.0</td>\n",
       "      <td>0.0</td>\n",
       "      <td>0.0</td>\n",
       "      <td>0.0</td>\n",
       "      <td>0.0</td>\n",
       "      <td>0.0</td>\n",
       "      <td>30.0</td>\n",
       "      <td>5.0</td>\n",
       "      <td>3.0</td>\n",
       "    </tr>\n",
       "    <tr>\n",
       "      <th>u0002</th>\n",
       "      <td>1.0</td>\n",
       "      <td>0.0</td>\n",
       "      <td>1.0</td>\n",
       "      <td>1.0</td>\n",
       "      <td>0.0</td>\n",
       "      <td>0.0</td>\n",
       "      <td>0.0</td>\n",
       "      <td>0.0</td>\n",
       "      <td>0.0</td>\n",
       "      <td>0.0</td>\n",
       "      <td>0.0</td>\n",
       "      <td>0.0</td>\n",
       "      <td>0.0</td>\n",
       "      <td>1.0</td>\n",
       "    </tr>\n",
       "    <tr>\n",
       "      <th>u0003</th>\n",
       "      <td>2.0</td>\n",
       "      <td>2.0</td>\n",
       "      <td>1.0</td>\n",
       "      <td>2.0</td>\n",
       "      <td>0.0</td>\n",
       "      <td>2.0</td>\n",
       "      <td>12.0</td>\n",
       "      <td>0.0</td>\n",
       "      <td>2.0</td>\n",
       "      <td>0.0</td>\n",
       "      <td>0.0</td>\n",
       "      <td>0.0</td>\n",
       "      <td>0.0</td>\n",
       "      <td>3.0</td>\n",
       "    </tr>\n",
       "    <tr>\n",
       "      <th>u0004</th>\n",
       "      <td>1.0</td>\n",
       "      <td>1.0</td>\n",
       "      <td>1.0</td>\n",
       "      <td>1.0</td>\n",
       "      <td>0.0</td>\n",
       "      <td>1.0</td>\n",
       "      <td>0.0</td>\n",
       "      <td>1.0</td>\n",
       "      <td>1.0</td>\n",
       "      <td>1.0</td>\n",
       "      <td>0.0</td>\n",
       "      <td>1.0</td>\n",
       "      <td>0.0</td>\n",
       "      <td>1.0</td>\n",
       "    </tr>\n",
       "    <tr>\n",
       "      <th>u0006</th>\n",
       "      <td>0.0</td>\n",
       "      <td>1.0</td>\n",
       "      <td>1.0</td>\n",
       "      <td>1.0</td>\n",
       "      <td>0.0</td>\n",
       "      <td>0.0</td>\n",
       "      <td>0.0</td>\n",
       "      <td>0.0</td>\n",
       "      <td>0.0</td>\n",
       "      <td>0.0</td>\n",
       "      <td>0.0</td>\n",
       "      <td>0.0</td>\n",
       "      <td>0.0</td>\n",
       "      <td>1.0</td>\n",
       "    </tr>\n",
       "  </tbody>\n",
       "</table>\n",
       "</div>"
      ],
      "text/plain": [
       "       alcohol_binge10__answer  alcohol_binge5__answer  alcohol_debut__answer  \\\n",
       "u0001                      1.0                     2.0                    1.0   \n",
       "u0002                      1.0                     0.0                    1.0   \n",
       "u0003                      2.0                     2.0                    1.0   \n",
       "u0004                      1.0                     1.0                    1.0   \n",
       "u0006                      0.0                     1.0                    1.0   \n",
       "\n",
       "       alcohol_drunk__answer  alcohol_everyday__answer  \\\n",
       "u0001                    3.0                       0.0   \n",
       "u0002                    1.0                       0.0   \n",
       "u0003                    2.0                       0.0   \n",
       "u0004                    1.0                       0.0   \n",
       "u0006                    1.0                       0.0   \n",
       "\n",
       "       alcohol_very_drunk__answer  alcohol_volume_friday__answer  \\\n",
       "u0001                         1.0                            0.0   \n",
       "u0002                         0.0                            0.0   \n",
       "u0003                         2.0                           12.0   \n",
       "u0004                         1.0                            0.0   \n",
       "u0006                         0.0                            0.0   \n",
       "\n",
       "       alcohol_volume_monday__answer  alcohol_volume_saturday__answer  \\\n",
       "u0001                            0.0                              0.0   \n",
       "u0002                            0.0                              0.0   \n",
       "u0003                            0.0                              2.0   \n",
       "u0004                            1.0                              1.0   \n",
       "u0006                            0.0                              0.0   \n",
       "\n",
       "       alcohol_volume_sunday__answer  alcohol_volume_thursday__answer  \\\n",
       "u0001                            0.0                              0.0   \n",
       "u0002                            0.0                              0.0   \n",
       "u0003                            0.0                              0.0   \n",
       "u0004                            1.0                              0.0   \n",
       "u0006                            0.0                              0.0   \n",
       "\n",
       "       alcohol_volume_tuesday__answer  alcohol_volume_wednesday__answer  \\\n",
       "u0001                            30.0                               5.0   \n",
       "u0002                             0.0                               0.0   \n",
       "u0003                             0.0                               0.0   \n",
       "u0004                             1.0                               0.0   \n",
       "u0006                             0.0                               0.0   \n",
       "\n",
       "       alcohol_weekend__answer  \n",
       "u0001                      3.0  \n",
       "u0002                      1.0  \n",
       "u0003                      3.0  \n",
       "u0004                      1.0  \n",
       "u0006                      1.0  "
      ]
     },
     "execution_count": 6,
     "metadata": {},
     "output_type": "execute_result"
    }
   ],
   "source": [
    "alcohol_questions = f['alcohol.+__answer$']\n",
    "alcohol_questions.head() "
   ]
  },
  {
   "cell_type": "markdown",
   "metadata": {},
   "source": [
    "Remove alcohol NaN-users from qdf "
   ]
  },
  {
   "cell_type": "code",
   "execution_count": 7,
   "metadata": {},
   "outputs": [
    {
     "name": "stderr",
     "output_type": "stream",
     "text": [
      "/lscr_paper/allan/miniconda3/envs/py36up/lib/python3.6/site-packages/ipykernel_launcher.py:1: UserWarning: Boolean Series key will be reindexed to match DataFrame index.\n",
      "  \"\"\"Entry point for launching an IPython kernel.\n"
     ]
    }
   ],
   "source": [
    "qdf = qdf[alcohol_questions.notnull().any(axis=1)]"
   ]
  },
  {
   "cell_type": "markdown",
   "metadata": {},
   "source": [
    "Find the persons with whom each person spends the most time"
   ]
  },
  {
   "cell_type": "code",
   "execution_count": 8,
   "metadata": {},
   "outputs": [
    {
     "data": {
      "text/html": [
       "<div>\n",
       "<style scoped>\n",
       "    .dataframe tbody tr th:only-of-type {\n",
       "        vertical-align: middle;\n",
       "    }\n",
       "\n",
       "    .dataframe tbody tr th {\n",
       "        vertical-align: top;\n",
       "    }\n",
       "\n",
       "    .dataframe thead th {\n",
       "        text-align: right;\n",
       "    }\n",
       "</style>\n",
       "<table border=\"1\" class=\"dataframe\">\n",
       "  <thead>\n",
       "    <tr style=\"text-align: right;\">\n",
       "      <th></th>\n",
       "      <th>bfi_art__answer</th>\n",
       "      <th>bfi_calm__answer</th>\n",
       "      <th>bfi_careless__answer</th>\n",
       "      <th>bfi_caring__answer</th>\n",
       "      <th>bfi_cold__answer</th>\n",
       "      <th>bfi_confident__answer</th>\n",
       "      <th>bfi_coorporation__answer</th>\n",
       "      <th>bfi_creative__answer</th>\n",
       "      <th>bfi_currious__answer</th>\n",
       "      <th>bfi_depressed__answer</th>\n",
       "      <th>...</th>\n",
       "      <th>bfi_shy__answer</th>\n",
       "      <th>bfi_social__answer</th>\n",
       "      <th>bfi_stable__answer</th>\n",
       "      <th>bfi_strong_personality__answer</th>\n",
       "      <th>bfi_talk__answer</th>\n",
       "      <th>bfi_taste_art__answer</th>\n",
       "      <th>bfi_tense__answer</th>\n",
       "      <th>bfi_unbalanced__answer</th>\n",
       "      <th>bfi_work__answer</th>\n",
       "      <th>bfi_worry__answer</th>\n",
       "    </tr>\n",
       "  </thead>\n",
       "  <tbody>\n",
       "    <tr>\n",
       "      <th>u0001</th>\n",
       "      <td>1.0</td>\n",
       "      <td>3.0</td>\n",
       "      <td>3.0</td>\n",
       "      <td>3.0</td>\n",
       "      <td>0.0</td>\n",
       "      <td>3.0</td>\n",
       "      <td>4.0</td>\n",
       "      <td>0.0</td>\n",
       "      <td>4.0</td>\n",
       "      <td>1.0</td>\n",
       "      <td>...</td>\n",
       "      <td>1.0</td>\n",
       "      <td>4.0</td>\n",
       "      <td>2.0</td>\n",
       "      <td>4.0</td>\n",
       "      <td>4.0</td>\n",
       "      <td>1.0</td>\n",
       "      <td>0.0</td>\n",
       "      <td>0.0</td>\n",
       "      <td>1.0</td>\n",
       "      <td>2.0</td>\n",
       "    </tr>\n",
       "    <tr>\n",
       "      <th>u0002</th>\n",
       "      <td>2.0</td>\n",
       "      <td>3.0</td>\n",
       "      <td>2.0</td>\n",
       "      <td>3.0</td>\n",
       "      <td>3.0</td>\n",
       "      <td>3.0</td>\n",
       "      <td>3.0</td>\n",
       "      <td>4.0</td>\n",
       "      <td>4.0</td>\n",
       "      <td>1.0</td>\n",
       "      <td>...</td>\n",
       "      <td>1.0</td>\n",
       "      <td>2.0</td>\n",
       "      <td>2.0</td>\n",
       "      <td>3.0</td>\n",
       "      <td>3.0</td>\n",
       "      <td>1.0</td>\n",
       "      <td>3.0</td>\n",
       "      <td>2.0</td>\n",
       "      <td>2.0</td>\n",
       "      <td>3.0</td>\n",
       "    </tr>\n",
       "    <tr>\n",
       "      <th>u0003</th>\n",
       "      <td>1.0</td>\n",
       "      <td>3.0</td>\n",
       "      <td>3.0</td>\n",
       "      <td>3.0</td>\n",
       "      <td>3.0</td>\n",
       "      <td>4.0</td>\n",
       "      <td>3.0</td>\n",
       "      <td>3.0</td>\n",
       "      <td>4.0</td>\n",
       "      <td>1.0</td>\n",
       "      <td>...</td>\n",
       "      <td>3.0</td>\n",
       "      <td>2.0</td>\n",
       "      <td>3.0</td>\n",
       "      <td>3.0</td>\n",
       "      <td>1.0</td>\n",
       "      <td>0.0</td>\n",
       "      <td>2.0</td>\n",
       "      <td>0.0</td>\n",
       "      <td>2.0</td>\n",
       "      <td>2.0</td>\n",
       "    </tr>\n",
       "    <tr>\n",
       "      <th>u0004</th>\n",
       "      <td>3.0</td>\n",
       "      <td>3.0</td>\n",
       "      <td>1.0</td>\n",
       "      <td>3.0</td>\n",
       "      <td>2.0</td>\n",
       "      <td>3.0</td>\n",
       "      <td>2.0</td>\n",
       "      <td>3.0</td>\n",
       "      <td>4.0</td>\n",
       "      <td>2.0</td>\n",
       "      <td>...</td>\n",
       "      <td>2.0</td>\n",
       "      <td>2.0</td>\n",
       "      <td>3.0</td>\n",
       "      <td>3.0</td>\n",
       "      <td>2.0</td>\n",
       "      <td>3.0</td>\n",
       "      <td>2.0</td>\n",
       "      <td>1.0</td>\n",
       "      <td>3.0</td>\n",
       "      <td>3.0</td>\n",
       "    </tr>\n",
       "    <tr>\n",
       "      <th>u0006</th>\n",
       "      <td>1.0</td>\n",
       "      <td>2.0</td>\n",
       "      <td>0.0</td>\n",
       "      <td>4.0</td>\n",
       "      <td>0.0</td>\n",
       "      <td>3.0</td>\n",
       "      <td>3.0</td>\n",
       "      <td>3.0</td>\n",
       "      <td>3.0</td>\n",
       "      <td>0.0</td>\n",
       "      <td>...</td>\n",
       "      <td>3.0</td>\n",
       "      <td>2.0</td>\n",
       "      <td>4.0</td>\n",
       "      <td>2.0</td>\n",
       "      <td>3.0</td>\n",
       "      <td>0.0</td>\n",
       "      <td>1.0</td>\n",
       "      <td>0.0</td>\n",
       "      <td>3.0</td>\n",
       "      <td>2.0</td>\n",
       "    </tr>\n",
       "  </tbody>\n",
       "</table>\n",
       "<p>5 rows × 43 columns</p>\n",
       "</div>"
      ],
      "text/plain": [
       "       bfi_art__answer  bfi_calm__answer  bfi_careless__answer  \\\n",
       "u0001              1.0               3.0                   3.0   \n",
       "u0002              2.0               3.0                   2.0   \n",
       "u0003              1.0               3.0                   3.0   \n",
       "u0004              3.0               3.0                   1.0   \n",
       "u0006              1.0               2.0                   0.0   \n",
       "\n",
       "       bfi_caring__answer  bfi_cold__answer  bfi_confident__answer  \\\n",
       "u0001                 3.0               0.0                    3.0   \n",
       "u0002                 3.0               3.0                    3.0   \n",
       "u0003                 3.0               3.0                    4.0   \n",
       "u0004                 3.0               2.0                    3.0   \n",
       "u0006                 4.0               0.0                    3.0   \n",
       "\n",
       "       bfi_coorporation__answer  bfi_creative__answer  bfi_currious__answer  \\\n",
       "u0001                       4.0                   0.0                   4.0   \n",
       "u0002                       3.0                   4.0                   4.0   \n",
       "u0003                       3.0                   3.0                   4.0   \n",
       "u0004                       2.0                   3.0                   4.0   \n",
       "u0006                       3.0                   3.0                   3.0   \n",
       "\n",
       "       bfi_depressed__answer        ...          bfi_shy__answer  \\\n",
       "u0001                    1.0        ...                      1.0   \n",
       "u0002                    1.0        ...                      1.0   \n",
       "u0003                    1.0        ...                      3.0   \n",
       "u0004                    2.0        ...                      2.0   \n",
       "u0006                    0.0        ...                      3.0   \n",
       "\n",
       "       bfi_social__answer  bfi_stable__answer  bfi_strong_personality__answer  \\\n",
       "u0001                 4.0                 2.0                             4.0   \n",
       "u0002                 2.0                 2.0                             3.0   \n",
       "u0003                 2.0                 3.0                             3.0   \n",
       "u0004                 2.0                 3.0                             3.0   \n",
       "u0006                 2.0                 4.0                             2.0   \n",
       "\n",
       "       bfi_talk__answer  bfi_taste_art__answer  bfi_tense__answer  \\\n",
       "u0001               4.0                    1.0                0.0   \n",
       "u0002               3.0                    1.0                3.0   \n",
       "u0003               1.0                    0.0                2.0   \n",
       "u0004               2.0                    3.0                2.0   \n",
       "u0006               3.0                    0.0                1.0   \n",
       "\n",
       "       bfi_unbalanced__answer  bfi_work__answer  bfi_worry__answer  \n",
       "u0001                     0.0               1.0                2.0  \n",
       "u0002                     2.0               2.0                3.0  \n",
       "u0003                     0.0               2.0                2.0  \n",
       "u0004                     1.0               3.0                3.0  \n",
       "u0006                     0.0               3.0                2.0  \n",
       "\n",
       "[5 rows x 43 columns]"
      ]
     },
     "execution_count": 8,
     "metadata": {},
     "output_type": "execute_result"
    }
   ],
   "source": [
    "big5_questions = f['bfi_.+_answer$']\n",
    "big5_questions.head() "
   ]
  },
  {
   "cell_type": "code",
   "execution_count": 22,
   "metadata": {},
   "outputs": [],
   "source": [
    "n_persons = 35\n",
    "simfnc = graph.cosSim"
   ]
  },
  {
   "cell_type": "code",
   "execution_count": 23,
   "metadata": {},
   "outputs": [],
   "source": [
    "u = dfa['u0001'] "
   ]
  },
  {
   "cell_type": "markdown",
   "metadata": {},
   "source": [
    "Strip out persons not present in alcohol questions dataframe"
   ]
  },
  {
   "cell_type": "code",
   "execution_count": 24,
   "metadata": {},
   "outputs": [],
   "source": [
    "u = u[u.index.intersection(qdf.index)].sort_values(ascending=False) "
   ]
  },
  {
   "cell_type": "code",
   "execution_count": 25,
   "metadata": {},
   "outputs": [
    {
     "data": {
      "text/plain": [
       "u0691    1852.0\n",
       "u0049    1135.0\n",
       "u0619    1122.0\n",
       "u0152     968.0\n",
       "u0023     953.0\n",
       "Name: u0001, dtype: float64"
      ]
     },
     "execution_count": 25,
     "metadata": {},
     "output_type": "execute_result"
    }
   ],
   "source": [
    "pers_homies = u[:n_persons]\n",
    "pers_homies.head() "
   ]
  },
  {
   "cell_type": "code",
   "execution_count": 26,
   "metadata": {},
   "outputs": [
    {
     "data": {
      "text/plain": [
       "u0733     1.0\n",
       "u0112     4.0\n",
       "u1036     3.0\n",
       "u0240    34.0\n",
       "u0136     0.0\n",
       "Name: u0001, dtype: float64"
      ]
     },
     "execution_count": 26,
     "metadata": {},
     "output_type": "execute_result"
    }
   ],
   "source": [
    "pers_control_names = qdf.index.difference(pers_homies.index)  # Remove names which is in pers_homies\n",
    "np.random.shuffle(pers_control_names.values)  # shuffle names\n",
    "pers_control_names = pers_control_names[:n_persons]  # choose n_persons names\n",
    "pers_control = dfa.loc['u0001'][pers_control_names]  # select columns in dfa\n",
    "pers_control.head()  # compute pers_control"
   ]
  },
  {
   "cell_type": "code",
   "execution_count": 27,
   "metadata": {},
   "outputs": [],
   "source": [
    "assert pers_homies.shape == pers_control.shape"
   ]
  },
  {
   "cell_type": "markdown",
   "metadata": {},
   "source": [
    "Compute the similarity in the way they answered the questions"
   ]
  },
  {
   "cell_type": "code",
   "execution_count": 28,
   "metadata": {},
   "outputs": [],
   "source": [
    "dct_alcohol = dict()\n",
    "for p in pers_homies.index:\n",
    "    dct_alcohol[('u0001', p)] = simfnc(alcohol_questions.loc['u0001'], alcohol_questions.loc[p])\n",
    "sim_alcohol_homies = pd.Series(dct_alcohol).sort_values(ascending=False) \n",
    "\n",
    "dct_alcohol = dict()\n",
    "for p in pers_control.index:\n",
    "    dct_alcohol[('u0001', p)] = simfnc(alcohol_questions.loc['u0001'], alcohol_questions.loc[p])\n",
    "sim_alcohol_control = pd.Series(dct_alcohol).sort_values(ascending=False) "
   ]
  },
  {
   "cell_type": "code",
   "execution_count": 29,
   "metadata": {},
   "outputs": [
    {
     "data": {
      "text/plain": [
       "u0001  u0580    0.165893\n",
       "       u0389    0.149209\n",
       "       u0693    0.147082\n",
       "       u0705    0.142315\n",
       "       u0865    0.130435\n",
       "dtype: float64"
      ]
     },
     "metadata": {},
     "output_type": "display_data"
    },
    {
     "data": {
      "text/plain": [
       "u0001  u0001    0.448960\n",
       "       u0994    0.336957\n",
       "       u0863    0.161232\n",
       "       u0306    0.131752\n",
       "       u0136    0.109614\n",
       "dtype: float64"
      ]
     },
     "metadata": {},
     "output_type": "display_data"
    }
   ],
   "source": [
    "display(sim_alcohol_homies.head())\n",
    "display(sim_alcohol_control.head()) "
   ]
  },
  {
   "cell_type": "markdown",
   "metadata": {},
   "source": [
    "Compute the similarity wrt. Big Five personality related questions"
   ]
  },
  {
   "cell_type": "code",
   "execution_count": 30,
   "metadata": {},
   "outputs": [],
   "source": [
    "dct_big5 = dict()\n",
    "for p in pers_homies.index:\n",
    "    dct_big5[('u0001', p)] = simfnc(big5_questions.loc['u0001'], big5_questions.loc[p]) \n",
    "sim_big5_homies = pd.Series(dct_big5).sort_values(ascending=False) \n",
    "\n",
    "dct_big5 = dict() \n",
    "for p in pers_control.index:\n",
    "    dct_big5[('u0001', p)] = simfnc(big5_questions.loc['u0001'], big5_questions.loc[p]) \n",
    "sim_big5_control = pd.Series(dct_big5).sort_values(ascending=False) "
   ]
  },
  {
   "cell_type": "code",
   "execution_count": 31,
   "metadata": {},
   "outputs": [
    {
     "data": {
      "text/plain": [
       "u0001  u0152    0.028864\n",
       "       u1025    0.028708\n",
       "       u0465    0.028015\n",
       "       u0998    0.027597\n",
       "       u0018    0.027565\n",
       "dtype: float64"
      ]
     },
     "metadata": {},
     "output_type": "display_data"
    },
    {
     "data": {
      "text/plain": [
       "u0001  u0001    0.033833\n",
       "       u1010    0.030622\n",
       "       u0535    0.029160\n",
       "       u1027    0.029111\n",
       "       u0272    0.028963\n",
       "dtype: float64"
      ]
     },
     "metadata": {},
     "output_type": "display_data"
    }
   ],
   "source": [
    "display(sim_big5_homies.head())\n",
    "display(sim_big5_control.head())"
   ]
  },
  {
   "cell_type": "markdown",
   "metadata": {},
   "source": [
    "Compute similarity in persons that they hang out around"
   ]
  },
  {
   "cell_type": "code",
   "execution_count": 32,
   "metadata": {},
   "outputs": [],
   "source": [
    "dct_people = dict()\n",
    "for p in pers_homies.index:\n",
    "    dct_people[('u0001', p)] = simfnc(dfa['u0001'], dfa[p]) \n",
    "sim_people_homies = pd.Series(dct_people).sort_values(ascending=False) \n",
    "dct_people = dict()\n",
    "for p in pers_control.index:\n",
    "    dct_people[('u0001', p)] = simfnc(dfa['u0001'], dfa[p]) \n",
    "sim_people_control = pd.Series(dct_people).sort_values(ascending=False) "
   ]
  },
  {
   "cell_type": "code",
   "execution_count": 33,
   "metadata": {},
   "outputs": [
    {
     "data": {
      "text/plain": [
       "<matplotlib.legend.Legend at 0x7fd46c922be0>"
      ]
     },
     "execution_count": 33,
     "metadata": {},
     "output_type": "execute_result"
    },
    {
     "data": {
      "image/png": "[encoded data removed]",
      "text/plain": [
       "<matplotlib.figure.Figure at 0x7fd4719d7cf8>"
      ]
     },
     "metadata": {},
     "output_type": "display_data"
    }
   ],
   "source": [
    "fig, (ax1, ax2, ax3) = plt.subplots(1, 3, figsize=(16, 5))\n",
    "ax1.plot(sim_alcohol_homies.values, label=\"Alcohol, homies\")\n",
    "ax1.plot(sim_alcohol_control.values, label=\"Alcohol, control\")\n",
    "ax1.legend(loc='best')\n",
    "ax2.plot(sim_big5_homies.values, label=\"Big 5, homies\")\n",
    "ax2.plot(sim_big5_control.values, label=\"Big 5, control\")\n",
    "ax2.legend(loc='best')\n",
    "ax3.plot(sim_people_homies.values, label=\"People, homies\")\n",
    "ax3.plot(sim_people_control.values, label=\"People, control\")\n",
    "ax3.legend(loc='best')\n"
   ]
  },
  {
   "cell_type": "code",
   "execution_count": 34,
   "metadata": {},
   "outputs": [
    {
     "name": "stdout",
     "output_type": "stream",
     "text": [
      "sim_alcohol_homies:  (35,)\n",
      "sim_alcohol_control:  (35,)\n",
      "sim_big5_homies:  (35,)\n",
      "sim_big5_control:  (35,)\n",
      "sim_people_homies:  (35,)\n",
      "sim_people_control:  (35,)\n"
     ]
    }
   ],
   "source": [
    "print(\"sim_alcohol_homies\", sim_alcohol_homies.values.shape, sep=':  ')\n",
    "print(\"sim_alcohol_control\", sim_alcohol_control.values.shape, sep=':  ')\n",
    "print(\"sim_big5_homies\", sim_big5_homies.values.shape, sep=':  ')\n",
    "print(\"sim_big5_control\", sim_big5_control.values.shape, sep=':  ')\n",
    "print(\"sim_people_homies\", sim_people_homies.values.shape, sep=':  ')\n",
    "print(\"sim_people_control\", sim_people_control.values.shape, sep=':  ') "
   ]
  },
  {
   "cell_type": "code",
   "execution_count": null,
   "metadata": {},
   "outputs": [],
   "source": []
  },
  {
   "cell_type": "code",
   "execution_count": null,
   "metadata": {},
   "outputs": [],
   "source": []
  },
  {
   "cell_type": "code",
   "execution_count": null,
   "metadata": {},
   "outputs": [],
   "source": []
  },
  {
   "cell_type": "code",
   "execution_count": null,
   "metadata": {},
   "outputs": [],
   "source": []
  },
  {
   "cell_type": "code",
   "execution_count": null,
   "metadata": {},
   "outputs": [],
   "source": []
  },
  {
   "cell_type": "code",
   "execution_count": null,
   "metadata": {},
   "outputs": [],
   "source": []
  },
  {
   "cell_type": "code",
   "execution_count": null,
   "metadata": {},
   "outputs": [],
   "source": []
  },
  {
   "cell_type": "code",
   "execution_count": null,
   "metadata": {},
   "outputs": [],
   "source": []
  }
 ],
 "metadata": {
  "kernelspec": {
   "display_name": "Python 3",
   "language": "python",
   "name": "python3"
  },
  "language_info": {
   "codemirror_mode": {
    "name": "ipython",
    "version": 3
   },
   "file_extension": ".py",
   "mimetype": "text/x-python",
   "name": "python",
   "nbconvert_exporter": "python",
   "pygments_lexer": "ipython3",
   "version": "3.6.4"
  }
 },
 "nbformat": 4,
 "nbformat_minor": 2
}
