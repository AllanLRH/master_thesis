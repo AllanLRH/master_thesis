{
 "cells": [
  {
   "cell_type": "markdown",
   "metadata": {},
   "source": [
    "In this notebook we will build our own supervised machine learning algorithm from the bottom and up. The approach taken here is based on the general recipe introduced in the slides. We make the following choices\n",
    "   - Model: logistic regression\n",
    "   - Cost function: the cross entropy between the predictions and the empirical data\n",
    "   - Optimization algorithm: stochastic gradient descent\n",
    "\n",
    "We will apply this framework to predict if a person is going to be on the move fifteen minutes from now based on the activity of that person for the last two hours. The information on activity includes calls, texts, movement, and physical proximity to other people. In this notebook we will use the same data set for training and testing, but we note that the same results are obtained with proper cross validation."
   ]
  },
  {
   "cell_type": "markdown",
   "metadata": {},
   "source": [
    "To do our analysis we are going to need numpy for vector manipulations. Also, we are going to need pickle to load our data."
   ]
  },
  {
   "cell_type": "code",
   "execution_count": 1,
   "metadata": {},
   "outputs": [],
   "source": [
    "import numpy as np\n",
    "import pickle"
   ]
  },
  {
   "cell_type": "markdown",
   "metadata": {},
   "source": [
    "We then load the data. Start by inserting the path to the directory of the data"
   ]
  },
  {
   "cell_type": "code",
   "execution_count": 3,
   "metadata": {},
   "outputs": [],
   "source": [
    "data_dir = '../allan_data/' # INSERT YOUR OWN PATH HERE\n",
    "\n",
    "with open('%s/DataPredictMovement_half.p' %data_dir, 'rb') as f:\n",
    "    X, Y = pickle.load(f)"
   ]
  },
  {
   "cell_type": "markdown",
   "metadata": {},
   "source": [
    "X and Y are numpy arrays with each row corresponding to a data point. The rows of Y contain just a single number, which tells us whether there is movement 15 minutes into the future or not. A positive answer is a 1 and a negative answer is a -1. Each row of X contains 32 numbers, which tells us if there has been activity for the past 8 quarters in any of the 4 activity channels (calls, texts, movement, social proximity). This is likewise answered with 1's and -1's."
   ]
  },
  {
   "cell_type": "code",
   "execution_count": 4,
   "metadata": {},
   "outputs": [
    {
     "name": "stdout",
     "output_type": "stream",
     "text": [
      "The shape of X: (6549096, 32)\n",
      "The shape of Y: (6549096,)\n",
      "The first row of X: [-1 -1 -1  1 -1 -1  1 -1 -1 -1  1 -1 -1 -1 -1 -1 -1 -1 -1 -1 -1 -1 -1 -1\n",
      " -1 -1 -1 -1 -1 -1 -1 -1]\n",
      "The first row of Y: -1\n"
     ]
    }
   ],
   "source": [
    "print('The shape of X:', X.shape)\n",
    "print('The shape of Y:', Y.shape)\n",
    "print('The first row of X:', X[0])\n",
    "print('The first row of Y:', Y[0])"
   ]
  },
  {
   "cell_type": "markdown",
   "metadata": {},
   "source": [
    "Now that we have loaded and familiarized ourselves with the data it is time to do some machine learning. Our objective is to predict Y given X. As noted above, we are going to build our own algorithm based on logistic regression, cross entropy, and stochastic gradient descent. These are defined in the slides and we now define them in our program."
   ]
  },
  {
   "cell_type": "markdown",
   "metadata": {},
   "source": [
    "Exercise: I have defined the function for the gradient at the bottom of the following code. You must now fill out the functions for the support, the model, and the cost. You should furthermore fill out the update function such that it returns updated parameters. You can find the mathematics in the slides and you can guide yourselves from the input and output already defined in the code. You will need some or all of the following numpy functions: np.sum(), np.dot(), np.exp(), and np.log()."
   ]
  },
  {
   "cell_type": "code",
   "execution_count": 5,
   "metadata": {},
   "outputs": [],
   "source": [
    "import numpy as np\n",
    "\n",
    "\n",
    "def calc_support(X, W, b):\n",
    "    '''Returns the support for movement (Y=1) based on the input (X) \n",
    "    and the parameters (W and b)\n",
    "    \n",
    "    Parameters\n",
    "    ----------\n",
    "    X : np.ndarray [int64] (R, C)\n",
    "        Movement activita data.\n",
    "    W : np.ndarray [double] (R,)\n",
    "        Random variable used for the gradient descent.\n",
    "    b : double (1,)\n",
    "        Offset value.\n",
    "    \n",
    "    Returns\n",
    "    -------\n",
    "    np.ndarray [double] (R,)\n",
    "        Support for movement Y = 1.\n",
    "    '''\n",
    "    support = np.dot(X, W) + b\n",
    "    return support\n",
    "\n",
    "\n",
    "def model(support):\n",
    "    '''Returns the predicted probability of movement based on the support.\n",
    "    \n",
    "    Parameters\n",
    "    ----------\n",
    "    support : np.ndarray [double] (R,)\n",
    "        Support for mvoement (Y = 1).\n",
    "    \n",
    "    Returns\n",
    "    -------\n",
    "    np.ndarray [double] (R,)\n",
    "        Probability for movement.\n",
    "    '''\n",
    "    Y_pred = 1 / (1 + np.exp(-support))\n",
    "    return Y_pred\n",
    "\n",
    "\n",
    "def calc_cost(support, Y):\n",
    "    '''Returns the cost of our predictions, i.e. how much our predictions failed.\n",
    "    \n",
    "    Parameters\n",
    "    ----------\n",
    "    support : np.ndarray [double] (R,)\n",
    "        Support for movement.\n",
    "    Y : np.ndarray [int64] (R,)\n",
    "        Movement indicator from dataset.\n",
    "    \n",
    "    Returns\n",
    "    -------\n",
    "    double  \n",
    "        Cost for moving in direction associated with W.\n",
    "    '''\n",
    "    N = Y.shape[0]\n",
    "    cost = np.log(1 + np.exp(-support * Y)).sum() / N\n",
    "    return cost\n",
    "\n",
    "\n",
    "def update(W, b, gradient_W, gradient_b, learning_rate=0.1):\n",
    "    '''Returns updated parameters based on the gradients. The learning rate\n",
    "    determines how far we move along the direction of the gradient.'''\n",
    "    W = W - learning_rate * gradient_W\n",
    "    b = b - learning_rate * gradient_b\n",
    "    return W, b\n",
    "\n",
    "\n",
    "def calc_gradient(support, X, Y):\n",
    "    '''Returns the gradient of the cost with respect to the parameters. This\n",
    "    determines the direction in parameter space that will bring down the cost.'''\n",
    "    N = Y.shape[0]\n",
    "    gradient_W = np.dot( -Y / (1 + np.exp( Y * support )) / N, X)\n",
    "    gradient_b = np.sum( -Y / (1 + np.exp( Y * support )) / N )\n",
    "    return gradient_W, gradient_b\n"
   ]
  },
  {
   "cell_type": "markdown",
   "metadata": {},
   "source": [
    "Using the above functions we can now make predictions (using model), we can measure how good these predictions are (using calc_cost), and we can update our parameters to make the predictions better (using update). So now we just need to initialize our parameters (W and b) and then follow the gradient during a lot of updates to minimize the cost."
   ]
  },
  {
   "cell_type": "code",
   "execution_count": 6,
   "metadata": {},
   "outputs": [
    {
     "name": "stdout",
     "output_type": "stream",
     "text": [
      "# Cost at step 0: 1.089153\n",
      "# Cost at step 10000: 0.235301\n",
      "# Cost at step 20000: 0.220090\n",
      "# Cost at step 30000: 0.216831\n",
      "# Cost at step 40000: 0.215953\n",
      "# Cost at step 50000: 0.215676\n",
      "# Cost at step 60000: 0.215645\n",
      "# Cost at step 70000: 0.215522\n",
      "# Cost at step 80000: 0.215523\n",
      "# Cost at step 90000: 0.215668\n"
     ]
    }
   ],
   "source": [
    "# initialize the variables\n",
    "W = np.random.normal(0,1,X.shape[1])\n",
    "b = 0.\n",
    "\n",
    "# set the parameters of the optimization algorithm\n",
    "learning_rate = 0.01\n",
    "batch_size = 100\n",
    "steps = 100000\n",
    "\n",
    "# follow the gradient!\n",
    "for step in range(steps):\n",
    "    \n",
    "    # we randomly samples batches of data points\n",
    "    batch_indices = np.random.choice(Y.shape[0], batch_size)\n",
    "    X_batch, Y_batch = X[batch_indices], Y[batch_indices]\n",
    "    \n",
    "    # we calculate the cost on the full dataset every 10000 step to check the progress\n",
    "    # note: this is the computationally expensive part. It can be left out since it\n",
    "    # does not affect the training.\n",
    "    if step % (steps//10) == 0:\n",
    "        support = calc_support(X, W, b)\n",
    "        cost = calc_cost(support, Y)\n",
    "        print('# Cost at step %d: %f' %(step, cost))\n",
    "        \n",
    "    # we update the parameters at each step\n",
    "    support_batch = calc_support(X_batch, W, b)\n",
    "    gradient_W, gradient_b = calc_gradient(support_batch, X_batch, Y_batch)\n",
    "    W, b = update(W, b, gradient_W, gradient_b, learning_rate)"
   ]
  },
  {
   "cell_type": "markdown",
   "metadata": {},
   "source": [
    "We see that the cost drops drastically during the first steps of the algorithm and then slowly converges. The parameters W and b now have values that approximately minimize the cost of our predictions. "
   ]
  },
  {
   "cell_type": "markdown",
   "metadata": {},
   "source": [
    "Exercise: play around with the parameters of the optimization algorithm and observe the effects on cost and training time."
   ]
  },
  {
   "cell_type": "markdown",
   "metadata": {},
   "source": [
    "To get a more interpretable measure of the quality of our predictions, we can calculate the correlation between our predictions probabilities Y_pred (numbers from 0 to 1) and the actual values Y (-1's or +1's)"
   ]
  },
  {
   "cell_type": "code",
   "execution_count": 7,
   "metadata": {},
   "outputs": [
    {
     "name": "stdout",
     "output_type": "stream",
     "text": [
      "Correlation: 0.5317297225585312\n"
     ]
    }
   ],
   "source": [
    "support = calc_support(X, W, b)\n",
    "Y_pred = model(support)\n",
    "print('Correlation:', np.corrcoef(Y_pred, Y)[0,1])"
   ]
  },
  {
   "cell_type": "markdown",
   "metadata": {},
   "source": [
    "Generally, our predictions yield relatively low probabilities for movement. This is because people are not moving most of the time in the actual data"
   ]
  },
  {
   "cell_type": "code",
   "execution_count": 8,
   "metadata": {},
   "outputs": [
    {
     "name": "stdout",
     "output_type": "stream",
     "text": [
      "Average probability in predictions: 0.08971108258750721\n",
      "Ratio of movement in data: 0.09054226720756575\n"
     ]
    }
   ],
   "source": [
    "print('Average probability in predictions:', np.mean(Y_pred))\n",
    "print('Ratio of movement in data:', (Y==1).sum() / Y.shape[0])"
   ]
  },
  {
   "cell_type": "markdown",
   "metadata": {},
   "source": [
    "We could get a classification accuracy of 91% if we simply predicted \"no movement\" for all data points. This illustrates that classification accuracy is not a very good measure of performance, especially when dealing with asymmetric data sets. It would be better if we could measure how well we predict one outcome, while also not failing on the other outcome. To do this we measure \"true positive rate\" together with the \"false positive rate\". These values depend on the threshold that we apply to the probabilities to decide whether a data point should be labeled as positive or negative. In a ROC-curve analysis we test out several different thresholds to see how each performs. We will import metric from sklearn to perform this analysis for us and then use pyplot to plot the results"
   ]
  },
  {
   "cell_type": "code",
   "execution_count": 9,
   "metadata": {},
   "outputs": [
    {
     "data": {
      "text/plain": [
       "<matplotlib.figure.Figure at 0x7eff54e192e8>"
      ]
     },
     "metadata": {},
     "output_type": "display_data"
    }
   ],
   "source": [
    "from sklearn import metrics\n",
    "from matplotlib import pyplot as plt\n",
    "\n",
    "# Calculate the roc curve\n",
    "fpr, tpr, thresholds = metrics.roc_curve(Y,Y_pred)\n",
    "\n",
    "# Plot the roc curve\n",
    "plt.figure()\n",
    "plt.plot(fpr, tpr, color='darkorange', lw=2, \n",
    "         label='ROC curve (area = %0.2f)' % metrics.auc(fpr, tpr))\n",
    "plt.plot([0, 1], [0, 1], color='navy', lw=2, linestyle='--')\n",
    "plt.xlim([0.0, 1.0])\n",
    "plt.ylim([0.0, 1.05])\n",
    "plt.xlabel('False Positive Rate')\n",
    "plt.ylabel('True Positive Rate')\n",
    "plt.legend(loc=\"lower right\")\n",
    "plt.show()"
   ]
  },
  {
   "cell_type": "markdown",
   "metadata": {},
   "source": [
    "From the ROC-curve we can see that one of the thresholds allow us to predict 75% of the movement, while only getting 20% false positives. This is pretty good considering the complexity of human behavior! "
   ]
  },
  {
   "cell_type": "markdown",
   "metadata": {},
   "source": [
    "It would also be interesting to check, how the different numbers in the input vector X add to the support for movement. We do this by splitting the weight vector into four, one for each type of activity, and then plot the value of the weights"
   ]
  },
  {
   "cell_type": "code",
   "execution_count": 10,
   "metadata": {},
   "outputs": [
    {
     "data": {
      "image/png": "[encoded data removed]",
      "text/plain": [
       "<matplotlib.figure.Figure at 0x7eff3e7b8a90>"
      ]
     },
     "metadata": {},
     "output_type": "display_data"
    }
   ],
   "source": [
    "# we separate the weight vector in terms of activity types\n",
    "activities = ('call', 'sms', 'movement', 'proximity')\n",
    "W_activities = { activity : [] for activity in activities }\n",
    "for ii, weight in enumerate(W):\n",
    "    index = ii % 4\n",
    "    activity = activities[index]\n",
    "    W_activities[activity].insert(0, weight )\n",
    "\n",
    "# we plot the weights of each data type\n",
    "plt.figure()\n",
    "time = [ 15 * (ii + 1) for ii in range(W.shape[0]//4) ]\n",
    "for datatype, weights in W_activities.items():\n",
    "    plt.plot(time, weights, linewidth=2, label=datatype)\n",
    "plt.plot((0, max(time)), (0, 0), linewidth=1, color='k', linestyle='--')\n",
    "plt.xlabel('time delay in minutes')\n",
    "plt.ylabel('weight')\n",
    "plt.xticks([0] + time)\n",
    "plt.xlim(0, max(time))\n",
    "plt.legend()\n",
    "plt.show()"
   ]
  },
  {
   "cell_type": "markdown",
   "metadata": {},
   "source": [
    "To interpret the figure, remember that W includes 32 numbers that are constructued from the combination of 8 time delays and 4 activities. The horizontal axis now represent the time delay and the different curves represent the different activities. The large value of the movement curve at 15 minutes shows us that the support for future movement is dominated by current movement. If you are moving right now, then you are likely to be moving in 15 minutes, and if you are not moving right now, then you probably won't in 15 minutes. We see that calling and texting likewise have a positive impact on the support for future movement. However, social proximity in the time window leading up to the prediction window actually has a negative impact on the support. This kind of makes sense - one is less likely to initiate movement, when one is enjoying the company of others. Generally, all any other impact has a small positive impact on the support. The large positive impact of movement at 120 minutes delay is probably due to the effect of classes that last around 2 hours."
   ]
  },
  {
   "cell_type": "code",
   "execution_count": null,
   "metadata": {
    "collapsed": true
   },
   "outputs": [],
   "source": []
  }
 ],
 "metadata": {
  "kernelspec": {
   "display_name": "Python 3",
   "language": "python",
   "name": "python3"
  },
  "language_info": {
   "codemirror_mode": {
    "name": "ipython",
    "version": 3
   },
   "file_extension": ".py",
   "mimetype": "text/x-python",
   "name": "python",
   "nbconvert_exporter": "python",
   "pygments_lexer": "ipython3",
   "version": "3.6.4"
  }
 },
 "nbformat": 4,
 "nbformat_minor": 2
}
