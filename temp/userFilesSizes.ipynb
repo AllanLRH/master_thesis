{
 "cells": [
  {
   "cell_type": "code",
   "execution_count": null,
   "metadata": {
    "collapsed": false
   },
   "outputs": [],
   "source": [
    "from sh import wc\n",
    "import pathlib\n",
    "from multiprocessing.dummy import Pool"
   ]
  },
  {
   "cell_type": "code",
   "execution_count": null,
   "metadata": {
    "collapsed": false
   },
   "outputs": [],
   "source": [
    "dataPath = pathlib.Path(\"../../data/Telefon/userfiles/\")\n",
    "#userFiles = [(pt.name, fl) for pt in dataPath.iterdir() if pt.is_dir() for fl in pt.iterdir() if fl.is_file()]\n",
    "userFolders = [pt for pt in dataPath.iterdir() if pt.is_dir()]"
   ]
  },
  {
   "cell_type": "code",
   "execution_count": null,
   "metadata": {
    "collapsed": false
   },
   "outputs": [],
   "source": [
    "def countLines(filepath):\n",
    "    wcCall = wc(\"-l\", str(filepath))\n",
    "    cnt = int(wcCall.stdout.split()[0])\n",
    "    return cnt"
   ]
  },
  {
   "cell_type": "code",
   "execution_count": null,
   "metadata": {
    "collapsed": false
   },
   "outputs": [],
   "source": [
    "def countUserStats(userFolder):\n",
    "    dct = {}\n",
    "    for fl in userFolder.iterdir():\n",
    "        if fl.is_file():\n",
    "            dct[fl.name] = countLines(fl)\n",
    "    return dct"
   ]
  },
  {
   "cell_type": "code",
   "execution_count": null,
   "metadata": {
    "collapsed": false
   },
   "outputs": [],
   "source": [
    "def processUsers(userFolder):\n",
    "    name = userFolder.name\n",
    "    return {name: countUserStats(userFolder)}"
   ]
  },
  {
   "cell_type": "code",
   "execution_count": null,
   "metadata": {
    "collapsed": false
   },
   "outputs": [],
   "source": [
    "with Pool(16) as pool:\n",
    "    userSats = pool.map(processUsers, userFolders)"
   ]
  },
  {
   "cell_type": "code",
   "execution_count": null,
   "metadata": {
    "collapsed": false
   },
   "outputs": [],
   "source": []
  }
 ],
 "metadata": {
  "kernelspec": {
   "display_name": "Python 3",
   "language": "python",
   "name": "python3"
  },
  "language_info": {
   "codemirror_mode": {
    "name": "ipython",
    "version": 3
   },
   "file_extension": ".py",
   "mimetype": "text/x-python",
   "name": "python",
   "nbconvert_exporter": "python",
   "pygments_lexer": "ipython3",
   "version": "3.5.2"
  }
 },
 "nbformat": 4,
 "nbformat_minor": 0
}
