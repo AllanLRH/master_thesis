{
 "cells": [
  {
   "cell_type": "code",
   "execution_count": null,
   "metadata": {
    "collapsed": false
   },
   "outputs": [],
   "source": [
    "import os\n",
    "import sys\n",
    "sys.path.append(os.path.abspath(\"..\"))\n",
    "from collections import defaultdict, Counter\n",
    "import pandas as pd\n",
    "import numpy as np\n",
    "import matplotlib as mpl\n",
    "import matplotlib.pyplot as plt\n",
    "# mpl.style.use(\"bmh\")\n",
    "import seaborn as sns\n",
    "import networkx as nx\n",
    "import missingno as msno\n",
    "%matplotlib inline\n",
    "\n",
    "from speclib.loaders import loadUser, loadUserPhonenumberDict, getUserList, Useralias\n",
    "from speclib.plotting import looseAxesLimits\n"
   ]
  },
  {
   "cell_type": "code",
   "execution_count": null,
   "metadata": {
    "collapsed": false
   },
   "outputs": [],
   "source": [
    "def linkUser(userDct, linkDctLst, phDct):\n",
    "    \"\"\"Links users in the project with each other.\n",
    "    \n",
    "    Args:\n",
    "        userDct (dict): Dictionary with sms and call entries.\n",
    "        linkDctLst (defaultdict(Counter)): Defaultdict with counter-factory\n",
    "                                           to provide history.\n",
    "        phDct (dict): Dictionary with phoneID -> userID for participants in the project.\n",
    "        \n",
    "    Returns:\n",
    "        (float, float): Fraction of (calls, sms) to participants in the project.\n",
    "    \"\"\"\n",
    "    def updateDict(commLst, linkDct, numberIndexStr):\n",
    "        inProjectCEvent = 0  # initialize counter\n",
    "        # Loop over communication events\n",
    "        if commLst is None:\n",
    "            return None\n",
    "        for event in commLst:\n",
    "            contactedNumber = event[numberIndexStr]\n",
    "            user = event[\"user\"]\n",
    "            if contactedNumber in phDct:  # if number belongs to a participant in the project\n",
    "                inProjectCEvent += 1\n",
    "                contactedUser = phDct[contactedNumber]\n",
    "                # Remember: it's a counter inside the defaultdict\n",
    "                linkDct[user][contactedUser] += 1\n",
    "        return inProjectCEvent\n",
    "\n",
    "    # for call, index to phone number is \"number\", for sms it's \"address\"\n",
    "    numberTypePairTuple = ((\"call\", \"number\"), (\"sms\", \"address\"))\n",
    "    inProjectFractions = list()  # Count communications to participants\n",
    "    # Three indexes: (\"call\"/\"sms\"), (\"number\"/\"address\"), (associated defaultdict()\n",
    "    for (commType, numberIndexStr), linkDct in zip(numberTypePairTuple, linkDctLst):\n",
    "        count = updateDict(userDct[commType], linkDct, numberIndexStr)\n",
    "        # Turn counts info fraction of communication between participants\n",
    "        if count is None:\n",
    "            inProjectFractions.append(None)\n",
    "            continue\n",
    "        try:\n",
    "            inProjectFractions.append(count / len(userDct[commType]))\n",
    "        except ZeroDivisionError:\n",
    "            inProjectFractions.append(None)\n",
    "    return inProjectFractions"
   ]
  },
  {
   "cell_type": "markdown",
   "metadata": {},
   "source": [
    "Load all users and get fraction of communications made to people in the study."
   ]
  },
  {
   "cell_type": "code",
   "execution_count": null,
   "metadata": {
    "collapsed": false,
    "scrolled": false
   },
   "outputs": [],
   "source": [
    "phDct = loadUserPhonenumberDict()\n",
    "userLst = getUserList()\n",
    "\n",
    "callDct, smsDct = defaultdict(Counter), defaultdict(Counter)\n",
    "\n",
    "smsFracArr = np.zeros(len(userLst))\n",
    "callFracArr = np.zeros(len(userLst))\n",
    "for i, user in enumerate(userLst):\n",
    "    try:\n",
    "        userDct = loadUser(user, dataFilter=(\"call\", \"sms\"))\n",
    "        callFrac, smsFrac = linkUser(userDct, (callDct, smsDct), phDct)\n",
    "        callFracArr[i] = callFrac\n",
    "        smsFracArr[i] = smsFrac\n",
    "        if i % 50 == 0:\n",
    "            print(\"{:.0f} %\".format(100 * i / len(userLst)), end=\"\\t\")\n",
    "    except Exception as e:\n",
    "        print(\"\\n\\n\\nSomething went wrong  at (user, index):\\n\", user, i)\n",
    "        raise e\n",
    "print(\"100 %\")"
   ]
  },
  {
   "cell_type": "code",
   "execution_count": null,
   "metadata": {
    "collapsed": false
   },
   "outputs": [],
   "source": [
    "def aliasUsernames(commDct, useralias):\n",
    "    \"\"\"Convert human unreadable user names to sequentially generated aliases.\n",
    "    Will also convert the dict[Counter] to dict[dict].\n",
    "    \n",
    "    Args:\n",
    "        commDct (dict): Dict with dicts of communication events (call or sms)\n",
    "        useralias (Class instance): An instance of the Useralias class.\n",
    "        Used for generating and formatting the aliases.\n",
    "    \n",
    "    Returns:\n",
    "        dict[dict]: Like the input, but with uliases for all usernames.\n",
    "    \"\"\"\n",
    "    outDct = dict()\n",
    "    for ko, vo in commDct.items():\n",
    "        kon = useralias[ko]\n",
    "        inner = dict()\n",
    "        for ki, vi in vo.items():\n",
    "            inner[useralias[ki]] = vi\n",
    "        outDct[kon] = inner\n",
    "    return outDct\n",
    "\n",
    "\n",
    "ua = Useralias()\n",
    "callDct2 = aliasUsernames(callDct, ua)\n",
    "smsDct2 = aliasUsernames(smsDct, ua)"
   ]
  },
  {
   "cell_type": "code",
   "execution_count": null,
   "metadata": {
    "collapsed": false
   },
   "outputs": [],
   "source": [
    "callFracArr = callFracArr[np.logical_not(np.isnan(callFracArr))]\n",
    "idx = np.argsort(callFracArr)[::-1]\n",
    "callFracArr = callFracArr[idx]\n",
    "smsFracArr = smsFracArr[idx]"
   ]
  },
  {
   "cell_type": "code",
   "execution_count": null,
   "metadata": {
    "collapsed": false
   },
   "outputs": [],
   "source": [
    "colorFun = lambda rgb: [el/255 for el in rgb]\n",
    "callFracColorNormal = colorFun([2, 154, 196])\n",
    "callFracColorLog = colorFun([1, 95, 121])\n",
    "smsFracColorNormal = colorFun([204, 71, 0])\n",
    "smsFracColorLog = colorFun([153, 54, 0])\n",
    "fig, ax0 = plt.subplots()\n",
    "ax0.plot(callFracArr, color=callFracColorNormal, label=\"call fraction\")\n",
    "ax0.plot(smsFracArr, '.-', color=smsFracColorNormal, label=\"sms fraction\", alpha=0.65)\n",
    "ax1 = plt.twinx(ax0)\n",
    "ax1.loglog(callFracArr, color=callFracColorLog, label=\"call fraction (loglog)\")\n",
    "ax1.loglog(smsFracArr, '.-', color=smsFracColorLog, label=\"sms fraction (loglog)\", alpha=0.65)\n",
    "ax0.set_ylabel(\"Fraction of communication with users in study\")\n",
    "ax0.set_xlabel('Users')\n",
    "ax0.set_xticklabels([])\n",
    "ax0.set_title(\"Sorted to make call-data look nice\")\n",
    "looseAxesLimits(ax0)\n",
    "ax0.legend(loc=\"lower left\")\n",
    "ax1.legend(loc=\"upper right\") "
   ]
  },
  {
   "cell_type": "code",
   "execution_count": null,
   "metadata": {
    "collapsed": false
   },
   "outputs": [],
   "source": [
    "colorFun = lambda rgb: [el/255 for el in rgb]\n",
    "callFracColorNormal = colorFun([2, 154, 196])\n",
    "callFracColorLog = colorFun([1, 95, 121])\n",
    "smsFracColorNormal = colorFun([204, 71, 0])\n",
    "smsFracColorLog = colorFun([153, 54, 0])\n",
    "fig, ax0 = plt.subplots()\n",
    "ax0.plot(callFracArr, color=callFracColorNormal, label=\"call fraction\")\n",
    "ax0.plot(np.convolve(np.ones(5)/5, smsFracArr, 'same'), '.-',\n",
    "         color=smsFracColorNormal, label=\"sms fraction\", alpha=0.65)\n",
    "ax1 = plt.twinx(ax0)\n",
    "ax1.loglog(callFracArr, color=callFracColorLog, label=\"call fraction (loglog)\")\n",
    "ax1.loglog(np.convolve(np.ones(5)/5, smsFracArr, 'same'), '.-',\n",
    "           color=smsFracColorLog, label=\"sms fraction (loglog)\", alpha=0.65)\n",
    "ax0.set_ylabel(\"Fraction of communication with users in study\")\n",
    "ax0.set_xlabel('Users')\n",
    "ax0.set_xticklabels([])\n",
    "ax0.set_title(\"Sorted to make call-data look nice, SMS-data smoothed\")\n",
    "looseAxesLimits(ax0)\n",
    "ax0.legend(loc=\"lower left\")\n",
    "ax1.legend(loc=\"upper right\") "
   ]
  },
  {
   "cell_type": "code",
   "execution_count": null,
   "metadata": {
    "collapsed": false
   },
   "outputs": [],
   "source": [
    "cdf = pd.DataFrame.from_dict(callDct2, orient=\"index\").apply(lambda x: x/np.sum(x))  # Normalize\n",
    "sdf = pd.DataFrame.from_dict(smsDct2, orient=\"index\").apply(lambda x: x/np.sum(x))\n",
    "cmb = pd.concat((cdf, sdf))\n",
    "cmb = cmb.groupby(cmb.index).sum()\n",
    "cmb"
   ]
  },
  {
   "cell_type": "markdown",
   "metadata": {},
   "source": [
    "The data is quite sparse. It's hard to see, but there's a black dot when the data i _not_ `NaN`.\n",
    "\n",
    "First plot is for calls, second for SMS."
   ]
  },
  {
   "cell_type": "code",
   "execution_count": null,
   "metadata": {
    "collapsed": false
   },
   "outputs": [],
   "source": [
    "msno.matrix(cdf)"
   ]
  },
  {
   "cell_type": "code",
   "execution_count": null,
   "metadata": {
    "collapsed": false
   },
   "outputs": [],
   "source": [
    "msno.matrix(sdf)"
   ]
  },
  {
   "cell_type": "markdown",
   "metadata": {},
   "source": [
    "Adjacency matrix excluding telephone numbers which is not part of the Social Fabric study."
   ]
  },
  {
   "cell_type": "code",
   "execution_count": null,
   "metadata": {
    "collapsed": false
   },
   "outputs": [],
   "source": [
    "g = nx.from_dict_of_lists({k:callDct[k].keys() for k in callDct})"
   ]
  },
  {
   "cell_type": "code",
   "execution_count": null,
   "metadata": {
    "collapsed": false,
    "scrolled": false
   },
   "outputs": [],
   "source": [
    "gm = nx.adjacency_matrix(g)\n",
    "fig, ax = plt.subplots()\n",
    "ax.pcolorfast(gm.todense())"
   ]
  }
 ],
 "metadata": {
  "anaconda-cloud": {},
  "kernelspec": {
   "display_name": "Python [default]",
   "language": "python",
   "name": "python3"
  },
  "language_info": {
   "codemirror_mode": {
    "name": "ipython",
    "version": 3
   },
   "file_extension": ".py",
   "mimetype": "text/x-python",
   "name": "python",
   "nbconvert_exporter": "python",
   "pygments_lexer": "ipython3",
   "version": "3.5.2"
  }
 },
 "nbformat": 4,
 "nbformat_minor": 0
}
