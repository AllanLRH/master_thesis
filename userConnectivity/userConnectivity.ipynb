{
 "cells": [
  {
   "cell_type": "code",
   "execution_count": null,
   "metadata": {
    "collapsed": false
   },
   "outputs": [],
   "source": [
    "import os\n",
    "import sys\n",
    "sys.path.append(os.path.abspath(\"..\"))\n",
    "from collections import defaultdict, Counter\n",
    "\n",
    "from speclib.loaders import loadUser, loadUserPhonenumberDict, getUserList"
   ]
  },
  {
   "cell_type": "code",
   "execution_count": null,
   "metadata": {
    "collapsed": false
   },
   "outputs": [],
   "source": [
    "phDct = loadUserPhonenumberDict()\n",
    "userLst = getUserList()"
   ]
  },
  {
   "cell_type": "code",
   "execution_count": null,
   "metadata": {
    "collapsed": false
   },
   "outputs": [],
   "source": [
    "u0 = userLst[0]"
   ]
  },
  {
   "cell_type": "code",
   "execution_count": null,
   "metadata": {
    "collapsed": false
   },
   "outputs": [],
   "source": [
    "userDct = loadUser(u0, dataFilter=(\"call\", \"sms\"))"
   ]
  },
  {
   "cell_type": "code",
   "execution_count": null,
   "metadata": {
    "collapsed": false
   },
   "outputs": [],
   "source": [
    "callDct, smsDct = defaultdict(Counter), defaultdict(Counter)"
   ]
  },
  {
   "cell_type": "code",
   "execution_count": null,
   "metadata": {
    "collapsed": false
   },
   "outputs": [],
   "source": [
    "def linkUser(userDct, linkDctLst, phDct):\n",
    "    \"\"\"Links users in the project with each other.\n",
    "    \n",
    "    Args:\n",
    "        userDct (dict): Dictionary with sms and call entries.\n",
    "        linkDctLst (defaultdict(Counter)): Defaultdict with counter-factory\n",
    "                                           to provide history.\n",
    "        phDct (dict): Dictionary with phoneID -> userID for participants in the project.\n",
    "        \n",
    "    Returns:\n",
    "        (float, float): Fraction of (calls, sms) to participants in the project.\n",
    "    \"\"\"\n",
    "    def updateDict(commLst, linkDct, numberIndexStr):\n",
    "        inProjectCEvent = 0\n",
    "        for event in commLst:\n",
    "            calledNumber = event[numberIndexStr]\n",
    "            user = event[\"user\"]\n",
    "            if calledNumber in phDct:\n",
    "                inProjectCEvent += 1\n",
    "                calledUser = phDct[calledNumber]\n",
    "                linkDct[user][calledUser] += 1\n",
    "        return inProjectCEvent\n",
    "\n",
    "    numberTypePairTuple = ((\"call\", \"number\"), (\"sms\", \"address\"))\n",
    "    inProjectFractions = list()\n",
    "    for (commType, numberIndexStr), linkDct in zip(numberTypePairTuple, linkDctLst):\n",
    "        count = updateDict(userDct[commType], linkDct, numberIndexStr)\n",
    "        inProjectFractions.append(count)\n",
    "    inProjectFractions[0] /= len(userDct[commType])\n",
    "    inProjectFractions[1] /= len(userDct[commType])\n",
    "    return inProjectFractions"
   ]
  },
  {
   "cell_type": "code",
   "execution_count": null,
   "metadata": {
    "collapsed": false
   },
   "outputs": [],
   "source": [
    "linkUser(userDct, (callDct, smsDct), phDct)"
   ]
  },
  {
   "cell_type": "code",
   "execution_count": null,
   "metadata": {
    "collapsed": false
   },
   "outputs": [],
   "source": [
    "callDct"
   ]
  },
  {
   "cell_type": "code",
   "execution_count": null,
   "metadata": {
    "collapsed": false,
    "scrolled": false
   },
   "outputs": [],
   "source": [
    "smsDct"
   ]
  },
  {
   "cell_type": "code",
   "execution_count": null,
   "metadata": {
    "collapsed": false
   },
   "outputs": [],
   "source": []
  }
 ],
 "metadata": {
  "kernelspec": {
   "display_name": "Python 3",
   "language": "python",
   "name": "python3"
  },
  "language_info": {
   "codemirror_mode": {
    "name": "ipython",
    "version": 3
   },
   "file_extension": ".py",
   "mimetype": "text/x-python",
   "name": "python",
   "nbconvert_exporter": "python",
   "pygments_lexer": "ipython3",
   "version": "3.5.2"
  }
 },
 "nbformat": 4,
 "nbformat_minor": 0
}
