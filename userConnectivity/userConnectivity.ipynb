{
 "cells": [
  {
   "cell_type": "code",
   "execution_count": null,
   "metadata": {
    "collapsed": false
   },
   "outputs": [],
   "source": [
    "import os\n",
    "import sys\n",
    "sys.path.append(os.path.abspath(\"..\"))\n",
    "from collections import defaultdict, Counter\n",
    "import pandas as pd\n",
    "import numpy as np\n",
    "import matplotlib as mpl\n",
    "import matplotlib.pyplot as plt\n",
    "# mpl.style.use(\"bmh\")\n",
    "import seaborn as sns\n",
    "import networkx as nx\n",
    "import missingno as msno\n",
    "%matplotlib inline\n",
    "\n",
    "from speclib.loaders import loadUser, loadUserPhonenumberDict, getUserList"
   ]
  },
  {
   "cell_type": "code",
   "execution_count": null,
   "metadata": {
    "collapsed": false
   },
   "outputs": [],
   "source": [
    "def linkUser(userDct, linkDctLst, phDct):\n",
    "    \"\"\"Links users in the project with each other.\n",
    "    \n",
    "    Args:\n",
    "        userDct (dict): Dictionary with sms and call entries.\n",
    "        linkDctLst (defaultdict(Counter)): Defaultdict with counter-factory\n",
    "                                           to provide history.\n",
    "        phDct (dict): Dictionary with phoneID -> userID for participants in the project.\n",
    "        \n",
    "    Returns:\n",
    "        (float, float): Fraction of (calls, sms) to participants in the project.\n",
    "    \"\"\"\n",
    "    def updateDict(commLst, linkDct, numberIndexStr):\n",
    "        inProjectCEvent = 0  # initialize counter\n",
    "        # Loop over communication events\n",
    "        if commLst is None:\n",
    "            return None\n",
    "        for event in commLst:\n",
    "            contactedNumber = event[numberIndexStr]\n",
    "            user = event[\"user\"]\n",
    "            if contactedNumber in phDct:  # if number belongs to a participant in the project\n",
    "                inProjectCEvent += 1\n",
    "                contactedUser = phDct[contactedNumber]\n",
    "                # Remember: it's a counter inside the defaultdict\n",
    "                linkDct[user][contactedUser] += 1\n",
    "        return inProjectCEvent\n",
    "\n",
    "    # for call, index to phone number is \"number\", for sms it's \"address\"\n",
    "    numberTypePairTuple = ((\"call\", \"number\"), (\"sms\", \"address\"))\n",
    "    inProjectFractions = list()  # Count communications to participants\n",
    "    # Three indexes: (\"call\"/\"sms\"), (\"number\"/\"address\"), (associated defaultdict()\n",
    "    for (commType, numberIndexStr), linkDct in zip(numberTypePairTuple, linkDctLst):\n",
    "        count = updateDict(userDct[commType], linkDct, numberIndexStr)\n",
    "        # Turn counts info fraction of communication between participants\n",
    "        if count is None:\n",
    "            inProjectFractions.append(None)\n",
    "            continue\n",
    "        try:\n",
    "            inProjectFractions.append(count / len(userDct[commType]))\n",
    "        except ZeroDivisionError:\n",
    "            inProjectFractions.append(None)\n",
    "    return inProjectFractions"
   ]
  },
  {
   "cell_type": "code",
   "execution_count": null,
   "metadata": {
    "collapsed": false,
    "scrolled": false
   },
   "outputs": [],
   "source": [
    "phDct = loadUserPhonenumberDict()\n",
    "userLst = getUserList()\n",
    "keyMap = {k:\"u{:04d}\".format(i) for (i, k) in enumerate(phDct.keys())}\n",
    "\n",
    "callDct, smsDct = defaultdict(Counter), defaultdict(Counter)\n",
    "\n",
    "fracLst = list()\n",
    "for i, user in enumerate(userLst):\n",
    "# for i in range(1000, len(userLst)):\n",
    "#    user = userLst[i]\n",
    "    try:\n",
    "        userDct = loadUser(user, dataFilter=(\"call\", \"sms\"))\n",
    "        commFrac = linkUser(userDct, (callDct, smsDct), phDct)\n",
    "        fracLst.append(commFrac)\n",
    "        if len(fracLst) % 50 == 0:\n",
    "            print(\"{:.0f} %\".format(100 * len(fracLst) / len(userLst)), end=\"\\t\")\n",
    "    except Exception as e:\n",
    "        print(\"\\n\\n\\nSomething went wrong  at (user, index):\\n\", user, i)\n",
    "        raise e"
   ]
  },
  {
   "cell_type": "code",
   "execution_count": null,
   "metadata": {
    "collapsed": false
   },
   "outputs": [],
   "source": [
    "cdct = {k:v for i,(k,v) in enumerate(callDct.items()) if i < 5}"
   ]
  },
  {
   "cell_type": "code",
   "execution_count": null,
   "metadata": {
    "collapsed": false
   },
   "outputs": [],
   "source": [
    "cdct"
   ]
  },
  {
   "cell_type": "code",
   "execution_count": null,
   "metadata": {
    "collapsed": false
   },
   "outputs": [],
   "source": [
    "class Useralias(object):\n",
    "    def __init__(self):\n",
    "        super(Useralias, self).__init__()\n",
    "        self.i = 0\n",
    "        self.userdct = dict()\n",
    "\n",
    "    def __setitem__(self, key, value):\n",
    "        self.userdct[key] = value\n",
    "\n",
    "    def __getitem__(self, key):\n",
    "        if key not in self.userdct:\n",
    "            self.i += 1\n",
    "            self.userdct[key] = \"u{:04d}\".format(self.i)\n",
    "        return self.userdct[key]\n"
   ]
  },
  {
   "cell_type": "code",
   "execution_count": null,
   "metadata": {
    "collapsed": false
   },
   "outputs": [],
   "source": [
    "cdct"
   ]
  },
  {
   "cell_type": "code",
   "execution_count": null,
   "metadata": {
    "collapsed": false
   },
   "outputs": [],
   "source": [
    "def aliasUsernames(commDct, useralias):\n",
    "    outDct = dict()\n",
    "    for ko, vo in commDct.items():\n",
    "        kon = useralias[ko]\n",
    "        inner = dict()\n",
    "        for ki, vi in vo.items():\n",
    "            inner[useralias[ki]] = vi\n",
    "        outDct[kon] = inner\n",
    "    return outDct\n",
    "\n",
    "ua = Useralias()\n",
    "callDct2 = aliasUsernames(callDct, ua)\n",
    "smsDct2 = aliasUsernames(smsDct, ua)"
   ]
  },
  {
   "cell_type": "code",
   "execution_count": null,
   "metadata": {
    "collapsed": false
   },
   "outputs": [],
   "source": [
    "cdf = pd.DataFrame.from_dict(callDct2, orient=\"index\").apply(lambda x: x/np.sum(x))  # Normalize\n",
    "sdf = pd.DataFrame.from_dict(smsDct2, orient=\"index\").apply(lambda x: x/np.sum(x))\n",
    "cmb = pd.concat((cdf, sdf))\n",
    "cmb = cmb.groupby(cmb.index).sum()\n",
    "cmb"
   ]
  },
  {
   "cell_type": "markdown",
   "metadata": {},
   "source": [
    "The data is quite sparse"
   ]
  },
  {
   "cell_type": "code",
   "execution_count": null,
   "metadata": {
    "collapsed": false
   },
   "outputs": [],
   "source": [
    "msno.matrix(cdf)"
   ]
  },
  {
   "cell_type": "code",
   "execution_count": null,
   "metadata": {
    "collapsed": false
   },
   "outputs": [],
   "source": [
    "msno.matrix(sdf)"
   ]
  },
  {
   "cell_type": "code",
   "execution_count": null,
   "metadata": {
    "collapsed": false
   },
   "outputs": [],
   "source": [
    "g = nx.from_dict_of_lists({k:callDct[k].keys() for k in callDct})"
   ]
  },
  {
   "cell_type": "code",
   "execution_count": null,
   "metadata": {
    "collapsed": false,
    "scrolled": false
   },
   "outputs": [],
   "source": [
    "gm = nx.adjacency_matrix(g)\n",
    "fig, ax = plt.subplots()\n",
    "ax.pcolorfast(gm.todense())"
   ]
  },
  {
   "cell_type": "code",
   "execution_count": null,
   "metadata": {
    "collapsed": false
   },
   "outputs": [],
   "source": []
  },
  {
   "cell_type": "code",
   "execution_count": null,
   "metadata": {
    "collapsed": false
   },
   "outputs": [],
   "source": []
  },
  {
   "cell_type": "code",
   "execution_count": null,
   "metadata": {
    "collapsed": false
   },
   "outputs": [],
   "source": []
  },
  {
   "cell_type": "code",
   "execution_count": null,
   "metadata": {
    "collapsed": false
   },
   "outputs": [],
   "source": []
  }
 ],
 "metadata": {
  "kernelspec": {
   "display_name": "Python [default]",
   "language": "python",
   "name": "python3"
  },
  "language_info": {
   "codemirror_mode": {
    "name": "ipython",
    "version": 3
   },
   "file_extension": ".py",
   "mimetype": "text/x-python",
   "name": "python",
   "nbconvert_exporter": "python",
   "pygments_lexer": "ipython3",
   "version": "3.5.2"
  }
 },
 "nbformat": 4,
 "nbformat_minor": 0
}
