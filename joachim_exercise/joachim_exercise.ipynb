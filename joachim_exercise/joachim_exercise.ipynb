{
 "cells": [
  {
   "cell_type": "code",
   "execution_count": null,
   "metadata": {},
   "outputs": [],
   "source": [
    "import numpy as np\n",
    "import pandas as pd\n",
    "import matplotlib as mpl\n",
    "import matplotlib.pyplot as plt\n",
    "from sklearn import decomposition, preprocessing, linear_model, discriminant_analysis, neighbors\n",
    "from sklearn.ensemble import RandomForestClassifier\n",
    "from sklearn.svm import SVC\n",
    "from sklearn.metrics import mean_squared_error, r2_score, accuracy_score, recall_score, roc_curve, auc, roc_auc_score, confusion_matrix\n",
    "from sklearn.model_selection import train_test_split, cross_val_score, cross_val_predict\n",
    "from sklearn.preprocessing import scale\n",
    "import itertools\n",
    "# from statMlFunctions import *\n",
    "#import seaborn as sns\n",
    "#sns.set(context='paper', style='whitegrid', color_codes=True, font_scale=1.8)\n",
    "#sns.set_palette(sns.color_palette(\"Set1\", n_colors=12, desat=.5))\n",
    "import seaborn as sns\n",
    "sns.set(context='paper', style='whitegrid', color_codes=True, font_scale=1.8)\n",
    "colorcycle = [(0.498, 0.788, 0.498),\n",
    "              (0.745, 0.682, 0.831),\n",
    "              (0.992, 0.753, 0.525),\n",
    "              (0.220, 0.424, 0.690),\n",
    "              (0.749, 0.357, 0.090),\n",
    "              (1.000, 1.000, 0.600),\n",
    "              (0.941, 0.008, 0.498),\n",
    "              (0.400, 0.400, 0.400)]\n",
    "sns.set_palette(colorcycle) \n",
    "\n",
    "%matplotlib inline\n",
    "# sns.set(style=\"white\")\n",
    "# mpl.rcParams['figure.figsize'] = [10, 6]"
   ]
  },
  {
   "cell_type": "markdown",
   "metadata": {},
   "source": [
    "### Load data"
   ]
  },
  {
   "cell_type": "code",
   "execution_count": null,
   "metadata": {},
   "outputs": [],
   "source": [
    "df0 = pd.read_table('RGender.dat', sep=' ').T\n",
    "df0.head() "
   ]
  },
  {
   "cell_type": "code",
   "execution_count": null,
   "metadata": {},
   "outputs": [],
   "source": [
    "df1 = df0.drop('gender', axis=1)\n",
    "df1.rename(columns=lambda s: s.replace('bfi_', '').replace('.answer', ''), inplace=True)\n",
    "df1.head() "
   ]
  },
  {
   "cell_type": "code",
   "execution_count": null,
   "metadata": {},
   "outputs": [],
   "source": [
    "gender = df0.gender"
   ]
  },
  {
   "cell_type": "code",
   "execution_count": null,
   "metadata": {},
   "outputs": [],
   "source": [
    "gender.value_counts() "
   ]
  },
  {
   "cell_type": "code",
   "execution_count": null,
   "metadata": {},
   "outputs": [],
   "source": [
    "df1.shape"
   ]
  },
  {
   "cell_type": "markdown",
   "metadata": {},
   "source": [
    "### Plot cross correlation\n",
    "\n",
    "Remove this, since the cross correlation between the variables aren't af any real interest?"
   ]
  },
  {
   "cell_type": "code",
   "execution_count": null,
   "metadata": {},
   "outputs": [],
   "source": [
    "mpl.rcParams['text.usetex'] = False\n",
    "mpl.rcParams['text.latex.unicode'] = False\n",
    "\n",
    "def plotCrossCorr(df, threshold=None):\n",
    "    \n",
    "    df = df.copy() \n",
    "    corr = df.corr()\n",
    "    corrval = corr.values\n",
    "    mask = np.eye(*corr.shape)\n",
    "    if threshold is None:\n",
    "        mask[np.triu_indices_from(mask)] = 1\n",
    "    else:\n",
    "        mask[np.triu_indices_from(mask, k=1)] = np.abs(corrval[np.triu_indices_from(mask, k=1)]) < threshold\n",
    "    fig, ax = plt.subplots(figsize=(12, 11))\n",
    "    cmap = sns.diverging_palette(10, 220, as_cmap=True)\n",
    "    sns.heatmap(corr, vmin=-1, vmax=1, cmap=cmap, mask=mask, linewidths=0.8, ax=ax)\n",
    "    return fig, ax, corrval\n",
    "\n",
    "fig, ax, corrval = plotCrossCorr(df1, threshold=0.5);\n",
    "fig.savefig('data_cross_correlation.pdf')\n",
    "\n",
    "\n",
    "class LargestElements:\n",
    "    \"\"\"Container for n absolute largest elements\"\"\"\n",
    "    def __init__(self, n):\n",
    "        self.n = n\n",
    "        self.absdct = dict()\n",
    "\n",
    "    def add(self, val, i, j):\n",
    "        absval = np.abs(val)\n",
    "        keys = self.absdct.keys()\n",
    "        if len(self.absdct) < self.n or absval > min(keys):\n",
    "            self.absdct[absval] = (val, i, j)\n",
    "        if len(self.absdct) > self.n:\n",
    "            del self.absdct[min(keys)]\n",
    "\n",
    "    def get(self):\n",
    "        return self.absdct\n",
    "\n",
    "\n",
    "def max_abs_n_idx_triu(arr, n):\n",
    "    le = LargestElements(n)\n",
    "    for i in range(arr.shape[0]):\n",
    "        for j in range(i):\n",
    "            if i == j:\n",
    "                continue\n",
    "            le.add(arr[i, j], i, j)\n",
    "    return le.get()\n",
    "\n",
    "\n",
    "max_abs_n_idx_triu(corrval, 4)"
   ]
  },
  {
   "cell_type": "markdown",
   "metadata": {},
   "source": [
    "## Logistic regression on the raw data"
   ]
  },
  {
   "cell_type": "code",
   "execution_count": null,
   "metadata": {},
   "outputs": [],
   "source": [
    "mpl.rcParams['text.usetex'] = True\n",
    "mpl.rcParams['text.latex.unicode'] = True"
   ]
  },
  {
   "cell_type": "code",
   "execution_count": null,
   "metadata": {},
   "outputs": [],
   "source": [
    "lr = linear_model.LogisticRegression(penalty='l2')\n",
    "lr.fit(df1.values, gender.values)\n",
    "prob1 = lr.predict_proba(df1.values)[:, 1]"
   ]
  },
  {
   "cell_type": "code",
   "execution_count": null,
   "metadata": {},
   "outputs": [],
   "source": [
    "accuracy_score(gender.values, prob1>0.5)"
   ]
  },
  {
   "cell_type": "code",
   "execution_count": null,
   "metadata": {},
   "outputs": [],
   "source": [
    "confusion_matrix(gender.values, prob1>0.5)"
   ]
  },
  {
   "cell_type": "code",
   "execution_count": null,
   "metadata": {},
   "outputs": [],
   "source": [
    "len([(t, p) for (t, p) in zip(gender.values.astype(int), (prob1>0.5).astype(int)) if (t & p)])"
   ]
  },
  {
   "cell_type": "code",
   "execution_count": null,
   "metadata": {},
   "outputs": [],
   "source": [
    "len([(t, p) for (t, p) in zip(gender.values.astype(int), (prob1>0.5).astype(int)) if ((t==0) & (p==0))])"
   ]
  },
  {
   "cell_type": "code",
   "execution_count": null,
   "metadata": {},
   "outputs": [],
   "source": [
    "fig, ax = plt.subplots()\n",
    "ax.hist(prob1, bins=50)\n",
    "ax.set_xlabel('$p_f$')\n",
    "ax.set_ylabel('Count')\n",
    "fig.savefig('sex_prediction_raw_data_prob1_vs_count.pdf')"
   ]
  },
  {
   "cell_type": "code",
   "execution_count": null,
   "metadata": {},
   "outputs": [],
   "source": [
    "fpr, tpr, threshold = roc_curve(gender.values, prob1)\n",
    "fig, ax = plt.subplots()\n",
    "ax.plot(fpr, tpr, '.-', lw=0.5, markersize=4) \n",
    "ax.set_ylabel('TPR')\n",
    "ax.set_xlabel('FPR')\n",
    "fig.savefig('sex_prediction_raw_data.pdf')\n",
    "print(\"AUC:\", auc(fpr, tpr)) "
   ]
  },
  {
   "cell_type": "markdown",
   "metadata": {},
   "source": [
    "### Logistic regression on the _expanded_ raw data\n",
    "\n",
    "Expand the data with products accross _all_ variables"
   ]
  },
  {
   "cell_type": "code",
   "execution_count": null,
   "metadata": {},
   "outputs": [],
   "source": [
    "idx = np.arange(df1.values.shape[1]).astype(int)\n",
    "idxCombinations = list(itertools.product(idx, idx))\n",
    "featureMatrix = np.NaN * np.zeros((df1.values.shape[0], df1.values.shape[1]+len(idxCombinations)))"
   ]
  },
  {
   "cell_type": "code",
   "execution_count": null,
   "metadata": {},
   "outputs": [],
   "source": [
    "featureMatrix[:, :df1.values.shape[1]] = df1.values.copy() "
   ]
  },
  {
   "cell_type": "code",
   "execution_count": null,
   "metadata": {},
   "outputs": [],
   "source": [
    "for i, (v0, v1) in enumerate(idxCombinations, df1.values.shape[1]):\n",
    "    featureMatrix[:, i] = featureMatrix[:, v0] * featureMatrix[:, v1]"
   ]
  },
  {
   "cell_type": "code",
   "execution_count": null,
   "metadata": {},
   "outputs": [],
   "source": [
    "lre = linear_model.LogisticRegression()\n",
    "lre.fit(featureMatrix, gender.values)\n",
    "prob1 = lre.predict_proba(featureMatrix)[:, 1]"
   ]
  },
  {
   "cell_type": "code",
   "execution_count": null,
   "metadata": {},
   "outputs": [],
   "source": [
    "fig, ax = plt.subplots()\n",
    "ax.hist(prob1, bins=50)\n",
    "ax.set_xlabel('$p_f$')\n",
    "ax.set_ylabel('Count')\n",
    "fig.savefig('sex_prediction_expanded_data_prob1_vs_count.pdf')"
   ]
  },
  {
   "cell_type": "code",
   "execution_count": null,
   "metadata": {},
   "outputs": [],
   "source": [
    "accuracy_score(gender.values, prob1>0.5) "
   ]
  },
  {
   "cell_type": "code",
   "execution_count": null,
   "metadata": {},
   "outputs": [],
   "source": [
    "fpr, tpr, threshold = roc_curve(gender.values, prob1)\n",
    "fig, ax = plt.subplots()\n",
    "ax.plot(fpr, tpr, '.-', lw=0.5, markersize=4) \n",
    "ax.set_ylabel('TPR')\n",
    "ax.set_xlabel('FPR')\n",
    "fig.savefig('sex_prediction_expanded_data.pdf')\n",
    "print(f\"AUC: {auc(fpr, tpr)}\", f\"FPR: {fpr}\", f\"TPR: {tpr}\", sep='\\n') "
   ]
  },
  {
   "cell_type": "markdown",
   "metadata": {},
   "source": [
    "### Perform PCA "
   ]
  },
  {
   "cell_type": "code",
   "execution_count": null,
   "metadata": {},
   "outputs": [],
   "source": [
    "nd1 = scale(df1.values)\n",
    "pca = decomposition.PCA(svd_solver='full') \n",
    "pca.fit(nd1)"
   ]
  },
  {
   "cell_type": "code",
   "execution_count": null,
   "metadata": {},
   "outputs": [],
   "source": [
    "fig, (ax0, ax1) = plt.subplots(1, 2, figsize=(15, 6)) \n",
    "ax0.plot(pca.explained_variance_ratio_, 'o-')\n",
    "ax1.plot(np.cumsum(pca.explained_variance_ratio_), 'o-')\n",
    "ax0.set_title('Eigenvalues')\n",
    "ax1.set_title('Eigenvalues accumulated')"
   ]
  },
  {
   "cell_type": "code",
   "execution_count": null,
   "metadata": {},
   "outputs": [],
   "source": [
    "# For saving output\n",
    "\n",
    "fig, ax = plt.subplots() \n",
    "ax.plot(pca.explained_variance_ratio_, 'o-')\n",
    "ax.set_xlabel('Eigenvalue #')\n",
    "ax.set_ylabel('Eigenvalues')\n",
    "plt.tight_layout() \n",
    "fig.subplots_adjust(left=0.15, bottom=0.15)\n",
    "fig.savefig('pca_eigenvalues.pdf')\n",
    "\n",
    "fig, ax = plt.subplots()\n",
    "ax.plot(np.cumsum(pca.explained_variance_ratio_), 'o-')\n",
    "ax.set_xlabel('Eigenvalue #')\n",
    "ax.set_ylabel('Eigenvalues accumulated')\n",
    "plt.tight_layout() \n",
    "fig.subplots_adjust(bottom=0.15)\n",
    "fig.savefig('pca_eigenvalues_accumulated.pdf')\n",
    "\n",
    "fig, ax = plt.subplots()\n",
    "ax.plot(1 - np.cumsum(pca.explained_variance_ratio_), 'o-')\n",
    "ax.set_xlabel('Eigenvalue #')\n",
    "ax.set_ylabel('1 - Eigenvalues accumulated')\n",
    "plt.tight_layout() \n",
    "fig.subplots_adjust(bottom=0.15)\n",
    "fig.savefig('pca_eigenvalues_scree.pdf')"
   ]
  },
  {
   "cell_type": "code",
   "execution_count": null,
   "metadata": {},
   "outputs": [],
   "source": [
    "fig, ax = plt.subplots()\n",
    "ax.hist(pca.explained_variance_ratio_, bins=65);\n",
    "ax.set_xlabel('Normalized eigenvalues')\n",
    "ax.set_ylabel('Count')\n",
    "fig.savefig('pca_eigenvalues_histogram.pdf')"
   ]
  },
  {
   "cell_type": "code",
   "execution_count": null,
   "metadata": {},
   "outputs": [],
   "source": [
    "td1 = pca.transform(nd1)  # The rotated vector space"
   ]
  },
  {
   "cell_type": "code",
   "execution_count": null,
   "metadata": {},
   "outputs": [],
   "source": [
    "td1[:, 0].std() "
   ]
  },
  {
   "cell_type": "code",
   "execution_count": null,
   "metadata": {},
   "outputs": [],
   "source": [
    "td1.shape"
   ]
  },
  {
   "cell_type": "code",
   "execution_count": null,
   "metadata": {},
   "outputs": [],
   "source": [
    "td1[0, :]"
   ]
  },
  {
   "cell_type": "code",
   "execution_count": null,
   "metadata": {},
   "outputs": [],
   "source": [
    "td1.shape"
   ]
  },
  {
   "cell_type": "markdown",
   "metadata": {},
   "source": [
    "### Logistic Regression\n",
    "\n",
    "Try the prediction with a different number of leading vectors, and plot the accuracy for the prediction"
   ]
  },
  {
   "cell_type": "code",
   "execution_count": null,
   "metadata": {},
   "outputs": [],
   "source": [
    "res = np.zeros((9, 2))\n",
    "fig, ax = plt.subplots()\n",
    "for k in range(1, 10):\n",
    "    lr = linear_model.LogisticRegressionCV()\n",
    "    lr.fit(td1[:, :k], gender.values)\n",
    "    td1p = lr.predict(td1[:, :k]) \n",
    "    acc = accuracy_score(gender.values, td1p)\n",
    "    print(\"Accuracy using {} leading component(s) is {:.2f} % \".format(k, acc*100))\n",
    "    res[k-1, 0] = k\n",
    "    res[k-1, 1] = acc\n",
    "ax.plot(res[:, 0], res[:, 1], '-o')\n",
    "ax.set_xlabel(\"Number of components\")\n",
    "ax.set_ylabel(\"Accuracy\");\n",
    "ax.set_xticks(np.arange(1, 10))\n",
    "fig.savefig('pca_linear_regression_accuracy_vs_components.pdf')"
   ]
  },
  {
   "cell_type": "code",
   "execution_count": null,
   "metadata": {},
   "outputs": [],
   "source": [
    "res = np.zeros((9, 2))\n",
    "fig, ax = plt.subplots()\n",
    "for reg in 'l1 l2'.split():\n",
    "    for k in range(1, 10):\n",
    "        lr = linear_model.LogisticRegressionCV(penalty=reg, solver='liblinear')\n",
    "        lr.fit(td1[:, :k], gender.values)\n",
    "        td1p = lr.predict(td1[:, :k]) \n",
    "        acc = (td1p == gender.values).sum() / gender.size * 100\n",
    "        print(\"Accuracy using {} leading component(s) is {:.2f} % \".format(k, acc))\n",
    "        res[k-1, 0] = k\n",
    "        res[k-1, 1] = acc\n",
    "    ax.plot(res[:, 0], res[:, 1], '-o', label=reg.upper())\n",
    "ax.set_xlabel(\"Number of components\")\n",
    "ax.set_ylabel(\"Accuracy\");\n",
    "ax.set_yticks([78, 80, 82])\n",
    "ax.set_xticks(np.arange(1, 10))\n",
    "ax.legend(loc=\"lower right\")\n",
    "fig.savefig('pca_linear_regression_L1_L2_accuracy_vs_components.pdf')"
   ]
  },
  {
   "cell_type": "markdown",
   "metadata": {},
   "source": [
    "Fit a Logistic Regression prediction with $k = 5$ components, and plot each vector component against the gender and the prediction probability"
   ]
  },
  {
   "cell_type": "markdown",
   "metadata": {},
   "source": [
    "#### Elastic net regression: Combining L1 and L2 regularization"
   ]
  },
  {
   "cell_type": "code",
   "execution_count": null,
   "metadata": {},
   "outputs": [],
   "source": [
    "res = np.zeros((9, 2))\n",
    "fig, ax = plt.subplots()\n",
    "for r in np.linspace(0.1, 0.9, 9):\n",
    "    for k in range(1, 10):\n",
    "        lr = linear_model.ElasticNetCV(l1_ratio=r)\n",
    "        lr.fit(td1[:, :k], gender.values)\n",
    "        td1p = lr.predict(td1[:, :k]) \n",
    "        acc = accuracy_score(gender.values, td1p > 0.5) * 100\n",
    "        # print(\"Accuracy using {} leading component(s) is {:.2f} % \".format(k, acc))\n",
    "        res[k-1, 0] = k\n",
    "        res[k-1, 1] = acc\n",
    "    ax.plot(res[:, 0], res[:, 1], '-o', label='r=%.1f' % r)\n",
    "ax.set_xlabel(\"Number of components\")\n",
    "ax.set_ylabel(\"Accuracy\");\n",
    "ax.set_yticks([78, 80, 82])\n",
    "ax.set_xticks(np.arange(1, 10));\n",
    "ax.legend() \n",
    "fig.savefig('pca_linear_regression_elastic_net_accuracy_vs_components.pdf')"
   ]
  },
  {
   "cell_type": "code",
   "execution_count": null,
   "metadata": {},
   "outputs": [],
   "source": [
    "k = 5\n",
    "X = td1[:, :k]  # fit using the first k components\n",
    "lr = linear_model.LogisticRegression()\n",
    "lr.fit(X, gender.values)\n",
    "prob1 = lr.predict_proba(X)[:, 1]"
   ]
  },
  {
   "cell_type": "code",
   "execution_count": null,
   "metadata": {},
   "outputs": [],
   "source": [
    "fig, axi = plt.subplots(2, 3, figsize=(18, 7))\n",
    "axi = axi.flatten()\n",
    "for i in range(k):\n",
    "    axi[i].scatter(X[:, i], prob1, s=5)\n",
    "    axi[i].scatter(X[:, i], gender.values, s=12, alpha=0.35)\n",
    "    axi[i].set_title(\"Component %d\" % i)\n",
    "axi[-1].remove() "
   ]
  },
  {
   "cell_type": "markdown",
   "metadata": {},
   "source": [
    "Make the plots again, but save in indivudial files"
   ]
  },
  {
   "cell_type": "code",
   "execution_count": null,
   "metadata": {},
   "outputs": [],
   "source": [
    "fig, ax = plt.subplots()\n",
    "for i in range(k):\n",
    "    ax.cla() \n",
    "    ax.scatter(X[:, i], prob1, s=5)\n",
    "    ax.scatter(X[:, i], gender.values, s=12, alpha=0.35)\n",
    "    fig.savefig(f'pca_component_{i}_vs_prob1.pdf')\n"
   ]
  },
  {
   "cell_type": "markdown",
   "metadata": {},
   "source": [
    "Component 3 looks interesting. Check the accuracy with just that component."
   ]
  },
  {
   "cell_type": "markdown",
   "metadata": {},
   "source": [
    "More thorough examination of the components"
   ]
  },
  {
   "cell_type": "code",
   "execution_count": null,
   "metadata": {},
   "outputs": [],
   "source": [
    "fig, axi = plt.subplots(5, 5, figsize=(18, 7))\n",
    "axi = axi.flatten()\n",
    "ac = 0\n",
    "aucmat = np.zeros((k, k))\n",
    "lr2 = linear_model.LogisticRegression(solver='newton-cg')\n",
    "for i in range(k):\n",
    "    X = td1[:, i][:, np.newaxis]\n",
    "    lr2.fit(X, gender.values)\n",
    "    for j in range(k):\n",
    "        XX = td1[:, j]\n",
    "        prob1 = lr2.predict_proba(XX[:, np.newaxis])[:, 1]\n",
    "        axi[ac].scatter(XX, prob1, s=5)\n",
    "        axi[ac].scatter(XX, gender.values, s=12, alpha=0.35)\n",
    "        # axi[ac].set_title(f\"fit: X[:,{i}], predict: X[:,{j}]\")\n",
    "        ac += 1\n",
    "        aucmat[i, j] = roc_auc_score(gender.values, prob1)\n",
    "fig.set\n",
    "fig.savefig('gridplot.png', dpi=400)\n",
    "print(aucmat)"
   ]
  },
  {
   "cell_type": "markdown",
   "metadata": {},
   "source": [
    "### ROC curves"
   ]
  },
  {
   "cell_type": "code",
   "execution_count": null,
   "metadata": {},
   "outputs": [],
   "source": [
    "fpr, tpr, threshold = roc_curve(gender.values, lr.predict_proba(td1[:, :k])[:, 1])\n",
    "fig, ax = plt.subplots()\n",
    "ax.plot(fpr, tpr, '.-', lw=0.5, markersize=4) \n",
    "print(\"AUC:\", auc(fpr, tpr))\n",
    "fig.savefig('logistic_regression_roc_curve.pdf')"
   ]
  },
  {
   "cell_type": "markdown",
   "metadata": {},
   "source": [
    "### Randomly sampled components\n",
    "\n",
    "Randomly sample $k = 5$ components 1000 times, collect the AUC-scores and plot a histogram over them."
   ]
  },
  {
   "cell_type": "code",
   "execution_count": null,
   "metadata": {},
   "outputs": [],
   "source": [
    "k = 5\n",
    "N = 5000\n",
    "idx_set = set()\n",
    "while len(idx_set) < N:\n",
    "    idx_set.add(tuple(list(set(np.random.choice(np.arange(df1.shape[1], dtype=int), k*3)))[:k]))\n",
    "\n",
    "lr = linear_model.LogisticRegression()\n",
    "auc_scores = np.zeros(N)\n",
    "for i, idx in enumerate(idx_set):\n",
    "    # idx = list(set(np.random.choice(np.arange(df1.shape[1], dtype=int), k*3)))[:k] # k unique indexes\n",
    "    dfX = df1.iloc[:, idx]\n",
    "    X = dfX.values\n",
    "    lr.fit(X, gender.values)\n",
    "    auc_scores[i] = roc_auc_score(gender.values, lr.predict_proba(X)[:, 1])\n",
    "fig, ax = plt.subplots()\n",
    "ax.hist(auc_scores, bins=75);\n",
    "ax.set_xlabel('AUC scores')\n",
    "ax.set_ylabel('Count')\n",
    "fig.savefig(f'logistic_regression_auc_score_{k}_random_feature_sampling.pdf')"
   ]
  },
  {
   "cell_type": "markdown",
   "metadata": {},
   "source": [
    "## Split data for cross validation\n"
   ]
  },
  {
   "cell_type": "code",
   "execution_count": null,
   "metadata": {},
   "outputs": [],
   "source": [
    "X_train, X_test, y_train, y_test = train_test_split(td1, gender.values, test_size=0.3, stratify=gender.values)"
   ]
  },
  {
   "cell_type": "code",
   "execution_count": null,
   "metadata": {},
   "outputs": [],
   "source": [
    "print(X_train.shape, X_test.shape, y_train.shape, y_test.shape)"
   ]
  },
  {
   "cell_type": "markdown",
   "metadata": {},
   "source": [
    "### Use Linear Discriminant analysis"
   ]
  },
  {
   "cell_type": "code",
   "execution_count": null,
   "metadata": {},
   "outputs": [],
   "source": [
    "lda = discriminant_analysis.LinearDiscriminantAnalysis(store_covariance=True)"
   ]
  },
  {
   "cell_type": "code",
   "execution_count": null,
   "metadata": {},
   "outputs": [],
   "source": [
    "lda.fit(X_train, y_train)"
   ]
  },
  {
   "cell_type": "code",
   "execution_count": null,
   "metadata": {},
   "outputs": [],
   "source": [
    "accuracy_score(y_test, lda.predict(X_test))"
   ]
  },
  {
   "cell_type": "markdown",
   "metadata": {},
   "source": [
    "LDA didn't fare that good, but it's comparable to the SVM accuracy."
   ]
  },
  {
   "cell_type": "markdown",
   "metadata": {},
   "source": [
    "#### Also try QDA\n",
    "\n",
    "It fares even worse, but a grid search is in order!"
   ]
  },
  {
   "cell_type": "code",
   "execution_count": null,
   "metadata": {},
   "outputs": [],
   "source": [
    "qda = discriminant_analysis.QuadraticDiscriminantAnalysis(store_covariances=True) "
   ]
  },
  {
   "cell_type": "code",
   "execution_count": null,
   "metadata": {},
   "outputs": [],
   "source": [
    "qda.fit(X_train, y_train)"
   ]
  },
  {
   "cell_type": "code",
   "execution_count": null,
   "metadata": {},
   "outputs": [],
   "source": [
    "accuracy_score(y_test, qda.predict(X_test))"
   ]
  },
  {
   "cell_type": "markdown",
   "metadata": {},
   "source": [
    "### Use kNN\n",
    "\n",
    "A real grid search with cross validation should be performed.\n",
    "\n",
    "And ROC-curves shoud be created."
   ]
  },
  {
   "cell_type": "code",
   "execution_count": null,
   "metadata": {},
   "outputs": [],
   "source": [
    "knn = neighbors.KNeighborsClassifier(p=4, n_neighbors=12)"
   ]
  },
  {
   "cell_type": "code",
   "execution_count": null,
   "metadata": {},
   "outputs": [],
   "source": [
    "knn.fit(X_train, y_train)"
   ]
  },
  {
   "cell_type": "code",
   "execution_count": null,
   "metadata": {},
   "outputs": [],
   "source": [
    "accuracy_score(y_test, knn.predict(X_test))"
   ]
  },
  {
   "cell_type": "markdown",
   "metadata": {},
   "source": [
    "### Use some support vector machines"
   ]
  },
  {
   "cell_type": "markdown",
   "metadata": {},
   "source": [
    "Train a support vector machines"
   ]
  },
  {
   "cell_type": "code",
   "execution_count": null,
   "metadata": {},
   "outputs": [],
   "source": [
    "clf = SVC(kernel='linear', C=1)\n",
    "scores = cross_val_score(clf, X_train, y_train, cv=5)\n",
    "scores"
   ]
  },
  {
   "cell_type": "code",
   "execution_count": null,
   "metadata": {},
   "outputs": [],
   "source": [
    "print(\"Accuracy: %0.2f (+/- %0.2f)\" % (scores.mean(), scores.std() * 2))"
   ]
  },
  {
   "cell_type": "markdown",
   "metadata": {},
   "source": [
    "Not a bad accuracy, but let's do a real grid search for parameter optimization."
   ]
  },
  {
   "cell_type": "markdown",
   "metadata": {},
   "source": [
    "### Do a real cross validation grid search?\n",
    "\n",
    "Do this: `file:///Users/allan/Library/Application%20Support/Dash/User%20Contributed/Scikitlearn/Scikit-learn.docset/Contents/Resources/Documents/modules/cross_validation.html#the-cross-validate-function-and-multiple-metric-evaluation`"
   ]
  },
  {
   "cell_type": "markdown",
   "metadata": {},
   "source": [
    "Supress warnings about invalied measure due to category with 0 results"
   ]
  },
  {
   "cell_type": "code",
   "execution_count": null,
   "metadata": {},
   "outputs": [],
   "source": [
    "import warnings\n",
    "from sklearn.exceptions import UndefinedMetricWarning\n",
    "warnings.filterwarnings(\"ignore\", category=UndefinedMetricWarning)"
   ]
  },
  {
   "cell_type": "code",
   "execution_count": null,
   "metadata": {},
   "outputs": [],
   "source": [
    "from sklearn.metrics import classification_report\n",
    "from sklearn.model_selection import GridSearchCV, train_test_split\n"
   ]
  },
  {
   "cell_type": "code",
   "execution_count": null,
   "metadata": {},
   "outputs": [],
   "source": [
    "tuned_parameters = [{'C': [0.01, 0.1, 1, 10, 100, 1000], 'penalty': ['l1', 'l2']}]\n",
    "scores = ['precision_macro', 'recall_macro', 'accuracy']\n",
    "print(tuned_parameters, scores)"
   ]
  },
  {
   "cell_type": "code",
   "execution_count": null,
   "metadata": {},
   "outputs": [],
   "source": [
    "for score in scores:\n",
    "    clf = GridSearchCV(linear_model.LogisticRegression(), param_grid=tuned_parameters,\n",
    "                       scoring=score, n_jobs=32) \n",
    "    clf.fit(X_train, y_train)\n",
    "    print(f\"\"\"----------------------------------------------------------------\n",
    "    Best parameters set found on development set using {score} for evaluation:\n",
    "\n",
    "    {clf.best_params_}\n",
    "\n",
    "    Grid scores on development set:\n",
    "    \"\"\")\n",
    "    \n",
    "    means = clf.cv_results_['mean_test_score']\n",
    "    stds = clf.cv_results_['std_test_score']\n",
    "    for mean, std, params in zip(means, stds, clf.cv_results_['params']):\n",
    "        print(\"%0.3f (+/-%0.03f) for %r\" % (mean, std * 2, params))\n",
    "    \n",
    "    print(\"\"\"\n",
    "\n",
    "    Detailed classification report:\n",
    "\n",
    "    The model is trained on the full development set.\n",
    "    The scores are computed on the full evaluation set.\n",
    "    \"\"\")\n",
    "\n",
    "    y_true, y_pred = y_test, clf.predict(X_test)\n",
    "    print(classification_report(y_true, y_pred))\n",
    "    print()\n"
   ]
  },
  {
   "cell_type": "code",
   "execution_count": null,
   "metadata": {},
   "outputs": [],
   "source": [
    "lr = linear_model.LogisticRegression(**clf.best_params_)\n",
    "lr.fit(X_train, y_train) "
   ]
  },
  {
   "cell_type": "code",
   "execution_count": null,
   "metadata": {},
   "outputs": [],
   "source": [
    "fpr, tpr, threshold = roc_curve(gender.values, lr.predict_proba(td1)[:, 1])\n",
    "fig, ax = plt.subplots()\n",
    "ax.plot(fpr, tpr, '.-', lw=0.5, markersize=6) \n",
    "print(\"AUC:\", auc(fpr, tpr)) \n",
    "fig.savefig('logistic_regression_all_data_predict_train_data_training_roc_curve.pdf')"
   ]
  },
  {
   "cell_type": "code",
   "execution_count": null,
   "metadata": {},
   "outputs": [],
   "source": [
    "fpr, tpr, threshold = roc_curve(y_train, lr.predict_proba(X_train)[:, 1])\n",
    "fig, ax = plt.subplots()\n",
    "ax.plot(fpr, tpr, '.-', lw=0.5, markersize=6) \n",
    "print(\"AUC:\", auc(fpr, tpr)) \n",
    "fig.savefig('logistic_regression_training_data_roc_curve.pdf')"
   ]
  },
  {
   "cell_type": "code",
   "execution_count": null,
   "metadata": {},
   "outputs": [],
   "source": [
    "fpr, tpr, threshold = roc_curve(y_test, lr.predict_proba(X_test)[:, 1])\n",
    "fig, ax = plt.subplots()\n",
    "ax.plot(fpr, tpr, '.-', lw=0.5, markersize=6) \n",
    "print(\"AUC:\", auc(fpr, tpr)) \n",
    "fig.savefig('logistic_regression_test_data_roc_curve.pdf')"
   ]
  },
  {
   "cell_type": "code",
   "execution_count": null,
   "metadata": {},
   "outputs": [],
   "source": [
    "tuned_parameters = [{'kernel': ['rbf', 'linear', 'poly'],\n",
    "                     'gamma': [1e-2, 1e-3, 1e-4, 1e-5],\n",
    "                     'C': [0.1, 1, 10, 100, 1000]}]\n",
    "scores = ['precision', 'recall', 'accuracy']\n",
    "print(tuned_parameters, scores)"
   ]
  },
  {
   "cell_type": "code",
   "execution_count": null,
   "metadata": {},
   "outputs": [],
   "source": [
    "for score in scores:\n",
    "    clf = GridSearchCV(SVC(), param_grid=tuned_parameters,\n",
    "                       scoring=\"%s_macro\" % score, n_jobs=32) \n",
    "    clf.fit(X_train, y_train)\n",
    "    print(f\"\"\"----------------------------------------------------------------\n",
    "    Best parameters set found on development set using {score} for evaluation:\n",
    "\n",
    "    {clf.best_params_}\n",
    "\n",
    "    Grid scores on development set:\n",
    "    \"\"\")\n",
    "    \n",
    "    means = clf.cv_results_['mean_test_score']\n",
    "    stds = clf.cv_results_['std_test_score']\n",
    "    for mean, std, params in zip(means, stds, clf.cv_results_['params']):\n",
    "        print(\"%0.3f (+/-%0.03f) for %r\" % (mean, std * 2, params))\n",
    "    \n",
    "    print(\"\"\"\n",
    "\n",
    "    Detailed classification report:\n",
    "\n",
    "    The model is trained on the full development set.\n",
    "    The scores are computed on the full evaluation set.\n",
    "    \"\"\")\n",
    "\n",
    "    y_true, y_pred = y_test, clf.predict(X_test)\n",
    "    print(classification_report(y_true, y_pred))\n",
    "    print()\n"
   ]
  },
  {
   "cell_type": "code",
   "execution_count": null,
   "metadata": {},
   "outputs": [],
   "source": [
    "svc = SVC(probability=True, **clf.best_params_) \n",
    "svc.fit(X_train, y_train) "
   ]
  },
  {
   "cell_type": "code",
   "execution_count": null,
   "metadata": {},
   "outputs": [],
   "source": [
    "fpr, tpr, threshold = roc_curve(gender.values, svc.predict_proba(td1)[:, 1])\n",
    "fig, ax = plt.subplots()\n",
    "ax.plot(fpr, tpr, '.-', lw=0.5, markersize=6) \n",
    "print(\"AUC:\", auc(fpr, tpr)) \n",
    "fig.savefig('svm_all_data_predict_train_data_training_roc_curve.pdf')"
   ]
  },
  {
   "cell_type": "code",
   "execution_count": null,
   "metadata": {},
   "outputs": [],
   "source": [
    "fpr, tpr, threshold = roc_curve(y_train, svc.predict_proba(X_train)[:, 1])\n",
    "fig, ax = plt.subplots()\n",
    "ax.plot(fpr, tpr, '.-', lw=0.5, markersize=6) \n",
    "print(\"AUC:\", auc(fpr, tpr)) \n",
    "fig.savefig('svm_training_data_roc_curve.pdf')"
   ]
  },
  {
   "cell_type": "code",
   "execution_count": null,
   "metadata": {},
   "outputs": [],
   "source": [
    "fpr, tpr, threshold = roc_curve(y_test, svc.predict_proba(X_test)[:, 1])\n",
    "fig, ax = plt.subplots()\n",
    "ax.plot(fpr, tpr, '.-', lw=0.5, markersize=6) \n",
    "print(\"AUC:\", auc(fpr, tpr)) \n",
    "fig.savefig('svm_test_data_roc_curve.pdf')"
   ]
  },
  {
   "cell_type": "code",
   "execution_count": null,
   "metadata": {},
   "outputs": [],
   "source": [
    "tuned_parameters = [dict(n_estimators=np.ceil(2**np.linspace(1, 8, 10)).astype(int),\n",
    "                         max_depth=[3, 5, 8, 12, 16, 25])]\n",
    "\n",
    "print(tuned_parameters)"
   ]
  },
  {
   "cell_type": "code",
   "execution_count": null,
   "metadata": {},
   "outputs": [],
   "source": [
    "for score in scores:\n",
    "    clf = GridSearchCV(RandomForestClassifier(), param_grid=tuned_parameters, scoring=\"%s_macro\" % score, n_jobs=32) \n",
    "    clf.fit(X_train, y_train)\n",
    "    print(\"Best parameters set found on development set:\")\n",
    "    print()\n",
    "    print(clf.best_params_)\n",
    "    print()\n",
    "    print(\"Grid scores on development set:\")\n",
    "    print()\n",
    "    means = clf.cv_results_['mean_test_score']\n",
    "    stds = clf.cv_results_['std_test_score']\n",
    "    for mean, std, params in zip(means, stds, clf.cv_results_['params']):\n",
    "        print(\"%0.3f (+/-%0.03f) for %r\" % (mean, std * 2, params))\n",
    "    print()\n",
    "    \n",
    "    print(\"Detailed classification report:\")\n",
    "    print()\n",
    "    print(\"The model is trained on the full development set.\")\n",
    "    print(\"The scores are computed on the full evaluation set.\")\n",
    "    print()\n",
    "    y_true, y_pred = y_test, clf.predict(X_test)\n",
    "    print(classification_report(y_true, y_pred))\n",
    "    print()"
   ]
  },
  {
   "cell_type": "code",
   "execution_count": null,
   "metadata": {},
   "outputs": [],
   "source": [
    "clf.best_estimator_"
   ]
  },
  {
   "cell_type": "code",
   "execution_count": null,
   "metadata": {},
   "outputs": [],
   "source": [
    "fpr, tpr, threshold = roc_curve(gender.values, clf.best_estimator_.predict_proba(td1)[:, 1])\n",
    "fig, ax = plt.subplots()\n",
    "ax.plot(fpr, tpr, '.-', lw=0.5, markersize=12)\n",
    "print(\"AUC:\", auc(fpr, tpr))\n",
    "fig.savefig('random_forrest_all_data_roc_curve.pdf')"
   ]
  },
  {
   "cell_type": "code",
   "execution_count": null,
   "metadata": {},
   "outputs": [],
   "source": [
    "fpr, tpr, threshold = roc_curve(y_train, clf.best_estimator_.predict_proba(X_train)[:, 1])\n",
    "fig, ax = plt.subplots()\n",
    "ax.plot(fpr, tpr, '.-', lw=0.5, markersize=12)\n",
    "print(\"AUC:\", auc(fpr, tpr))\n",
    "fig.savefig('random_forrest_training_data_roc_curve.pdf')"
   ]
  },
  {
   "cell_type": "code",
   "execution_count": null,
   "metadata": {},
   "outputs": [],
   "source": [
    "fpr, tpr, threshold = roc_curve(y_test, clf.best_estimator_.predict_proba(X_test)[:, 1])\n",
    "fig, ax = plt.subplots()\n",
    "ax.plot(fpr, tpr, '.-', lw=0.5, markersize=12)\n",
    "print(\"AUC:\", auc(fpr, tpr))\n",
    "fig.savefig('random_forrest_test_data_roc_curve.pdf')"
   ]
  }
 ],
 "metadata": {
  "kernelspec": {
   "display_name": "Python 3",
   "language": "python",
   "name": "python3"
  },
  "language_info": {
   "codemirror_mode": {
    "name": "ipython",
    "version": 3
   },
   "file_extension": ".py",
   "mimetype": "text/x-python",
   "name": "python",
   "nbconvert_exporter": "python",
   "pygments_lexer": "ipython3",
   "version": "3.6.1"
  }
 },
 "nbformat": 4,
 "nbformat_minor": 2
}