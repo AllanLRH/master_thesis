{
 "cells": [
  {
   "cell_type": "code",
   "execution_count": 1,
   "metadata": {
    "collapsed": true
   },
   "outputs": [],
   "source": [
    "import sys\n",
    "import os\n",
    "sys.path.append(os.path.abspath(\"..\"))\n",
    "\n",
    "from speclib import loaders\n",
    "from speclib import plotting\n",
    "from speclib import graph\n",
    "from speclib import misc\n",
    "from speclib import userActivityFunctions\n",
    "from speclib import modeleval\n",
    "\n",
    "from multiprocessing import Pool\n",
    "\n",
    "import numpy as np\n",
    "import pandas as pd\n",
    "import matplotlib as mpl\n",
    "import matplotlib.pyplot as plt\n",
    "from sklearn import decomposition, preprocessing, linear_model, discriminant_analysis, neighbors\n",
    "from sklearn import metrics, model_selection, svm, ensemble\n",
    "import itertools\n",
    "# from statMlFunctions import *\n",
    "#import seaborn as sns\n",
    "#sns.set(context='paper', style='whitegrid', color_codes=True, font_scale=1.8)\n",
    "#sns.set_palette(sns.color_palette(\"Set1\", n_colors=12, desat=.5))\n",
    "import seaborn as sns\n",
    "sns.set(context='paper', style='whitegrid', color_codes=True, font_scale=1.8)\n",
    "colorcycle = [(0.498, 0.788, 0.498),\n",
    "              (0.745, 0.682, 0.831),\n",
    "              (0.992, 0.753, 0.525),\n",
    "              (0.220, 0.424, 0.690),\n",
    "              (0.749, 0.357, 0.090),\n",
    "              (1.000, 1.000, 0.600),\n",
    "              (0.941, 0.008, 0.498),\n",
    "              (0.400, 0.400, 0.400)]\n",
    "sns.set_palette(colorcycle) \n",
    "\n",
    "%matplotlib inline\n",
    "# sns.set(style=\"white\")\n",
    "# mpl.rcParams['figure.figsize'] = [10, 6]\n",
    "\n",
    "mpl.rcParams['figure.max_open_warning'] = 65\n",
    "\n",
    "# %load_ext watermark\n",
    "# %watermark -a \"Allan Leander Rostock Hansen\" -u -d -v -p numpy,bottleneck,pandas,matplotlib,sklearn,missingno\n",
    "# %watermark  -p networkx,igraph,seaborn,palettable"
   ]
  },
  {
   "cell_type": "code",
   "execution_count": 2,
   "metadata": {},
   "outputs": [
    {
     "name": "stderr",
     "output_type": "stream",
     "text": [
      "/lscr_paper/allan/miniconda3/envs/py36/lib/python3.6/site-packages/sklearn/utils/validation.py:429: DataConversionWarning: Data with input dtype int64 was converted to float64 by the scale function.\n",
      "  warnings.warn(msg, _DataConversionWarning)\n"
     ]
    }
   ],
   "source": [
    "df0 = pd.read_table('RGender.dat', sep=' ').T\n",
    "df1 = df0.drop('gender', axis=1)\n",
    "df1.rename(columns=lambda s: s.replace('bfi_', '').replace('.answer', ''), inplace=True)\n",
    "df1.head() \n",
    "gender = df0.gender\n",
    "nd1 = preprocessing.scale(df1.values) "
   ]
  },
  {
   "cell_type": "code",
   "execution_count": 3,
   "metadata": {
    "collapsed": true
   },
   "outputs": [],
   "source": [
    "pca = decomposition.PCA(svd_solver='full')\n",
    "pca.fit(nd1)\n",
    "td1 = pca.transform(nd1)  # The rotated vector space"
   ]
  },
  {
   "cell_type": "code",
   "execution_count": 14,
   "metadata": {
    "collapsed": true
   },
   "outputs": [],
   "source": [
    "n_splits = 100\n",
    "test_size = 0.3\n",
    "subgrid_points = 20\n",
    "score = 'accuracy'"
   ]
  },
  {
   "cell_type": "markdown",
   "metadata": {},
   "source": [
    "# Raw data"
   ]
  },
  {
   "cell_type": "markdown",
   "metadata": {},
   "source": [
    "## Logistic regression"
   ]
  },
  {
   "cell_type": "code",
   "execution_count": 18,
   "metadata": {},
   "outputs": [
    {
     "name": "stdout",
     "output_type": "stream",
     "text": [
      "[{'C': array([  1.00000000e-03,   1.00000000e-02,   1.00000000e-01,\n",
      "         1.00000000e+00,   1.00000000e+01,   1.00000000e+02,\n",
      "         1.00000000e+03]), 'penalty': ['l1', 'l2']}]\n"
     ]
    }
   ],
   "source": [
    "tuned_parameters = [{'C': 10.0**np.arange(-3, 4), 'penalty': ['l1', 'l2']}]\n",
    "print(tuned_parameters)"
   ]
  },
  {
   "cell_type": "code",
   "execution_count": 19,
   "metadata": {},
   "outputs": [],
   "source": [
    "perf_df, perf_df_sub, perf_eval_df = modeleval.fitAndEvalueateModel(nd1, gender.values,\n",
    "                                                                    linear_model.LogisticRegression(),\n",
    "                                                                    tuned_parameters, score, n_splits,\n",
    "                                                                    test_size, subgrid_points) "
   ]
  },
  {
   "cell_type": "code",
   "execution_count": 20,
   "metadata": {},
   "outputs": [
    {
     "name": "stdout",
     "output_type": "stream",
     "text": [
      "AUC = 0.813 ± 0.028\n",
      "accuracy = 0.820 ± 0.019\n"
     ]
    }
   ],
   "source": [
    "modeleval.summarizePerformanveEval(perf_eval_df, print_only=True)"
   ]
  },
  {
   "cell_type": "markdown",
   "metadata": {},
   "source": [
    "## SVM"
   ]
  },
  {
   "cell_type": "code",
   "execution_count": null,
   "metadata": {
    "collapsed": true
   },
   "outputs": [],
   "source": [
    "tuned_parameters = [{'kernel': ['rbf', 'linear', 'poly'],\n",
    "                     'gamma': np.array([1e-2, 1e-2, 1e-3, 1e-4, 1e-5]),\n",
    "                     'C': np.array([0.01, 0.1, 1, 10, 100, 1000])}]\n",
    "print(tuned_parameters)"
   ]
  },
  {
   "cell_type": "code",
   "execution_count": null,
   "metadata": {
    "scrolled": true
   },
   "outputs": [],
   "source": [
    "model = svm.SVC()\n",
    "X = nd1\n",
    "y = gender.values\n",
    "\n",
    "perf_df = modeleval.gridsearchCrossVal(X, y, model, tuned_parameters, score)\n",
    "best_params = dict(perf_df.loc[perf_df.accuracy.argmax(), 'best_params'])\n",
    "subsearch_params = modeleval.construct_subsearch_tuned_parameters(best_params,\n",
    "                                                                  tuned_parameters,\n",
    "                                                                  n_gridpoints=n_gridpoints)\n",
    "perf_df_sub = modeleval.gridsearchCrossVal(X, y, model, subsearch_params, score)\n",
    "best_params_sub = dict(perf_df.loc[perf_df.accuracy.argmax(), 'best_params'])\n",
    "perf_eval_df = modeleval.stratifiedCrossEval(X, y, model.set_params(**best_params_sub),\n",
    "                                        n_splits=n_splits, test_size=test_size)\n"
   ]
  },
  {
   "cell_type": "code",
   "execution_count": null,
   "metadata": {
    "scrolled": false
   },
   "outputs": [],
   "source": [
    "perf_df, perf_df_sub, perf_eval_df = modeleval.fitAndEvalueateModel(nd1, gender.values,\n",
    "                                                                    svm.SVC(),\n",
    "                                                                    tuned_parameters, score, n_splits,\n",
    "                                                                    test_size, subgrid_points) "
   ]
  },
  {
   "cell_type": "code",
   "execution_count": 22,
   "metadata": {
    "collapsed": true
   },
   "outputs": [],
   "source": [
    "svc = svm.SVC()"
   ]
  },
  {
   "cell_type": "code",
   "execution_count": 25,
   "metadata": {},
   "outputs": [
    {
     "data": {
      "text/plain": [
       "dict_items([('C', 1.0), ('cache_size', 200), ('class_weight', None), ('coef0', 0.0), ('decision_function_shape', None), ('degree', 3), ('gamma', 'auto'), ('kernel', 'rbf'), ('max_iter', -1), ('probability', False), ('random_state', None), ('shrinking', True), ('tol', 0.001), ('verbose', False)])"
      ]
     },
     "execution_count": 25,
     "metadata": {},
     "output_type": "execute_result"
    }
   ],
   "source": [
    "svc.get_params().items()"
   ]
  },
  {
   "cell_type": "code",
   "execution_count": null,
   "metadata": {
    "collapsed": true
   },
   "outputs": [],
   "source": []
  }
 ],
 "metadata": {
  "kernelspec": {
   "display_name": "Python 3",
   "language": "python",
   "name": "python3"
  },
  "language_info": {
   "codemirror_mode": {
    "name": "ipython",
    "version": 3
   },
   "file_extension": ".py",
   "mimetype": "text/x-python",
   "name": "python",
   "nbconvert_exporter": "python",
   "pygments_lexer": "ipython3",
   "version": "3.6.4"
  }
 },
 "nbformat": 4,
 "nbformat_minor": 2
}
