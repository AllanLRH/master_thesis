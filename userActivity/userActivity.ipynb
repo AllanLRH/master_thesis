{
 "cells": [
  {
   "cell_type": "code",
   "execution_count": null,
   "metadata": {
    "collapsed": false
   },
   "outputs": [],
   "source": [
    "import os\n",
    "import sys\n",
    "sys.path.append(os.path.abspath(\"..\"))\n",
    "\n",
    "import pandas as pd\n",
    "import numpy as np\n",
    "import matplotlib as mpl\n",
    "import matplotlib.pyplot as plt\n",
    "mpl.style.use(\"bmh\")\n",
    "%matplotlib inline\n",
    "import missingno as msno\n",
    "\n",
    "from speclib.loaders import loadUser, loadUserPhonenumberDict, getUserList, Useralias, loadUserParallel\n",
    "from speclib.plotting import looseAxesLimits"
   ]
  },
  {
   "cell_type": "code",
   "execution_count": null,
   "metadata": {
    "collapsed": false
   },
   "outputs": [],
   "source": [
    "import datetime\n",
    "def humanReadableTime(event):\n",
    "    return datetime.datetime.fromtimestamp(event[\"timestamp\"]).strftime('%d/%m/%Y %H:%M:%S')"
   ]
  },
  {
   "cell_type": "code",
   "execution_count": null,
   "metadata": {
    "collapsed": false
   },
   "outputs": [],
   "source": [
    "userLst = getUserList() "
   ]
  },
  {
   "cell_type": "code",
   "execution_count": null,
   "metadata": {
    "collapsed": false,
    "scrolled": false
   },
   "outputs": [],
   "source": [
    "useralias = Useralias()\n",
    "userLst = getUserList()\n",
    "userLst = userLst[:10]\n",
    "loadedUserGen = (loadUser(user, dataFilter=(\"call\", \"sms\")) for user in userLst)\n",
    "userCallTimeLst = list()\n",
    "userSmsTimeLst = list()\n",
    "for username, user in zip(userLst, loadedUserGen):\n",
    "    print(useralias[username], end=\"\\t\")\n",
    "    callLst = user[\"call\"]\n",
    "    smsLst = user[\"sms\"]\n",
    "    callInnerLst = list()\n",
    "    smsInnerLst = list()\n",
    "    for event in callLst:\n",
    "        callInnerLst.append(event[\"timestamp\"])\n",
    "    for event in smsLst:\n",
    "        smsInnerLst.append(event[\"timestamp\"])    \n",
    "    callLst.append((useralias[username], callInnerLst))\n",
    "    smsLst.append((useralias[username], smsInnerLst))"
   ]
  },
  {
   "cell_type": "code",
   "execution_count": null,
   "metadata": {
    "collapsed": false
   },
   "outputs": [],
   "source": [
    "user[\"sms\"][0]"
   ]
  },
  {
   "cell_type": "code",
   "execution_count": null,
   "metadata": {
    "collapsed": false
   },
   "outputs": [],
   "source": [
    "user[\"call\"][0]"
   ]
  },
  {
   "cell_type": "code",
   "execution_count": null,
   "metadata": {
    "collapsed": false
   },
   "outputs": [],
   "source": [
    "df = pd.DataFrame.from_items(user[\"call\"])"
   ]
  },
  {
   "cell_type": "code",
   "execution_count": null,
   "metadata": {
    "collapsed": false
   },
   "outputs": [],
   "source": [
    "df.index"
   ]
  },
  {
   "cell_type": "code",
   "execution_count": null,
   "metadata": {
    "collapsed": false
   },
   "outputs": [],
   "source": [
    "def loadUserHandler(userSpec):\n",
    "    if len(userSpec) == 2:\n",
    "        user, alias = userSpec\n",
    "        return (alias, loadUser(user))\n",
    "    else:\n",
    "        user, alias, dataFilter = userSpec\n",
    "        return (alias, loadUser(user, dataFilter=dataFilter)) "
   ]
  },
  {
   "cell_type": "code",
   "execution_count": null,
   "metadata": {
    "collapsed": false
   },
   "outputs": [],
   "source": [
    "useralias = Useralias() "
   ]
  },
  {
   "cell_type": "code",
   "execution_count": null,
   "metadata": {
    "collapsed": false
   },
   "outputs": [],
   "source": [
    "userSpec = [(username, useralias[username], ('call', 'sms')) for username in userLst]\n",
    "for el in userSpec[:10]:\n",
    "    print(el)"
   ]
  },
  {
   "cell_type": "code",
   "execution_count": null,
   "metadata": {
    "collapsed": false
   },
   "outputs": [],
   "source": [
    "from time import time"
   ]
  },
  {
   "cell_type": "code",
   "execution_count": null,
   "metadata": {
    "collapsed": false
   },
   "outputs": [],
   "source": [
    "t0 = time()\n",
    "users = loadUserParallel(userSpec)\n",
    "t1 = time()\n",
    "print(t0 - t1)\n",
    "len(users), type(users)"
   ]
  },
  {
   "cell_type": "code",
   "execution_count": null,
   "metadata": {
    "collapsed": false
   },
   "outputs": [],
   "source": []
  },
  {
   "cell_type": "code",
   "execution_count": null,
   "metadata": {
    "collapsed": false
   },
   "outputs": [],
   "source": []
  },
  {
   "cell_type": "code",
   "execution_count": null,
   "metadata": {
    "collapsed": false
   },
   "outputs": [],
   "source": []
  },
  {
   "cell_type": "code",
   "execution_count": null,
   "metadata": {
    "collapsed": false
   },
   "outputs": [],
   "source": []
  },
  {
   "cell_type": "code",
   "execution_count": null,
   "metadata": {
    "collapsed": false
   },
   "outputs": [],
   "source": []
  }
 ],
 "metadata": {
  "anaconda-cloud": {},
  "kernelspec": {
   "display_name": "Python [conda env:msth]",
   "language": "python",
   "name": "conda-env-msth-py"
  },
  "language_info": {
   "codemirror_mode": {
    "name": "ipython",
    "version": 3
   },
   "file_extension": ".py",
   "mimetype": "text/x-python",
   "name": "python",
   "nbconvert_exporter": "python",
   "pygments_lexer": "ipython3",
   "version": "3.5.2"
  }
 },
 "nbformat": 4,
 "nbformat_minor": 1
}
