{
 "cells": [
  {
   "cell_type": "code",
   "execution_count": null,
   "metadata": {
    "collapsed": false
   },
   "outputs": [],
   "source": [
    "import os\n",
    "import sys\n",
    "sys.path.append(os.path.abspath(\"..\"))\n",
    "\n",
    "import pandas as pd\n",
    "import numpy as np\n",
    "import matplotlib as mpl\n",
    "import matplotlib.pyplot as plt\n",
    "mpl.style.use(\"bmh\")\n",
    "%matplotlib inline\n",
    "import missingno as msno\n",
    "import itertools\n",
    "from multiprocessing import Pool\n",
    "\n",
    "from speclib.loaders import loadUser, loadUserPhonenumberDict, getUserList, Useralias, loadUserParallel\n",
    "from speclib.plotting import looseAxesLimits"
   ]
  },
  {
   "cell_type": "code",
   "execution_count": null,
   "metadata": {
    "collapsed": false
   },
   "outputs": [],
   "source": [
    "userLst = getUserList() "
   ]
  },
  {
   "cell_type": "code",
   "execution_count": null,
   "metadata": {
    "collapsed": false
   },
   "outputs": [],
   "source": [
    "useralias = Useralias() "
   ]
  },
  {
   "cell_type": "code",
   "execution_count": null,
   "metadata": {
    "collapsed": false
   },
   "outputs": [],
   "source": [
    "userSpec = [(username, useralias[username], ('call', 'sms')) for username in userLst]\n",
    "for el in userSpec[:10]:\n",
    "    print(el)"
   ]
  },
  {
   "cell_type": "code",
   "execution_count": null,
   "metadata": {
    "collapsed": false
   },
   "outputs": [],
   "source": [
    "users = loadUserParallel(userSpec, 15) "
   ]
  },
  {
   "cell_type": "code",
   "execution_count": null,
   "metadata": {
    "collapsed": false
   },
   "outputs": [],
   "source": [
    "def dict2DataFrame(dct):\n",
    "    df = pd.DataFrame(dct) \n",
    "    if 'id' in df.columns:\n",
    "        df = df.drop(\"id\", axis=1)\n",
    "    if 'type' in df.columns:\n",
    "        df = df.drop('type', axis=1)\n",
    "    df.timestamp = df.timestamp.astype('datetime64[s]')  # convert Unix integer timestamps to datetime-objects\n",
    "    df.user = df.user.apply(lambda x: useralias[x])  # convert hex-usernames to enumerated usernames\n",
    "    if 'address' in df.columns:\n",
    "        df[\"comtype\"] = \"sms\"  # create the column \"comtype\", set it to \"sms\"\n",
    "        df.rename(columns={'address': 'number'}, inplace=True)\n",
    "    else:\n",
    "        df[\"comtype\"] = \"call\"\n",
    "    df = df.set_index([\"user\", \"comtype\"])  # move columns \"user\" and \"comtype\" to (multi)index\n",
    "    return df"
   ]
  },
  {
   "cell_type": "code",
   "execution_count": null,
   "metadata": {
    "collapsed": false
   },
   "outputs": [],
   "source": [
    "df1c = dict2DataFrame(users[\"u0001\"]['call'])\n",
    "df1s = dict2DataFrame(users[\"u0001\"]['sms'])\n",
    "df2c = dict2DataFrame(users[\"u0002\"]['call'])\n",
    "df2s = dict2DataFrame(users[\"u0002\"]['sms']) "
   ]
  },
  {
   "cell_type": "code",
   "execution_count": null,
   "metadata": {
    "collapsed": false
   },
   "outputs": [],
   "source": [
    "from IPython.display import display\n",
    "display(df1c.columns, df1s.columns)"
   ]
  },
  {
   "cell_type": "code",
   "execution_count": null,
   "metadata": {
    "collapsed": false
   },
   "outputs": [],
   "source": [
    "def users2DataFrame(dct, processes=15):\n",
    "    gen = (comDct for user in dct.values()\n",
    "                      for comDct in user.values() if comDct)\n",
    "    try:\n",
    "        pool = Pool(processes=processes)\n",
    "        call = pool.map_async(dict2DataFrame, gen)\n",
    "        call.wait()\n",
    "        toConcatenate = call.get()\n",
    "    finally:\n",
    "        pool.terminate()\n",
    "    return toConcatenate"
   ]
  },
  {
   "cell_type": "code",
   "execution_count": null,
   "metadata": {
    "collapsed": false,
    "scrolled": false
   },
   "outputs": [],
   "source": [
    "tc = users2DataFrame(users) "
   ]
  },
  {
   "cell_type": "code",
   "execution_count": null,
   "metadata": {
    "collapsed": false
   },
   "outputs": [],
   "source": [
    "df = pd.concat(tc)"
   ]
  },
  {
   "cell_type": "code",
   "execution_count": null,
   "metadata": {
    "collapsed": false,
    "scrolled": false
   },
   "outputs": [],
   "source": [
    "df"
   ]
  },
  {
   "cell_type": "code",
   "execution_count": null,
   "metadata": {
    "collapsed": false
   },
   "outputs": [],
   "source": [
    "idx = df.loc[\"u0645\", \"sms\"].body == \"cc0bf55fbc000c9ffa5ca348a1724744ae704ae0\""
   ]
  },
  {
   "cell_type": "code",
   "execution_count": null,
   "metadata": {
    "collapsed": false
   },
   "outputs": [],
   "source": [
    "df.loc[\"u0645\", \"sms\"][idx]"
   ]
  },
  {
   "cell_type": "code",
   "execution_count": null,
   "metadata": {
    "collapsed": false
   },
   "outputs": [],
   "source": []
  }
 ],
 "metadata": {
  "anaconda-cloud": {},
  "kernelspec": {
   "display_name": "Python [conda env:msth]",
   "language": "python",
   "name": "conda-env-msth-py"
  },
  "language_info": {
   "codemirror_mode": {
    "name": "ipython",
    "version": 3
   },
   "file_extension": ".py",
   "mimetype": "text/x-python",
   "name": "python",
   "nbconvert_exporter": "python",
   "pygments_lexer": "ipython3",
   "version": "3.5.2"
  }
 },
 "nbformat": 4,
 "nbformat_minor": 1
}
