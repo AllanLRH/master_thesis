{
 "cells": [
  {
   "cell_type": "code",
   "execution_count": 20,
   "metadata": {
    "collapsed": true
   },
   "outputs": [],
   "source": [
    "import requests\n",
    "import pandas as pd\n",
    "from IPython.display import display as disp\n",
    "from textwrap import wrap"
   ]
  },
  {
   "cell_type": "code",
   "execution_count": 2,
   "metadata": {
    "collapsed": true
   },
   "outputs": [],
   "source": [
    "url = 'http://igraph.org/python/doc/tutorial/tutorial.html'"
   ]
  },
  {
   "cell_type": "code",
   "execution_count": 10,
   "metadata": {
    "collapsed": true
   },
   "outputs": [],
   "source": [
    "def addFullStop(s):\n",
    "    if s.endswith('.'):\n",
    "        return s\n",
    "    return s + '.'"
   ]
  },
  {
   "cell_type": "code",
   "execution_count": 3,
   "metadata": {
    "collapsed": true
   },
   "outputs": [],
   "source": [
    "html = requests.get(url).text"
   ]
  },
  {
   "cell_type": "code",
   "execution_count": 4,
   "metadata": {
    "collapsed": true
   },
   "outputs": [],
   "source": [
    "wa, ea, pa = pd.read_html(html, 'autocurve|vertex_color')"
   ]
  },
  {
   "cell_type": "code",
   "execution_count": 5,
   "metadata": {
    "collapsed": true
   },
   "outputs": [],
   "source": [
    "wa = wa.drop('Attribute name', axis=1)"
   ]
  },
  {
   "cell_type": "code",
   "execution_count": 6,
   "metadata": {
    "collapsed": true
   },
   "outputs": [],
   "source": [
    "ea = ea.drop('Attribute name', axis=1)"
   ]
  },
  {
   "cell_type": "code",
   "execution_count": 12,
   "metadata": {},
   "outputs": [
    {
     "data": {
      "text/html": [
       "<div>\n",
       "<table border=\"1\" class=\"dataframe\">\n",
       "  <thead>\n",
       "    <tr style=\"text-align: right;\">\n",
       "      <th></th>\n",
       "      <th>Keyword argument</th>\n",
       "      <th>Purpose</th>\n",
       "    </tr>\n",
       "  </thead>\n",
       "  <tbody>\n",
       "    <tr>\n",
       "      <th>0</th>\n",
       "      <td>edge_color</td>\n",
       "      <td>Color of the edge</td>\n",
       "    </tr>\n",
       "    <tr>\n",
       "      <th>1</th>\n",
       "      <td>edge_curved</td>\n",
       "      <td>The curvature of the edge. Positive values cor...</td>\n",
       "    </tr>\n",
       "    <tr>\n",
       "      <th>2</th>\n",
       "      <td>edge_arrow_size</td>\n",
       "      <td>Size (length) of the arrowhead on the edge if ...</td>\n",
       "    </tr>\n",
       "    <tr>\n",
       "      <th>3</th>\n",
       "      <td>edge_arrow_width</td>\n",
       "      <td>Width of the arrowhead on the edge if the grap...</td>\n",
       "    </tr>\n",
       "    <tr>\n",
       "      <th>4</th>\n",
       "      <td>edge_width</td>\n",
       "      <td>Width of the edge in pixels</td>\n",
       "    </tr>\n",
       "  </tbody>\n",
       "</table>\n",
       "</div>"
      ],
      "text/plain": [
       "   Keyword argument                                            Purpose\n",
       "0        edge_color                                  Color of the edge\n",
       "1       edge_curved  The curvature of the edge. Positive values cor...\n",
       "2   edge_arrow_size  Size (length) of the arrowhead on the edge if ...\n",
       "3  edge_arrow_width  Width of the arrowhead on the edge if the grap...\n",
       "4        edge_width                        Width of the edge in pixels"
      ]
     },
     "execution_count": 12,
     "metadata": {},
     "output_type": "execute_result"
    }
   ],
   "source": [
    "ea.head() "
   ]
  },
  {
   "cell_type": "code",
   "execution_count": 13,
   "metadata": {
    "collapsed": true
   },
   "outputs": [],
   "source": [
    "ea['Purpose'] = ea.Purpose.map(addFullStop)"
   ]
  },
  {
   "cell_type": "code",
   "execution_count": 14,
   "metadata": {},
   "outputs": [
    {
     "data": {
      "text/html": [
       "<div>\n",
       "<table border=\"1\" class=\"dataframe\">\n",
       "  <thead>\n",
       "    <tr style=\"text-align: right;\">\n",
       "      <th></th>\n",
       "      <th>Keyword argument</th>\n",
       "      <th>Purpose</th>\n",
       "    </tr>\n",
       "  </thead>\n",
       "  <tbody>\n",
       "    <tr>\n",
       "      <th>0</th>\n",
       "      <td>edge_color</td>\n",
       "      <td>Color of the edge.</td>\n",
       "    </tr>\n",
       "    <tr>\n",
       "      <th>1</th>\n",
       "      <td>edge_curved</td>\n",
       "      <td>The curvature of the edge. Positive values cor...</td>\n",
       "    </tr>\n",
       "    <tr>\n",
       "      <th>2</th>\n",
       "      <td>edge_arrow_size</td>\n",
       "      <td>Size (length) of the arrowhead on the edge if ...</td>\n",
       "    </tr>\n",
       "    <tr>\n",
       "      <th>3</th>\n",
       "      <td>edge_arrow_width</td>\n",
       "      <td>Width of the arrowhead on the edge if the grap...</td>\n",
       "    </tr>\n",
       "    <tr>\n",
       "      <th>4</th>\n",
       "      <td>edge_width</td>\n",
       "      <td>Width of the edge in pixels.</td>\n",
       "    </tr>\n",
       "  </tbody>\n",
       "</table>\n",
       "</div>"
      ],
      "text/plain": [
       "   Keyword argument                                            Purpose\n",
       "0        edge_color                                 Color of the edge.\n",
       "1       edge_curved  The curvature of the edge. Positive values cor...\n",
       "2   edge_arrow_size  Size (length) of the arrowhead on the edge if ...\n",
       "3  edge_arrow_width  Width of the arrowhead on the edge if the grap...\n",
       "4        edge_width                       Width of the edge in pixels."
      ]
     },
     "execution_count": 14,
     "metadata": {},
     "output_type": "execute_result"
    }
   ],
   "source": [
    "ea.head() "
   ]
  },
  {
   "cell_type": "code",
   "execution_count": 15,
   "metadata": {
    "collapsed": true
   },
   "outputs": [],
   "source": [
    "wa['Purpose'] = wa.Purpose.map(addFullStop)"
   ]
  },
  {
   "cell_type": "code",
   "execution_count": 16,
   "metadata": {
    "collapsed": true
   },
   "outputs": [],
   "source": [
    "pa['Purpose'] = pa.Purpose.map(addFullStop)"
   ]
  },
  {
   "cell_type": "code",
   "execution_count": 51,
   "metadata": {},
   "outputs": [],
   "source": [
    "def pr(row):\n",
    "    toPrint = [row.values[0]]\n",
    "    toPrint.append('\\n'.join(['\\t' + ln for ln in wrap(row.values[1], 80)]))\n",
    "    print(*toPrint, sep=':\\n', end='\\n')"
   ]
  },
  {
   "cell_type": "code",
   "execution_count": 52,
   "metadata": {
    "collapsed": true
   },
   "outputs": [],
   "source": [
    "def pd(df):\n",
    "    for i in range(df.shape[0]):\n",
    "        pr(df.iloc[i])"
   ]
  },
  {
   "cell_type": "code",
   "execution_count": 53,
   "metadata": {},
   "outputs": [
    {
     "name": "stdout",
     "output_type": "stream",
     "text": [
      "\n",
      "Node (vertice) related attributes\n",
      "---------------------------------\n",
      "vertex_color:\n",
      "\tColor of the vertex.\n",
      "vertex_label:\n",
      "\tLabel of the vertex.\n",
      "vertex_label_angle:\n",
      "\tThe placement of the vertex label on the circle around the vertex. This is an\n",
      "\tangle in radians, with zero belonging to the right side of the vertex.\n",
      "vertex_label_color:\n",
      "\tColor of the vertex label.\n",
      "vertex_label_dist:\n",
      "\tDistance of the vertex label from the vertex itself, relative to the vertex\n",
      "\tsize.\n",
      "vertex_label_size:\n",
      "\tFont size of the vertex label.\n",
      "vertex_order:\n",
      "\tDrawing order of the vertices. Vertices with a smaller order parameter will be\n",
      "\tdrawn first.\n",
      "vertex_shape:\n",
      "\tShape of the vertex. Known shapes are: rectangle, circle, hidden, triangle-up,\n",
      "\ttriangle-down. Several aliases are also accepted, see drawing.known_shapes.\n",
      "vertex_size:\n",
      "\tSize of the vertex in pixels.\n",
      "\n",
      "Edge related attributes\n",
      "-----------------------\n",
      "edge_color:\n",
      "\tColor of the edge.\n",
      "edge_curved:\n",
      "\tThe curvature of the edge. Positive values correspond to edges curved in CCW\n",
      "\tdirection, negative numbers correspond to edges curved in clockwise (CW)\n",
      "\tdirection. Zero represents straight edges. True is interpreted as 0.5, False is\n",
      "\tinterpreted as zero. This is useful to make multiple edges visible. See also the\n",
      "\tautocurve keyword argument to plot().\n",
      "edge_arrow_size:\n",
      "\tSize (length) of the arrowhead on the edge if the graph is directed, relative to\n",
      "\t15 pixels.\n",
      "edge_arrow_width:\n",
      "\tWidth of the arrowhead on the edge if the graph is directed, relative to 10\n",
      "\tpixels.\n",
      "edge_width:\n",
      "\tWidth of the edge in pixels.\n",
      "\n",
      "Plot related attributes\n",
      "-----------------------\n",
      "autocurve:\n",
      "\tWhether to determine the curvature of the edges automatically in graphs with\n",
      "\tmultiple edges. The default is True for graphs with less than 10.000 edges and\n",
      "\tFalse otherwise.\n",
      "bbox:\n",
      "\tThe bounding box of the plot. This must be a tuple containing the desired width\n",
      "\tand height of the plot. The default plot is 600 pixels wide and 600 pixels high.\n",
      "layout:\n",
      "\tThe layout to be used. It can be an instance of Layout, a list of tuples\n",
      "\tcontaining X-Y coordinates, or the name of a layout algorithm. The default is\n",
      "\tauto, which selects a layout algorithm automatically based on the size and\n",
      "\tconnectedness of the graph.\n",
      "margin:\n",
      "\tThe top, right, bottom and left margins of the plot in pixels. This argument\n",
      "\tmust be a list or tuple and its elements will be re-used if you specify a list\n",
      "\tor tuple with less than four elements.\n"
     ]
    }
   ],
   "source": [
    "print('\\nNode (vertice) related attributes')\n",
    "print('---------------------------------')\n",
    "pd(wa)\n",
    "print('\\nEdge related attributes')\n",
    "print('-----------------------')\n",
    "pd(ea)\n",
    "print('\\nPlot related attributes')\n",
    "print('-----------------------')\n",
    "pd(pa)"
   ]
  },
  {
   "cell_type": "code",
   "execution_count": null,
   "metadata": {
    "collapsed": true
   },
   "outputs": [],
   "source": []
  },
  {
   "cell_type": "code",
   "execution_count": null,
   "metadata": {
    "collapsed": true
   },
   "outputs": [],
   "source": []
  }
 ],
 "metadata": {
  "kernelspec": {
   "display_name": "Python 3",
   "language": "python",
   "name": "python3"
  },
  "language_info": {
   "codemirror_mode": {
    "name": "ipython",
    "version": 3
   },
   "file_extension": ".py",
   "mimetype": "text/x-python",
   "name": "python",
   "nbconvert_exporter": "python",
   "pygments_lexer": "ipython3",
   "version": "3.6.1"
  }
 },
 "nbformat": 4,
 "nbformat_minor": 2
}
