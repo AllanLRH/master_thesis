{
 "cells": [
  {
   "cell_type": "code",
   "execution_count": 1,
   "metadata": {},
   "outputs": [],
   "source": [
    "%matplotlib inline"
   ]
  },
  {
   "cell_type": "markdown",
   "metadata": {},
   "source": [
    "\n",
    "=============================================================================\n",
    " t-SNE: The effect of various perplexity values on the shape\n",
    "=============================================================================\n",
    "\n",
    "An illustration of t-SNE on the two concentric circles and the S-curve\n",
    "datasets for different perplexity values.\n",
    "\n",
    "We observe a tendency towards clearer shapes as the preplexity value increases.\n",
    "\n",
    "The size, the distance and the shape of clusters may vary upon initialization,\n",
    "perplexity values and does not always convey a meaning.\n",
    "\n",
    "As shown below, t-SNE for higher perplexities finds meaningful topology of\n",
    "two concentric circles, however the size and the distance of the circles varies\n",
    "slightly from the original. Contrary to the two circles dataset, the shapes\n",
    "visually diverge from S-curve topology on the S-curve dataset even for\n",
    "larger perplexity values.\n",
    "\n",
    "For further details, \"How to Use t-SNE Effectively\"\n",
    "http://distill.pub/2016/misread-tsne/ provides a good discussion of the\n",
    "effects of various parameters, as well as interactive plots to explore\n",
    "those effects.\n",
    "\n"
   ]
  },
  {
   "cell_type": "code",
   "execution_count": 2,
   "metadata": {},
   "outputs": [
    {
     "name": "stdout",
     "output_type": "stream",
     "text": [
      "Automatically created module for IPython interactive environment\n"
     ]
    },
    {
     "data": {
      "image/png": "[encoded data removed]",
      "text/plain": [
       "<Figure size 1080x576 with 15 Axes>"
      ]
     },
     "metadata": {},
     "output_type": "display_data"
    }
   ],
   "source": [
    "# Author: Narine Kokhlikyan <narine@slice.com>\n",
    "# License: BSD\n",
    "\n",
    "print(__doc__)\n",
    "\n",
    "import numpy as np\n",
    "import matplotlib.pyplot as plt\n",
    "\n",
    "from matplotlib.ticker import NullFormatter\n",
    "from sklearn import manifold, datasets\n",
    "from time import time\n",
    "\n",
    "n_samples = 300\n",
    "n_components = 2\n",
    "(fig, subplots) = plt.subplots(3, 5, figsize=(15, 8))\n",
    "perplexities = [5, 30, 50, 100]\n",
    "\n",
    "X, y = datasets.make_circles(n_samples=n_samples, factor=.5, noise=.05)\n",
    "\n",
    "red = y == 0\n",
    "green = y == 1"
   ]
  },
  {
   "cell_type": "code",
   "execution_count": 3,
   "metadata": {},
   "outputs": [
    {
     "name": "stdout",
     "output_type": "stream",
     "text": [
      "circles, perplexity=5 in 2.8 sec\n",
      "circles, perplexity=30 in 4 sec\n",
      "circles, perplexity=50 in 4.9 sec\n",
      "circles, perplexity=100 in 6.3 sec\n"
     ]
    },
    {
     "data": {
      "image/png": "[encoded data removed]",
      "text/plain": [
       "<Figure size 432x288 with 1 Axes>"
      ]
     },
     "metadata": {},
     "output_type": "display_data"
    }
   ],
   "source": [
    "ax = subplots[0][0]\n",
    "ax.scatter(X[red, 0], X[red, 1], c=\"r\")\n",
    "ax.scatter(X[green, 0], X[green, 1], c=\"g\")\n",
    "ax.xaxis.set_major_formatter(NullFormatter())\n",
    "ax.yaxis.set_major_formatter(NullFormatter())\n",
    "plt.axis('tight')\n",
    "\n",
    "for i, perplexity in enumerate(perplexities):\n",
    "    ax = subplots[0][i + 1]\n",
    "\n",
    "    t0 = time()\n",
    "    tsne = manifold.TSNE(n_components=n_components, init='random', random_state=0, perplexity=perplexity)\n",
    "    Y = tsne.fit_transform(X)\n",
    "    t1 = time()\n",
    "    print(\"circles, perplexity=%d in %.2g sec\" % (perplexity, t1 - t0))\n",
    "    ax.set_title(\"Perplexity=%d\" % perplexity)\n",
    "    ax.scatter(Y[red, 0], Y[red, 1], c=\"r\")\n",
    "    ax.scatter(Y[green, 0], Y[green, 1], c=\"g\")\n",
    "    ax.xaxis.set_major_formatter(NullFormatter())\n",
    "    ax.yaxis.set_major_formatter(NullFormatter())\n",
    "    ax.axis('tight')"
   ]
  },
  {
   "cell_type": "code",
   "execution_count": 4,
   "metadata": {},
   "outputs": [
    {
     "name": "stdout",
     "output_type": "stream",
     "text": [
      "S-curve, perplexity=5 in 2.8 sec\n",
      "S-curve, perplexity=30 in 4.6 sec\n",
      "S-curve, perplexity=50 in 5.3 sec\n",
      "S-curve, perplexity=100 in 6.2 sec\n"
     ]
    }
   ],
   "source": [
    "# Another example using s-curve\n",
    "X, color = datasets.samples_generator.make_s_curve(n_samples, random_state=0)\n",
    "\n",
    "ax = subplots[1][0]\n",
    "ax.scatter(X[:, 0], X[:, 2], c=color, cmap=plt.cm.viridis)\n",
    "ax.xaxis.set_major_formatter(NullFormatter())\n",
    "ax.yaxis.set_major_formatter(NullFormatter())\n",
    "\n",
    "for i, perplexity in enumerate(perplexities):\n",
    "    ax = subplots[1][i + 1]\n",
    "\n",
    "    t0 = time()\n",
    "    tsne = manifold.TSNE(n_components=n_components, init='random', random_state=0, perplexity=perplexity)\n",
    "    Y = tsne.fit_transform(X)\n",
    "    t1 = time()\n",
    "    print(\"S-curve, perplexity=%d in %.2g sec\" % (perplexity, t1 - t0))\n",
    "\n",
    "    ax.set_title(\"Perplexity=%d\" % perplexity)\n",
    "    ax.scatter(Y[:, 0], Y[:, 1], c=color, cmap=plt.cm.viridis)\n",
    "    ax.xaxis.set_major_formatter(NullFormatter())\n",
    "    ax.yaxis.set_major_formatter(NullFormatter())\n",
    "    ax.axis('tight')"
   ]
  },
  {
   "cell_type": "code",
   "execution_count": 5,
   "metadata": {},
   "outputs": [
    {
     "name": "stdout",
     "output_type": "stream",
     "text": [
      "uniform grid, perplexity=5 in 2.7 sec\n",
      "uniform grid, perplexity=30 in 4.5 sec\n",
      "uniform grid, perplexity=50 in 6 sec\n",
      "uniform grid, perplexity=100 in 8 sec\n"
     ]
    }
   ],
   "source": [
    "# Another example using a 2D uniform grid\n",
    "x      = np.linspace(0, 1, int(np.sqrt(n_samples)))\n",
    "xx, yy = np.meshgrid(x, x)\n",
    "X      = np.hstack([xx.ravel().reshape(-1, 1), yy.ravel().reshape(-1, 1)])\n",
    "color  = xx.ravel()\n",
    "ax     = subplots[2][0]\n",
    "ax.scatter(X[:, 0], X[:, 1], c=color, cmap=plt.cm.viridis)\n",
    "ax.xaxis.set_major_formatter(NullFormatter())\n",
    "ax.yaxis.set_major_formatter(NullFormatter())\n",
    "\n",
    "for i, perplexity in enumerate(perplexities):\n",
    "    ax   = subplots[2][i + 1]\n",
    "\n",
    "    t0   = time()\n",
    "    tsne = manifold.TSNE(n_components=n_components, init='random', random_state=0, perplexity=perplexity)\n",
    "    Y    = tsne.fit_transform(X)\n",
    "    t1   = time()\n",
    "    print(\"uniform grid, perplexity=%d in %.2g sec\" % (perplexity, t1 - t0))\n",
    "\n",
    "    ax.set_title(\"Perplexity=%d\" % perplexity)\n",
    "    ax.scatter(Y[:, 0], Y[:, 1], c=color, cmap=plt.cm.viridis)\n",
    "    ax.xaxis.set_major_formatter(NullFormatter())\n",
    "    ax.yaxis.set_major_formatter(NullFormatter())\n",
    "    ax.axis('tight')\n",
    "\n",
    "\n",
    "plt.show()"
   ]
  }
 ],
 "metadata": {
  "kernelspec": {
   "display_name": "Python 3",
   "language": "python",
   "name": "python3"
  },
  "language_info": {
   "codemirror_mode": {
    "name": "ipython",
    "version": 3
   },
   "file_extension": ".py",
   "mimetype": "text/x-python",
   "name": "python",
   "nbconvert_exporter": "python",
   "pygments_lexer": "ipython3",
   "version": "3.6.4"
  }
 },
 "nbformat": 4,
 "nbformat_minor": 1
}
