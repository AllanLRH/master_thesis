{
 "cells": [
  {
   "cell_type": "markdown",
   "metadata": {},
   "source": [
    "From this example: http://scikit-learn.org/stable/auto_examples/model_selection/plot_grid_search_digits.html"
   ]
  },
  {
   "cell_type": "code",
   "execution_count": 1,
   "metadata": {},
   "outputs": [
    {
     "name": "stdout",
     "output_type": "stream",
     "text": [
      "Automatically created module for IPython interactive environment\n",
      "# Tuning hyper-parameters for precision\n",
      "\n",
      "Best parameters set found on development set:\n",
      "\n",
      "{'C': 10, 'gamma': 0.001, 'kernel': 'rbf'}\n",
      "\n",
      "Grid scores on development set:\n",
      "\n",
      "0.986 (+/-0.016) for {'C': 1, 'gamma': 0.001, 'kernel': 'rbf'}\n",
      "0.959 (+/-0.029) for {'C': 1, 'gamma': 0.0001, 'kernel': 'rbf'}\n",
      "0.988 (+/-0.017) for {'C': 10, 'gamma': 0.001, 'kernel': 'rbf'}\n",
      "0.982 (+/-0.026) for {'C': 10, 'gamma': 0.0001, 'kernel': 'rbf'}\n",
      "0.988 (+/-0.017) for {'C': 100, 'gamma': 0.001, 'kernel': 'rbf'}\n",
      "0.982 (+/-0.025) for {'C': 100, 'gamma': 0.0001, 'kernel': 'rbf'}\n",
      "0.988 (+/-0.017) for {'C': 1000, 'gamma': 0.001, 'kernel': 'rbf'}\n",
      "0.982 (+/-0.025) for {'C': 1000, 'gamma': 0.0001, 'kernel': 'rbf'}\n",
      "0.975 (+/-0.014) for {'C': 1, 'kernel': 'linear'}\n",
      "0.975 (+/-0.014) for {'C': 10, 'kernel': 'linear'}\n",
      "0.975 (+/-0.014) for {'C': 100, 'kernel': 'linear'}\n",
      "0.975 (+/-0.014) for {'C': 1000, 'kernel': 'linear'}\n",
      "\n",
      "Detailed classification report:\n",
      "\n",
      "The model is trained on the full development set.\n",
      "The scores are computed on the full evaluation set.\n",
      "\n",
      "             precision    recall  f1-score   support\n",
      "\n",
      "          0       1.00      1.00      1.00        89\n",
      "          1       0.97      1.00      0.98        90\n",
      "          2       0.99      0.98      0.98        92\n",
      "          3       1.00      0.99      0.99        93\n",
      "          4       1.00      1.00      1.00        76\n",
      "          5       0.99      0.98      0.99       108\n",
      "          6       0.99      1.00      0.99        89\n",
      "          7       0.99      1.00      0.99        78\n",
      "          8       1.00      0.98      0.99        92\n",
      "          9       0.99      0.99      0.99        92\n",
      "\n",
      "avg / total       0.99      0.99      0.99       899\n",
      "\n",
      "\n",
      "# Tuning hyper-parameters for recall\n",
      "\n",
      "Best parameters set found on development set:\n",
      "\n",
      "{'C': 10, 'gamma': 0.001, 'kernel': 'rbf'}\n",
      "\n",
      "Grid scores on development set:\n",
      "\n",
      "0.986 (+/-0.019) for {'C': 1, 'gamma': 0.001, 'kernel': 'rbf'}\n",
      "0.957 (+/-0.029) for {'C': 1, 'gamma': 0.0001, 'kernel': 'rbf'}\n",
      "0.987 (+/-0.019) for {'C': 10, 'gamma': 0.001, 'kernel': 'rbf'}\n",
      "0.981 (+/-0.028) for {'C': 10, 'gamma': 0.0001, 'kernel': 'rbf'}\n",
      "0.987 (+/-0.019) for {'C': 100, 'gamma': 0.001, 'kernel': 'rbf'}\n",
      "0.981 (+/-0.026) for {'C': 100, 'gamma': 0.0001, 'kernel': 'rbf'}\n",
      "0.987 (+/-0.019) for {'C': 1000, 'gamma': 0.001, 'kernel': 'rbf'}\n",
      "0.981 (+/-0.026) for {'C': 1000, 'gamma': 0.0001, 'kernel': 'rbf'}\n",
      "0.972 (+/-0.012) for {'C': 1, 'kernel': 'linear'}\n",
      "0.972 (+/-0.012) for {'C': 10, 'kernel': 'linear'}\n",
      "0.972 (+/-0.012) for {'C': 100, 'kernel': 'linear'}\n",
      "0.972 (+/-0.012) for {'C': 1000, 'kernel': 'linear'}\n",
      "\n",
      "Detailed classification report:\n",
      "\n",
      "The model is trained on the full development set.\n",
      "The scores are computed on the full evaluation set.\n",
      "\n",
      "             precision    recall  f1-score   support\n",
      "\n",
      "          0       1.00      1.00      1.00        89\n",
      "          1       0.97      1.00      0.98        90\n",
      "          2       0.99      0.98      0.98        92\n",
      "          3       1.00      0.99      0.99        93\n",
      "          4       1.00      1.00      1.00        76\n",
      "          5       0.99      0.98      0.99       108\n",
      "          6       0.99      1.00      0.99        89\n",
      "          7       0.99      1.00      0.99        78\n",
      "          8       1.00      0.98      0.99        92\n",
      "          9       0.99      0.99      0.99        92\n",
      "\n",
      "avg / total       0.99      0.99      0.99       899\n",
      "\n",
      "\n"
     ]
    }
   ],
   "source": [
    "from sklearn import datasets\n",
    "from sklearn.model_selection import train_test_split\n",
    "from sklearn.model_selection import GridSearchCV\n",
    "from sklearn.metrics import classification_report\n",
    "from sklearn.svm import SVC\n",
    "\n",
    "print(__doc__)\n",
    "\n",
    "# Loading the Digits dataset\n",
    "digits = datasets.load_digits()\n",
    "\n",
    "# To apply an classifier on this data, we need to flatten the image, to\n",
    "# turn the data in a (samples, feature) matrix:\n",
    "n_samples = len(digits.images)\n",
    "X = digits.images.reshape((n_samples, -1))\n",
    "y = digits.target\n",
    "\n",
    "# Split the dataset in two equal parts\n",
    "X_train, X_test, y_train, y_test = train_test_split(\n",
    "    X, y, test_size=0.5, random_state=0)\n",
    "\n",
    "# Set the parameters by cross-validation\n",
    "tuned_parameters = [{'kernel': ['rbf'], 'gamma': [1e-3, 1e-4],\n",
    "                     'C': [1, 10, 100, 1000]},\n",
    "                    {'kernel': ['linear'], 'C': [1, 10, 100, 1000]}]\n",
    "\n",
    "scores = ['precision', 'recall']\n",
    "\n",
    "for score in scores:\n",
    "    print(\"# Tuning hyper-parameters for %s\" % score)\n",
    "    print()\n",
    "\n",
    "    clf = GridSearchCV(SVC(), tuned_parameters, cv=5,\n",
    "                       scoring='%s_macro' % score, n_jobs=32)\n",
    "    clf.fit(X_train, y_train)\n",
    "\n",
    "    print(\"Best parameters set found on development set:\")\n",
    "    print()\n",
    "    print(clf.best_params_)\n",
    "    print()\n",
    "    print(\"Grid scores on development set:\")\n",
    "    print()\n",
    "    means = clf.cv_results_['mean_test_score']\n",
    "    stds = clf.cv_results_['std_test_score']\n",
    "    for mean, std, params in zip(means, stds, clf.cv_results_['params']):\n",
    "        print(\"%0.3f (+/-%0.03f) for %r\"\n",
    "              % (mean, std * 2, params))\n",
    "    print()\n",
    "\n",
    "    print(\"Detailed classification report:\")\n",
    "    print()\n",
    "    print(\"The model is trained on the full development set.\")\n",
    "    print(\"The scores are computed on the full evaluation set.\")\n",
    "    print()\n",
    "    y_true, y_pred = y_test, clf.predict(X_test)\n",
    "    print(classification_report(y_true, y_pred))\n",
    "    print()\n",
    "\n",
    "# Note the problem is too easy: the hyperparameter plateau is too flat and the\n",
    "# output model is the same for precision and recall with ties in quality."
   ]
  },
  {
   "cell_type": "code",
   "execution_count": 2,
   "metadata": {},
   "outputs": [
    {
     "name": "stdout",
     "output_type": "stream",
     "text": [
      "best_estimator_\n",
      "best_index_\n",
      "best_params_\n",
      "best_score_\n",
      "cv\n",
      "cv_results_\n",
      "decision_function\n",
      "error_score\n",
      "estimator\n",
      "fit\n",
      "fit_params\n",
      "get_params\n",
      "grid_scores_\n",
      "iid\n",
      "inverse_transform\n",
      "n_jobs\n",
      "n_splits_\n",
      "param_grid\n",
      "pre_dispatch\n",
      "predict\n",
      "predict_log_proba\n",
      "predict_proba\n",
      "refit\n",
      "return_train_score\n",
      "score\n",
      "scorer_\n",
      "scoring\n",
      "set_params\n",
      "transform\n",
      "verbose\n"
     ]
    }
   ],
   "source": [
    "print(*[el for el in dir(clf) if not el.startswith('_')], sep='\\n')"
   ]
  },
  {
   "cell_type": "code",
   "execution_count": 3,
   "metadata": {},
   "outputs": [
    {
     "data": {
      "text/plain": [
       "SVC(C=10, cache_size=200, class_weight=None, coef0=0.0,\n",
       "  decision_function_shape=None, degree=3, gamma=0.001, kernel='rbf',\n",
       "  max_iter=-1, probability=False, random_state=None, shrinking=True,\n",
       "  tol=0.001, verbose=False)"
      ]
     },
     "execution_count": 3,
     "metadata": {},
     "output_type": "execute_result"
    }
   ],
   "source": [
    "clf.best_estimator_"
   ]
  },
  {
   "cell_type": "code",
   "execution_count": 4,
   "metadata": {},
   "outputs": [
    {
     "data": {
      "text/plain": [
       "{'C': 10, 'gamma': 0.001, 'kernel': 'rbf'}"
      ]
     },
     "execution_count": 4,
     "metadata": {},
     "output_type": "execute_result"
    }
   ],
   "source": [
    "clf.best_params_"
   ]
  },
  {
   "cell_type": "code",
   "execution_count": 5,
   "metadata": {},
   "outputs": [
    {
     "data": {
      "text/plain": [
       "0.98666743650142419"
      ]
     },
     "execution_count": 5,
     "metadata": {},
     "output_type": "execute_result"
    }
   ],
   "source": [
    "clf.best_score_"
   ]
  },
  {
   "cell_type": "code",
   "execution_count": 6,
   "metadata": {},
   "outputs": [
    {
     "data": {
      "text/plain": [
       "2"
      ]
     },
     "execution_count": 6,
     "metadata": {},
     "output_type": "execute_result"
    }
   ],
   "source": [
    "clf.best_index_"
   ]
  },
  {
   "cell_type": "code",
   "execution_count": 7,
   "metadata": {
    "collapsed": true
   },
   "outputs": [],
   "source": [
    "import pandas as pd\n",
    "import numpy as np\n",
    "import matplotlib as mpl\n",
    "import matplotlib.pyplot as plt\n",
    "%matplotlib inline"
   ]
  },
  {
   "cell_type": "code",
   "execution_count": 8,
   "metadata": {},
   "outputs": [
    {
     "data": {
      "text/html": [
       "<div>\n",
       "<table border=\"1\" class=\"dataframe\">\n",
       "  <thead>\n",
       "    <tr style=\"text-align: right;\">\n",
       "      <th></th>\n",
       "      <th>mean_fit_time</th>\n",
       "      <th>mean_score_time</th>\n",
       "      <th>mean_test_score</th>\n",
       "      <th>mean_train_score</th>\n",
       "      <th>param_C</th>\n",
       "      <th>param_gamma</th>\n",
       "      <th>param_kernel</th>\n",
       "      <th>params</th>\n",
       "      <th>rank_test_score</th>\n",
       "      <th>split0_test_score</th>\n",
       "      <th>...</th>\n",
       "      <th>split2_test_score</th>\n",
       "      <th>split2_train_score</th>\n",
       "      <th>split3_test_score</th>\n",
       "      <th>split3_train_score</th>\n",
       "      <th>split4_test_score</th>\n",
       "      <th>split4_train_score</th>\n",
       "      <th>std_fit_time</th>\n",
       "      <th>std_score_time</th>\n",
       "      <th>std_test_score</th>\n",
       "      <th>std_train_score</th>\n",
       "    </tr>\n",
       "  </thead>\n",
       "  <tbody>\n",
       "    <tr>\n",
       "      <th>0</th>\n",
       "      <td>0.098378</td>\n",
       "      <td>0.026062</td>\n",
       "      <td>0.985638</td>\n",
       "      <td>0.998865</td>\n",
       "      <td>1</td>\n",
       "      <td>0.001</td>\n",
       "      <td>rbf</td>\n",
       "      <td>{'C': 1, 'gamma': 0.001, 'kernel': 'rbf'}</td>\n",
       "      <td>4</td>\n",
       "      <td>0.994737</td>\n",
       "      <td>...</td>\n",
       "      <td>0.968254</td>\n",
       "      <td>0.998571</td>\n",
       "      <td>0.982868</td>\n",
       "      <td>0.998592</td>\n",
       "      <td>0.994444</td>\n",
       "      <td>0.998592</td>\n",
       "      <td>0.006703</td>\n",
       "      <td>0.005756</td>\n",
       "      <td>0.009734</td>\n",
       "      <td>0.000567</td>\n",
       "    </tr>\n",
       "    <tr>\n",
       "      <th>1</th>\n",
       "      <td>0.097128</td>\n",
       "      <td>0.027311</td>\n",
       "      <td>0.956672</td>\n",
       "      <td>0.966826</td>\n",
       "      <td>1</td>\n",
       "      <td>0.0001</td>\n",
       "      <td>rbf</td>\n",
       "      <td>{'C': 1, 'gamma': 0.0001, 'kernel': 'rbf'}</td>\n",
       "      <td>12</td>\n",
       "      <td>0.978036</td>\n",
       "      <td>...</td>\n",
       "      <td>0.944643</td>\n",
       "      <td>0.962256</td>\n",
       "      <td>0.936569</td>\n",
       "      <td>0.977341</td>\n",
       "      <td>0.964257</td>\n",
       "      <td>0.967236</td>\n",
       "      <td>0.016530</td>\n",
       "      <td>0.000867</td>\n",
       "      <td>0.014652</td>\n",
       "      <td>0.005524</td>\n",
       "    </tr>\n",
       "    <tr>\n",
       "      <th>2</th>\n",
       "      <td>0.150833</td>\n",
       "      <td>0.021110</td>\n",
       "      <td>0.986667</td>\n",
       "      <td>1.000000</td>\n",
       "      <td>10</td>\n",
       "      <td>0.001</td>\n",
       "      <td>rbf</td>\n",
       "      <td>{'C': 10, 'gamma': 0.001, 'kernel': 'rbf'}</td>\n",
       "      <td>1</td>\n",
       "      <td>0.994737</td>\n",
       "      <td>...</td>\n",
       "      <td>0.968254</td>\n",
       "      <td>1.000000</td>\n",
       "      <td>0.988750</td>\n",
       "      <td>1.000000</td>\n",
       "      <td>0.993750</td>\n",
       "      <td>1.000000</td>\n",
       "      <td>0.032920</td>\n",
       "      <td>0.002770</td>\n",
       "      <td>0.009581</td>\n",
       "      <td>0.000000</td>\n",
       "    </tr>\n",
       "    <tr>\n",
       "      <th>3</th>\n",
       "      <td>0.064166</td>\n",
       "      <td>0.016970</td>\n",
       "      <td>0.980697</td>\n",
       "      <td>0.997969</td>\n",
       "      <td>10</td>\n",
       "      <td>0.0001</td>\n",
       "      <td>rbf</td>\n",
       "      <td>{'C': 10, 'gamma': 0.0001, 'kernel': 'rbf'}</td>\n",
       "      <td>7</td>\n",
       "      <td>0.994118</td>\n",
       "      <td>...</td>\n",
       "      <td>0.962698</td>\n",
       "      <td>0.997056</td>\n",
       "      <td>0.970368</td>\n",
       "      <td>0.998592</td>\n",
       "      <td>1.000000</td>\n",
       "      <td>0.998592</td>\n",
       "      <td>0.010399</td>\n",
       "      <td>0.002375</td>\n",
       "      <td>0.014117</td>\n",
       "      <td>0.000755</td>\n",
       "    </tr>\n",
       "    <tr>\n",
       "      <th>4</th>\n",
       "      <td>0.101893</td>\n",
       "      <td>0.023012</td>\n",
       "      <td>0.986667</td>\n",
       "      <td>1.000000</td>\n",
       "      <td>100</td>\n",
       "      <td>0.001</td>\n",
       "      <td>rbf</td>\n",
       "      <td>{'C': 100, 'gamma': 0.001, 'kernel': 'rbf'}</td>\n",
       "      <td>1</td>\n",
       "      <td>0.994737</td>\n",
       "      <td>...</td>\n",
       "      <td>0.968254</td>\n",
       "      <td>1.000000</td>\n",
       "      <td>0.988750</td>\n",
       "      <td>1.000000</td>\n",
       "      <td>0.993750</td>\n",
       "      <td>1.000000</td>\n",
       "      <td>0.015959</td>\n",
       "      <td>0.001270</td>\n",
       "      <td>0.009581</td>\n",
       "      <td>0.000000</td>\n",
       "    </tr>\n",
       "  </tbody>\n",
       "</table>\n",
       "<p>5 rows × 23 columns</p>\n",
       "</div>"
      ],
      "text/plain": [
       "   mean_fit_time  mean_score_time  mean_test_score  mean_train_score param_C  \\\n",
       "0       0.098378         0.026062         0.985638          0.998865       1   \n",
       "1       0.097128         0.027311         0.956672          0.966826       1   \n",
       "2       0.150833         0.021110         0.986667          1.000000      10   \n",
       "3       0.064166         0.016970         0.980697          0.997969      10   \n",
       "4       0.101893         0.023012         0.986667          1.000000     100   \n",
       "\n",
       "  param_gamma param_kernel                                       params  \\\n",
       "0       0.001          rbf    {'C': 1, 'gamma': 0.001, 'kernel': 'rbf'}   \n",
       "1      0.0001          rbf   {'C': 1, 'gamma': 0.0001, 'kernel': 'rbf'}   \n",
       "2       0.001          rbf   {'C': 10, 'gamma': 0.001, 'kernel': 'rbf'}   \n",
       "3      0.0001          rbf  {'C': 10, 'gamma': 0.0001, 'kernel': 'rbf'}   \n",
       "4       0.001          rbf  {'C': 100, 'gamma': 0.001, 'kernel': 'rbf'}   \n",
       "\n",
       "   rank_test_score  split0_test_score       ...         split2_test_score  \\\n",
       "0                4           0.994737       ...                  0.968254   \n",
       "1               12           0.978036       ...                  0.944643   \n",
       "2                1           0.994737       ...                  0.968254   \n",
       "3                7           0.994118       ...                  0.962698   \n",
       "4                1           0.994737       ...                  0.968254   \n",
       "\n",
       "   split2_train_score  split3_test_score  split3_train_score  \\\n",
       "0            0.998571           0.982868            0.998592   \n",
       "1            0.962256           0.936569            0.977341   \n",
       "2            1.000000           0.988750            1.000000   \n",
       "3            0.997056           0.970368            0.998592   \n",
       "4            1.000000           0.988750            1.000000   \n",
       "\n",
       "   split4_test_score  split4_train_score  std_fit_time  std_score_time  \\\n",
       "0           0.994444            0.998592      0.006703        0.005756   \n",
       "1           0.964257            0.967236      0.016530        0.000867   \n",
       "2           0.993750            1.000000      0.032920        0.002770   \n",
       "3           1.000000            0.998592      0.010399        0.002375   \n",
       "4           0.993750            1.000000      0.015959        0.001270   \n",
       "\n",
       "   std_test_score  std_train_score  \n",
       "0        0.009734         0.000567  \n",
       "1        0.014652         0.005524  \n",
       "2        0.009581         0.000000  \n",
       "3        0.014117         0.000755  \n",
       "4        0.009581         0.000000  \n",
       "\n",
       "[5 rows x 23 columns]"
      ]
     },
     "execution_count": 8,
     "metadata": {},
     "output_type": "execute_result"
    }
   ],
   "source": [
    "df = pd.DataFrame(clf.cv_results_)\n",
    "df.head() "
   ]
  },
  {
   "cell_type": "code",
   "execution_count": 9,
   "metadata": {},
   "outputs": [
    {
     "name": "stdout",
     "output_type": "stream",
     "text": [
      "mean_fit_time\n",
      "mean_score_time\n",
      "mean_test_score\n",
      "mean_train_score\n",
      "param_C\n",
      "param_gamma\n",
      "param_kernel\n",
      "params\n",
      "rank_test_score\n",
      "split0_test_score\n",
      "split0_train_score\n",
      "split1_test_score\n",
      "split1_train_score\n",
      "split2_test_score\n",
      "split2_train_score\n",
      "split3_test_score\n",
      "split3_train_score\n",
      "split4_test_score\n",
      "split4_train_score\n",
      "std_fit_time\n",
      "std_score_time\n",
      "std_test_score\n",
      "std_train_score\n"
     ]
    }
   ],
   "source": [
    "print(*df.columns, sep='\\n')"
   ]
  },
  {
   "cell_type": "code",
   "execution_count": 10,
   "metadata": {},
   "outputs": [
    {
     "data": {
      "text/html": [
       "<div>\n",
       "<table border=\"1\" class=\"dataframe\">\n",
       "  <thead>\n",
       "    <tr style=\"text-align: right;\">\n",
       "      <th></th>\n",
       "      <th>mean_test_score</th>\n",
       "      <th>param_C</th>\n",
       "      <th>param_gamma</th>\n",
       "      <th>param_kernel</th>\n",
       "    </tr>\n",
       "  </thead>\n",
       "  <tbody>\n",
       "    <tr>\n",
       "      <th>0</th>\n",
       "      <td>0.985638</td>\n",
       "      <td>1</td>\n",
       "      <td>0.001</td>\n",
       "      <td>rbf</td>\n",
       "    </tr>\n",
       "    <tr>\n",
       "      <th>1</th>\n",
       "      <td>0.956672</td>\n",
       "      <td>1</td>\n",
       "      <td>0.0001</td>\n",
       "      <td>rbf</td>\n",
       "    </tr>\n",
       "    <tr>\n",
       "      <th>2</th>\n",
       "      <td>0.986667</td>\n",
       "      <td>10</td>\n",
       "      <td>0.001</td>\n",
       "      <td>rbf</td>\n",
       "    </tr>\n",
       "    <tr>\n",
       "      <th>3</th>\n",
       "      <td>0.980697</td>\n",
       "      <td>10</td>\n",
       "      <td>0.0001</td>\n",
       "      <td>rbf</td>\n",
       "    </tr>\n",
       "    <tr>\n",
       "      <th>4</th>\n",
       "      <td>0.986667</td>\n",
       "      <td>100</td>\n",
       "      <td>0.001</td>\n",
       "      <td>rbf</td>\n",
       "    </tr>\n",
       "    <tr>\n",
       "      <th>5</th>\n",
       "      <td>0.980894</td>\n",
       "      <td>100</td>\n",
       "      <td>0.0001</td>\n",
       "      <td>rbf</td>\n",
       "    </tr>\n",
       "    <tr>\n",
       "      <th>6</th>\n",
       "      <td>0.986667</td>\n",
       "      <td>1000</td>\n",
       "      <td>0.001</td>\n",
       "      <td>rbf</td>\n",
       "    </tr>\n",
       "    <tr>\n",
       "      <th>7</th>\n",
       "      <td>0.980894</td>\n",
       "      <td>1000</td>\n",
       "      <td>0.0001</td>\n",
       "      <td>rbf</td>\n",
       "    </tr>\n",
       "    <tr>\n",
       "      <th>8</th>\n",
       "      <td>0.972361</td>\n",
       "      <td>1</td>\n",
       "      <td>NaN</td>\n",
       "      <td>linear</td>\n",
       "    </tr>\n",
       "    <tr>\n",
       "      <th>9</th>\n",
       "      <td>0.972361</td>\n",
       "      <td>10</td>\n",
       "      <td>NaN</td>\n",
       "      <td>linear</td>\n",
       "    </tr>\n",
       "    <tr>\n",
       "      <th>10</th>\n",
       "      <td>0.972361</td>\n",
       "      <td>100</td>\n",
       "      <td>NaN</td>\n",
       "      <td>linear</td>\n",
       "    </tr>\n",
       "    <tr>\n",
       "      <th>11</th>\n",
       "      <td>0.972361</td>\n",
       "      <td>1000</td>\n",
       "      <td>NaN</td>\n",
       "      <td>linear</td>\n",
       "    </tr>\n",
       "  </tbody>\n",
       "</table>\n",
       "</div>"
      ],
      "text/plain": [
       "    mean_test_score param_C param_gamma param_kernel\n",
       "0          0.985638       1       0.001          rbf\n",
       "1          0.956672       1      0.0001          rbf\n",
       "2          0.986667      10       0.001          rbf\n",
       "3          0.980697      10      0.0001          rbf\n",
       "4          0.986667     100       0.001          rbf\n",
       "5          0.980894     100      0.0001          rbf\n",
       "6          0.986667    1000       0.001          rbf\n",
       "7          0.980894    1000      0.0001          rbf\n",
       "8          0.972361       1         NaN       linear\n",
       "9          0.972361      10         NaN       linear\n",
       "10         0.972361     100         NaN       linear\n",
       "11         0.972361    1000         NaN       linear"
      ]
     },
     "execution_count": 10,
     "metadata": {},
     "output_type": "execute_result"
    }
   ],
   "source": [
    "dft = df[['mean_test_score', 'param_C', 'param_gamma', 'param_kernel']]\n",
    "dft"
   ]
  },
  {
   "cell_type": "code",
   "execution_count": 11,
   "metadata": {},
   "outputs": [
    {
     "data": {
      "text/html": [
       "<div>\n",
       "<table border=\"1\" class=\"dataframe\">\n",
       "  <thead>\n",
       "    <tr style=\"text-align: right;\">\n",
       "      <th></th>\n",
       "      <th>mean_test_score</th>\n",
       "      <th>param_C</th>\n",
       "      <th>param_gamma</th>\n",
       "      <th>param_kernel</th>\n",
       "    </tr>\n",
       "  </thead>\n",
       "  <tbody>\n",
       "    <tr>\n",
       "      <th>0</th>\n",
       "      <td>0.985638</td>\n",
       "      <td>1</td>\n",
       "      <td>0.001</td>\n",
       "      <td>rbf</td>\n",
       "    </tr>\n",
       "    <tr>\n",
       "      <th>1</th>\n",
       "      <td>0.956672</td>\n",
       "      <td>1</td>\n",
       "      <td>0.0001</td>\n",
       "      <td>rbf</td>\n",
       "    </tr>\n",
       "    <tr>\n",
       "      <th>2</th>\n",
       "      <td>0.986667</td>\n",
       "      <td>10</td>\n",
       "      <td>0.001</td>\n",
       "      <td>rbf</td>\n",
       "    </tr>\n",
       "    <tr>\n",
       "      <th>3</th>\n",
       "      <td>0.980697</td>\n",
       "      <td>10</td>\n",
       "      <td>0.0001</td>\n",
       "      <td>rbf</td>\n",
       "    </tr>\n",
       "    <tr>\n",
       "      <th>4</th>\n",
       "      <td>0.986667</td>\n",
       "      <td>100</td>\n",
       "      <td>0.001</td>\n",
       "      <td>rbf</td>\n",
       "    </tr>\n",
       "    <tr>\n",
       "      <th>5</th>\n",
       "      <td>0.980894</td>\n",
       "      <td>100</td>\n",
       "      <td>0.0001</td>\n",
       "      <td>rbf</td>\n",
       "    </tr>\n",
       "    <tr>\n",
       "      <th>6</th>\n",
       "      <td>0.986667</td>\n",
       "      <td>1000</td>\n",
       "      <td>0.001</td>\n",
       "      <td>rbf</td>\n",
       "    </tr>\n",
       "    <tr>\n",
       "      <th>7</th>\n",
       "      <td>0.980894</td>\n",
       "      <td>1000</td>\n",
       "      <td>0.0001</td>\n",
       "      <td>rbf</td>\n",
       "    </tr>\n",
       "  </tbody>\n",
       "</table>\n",
       "</div>"
      ],
      "text/plain": [
       "   mean_test_score param_C param_gamma param_kernel\n",
       "0         0.985638       1       0.001          rbf\n",
       "1         0.956672       1      0.0001          rbf\n",
       "2         0.986667      10       0.001          rbf\n",
       "3         0.980697      10      0.0001          rbf\n",
       "4         0.986667     100       0.001          rbf\n",
       "5         0.980894     100      0.0001          rbf\n",
       "6         0.986667    1000       0.001          rbf\n",
       "7         0.980894    1000      0.0001          rbf"
      ]
     },
     "execution_count": 11,
     "metadata": {},
     "output_type": "execute_result"
    }
   ],
   "source": [
    "dft = dft[dft.param_kernel == 'rbf']\n",
    "dft"
   ]
  },
  {
   "cell_type": "code",
   "execution_count": 12,
   "metadata": {},
   "outputs": [],
   "source": [
    "c_unique = dft.param_C.unique() "
   ]
  },
  {
   "cell_type": "code",
   "execution_count": 13,
   "metadata": {},
   "outputs": [],
   "source": [
    "gamma_unique = dft.param_gamma.unique() "
   ]
  },
  {
   "cell_type": "code",
   "execution_count": 14,
   "metadata": {
    "collapsed": true
   },
   "outputs": [],
   "source": [
    "arr = np.zeros((c_unique.size, gamma_unique.size))\n",
    "for i, c in enumerate(c_unique):\n",
    "    for j, gamma in enumerate(gamma_unique):\n",
    "        arr[i, j] = dft[(dft.param_C == c) & (dft.param_gamma == gamma)].mean_test_score\n"
   ]
  },
  {
   "cell_type": "code",
   "execution_count": 15,
   "metadata": {},
   "outputs": [
    {
     "data": {
      "text/plain": [
       "<matplotlib.colorbar.Colorbar at 0x7fbe0eb01dd8>"
      ]
     },
     "execution_count": 15,
     "metadata": {},
     "output_type": "execute_result"
    },
    {
     "data": {
      "image/png": "[encoded data removed]",
      "text/plain": [
       "<matplotlib.figure.Figure at 0x7fbe277b7e80>"
      ]
     },
     "metadata": {},
     "output_type": "display_data"
    }
   ],
   "source": [
    "fig, ax = plt.subplots()\n",
    "pc = ax.pcolor(arr, cmap='inferno')\n",
    "fig.colorbar(pc)"
   ]
  },
  {
   "cell_type": "code",
   "execution_count": 16,
   "metadata": {},
   "outputs": [
    {
     "data": {
      "text/plain": [
       "{'mean_fit_time': array([ 0.09837832,  0.09712806,  0.15083303,  0.06416626,  0.10189257,\n",
       "         0.05099802,  0.09669466,  0.04511714,  0.03015385,  0.02785244,\n",
       "         0.03280153,  0.03216224]),\n",
       " 'mean_score_time': array([ 0.02606215,  0.02731051,  0.02111034,  0.01696982,  0.0230124 ,\n",
       "         0.01741247,  0.01973443,  0.01487732,  0.0080709 ,  0.00889797,\n",
       "         0.00970469,  0.00940337]),\n",
       " 'mean_test_score': array([ 0.98563755,  0.95667153,  0.98666744,  0.98069693,  0.98666744,\n",
       "         0.98089412,  0.98666744,  0.98089412,  0.97236116,  0.97236116,\n",
       "         0.97236116,  0.97236116]),\n",
       " 'mean_train_score': array([ 0.99886519,  0.9668263 ,  1.        ,  0.99796875,  1.        ,\n",
       "         1.        ,  1.        ,  1.        ,  1.        ,  1.        ,\n",
       "         1.        ,  1.        ]),\n",
       " 'param_C': masked_array(data = [1 1 10 10 100 100 1000 1000 1 10 100 1000],\n",
       "              mask = [False False False False False False False False False False False False],\n",
       "        fill_value = ?),\n",
       " 'param_gamma': masked_array(data = [0.001 0.0001 0.001 0.0001 0.001 0.0001 0.001 0.0001 -- -- -- --],\n",
       "              mask = [False False False False False False False False  True  True  True  True],\n",
       "        fill_value = ?),\n",
       " 'param_kernel': masked_array(data = ['rbf' 'rbf' 'rbf' 'rbf' 'rbf' 'rbf' 'rbf' 'rbf' 'linear' 'linear' 'linear'\n",
       "  'linear'],\n",
       "              mask = [False False False False False False False False False False False False],\n",
       "        fill_value = ?),\n",
       " 'params': ({'C': 1, 'gamma': 0.001, 'kernel': 'rbf'},\n",
       "  {'C': 1, 'gamma': 0.0001, 'kernel': 'rbf'},\n",
       "  {'C': 10, 'gamma': 0.001, 'kernel': 'rbf'},\n",
       "  {'C': 10, 'gamma': 0.0001, 'kernel': 'rbf'},\n",
       "  {'C': 100, 'gamma': 0.001, 'kernel': 'rbf'},\n",
       "  {'C': 100, 'gamma': 0.0001, 'kernel': 'rbf'},\n",
       "  {'C': 1000, 'gamma': 0.001, 'kernel': 'rbf'},\n",
       "  {'C': 1000, 'gamma': 0.0001, 'kernel': 'rbf'},\n",
       "  {'C': 1, 'kernel': 'linear'},\n",
       "  {'C': 10, 'kernel': 'linear'},\n",
       "  {'C': 100, 'kernel': 'linear'},\n",
       "  {'C': 1000, 'kernel': 'linear'}),\n",
       " 'rank_test_score': array([ 4, 12,  1,  7,  1,  5,  1,  5,  8,  8,  8,  8], dtype=int32),\n",
       " 'split0_test_score': array([ 0.99473684,  0.97803578,  0.99473684,  0.99411765,  0.99473684,\n",
       "         0.98885449,  0.99473684,  0.98885449,  0.97187036,  0.97187036,\n",
       "         0.97187036,  0.97187036]),\n",
       " 'split0_train_score': array([ 0.99857143,  0.96427902,  1.        ,  0.99857143,  1.        ,\n",
       "         1.        ,  1.        ,  1.        ,  1.        ,  1.        ,\n",
       "         1.        ,  1.        ]),\n",
       " 'split1_test_score': array([ 0.98777778,  0.95934641,  0.98777778,  0.97633987,  0.98777778,\n",
       "         0.98189542,  0.98777778,  0.98189542,  0.97522876,  0.97522876,\n",
       "         0.97522876,  0.97522876]),\n",
       " 'split1_train_score': array([ 1.        ,  0.96301988,  1.        ,  0.99703297,  1.        ,\n",
       "         1.        ,  1.        ,  1.        ,  1.        ,  1.        ,\n",
       "         1.        ,  1.        ]),\n",
       " 'split2_test_score': array([ 0.96825397,  0.94464286,  0.96825397,  0.96269841,  0.96825397,\n",
       "         0.95644841,  0.96825397,  0.95644841,  0.96269841,  0.96269841,\n",
       "         0.96269841,  0.96269841]),\n",
       " 'split2_train_score': array([ 0.99857143,  0.96225587,  1.        ,  0.99705628,  1.        ,\n",
       "         1.        ,  1.        ,  1.        ,  1.        ,  1.        ,\n",
       "         1.        ,  1.        ]),\n",
       " 'split3_test_score': array([ 0.98286765,  0.93656863,  0.98875   ,  0.97036765,  0.98875   ,\n",
       "         0.98319444,  0.98875   ,  0.98319444,  0.97069444,  0.97069444,\n",
       "         0.97069444,  0.97069444]),\n",
       " 'split3_train_score': array([ 0.99859155,  0.97734079,  1.        ,  0.99859155,  1.        ,\n",
       "         1.        ,  1.        ,  1.        ,  1.        ,  1.        ,\n",
       "         1.        ,  1.        ]),\n",
       " 'split4_test_score': array([ 0.99444444,  0.96425654,  0.99375   ,  1.        ,  0.99375   ,\n",
       "         0.99411765,  0.99375   ,  0.99411765,  0.98141923,  0.98141923,\n",
       "         0.98141923,  0.98141923]),\n",
       " 'split4_train_score': array([ 0.99859155,  0.96723593,  1.        ,  0.99859155,  1.        ,\n",
       "         1.        ,  1.        ,  1.        ,  1.        ,  1.        ,\n",
       "         1.        ,  1.        ]),\n",
       " 'std_fit_time': array([ 0.00670336,  0.01653044,  0.03292033,  0.01039925,  0.01595949,\n",
       "         0.00732631,  0.00699336,  0.00650875,  0.00291454,  0.00080112,\n",
       "         0.00236795,  0.00133009]),\n",
       " 'std_score_time': array([ 0.0057559 ,  0.00086694,  0.00277023,  0.00237547,  0.00126975,\n",
       "         0.00053842,  0.00251861,  0.00062504,  0.00029004,  0.00100162,\n",
       "         0.00114686,  0.00062088]),\n",
       " 'std_test_score': array([ 0.00973444,  0.01465219,  0.00958098,  0.01411744,  0.00958098,\n",
       "         0.01294434,  0.00958098,  0.01294434,  0.00607935,  0.00607935,\n",
       "         0.00607935,  0.00607935]),\n",
       " 'std_train_score': array([ 0.00056748,  0.00552429,  0.        ,  0.00075462,  0.        ,\n",
       "         0.        ,  0.        ,  0.        ,  0.        ,  0.        ,\n",
       "         0.        ,  0.        ])}"
      ]
     },
     "execution_count": 16,
     "metadata": {},
     "output_type": "execute_result"
    }
   ],
   "source": [
    "clf.cv_results_"
   ]
  },
  {
   "cell_type": "code",
   "execution_count": 17,
   "metadata": {},
   "outputs": [
    {
     "name": "stdout",
     "output_type": "stream",
     "text": [
      "{'C': 1, 'gamma': 0.001, 'kernel': 'rbf'} 0.985637551645\n",
      "{'C': 1, 'gamma': 0.0001, 'kernel': 'rbf'} 0.956671525778\n",
      "{'C': 10, 'gamma': 0.001, 'kernel': 'rbf'} 0.986667436501\n",
      "{'C': 10, 'gamma': 0.0001, 'kernel': 'rbf'} 0.980696929477\n",
      "{'C': 100, 'gamma': 0.001, 'kernel': 'rbf'} 0.986667436501\n",
      "{'C': 100, 'gamma': 0.0001, 'kernel': 'rbf'} 0.980894122165\n",
      "{'C': 1000, 'gamma': 0.001, 'kernel': 'rbf'} 0.986667436501\n",
      "{'C': 1000, 'gamma': 0.0001, 'kernel': 'rbf'} 0.980894122165\n",
      "{'C': 1, 'kernel': 'linear'} 0.97236116091\n",
      "{'C': 10, 'kernel': 'linear'} 0.97236116091\n",
      "{'C': 100, 'kernel': 'linear'} 0.97236116091\n",
      "{'C': 1000, 'kernel': 'linear'} 0.97236116091\n"
     ]
    }
   ],
   "source": [
    "for par, mts in zip(clf.cv_results_['params'], clf.cv_results_['mean_test_score']):\n",
    "    print(par, mts)"
   ]
  },
  {
   "cell_type": "code",
   "execution_count": 18,
   "metadata": {
    "collapsed": true
   },
   "outputs": [],
   "source": [
    "from collections import defaultdict"
   ]
  },
  {
   "cell_type": "code",
   "execution_count": 28,
   "metadata": {},
   "outputs": [
    {
     "data": {
      "text/plain": [
       "<matplotlib.collections.PolyCollection at 0x7fbe0e7f1828>"
      ]
     },
     "execution_count": 28,
     "metadata": {},
     "output_type": "execute_result"
    },
    {
     "data": {
      "image/png": "[encoded data removed]",
      "text/plain": [
       "<matplotlib.figure.Figure at 0x7fbe0e820e80>"
      ]
     },
     "metadata": {},
     "output_type": "display_data"
    }
   ],
   "source": [
    "plt.pcolor(plotGridsearchCrossVal(clf, ['C', 'gamma'], paramfilter={'kernel': 'linear'}))"
   ]
  },
  {
   "cell_type": "code",
   "execution_count": 114,
   "metadata": {},
   "outputs": [],
   "source": [
    "def gridsearch2dataframe(clf, score='mean_test_score'):\n",
    "    df = pd.DataFrame(clf.cv_results_)\n",
    "    toDrop = set(df.columns) - {k for k in df.columns if k.startswith('param_')} - {score}\n",
    "    df = df.drop(toDrop, axis=1)\n",
    "    return df"
   ]
  },
  {
   "cell_type": "code",
   "execution_count": 101,
   "metadata": {},
   "outputs": [],
   "source": [
    "df = gridsearch2dataframe(clf)"
   ]
  },
  {
   "cell_type": "code",
   "execution_count": 112,
   "metadata": {},
   "outputs": [],
   "source": [
    "def heatmapFromGridsearchDf(df, **kwargs):\n",
    "    kwargs.setdefault('cmap', 'YlGnBu_r')\n",
    "    dfp = df[df.param_kernel == 'rbf'].drop('param_kernel', axis=1)\n",
    "    dfp = dfp.set_index([el for el in dfp.columns if el.startswith('param_')]).unstack() \n",
    "    ax = sns.heatmap(dfp, xticklabels=dfp.columns.levels[1], **kwargs) \n",
    "    ax.set_xlabel(ax.get_xlabel().split('_')[-1])\n",
    "    ax.set_ylabel(ax.get_ylabel().split('_')[-1])\n",
    "    return plt.gcf(), ax"
   ]
  },
  {
   "cell_type": "code",
   "execution_count": 113,
   "metadata": {},
   "outputs": [
    {
     "data": {
      "text/plain": [
       "(<matplotlib.figure.Figure at 0x7fbe0ca9f860>,\n",
       " <matplotlib.axes._subplots.AxesSubplot at 0x7fbe0c9f5dd8>)"
      ]
     },
     "execution_count": 113,
     "metadata": {},
     "output_type": "execute_result"
    },
    {
     "data": {
      "image/png": "[encoded data removed]",
      "text/plain": [
       "<matplotlib.figure.Figure at 0x7fbe0ca9f860>"
      ]
     },
     "metadata": {},
     "output_type": "display_data"
    }
   ],
   "source": [
    "heatmapFromGridsearchDf(df)"
   ]
  },
  {
   "cell_type": "code",
   "execution_count": null,
   "metadata": {
    "collapsed": true
   },
   "outputs": [],
   "source": []
  },
  {
   "cell_type": "code",
   "execution_count": null,
   "metadata": {
    "collapsed": true
   },
   "outputs": [],
   "source": []
  },
  {
   "cell_type": "code",
   "execution_count": null,
   "metadata": {
    "collapsed": true
   },
   "outputs": [],
   "source": []
  }
 ],
 "metadata": {
  "kernelspec": {
   "display_name": "Python 3",
   "language": "python",
   "name": "python3"
  },
  "language_info": {
   "codemirror_mode": {
    "name": "ipython",
    "version": 3
   },
   "file_extension": ".py",
   "mimetype": "text/x-python",
   "name": "python",
   "nbconvert_exporter": "python",
   "pygments_lexer": "ipython3",
   "version": "3.6.1"
  }
 },
 "nbformat": 4,
 "nbformat_minor": 2
}
