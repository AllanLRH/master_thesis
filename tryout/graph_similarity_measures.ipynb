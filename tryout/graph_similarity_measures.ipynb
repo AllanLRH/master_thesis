{
 "cells": [
  {
   "cell_type": "code",
   "execution_count": 68,
   "metadata": {},
   "outputs": [
    {
     "name": "stdout",
     "output_type": "stream",
     "text": [
      "The watermark extension is already loaded. To reload it, use:\n",
      "  %reload_ext watermark\n",
      "Allan Leander Rostock Hansen \n",
      "last updated: 2017-09-12 \n",
      "\n",
      "CPython 3.6.1\n",
      "IPython 5.4.1\n",
      "\n",
      "numpy 1.12.1\n",
      "bottleneck 1.2.0\n",
      "pandas 0.19.2\n",
      "matplotlib 2.0.0\n",
      "sklearn 0.18.1\n",
      "missingno 0.3.5\n",
      "networkx 2.0.dev_20170815195234\n",
      "igraph 0.7.1\n",
      "seaborn 0.7.1\n",
      "palettable 3.0.0\n"
     ]
    }
   ],
   "source": [
    "import sys\n",
    "import os\n",
    "sys.path.append(os.path.abspath(\"..\"))\n",
    "import itertools\n",
    "\n",
    "import numpy as np\n",
    "import bottleneck as bn\n",
    "import pandas as pd\n",
    "from sklearn import decomposition\n",
    "import networkx as nx\n",
    "# import networkx.algorithms.approximation as nxa\n",
    "import igraph as ig\n",
    "# # http://stackoverflow.com/questions/35279733/what-could-cause-networkx-pygraphviz-to-work-fine-alone-but-not-together\n",
    "# from networkx.drawing.nx_agraph import graphviz_layout\n",
    "import matplotlib as mpl\n",
    "import matplotlib.pyplot as plt\n",
    "import seaborn as sns\n",
    "sns.set_style(\"darkgrid\", {\"axes.facecolor\": \".95\"})\n",
    "import missingno as msno\n",
    "import palettable\n",
    "%matplotlib inline\n",
    "\n",
    "np.set_printoptions(linewidth=145, precision=4)\n",
    "\n",
    "# import warnings\n",
    "# warnings.simplefilter(\"ignore\", category=DeprecationWarning)\n",
    "# warnings.simplefilter(\"ignore\", category=mpl.cbook.mplDeprecation)\n",
    "# warnings.simplefilter(\"ignore\", category=UserWarning)\n",
    "\n",
    "\n",
    "from collections import defaultdict, Counter\n",
    "from IPython.display import display as disp\n",
    "from IPython.display import display_markdown\n",
    "mdisp = lambda s: display_markdown(s, raw=True)\n",
    "\n",
    "from speclib import loaders\n",
    "from speclib import plotting\n",
    "from speclib import graph\n",
    "from speclib import misc\n",
    "from speclib import userActivityFunctions\n",
    "\n",
    "for k, v in {'font.size': 13.0,\n",
    "             'legend.fontsize': 13.0,\n",
    "             'axes.labelsize': 12.0,\n",
    "             'axes.titlesize': 15.0,\n",
    "             'figure.figsize': [16.0, 7.0],\n",
    "             'figure.dpi': 200,\n",
    "             'figure.titlesize': 'large',\n",
    "             'xtick.labelsize': 13.0,\n",
    "             'ytick.labelsize': 13.0}.items():\n",
    "    mpl.rcParams[k] = v\n",
    "\n",
    "%load_ext watermark\n",
    "%watermark -a \"Allan Leander Rostock Hansen\" -u -d -v -p numpy,bottleneck,pandas,matplotlib,sklearn,missingno\n",
    "%watermark  -p networkx,igraph,seaborn,palettable"
   ]
  },
  {
   "cell_type": "markdown",
   "metadata": {},
   "source": [
    "Two similar graphs, but different node labels"
   ]
  },
  {
   "cell_type": "code",
   "execution_count": 17,
   "metadata": {
    "collapsed": true
   },
   "outputs": [],
   "source": [
    "g0 = nx.DiGraph() \n",
    "g0.add_nodes_from([0, 1, 2, 3])\n",
    "g0.add_edges_from([(0, 1), (1, 0), (0, 2), (1, 2)]) \n",
    "a0 = np.array(nx.adjacency_matrix(g0).todense())"
   ]
  },
  {
   "cell_type": "code",
   "execution_count": 18,
   "metadata": {
    "collapsed": true
   },
   "outputs": [],
   "source": [
    "g1 = nx.DiGraph() \n",
    "g1.add_nodes_from([0, 1, 2, 3])\n",
    "g1.add_edges_from([(1, 2), (2, 1), (1, 3), (2, 3)]) \n",
    "a1 = np.array(nx.adjacency_matrix(g1).todense())"
   ]
  },
  {
   "cell_type": "code",
   "execution_count": 19,
   "metadata": {},
   "outputs": [
    {
     "data": {
      "text/plain": [
       "array([[0, 1, 1, 0],\n",
       "       [1, 0, 1, 0],\n",
       "       [0, 0, 0, 0],\n",
       "       [0, 0, 0, 0]], dtype=int64)"
      ]
     },
     "execution_count": 19,
     "metadata": {},
     "output_type": "execute_result"
    }
   ],
   "source": [
    "a0"
   ]
  },
  {
   "cell_type": "code",
   "execution_count": 20,
   "metadata": {},
   "outputs": [
    {
     "data": {
      "text/plain": [
       "array([[0, 0, 0, 0],\n",
       "       [0, 0, 1, 1],\n",
       "       [0, 1, 0, 1],\n",
       "       [0, 0, 0, 0]], dtype=int64)"
      ]
     },
     "execution_count": 20,
     "metadata": {},
     "output_type": "execute_result"
    }
   ],
   "source": [
    "a1"
   ]
  },
  {
   "cell_type": "code",
   "execution_count": 21,
   "metadata": {},
   "outputs": [
    {
     "name": "stdout",
     "output_type": "stream",
     "text": [
      "4\n",
      "(3, 0, 1, 2)\n",
      "[[0 0 0 0]\n",
      " [0 0 1 1]\n",
      " [0 1 0 1]\n",
      " [0 0 0 0]]\n"
     ]
    }
   ],
   "source": [
    "perms = [ (np.dot(misc.stackColumns(a0p), misc.stackColumns(a1)), p, a0p)\n",
    "    for (p, a0p) in graph.genAllMatrixPermutations(a0) ]\n",
    "a0p = max(perms, key=lambda x: x[0])\n",
    "print(*a0p, sep='\\n')"
   ]
  },
  {
   "cell_type": "markdown",
   "metadata": {},
   "source": [
    "A dot-product value of 4 which is similar to the sum of the matrix elements is a complete match"
   ]
  },
  {
   "cell_type": "markdown",
   "metadata": {},
   "source": [
    "Now, lets try weighted matrices"
   ]
  },
  {
   "cell_type": "code",
   "execution_count": 24,
   "metadata": {
    "collapsed": true
   },
   "outputs": [],
   "source": [
    "g2 = nx.DiGraph()\n",
    "g2.add_nodes_from([0, 1, 2, 3])\n",
    "g2.add_weighted_edges_from([(0, 1, 0.5), (1, 0, 0.5), (0, 2, 0.25), (1, 2, 0.25)])\n",
    "a2 = np.array(nx.adjacency_matrix(g2).todense())\n",
    "\n",
    "g3 = nx.DiGraph()\n",
    "g3.add_nodes_from([0, 1, 2, 3])\n",
    "g3.add_weighted_edges_from([(1, 2, 0.5), (2, 1, 0.5), (1, 3, 0.25), (2, 3, 0.25)])\n",
    "a3 = np.array(nx.adjacency_matrix(g3).todense())\n"
   ]
  },
  {
   "cell_type": "code",
   "execution_count": 25,
   "metadata": {},
   "outputs": [
    {
     "data": {
      "text/plain": [
       "array([[ 0.  ,  0.5 ,  0.25,  0.  ],\n",
       "       [ 0.5 ,  0.  ,  0.25,  0.  ],\n",
       "       [ 0.  ,  0.  ,  0.  ,  0.  ],\n",
       "       [ 0.  ,  0.  ,  0.  ,  0.  ]])"
      ]
     },
     "execution_count": 25,
     "metadata": {},
     "output_type": "execute_result"
    }
   ],
   "source": [
    "a2"
   ]
  },
  {
   "cell_type": "code",
   "execution_count": 26,
   "metadata": {},
   "outputs": [
    {
     "data": {
      "text/plain": [
       "array([[ 0.  ,  0.  ,  0.  ,  0.  ],\n",
       "       [ 0.  ,  0.  ,  0.5 ,  0.25],\n",
       "       [ 0.  ,  0.5 ,  0.  ,  0.25],\n",
       "       [ 0.  ,  0.  ,  0.  ,  0.  ]])"
      ]
     },
     "execution_count": 26,
     "metadata": {},
     "output_type": "execute_result"
    }
   ],
   "source": [
    "a3"
   ]
  },
  {
   "cell_type": "code",
   "execution_count": 29,
   "metadata": {},
   "outputs": [
    {
     "name": "stdout",
     "output_type": "stream",
     "text": [
      "0.625\n",
      "(3, 0, 1, 2)\n",
      "[[ 0.    0.    0.    0.  ]\n",
      " [ 0.    0.    0.5   0.25]\n",
      " [ 0.    0.5   0.    0.25]\n",
      " [ 0.    0.    0.    0.  ]]\n"
     ]
    }
   ],
   "source": [
    "perms = [(np.dot(misc.stackColumns(a2p), misc.stackColumns(a3)), p, a2p)\n",
    "         for (p, a2p) in graph.genAllMatrixPermutations(a2)]\n",
    "a2p = max(perms, key=lambda x: x[0])\n",
    "print(*a2p, sep='\\n') "
   ]
  },
  {
   "cell_type": "markdown",
   "metadata": {},
   "source": [
    "The product of the induvidually sorted matrices yields the largest possible dot product, and this is a good value to compare the permuted value to."
   ]
  },
  {
   "cell_type": "code",
   "execution_count": 30,
   "metadata": {},
   "outputs": [
    {
     "data": {
      "text/plain": [
       "0.625"
      ]
     },
     "execution_count": 30,
     "metadata": {},
     "output_type": "execute_result"
    }
   ],
   "source": [
    "np.dot(np.sort(a2.flat), np.sort(a3.flat))"
   ]
  },
  {
   "cell_type": "markdown",
   "metadata": {},
   "source": [
    "* Now do the same as above, but for differently weighted graphs.\n",
    "* And also do it for graphs which are almost the same connections.\n",
    "* And do it for large graphs in which there two dominant communities, with just a bit of crosstalk.\n",
    "* And investigate how directionality affects this measure – maybe use a sum instead of a product?\n",
    "* Investigate how network size vs. sparsity affects this measure.\n",
    "* Can softmax be applied here?"
   ]
  },
  {
   "cell_type": "markdown",
   "metadata": {
    "collapsed": true
   },
   "source": [
    "Same total weights, but differently weighted.\n",
    "Besides the weights (and labels) the number of connections is still the same."
   ]
  },
  {
   "cell_type": "code",
   "execution_count": 39,
   "metadata": {
    "collapsed": true
   },
   "outputs": [],
   "source": [
    "g4 = nx.DiGraph()\n",
    "g4.add_nodes_from([0, 1, 2, 3])\n",
    "g4.add_weighted_edges_from([(0, 1, 0.5), (1, 0, 0.5), (0, 2, 0.5), (1, 2, 0.25)])\n",
    "a4 = np.array(nx.adjacency_matrix(g4).todense())\n",
    "g5 = nx.DiGraph()\n",
    "g5.add_nodes_from([0, 1, 2, 3])\n",
    "g5.add_weighted_edges_from([(1, 2, 0.5), (2, 1, 0.5), (1, 3, 0.25), (2, 3, 0.5)])\n",
    "a5 = np.array(nx.adjacency_matrix(g5).todense())\n"
   ]
  },
  {
   "cell_type": "code",
   "execution_count": 35,
   "metadata": {},
   "outputs": [
    {
     "data": {
      "text/plain": [
       "array([[ 0.  ,  0.5 ,  0.5 ,  0.  ],\n",
       "       [ 0.5 ,  0.  ,  0.25,  0.  ],\n",
       "       [ 0.  ,  0.  ,  0.  ,  0.  ],\n",
       "       [ 0.  ,  0.  ,  0.  ,  0.  ]])"
      ]
     },
     "execution_count": 35,
     "metadata": {},
     "output_type": "execute_result"
    }
   ],
   "source": [
    "a4"
   ]
  },
  {
   "cell_type": "code",
   "execution_count": 36,
   "metadata": {},
   "outputs": [
    {
     "data": {
      "text/plain": [
       "array([[ 0.  ,  0.  ,  0.  ,  0.  ],\n",
       "       [ 0.  ,  0.  ,  0.5 ,  0.25],\n",
       "       [ 0.  ,  0.5 ,  0.  ,  0.5 ],\n",
       "       [ 0.  ,  0.  ,  0.  ,  0.  ]])"
      ]
     },
     "execution_count": 36,
     "metadata": {},
     "output_type": "execute_result"
    }
   ],
   "source": [
    "a5"
   ]
  },
  {
   "cell_type": "code",
   "execution_count": 37,
   "metadata": {},
   "outputs": [
    {
     "name": "stdout",
     "output_type": "stream",
     "text": [
      "0.8125\n",
      "(3, 1, 0, 2)\n",
      "[[ 0.    0.    0.    0.  ]\n",
      " [ 0.    0.    0.5   0.25]\n",
      " [ 0.    0.5   0.    0.5 ]\n",
      " [ 0.    0.    0.    0.  ]]\n"
     ]
    }
   ],
   "source": [
    "perms = [(np.dot(misc.stackColumns(a4p), misc.stackColumns(a5)), p, a4p)\n",
    "         for (p, a4p) in graph.genAllMatrixPermutations(a4)]\n",
    "a4p = max(perms, key=lambda x: x[0])\n",
    "print(*a4p, sep='\\n') "
   ]
  },
  {
   "cell_type": "code",
   "execution_count": 38,
   "metadata": {},
   "outputs": [
    {
     "data": {
      "text/plain": [
       "0.8125"
      ]
     },
     "execution_count": 38,
     "metadata": {},
     "output_type": "execute_result"
    }
   ],
   "source": [
    "np.dot(np.sort(a4.flat), np.sort(a5.flat))"
   ]
  },
  {
   "cell_type": "markdown",
   "metadata": {},
   "source": [
    "Try it with an larger graph"
   ]
  },
  {
   "cell_type": "code",
   "execution_count": 64,
   "metadata": {},
   "outputs": [
    {
     "data": {
      "image/png": "[encoded data removed]",
      "text/plain": [
       "<igraph.drawing.Plot at 0x7f6134fa97b8>"
      ]
     },
     "execution_count": 64,
     "metadata": {},
     "output_type": "execute_result"
    }
   ],
   "source": [
    "fn = lambda x, sigma, mu: np.exp(-(x - mu)**2/(2*sigma))/np.sqrt(2*np.pi*sigma)\n",
    "N = 14\n",
    "g6 = nx.DiGraph()\n",
    "g6.add_nodes_from(range(N))\n",
    "for i in range(N):\n",
    "    weights = fn(np.arange(N), 3, 2) + fn(np.arange(N), 3, 10) + np.random.randn(N,) - 1.2\n",
    "    weights[weights < 0] = 0.0\n",
    "    g6.add_weighted_edges_from([(i, j, weights[j]) for j in range(N)]) \n",
    "a6 = np.array(nx.adjacency_matrix(g6).todense())\n",
    "\n",
    "plotting.igdraw(g6)"
   ]
  },
  {
   "cell_type": "code",
   "execution_count": 86,
   "metadata": {},
   "outputs": [],
   "source": [
    "a7 = a6.copy()\n",
    "perms = np.random.randint(0, N, (N, 2))\n",
    "for i, j in perms:\n",
    "    misc.swapMatrixCols(a7, i, j, inplace=True)\n",
    "    misc.swapMatrixRows(a7, i, j, inplace=True)\n",
    "g7 = nx.from_numpy_array(a7)\n",
    "\n",
    "a8 = a7*np.random.randn(N, N) / 30 + 1\n",
    "g8 = nx.from_numpy_array(a8)"
   ]
  },
  {
   "cell_type": "code",
   "execution_count": 89,
   "metadata": {},
   "outputs": [
    {
     "ename": "NetworkXNotImplemented",
     "evalue": "not implemented for directed type",
     "output_type": "error",
     "traceback": [
      "\u001b[0;31m---------------------------------------------------------------------------\u001b[0m",
      "\u001b[0;31mNetworkXNotImplemented\u001b[0m                    Traceback (most recent call last)",
      "\u001b[0;32m<ipython-input-89-0e5c791d9d1e>\u001b[0m in \u001b[0;36m<module>\u001b[0;34m()\u001b[0m\n\u001b[0;32m----> 1\u001b[0;31m \u001b[0mnx\u001b[0m\u001b[0;34m.\u001b[0m\u001b[0mcentrality\u001b[0m\u001b[0;34m.\u001b[0m\u001b[0mapproximate_current_flow_betweenness_centrality\u001b[0m\u001b[0;34m(\u001b[0m\u001b[0mg6\u001b[0m\u001b[0;34m,\u001b[0m \u001b[0mweight\u001b[0m\u001b[0;34m=\u001b[0m\u001b[0;34m'weight'\u001b[0m\u001b[0;34m)\u001b[0m\u001b[0;34m\u001b[0m\u001b[0m\n\u001b[0m",
      "\u001b[0;32m<decorator-gen-160>\u001b[0m in \u001b[0;36mapproximate_current_flow_betweenness_centrality\u001b[0;34m(G, normalized, weight, dtype, solver, epsilon, kmax)\u001b[0m\n",
      "\u001b[0;32m/lscr_paper/allan/miniconda3/envs/py36/lib/python3.6/site-packages/networkx/utils/decorators.py\u001b[0m in \u001b[0;36m_not_implemented_for\u001b[0;34m(f, *args, **kwargs)\u001b[0m\n\u001b[1;32m     65\u001b[0m         \u001b[0;32mif\u001b[0m \u001b[0mmatch\u001b[0m\u001b[0;34m:\u001b[0m\u001b[0;34m\u001b[0m\u001b[0m\n\u001b[1;32m     66\u001b[0m             raise nx.NetworkXNotImplemented('not implemented for %s type'%\n\u001b[0;32m---> 67\u001b[0;31m                                             ' '.join(graph_types))\n\u001b[0m\u001b[1;32m     68\u001b[0m         \u001b[0;32melse\u001b[0m\u001b[0;34m:\u001b[0m\u001b[0;34m\u001b[0m\u001b[0m\n\u001b[1;32m     69\u001b[0m             \u001b[0;32mreturn\u001b[0m \u001b[0mf\u001b[0m\u001b[0;34m(\u001b[0m\u001b[0;34m*\u001b[0m\u001b[0margs\u001b[0m\u001b[0;34m,\u001b[0m\u001b[0;34m**\u001b[0m\u001b[0mkwargs\u001b[0m\u001b[0;34m)\u001b[0m\u001b[0;34m\u001b[0m\u001b[0m\n",
      "\u001b[0;31mNetworkXNotImplemented\u001b[0m: not implemented for directed type"
     ]
    }
   ],
   "source": [
    "nx.centrality.approximate_current_flow_betweenness_centrality(g6, weight='weight')"
   ]
  },
  {
   "cell_type": "code",
   "execution_count": null,
   "metadata": {
    "collapsed": true
   },
   "outputs": [],
   "source": []
  },
  {
   "cell_type": "code",
   "execution_count": null,
   "metadata": {
    "collapsed": true
   },
   "outputs": [],
   "source": []
  },
  {
   "cell_type": "code",
   "execution_count": null,
   "metadata": {
    "collapsed": true
   },
   "outputs": [],
   "source": []
  },
  {
   "cell_type": "code",
   "execution_count": null,
   "metadata": {
    "collapsed": true
   },
   "outputs": [],
   "source": []
  }
 ],
 "metadata": {
  "kernelspec": {
   "display_name": "Python 3",
   "language": "python",
   "name": "python3"
  },
  "language_info": {
   "codemirror_mode": {
    "name": "ipython",
    "version": 3
   },
   "file_extension": ".py",
   "mimetype": "text/x-python",
   "name": "python",
   "nbconvert_exporter": "python",
   "pygments_lexer": "ipython3",
   "version": "3.6.1"
  }
 },
 "nbformat": 4,
 "nbformat_minor": 2
}
