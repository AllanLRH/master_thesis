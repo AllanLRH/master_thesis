{
 "cells": [
  {
   "cell_type": "code",
   "execution_count": 2,
   "metadata": {
    "collapsed": true
   },
   "outputs": [],
   "source": [
    "import numpy as np\n",
    "from sklearn import model_selection"
   ]
  },
  {
   "cell_type": "code",
   "execution_count": 76,
   "metadata": {},
   "outputs": [
    {
     "name": "stdout",
     "output_type": "stream",
     "text": [
      "StratifiedShuffleSplit(n_splits=3, random_state=0, test_size=0.2,\n",
      "            train_size=None)\n",
      "\n",
      "\n",
      "\n",
      "TRAIN: [14 29 11 38 42 17  8 16 10  3 35 25 24 31 13  2 21 36 22  9 47  7 41 27 37\n",
      " 49 33 32 40 43 46 45 15  4 20 19 30 26 18 12] TEST: [ 0  6  1 44 23  5 48 39 34 28]\n",
      "\n",
      "X_val:\n",
      " [ 4  5  6  7  8  9 14 15 16 17 18 19 20 21 22 23 24 25 26 27 28 29 30 31 32\n",
      " 33 34 35 36 37 38 39 40 41 42 43 44 45 48 49 50 51 52 53 54 55 58 59 60 61\n",
      " 62 63 64 65 66 67 70 71 72 73 74 75 76 77 80 81 82 83 84 85 86 87 90 91 92\n",
      " 93 94 95 98 99] [1 1 1 1 1 1 1 1 1 1 1 1 1 1 1 1 1 1 1 1 1 1 1 1 1 1 1 1 1 1 1 1 1 1 1 1 1\n",
      " 1 1 1 1 1 1 1 1 1 1 1 1 1 1 1 1 1 1 1 1 1 1 1 1 1 1 1 1 1 1 1 1 1 1 1 1 1\n",
      " 1 1 1 1 1 1] \n",
      " [ 0  1  2  3 10 11 12 13 46 47 56 57 68 69 78 79 88 89 96 97] [1 1 1 1 1 1 1 1 1 1 1 1 1 1 1 1 1 1 1 1]\n",
      "y_val:\n",
      " [0 1] [25 15] \n",
      " [0 1] [6 4]\n",
      "\n",
      "\n",
      "\n",
      "\n",
      "TRAIN: [21 47 35  2  9 40 46  1 36  4 39 48 10 12 25 42 34 16  7 32 17 29  3 33 31\n",
      "  5 15 18 14 11 27 22 49 43  8 30 23 19 13 45] TEST: [41  6 44  0 28 37 26 24 20 38]\n",
      "\n",
      "X_val:\n",
      " [ 2  3  4  5  6  7  8  9 10 11 14 15 16 17 18 19 20 21 22 23 24 25 26 27 28\n",
      " 29 30 31 32 33 34 35 36 37 38 39 42 43 44 45 46 47 50 51 54 55 58 59 60 61\n",
      " 62 63 64 65 66 67 68 69 70 71 72 73 78 79 80 81 84 85 86 87 90 91 92 93 94\n",
      " 95 96 97 98 99] [1 1 1 1 1 1 1 1 1 1 1 1 1 1 1 1 1 1 1 1 1 1 1 1 1 1 1 1 1 1 1 1 1 1 1 1 1\n",
      " 1 1 1 1 1 1 1 1 1 1 1 1 1 1 1 1 1 1 1 1 1 1 1 1 1 1 1 1 1 1 1 1 1 1 1 1 1\n",
      " 1 1 1 1 1 1] \n",
      " [ 0  1 12 13 40 41 48 49 52 53 56 57 74 75 76 77 82 83 88 89] [1 1 1 1 1 1 1 1 1 1 1 1 1 1 1 1 1 1 1 1]\n",
      "y_val:\n",
      " [0 1] [25 15] \n",
      " [0 1] [6 4]\n",
      "\n",
      "\n",
      "\n",
      "\n",
      "TRAIN: [31 16  8 41 15 19 46  4  7 35 44 28 45 12 21 22 23 37 47 14 42  2 30 24 29\n",
      "  6 49 25 20  5 33 18 27  9 13 11 32 48 43 34] TEST: [ 3 38 40 36 17  1  0 39 10 26]\n",
      "\n",
      "X_val:\n",
      " [ 4  5  8  9 10 11 12 13 14 15 16 17 18 19 22 23 24 25 26 27 28 29 30 31 32\n",
      " 33 36 37 38 39 40 41 42 43 44 45 46 47 48 49 50 51 54 55 56 57 58 59 60 61\n",
      " 62 63 64 65 66 67 68 69 70 71 74 75 82 83 84 85 86 87 88 89 90 91 92 93 94\n",
      " 95 96 97 98 99] [1 1 1 1 1 1 1 1 1 1 1 1 1 1 1 1 1 1 1 1 1 1 1 1 1 1 1 1 1 1 1 1 1 1 1 1 1\n",
      " 1 1 1 1 1 1 1 1 1 1 1 1 1 1 1 1 1 1 1 1 1 1 1 1 1 1 1 1 1 1 1 1 1 1 1 1 1\n",
      " 1 1 1 1 1 1] \n",
      " [ 0  1  2  3  6  7 20 21 34 35 52 53 72 73 76 77 78 79 80 81] [1 1 1 1 1 1 1 1 1 1 1 1 1 1 1 1 1 1 1 1]\n",
      "y_val:\n",
      " [0 1] [25 15] \n",
      " [0 1] [6 4]\n",
      "\n",
      "\n",
      "\n",
      "\n"
     ]
    }
   ],
   "source": [
    "from sklearn.model_selection import StratifiedShuffleSplit\n",
    "N = 50\n",
    "X = np.arange(2*N).reshape((N, 2))\n",
    "y = (np.random.rand(N) < 0.5).astype(int)\n",
    "sss = StratifiedShuffleSplit(n_splits=3, test_size=0.2, random_state=0)\n",
    "sss.get_n_splits(X, y)\n",
    "print(sss, end='\\n\\n\\n\\n')\n",
    "xtrain_list = list()\n",
    "xtest_list = list()\n",
    "for train_index, test_index in sss.split(X, y):\n",
    "    print(\"TRAIN:\", train_index, \"TEST:\", test_index, end='\\n\\n')\n",
    "    X_train, X_test = X[train_index], X[test_index]\n",
    "    xtrain_list.append(train_index)\n",
    "    xtest_list.append(test_index)\n",
    "    y_train, y_test = y[train_index], y[test_index] \n",
    "    print(\"X_val:\\n\", *np.unique(X_train, return_counts=True), '\\n', *np.unique(X_test, return_counts=True), end='\\n')\n",
    "    print(\"y_val:\\n\", *np.unique(y_train, return_counts=True), '\\n', *np.unique(y_test, return_counts=True), end='\\n\\n\\n\\n\\n') "
   ]
  },
  {
   "cell_type": "code",
   "execution_count": 77,
   "metadata": {},
   "outputs": [],
   "source": [
    "xtr = np.concatenate(xtrain_list)\n",
    "xte = np.concatenate(xtest_list)"
   ]
  },
  {
   "cell_type": "code",
   "execution_count": 78,
   "metadata": {},
   "outputs": [
    {
     "data": {
      "text/plain": [
       "[array([ 0,  6,  1, 44, 23,  5, 48, 39, 34, 28]),\n",
       " array([41,  6, 44,  0, 28, 37, 26, 24, 20, 38]),\n",
       " array([ 3, 38, 40, 36, 17,  1,  0, 39, 10, 26])]"
      ]
     },
     "execution_count": 78,
     "metadata": {},
     "output_type": "execute_result"
    }
   ],
   "source": [
    "x"
   ]
  },
  {
   "cell_type": "code",
   "execution_count": 79,
   "metadata": {},
   "outputs": [
    {
     "data": {
      "text/plain": [
       "array([ 0,  6,  1, 44, 23,  5, 48, 39, 34, 28, 41,  6, 44,  0, 28, 37, 26,\n",
       "       24, 20, 38,  3, 38, 40, 36, 17,  1,  0, 39, 10, 26])"
      ]
     },
     "execution_count": 79,
     "metadata": {},
     "output_type": "execute_result"
    }
   ],
   "source": [
    "xte"
   ]
  },
  {
   "cell_type": "code",
   "execution_count": 80,
   "metadata": {
    "collapsed": true
   },
   "outputs": [],
   "source": [
    "from collections import Counter"
   ]
  },
  {
   "cell_type": "code",
   "execution_count": 89,
   "metadata": {},
   "outputs": [
    {
     "data": {
      "text/plain": [
       "[(0, 3),\n",
       " (6, 2),\n",
       " (1, 2),\n",
       " (44, 2),\n",
       " (39, 2),\n",
       " (28, 2),\n",
       " (26, 2),\n",
       " (38, 2),\n",
       " (23, 1),\n",
       " (5, 1)]"
      ]
     },
     "execution_count": 89,
     "metadata": {},
     "output_type": "execute_result"
    }
   ],
   "source": [
    "Counter(xte).most_common(10)"
   ]
  },
  {
   "cell_type": "code",
   "execution_count": 88,
   "metadata": {},
   "outputs": [
    {
     "data": {
      "text/plain": [
       "[(14, 3),\n",
       " (29, 3),\n",
       " (11, 3),\n",
       " (42, 3),\n",
       " (8, 3),\n",
       " (16, 3),\n",
       " (35, 3),\n",
       " (25, 3),\n",
       " (31, 3),\n",
       " (13, 3)]"
      ]
     },
     "execution_count": 88,
     "metadata": {},
     "output_type": "execute_result"
    }
   ],
   "source": [
    "Counter(xtr).most_common(10)"
   ]
  },
  {
   "cell_type": "code",
   "execution_count": null,
   "metadata": {
    "collapsed": true
   },
   "outputs": [],
   "source": []
  },
  {
   "cell_type": "code",
   "execution_count": null,
   "metadata": {
    "collapsed": true
   },
   "outputs": [],
   "source": []
  },
  {
   "cell_type": "code",
   "execution_count": null,
   "metadata": {
    "collapsed": true
   },
   "outputs": [],
   "source": []
  },
  {
   "cell_type": "code",
   "execution_count": null,
   "metadata": {
    "collapsed": true
   },
   "outputs": [],
   "source": []
  },
  {
   "cell_type": "code",
   "execution_count": null,
   "metadata": {
    "collapsed": true
   },
   "outputs": [],
   "source": []
  },
  {
   "cell_type": "code",
   "execution_count": null,
   "metadata": {
    "collapsed": true
   },
   "outputs": [],
   "source": []
  }
 ],
 "metadata": {
  "kernelspec": {
   "display_name": "Python 3",
   "language": "python",
   "name": "python3"
  },
  "language_info": {
   "codemirror_mode": {
    "name": "ipython",
    "version": 3
   },
   "file_extension": ".py",
   "mimetype": "text/x-python",
   "name": "python",
   "nbconvert_exporter": "python",
   "pygments_lexer": "ipython3",
   "version": "3.6.1"
  }
 },
 "nbformat": 4,
 "nbformat_minor": 2
}
