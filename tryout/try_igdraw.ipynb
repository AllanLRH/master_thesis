{
 "cells": [
  {
   "cell_type": "code",
   "execution_count": 1,
   "metadata": {
    "collapsed": true
   },
   "outputs": [],
   "source": [
    "import platform\n",
    "import sys\n",
    "import os\n",
    "if platform.system() == 'Darwin':\n",
    "    pth = '/Users/allan/scriptsMount'\n",
    "elif platform.system() == 'Linux':\n",
    "    pth = '/lscr_paper/allan/scripts'\n",
    "else:\n",
    "    raise OSError('Could not identify system \"{}\"'.format(platform.system()))\n",
    "if not os.path.isdir(pth):\n",
    "    raise FileNotFoundError(f\"Could not find the file {pth}\")\n",
    "sys.path.append(pth) "
   ]
  },
  {
   "cell_type": "code",
   "execution_count": 2,
   "metadata": {},
   "outputs": [],
   "source": [
    "from speclib.plotting import igdraw\n",
    "from speclib import graph\n",
    "import networkx as nx\n",
    "import igraph as ig\n",
    "import numpy as np"
   ]
  },
  {
   "cell_type": "code",
   "execution_count": 3,
   "metadata": {},
   "outputs": [],
   "source": [
    "n = 10\n",
    "p = 0.75\n",
    "nxm = (np.random.rand(n, n) > p) * np.random.randint(0, 100, (n, n))\n",
    "np.fill_diagonal(nxm, 0)\n",
    "nxg = nx.from_numpy_matrix(nxm, create_using=nx.DiGraph())\n",
    "igg = graph.networkx2igraph(nxg)"
   ]
  },
  {
   "cell_type": "code",
   "execution_count": 4,
   "metadata": {},
   "outputs": [],
   "source": [
    "igdraw(nxg, 'test6.pdf')"
   ]
  },
  {
   "cell_type": "code",
   "execution_count": null,
   "metadata": {
    "collapsed": true
   },
   "outputs": [],
   "source": []
  }
 ],
 "metadata": {
  "kernelspec": {
   "display_name": "Python 3",
   "language": "python",
   "name": "python3"
  },
  "language_info": {
   "codemirror_mode": {
    "name": "ipython",
    "version": 3
   },
   "file_extension": ".py",
   "mimetype": "text/x-python",
   "name": "python",
   "nbconvert_exporter": "python",
   "pygments_lexer": "ipython3",
   "version": "3.6.1"
  }
 },
 "nbformat": 4,
 "nbformat_minor": 2
}
