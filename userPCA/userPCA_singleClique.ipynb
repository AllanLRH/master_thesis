{
 "cells": [
  {
   "cell_type": "code",
   "execution_count": null,
   "metadata": {
    "collapsed": false
   },
   "outputs": [],
   "source": [
    "import sys\n",
    "import os\n",
    "sys.path.append(os.path.abspath(\"..\"))\n",
    "import itertools\n",
    "\n",
    "import warnings\n",
    "warnings.filterwarnings('ignore')\n",
    "\n",
    "import numpy as np\n",
    "import bottleneck as bn\n",
    "import pandas as pd\n",
    "from sklearn import decomposition\n",
    "import networkx as nx\n",
    "# import networkx.algorithms.approximation as nxa\n",
    "import igraph as ig\n",
    "# # http://stackoverflow.com/questions/35279733/what-could-cause-networkx-pygraphviz-to-work-fine-alone-but-not-together\n",
    "# from networkx.drawing.nx_agraph import graphviz_layout\n",
    "import matplotlib as mpl\n",
    "import matplotlib.pyplot as plt\n",
    "import seaborn as sns\n",
    "sns.set_style(\"darkgrid\", {\"axes.facecolor\": \".95\"})\n",
    "import missingno as msno\n",
    "%matplotlib inline\n",
    "\n",
    "from collections import defaultdict, Counter\n",
    "from IPython.display import display as disp\n",
    "\n",
    "from speclib.loaders import (loadUserPhonenumberDict, getUserList, Useralias,\n",
    "                             loadUserParallel, dict2DataFrame, users2DataFrame)\n",
    "from speclib.plotting import looseAxesLimits, barSBS, countsOnBarPlot, plotNeatoGraph, nxQuickDraw, barFractionPlot\n",
    "from speclib.graph import networkx2igraph, igraph2networkx, userDF2nxGraph, userDF2activityDataframe\n",
    "from speclib.misc import nanEqual, timedelta2unit, standardizeData\n",
    "\n",
    "for k, v in {'font.size': 13.0,\n",
    "             'legend.fontsize': 13.0,\n",
    "             'axes.labelsize': 12.0,\n",
    "             'axes.titlesize': 15.0,\n",
    "             'figure.figsize': [16.0, 7.0],\n",
    "             'figure.dpi': 200,\n",
    "             'figure.titlesize': 'large',\n",
    "             'xtick.labelsize': 13.0,\n",
    "             'ytick.labelsize': 13.0}.items():\n",
    "    mpl.rcParams[k] = v\n",
    "\n",
    "%load_ext watermark\n",
    "%watermark -a \"Allan Leander Rostock Hansen\" -u -d -v -p numpy,bottleneck,pandas,matplotlib,sklearn,missingno\n",
    "%watermark  -p networkx,igraph,seaborn"
   ]
  },
  {
   "cell_type": "markdown",
   "metadata": {},
   "source": [
    "# Load and clean data"
   ]
  },
  {
   "cell_type": "code",
   "execution_count": null,
   "metadata": {
    "collapsed": false
   },
   "outputs": [],
   "source": [
    "if os.path.isfile('phone_df.h5'):\n",
    "    df = pd.io.pytables.read_hdf('phone_df.h5', 'df')\n",
    "    import pickle\n",
    "    with open('useralias.pk', 'br') as fid:\n",
    "        ua = pickle.load(fid)\n",
    "else:\n",
    "    ua = Useralias()\n",
    "    userSpec = [(user, ua[user], ('sms', 'call')) for user in getUserList()]\n",
    "    userData = loadUserParallel(userSpec) \n",
    "    df = users2DataFrame(userData, ua)\n",
    "    del userData\n",
    "phonebook = loadUserPhonenumberDict(ua) \n",
    "df.head() "
   ]
  },
  {
   "cell_type": "markdown",
   "metadata": {},
   "source": [
    "Remove call to users not in phonebook."
   ]
  },
  {
   "cell_type": "code",
   "execution_count": null,
   "metadata": {
    "collapsed": false
   },
   "outputs": [],
   "source": [
    "df = df[df.number.isin(phonebook)] "
   ]
  },
  {
   "cell_type": "markdown",
   "metadata": {},
   "source": [
    "Add _contactedUser_ column and remove the _number_ column."
   ]
  },
  {
   "cell_type": "code",
   "execution_count": null,
   "metadata": {
    "collapsed": false
   },
   "outputs": [],
   "source": [
    "df['contactedUser'] = df.number.apply(lambda x: phonebook[x]) \n",
    "df = df.drop('number', axis=1)"
   ]
  },
  {
   "cell_type": "code",
   "execution_count": null,
   "metadata": {
    "collapsed": false
   },
   "outputs": [],
   "source": [
    "df.head() "
   ]
  },
  {
   "cell_type": "markdown",
   "metadata": {},
   "source": [
    "## Check for obvious outliers"
   ]
  },
  {
   "cell_type": "code",
   "execution_count": null,
   "metadata": {
    "collapsed": false
   },
   "outputs": [],
   "source": [
    "ax = df.timestamp.dt.year.value_counts().sort_index(ascending=True).plot.bar() \n",
    "countsOnBarPlot(ax) "
   ]
  },
  {
   "cell_type": "markdown",
   "metadata": {},
   "source": [
    "Remove data preceding 2013."
   ]
  },
  {
   "cell_type": "code",
   "execution_count": null,
   "metadata": {
    "collapsed": false
   },
   "outputs": [],
   "source": [
    "df = df[df.timestamp.dt.year >= 2013] "
   ]
  },
  {
   "cell_type": "markdown",
   "metadata": {},
   "source": [
    "## Remove users contacting themself"
   ]
  },
  {
   "cell_type": "code",
   "execution_count": null,
   "metadata": {
    "collapsed": false
   },
   "outputs": [],
   "source": [
    "tmp = df.reset_index()\n",
    "tmp = tmp[(tmp.user != tmp.contactedUser)]\n",
    "df = tmp.set_index(['user', 'comtype'], drop=False)\n",
    "del tmp"
   ]
  },
  {
   "cell_type": "markdown",
   "metadata": {},
   "source": [
    "# Turn data into a Networkx graph"
   ]
  },
  {
   "cell_type": "code",
   "execution_count": null,
   "metadata": {
    "collapsed": false
   },
   "outputs": [],
   "source": [
    "aDct = dict()\n",
    "for i, user in enumerate(df.index.get_level_values('user').unique()): \n",
    "    aDct[user] = df.loc[user].contactedUser.value_counts().to_dict() "
   ]
  },
  {
   "cell_type": "code",
   "execution_count": null,
   "metadata": {
    "collapsed": false
   },
   "outputs": [],
   "source": [
    "adf = pd.DataFrame.from_dict(aDct, orient='index')\n",
    "adf.sort_index(axis=1, inplace=True)\n",
    "adf.head()"
   ]
  },
  {
   "cell_type": "code",
   "execution_count": null,
   "metadata": {
    "collapsed": false
   },
   "outputs": [],
   "source": [
    "g = nx.Graph(aDct) "
   ]
  },
  {
   "cell_type": "markdown",
   "metadata": {},
   "source": [
    "Ensure that the graph contains the correct number of nodes"
   ]
  },
  {
   "cell_type": "code",
   "execution_count": null,
   "metadata": {
    "collapsed": false
   },
   "outputs": [],
   "source": [
    "assert len(list(g.nodes())) == len(set(df.index.get_level_values('user').tolist() + df.contactedUser.tolist())) "
   ]
  },
  {
   "cell_type": "markdown",
   "metadata": {},
   "source": [
    "## Analyse the graph"
   ]
  },
  {
   "cell_type": "code",
   "execution_count": null,
   "metadata": {
    "collapsed": false
   },
   "outputs": [],
   "source": [
    "fig, ax = plt.subplots()\n",
    "cnt = Counter(el[1] for el in g.degree())\n",
    "x, y = list(zip(*((i, cnt[i]) for i in range(max(cnt)+1))))\n",
    "ax.bar(x, y)\n",
    "ax.set_xlabel('Node degree')\n",
    "ax.set_ylabel('Counts')\n",
    "countsOnBarPlot(ax) "
   ]
  },
  {
   "cell_type": "markdown",
   "metadata": {},
   "source": [
    "# Community detection\n",
    "\n",
    "Find communities consisting of 5-cliques with a 4 degree connection between the cliques.\n",
    "<font color=\"red\">Check up on this!</font>\n",
    "\n",
    "[From Documentation](http://networkx.readthedocs.io/en/latest/reference/generated/networkx.algorithms.community.kclique.k_clique_communities.html#networkx.algorithms.community.kclique.k_clique_communities):\n",
    "\n",
    "    Find k-clique communities in graph using the percolation method.\n",
    "\n",
    "    A k-clique community is the union of all cliques of size k that can be reached through adjacent (sharing k-1 nodes) k-cliques."
   ]
  },
  {
   "cell_type": "code",
   "execution_count": null,
   "metadata": {
    "collapsed": false
   },
   "outputs": [],
   "source": [
    "kcDf = pd.DataFrame(sorted(nx.algorithms.community.k_clique_communities(g, 5), key=lambda x: len(x), reverse=True))\n",
    "kcDf.columns.name = 'users'\n",
    "kcDf.index.name = 'communityNumber'\n",
    "disp(kcDf.head())\n",
    "\n",
    "gsc = g.subgraph(kcDf.iloc[0])\n",
    "nxQuickDraw(gsc) "
   ]
  },
  {
   "cell_type": "markdown",
   "metadata": {},
   "source": [
    "# Clique detection"
   ]
  },
  {
   "cell_type": "code",
   "execution_count": null,
   "metadata": {
    "collapsed": false
   },
   "outputs": [],
   "source": [
    "cliqueDf = pd.DataFrame(nx.clique.find_cliques_recursive(g))\n",
    "\n",
    "cliqueDf['cliqueSize'] = cliqueDf.count(axis=1)\n",
    "cliqueDf = cliqueDf.sort_values('cliqueSize', ascending=False)\n",
    "\n",
    "ax = cliqueDf.cliqueSize.value_counts().sort_index().plot.bar(rot=0) \n",
    "ax.set_xlabel('Clique size')\n",
    "ax.set_ylabel('Counts') "
   ]
  },
  {
   "cell_type": "markdown",
   "metadata": {},
   "source": [
    "## Choose a clique with 5 users and make a subgraph "
   ]
  },
  {
   "cell_type": "code",
   "execution_count": null,
   "metadata": {
    "collapsed": false
   },
   "outputs": [],
   "source": [
    "chosenUserLst = cliqueDf[cliqueDf.cliqueSize == 5].drop('cliqueSize', axis=1).iloc[1].dropna().tolist()\n",
    "print(\"Chosen users:\", *chosenUserLst, sep='\\n') \n",
    "gs = g.subgraph(chosenUserLst)\n",
    "nxQuickDraw(gs) "
   ]
  },
  {
   "cell_type": "markdown",
   "metadata": {
    "collapsed": false
   },
   "source": [
    "## Create timebinning for chosen users"
   ]
  },
  {
   "cell_type": "code",
   "execution_count": null,
   "metadata": {
    "collapsed": false
   },
   "outputs": [],
   "source": [
    "ax = barFractionPlot(userDF2activityDataframe(df.loc[chosenUserLst]).sum(axis=1))"
   ]
  },
  {
   "cell_type": "code",
   "execution_count": null,
   "metadata": {
    "collapsed": false
   },
   "outputs": [],
   "source": [
    "tmp = df.loc[chosenUserLst]\n",
    "tmp = tmp[tmp.contactedUser.isin(chosenUserLst)]\n",
    "tmp.head() "
   ]
  },
  {
   "cell_type": "code",
   "execution_count": null,
   "metadata": {
    "collapsed": false
   },
   "outputs": [],
   "source": [
    "aggLst = list()\n",
    "tmp['weekTimeBin'] = np.floor(tmp.hour/6).astype(np.int)\n",
    "for _, itrDf in tmp.groupby(['weekday', 'weekTimeBin'], as_index=False):\n",
    "    itrG = userDF2nxGraph(itrDf)\n",
    "    itrAdj = nx.adj_matrix(itrG, nodelist=chosenUserLst)\n",
    "    aggLst.append(itrAdj)\n",
    "toPcaRaw = np.zeros((len(chosenUserLst)**2, len(aggLst)))\n",
    "for i in range(len(aggLst)):\n",
    "    toPcaRaw[:, i] = aggLst[i].todense().reshape((1, -1))\n",
    "\n",
    "fig, ax = plt.subplots()\n",
    "pc = ax.pcolorfast(toPcaRaw) \n",
    "fig.colorbar(pc)"
   ]
  },
  {
   "cell_type": "code",
   "execution_count": null,
   "metadata": {
    "collapsed": false
   },
   "outputs": [],
   "source": [
    "toPca = standardizeData(toPcaRaw)\n",
    "\n",
    "pca = decomposition.PCA()\n",
    "pca.fit(toPca)\n",
    "fig, ax = plt.subplots()\n",
    "ax.plot(pca.explained_variance_ratio_)\n",
    "ax.set_xlabel('Eigenvalue #')"
   ]
  },
  {
   "cell_type": "code",
   "execution_count": null,
   "metadata": {
    "collapsed": false
   },
   "outputs": [],
   "source": [
    "evrWithoutZeroColumns = pca.explained_variance_"
   ]
  },
  {
   "cell_type": "markdown",
   "metadata": {},
   "source": [
    "### Include 0-columns\n",
    "\n",
    "They shouldn't contain any data, and only span the null-vector space"
   ]
  },
  {
   "cell_type": "code",
   "execution_count": null,
   "metadata": {
    "collapsed": false
   },
   "outputs": [],
   "source": [
    "# Include 0-columns\n",
    "tmp['weekTimeBin'] = np.floor(tmp.hour/6).astype(np.int)\n",
    "toPcaRaw = np.zeros((len(chosenUserLst)**2, 7*6))\n",
    "ttmp = tmp#   tmp.reset_index(drop=True) \n",
    "for i, (wd, wtb) in enumerate(itertools.product(range(7), range(6))):\n",
    "    itrDf = ttmp.loc[(ttmp.weekday==wd) & (ttmp.weekTimeBin==wtb)]\n",
    "    itrG = userDF2nxGraph(itrDf)\n",
    "    itrAdj = nx.adj_matrix(itrG, nodelist=chosenUserLst)\n",
    "    toPcaRaw[:, i] = itrAdj.todense().reshape((1, -1)) "
   ]
  },
  {
   "cell_type": "code",
   "execution_count": null,
   "metadata": {
    "collapsed": false
   },
   "outputs": [],
   "source": [
    "toPca = standardizeData(toPcaRaw)\n",
    "\n",
    "pca = decomposition.PCA()\n",
    "pca.fit(toPca)\n",
    "fig, ax = plt.subplots()\n",
    "ax.plot(pca.explained_variance_ratio_)\n",
    "ax.set_xlabel('Eigenvalue #')"
   ]
  },
  {
   "cell_type": "markdown",
   "metadata": {},
   "source": [
    "Throw AssertionError of there's an effect from including a feq 0-columns"
   ]
  },
  {
   "cell_type": "code",
   "execution_count": null,
   "metadata": {
    "collapsed": false
   },
   "outputs": [],
   "source": [
    "assert np.allclose(pca.explained_variance_, evrWithoutZeroColumns)"
   ]
  },
  {
   "cell_type": "code",
   "execution_count": null,
   "metadata": {
    "collapsed": false
   },
   "outputs": [],
   "source": []
  }
 ],
 "metadata": {
  "anaconda-cloud": {},
  "kernelspec": {
   "display_name": "Python [conda env:mpl2]",
   "language": "python",
   "name": "conda-env-mpl2-py"
  },
  "language_info": {
   "codemirror_mode": {
    "name": "ipython",
    "version": 3
   },
   "file_extension": ".py",
   "mimetype": "text/x-python",
   "name": "python",
   "nbconvert_exporter": "python",
   "pygments_lexer": "ipython3",
   "version": "3.5.3"
  }
 },
 "nbformat": 4,
 "nbformat_minor": 1
}
