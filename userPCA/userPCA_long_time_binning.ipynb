{
 "cells": [
  {
   "cell_type": "code",
   "execution_count": null,
   "metadata": {},
   "outputs": [],
   "source": [
    "import sys\n",
    "import os\n",
    "sys.path.append(os.path.abspath(\"..\"))\n",
    "import itertools\n",
    "\n",
    "import numpy as np\n",
    "import bottleneck as bn\n",
    "import pandas as pd\n",
    "from sklearn import decomposition\n",
    "import networkx as nx\n",
    "# import networkx.algorithms.approximation as nxa\n",
    "import igraph as ig\n",
    "# # http://stackoverflow.com/questions/35279733/what-could-cause-networkx-pygraphviz-to-work-fine-alone-but-not-together\n",
    "# from networkx.drawing.nx_agraph import graphviz_layout\n",
    "import matplotlib as mpl\n",
    "import matplotlib.pyplot as plt\n",
    "import seaborn as sns\n",
    "sns.set_style(\"darkgrid\", {\"axes.facecolor\": \".95\"})\n",
    "import missingno as msno\n",
    "import palettable\n",
    "%matplotlib inline\n",
    "\n",
    "import warnings\n",
    "warnings.simplefilter(\"ignore\", category=DeprecationWarning)\n",
    "warnings.simplefilter(\"ignore\", category=mpl.cbook.mplDeprecation)\n",
    "warnings.simplefilter(\"ignore\", category=UserWarning)\n",
    "\n",
    "\n",
    "from collections import defaultdict, Counter\n",
    "from IPython.display import display as disp\n",
    "from IPython.display import display_markdown\n",
    "mdisp = lambda s: display_markdown(s, raw=True)\n",
    "\n",
    "from speclib.loaders import *\n",
    "from speclib.plotting import *\n",
    "from speclib.graph import *\n",
    "from speclib.misc import *\n",
    "from speclib.userActivityFunctions import *\n",
    "\n",
    "for k, v in {'font.size': 13.0,\n",
    "             'legend.fontsize': 13.0,\n",
    "             'axes.labelsize': 12.0,\n",
    "             'axes.titlesize': 15.0,\n",
    "             'figure.figsize': [16.0, 7.0],\n",
    "             'figure.dpi': 200,\n",
    "             'figure.titlesize': 'large',\n",
    "             'xtick.labelsize': 13.0,\n",
    "             'ytick.labelsize': 13.0}.items():\n",
    "    mpl.rcParams[k] = v\n",
    "\n",
    "%load_ext watermark\n",
    "%watermark -a \"Allan Leander Rostock Hansen\" -u -d -v -p numpy,bottleneck,pandas,matplotlib,sklearn,missingno\n",
    "%watermark  -p networkx,igraph,seaborn,palettable"
   ]
  },
  {
   "cell_type": "code",
   "execution_count": null,
   "metadata": {
    "collapsed": false
   },
   "outputs": [],
   "source": [
    "%load_ext autoreload"
   ]
  },
  {
   "cell_type": "code",
   "execution_count": null,
   "metadata": {
    "collapsed": false
   },
   "outputs": [],
   "source": [
    "%autoreload -2"
   ]
  },
  {
   "cell_type": "markdown",
   "metadata": {},
   "source": [
    "# Load and clean data"
   ]
  },
  {
   "cell_type": "code",
   "execution_count": null,
   "metadata": {},
   "outputs": [],
   "source": [
    "if os.path.isfile('phone_df.h5'):\n",
    "    df = pd.io.pytables.read_hdf('phone_df.h5', 'df')\n",
    "    import pickle\n",
    "    with open('useralias.pk', 'br') as fid:\n",
    "        ua = pickle.load(fid)\n",
    "else:\n",
    "    ua = Useralias()\n",
    "    userSpec = [(user, ua[user], ('sms', 'call')) for user in getUserList()]\n",
    "    userData = loadUserParallel(userSpec) \n",
    "    df = users2DataFrame(userData, ua)\n",
    "    del userData\n",
    "phonebook = loadUserPhonenumberDict(ua) \n",
    "df.head() "
   ]
  },
  {
   "cell_type": "markdown",
   "metadata": {},
   "source": [
    "Remove call to users not in phonebook."
   ]
  },
  {
   "cell_type": "code",
   "execution_count": null,
   "metadata": {
    "collapsed": false
   },
   "outputs": [],
   "source": [
    "df = df[df.number.isin(phonebook)] "
   ]
  },
  {
   "cell_type": "markdown",
   "metadata": {},
   "source": [
    "Add _contactedUser_ column and remove the _number_ column."
   ]
  },
  {
   "cell_type": "code",
   "execution_count": null,
   "metadata": {
    "collapsed": false
   },
   "outputs": [],
   "source": [
    "df['contactedUser'] = df.number.apply(lambda x: phonebook[x]) \n",
    "df = df.drop('number', axis=1)"
   ]
  },
  {
   "cell_type": "code",
   "execution_count": null,
   "metadata": {},
   "outputs": [],
   "source": [
    "df.head() "
   ]
  },
  {
   "cell_type": "markdown",
   "metadata": {},
   "source": [
    "## Check for obvious outliers"
   ]
  },
  {
   "cell_type": "code",
   "execution_count": null,
   "metadata": {},
   "outputs": [],
   "source": [
    "ax = df.timestamp.dt.year.value_counts().sort_index(ascending=True).plot.bar() \n",
    "countsOnBarPlot(ax) "
   ]
  },
  {
   "cell_type": "markdown",
   "metadata": {},
   "source": [
    "Remove data preceding 2013."
   ]
  },
  {
   "cell_type": "code",
   "execution_count": null,
   "metadata": {
    "collapsed": false
   },
   "outputs": [],
   "source": [
    "df = df[df.timestamp.dt.year >= 2013] "
   ]
  },
  {
   "cell_type": "markdown",
   "metadata": {},
   "source": [
    "## Remove entries with users contacting themself"
   ]
  },
  {
   "cell_type": "code",
   "execution_count": null,
   "metadata": {
    "collapsed": false
   },
   "outputs": [],
   "source": [
    "tmp = df.reset_index()\n",
    "tmp = tmp[(tmp.user != tmp.contactedUser)]\n",
    "df = tmp.set_index(['user', 'comtype'], drop=False)\n",
    "del tmp"
   ]
  },
  {
   "cell_type": "markdown",
   "metadata": {},
   "source": [
    "# Turn data into a Networkx graph"
   ]
  },
  {
   "cell_type": "code",
   "execution_count": null,
   "metadata": {
    "collapsed": false
   },
   "outputs": [],
   "source": [
    "g = userDF2nxGraph(df)"
   ]
  },
  {
   "cell_type": "markdown",
   "metadata": {},
   "source": [
    "Ensure that the graph contains the correct number of nodes"
   ]
  },
  {
   "cell_type": "code",
   "execution_count": null,
   "metadata": {
    "collapsed": false
   },
   "outputs": [],
   "source": [
    "assert len(list(g.nodes())) == len(set(df.index.get_level_values('user').tolist() + df.contactedUser.tolist())) "
   ]
  },
  {
   "cell_type": "markdown",
   "metadata": {},
   "source": [
    "## Analyse the graph"
   ]
  },
  {
   "cell_type": "code",
   "execution_count": null,
   "metadata": {},
   "outputs": [],
   "source": [
    "fig, ax = plt.subplots()\n",
    "cnt = Counter(el[1] for el in g.degree())\n",
    "x, y = list(zip(*((i, cnt[i]) for i in range(max(cnt)+1))))\n",
    "ax.bar(x, y)\n",
    "ax.set_xlabel('Node degree')\n",
    "ax.set_ylabel('Counts')\n",
    "countsOnBarPlot(ax) "
   ]
  },
  {
   "cell_type": "markdown",
   "metadata": {},
   "source": [
    "# Community detection\n",
    "\n",
    "Find communities consisting of 5-cliques with a 4 degree connection between the cliques.\n",
    "\n",
    "[From Documentation](http://networkx.readthedocs.io/en/latest/reference/generated/networkx.algorithms.community.kclique.k_clique_communities.html#networkx.algorithms.community.kclique.k_clique_communities):\n",
    "\n",
    "> Find $k$-clique communities in graph using the percolation method.\n",
    "> \n",
    "> A $k$-clique community is the union of all cliques of size $k$ that can be reached through adjacent (sharing $k-1$ nodes) $k$-cliques."
   ]
  },
  {
   "cell_type": "code",
   "execution_count": null,
   "metadata": {},
   "outputs": [],
   "source": [
    "kcDf = pd.DataFrame(sorted(nx.algorithms.community.k_clique_communities(g, 5), key=lambda x: len(x), reverse=True))\n",
    "kcDf.columns.name = 'users'\n",
    "kcDf.index.name = 'communityNumber'\n",
    "disp(kcDf.head())\n",
    "\n",
    "gsc = g.subgraph(kcDf.iloc[0])\n",
    "nxQuickDraw(gsc) \n",
    "\n",
    "kcDf['communitySize'] = kcDf.count(axis=1)"
   ]
  },
  {
   "cell_type": "markdown",
   "metadata": {},
   "source": [
    "# Clique detection\n",
    "\n",
    "Could be used for analysis of a larger network"
   ]
  },
  {
   "cell_type": "code",
   "execution_count": null,
   "metadata": {},
   "outputs": [],
   "source": [
    "cliqueDf = pd.DataFrame(nx.clique.find_cliques_recursive(g))\n",
    "\n",
    "cliqueDf['cliqueSize'] = cliqueDf.count(axis=1)\n",
    "cliqueDf = cliqueDf.sort_values('cliqueSize', ascending=False)\n",
    "cliqueDf = cliqueDf.reset_index(drop=True) \n",
    "\n",
    "ax = cliqueDf.cliqueSize.value_counts().sort_index().plot.bar(rot=0) \n",
    "ax.set_xlabel('Clique size') \n",
    "ax.set_ylabel('Counts') \n",
    "countsOnBarPlot(ax)\n",
    "\n",
    "cliqueDf = cliqueDf[cliqueDf.cliqueSize > 2]"
   ]
  },
  {
   "cell_type": "markdown",
   "metadata": {},
   "source": [
    "## Choose a clique with 5 users and make a subgraph "
   ]
  },
  {
   "cell_type": "code",
   "execution_count": null,
   "metadata": {},
   "outputs": [],
   "source": [
    "df.head() "
   ]
  },
  {
   "cell_type": "code",
   "execution_count": null,
   "metadata": {},
   "outputs": [],
   "source": [
    "chosenUserLst = cliqueDf[cliqueDf.cliqueSize == 5].drop('cliqueSize', axis=1).iloc[1].dropna().tolist()\n",
    "print(\"Chosen users:\", *chosenUserLst, sep='\\n') \n",
    "gs = g.subgraph(chosenUserLst)\n",
    "nxQuickDraw(gs, plotSettings={'with_labels': True})"
   ]
  },
  {
   "cell_type": "code",
   "execution_count": null,
   "metadata": {},
   "outputs": [],
   "source": [
    "df.head() "
   ]
  },
  {
   "cell_type": "markdown",
   "metadata": {},
   "source": [
    "Cut data to exclude time with low activity"
   ]
  },
  {
   "cell_type": "code",
   "execution_count": null,
   "metadata": {},
   "outputs": [],
   "source": [
    "# tmp = df[(df.timestamp > '20130810' ) & (df.timestamp < '20130920')]\n",
    "# tmp = tmp.groupby([tmp.timestamp.dt.month, tmp.timestamp.dt.day]).timeint.count()\n",
    "# ax = tmp.plot.bar() \n",
    "\n",
    "#       Cut DataFrame to chosen time interval                           Count on the date                Sort by date and plot it\n",
    "ax = df[(df.timestamp > '2013-08-10' ) & (df.timestamp < '2013-09-20')].timestamp.dt.date.value_counts().sort_index().plot.bar()\n",
    "ax.set_xlabel('Date')\n",
    "ax.set_ylabel('Communication events') "
   ]
  },
  {
   "cell_type": "markdown",
   "metadata": {},
   "source": [
    "Seems like the useage spiked around 21/08/2013. "
   ]
  },
  {
   "cell_type": "code",
   "execution_count": null,
   "metadata": {},
   "outputs": [],
   "source": [
    "fig, (ax0, ax1) = plt.subplots(1, 2)\n",
    "df.timestamp.hist(bins=180, ax=ax0, xrot=45)  \n",
    "ax0.set_title('Before date cropping')\n",
    "df = df[df.timestamp > '2013-08-21']\n",
    "df.timestamp.hist(bins=180, ax=ax1, xrot=45) \n",
    "ax1.set_title('After date cropping')"
   ]
  },
  {
   "cell_type": "markdown",
   "metadata": {},
   "source": [
    "### Determine start time offset for the binning "
   ]
  },
  {
   "cell_type": "markdown",
   "metadata": {},
   "source": [
    "Find the first occuring communication..."
   ]
  },
  {
   "cell_type": "code",
   "execution_count": null,
   "metadata": {},
   "outputs": [],
   "source": [
    "t0 = df.timestamp.min()\n",
    "t0"
   ]
  },
  {
   "cell_type": "markdown",
   "metadata": {},
   "source": [
    "…and choose the corresponding day..."
   ]
  },
  {
   "cell_type": "code",
   "execution_count": null,
   "metadata": {},
   "outputs": [],
   "source": [
    "t0d = pd.Timestamp(t0.date())\n",
    "t0d"
   ]
  },
  {
   "cell_type": "markdown",
   "metadata": {},
   "source": [
    "Since the timeint is in seconds, but Pandas keeps it's records in nanoseconds, the integer representation of the date needs to be divided by 1e9.\n",
    "\n",
    "To check that this is indeed true, compare the values of the integer casted `t0` to the timeint for the corresponding row:"
   ]
  },
  {
   "cell_type": "code",
   "execution_count": null,
   "metadata": {},
   "outputs": [],
   "source": [
    "np.int64(t0.value // 1e9) == df.loc[df.timestamp.idxmin()].timeint.values[0]"
   ]
  },
  {
   "cell_type": "markdown",
   "metadata": {},
   "source": [
    "Since it was true, use the following for the bin time start"
   ]
  },
  {
   "cell_type": "code",
   "execution_count": null,
   "metadata": {},
   "outputs": [],
   "source": [
    "t0d = np.int64(t0d.value // 1e9)\n",
    "t0 = np.int64(t0.value // 1e9) \n",
    "t0d"
   ]
  },
  {
   "cell_type": "markdown",
   "metadata": {},
   "source": [
    "Binning is simply performed by integer division with a suiting bin width.\n",
    "I choose 8 hours:"
   ]
  },
  {
   "cell_type": "code",
   "execution_count": null,
   "metadata": {},
   "outputs": [],
   "source": [
    "bw8h = 60**2*8\n",
    "df['tbin'] = (df.timeint - t0d) // bw8h\n",
    "df.head()"
   ]
  },
  {
   "cell_type": "code",
   "execution_count": null,
   "metadata": {
    "collapsed": false
   },
   "outputs": [],
   "source": [
    "ccdf = cliqueDf[cliqueDf.cliqueSize == 5].iloc[:5]"
   ]
  },
  {
   "cell_type": "code",
   "execution_count": null,
   "metadata": {},
   "outputs": [],
   "source": [
    "ccdf"
   ]
  },
  {
   "cell_type": "code",
   "execution_count": null,
   "metadata": {
    "collapsed": false
   },
   "outputs": [],
   "source": [
    "dct = communityDf2Pca(df, ccdf, 'tbin') "
   ]
  },
  {
   "cell_type": "code",
   "execution_count": null,
   "metadata": {},
   "outputs": [],
   "source": [
    "key = list(dct.keys())[0]\n",
    "pca = dct[key]\n",
    "disp(key, pca, pca.components_.shape, pca.components_[:, :3])  # three most dominant components"
   ]
  },
  {
   "cell_type": "code",
   "execution_count": null,
   "metadata": {},
   "outputs": [],
   "source": [
    "# evr = pca.explained_variance_ratio_\n",
    "# n = (np.cumsum(evr) <= evr.sum()*0.98).sum()  # number of vectors need for 98 % explanation of variance (?)\n",
    "# firstN = np.abs(pca.components_[:, :n])\n",
    "# \n",
    "# fig, ax = plt.subplots()\n",
    "# pc = ax.pcolorfast(pca.components_[:, :n], cmap='RdBu_r', vmin=-np.abs(firstN).max(), vmax=np.abs(firstN).max())\n",
    "# fig.colorbar(pc) \n",
    "# \n",
    "# firstN += firstN.min()\n",
    "# firstN[firstN < 1e-6] = 0.0\n",
    "# firstN /= firstN.sum()\n",
    "# firstN *= n\n",
    "# graphLst = [nx.from_numpy_matrix(upperTril2adjMat(firstN[:, i])) for i in range(n)] \n",
    "# \n",
    "# layout = nx.drawing.layout.circular_layout(graphLst[0])\n",
    "# \n",
    "# # weighFunc = lambda w: (2*w)**(1.5) + 1\n",
    "# weighFunc = lambda w: 5*w + 0.5\n",
    "# for i in range(n):\n",
    "#     fig, ax = plt.subplots(figsize=(10, 6))\n",
    "#     edgeLabels = {edge: '{:.0f}'.format(np.round(1000*weight)) for (edge, weight) in\n",
    "#                   nx.get_edge_attributes(graphLst[i], 'weight').items()}\n",
    "#     drawWeightedGraph(graphLst[i], ax=ax, layout=layout, normailzeWeights=False, weightFunc=weighFunc,\n",
    "#                       nodeLabels=True, edgeLabels=edgeLabels)\n",
    "#     fig.suptitle(f'Vector {i+1}/{n}') \n",
    "# \n",
    "# fig, axi = plt.subplots(2, 1)\n",
    "# for ax, n, lbl in zip(axi, [1, 6], ['', ' (smoothed)']):\n",
    "#     ax.plot(np.convolve(np.ones(n)/n, pca.norm_mean, 'same'), label='norm_mean' + lbl, color='#20a365')\n",
    "#     ax.plot(np.convolve(np.ones(n)/n, pca.norm_std, 'same'), label='norm_std' + lbl, color='#ea8a3f')\n",
    "#     ax.legend(loc='best')\n",
    "# \n",
    "# fig, axi = plt.subplots(2, 1)\n",
    "# for ax, n, lbl in zip(axi, [1, 6], ['', ' (smoothed)']):\n",
    "#     ax.plot(np.convolve(np.ones(n)/n, pca.norm_mean, 'same'), label='norm_mean' + lbl, color='#20a365')\n",
    "#     ax.plot(np.convolve(np.ones(n)/n, pca.norm_std, 'same'), label='norm_std' + lbl, color='#ea8a3f')\n",
    "#     ax.legend(loc='best')\n"
   ]
  },
  {
   "cell_type": "code",
   "execution_count": null,
   "metadata": {
    "scrolled": false
   },
   "outputs": [],
   "source": [
    "for com, pca in dct.items():\n",
    "    mdisp('### Community:' + ', '.join(com))\n",
    "    pcaPlot = PcaPlotter(pca)\n",
    "    pcaPlot.plotHeatmap() \n",
    "    pcaPlot.plotStandardization() \n",
    "    list(pcaPlot.plotGraphs()) \n",
    "    plt.show() # force drawing of plots befor next iteration, and thus header, is printed."
   ]
  },
  {
   "cell_type": "markdown",
   "metadata": {},
   "source": [
    "# TODO:\n",
    "\n",
    "* Labels on PCA-graphs\n",
    "* Number of significant vectors in pcolor-plot\n",
    "* Detect \"interesting\" communities"
   ]
  },
  {
   "cell_type": "code",
   "execution_count": null,
   "metadata": {
    "collapsed": false
   },
   "outputs": [],
   "source": []
  }
 ],
 "metadata": {
  "anaconda-cloud": {},
  "kernelspec": {
   "display_name": "Python 3",
   "language": "python",
   "name": "python3"
  },
  "language_info": {
   "codemirror_mode": {
    "name": "ipython",
    "version": 3
   },
   "file_extension": ".py",
   "mimetype": "text/x-python",
   "name": "python",
   "nbconvert_exporter": "python",
   "pygments_lexer": "ipython3",
   "version": "3.6.1"
  }
 },
 "nbformat": 4,
 "nbformat_minor": 1
}
