{
 "cells": [
  {
   "cell_type": "code",
   "execution_count": 36,
   "metadata": {},
   "outputs": [],
   "source": [
    "import sys\n",
    "import os\n",
    "sys.path.append(os.path.abspath(\"..\"))\n",
    "\n",
    "import re\n",
    "import multiprocessing\n",
    "from collections import Counter\n",
    "import itertools\n",
    "import json\n",
    "from IPython.display import display as disp\n",
    "\n",
    "import numpy as np\n",
    "# import bottleneck as bn\n",
    "import pandas as pd\n",
    "import networkx as nx\n",
    "# import igraph as ig\n",
    "import matplotlib as mpl\n",
    "import matplotlib.pyplot as plt\n",
    "import seaborn as sns\n",
    "sns.set(context='paper', style='whitegrid', color_codes=True, font_scale=1.8)\n",
    "colorcycle = [(0.498, 0.788, 0.498),\n",
    "              (0.745, 0.682, 0.831),\n",
    "              (0.992, 0.753, 0.525),\n",
    "              (0.220, 0.424, 0.690),\n",
    "              (0.749, 0.357, 0.090),\n",
    "              (1.000, 1.000, 0.600),\n",
    "              (0.941, 0.008, 0.498),\n",
    "              (0.400, 0.400, 0.400)]\n",
    "%matplotlib inline\n",
    "sns.set_palette(colorcycle)\n",
    "mpl.rcParams['figure.max_open_warning'] = 65\n",
    "mpl.rcParams['figure.figsize'] = [12, 7]\n",
    "\n",
    "# import warnings\n",
    "# warnings.simplefilter(\"ignore\", category=DeprecationWarning)\n",
    "# warnings.simplefilter(\"ignore\", category=mpl.cbook.mplDeprecation)\n",
    "# warnings.simplefilter(\"ignore\", category=UserWarning)\n",
    "\n",
    "\n",
    "from speclib import misc, loaders, graph, plotting\n",
    "\n",
    "pd.set_option('display.max_rows', 55)\n",
    "pd.set_option('display.max_columns', 10)\n",
    "pd.set_option('display.width', 1000)\n",
    "np.set_printoptions(linewidth=145)\n",
    "\n",
    "import pickle\n",
    "import warnings\n",
    "\n",
    "# import pixiedust"
   ]
  },
  {
   "cell_type": "code",
   "execution_count": 38,
   "metadata": {},
   "outputs": [],
   "source": [
    "warnings.filterwarnings('ignore', category=UserWarning)"
   ]
  },
  {
   "cell_type": "code",
   "execution_count": 39,
   "metadata": {},
   "outputs": [],
   "source": [
    "def read_pkl(pkl):\n",
    "    with open(pkl, 'br') as fid:\n",
    "        data = pickle.load(fid)\n",
    "    return data "
   ]
  },
  {
   "cell_type": "code",
   "execution_count": 78,
   "metadata": {},
   "outputs": [
    {
     "name": "stdout",
     "output_type": "stream",
     "text": [
      "\u001b[4mPermissions\u001b[0m \u001b[4mSize\u001b[0m \u001b[4mUser\u001b[0m   \u001b[4mDate Modified\u001b[0m \u001b[4mName\u001b[0m\r\n",
      ".\u001b[1;33mr\u001b[31mw\u001b[0m\u001b[38;5;244m-\u001b[33mr\u001b[31mw\u001b[38;5;244m-\u001b[33mr\u001b[38;5;244m--\u001b[0m  \u001b[1;32m146\u001b[0m\u001b[32mk\u001b[0m \u001b[1;33mbzg778\u001b[0m \u001b[34m22 Mar  2017\u001b[0m  clique_pca_evr_dump.pickle\r\n",
      ".\u001b[1;33mr\u001b[31mw\u001b[0m\u001b[38;5;244m-\u001b[33mr\u001b[31mw\u001b[38;5;244m-\u001b[33mr\u001b[38;5;244m--\u001b[0m  \u001b[1;32m142\u001b[0m\u001b[32mM\u001b[0m \u001b[1;33mbzg778\u001b[0m \u001b[34m30 May  2017\u001b[0m  ica_result_clique.pickle\r\n",
      ".\u001b[1;33mr\u001b[31mw\u001b[0m\u001b[38;5;244m-\u001b[33mr\u001b[31mw\u001b[38;5;244m-\u001b[33mr\u001b[38;5;244m--\u001b[0m   \u001b[1;32m13\u001b[0m\u001b[32mM\u001b[0m \u001b[1;33mbzg778\u001b[0m \u001b[34m30 May  2017\u001b[0m  ica_result_community.pickle\r\n",
      ".\u001b[1;33mr\u001b[31mw\u001b[0m\u001b[38;5;244m-\u001b[33mr\u001b[31mw\u001b[38;5;244m-\u001b[33mr\u001b[38;5;244m--\u001b[0m   \u001b[1;32m53\u001b[0m\u001b[32mM\u001b[0m \u001b[1;33mbzg778\u001b[0m \u001b[34m 1 Nov 13:19\u001b[0m  parallel_pca_data.h5\r\n",
      ".\u001b[1;33mr\u001b[31mw\u001b[0m\u001b[38;5;244m-\u001b[33mr\u001b[31mw\u001b[38;5;244m-\u001b[33mr\u001b[38;5;244m--\u001b[0m   \u001b[1;32m63\u001b[0m\u001b[32mM\u001b[0m \u001b[1;33mbzg778\u001b[0m \u001b[34m24 May  2017\u001b[0m  pca_result_clique.pickle\r\n",
      ".\u001b[1;33mr\u001b[31mw\u001b[0m\u001b[38;5;244m-\u001b[33mr\u001b[31mw\u001b[38;5;244m-\u001b[33mr\u001b[38;5;244m--\u001b[0m  \u001b[1;32m5.0\u001b[0m\u001b[32mM\u001b[0m \u001b[1;33mbzg778\u001b[0m \u001b[34m24 May  2017\u001b[0m  pca_result_community.pickle\r\n",
      ".\u001b[1;33mr\u001b[31mw\u001b[0m\u001b[38;5;244m-\u001b[33mr\u001b[31mw\u001b[38;5;244m-\u001b[33mr\u001b[38;5;244m--\u001b[0m  \u001b[1;32m5.9\u001b[0m\u001b[32mM\u001b[0m \u001b[1;33mbzg778\u001b[0m \u001b[34m 1 Nov 13:19\u001b[0m  temp.h5\r\n",
      ".\u001b[1;33mr\u001b[31mw\u001b[0m\u001b[38;5;244m-\u001b[33mr\u001b[31mw\u001b[38;5;244m-\u001b[33mr\u001b[38;5;244m--\u001b[0m   \u001b[1;32m57\u001b[0m\u001b[32mk\u001b[0m \u001b[1;33mbzg778\u001b[0m \u001b[34m20 Feb  2017\u001b[0m  useralias.pk\r\n"
     ]
    }
   ],
   "source": [
    "!/lscr_paper/allan/bin_allan/exa --header --long *.pickle *.h5 *.pk"
   ]
  },
  {
   "cell_type": "code",
   "execution_count": 61,
   "metadata": {},
   "outputs": [
    {
     "name": "stdout",
     "output_type": "stream",
     "text": [
      "<class 'dict'>\n",
      "5\n"
     ]
    }
   ],
   "source": [
    "data = read_pkl('clique_pca_evr_dump.pickle') \n",
    "print(type(data))\n",
    "print(len(data)) "
   ]
  },
  {
   "cell_type": "code",
   "execution_count": 76,
   "metadata": {},
   "outputs": [
    {
     "name": "stdout",
     "output_type": "stream",
     "text": [
      "<class 'list'>\n",
      "(['u0489', 'u0128', 'u0491', 'u0813', 'u0287', 'u0758'], FastICA(algorithm='parallel', fun='logcosh', fun_args=None, max_iter=1500,\n",
      "    n_components=None,\n",
      "    random_state=<mtrand.RandomState object at 0x7fd3f3cecdc8>, tol=0.001,\n",
      "    w_init=None, whiten=True))\n",
      "411\n"
     ]
    }
   ],
   "source": [
    "data = read_pkl('ica_result_clique.pickle')\n",
    "print(type(data))\n",
    "print(data[0])\n",
    "print(len(data))"
   ]
  },
  {
   "cell_type": "code",
   "execution_count": 75,
   "metadata": {},
   "outputs": [
    {
     "name": "stdout",
     "output_type": "stream",
     "text": [
      "<class 'list'>\n",
      "(['u0128', 'u0491', 'u0324', 'u1023', 'u0441', 'u0758', 'u0287', 'u0154', 'u0489', 'u0444', 'u0813', 'u0951', 'u0477', 'u0150'], FastICA(algorithm='parallel', fun='logcosh', fun_args=None, max_iter=1500,\n",
      "    n_components=None,\n",
      "    random_state=<mtrand.RandomState object at 0x7fd3f3c26948>, tol=0.001,\n",
      "    w_init=None, whiten=True))\n",
      "8\n"
     ]
    }
   ],
   "source": [
    "data = read_pkl('ica_result_community.pickle')\n",
    "print(type(data))\n",
    "print(data[0]) \n",
    "print(len(data))"
   ]
  },
  {
   "cell_type": "code",
   "execution_count": 74,
   "metadata": {},
   "outputs": [
    {
     "name": "stdout",
     "output_type": "stream",
     "text": [
      "<class 'list'>\n",
      "(['u0489', 'u0491', 'u0758', 'u0287', 'u0128', 'u0813'], PCA(copy=True, iterated_power='auto', n_components=None, random_state=None,\n",
      "  svd_solver='auto', tol=0.0, whiten=False))\n",
      "411\n"
     ]
    }
   ],
   "source": [
    "data = read_pkl('pca_result_clique.pickle')\n",
    "print(type(data))\n",
    "print(data[0]) \n",
    "print(len(data)) "
   ]
  },
  {
   "cell_type": "code",
   "execution_count": 73,
   "metadata": {},
   "outputs": [
    {
     "name": "stdout",
     "output_type": "stream",
     "text": [
      "<class 'list'>\n",
      "(['u1023', 'u0154', 'u0287', 'u0951', 'u0491', 'u0324', 'u0444', 'u0150', 'u0477', 'u0128', 'u0813', 'u0758', 'u0441', 'u0489'], PCA(copy=True, iterated_power='auto', n_components=None, random_state=None,\n",
      "  svd_solver='auto', tol=0.0, whiten=False))\n",
      "8\n"
     ]
    }
   ],
   "source": [
    "data = read_pkl('pca_result_community.pickle')\n",
    "print(type(data))\n",
    "print(data[0])\n",
    "print(len(data))"
   ]
  },
  {
   "cell_type": "code",
   "execution_count": 70,
   "metadata": {},
   "outputs": [
    {
     "name": "stdout",
     "output_type": "stream",
     "text": [
      "['/communityLst', '/df']\n",
      "0    (u0324, u0287, u0813, u0491, u0758, u0128)\n",
      "1           (u0324, u0287, u0477, u0444, u0128)\n",
      "2                  (u0786, u1040, u0808, u0930)\n",
      "3                         (u0111, u0147, u0576)\n",
      "dtype: object\n"
     ]
    },
    {
     "data": {
      "text/html": [
       "<div>\n",
       "<style scoped>\n",
       "    .dataframe tbody tr th:only-of-type {\n",
       "        vertical-align: middle;\n",
       "    }\n",
       "\n",
       "    .dataframe tbody tr th {\n",
       "        vertical-align: top;\n",
       "    }\n",
       "\n",
       "    .dataframe thead th {\n",
       "        text-align: right;\n",
       "    }\n",
       "</style>\n",
       "<table border=\"1\" class=\"dataframe\">\n",
       "  <thead>\n",
       "    <tr style=\"text-align: right;\">\n",
       "      <th></th>\n",
       "      <th></th>\n",
       "      <th>user</th>\n",
       "      <th>comtype</th>\n",
       "      <th>body</th>\n",
       "      <th>duration</th>\n",
       "      <th>hour</th>\n",
       "      <th>timeint</th>\n",
       "      <th>timestamp</th>\n",
       "      <th>weekday</th>\n",
       "      <th>contactedUser</th>\n",
       "      <th>tbin</th>\n",
       "    </tr>\n",
       "    <tr>\n",
       "      <th>user</th>\n",
       "      <th>comtype</th>\n",
       "      <th></th>\n",
       "      <th></th>\n",
       "      <th></th>\n",
       "      <th></th>\n",
       "      <th></th>\n",
       "      <th></th>\n",
       "      <th></th>\n",
       "      <th></th>\n",
       "      <th></th>\n",
       "      <th></th>\n",
       "    </tr>\n",
       "  </thead>\n",
       "  <tbody>\n",
       "    <tr>\n",
       "      <th rowspan=\"5\" valign=\"top\">u0001</th>\n",
       "      <th>call</th>\n",
       "      <td>u0001</td>\n",
       "      <td>call</td>\n",
       "      <td>NaN</td>\n",
       "      <td>0.0</td>\n",
       "      <td>1</td>\n",
       "      <td>1390698006</td>\n",
       "      <td>2014-01-26 01:00:06</td>\n",
       "      <td>6</td>\n",
       "      <td>u0493</td>\n",
       "      <td>474</td>\n",
       "    </tr>\n",
       "    <tr>\n",
       "      <th>call</th>\n",
       "      <td>u0001</td>\n",
       "      <td>call</td>\n",
       "      <td>NaN</td>\n",
       "      <td>0.0</td>\n",
       "      <td>14</td>\n",
       "      <td>1391176805</td>\n",
       "      <td>2014-01-31 14:00:05</td>\n",
       "      <td>4</td>\n",
       "      <td>u0493</td>\n",
       "      <td>490</td>\n",
       "    </tr>\n",
       "    <tr>\n",
       "      <th>call</th>\n",
       "      <td>u0001</td>\n",
       "      <td>call</td>\n",
       "      <td>NaN</td>\n",
       "      <td>29.0</td>\n",
       "      <td>14</td>\n",
       "      <td>1391782631</td>\n",
       "      <td>2014-02-07 14:17:11</td>\n",
       "      <td>4</td>\n",
       "      <td>u0117</td>\n",
       "      <td>511</td>\n",
       "    </tr>\n",
       "    <tr>\n",
       "      <th>call</th>\n",
       "      <td>u0001</td>\n",
       "      <td>call</td>\n",
       "      <td>NaN</td>\n",
       "      <td>22.0</td>\n",
       "      <td>14</td>\n",
       "      <td>1391782712</td>\n",
       "      <td>2014-02-07 14:18:32</td>\n",
       "      <td>4</td>\n",
       "      <td>u0493</td>\n",
       "      <td>511</td>\n",
       "    </tr>\n",
       "    <tr>\n",
       "      <th>call</th>\n",
       "      <td>u0001</td>\n",
       "      <td>call</td>\n",
       "      <td>NaN</td>\n",
       "      <td>3.0</td>\n",
       "      <td>14</td>\n",
       "      <td>1394805935</td>\n",
       "      <td>2014-03-14 14:05:35</td>\n",
       "      <td>4</td>\n",
       "      <td>u0117</td>\n",
       "      <td>616</td>\n",
       "    </tr>\n",
       "  </tbody>\n",
       "</table>\n",
       "</div>"
      ],
      "text/plain": [
       "                user comtype body  duration  hour     timeint           timestamp  weekday contactedUser  tbin\n",
       "user  comtype                                                                                                 \n",
       "u0001 call     u0001    call  NaN       0.0     1  1390698006 2014-01-26 01:00:06        6         u0493   474\n",
       "      call     u0001    call  NaN       0.0    14  1391176805 2014-01-31 14:00:05        4         u0493   490\n",
       "      call     u0001    call  NaN      29.0    14  1391782631 2014-02-07 14:17:11        4         u0117   511\n",
       "      call     u0001    call  NaN      22.0    14  1391782712 2014-02-07 14:18:32        4         u0493   511\n",
       "      call     u0001    call  NaN       3.0    14  1394805935 2014-03-14 14:05:35        4         u0117   616"
      ]
     },
     "metadata": {},
     "output_type": "display_data"
    }
   ],
   "source": [
    "with pd.HDFStore('parallel_pca_data.h5') as store:\n",
    "    print(store.keys())\n",
    "    print(store['communityLst'])\n",
    "    disp(store['df'].head()) "
   ]
  },
  {
   "cell_type": "code",
   "execution_count": 72,
   "metadata": {},
   "outputs": [
    {
     "name": "stdout",
     "output_type": "stream",
     "text": [
      "['/(u0841, u0233, u0748, u0404, u0788)', '/dftmp']\n"
     ]
    },
    {
     "data": {
      "text/html": [
       "<div>\n",
       "<style scoped>\n",
       "    .dataframe tbody tr th:only-of-type {\n",
       "        vertical-align: middle;\n",
       "    }\n",
       "\n",
       "    .dataframe tbody tr th {\n",
       "        vertical-align: top;\n",
       "    }\n",
       "\n",
       "    .dataframe thead th {\n",
       "        text-align: right;\n",
       "    }\n",
       "</style>\n",
       "<table border=\"1\" class=\"dataframe\">\n",
       "  <thead>\n",
       "    <tr style=\"text-align: right;\">\n",
       "      <th></th>\n",
       "      <th>0</th>\n",
       "    </tr>\n",
       "  </thead>\n",
       "  <tbody>\n",
       "    <tr>\n",
       "      <th>(u0645, u0683, u0618, u0388, u0676, u0993, u0446)</th>\n",
       "      <td>PCA(copy=True, iterated_power='auto', n_compon...</td>\n",
       "    </tr>\n",
       "    <tr>\n",
       "      <th>(u0241, u0392, u0122, u0478, u0739, u0264)</th>\n",
       "      <td>PCA(copy=True, iterated_power='auto', n_compon...</td>\n",
       "    </tr>\n",
       "    <tr>\n",
       "      <th>(u0324, u0973, u0818, u0758, u0441)</th>\n",
       "      <td>PCA(copy=True, iterated_power='auto', n_compon...</td>\n",
       "    </tr>\n",
       "    <tr>\n",
       "      <th>(u0149, u0011, u0768, u0202)</th>\n",
       "      <td>PCA(copy=True, iterated_power='auto', n_compon...</td>\n",
       "    </tr>\n",
       "    <tr>\n",
       "      <th>(u0715, u0473, u0122)</th>\n",
       "      <td>PCA(copy=True, iterated_power='auto', n_compon...</td>\n",
       "    </tr>\n",
       "  </tbody>\n",
       "</table>\n",
       "</div>"
      ],
      "text/plain": [
       "                                                                                                   0\n",
       "(u0645, u0683, u0618, u0388, u0676, u0993, u0446)  PCA(copy=True, iterated_power='auto', n_compon...\n",
       "(u0241, u0392, u0122, u0478, u0739, u0264)         PCA(copy=True, iterated_power='auto', n_compon...\n",
       "(u0324, u0973, u0818, u0758, u0441)                PCA(copy=True, iterated_power='auto', n_compon...\n",
       "(u0149, u0011, u0768, u0202)                       PCA(copy=True, iterated_power='auto', n_compon...\n",
       "(u0715, u0473, u0122)                              PCA(copy=True, iterated_power='auto', n_compon..."
      ]
     },
     "metadata": {},
     "output_type": "display_data"
    },
    {
     "name": "stdout",
     "output_type": "stream",
     "text": [
      "(5, 1)\n"
     ]
    }
   ],
   "source": [
    "with pd.HDFStore('temp.h5') as store:\n",
    "    print(store.keys()) \n",
    "    disp(store['dftmp'].head()) \n",
    "    print(store['dftmp'].shape)"
   ]
  },
  {
   "cell_type": "code",
   "execution_count": 84,
   "metadata": {},
   "outputs": [
    {
     "name": "stdout",
     "output_type": "stream",
     "text": [
      "<class 'speclib.loaders.Useralias'>\n"
     ]
    }
   ],
   "source": [
    "data = read_pkl('useralias.pk')\n",
    "print(type(data))"
   ]
  },
  {
   "cell_type": "code",
   "execution_count": null,
   "metadata": {},
   "outputs": [],
   "source": []
  }
 ],
 "metadata": {
  "anaconda-cloud": {},
  "kernelspec": {
   "display_name": "Python 3",
   "language": "python",
   "name": "python3"
  },
  "language_info": {
   "codemirror_mode": {
    "name": "ipython",
    "version": 3
   },
   "file_extension": ".py",
   "mimetype": "text/x-python",
   "name": "python",
   "nbconvert_exporter": "python",
   "pygments_lexer": "ipython3",
   "version": "3.6.4"
  }
 },
 "nbformat": 4,
 "nbformat_minor": 1
}
