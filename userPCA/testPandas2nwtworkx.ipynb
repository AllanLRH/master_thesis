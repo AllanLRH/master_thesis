{
 "cells": [
  {
   "cell_type": "code",
   "execution_count": 1,
   "metadata": {},
   "outputs": [
    {
     "name": "stdout",
     "output_type": "stream",
     "text": [
      "Allan Leander Rostock Hansen \n",
      "last updated: 2017-02-13 \n",
      "\n",
      "CPython 3.5.2\n",
      "IPython 5.1.0\n",
      "\n",
      "numpy 1.11.2\n",
      "bottleneck 1.2.0\n",
      "pandas 0.19.1\n",
      "matplotlib 2.0.0rc2\n",
      "sklearn 0.18.1\n",
      "missingno n\u0007\n",
      "networkx 1.11\n",
      "igraph 0.7.1\n"
     ]
    }
   ],
   "source": [
    "import sys\n",
    "import os\n",
    "sys.path.append(os.path.abspath(\"..\"))\n",
    "\n",
    "import warnings\n",
    "warnings.filterwarnings('ignore')\n",
    "\n",
    "import numpy as np\n",
    "import bottleneck as bn\n",
    "import pandas as pd\n",
    "import matplotlib as mpl\n",
    "import matplotlib.pyplot as plt\n",
    "import networkx as nx\n",
    "import networkx.algorithms.approximation as nxa\n",
    "import igraph as ig\n",
    "# http://stackoverflow.com/questions/35279733/what-could-cause-networkx-pygraphviz-to-work-fine-alone-but-not-together\n",
    "from networkx.drawing.nx_agraph import graphviz_layout\n",
    "from sklearn import decomposition\n",
    "%matplotlib inline\n",
    "\n",
    "import missingno as msno\n",
    "from collections import defaultdict, Counter\n",
    "\n",
    "from IPython.display import display\n",
    "\n",
    "from speclib.loaders import (loadUserPhonenumberDict, getUserList, Useralias, loadUser2,\n",
    "                             loadUserParallel, dict2DataFrame, users2DataFrame)\n",
    "from speclib.plotting import looseAxesLimits, barSBS, countsOnBarPlot, plotNeatoGraph\n",
    "from speclib.graph import networkx2igraph, igraph2networkx\n",
    "\n",
    "\n",
    "%load_ext watermark\n",
    "%watermark -a \"Allan Leander Rostock Hansen\" -u -d -v -p numpy,bottleneck,pandas,matplotlib,sklearn,missingno,networkx,igraph"
   ]
  },
  {
   "cell_type": "code",
   "execution_count": 2,
   "metadata": {
    "collapsed": true
   },
   "outputs": [],
   "source": [
    "ua = Useralias()\n",
    "userList = getUserList()\n",
    "userSpec = [(user, ua[user], ('sms', 'call')) for user in userList[:10]]\n",
    "userData = loadUserParallel(userSpec) \n",
    "df = users2DataFrame(userData, ua)\n",
    "del userData\n",
    "phonebook = loadUserPhonenumberDict(ua) "
   ]
  },
  {
   "cell_type": "code",
   "execution_count": 3,
   "metadata": {},
   "outputs": [
    {
     "data": {
      "text/html": [
       "<div>\n",
       "<table border=\"1\" class=\"dataframe\">\n",
       "  <thead>\n",
       "    <tr style=\"text-align: right;\">\n",
       "      <th></th>\n",
       "      <th></th>\n",
       "      <th>body</th>\n",
       "      <th>duration</th>\n",
       "      <th>hour</th>\n",
       "      <th>number</th>\n",
       "      <th>timeint</th>\n",
       "      <th>timestamp</th>\n",
       "      <th>weekday</th>\n",
       "    </tr>\n",
       "    <tr>\n",
       "      <th>user</th>\n",
       "      <th>comtype</th>\n",
       "      <th></th>\n",
       "      <th></th>\n",
       "      <th></th>\n",
       "      <th></th>\n",
       "      <th></th>\n",
       "      <th></th>\n",
       "      <th></th>\n",
       "    </tr>\n",
       "  </thead>\n",
       "  <tbody>\n",
       "    <tr>\n",
       "      <th rowspan=\"5\" valign=\"top\">u0001</th>\n",
       "      <th>call</th>\n",
       "      <td>NaN</td>\n",
       "      <td>29.0</td>\n",
       "      <td>15</td>\n",
       "      <td>36a4861f3f67cbf88b578d77743d1f5a8ddf604f</td>\n",
       "      <td>1386255771</td>\n",
       "      <td>2013-12-05 15:02:51</td>\n",
       "      <td>3</td>\n",
       "    </tr>\n",
       "    <tr>\n",
       "      <th>call</th>\n",
       "      <td>NaN</td>\n",
       "      <td>0.0</td>\n",
       "      <td>11</td>\n",
       "      <td>a7a089517b6855c7144c018e74ecced67a99e6f6</td>\n",
       "      <td>1386330792</td>\n",
       "      <td>2013-12-06 11:53:12</td>\n",
       "      <td>4</td>\n",
       "    </tr>\n",
       "    <tr>\n",
       "      <th>call</th>\n",
       "      <td>NaN</td>\n",
       "      <td>89.0</td>\n",
       "      <td>11</td>\n",
       "      <td>a7a089517b6855c7144c018e74ecced67a99e6f6</td>\n",
       "      <td>1386330838</td>\n",
       "      <td>2013-12-06 11:53:58</td>\n",
       "      <td>4</td>\n",
       "    </tr>\n",
       "    <tr>\n",
       "      <th>call</th>\n",
       "      <td>NaN</td>\n",
       "      <td>104.0</td>\n",
       "      <td>13</td>\n",
       "      <td>36a4861f3f67cbf88b578d77743d1f5a8ddf604f</td>\n",
       "      <td>1386509631</td>\n",
       "      <td>2013-12-08 13:33:51</td>\n",
       "      <td>6</td>\n",
       "    </tr>\n",
       "    <tr>\n",
       "      <th>call</th>\n",
       "      <td>NaN</td>\n",
       "      <td>32.0</td>\n",
       "      <td>18</td>\n",
       "      <td>36a4861f3f67cbf88b578d77743d1f5a8ddf604f</td>\n",
       "      <td>1386526906</td>\n",
       "      <td>2013-12-08 18:21:46</td>\n",
       "      <td>6</td>\n",
       "    </tr>\n",
       "  </tbody>\n",
       "</table>\n",
       "</div>"
      ],
      "text/plain": [
       "              body  duration  hour                                    number  \\\n",
       "user  comtype                                                                  \n",
       "u0001 call     NaN      29.0    15  36a4861f3f67cbf88b578d77743d1f5a8ddf604f   \n",
       "      call     NaN       0.0    11  a7a089517b6855c7144c018e74ecced67a99e6f6   \n",
       "      call     NaN      89.0    11  a7a089517b6855c7144c018e74ecced67a99e6f6   \n",
       "      call     NaN     104.0    13  36a4861f3f67cbf88b578d77743d1f5a8ddf604f   \n",
       "      call     NaN      32.0    18  36a4861f3f67cbf88b578d77743d1f5a8ddf604f   \n",
       "\n",
       "                  timeint           timestamp  weekday  \n",
       "user  comtype                                           \n",
       "u0001 call     1386255771 2013-12-05 15:02:51        3  \n",
       "      call     1386330792 2013-12-06 11:53:12        4  \n",
       "      call     1386330838 2013-12-06 11:53:58        4  \n",
       "      call     1386509631 2013-12-08 13:33:51        6  \n",
       "      call     1386526906 2013-12-08 18:21:46        6  "
      ]
     },
     "execution_count": 3,
     "metadata": {},
     "output_type": "execute_result"
    }
   ],
   "source": [
    "df.head() "
   ]
  },
  {
   "cell_type": "code",
   "execution_count": 4,
   "metadata": {},
   "outputs": [
    {
     "data": {
      "text/plain": [
       "(58622, 7)"
      ]
     },
     "execution_count": 4,
     "metadata": {},
     "output_type": "execute_result"
    }
   ],
   "source": [
    "df.shape"
   ]
  },
  {
   "cell_type": "code",
   "execution_count": 5,
   "metadata": {},
   "outputs": [
    {
     "data": {
      "text/html": [
       "<div>\n",
       "<table border=\"1\" class=\"dataframe\">\n",
       "  <thead>\n",
       "    <tr style=\"text-align: right;\">\n",
       "      <th></th>\n",
       "      <th></th>\n",
       "      <th>body</th>\n",
       "      <th>duration</th>\n",
       "      <th>hour</th>\n",
       "      <th>number</th>\n",
       "      <th>timeint</th>\n",
       "      <th>timestamp</th>\n",
       "      <th>weekday</th>\n",
       "    </tr>\n",
       "    <tr>\n",
       "      <th>user</th>\n",
       "      <th>comtype</th>\n",
       "      <th></th>\n",
       "      <th></th>\n",
       "      <th></th>\n",
       "      <th></th>\n",
       "      <th></th>\n",
       "      <th></th>\n",
       "      <th></th>\n",
       "    </tr>\n",
       "  </thead>\n",
       "  <tbody>\n",
       "    <tr>\n",
       "      <th rowspan=\"5\" valign=\"top\">u0001</th>\n",
       "      <th>call</th>\n",
       "      <td>NaN</td>\n",
       "      <td>0.0</td>\n",
       "      <td>1</td>\n",
       "      <td>a1839538e5d09dd68a576f1ee2c2611ac0c4f451</td>\n",
       "      <td>1390698006</td>\n",
       "      <td>2014-01-26 01:00:06</td>\n",
       "      <td>6</td>\n",
       "    </tr>\n",
       "    <tr>\n",
       "      <th>call</th>\n",
       "      <td>NaN</td>\n",
       "      <td>0.0</td>\n",
       "      <td>14</td>\n",
       "      <td>a1839538e5d09dd68a576f1ee2c2611ac0c4f451</td>\n",
       "      <td>1391176805</td>\n",
       "      <td>2014-01-31 14:00:05</td>\n",
       "      <td>4</td>\n",
       "    </tr>\n",
       "    <tr>\n",
       "      <th>call</th>\n",
       "      <td>NaN</td>\n",
       "      <td>29.0</td>\n",
       "      <td>14</td>\n",
       "      <td>55f088fd3f0b8d0497eb8e47dbf501721eb2e927</td>\n",
       "      <td>1391782631</td>\n",
       "      <td>2014-02-07 14:17:11</td>\n",
       "      <td>4</td>\n",
       "    </tr>\n",
       "    <tr>\n",
       "      <th>call</th>\n",
       "      <td>NaN</td>\n",
       "      <td>22.0</td>\n",
       "      <td>14</td>\n",
       "      <td>a1839538e5d09dd68a576f1ee2c2611ac0c4f451</td>\n",
       "      <td>1391782712</td>\n",
       "      <td>2014-02-07 14:18:32</td>\n",
       "      <td>4</td>\n",
       "    </tr>\n",
       "    <tr>\n",
       "      <th>call</th>\n",
       "      <td>NaN</td>\n",
       "      <td>3.0</td>\n",
       "      <td>14</td>\n",
       "      <td>55f088fd3f0b8d0497eb8e47dbf501721eb2e927</td>\n",
       "      <td>1394805935</td>\n",
       "      <td>2014-03-14 14:05:35</td>\n",
       "      <td>4</td>\n",
       "    </tr>\n",
       "  </tbody>\n",
       "</table>\n",
       "</div>"
      ],
      "text/plain": [
       "              body  duration  hour                                    number  \\\n",
       "user  comtype                                                                  \n",
       "u0001 call     NaN       0.0     1  a1839538e5d09dd68a576f1ee2c2611ac0c4f451   \n",
       "      call     NaN       0.0    14  a1839538e5d09dd68a576f1ee2c2611ac0c4f451   \n",
       "      call     NaN      29.0    14  55f088fd3f0b8d0497eb8e47dbf501721eb2e927   \n",
       "      call     NaN      22.0    14  a1839538e5d09dd68a576f1ee2c2611ac0c4f451   \n",
       "      call     NaN       3.0    14  55f088fd3f0b8d0497eb8e47dbf501721eb2e927   \n",
       "\n",
       "                  timeint           timestamp  weekday  \n",
       "user  comtype                                           \n",
       "u0001 call     1390698006 2014-01-26 01:00:06        6  \n",
       "      call     1391176805 2014-01-31 14:00:05        4  \n",
       "      call     1391782631 2014-02-07 14:17:11        4  \n",
       "      call     1391782712 2014-02-07 14:18:32        4  \n",
       "      call     1394805935 2014-03-14 14:05:35        4  "
      ]
     },
     "execution_count": 5,
     "metadata": {},
     "output_type": "execute_result"
    }
   ],
   "source": [
    "df = df[df.number.apply(lambda num: num in phonebook)] \n",
    "df.head() "
   ]
  },
  {
   "cell_type": "code",
   "execution_count": 6,
   "metadata": {},
   "outputs": [
    {
     "data": {
      "text/plain": [
       "(2557, 7)"
      ]
     },
     "execution_count": 6,
     "metadata": {},
     "output_type": "execute_result"
    }
   ],
   "source": [
    "df.shape"
   ]
  },
  {
   "cell_type": "code",
   "execution_count": 7,
   "metadata": {},
   "outputs": [
    {
     "data": {
      "text/html": [
       "<div>\n",
       "<table border=\"1\" class=\"dataframe\">\n",
       "  <thead>\n",
       "    <tr style=\"text-align: right;\">\n",
       "      <th></th>\n",
       "      <th></th>\n",
       "      <th>body</th>\n",
       "      <th>duration</th>\n",
       "      <th>hour</th>\n",
       "      <th>number</th>\n",
       "      <th>timeint</th>\n",
       "      <th>timestamp</th>\n",
       "      <th>weekday</th>\n",
       "      <th>contactedUser</th>\n",
       "    </tr>\n",
       "    <tr>\n",
       "      <th>user</th>\n",
       "      <th>comtype</th>\n",
       "      <th></th>\n",
       "      <th></th>\n",
       "      <th></th>\n",
       "      <th></th>\n",
       "      <th></th>\n",
       "      <th></th>\n",
       "      <th></th>\n",
       "      <th></th>\n",
       "    </tr>\n",
       "  </thead>\n",
       "  <tbody>\n",
       "    <tr>\n",
       "      <th rowspan=\"5\" valign=\"top\">u0001</th>\n",
       "      <th>call</th>\n",
       "      <td>NaN</td>\n",
       "      <td>0.0</td>\n",
       "      <td>1</td>\n",
       "      <td>a1839538e5d09dd68a576f1ee2c2611ac0c4f451</td>\n",
       "      <td>1390698006</td>\n",
       "      <td>2014-01-26 01:00:06</td>\n",
       "      <td>6</td>\n",
       "      <td>u0468</td>\n",
       "    </tr>\n",
       "    <tr>\n",
       "      <th>call</th>\n",
       "      <td>NaN</td>\n",
       "      <td>0.0</td>\n",
       "      <td>14</td>\n",
       "      <td>a1839538e5d09dd68a576f1ee2c2611ac0c4f451</td>\n",
       "      <td>1391176805</td>\n",
       "      <td>2014-01-31 14:00:05</td>\n",
       "      <td>4</td>\n",
       "      <td>u0468</td>\n",
       "    </tr>\n",
       "    <tr>\n",
       "      <th>call</th>\n",
       "      <td>NaN</td>\n",
       "      <td>29.0</td>\n",
       "      <td>14</td>\n",
       "      <td>55f088fd3f0b8d0497eb8e47dbf501721eb2e927</td>\n",
       "      <td>1391782631</td>\n",
       "      <td>2014-02-07 14:17:11</td>\n",
       "      <td>4</td>\n",
       "      <td>u0551</td>\n",
       "    </tr>\n",
       "    <tr>\n",
       "      <th>call</th>\n",
       "      <td>NaN</td>\n",
       "      <td>22.0</td>\n",
       "      <td>14</td>\n",
       "      <td>a1839538e5d09dd68a576f1ee2c2611ac0c4f451</td>\n",
       "      <td>1391782712</td>\n",
       "      <td>2014-02-07 14:18:32</td>\n",
       "      <td>4</td>\n",
       "      <td>u0468</td>\n",
       "    </tr>\n",
       "    <tr>\n",
       "      <th>call</th>\n",
       "      <td>NaN</td>\n",
       "      <td>3.0</td>\n",
       "      <td>14</td>\n",
       "      <td>55f088fd3f0b8d0497eb8e47dbf501721eb2e927</td>\n",
       "      <td>1394805935</td>\n",
       "      <td>2014-03-14 14:05:35</td>\n",
       "      <td>4</td>\n",
       "      <td>u0551</td>\n",
       "    </tr>\n",
       "  </tbody>\n",
       "</table>\n",
       "</div>"
      ],
      "text/plain": [
       "              body  duration  hour                                    number  \\\n",
       "user  comtype                                                                  \n",
       "u0001 call     NaN       0.0     1  a1839538e5d09dd68a576f1ee2c2611ac0c4f451   \n",
       "      call     NaN       0.0    14  a1839538e5d09dd68a576f1ee2c2611ac0c4f451   \n",
       "      call     NaN      29.0    14  55f088fd3f0b8d0497eb8e47dbf501721eb2e927   \n",
       "      call     NaN      22.0    14  a1839538e5d09dd68a576f1ee2c2611ac0c4f451   \n",
       "      call     NaN       3.0    14  55f088fd3f0b8d0497eb8e47dbf501721eb2e927   \n",
       "\n",
       "                  timeint           timestamp  weekday contactedUser  \n",
       "user  comtype                                                         \n",
       "u0001 call     1390698006 2014-01-26 01:00:06        6         u0468  \n",
       "      call     1391176805 2014-01-31 14:00:05        4         u0468  \n",
       "      call     1391782631 2014-02-07 14:17:11        4         u0551  \n",
       "      call     1391782712 2014-02-07 14:18:32        4         u0468  \n",
       "      call     1394805935 2014-03-14 14:05:35        4         u0551  "
      ]
     },
     "execution_count": 7,
     "metadata": {},
     "output_type": "execute_result"
    }
   ],
   "source": [
    "df['contactedUser'] = df.number.apply(lambda x: phonebook[x])\n",
    "df.head() "
   ]
  },
  {
   "cell_type": "code",
   "execution_count": 8,
   "metadata": {},
   "outputs": [
    {
     "data": {
      "text/html": [
       "<div>\n",
       "<table border=\"1\" class=\"dataframe\">\n",
       "  <thead>\n",
       "    <tr style=\"text-align: right;\">\n",
       "      <th></th>\n",
       "      <th></th>\n",
       "      <th>body</th>\n",
       "      <th>timestamp</th>\n",
       "      <th>contactedUser</th>\n",
       "    </tr>\n",
       "    <tr>\n",
       "      <th>user</th>\n",
       "      <th>comtype</th>\n",
       "      <th></th>\n",
       "      <th></th>\n",
       "      <th></th>\n",
       "    </tr>\n",
       "  </thead>\n",
       "  <tbody>\n",
       "    <tr>\n",
       "      <th rowspan=\"5\" valign=\"top\">u0001</th>\n",
       "      <th>call</th>\n",
       "      <td>NaN</td>\n",
       "      <td>2014-01-26 01:00:06</td>\n",
       "      <td>u0468</td>\n",
       "    </tr>\n",
       "    <tr>\n",
       "      <th>call</th>\n",
       "      <td>NaN</td>\n",
       "      <td>2014-01-31 14:00:05</td>\n",
       "      <td>u0468</td>\n",
       "    </tr>\n",
       "    <tr>\n",
       "      <th>call</th>\n",
       "      <td>NaN</td>\n",
       "      <td>2014-02-07 14:17:11</td>\n",
       "      <td>u0551</td>\n",
       "    </tr>\n",
       "    <tr>\n",
       "      <th>call</th>\n",
       "      <td>NaN</td>\n",
       "      <td>2014-02-07 14:18:32</td>\n",
       "      <td>u0468</td>\n",
       "    </tr>\n",
       "    <tr>\n",
       "      <th>call</th>\n",
       "      <td>NaN</td>\n",
       "      <td>2014-03-14 14:05:35</td>\n",
       "      <td>u0551</td>\n",
       "    </tr>\n",
       "  </tbody>\n",
       "</table>\n",
       "</div>"
      ],
      "text/plain": [
       "              body           timestamp contactedUser\n",
       "user  comtype                                       \n",
       "u0001 call     NaN 2014-01-26 01:00:06         u0468\n",
       "      call     NaN 2014-01-31 14:00:05         u0468\n",
       "      call     NaN 2014-02-07 14:17:11         u0551\n",
       "      call     NaN 2014-02-07 14:18:32         u0468\n",
       "      call     NaN 2014-03-14 14:05:35         u0551"
      ]
     },
     "execution_count": 8,
     "metadata": {},
     "output_type": "execute_result"
    }
   ],
   "source": [
    "try:\n",
    "    df.drop(['duration', 'hour', 'number', 'timeint', 'weekday'], axis=1, inplace=True) \n",
    "except ValueError:\n",
    "    pass\n",
    "df.head() "
   ]
  },
  {
   "cell_type": "code",
   "execution_count": 9,
   "metadata": {},
   "outputs": [
    {
     "data": {
      "text/plain": [
       "{'u0001',\n",
       " 'u0002',\n",
       " 'u0003',\n",
       " 'u0004',\n",
       " 'u0005',\n",
       " 'u0006',\n",
       " 'u0007',\n",
       " 'u0008',\n",
       " 'u0009',\n",
       " 'u0010'}"
      ]
     },
     "execution_count": 9,
     "metadata": {},
     "output_type": "execute_result"
    }
   ],
   "source": [
    "uniqueUsers = set(df.index.get_level_values('user').unique()) \n",
    "uniqueUsers"
   ]
  },
  {
   "cell_type": "code",
   "execution_count": 10,
   "metadata": {},
   "outputs": [
    {
     "data": {
      "text/html": [
       "<div>\n",
       "<table border=\"1\" class=\"dataframe\">\n",
       "  <thead>\n",
       "    <tr style=\"text-align: right;\">\n",
       "      <th></th>\n",
       "      <th></th>\n",
       "      <th>body</th>\n",
       "      <th>timestamp</th>\n",
       "      <th>contactedUser</th>\n",
       "    </tr>\n",
       "    <tr>\n",
       "      <th>user</th>\n",
       "      <th>comtype</th>\n",
       "      <th></th>\n",
       "      <th></th>\n",
       "      <th></th>\n",
       "    </tr>\n",
       "  </thead>\n",
       "  <tbody>\n",
       "    <tr>\n",
       "      <th rowspan=\"5\" valign=\"top\">u0001</th>\n",
       "      <th>call</th>\n",
       "      <td>NaN</td>\n",
       "      <td>2014-01-26 01:00:06</td>\n",
       "      <td>u0006</td>\n",
       "    </tr>\n",
       "    <tr>\n",
       "      <th>call</th>\n",
       "      <td>NaN</td>\n",
       "      <td>2014-01-31 14:00:05</td>\n",
       "      <td>u0009</td>\n",
       "    </tr>\n",
       "    <tr>\n",
       "      <th>call</th>\n",
       "      <td>NaN</td>\n",
       "      <td>2014-02-07 14:17:11</td>\n",
       "      <td>u0006</td>\n",
       "    </tr>\n",
       "    <tr>\n",
       "      <th>call</th>\n",
       "      <td>NaN</td>\n",
       "      <td>2014-02-07 14:18:32</td>\n",
       "      <td>u0010</td>\n",
       "    </tr>\n",
       "    <tr>\n",
       "      <th>call</th>\n",
       "      <td>NaN</td>\n",
       "      <td>2014-03-14 14:05:35</td>\n",
       "      <td>u0004</td>\n",
       "    </tr>\n",
       "  </tbody>\n",
       "</table>\n",
       "</div>"
      ],
      "text/plain": [
       "              body           timestamp contactedUser\n",
       "user  comtype                                       \n",
       "u0001 call     NaN 2014-01-26 01:00:06         u0006\n",
       "      call     NaN 2014-01-31 14:00:05         u0009\n",
       "      call     NaN 2014-02-07 14:17:11         u0006\n",
       "      call     NaN 2014-02-07 14:18:32         u0010\n",
       "      call     NaN 2014-03-14 14:05:35         u0004"
      ]
     },
     "execution_count": 10,
     "metadata": {},
     "output_type": "execute_result"
    }
   ],
   "source": [
    "for user in uniqueUsers:\n",
    "    contactable = list(uniqueUsers - {user})\n",
    "    nContacted = len(df.loc[user].contactedUser)\n",
    "    df.loc[user, 'contactedUser'] = np.random.choice(contactable, size=nContacted)\n",
    "\n",
    "df.head() "
   ]
  },
  {
   "cell_type": "code",
   "execution_count": 11,
   "metadata": {},
   "outputs": [],
   "source": [
    "dfs = df.sample(n=25)\n",
    "# dfs = dfs.reset_index()\n",
    "# dfs.drop('comtype', axis=1, inplace=True)\n",
    "# dfs = dfs.set_index('user')\n",
    "# dfs.sort_index(inplace=True)\n",
    "# dfs.head(10) "
   ]
  },
  {
   "cell_type": "code",
   "execution_count": 12,
   "metadata": {},
   "outputs": [
    {
     "data": {
      "text/plain": [
       "{'u0002': ['u0007', 'u0005'],\n",
       " 'u0004': ['u0003', 'u0006', 'u0005', 'u0008'],\n",
       " 'u0005': ['u0007', 'u0008', 'u0003', 'u0006'],\n",
       " 'u0007': ['u0008', 'u0009', 'u0006', 'u0010', 'u0001', 'u0003', 'u0005'],\n",
       " 'u0008': ['u0006', 'u0001', 'u0004'],\n",
       " 'u0010': ['u0007', 'u0003']}"
      ]
     },
     "execution_count": 12,
     "metadata": {},
     "output_type": "execute_result"
    }
   ],
   "source": [
    "dct = dict()\n",
    "for user in dfs.index.get_level_values('user').unique():\n",
    "    dct[user] = dfs.loc[user].contactedUser.unique().tolist() \n",
    "dct"
   ]
  },
  {
   "cell_type": "code",
   "execution_count": 13,
   "metadata": {},
   "outputs": [],
   "source": [
    "dfa = pd.DataFrame(columns=('contacted',))\n",
    "for user in dfs.index.get_level_values('user').unique():\n",
    "    dfa.loc[user, 'contacted'] = dfs.loc[user].contactedUser.unique().tolist() "
   ]
  },
  {
   "cell_type": "code",
   "execution_count": 14,
   "metadata": {},
   "outputs": [
    {
     "data": {
      "text/html": [
       "<div>\n",
       "<table border=\"1\" class=\"dataframe\">\n",
       "  <thead>\n",
       "    <tr style=\"text-align: right;\">\n",
       "      <th></th>\n",
       "      <th>contacted</th>\n",
       "    </tr>\n",
       "  </thead>\n",
       "  <tbody>\n",
       "    <tr>\n",
       "      <th>u0008</th>\n",
       "      <td>[u0006, u0001, u0004]</td>\n",
       "    </tr>\n",
       "    <tr>\n",
       "      <th>u0004</th>\n",
       "      <td>[u0003, u0006, u0005, u0008]</td>\n",
       "    </tr>\n",
       "    <tr>\n",
       "      <th>u0007</th>\n",
       "      <td>[u0008, u0009, u0006, u0010, u0001, u0003, u0005]</td>\n",
       "    </tr>\n",
       "    <tr>\n",
       "      <th>u0005</th>\n",
       "      <td>[u0007, u0008, u0003, u0006]</td>\n",
       "    </tr>\n",
       "    <tr>\n",
       "      <th>u0010</th>\n",
       "      <td>[u0007, u0003]</td>\n",
       "    </tr>\n",
       "    <tr>\n",
       "      <th>u0002</th>\n",
       "      <td>[u0007, u0005]</td>\n",
       "    </tr>\n",
       "  </tbody>\n",
       "</table>\n",
       "</div>"
      ],
      "text/plain": [
       "                                               contacted\n",
       "u0008                              [u0006, u0001, u0004]\n",
       "u0004                       [u0003, u0006, u0005, u0008]\n",
       "u0007  [u0008, u0009, u0006, u0010, u0001, u0003, u0005]\n",
       "u0005                       [u0007, u0008, u0003, u0006]\n",
       "u0010                                     [u0007, u0003]\n",
       "u0002                                     [u0007, u0005]"
      ]
     },
     "execution_count": 14,
     "metadata": {},
     "output_type": "execute_result"
    }
   ],
   "source": [
    "dfa"
   ]
  },
  {
   "cell_type": "code",
   "execution_count": 15,
   "metadata": {},
   "outputs": [
    {
     "data": {
      "text/html": [
       "<div>\n",
       "<table border=\"1\" class=\"dataframe\">\n",
       "  <thead>\n",
       "    <tr style=\"text-align: right;\">\n",
       "      <th></th>\n",
       "      <th>u0001</th>\n",
       "      <th>u0002</th>\n",
       "      <th>u0003</th>\n",
       "      <th>u0004</th>\n",
       "      <th>u0005</th>\n",
       "      <th>u0006</th>\n",
       "      <th>u0007</th>\n",
       "      <th>u0008</th>\n",
       "      <th>u0009</th>\n",
       "      <th>u0010</th>\n",
       "    </tr>\n",
       "  </thead>\n",
       "  <tbody>\n",
       "    <tr>\n",
       "      <th>u0001</th>\n",
       "      <td>NaN</td>\n",
       "      <td>NaN</td>\n",
       "      <td>NaN</td>\n",
       "      <td>NaN</td>\n",
       "      <td>NaN</td>\n",
       "      <td>NaN</td>\n",
       "      <td>NaN</td>\n",
       "      <td>NaN</td>\n",
       "      <td>NaN</td>\n",
       "      <td>NaN</td>\n",
       "    </tr>\n",
       "    <tr>\n",
       "      <th>u0002</th>\n",
       "      <td>NaN</td>\n",
       "      <td>NaN</td>\n",
       "      <td>NaN</td>\n",
       "      <td>NaN</td>\n",
       "      <td>1</td>\n",
       "      <td>NaN</td>\n",
       "      <td>1</td>\n",
       "      <td>NaN</td>\n",
       "      <td>NaN</td>\n",
       "      <td>NaN</td>\n",
       "    </tr>\n",
       "    <tr>\n",
       "      <th>u0003</th>\n",
       "      <td>NaN</td>\n",
       "      <td>NaN</td>\n",
       "      <td>NaN</td>\n",
       "      <td>NaN</td>\n",
       "      <td>NaN</td>\n",
       "      <td>NaN</td>\n",
       "      <td>NaN</td>\n",
       "      <td>NaN</td>\n",
       "      <td>NaN</td>\n",
       "      <td>NaN</td>\n",
       "    </tr>\n",
       "    <tr>\n",
       "      <th>u0004</th>\n",
       "      <td>NaN</td>\n",
       "      <td>NaN</td>\n",
       "      <td>1</td>\n",
       "      <td>NaN</td>\n",
       "      <td>1</td>\n",
       "      <td>1</td>\n",
       "      <td>NaN</td>\n",
       "      <td>1</td>\n",
       "      <td>NaN</td>\n",
       "      <td>NaN</td>\n",
       "    </tr>\n",
       "    <tr>\n",
       "      <th>u0005</th>\n",
       "      <td>NaN</td>\n",
       "      <td>NaN</td>\n",
       "      <td>1</td>\n",
       "      <td>NaN</td>\n",
       "      <td>NaN</td>\n",
       "      <td>1</td>\n",
       "      <td>1</td>\n",
       "      <td>1</td>\n",
       "      <td>NaN</td>\n",
       "      <td>NaN</td>\n",
       "    </tr>\n",
       "    <tr>\n",
       "      <th>u0006</th>\n",
       "      <td>NaN</td>\n",
       "      <td>NaN</td>\n",
       "      <td>NaN</td>\n",
       "      <td>NaN</td>\n",
       "      <td>NaN</td>\n",
       "      <td>NaN</td>\n",
       "      <td>NaN</td>\n",
       "      <td>NaN</td>\n",
       "      <td>NaN</td>\n",
       "      <td>NaN</td>\n",
       "    </tr>\n",
       "    <tr>\n",
       "      <th>u0007</th>\n",
       "      <td>1</td>\n",
       "      <td>NaN</td>\n",
       "      <td>1</td>\n",
       "      <td>NaN</td>\n",
       "      <td>1</td>\n",
       "      <td>1</td>\n",
       "      <td>NaN</td>\n",
       "      <td>1</td>\n",
       "      <td>1</td>\n",
       "      <td>1</td>\n",
       "    </tr>\n",
       "    <tr>\n",
       "      <th>u0008</th>\n",
       "      <td>1</td>\n",
       "      <td>NaN</td>\n",
       "      <td>NaN</td>\n",
       "      <td>1</td>\n",
       "      <td>NaN</td>\n",
       "      <td>1</td>\n",
       "      <td>NaN</td>\n",
       "      <td>NaN</td>\n",
       "      <td>NaN</td>\n",
       "      <td>NaN</td>\n",
       "    </tr>\n",
       "    <tr>\n",
       "      <th>u0009</th>\n",
       "      <td>NaN</td>\n",
       "      <td>NaN</td>\n",
       "      <td>NaN</td>\n",
       "      <td>NaN</td>\n",
       "      <td>NaN</td>\n",
       "      <td>NaN</td>\n",
       "      <td>NaN</td>\n",
       "      <td>NaN</td>\n",
       "      <td>NaN</td>\n",
       "      <td>NaN</td>\n",
       "    </tr>\n",
       "    <tr>\n",
       "      <th>u0010</th>\n",
       "      <td>NaN</td>\n",
       "      <td>NaN</td>\n",
       "      <td>1</td>\n",
       "      <td>NaN</td>\n",
       "      <td>NaN</td>\n",
       "      <td>NaN</td>\n",
       "      <td>1</td>\n",
       "      <td>NaN</td>\n",
       "      <td>NaN</td>\n",
       "      <td>NaN</td>\n",
       "    </tr>\n",
       "  </tbody>\n",
       "</table>\n",
       "</div>"
      ],
      "text/plain": [
       "      u0001 u0002 u0003 u0004 u0005 u0006 u0007 u0008 u0009 u0010\n",
       "u0001   NaN   NaN   NaN   NaN   NaN   NaN   NaN   NaN   NaN   NaN\n",
       "u0002   NaN   NaN   NaN   NaN     1   NaN     1   NaN   NaN   NaN\n",
       "u0003   NaN   NaN   NaN   NaN   NaN   NaN   NaN   NaN   NaN   NaN\n",
       "u0004   NaN   NaN     1   NaN     1     1   NaN     1   NaN   NaN\n",
       "u0005   NaN   NaN     1   NaN   NaN     1     1     1   NaN   NaN\n",
       "u0006   NaN   NaN   NaN   NaN   NaN   NaN   NaN   NaN   NaN   NaN\n",
       "u0007     1   NaN     1   NaN     1     1   NaN     1     1     1\n",
       "u0008     1   NaN   NaN     1   NaN     1   NaN   NaN   NaN   NaN\n",
       "u0009   NaN   NaN   NaN   NaN   NaN   NaN   NaN   NaN   NaN   NaN\n",
       "u0010   NaN   NaN     1   NaN   NaN   NaN     1   NaN   NaN   NaN"
      ]
     },
     "execution_count": 15,
     "metadata": {},
     "output_type": "execute_result"
    }
   ],
   "source": [
    "dfa = pd.DataFrame(columns=sorted(uniqueUsers), index=sorted(uniqueUsers))\n",
    "for user in dfs.index.get_level_values('user').unique():\n",
    "    for com in dfs.loc[user].contactedUser.unique().tolist():\n",
    "        dfa.loc[user, com] = 1\n",
    "dfa"
   ]
  },
  {
   "cell_type": "code",
   "execution_count": 16,
   "metadata": {},
   "outputs": [
    {
     "data": {
      "text/html": [
       "<div>\n",
       "<table border=\"1\" class=\"dataframe\">\n",
       "  <thead>\n",
       "    <tr style=\"text-align: right;\">\n",
       "      <th></th>\n",
       "      <th>u0001</th>\n",
       "      <th>u0002</th>\n",
       "      <th>u0003</th>\n",
       "      <th>u0004</th>\n",
       "      <th>u0005</th>\n",
       "      <th>u0006</th>\n",
       "      <th>u0007</th>\n",
       "      <th>u0008</th>\n",
       "      <th>u0009</th>\n",
       "      <th>u0010</th>\n",
       "    </tr>\n",
       "  </thead>\n",
       "  <tbody>\n",
       "    <tr>\n",
       "      <th>u0001</th>\n",
       "      <td>NaN</td>\n",
       "      <td>NaN</td>\n",
       "      <td>NaN</td>\n",
       "      <td>NaN</td>\n",
       "      <td>NaN</td>\n",
       "      <td>NaN</td>\n",
       "      <td>NaN</td>\n",
       "      <td>NaN</td>\n",
       "      <td>NaN</td>\n",
       "      <td>NaN</td>\n",
       "    </tr>\n",
       "    <tr>\n",
       "      <th>u0002</th>\n",
       "      <td>NaN</td>\n",
       "      <td>NaN</td>\n",
       "      <td>NaN</td>\n",
       "      <td>NaN</td>\n",
       "      <td>1</td>\n",
       "      <td>NaN</td>\n",
       "      <td>1</td>\n",
       "      <td>NaN</td>\n",
       "      <td>NaN</td>\n",
       "      <td>NaN</td>\n",
       "    </tr>\n",
       "    <tr>\n",
       "      <th>u0003</th>\n",
       "      <td>NaN</td>\n",
       "      <td>NaN</td>\n",
       "      <td>NaN</td>\n",
       "      <td>NaN</td>\n",
       "      <td>NaN</td>\n",
       "      <td>NaN</td>\n",
       "      <td>NaN</td>\n",
       "      <td>NaN</td>\n",
       "      <td>NaN</td>\n",
       "      <td>NaN</td>\n",
       "    </tr>\n",
       "    <tr>\n",
       "      <th>u0004</th>\n",
       "      <td>NaN</td>\n",
       "      <td>NaN</td>\n",
       "      <td>1</td>\n",
       "      <td>NaN</td>\n",
       "      <td>1</td>\n",
       "      <td>1</td>\n",
       "      <td>NaN</td>\n",
       "      <td>1</td>\n",
       "      <td>NaN</td>\n",
       "      <td>NaN</td>\n",
       "    </tr>\n",
       "    <tr>\n",
       "      <th>u0005</th>\n",
       "      <td>NaN</td>\n",
       "      <td>NaN</td>\n",
       "      <td>1</td>\n",
       "      <td>NaN</td>\n",
       "      <td>NaN</td>\n",
       "      <td>1</td>\n",
       "      <td>1</td>\n",
       "      <td>1</td>\n",
       "      <td>NaN</td>\n",
       "      <td>NaN</td>\n",
       "    </tr>\n",
       "    <tr>\n",
       "      <th>u0006</th>\n",
       "      <td>NaN</td>\n",
       "      <td>NaN</td>\n",
       "      <td>NaN</td>\n",
       "      <td>NaN</td>\n",
       "      <td>NaN</td>\n",
       "      <td>NaN</td>\n",
       "      <td>NaN</td>\n",
       "      <td>NaN</td>\n",
       "      <td>NaN</td>\n",
       "      <td>NaN</td>\n",
       "    </tr>\n",
       "    <tr>\n",
       "      <th>u0007</th>\n",
       "      <td>1</td>\n",
       "      <td>NaN</td>\n",
       "      <td>1</td>\n",
       "      <td>NaN</td>\n",
       "      <td>1</td>\n",
       "      <td>1</td>\n",
       "      <td>NaN</td>\n",
       "      <td>1</td>\n",
       "      <td>1</td>\n",
       "      <td>1</td>\n",
       "    </tr>\n",
       "    <tr>\n",
       "      <th>u0008</th>\n",
       "      <td>1</td>\n",
       "      <td>NaN</td>\n",
       "      <td>NaN</td>\n",
       "      <td>1</td>\n",
       "      <td>NaN</td>\n",
       "      <td>1</td>\n",
       "      <td>NaN</td>\n",
       "      <td>NaN</td>\n",
       "      <td>NaN</td>\n",
       "      <td>NaN</td>\n",
       "    </tr>\n",
       "    <tr>\n",
       "      <th>u0009</th>\n",
       "      <td>NaN</td>\n",
       "      <td>NaN</td>\n",
       "      <td>NaN</td>\n",
       "      <td>NaN</td>\n",
       "      <td>NaN</td>\n",
       "      <td>NaN</td>\n",
       "      <td>NaN</td>\n",
       "      <td>NaN</td>\n",
       "      <td>NaN</td>\n",
       "      <td>NaN</td>\n",
       "    </tr>\n",
       "    <tr>\n",
       "      <th>u0010</th>\n",
       "      <td>NaN</td>\n",
       "      <td>NaN</td>\n",
       "      <td>1</td>\n",
       "      <td>NaN</td>\n",
       "      <td>NaN</td>\n",
       "      <td>NaN</td>\n",
       "      <td>1</td>\n",
       "      <td>NaN</td>\n",
       "      <td>NaN</td>\n",
       "      <td>NaN</td>\n",
       "    </tr>\n",
       "  </tbody>\n",
       "</table>\n",
       "</div>"
      ],
      "text/plain": [
       "      u0001 u0002 u0003 u0004 u0005 u0006 u0007 u0008 u0009 u0010\n",
       "u0001   NaN   NaN   NaN   NaN   NaN   NaN   NaN   NaN   NaN   NaN\n",
       "u0002   NaN   NaN   NaN   NaN     1   NaN     1   NaN   NaN   NaN\n",
       "u0003   NaN   NaN   NaN   NaN   NaN   NaN   NaN   NaN   NaN   NaN\n",
       "u0004   NaN   NaN     1   NaN     1     1   NaN     1   NaN   NaN\n",
       "u0005   NaN   NaN     1   NaN   NaN     1     1     1   NaN   NaN\n",
       "u0006   NaN   NaN   NaN   NaN   NaN   NaN   NaN   NaN   NaN   NaN\n",
       "u0007     1   NaN     1   NaN     1     1   NaN     1     1     1\n",
       "u0008     1   NaN   NaN     1   NaN     1   NaN   NaN   NaN   NaN\n",
       "u0009   NaN   NaN   NaN   NaN   NaN   NaN   NaN   NaN   NaN   NaN\n",
       "u0010   NaN   NaN     1   NaN   NaN   NaN     1   NaN   NaN   NaN"
      ]
     },
     "execution_count": 16,
     "metadata": {},
     "output_type": "execute_result"
    }
   ],
   "source": [
    "dfa = pd.DataFrame(columns=sorted(uniqueUsers), index=sorted(uniqueUsers))\n",
    "for user in dfs.index.get_level_values('user').unique():\n",
    "    dfa.loc[user, dfs.loc[user].contactedUser.unique().tolist()] = 1\n",
    "dfa"
   ]
  },
  {
   "cell_type": "code",
   "execution_count": 32,
   "metadata": {},
   "outputs": [
    {
     "data": {
      "image/png": "[encoded data removed]",
      "text/plain": [
       "<matplotlib.figure.Figure at 0x7f1dfc0ca6d8>"
      ]
     },
     "metadata": {},
     "output_type": "display_data"
    }
   ],
   "source": [
    "g = nx.from_dict_of_lists(dct)\n",
    "# nx.draw(g, node_color='lightblue', with_labels=True)\n",
    "nx.draw(g, node_color='lightblue', edge_color='lightgray', labels={k: k[-2:] for k in g.nodes()}) "
   ]
  },
  {
   "cell_type": "code",
   "execution_count": 25,
   "metadata": {},
   "outputs": [
    {
     "data": {
      "text/plain": [
       "{'u0001': ['u0007', 'u0008'],\n",
       " 'u0002': ['u0007', 'u0005'],\n",
       " 'u0003': ['u0010', 'u0007', 'u0004', 'u0005'],\n",
       " 'u0004': ['u0003', 'u0006', 'u0008', 'u0005'],\n",
       " 'u0005': ['u0003', 'u0007', 'u0006', 'u0008', 'u0002', 'u0004'],\n",
       " 'u0006': ['u0004', 'u0007', 'u0008', 'u0005'],\n",
       " 'u0007': ['u0010',\n",
       "  'u0003',\n",
       "  'u0006',\n",
       "  'u0008',\n",
       "  'u0001',\n",
       "  'u0009',\n",
       "  'u0002',\n",
       "  'u0005'],\n",
       " 'u0008': ['u0001', 'u0004', 'u0007', 'u0006', 'u0005'],\n",
       " 'u0009': ['u0007'],\n",
       " 'u0010': ['u0003', 'u0007']}"
      ]
     },
     "execution_count": 25,
     "metadata": {},
     "output_type": "execute_result"
    }
   ],
   "source": [
    "{n: g.neighbors(n) for n in g.nodes_iter()} "
   ]
  },
  {
   "cell_type": "code",
   "execution_count": 26,
   "metadata": {},
   "outputs": [
    {
     "data": {
      "text/plain": [
       "[['u0007', 'u0010', 'u0003'],\n",
       " ['u0007', 'u0009'],\n",
       " ['u0007', 'u0001', 'u0008'],\n",
       " ['u0007', 'u0005', 'u0003'],\n",
       " ['u0007', 'u0005', 'u0006', 'u0008'],\n",
       " ['u0007', 'u0005', 'u0002'],\n",
       " ['u0004', 'u0005', 'u0003'],\n",
       " ['u0004', 'u0005', 'u0006', 'u0008']]"
      ]
     },
     "execution_count": 26,
     "metadata": {},
     "output_type": "execute_result"
    }
   ],
   "source": [
    "list(nx.algorithms.clique.find_cliques_recursive(g)) "
   ]
  },
  {
   "cell_type": "code",
   "execution_count": 27,
   "metadata": {},
   "outputs": [
    {
     "data": {
      "text/plain": [
       "{('u0001', 'u0007', 'u0008'),\n",
       " ('u0002', 'u0005', 'u0007'),\n",
       " ('u0003', 'u0004', 'u0005'),\n",
       " ('u0003', 'u0005', 'u0007'),\n",
       " ('u0003', 'u0007', 'u0010'),\n",
       " ('u0004', 'u0005', 'u0006', 'u0008'),\n",
       " ('u0005', 'u0006', 'u0007', 'u0008')}"
      ]
     },
     "execution_count": 27,
     "metadata": {},
     "output_type": "execute_result"
    }
   ],
   "source": [
    "set(filter(lambda x: len(x) > 2, map(lambda x: tuple(sorted(x)), nx.algorithms.clique.find_cliques_recursive(g)))) "
   ]
  },
  {
   "cell_type": "code",
   "execution_count": 28,
   "metadata": {},
   "outputs": [
    {
     "data": {
      "text/plain": [
       "{('u0001', 'u0005', 'u0007', 'u0008'),\n",
       " ('u0002', 'u0004', 'u0005'),\n",
       " ('u0002', 'u0005', 'u0007'),\n",
       " ('u0003', 'u0004', 'u0005'),\n",
       " ('u0003', 'u0005', 'u0007'),\n",
       " ('u0003', 'u0007', 'u0010'),\n",
       " ('u0004', 'u0005', 'u0006', 'u0008'),\n",
       " ('u0005', 'u0006', 'u0007', 'u0008')}"
      ]
     },
     "execution_count": 28,
     "metadata": {},
     "output_type": "execute_result"
    }
   ],
   "source": [
    "g.add_edge('u0002', 'u0004')\n",
    "g.add_edge('u0005', 'u0001')\n",
    "set(filter(lambda x: len(x) > 2, map(lambda x: tuple(sorted(x)), nx.algorithms.clique.find_cliques_recursive(g)))) "
   ]
  },
  {
   "cell_type": "code",
   "execution_count": 29,
   "metadata": {},
   "outputs": [
    {
     "data": {
      "image/png": "[encoded data removed]",
      "text/plain": [
       "<matplotlib.figure.Figure at 0x7f1dfc1a3ba8>"
      ]
     },
     "metadata": {},
     "output_type": "display_data"
    }
   ],
   "source": [
    "nx.draw(g, with_labels=True, node_color='lightblue', edge_color='lightgrey')"
   ]
  },
  {
   "cell_type": "code",
   "execution_count": null,
   "metadata": {
    "collapsed": true
   },
   "outputs": [],
   "source": []
  },
  {
   "cell_type": "code",
   "execution_count": null,
   "metadata": {
    "collapsed": true
   },
   "outputs": [],
   "source": []
  },
  {
   "cell_type": "code",
   "execution_count": null,
   "metadata": {
    "collapsed": true
   },
   "outputs": [],
   "source": []
  }
 ],
 "metadata": {
  "anaconda-cloud": {},
  "kernelspec": {
   "display_name": "Python 3",
   "language": "python",
   "name": "python3"
  },
  "language_info": {
   "codemirror_mode": {
    "name": "ipython",
    "version": 3
   },
   "file_extension": ".py",
   "mimetype": "text/x-python",
   "name": "python",
   "nbconvert_exporter": "python",
   "pygments_lexer": "ipython3",
   "version": "3.6.4"
  }
 },
 "nbformat": 4,
 "nbformat_minor": 1
}
