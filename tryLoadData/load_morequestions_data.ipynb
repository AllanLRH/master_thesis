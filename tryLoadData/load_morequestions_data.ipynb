{
 "cells": [
  {
   "cell_type": "code",
   "execution_count": 1,
   "metadata": {
    "collapsed": true
   },
   "outputs": [],
   "source": [
    "import sys\n",
    "import os\n",
    "sys.path.append(os.path.abspath(\"..\"))\n",
    "\n",
    "import numpy as np\n",
    "import pandas as pd\n",
    "import matplotlib as mpl\n",
    "import matplotlib.pyplot as plt\n",
    "import seaborn as sns\n",
    "import re\n",
    "from io import StringIO\n",
    "sns.set(context='paper', style='whitegrid', color_codes=True, font_scale=1.8)\n",
    "colorcycle = [(0.498, 0.788, 0.498),\n",
    "              (0.745, 0.682, 0.831),\n",
    "              (0.992, 0.753, 0.525),\n",
    "              (0.220, 0.424, 0.690),\n",
    "              (0.749, 0.357, 0.090),\n",
    "              (1.000, 1.000, 0.600),\n",
    "              (0.941, 0.008, 0.498),\n",
    "              (0.400, 0.400, 0.400)]\n",
    "sns.set_palette(colorcycle)\n",
    "mpl.rcParams['figure.max_open_warning'] = 65\n",
    "mpl.rcParams['figure.figsize'] = [14, 9] \n",
    "\n",
    "from speclib import plotting\n",
    "\n",
    "%matplotlib inline"
   ]
  },
  {
   "cell_type": "code",
   "execution_count": 2,
   "metadata": {
    "collapsed": true
   },
   "outputs": [],
   "source": [
    "datapath = '../../allan_data/RGender_.dat'"
   ]
  },
  {
   "cell_type": "markdown",
   "metadata": {},
   "source": [
    "# Load data\n",
    "\n",
    "## Mend broken lines in file\n",
    "\n",
    "Data file is in a borked format, where there's some answer-lines that spans multiple lines, even though not there's generally answers to one question pr. line.\n",
    "This code attemps to merge the broken lines.\n",
    "If there's no NaN's/null values in the loaded dataset, it's probably ok."
   ]
  },
  {
   "cell_type": "code",
   "execution_count": 3,
   "metadata": {
    "collapsed": true
   },
   "outputs": [],
   "source": [
    "rx_is_sep_space = re.compile(r'(?<=\") (?=\")')\n",
    "with open(datapath) as fid:\n",
    "    keeplines = list()\n",
    "    partial_list = list()\n",
    "    for line in fid:\n",
    "        str_chr_cnt = len((rx_is_sep_space.findall(line)))\n",
    "        if str_chr_cnt > 9:\n",
    "            if partial_list:\n",
    "                keeplines.append(('\\t'.join(partial_list)))\n",
    "                partial_list = list()\n",
    "            keeplines.append(line.strip())\n",
    "        else:\n",
    "            partial_list.append(line.strip()) \n",
    "        "
   ]
  },
  {
   "cell_type": "code",
   "execution_count": 4,
   "metadata": {
    "collapsed": true
   },
   "outputs": [],
   "source": [
    "df = pd.read_csv(StringIO('\\n'.join(keeplines)), sep=r'(?<=\\\")\\s+(?=\\\")', engine='python', header=0, index_col=0).T"
   ]
  },
  {
   "cell_type": "markdown",
   "metadata": {},
   "source": [
    "Strip spaces from entries"
   ]
  },
  {
   "cell_type": "code",
   "execution_count": 5,
   "metadata": {
    "collapsed": true
   },
   "outputs": [],
   "source": [
    "df = df.applymap(lambda el: el.strip())"
   ]
  },
  {
   "cell_type": "code",
   "execution_count": 6,
   "metadata": {},
   "outputs": [
    {
     "data": {
      "text/plain": [
       "(954, 1431)"
      ]
     },
     "execution_count": 6,
     "metadata": {},
     "output_type": "execute_result"
    }
   ],
   "source": [
    "df.shape"
   ]
  },
  {
   "cell_type": "code",
   "execution_count": 7,
   "metadata": {},
   "outputs": [
    {
     "data": {
      "text/plain": [
       "False"
      ]
     },
     "execution_count": 7,
     "metadata": {},
     "output_type": "execute_result"
    }
   ],
   "source": [
    "df.isnull().any().any() "
   ]
  },
  {
   "cell_type": "markdown",
   "metadata": {},
   "source": [
    "Remove `\"`-characters from data, and covert to ints where applicable"
   ]
  },
  {
   "cell_type": "code",
   "execution_count": 8,
   "metadata": {
    "collapsed": true
   },
   "outputs": [],
   "source": [
    "df = df.rename(columns=lambda s: s.strip('\"').replace('.', '__'), index=lambda s: s.strip('\"'))\n",
    "\n",
    "for col in df.columns:\n",
    "    df.loc[:, col] = df.loc[:, col].str.strip('\"')\n",
    "    rx_all_ints = re.compile(r'^-?\\d+$')\n",
    "    if df.loc[:, col].str.match(rx_all_ints).all():  # all integers\n",
    "        as_int = df.loc[:, col].astype(int)\n",
    "        df.loc[:, col] = as_int"
   ]
  },
  {
   "cell_type": "markdown",
   "metadata": {},
   "source": [
    "-1 seems to indicate a non-answer. Replace with NaN's"
   ]
  },
  {
   "cell_type": "code",
   "execution_count": 9,
   "metadata": {
    "collapsed": true
   },
   "outputs": [],
   "source": [
    "df = df.replace(-1, np.NaN)\n",
    "df = df.replace(\"-1\", np.NaN)"
   ]
  },
  {
   "cell_type": "code",
   "execution_count": 10,
   "metadata": {
    "collapsed": true
   },
   "outputs": [],
   "source": [
    "null_ans = ~df.isnull() "
   ]
  },
  {
   "cell_type": "code",
   "execution_count": 11,
   "metadata": {},
   "outputs": [
    {
     "data": {
      "text/plain": [
       "<matplotlib.axes._subplots.AxesSubplot at 0x7f6ed7be5828>"
      ]
     },
     "execution_count": 11,
     "metadata": {},
     "output_type": "execute_result"
    },
    {
     "data": {
      "image/png": "[encoded data removed]",
      "text/plain": [
       "<matplotlib.figure.Figure at 0x7f6ecd1da358>"
      ]
     },
     "metadata": {},
     "output_type": "display_data"
    }
   ],
   "source": [
    "(null_ans.sum(axis=1)).plot.hist(80)"
   ]
  },
  {
   "cell_type": "markdown",
   "metadata": {},
   "source": [
    "Users with non-null responses fewer that 1380 are discarded"
   ]
  },
  {
   "cell_type": "code",
   "execution_count": 12,
   "metadata": {
    "collapsed": true
   },
   "outputs": [],
   "source": [
    "discard_idx = ~null_ans.sum(axis=1) < 1380 \n",
    "\n",
    "df = df[discard_idx]"
   ]
  },
  {
   "cell_type": "markdown",
   "metadata": {},
   "source": [
    "Make boolean string indicators into booleans"
   ]
  },
  {
   "cell_type": "code",
   "execution_count": 13,
   "metadata": {
    "collapsed": true,
    "scrolled": true
   },
   "outputs": [],
   "source": [
    "str_bool_dict = {'FALSE': False, 'TRUE': True, np.NaN: np.NaN}\n",
    "for col in df.columns:\n",
    "    if df.loc[:, col].isin(['FALSE', 'TRUE', np.NaN]).all():  # all booleans\n",
    "        df.loc[:, col] = df.loc[:, col].map(lambda el: str_bool_dict[el])"
   ]
  },
  {
   "cell_type": "markdown",
   "metadata": {},
   "source": [
    "Translate the gender to english"
   ]
  },
  {
   "cell_type": "code",
   "execution_count": 14,
   "metadata": {
    "collapsed": true
   },
   "outputs": [],
   "source": [
    "str_gender_dict = {'Mand': 'male', 'Kvinde': 'female', np.NaN: np.NaN}\n",
    "df.loc[:, 'gender'] = df.gender.map(lambda el: str_gender_dict[el])"
   ]
  },
  {
   "cell_type": "markdown",
   "metadata": {},
   "source": [
    "## Examine column headers"
   ]
  },
  {
   "cell_type": "code",
   "execution_count": 15,
   "metadata": {},
   "outputs": [
    {
     "data": {
      "text/plain": [
       "answer         286\n",
       "question       286\n",
       "response       286\n",
       "condition      286\n",
       "answer_type    286\n",
       "dtype: int64"
      ]
     },
     "execution_count": 15,
     "metadata": {},
     "output_type": "execute_result"
    }
   ],
   "source": [
    "pd.value_counts(el.rsplit('__')[-1] for el in df.columns if '__' in el) "
   ]
  },
  {
   "cell_type": "code",
   "execution_count": 16,
   "metadata": {},
   "outputs": [
    {
     "data": {
      "text/plain": [
       "gender    1\n",
       "dtype: int64"
      ]
     },
     "execution_count": 16,
     "metadata": {},
     "output_type": "execute_result"
    }
   ],
   "source": [
    "pd.value_counts(el.rsplit('__')[-1] for el in df.columns if '__'not  in el)"
   ]
  },
  {
   "cell_type": "markdown",
   "metadata": {},
   "source": [
    "Seems like there's 5 attributes to each question... check that there is"
   ]
  },
  {
   "cell_type": "code",
   "execution_count": 17,
   "metadata": {
    "collapsed": true
   },
   "outputs": [],
   "source": [
    "df_cols = pd.DataFrame(el.rsplit('__') for el in df.columns if '__' in el)"
   ]
  },
  {
   "cell_type": "code",
   "execution_count": 18,
   "metadata": {},
   "outputs": [
    {
     "data": {
      "text/html": [
       "<div>\n",
       "<table border=\"1\" class=\"dataframe\">\n",
       "  <thead>\n",
       "    <tr style=\"text-align: right;\">\n",
       "      <th></th>\n",
       "      <th>0</th>\n",
       "      <th>1</th>\n",
       "    </tr>\n",
       "  </thead>\n",
       "  <tbody>\n",
       "    <tr>\n",
       "      <th>0</th>\n",
       "      <td>function_duties</td>\n",
       "      <td>answer</td>\n",
       "    </tr>\n",
       "    <tr>\n",
       "      <th>1</th>\n",
       "      <td>function_duties</td>\n",
       "      <td>answer_type</td>\n",
       "    </tr>\n",
       "    <tr>\n",
       "      <th>2</th>\n",
       "      <td>function_duties</td>\n",
       "      <td>question</td>\n",
       "    </tr>\n",
       "    <tr>\n",
       "      <th>3</th>\n",
       "      <td>function_duties</td>\n",
       "      <td>response</td>\n",
       "    </tr>\n",
       "    <tr>\n",
       "      <th>4</th>\n",
       "      <td>function_duties</td>\n",
       "      <td>condition</td>\n",
       "    </tr>\n",
       "    <tr>\n",
       "      <th>5</th>\n",
       "      <td>narcissism_opponents</td>\n",
       "      <td>answer</td>\n",
       "    </tr>\n",
       "    <tr>\n",
       "      <th>6</th>\n",
       "      <td>narcissism_opponents</td>\n",
       "      <td>answer_type</td>\n",
       "    </tr>\n",
       "    <tr>\n",
       "      <th>7</th>\n",
       "      <td>narcissism_opponents</td>\n",
       "      <td>question</td>\n",
       "    </tr>\n",
       "    <tr>\n",
       "      <th>8</th>\n",
       "      <td>narcissism_opponents</td>\n",
       "      <td>response</td>\n",
       "    </tr>\n",
       "    <tr>\n",
       "      <th>9</th>\n",
       "      <td>narcissism_opponents</td>\n",
       "      <td>condition</td>\n",
       "    </tr>\n",
       "    <tr>\n",
       "      <th>10</th>\n",
       "      <td>locus_of_control_13</td>\n",
       "      <td>answer</td>\n",
       "    </tr>\n",
       "    <tr>\n",
       "      <th>11</th>\n",
       "      <td>locus_of_control_13</td>\n",
       "      <td>answer_type</td>\n",
       "    </tr>\n",
       "  </tbody>\n",
       "</table>\n",
       "</div>"
      ],
      "text/plain": [
       "                       0            1\n",
       "0        function_duties       answer\n",
       "1        function_duties  answer_type\n",
       "2        function_duties     question\n",
       "3        function_duties     response\n",
       "4        function_duties    condition\n",
       "5   narcissism_opponents       answer\n",
       "6   narcissism_opponents  answer_type\n",
       "7   narcissism_opponents     question\n",
       "8   narcissism_opponents     response\n",
       "9   narcissism_opponents    condition\n",
       "10   locus_of_control_13       answer\n",
       "11   locus_of_control_13  answer_type"
      ]
     },
     "execution_count": 18,
     "metadata": {},
     "output_type": "execute_result"
    }
   ],
   "source": [
    "df_cols.head(12) "
   ]
  },
  {
   "cell_type": "code",
   "execution_count": 19,
   "metadata": {},
   "outputs": [
    {
     "data": {
      "text/plain": [
       "5    286\n",
       "Name: 1, dtype: int64"
      ]
     },
     "execution_count": 19,
     "metadata": {},
     "output_type": "execute_result"
    }
   ],
   "source": [
    "df_cols.groupby(0).count()[1].value_counts()"
   ]
  },
  {
   "cell_type": "markdown",
   "metadata": {},
   "source": [
    "... and there is\n",
    "\n",
    "### Examening data based on the answer_type columns"
   ]
  },
  {
   "cell_type": "code",
   "execution_count": 20,
   "metadata": {},
   "outputs": [
    {
     "data": {
      "text/plain": [
       "radio           266\n",
       "number           16\n",
       "multi_number      2\n",
       "scale             1\n",
       "number;radio      1\n",
       "Name: 0010fedde8e61cad5b049da6df8b5a, dtype: int64"
      ]
     },
     "execution_count": 20,
     "metadata": {},
     "output_type": "execute_result"
    }
   ],
   "source": [
    "tmp = df.filter(like='_answer_type') \n",
    "\n",
    "tmprow = tmp.iloc[0, :]\n",
    "\n",
    "tmprow.value_counts() "
   ]
  },
  {
   "cell_type": "markdown",
   "metadata": {},
   "source": [
    "#### Examening the `number;radio`  type"
   ]
  },
  {
   "cell_type": "code",
   "execution_count": 21,
   "metadata": {},
   "outputs": [
    {
     "data": {
      "text/plain": [
       "alcohol_debut__answer_type    number;radio\n",
       "Name: 0010fedde8e61cad5b049da6df8b5a, dtype: object"
      ]
     },
     "execution_count": 21,
     "metadata": {},
     "output_type": "execute_result"
    }
   ],
   "source": [
    "tmprow.where(tmprow == 'number;radio').dropna()"
   ]
  },
  {
   "cell_type": "code",
   "execution_count": 22,
   "metadata": {},
   "outputs": [
    {
     "data": {
      "text/plain": [
       "'alcohol_debut'"
      ]
     },
     "execution_count": 22,
     "metadata": {},
     "output_type": "execute_result"
    }
   ],
   "source": [
    "tmplabel = tmprow.where(tmprow == 'number;radio').dropna().index[0].split('__')[0]\n",
    "tmplabel"
   ]
  },
  {
   "cell_type": "code",
   "execution_count": 23,
   "metadata": {},
   "outputs": [
    {
     "data": {
      "text/html": [
       "<div>\n",
       "<table border=\"1\" class=\"dataframe\">\n",
       "  <thead>\n",
       "    <tr style=\"text-align: right;\">\n",
       "      <th></th>\n",
       "      <th>alcohol_debut__answer</th>\n",
       "      <th>alcohol_debut__answer_type</th>\n",
       "      <th>alcohol_debut__question</th>\n",
       "      <th>alcohol_debut__response</th>\n",
       "      <th>alcohol_debut__condition</th>\n",
       "    </tr>\n",
       "  </thead>\n",
       "  <tbody>\n",
       "    <tr>\n",
       "      <th>0010fedde8e61cad5b049da6df8b5a</th>\n",
       "      <td>1.0</td>\n",
       "      <td>number;radio</td>\n",
       "      <td>Hvor gammel var du første gang du drak mindst ...</td>\n",
       "      <td>15</td>\n",
       "      <td>False</td>\n",
       "    </tr>\n",
       "    <tr>\n",
       "      <th>002ee26a0c38a1f77b7cdeab8046cd</th>\n",
       "      <td>1.0</td>\n",
       "      <td>number;radio</td>\n",
       "      <td>Hvor gammel var du første gang du drak mindst ...</td>\n",
       "      <td>14</td>\n",
       "      <td>False</td>\n",
       "    </tr>\n",
       "    <tr>\n",
       "      <th>0037c93a19a7e90580086b462ba11b</th>\n",
       "      <td>1.0</td>\n",
       "      <td>number;radio</td>\n",
       "      <td>Hvor gammel var du første gang du drak mindst ...</td>\n",
       "      <td>15</td>\n",
       "      <td>False</td>\n",
       "    </tr>\n",
       "    <tr>\n",
       "      <th>005b1e0298bde6b726156aefb8d88c</th>\n",
       "      <td>1.0</td>\n",
       "      <td>number;radio</td>\n",
       "      <td>Hvor gammel var du første gang du drak mindst ...</td>\n",
       "      <td>14</td>\n",
       "      <td>False</td>\n",
       "    </tr>\n",
       "    <tr>\n",
       "      <th>00ad591e46eb6f3d8c474d9de9e219</th>\n",
       "      <td>1.0</td>\n",
       "      <td>number;radio</td>\n",
       "      <td>Hvor gammel var du første gang du drak mindst ...</td>\n",
       "      <td>16</td>\n",
       "      <td>False</td>\n",
       "    </tr>\n",
       "  </tbody>\n",
       "</table>\n",
       "</div>"
      ],
      "text/plain": [
       "                                alcohol_debut__answer  \\\n",
       "0010fedde8e61cad5b049da6df8b5a                    1.0   \n",
       "002ee26a0c38a1f77b7cdeab8046cd                    1.0   \n",
       "0037c93a19a7e90580086b462ba11b                    1.0   \n",
       "005b1e0298bde6b726156aefb8d88c                    1.0   \n",
       "00ad591e46eb6f3d8c474d9de9e219                    1.0   \n",
       "\n",
       "                               alcohol_debut__answer_type  \\\n",
       "0010fedde8e61cad5b049da6df8b5a               number;radio   \n",
       "002ee26a0c38a1f77b7cdeab8046cd               number;radio   \n",
       "0037c93a19a7e90580086b462ba11b               number;radio   \n",
       "005b1e0298bde6b726156aefb8d88c               number;radio   \n",
       "00ad591e46eb6f3d8c474d9de9e219               number;radio   \n",
       "\n",
       "                                                          alcohol_debut__question  \\\n",
       "0010fedde8e61cad5b049da6df8b5a  Hvor gammel var du første gang du drak mindst ...   \n",
       "002ee26a0c38a1f77b7cdeab8046cd  Hvor gammel var du første gang du drak mindst ...   \n",
       "0037c93a19a7e90580086b462ba11b  Hvor gammel var du første gang du drak mindst ...   \n",
       "005b1e0298bde6b726156aefb8d88c  Hvor gammel var du første gang du drak mindst ...   \n",
       "00ad591e46eb6f3d8c474d9de9e219  Hvor gammel var du første gang du drak mindst ...   \n",
       "\n",
       "                               alcohol_debut__response  \\\n",
       "0010fedde8e61cad5b049da6df8b5a                      15   \n",
       "002ee26a0c38a1f77b7cdeab8046cd                      14   \n",
       "0037c93a19a7e90580086b462ba11b                      15   \n",
       "005b1e0298bde6b726156aefb8d88c                      14   \n",
       "00ad591e46eb6f3d8c474d9de9e219                      16   \n",
       "\n",
       "                               alcohol_debut__condition  \n",
       "0010fedde8e61cad5b049da6df8b5a                    False  \n",
       "002ee26a0c38a1f77b7cdeab8046cd                    False  \n",
       "0037c93a19a7e90580086b462ba11b                    False  \n",
       "005b1e0298bde6b726156aefb8d88c                    False  \n",
       "00ad591e46eb6f3d8c474d9de9e219                    False  "
      ]
     },
     "execution_count": 23,
     "metadata": {},
     "output_type": "execute_result"
    }
   ],
   "source": [
    "df_number_radio = df.filter(like=tmplabel)\n",
    "df_number_radio.head() "
   ]
  },
  {
   "cell_type": "code",
   "execution_count": 24,
   "metadata": {},
   "outputs": [
    {
     "name": "stdout",
     "output_type": "stream",
     "text": [
      "0.0     34\n",
      "1.0    906\n",
      "Name: alcohol_debut__answer, dtype: int64\n",
      "\n",
      "\n",
      "number;radio    954\n",
      "Name: alcohol_debut__answer_type, dtype: int64\n",
      "\n",
      "\n",
      "Hvor gammel var du første gang du drak mindst en genstand?    954\n",
      "Name: alcohol_debut__question, dtype: int64\n",
      "\n",
      "\n",
      "10                                 13\n",
      "11                                  9\n",
      "12                                 43\n",
      "13                                151\n",
      "14                                219\n",
      "15                                272\n",
      "16                                121\n",
      "17                                 30\n",
      "18                                 18\n",
      "19                                  7\n",
      "20                                  2\n",
      "21                                  1\n",
      "22                                  1\n",
      "29                                  1\n",
      "5                                   8\n",
      "6                                   1\n",
      "7                                   1\n",
      "8                                   5\n",
      "9                                   3\n",
      "jeg_har_aldrig_drukket_alkohol     34\n",
      "Name: alcohol_debut__response, dtype: int64\n",
      "\n",
      "\n",
      "False    954\n",
      "Name: alcohol_debut__condition, dtype: int64\n",
      "\n",
      "\n"
     ]
    }
   ],
   "source": [
    "for col in (df_number_radio[col] for col in df_number_radio.columns):\n",
    "    print(col.value_counts().sort_index(), end='\\n'*3)"
   ]
  },
  {
   "cell_type": "code",
   "execution_count": 128,
   "metadata": {},
   "outputs": [
    {
     "data": {
      "text/plain": [
       "alcohol_debut__answer    0.985325\n",
       "dtype: float64"
      ]
     },
     "execution_count": 128,
     "metadata": {},
     "output_type": "execute_result"
    }
   ],
   "source": [
    "df_number_radio.filter(regex='_answer$').notnull().sum() / df_number.shape[0]"
   ]
  },
  {
   "cell_type": "markdown",
   "metadata": {},
   "source": [
    "The `number;radio` type seems to a radio-button with numbers on a numerical scale. There's only a few nulls.\n",
    "\n",
    "#### Examening the `number` answer type"
   ]
  },
  {
   "cell_type": "code",
   "execution_count": 139,
   "metadata": {},
   "outputs": [
    {
     "data": {
      "text/plain": [
       "alcohol_volume_sunday__answer_type       number\n",
       "alcohol_volume_thursday__answer_type     number\n",
       "alcohol_volume_saturday__answer_type     number\n",
       "alcohol_volume_monday__answer_type       number\n",
       "alcohol_volume_tuesday__answer_type      number\n",
       "weight__answer_type                      number\n",
       "alcohol_volume_wednesday__answer_type    number\n",
       "smoke_volume_cerut__answer_type          number\n",
       "function_activity__answer_type           number\n",
       "height__answer_type                      number\n",
       "birthyear__answer_type                   number\n",
       "smoke_volume_cigar__answer_type          number\n",
       "smoke_volume_pibe__answer_type           number\n",
       "alcohol_volume_friday__answer_type       number\n",
       "smoke_volume_cigarette__answer_type      number\n",
       "know_other_number__answer_type           number\n",
       "Name: 0010fedde8e61cad5b049da6df8b5a, dtype: object"
      ]
     },
     "execution_count": 139,
     "metadata": {},
     "output_type": "execute_result"
    }
   ],
   "source": [
    "tmprow.where(tmprow == 'number').dropna() "
   ]
  },
  {
   "cell_type": "code",
   "execution_count": 142,
   "metadata": {},
   "outputs": [
    {
     "data": {
      "text/plain": [
       "Index(['alcohol_volume_sunday', 'alcohol_volume_thursday',\n",
       "       'alcohol_volume_saturday', 'alcohol_volume_monday',\n",
       "       'alcohol_volume_tuesday', 'weight', 'alcohol_volume_wednesday',\n",
       "       'smoke_volume_cerut', 'function_activity', 'height', 'birthyear',\n",
       "       'smoke_volume_cigar', 'smoke_volume_pibe', 'alcohol_volume_friday',\n",
       "       'smoke_volume_cigarette', 'know_other_number'],\n",
       "      dtype='object')"
      ]
     },
     "execution_count": 142,
     "metadata": {},
     "output_type": "execute_result"
    }
   ],
   "source": [
    "tmplabel = tmprow.where(tmprow == 'number').dropna().index.str.replace('__answer_type', '')\n",
    "tmplabel"
   ]
  },
  {
   "cell_type": "code",
   "execution_count": 143,
   "metadata": {},
   "outputs": [
    {
     "data": {
      "text/html": [
       "<div>\n",
       "<table border=\"1\" class=\"dataframe\">\n",
       "  <thead>\n",
       "    <tr style=\"text-align: right;\">\n",
       "      <th></th>\n",
       "      <th>alcohol_volume_sunday__answer</th>\n",
       "      <th>alcohol_volume_sunday__answer_type</th>\n",
       "      <th>alcohol_volume_sunday__question</th>\n",
       "      <th>alcohol_volume_sunday__response</th>\n",
       "      <th>alcohol_volume_sunday__condition</th>\n",
       "      <th>alcohol_volume_thursday__answer</th>\n",
       "      <th>alcohol_volume_thursday__answer_type</th>\n",
       "      <th>alcohol_volume_thursday__question</th>\n",
       "      <th>alcohol_volume_thursday__response</th>\n",
       "      <th>alcohol_volume_thursday__condition</th>\n",
       "      <th>...</th>\n",
       "      <th>smoke_volume_cigarette__answer</th>\n",
       "      <th>smoke_volume_cigarette__answer_type</th>\n",
       "      <th>smoke_volume_cigarette__question</th>\n",
       "      <th>smoke_volume_cigarette__response</th>\n",
       "      <th>smoke_volume_cigarette__condition</th>\n",
       "      <th>know_other_number__answer</th>\n",
       "      <th>know_other_number__answer_type</th>\n",
       "      <th>know_other_number__question</th>\n",
       "      <th>know_other_number__response</th>\n",
       "      <th>know_other_number__condition</th>\n",
       "    </tr>\n",
       "  </thead>\n",
       "  <tbody>\n",
       "    <tr>\n",
       "      <th>0010fedde8e61cad5b049da6df8b5a</th>\n",
       "      <td>0.0</td>\n",
       "      <td>number</td>\n",
       "      <td></td>\n",
       "      <td>0.0</td>\n",
       "      <td>False</td>\n",
       "      <td>0.0</td>\n",
       "      <td>number</td>\n",
       "      <td></td>\n",
       "      <td>0.0</td>\n",
       "      <td>False</td>\n",
       "      <td>...</td>\n",
       "      <td>NaN</td>\n",
       "      <td>number</td>\n",
       "      <td></td>\n",
       "      <td>NaN</td>\n",
       "      <td>smoke_freq=='Ja, dagligt'</td>\n",
       "      <td>15.0</td>\n",
       "      <td>number</td>\n",
       "      <td>Hvor mange?</td>\n",
       "      <td>15.0</td>\n",
       "      <td>know_other=='ja'</td>\n",
       "    </tr>\n",
       "    <tr>\n",
       "      <th>002ee26a0c38a1f77b7cdeab8046cd</th>\n",
       "      <td>0.0</td>\n",
       "      <td>number</td>\n",
       "      <td></td>\n",
       "      <td>0.0</td>\n",
       "      <td>False</td>\n",
       "      <td>0.0</td>\n",
       "      <td>number</td>\n",
       "      <td></td>\n",
       "      <td>0.0</td>\n",
       "      <td>False</td>\n",
       "      <td>...</td>\n",
       "      <td>20.0</td>\n",
       "      <td>number</td>\n",
       "      <td></td>\n",
       "      <td>20.0</td>\n",
       "      <td>smoke_freq=='Ja, dagligt'</td>\n",
       "      <td>NaN</td>\n",
       "      <td>number</td>\n",
       "      <td>Hvor mange?</td>\n",
       "      <td>NaN</td>\n",
       "      <td>know_other=='ja'</td>\n",
       "    </tr>\n",
       "    <tr>\n",
       "      <th>0037c93a19a7e90580086b462ba11b</th>\n",
       "      <td>0.0</td>\n",
       "      <td>number</td>\n",
       "      <td></td>\n",
       "      <td>0.0</td>\n",
       "      <td>False</td>\n",
       "      <td>0.0</td>\n",
       "      <td>number</td>\n",
       "      <td></td>\n",
       "      <td>0.0</td>\n",
       "      <td>False</td>\n",
       "      <td>...</td>\n",
       "      <td>NaN</td>\n",
       "      <td>number</td>\n",
       "      <td></td>\n",
       "      <td>NaN</td>\n",
       "      <td>smoke_freq=='Ja, dagligt'</td>\n",
       "      <td>2.0</td>\n",
       "      <td>number</td>\n",
       "      <td>Hvor mange?</td>\n",
       "      <td>2.0</td>\n",
       "      <td>know_other=='ja'</td>\n",
       "    </tr>\n",
       "    <tr>\n",
       "      <th>005b1e0298bde6b726156aefb8d88c</th>\n",
       "      <td>1.0</td>\n",
       "      <td>number</td>\n",
       "      <td></td>\n",
       "      <td>1.0</td>\n",
       "      <td>False</td>\n",
       "      <td>0.0</td>\n",
       "      <td>number</td>\n",
       "      <td></td>\n",
       "      <td>0.0</td>\n",
       "      <td>False</td>\n",
       "      <td>...</td>\n",
       "      <td>NaN</td>\n",
       "      <td>number</td>\n",
       "      <td></td>\n",
       "      <td>NaN</td>\n",
       "      <td>smoke_freq=='Ja, dagligt'</td>\n",
       "      <td>10.0</td>\n",
       "      <td>number</td>\n",
       "      <td>Hvor mange?</td>\n",
       "      <td>10.0</td>\n",
       "      <td>know_other=='ja'</td>\n",
       "    </tr>\n",
       "    <tr>\n",
       "      <th>00ad591e46eb6f3d8c474d9de9e219</th>\n",
       "      <td>0.0</td>\n",
       "      <td>number</td>\n",
       "      <td></td>\n",
       "      <td>0.0</td>\n",
       "      <td>False</td>\n",
       "      <td>0.0</td>\n",
       "      <td>number</td>\n",
       "      <td></td>\n",
       "      <td>0.0</td>\n",
       "      <td>False</td>\n",
       "      <td>...</td>\n",
       "      <td>NaN</td>\n",
       "      <td>number</td>\n",
       "      <td></td>\n",
       "      <td>NaN</td>\n",
       "      <td>smoke_freq=='Ja, dagligt'</td>\n",
       "      <td>NaN</td>\n",
       "      <td>number</td>\n",
       "      <td>Hvor mange?</td>\n",
       "      <td>NaN</td>\n",
       "      <td>know_other=='ja'</td>\n",
       "    </tr>\n",
       "  </tbody>\n",
       "</table>\n",
       "<p>5 rows × 80 columns</p>\n",
       "</div>"
      ],
      "text/plain": [
       "                                alcohol_volume_sunday__answer  \\\n",
       "0010fedde8e61cad5b049da6df8b5a                            0.0   \n",
       "002ee26a0c38a1f77b7cdeab8046cd                            0.0   \n",
       "0037c93a19a7e90580086b462ba11b                            0.0   \n",
       "005b1e0298bde6b726156aefb8d88c                            1.0   \n",
       "00ad591e46eb6f3d8c474d9de9e219                            0.0   \n",
       "\n",
       "                               alcohol_volume_sunday__answer_type  \\\n",
       "0010fedde8e61cad5b049da6df8b5a                             number   \n",
       "002ee26a0c38a1f77b7cdeab8046cd                             number   \n",
       "0037c93a19a7e90580086b462ba11b                             number   \n",
       "005b1e0298bde6b726156aefb8d88c                             number   \n",
       "00ad591e46eb6f3d8c474d9de9e219                             number   \n",
       "\n",
       "                               alcohol_volume_sunday__question  \\\n",
       "0010fedde8e61cad5b049da6df8b5a                                   \n",
       "002ee26a0c38a1f77b7cdeab8046cd                                   \n",
       "0037c93a19a7e90580086b462ba11b                                   \n",
       "005b1e0298bde6b726156aefb8d88c                                   \n",
       "00ad591e46eb6f3d8c474d9de9e219                                   \n",
       "\n",
       "                                alcohol_volume_sunday__response  \\\n",
       "0010fedde8e61cad5b049da6df8b5a                              0.0   \n",
       "002ee26a0c38a1f77b7cdeab8046cd                              0.0   \n",
       "0037c93a19a7e90580086b462ba11b                              0.0   \n",
       "005b1e0298bde6b726156aefb8d88c                              1.0   \n",
       "00ad591e46eb6f3d8c474d9de9e219                              0.0   \n",
       "\n",
       "                               alcohol_volume_sunday__condition  \\\n",
       "0010fedde8e61cad5b049da6df8b5a                            False   \n",
       "002ee26a0c38a1f77b7cdeab8046cd                            False   \n",
       "0037c93a19a7e90580086b462ba11b                            False   \n",
       "005b1e0298bde6b726156aefb8d88c                            False   \n",
       "00ad591e46eb6f3d8c474d9de9e219                            False   \n",
       "\n",
       "                                alcohol_volume_thursday__answer  \\\n",
       "0010fedde8e61cad5b049da6df8b5a                              0.0   \n",
       "002ee26a0c38a1f77b7cdeab8046cd                              0.0   \n",
       "0037c93a19a7e90580086b462ba11b                              0.0   \n",
       "005b1e0298bde6b726156aefb8d88c                              0.0   \n",
       "00ad591e46eb6f3d8c474d9de9e219                              0.0   \n",
       "\n",
       "                               alcohol_volume_thursday__answer_type  \\\n",
       "0010fedde8e61cad5b049da6df8b5a                               number   \n",
       "002ee26a0c38a1f77b7cdeab8046cd                               number   \n",
       "0037c93a19a7e90580086b462ba11b                               number   \n",
       "005b1e0298bde6b726156aefb8d88c                               number   \n",
       "00ad591e46eb6f3d8c474d9de9e219                               number   \n",
       "\n",
       "                               alcohol_volume_thursday__question  \\\n",
       "0010fedde8e61cad5b049da6df8b5a                                     \n",
       "002ee26a0c38a1f77b7cdeab8046cd                                     \n",
       "0037c93a19a7e90580086b462ba11b                                     \n",
       "005b1e0298bde6b726156aefb8d88c                                     \n",
       "00ad591e46eb6f3d8c474d9de9e219                                     \n",
       "\n",
       "                                alcohol_volume_thursday__response  \\\n",
       "0010fedde8e61cad5b049da6df8b5a                                0.0   \n",
       "002ee26a0c38a1f77b7cdeab8046cd                                0.0   \n",
       "0037c93a19a7e90580086b462ba11b                                0.0   \n",
       "005b1e0298bde6b726156aefb8d88c                                0.0   \n",
       "00ad591e46eb6f3d8c474d9de9e219                                0.0   \n",
       "\n",
       "                               alcohol_volume_thursday__condition  \\\n",
       "0010fedde8e61cad5b049da6df8b5a                              False   \n",
       "002ee26a0c38a1f77b7cdeab8046cd                              False   \n",
       "0037c93a19a7e90580086b462ba11b                              False   \n",
       "005b1e0298bde6b726156aefb8d88c                              False   \n",
       "00ad591e46eb6f3d8c474d9de9e219                              False   \n",
       "\n",
       "                                           ...               \\\n",
       "0010fedde8e61cad5b049da6df8b5a             ...                \n",
       "002ee26a0c38a1f77b7cdeab8046cd             ...                \n",
       "0037c93a19a7e90580086b462ba11b             ...                \n",
       "005b1e0298bde6b726156aefb8d88c             ...                \n",
       "00ad591e46eb6f3d8c474d9de9e219             ...                \n",
       "\n",
       "                                smoke_volume_cigarette__answer  \\\n",
       "0010fedde8e61cad5b049da6df8b5a                             NaN   \n",
       "002ee26a0c38a1f77b7cdeab8046cd                            20.0   \n",
       "0037c93a19a7e90580086b462ba11b                             NaN   \n",
       "005b1e0298bde6b726156aefb8d88c                             NaN   \n",
       "00ad591e46eb6f3d8c474d9de9e219                             NaN   \n",
       "\n",
       "                               smoke_volume_cigarette__answer_type  \\\n",
       "0010fedde8e61cad5b049da6df8b5a                              number   \n",
       "002ee26a0c38a1f77b7cdeab8046cd                              number   \n",
       "0037c93a19a7e90580086b462ba11b                              number   \n",
       "005b1e0298bde6b726156aefb8d88c                              number   \n",
       "00ad591e46eb6f3d8c474d9de9e219                              number   \n",
       "\n",
       "                               smoke_volume_cigarette__question  \\\n",
       "0010fedde8e61cad5b049da6df8b5a                                    \n",
       "002ee26a0c38a1f77b7cdeab8046cd                                    \n",
       "0037c93a19a7e90580086b462ba11b                                    \n",
       "005b1e0298bde6b726156aefb8d88c                                    \n",
       "00ad591e46eb6f3d8c474d9de9e219                                    \n",
       "\n",
       "                               smoke_volume_cigarette__response  \\\n",
       "0010fedde8e61cad5b049da6df8b5a                              NaN   \n",
       "002ee26a0c38a1f77b7cdeab8046cd                             20.0   \n",
       "0037c93a19a7e90580086b462ba11b                              NaN   \n",
       "005b1e0298bde6b726156aefb8d88c                              NaN   \n",
       "00ad591e46eb6f3d8c474d9de9e219                              NaN   \n",
       "\n",
       "                               smoke_volume_cigarette__condition  \\\n",
       "0010fedde8e61cad5b049da6df8b5a         smoke_freq=='Ja, dagligt'   \n",
       "002ee26a0c38a1f77b7cdeab8046cd         smoke_freq=='Ja, dagligt'   \n",
       "0037c93a19a7e90580086b462ba11b         smoke_freq=='Ja, dagligt'   \n",
       "005b1e0298bde6b726156aefb8d88c         smoke_freq=='Ja, dagligt'   \n",
       "00ad591e46eb6f3d8c474d9de9e219         smoke_freq=='Ja, dagligt'   \n",
       "\n",
       "                                know_other_number__answer  \\\n",
       "0010fedde8e61cad5b049da6df8b5a                       15.0   \n",
       "002ee26a0c38a1f77b7cdeab8046cd                        NaN   \n",
       "0037c93a19a7e90580086b462ba11b                        2.0   \n",
       "005b1e0298bde6b726156aefb8d88c                       10.0   \n",
       "00ad591e46eb6f3d8c474d9de9e219                        NaN   \n",
       "\n",
       "                               know_other_number__answer_type  \\\n",
       "0010fedde8e61cad5b049da6df8b5a                         number   \n",
       "002ee26a0c38a1f77b7cdeab8046cd                         number   \n",
       "0037c93a19a7e90580086b462ba11b                         number   \n",
       "005b1e0298bde6b726156aefb8d88c                         number   \n",
       "00ad591e46eb6f3d8c474d9de9e219                         number   \n",
       "\n",
       "                               know_other_number__question  \\\n",
       "0010fedde8e61cad5b049da6df8b5a                 Hvor mange?   \n",
       "002ee26a0c38a1f77b7cdeab8046cd                 Hvor mange?   \n",
       "0037c93a19a7e90580086b462ba11b                 Hvor mange?   \n",
       "005b1e0298bde6b726156aefb8d88c                 Hvor mange?   \n",
       "00ad591e46eb6f3d8c474d9de9e219                 Hvor mange?   \n",
       "\n",
       "                                know_other_number__response  \\\n",
       "0010fedde8e61cad5b049da6df8b5a                         15.0   \n",
       "002ee26a0c38a1f77b7cdeab8046cd                          NaN   \n",
       "0037c93a19a7e90580086b462ba11b                          2.0   \n",
       "005b1e0298bde6b726156aefb8d88c                         10.0   \n",
       "00ad591e46eb6f3d8c474d9de9e219                          NaN   \n",
       "\n",
       "                               know_other_number__condition  \n",
       "0010fedde8e61cad5b049da6df8b5a             know_other=='ja'  \n",
       "002ee26a0c38a1f77b7cdeab8046cd             know_other=='ja'  \n",
       "0037c93a19a7e90580086b462ba11b             know_other=='ja'  \n",
       "005b1e0298bde6b726156aefb8d88c             know_other=='ja'  \n",
       "00ad591e46eb6f3d8c474d9de9e219             know_other=='ja'  \n",
       "\n",
       "[5 rows x 80 columns]"
      ]
     },
     "execution_count": 143,
     "metadata": {},
     "output_type": "execute_result"
    }
   ],
   "source": [
    "df_number = df.filter(regex='|'.join(tmplabel))\n",
    "\n",
    "df_number.head()"
   ]
  },
  {
   "cell_type": "markdown",
   "metadata": {},
   "source": [
    "There's a lot of dimmensions in the count, so the plot are useful for showing the values are centered around a few variables for most answers."
   ]
  },
  {
   "cell_type": "code",
   "execution_count": 144,
   "metadata": {},
   "outputs": [
    {
     "name": "stderr",
     "output_type": "stream",
     "text": [
      "/lscr_paper/allan/miniconda3/envs/py36/lib/python3.6/site-packages/pandas/indexes/api.py:71: RuntimeWarning: '<' not supported between instances of 'float' and 'str', sort order is undefined for incomparable objects\n",
      "  result = result.union(other)\n",
      "/lscr_paper/allan/miniconda3/envs/py36/lib/python3.6/site-packages/pandas/core/frame.py:5441: RuntimeWarning: '<' not supported between instances of 'float' and 'str', sort order is undefined for incomparable objects\n",
      "  index = _union_indexes(indexes)\n",
      "/lscr_paper/allan/miniconda3/envs/py36/lib/python3.6/site-packages/pandas/indexes/api.py:71: RuntimeWarning: '>' not supported between instances of 'float' and 'str', sort order is undefined for incomparable objects\n",
      "  result = result.union(other)\n",
      "/lscr_paper/allan/miniconda3/envs/py36/lib/python3.6/site-packages/pandas/indexes/api.py:71: RuntimeWarning: '>' not supported between instances of 'str' and 'float', sort order is undefined for incomparable objects\n",
      "  result = result.union(other)\n"
     ]
    },
    {
     "data": {
      "image/png": "[encoded data removed]",
      "text/plain": [
       "<matplotlib.figure.Figure at 0x7f6ecf9bcc18>"
      ]
     },
     "metadata": {},
     "output_type": "display_data"
    }
   ],
   "source": [
    "_ = df_number.filter(regex='__answer$').apply(pd.value_counts)\n",
    "ax = sns.heatmap(_.T, xticklabels=False, cmap='YlGnBu',\n",
    "                 yticklabels=[lb.strip('__answer').replace('_', ' ').title() for lb in df_number.columns])\n",
    "ax.grid(which='major', axis='y')"
   ]
  },
  {
   "cell_type": "code",
   "execution_count": 145,
   "metadata": {},
   "outputs": [
    {
     "data": {
      "image/png": "[encoded data removed]",
      "text/plain": [
       "<matplotlib.figure.Figure at 0x7f6ece8aa710>"
      ]
     },
     "metadata": {},
     "output_type": "display_data"
    }
   ],
   "source": [
    "fig, (ax0, ax1) = plotting.boxplot_dataframe_answer_columns(df_number, matplotlib_args={'alpha': 0.35, \n",
    "                                                                                        'color': colorcycle[0]})"
   ]
  },
  {
   "cell_type": "code",
   "execution_count": 146,
   "metadata": {},
   "outputs": [
    {
     "data": {
      "text/plain": [
       "<matplotlib.text.Text at 0x7f6ed76f43c8>"
      ]
     },
     "execution_count": 146,
     "metadata": {},
     "output_type": "execute_result"
    },
    {
     "data": {
      "image/png": "[encoded data removed]",
      "text/plain": [
       "<matplotlib.figure.Figure at 0x7f6ed7f8c240>"
      ]
     },
     "metadata": {},
     "output_type": "display_data"
    }
   ],
   "source": [
    "ax = (df_number.filter(regex='_answer$').notnull().sum() / df_number.shape[0]).plot.bar()\n",
    "ax.set_xticklabels([col.replace('__answer', '').replace('_', ' ').title() for col in df_number.columns]);\n",
    "ax.set_title(\"Fraction of not-NaN's\")"
   ]
  },
  {
   "cell_type": "markdown",
   "metadata": {},
   "source": [
    "It seems like the wast majority of numbers are clustered together — outlier removal may be desireable to achieve generalizable results.\n",
    "\n",
    "A few categories have a lot of null, values and should be removed."
   ]
  },
  {
   "cell_type": "markdown",
   "metadata": {},
   "source": [
    "### Examine `radio` answer types"
   ]
  },
  {
   "cell_type": "code",
   "execution_count": 147,
   "metadata": {},
   "outputs": [
    {
     "data": {
      "text/plain": [
       "function_duties__answer_type         radio\n",
       "narcissism_opponents__answer_type    radio\n",
       "locus_of_control_13__answer_type     radio\n",
       "locus_of_control_12__answer_type     radio\n",
       "self_efficacy_motto__answer_type     radio\n",
       "Name: 0010fedde8e61cad5b049da6df8b5a, dtype: object"
      ]
     },
     "execution_count": 147,
     "metadata": {},
     "output_type": "execute_result"
    }
   ],
   "source": [
    "tmprow.where(tmprow == 'radio').dropna().head() "
   ]
  },
  {
   "cell_type": "code",
   "execution_count": 148,
   "metadata": {},
   "outputs": [
    {
     "data": {
      "text/html": [
       "<div>\n",
       "<table border=\"1\" class=\"dataframe\">\n",
       "  <thead>\n",
       "    <tr style=\"text-align: right;\">\n",
       "      <th></th>\n",
       "      <th>function_duties__answer</th>\n",
       "      <th>function_duties__answer_type</th>\n",
       "      <th>function_duties__question</th>\n",
       "      <th>function_duties__response</th>\n",
       "      <th>function_duties__condition</th>\n",
       "      <th>narcissism_opponents__answer</th>\n",
       "      <th>narcissism_opponents__answer_type</th>\n",
       "      <th>narcissism_opponents__question</th>\n",
       "      <th>narcissism_opponents__response</th>\n",
       "      <th>narcissism_opponents__condition</th>\n",
       "      <th>...</th>\n",
       "      <th>selfesteem_proud__answer</th>\n",
       "      <th>selfesteem_proud__answer_type</th>\n",
       "      <th>selfesteem_proud__question</th>\n",
       "      <th>selfesteem_proud__response</th>\n",
       "      <th>selfesteem_proud__condition</th>\n",
       "      <th>narcissism_excellent__answer</th>\n",
       "      <th>narcissism_excellent__answer_type</th>\n",
       "      <th>narcissism_excellent__question</th>\n",
       "      <th>narcissism_excellent__response</th>\n",
       "      <th>narcissism_excellent__condition</th>\n",
       "    </tr>\n",
       "  </thead>\n",
       "  <tbody>\n",
       "    <tr>\n",
       "      <th>0010fedde8e61cad5b049da6df8b5a</th>\n",
       "      <td>0.0</td>\n",
       "      <td>radio</td>\n",
       "      <td>At varetage dine praktiske pligter i hjemmet?</td>\n",
       "      <td>Slet ikke</td>\n",
       "      <td>False</td>\n",
       "      <td>1.0</td>\n",
       "      <td>radio</td>\n",
       "      <td>Jeg nyder for mig selv, når mine modstandere m...</td>\n",
       "      <td>2</td>\n",
       "      <td>False</td>\n",
       "      <td>...</td>\n",
       "      <td>2.0</td>\n",
       "      <td>radio</td>\n",
       "      <td>Jeg føler at jeg ikke har meget at være stolt af</td>\n",
       "      <td>Uenig</td>\n",
       "      <td>False</td>\n",
       "      <td>3.0</td>\n",
       "      <td>radio</td>\n",
       "      <td>Jeg formår at være midtpunkt for opmærksomhed ...</td>\n",
       "      <td>4</td>\n",
       "      <td>False</td>\n",
       "    </tr>\n",
       "    <tr>\n",
       "      <th>002ee26a0c38a1f77b7cdeab8046cd</th>\n",
       "      <td>1.0</td>\n",
       "      <td>radio</td>\n",
       "      <td>At varetage dine praktiske pligter i hjemmet?</td>\n",
       "      <td>Lidt</td>\n",
       "      <td>False</td>\n",
       "      <td>2.0</td>\n",
       "      <td>radio</td>\n",
       "      <td>Jeg nyder for mig selv, når mine modstandere m...</td>\n",
       "      <td>3</td>\n",
       "      <td>False</td>\n",
       "      <td>...</td>\n",
       "      <td>2.0</td>\n",
       "      <td>radio</td>\n",
       "      <td>Jeg føler at jeg ikke har meget at være stolt af</td>\n",
       "      <td>Uenig</td>\n",
       "      <td>False</td>\n",
       "      <td>2.0</td>\n",
       "      <td>radio</td>\n",
       "      <td>Jeg formår at være midtpunkt for opmærksomhed ...</td>\n",
       "      <td>3</td>\n",
       "      <td>False</td>\n",
       "    </tr>\n",
       "    <tr>\n",
       "      <th>0037c93a19a7e90580086b462ba11b</th>\n",
       "      <td>1.0</td>\n",
       "      <td>radio</td>\n",
       "      <td>At varetage dine praktiske pligter i hjemmet?</td>\n",
       "      <td>Lidt</td>\n",
       "      <td>False</td>\n",
       "      <td>1.0</td>\n",
       "      <td>radio</td>\n",
       "      <td>Jeg nyder for mig selv, når mine modstandere m...</td>\n",
       "      <td>2</td>\n",
       "      <td>False</td>\n",
       "      <td>...</td>\n",
       "      <td>1.0</td>\n",
       "      <td>radio</td>\n",
       "      <td>Jeg føler at jeg ikke har meget at være stolt af</td>\n",
       "      <td>Enig</td>\n",
       "      <td>False</td>\n",
       "      <td>1.0</td>\n",
       "      <td>radio</td>\n",
       "      <td>Jeg formår at være midtpunkt for opmærksomhed ...</td>\n",
       "      <td>2</td>\n",
       "      <td>False</td>\n",
       "    </tr>\n",
       "    <tr>\n",
       "      <th>005b1e0298bde6b726156aefb8d88c</th>\n",
       "      <td>1.0</td>\n",
       "      <td>radio</td>\n",
       "      <td>At varetage dine praktiske pligter i hjemmet?</td>\n",
       "      <td>Lidt</td>\n",
       "      <td>False</td>\n",
       "      <td>2.0</td>\n",
       "      <td>radio</td>\n",
       "      <td>Jeg nyder for mig selv, når mine modstandere m...</td>\n",
       "      <td>3</td>\n",
       "      <td>False</td>\n",
       "      <td>...</td>\n",
       "      <td>2.0</td>\n",
       "      <td>radio</td>\n",
       "      <td>Jeg føler at jeg ikke har meget at være stolt af</td>\n",
       "      <td>Uenig</td>\n",
       "      <td>False</td>\n",
       "      <td>1.0</td>\n",
       "      <td>radio</td>\n",
       "      <td>Jeg formår at være midtpunkt for opmærksomhed ...</td>\n",
       "      <td>2</td>\n",
       "      <td>False</td>\n",
       "    </tr>\n",
       "    <tr>\n",
       "      <th>00ad591e46eb6f3d8c474d9de9e219</th>\n",
       "      <td>1.0</td>\n",
       "      <td>radio</td>\n",
       "      <td>At varetage dine praktiske pligter i hjemmet?</td>\n",
       "      <td>Lidt</td>\n",
       "      <td>False</td>\n",
       "      <td>1.0</td>\n",
       "      <td>radio</td>\n",
       "      <td>Jeg nyder for mig selv, når mine modstandere m...</td>\n",
       "      <td>2</td>\n",
       "      <td>False</td>\n",
       "      <td>...</td>\n",
       "      <td>3.0</td>\n",
       "      <td>radio</td>\n",
       "      <td>Jeg føler at jeg ikke har meget at være stolt af</td>\n",
       "      <td>Stærkt uenig</td>\n",
       "      <td>False</td>\n",
       "      <td>0.0</td>\n",
       "      <td>radio</td>\n",
       "      <td>Jeg formår at være midtpunkt for opmærksomhed ...</td>\n",
       "      <td>Passer slet ikke 1</td>\n",
       "      <td>False</td>\n",
       "    </tr>\n",
       "  </tbody>\n",
       "</table>\n",
       "<p>5 rows × 1335 columns</p>\n",
       "</div>"
      ],
      "text/plain": [
       "                                function_duties__answer  \\\n",
       "0010fedde8e61cad5b049da6df8b5a                      0.0   \n",
       "002ee26a0c38a1f77b7cdeab8046cd                      1.0   \n",
       "0037c93a19a7e90580086b462ba11b                      1.0   \n",
       "005b1e0298bde6b726156aefb8d88c                      1.0   \n",
       "00ad591e46eb6f3d8c474d9de9e219                      1.0   \n",
       "\n",
       "                               function_duties__answer_type  \\\n",
       "0010fedde8e61cad5b049da6df8b5a                        radio   \n",
       "002ee26a0c38a1f77b7cdeab8046cd                        radio   \n",
       "0037c93a19a7e90580086b462ba11b                        radio   \n",
       "005b1e0298bde6b726156aefb8d88c                        radio   \n",
       "00ad591e46eb6f3d8c474d9de9e219                        radio   \n",
       "\n",
       "                                                    function_duties__question  \\\n",
       "0010fedde8e61cad5b049da6df8b5a  At varetage dine praktiske pligter i hjemmet?   \n",
       "002ee26a0c38a1f77b7cdeab8046cd  At varetage dine praktiske pligter i hjemmet?   \n",
       "0037c93a19a7e90580086b462ba11b  At varetage dine praktiske pligter i hjemmet?   \n",
       "005b1e0298bde6b726156aefb8d88c  At varetage dine praktiske pligter i hjemmet?   \n",
       "00ad591e46eb6f3d8c474d9de9e219  At varetage dine praktiske pligter i hjemmet?   \n",
       "\n",
       "                               function_duties__response  \\\n",
       "0010fedde8e61cad5b049da6df8b5a                 Slet ikke   \n",
       "002ee26a0c38a1f77b7cdeab8046cd                      Lidt   \n",
       "0037c93a19a7e90580086b462ba11b                      Lidt   \n",
       "005b1e0298bde6b726156aefb8d88c                      Lidt   \n",
       "00ad591e46eb6f3d8c474d9de9e219                      Lidt   \n",
       "\n",
       "                               function_duties__condition  \\\n",
       "0010fedde8e61cad5b049da6df8b5a                      False   \n",
       "002ee26a0c38a1f77b7cdeab8046cd                      False   \n",
       "0037c93a19a7e90580086b462ba11b                      False   \n",
       "005b1e0298bde6b726156aefb8d88c                      False   \n",
       "00ad591e46eb6f3d8c474d9de9e219                      False   \n",
       "\n",
       "                                narcissism_opponents__answer  \\\n",
       "0010fedde8e61cad5b049da6df8b5a                           1.0   \n",
       "002ee26a0c38a1f77b7cdeab8046cd                           2.0   \n",
       "0037c93a19a7e90580086b462ba11b                           1.0   \n",
       "005b1e0298bde6b726156aefb8d88c                           2.0   \n",
       "00ad591e46eb6f3d8c474d9de9e219                           1.0   \n",
       "\n",
       "                               narcissism_opponents__answer_type  \\\n",
       "0010fedde8e61cad5b049da6df8b5a                             radio   \n",
       "002ee26a0c38a1f77b7cdeab8046cd                             radio   \n",
       "0037c93a19a7e90580086b462ba11b                             radio   \n",
       "005b1e0298bde6b726156aefb8d88c                             radio   \n",
       "00ad591e46eb6f3d8c474d9de9e219                             radio   \n",
       "\n",
       "                                                   narcissism_opponents__question  \\\n",
       "0010fedde8e61cad5b049da6df8b5a  Jeg nyder for mig selv, når mine modstandere m...   \n",
       "002ee26a0c38a1f77b7cdeab8046cd  Jeg nyder for mig selv, når mine modstandere m...   \n",
       "0037c93a19a7e90580086b462ba11b  Jeg nyder for mig selv, når mine modstandere m...   \n",
       "005b1e0298bde6b726156aefb8d88c  Jeg nyder for mig selv, når mine modstandere m...   \n",
       "00ad591e46eb6f3d8c474d9de9e219  Jeg nyder for mig selv, når mine modstandere m...   \n",
       "\n",
       "                               narcissism_opponents__response  \\\n",
       "0010fedde8e61cad5b049da6df8b5a                              2   \n",
       "002ee26a0c38a1f77b7cdeab8046cd                              3   \n",
       "0037c93a19a7e90580086b462ba11b                              2   \n",
       "005b1e0298bde6b726156aefb8d88c                              3   \n",
       "00ad591e46eb6f3d8c474d9de9e219                              2   \n",
       "\n",
       "                               narcissism_opponents__condition  \\\n",
       "0010fedde8e61cad5b049da6df8b5a                           False   \n",
       "002ee26a0c38a1f77b7cdeab8046cd                           False   \n",
       "0037c93a19a7e90580086b462ba11b                           False   \n",
       "005b1e0298bde6b726156aefb8d88c                           False   \n",
       "00ad591e46eb6f3d8c474d9de9e219                           False   \n",
       "\n",
       "                                             ...                \\\n",
       "0010fedde8e61cad5b049da6df8b5a               ...                 \n",
       "002ee26a0c38a1f77b7cdeab8046cd               ...                 \n",
       "0037c93a19a7e90580086b462ba11b               ...                 \n",
       "005b1e0298bde6b726156aefb8d88c               ...                 \n",
       "00ad591e46eb6f3d8c474d9de9e219               ...                 \n",
       "\n",
       "                                selfesteem_proud__answer  \\\n",
       "0010fedde8e61cad5b049da6df8b5a                       2.0   \n",
       "002ee26a0c38a1f77b7cdeab8046cd                       2.0   \n",
       "0037c93a19a7e90580086b462ba11b                       1.0   \n",
       "005b1e0298bde6b726156aefb8d88c                       2.0   \n",
       "00ad591e46eb6f3d8c474d9de9e219                       3.0   \n",
       "\n",
       "                               selfesteem_proud__answer_type  \\\n",
       "0010fedde8e61cad5b049da6df8b5a                         radio   \n",
       "002ee26a0c38a1f77b7cdeab8046cd                         radio   \n",
       "0037c93a19a7e90580086b462ba11b                         radio   \n",
       "005b1e0298bde6b726156aefb8d88c                         radio   \n",
       "00ad591e46eb6f3d8c474d9de9e219                         radio   \n",
       "\n",
       "                                                      selfesteem_proud__question  \\\n",
       "0010fedde8e61cad5b049da6df8b5a  Jeg føler at jeg ikke har meget at være stolt af   \n",
       "002ee26a0c38a1f77b7cdeab8046cd  Jeg føler at jeg ikke har meget at være stolt af   \n",
       "0037c93a19a7e90580086b462ba11b  Jeg føler at jeg ikke har meget at være stolt af   \n",
       "005b1e0298bde6b726156aefb8d88c  Jeg føler at jeg ikke har meget at være stolt af   \n",
       "00ad591e46eb6f3d8c474d9de9e219  Jeg føler at jeg ikke har meget at være stolt af   \n",
       "\n",
       "                               selfesteem_proud__response  \\\n",
       "0010fedde8e61cad5b049da6df8b5a                      Uenig   \n",
       "002ee26a0c38a1f77b7cdeab8046cd                      Uenig   \n",
       "0037c93a19a7e90580086b462ba11b                       Enig   \n",
       "005b1e0298bde6b726156aefb8d88c                      Uenig   \n",
       "00ad591e46eb6f3d8c474d9de9e219               Stærkt uenig   \n",
       "\n",
       "                               selfesteem_proud__condition  \\\n",
       "0010fedde8e61cad5b049da6df8b5a                       False   \n",
       "002ee26a0c38a1f77b7cdeab8046cd                       False   \n",
       "0037c93a19a7e90580086b462ba11b                       False   \n",
       "005b1e0298bde6b726156aefb8d88c                       False   \n",
       "00ad591e46eb6f3d8c474d9de9e219                       False   \n",
       "\n",
       "                                narcissism_excellent__answer  \\\n",
       "0010fedde8e61cad5b049da6df8b5a                           3.0   \n",
       "002ee26a0c38a1f77b7cdeab8046cd                           2.0   \n",
       "0037c93a19a7e90580086b462ba11b                           1.0   \n",
       "005b1e0298bde6b726156aefb8d88c                           1.0   \n",
       "00ad591e46eb6f3d8c474d9de9e219                           0.0   \n",
       "\n",
       "                               narcissism_excellent__answer_type  \\\n",
       "0010fedde8e61cad5b049da6df8b5a                             radio   \n",
       "002ee26a0c38a1f77b7cdeab8046cd                             radio   \n",
       "0037c93a19a7e90580086b462ba11b                             radio   \n",
       "005b1e0298bde6b726156aefb8d88c                             radio   \n",
       "00ad591e46eb6f3d8c474d9de9e219                             radio   \n",
       "\n",
       "                                                   narcissism_excellent__question  \\\n",
       "0010fedde8e61cad5b049da6df8b5a  Jeg formår at være midtpunkt for opmærksomhed ...   \n",
       "002ee26a0c38a1f77b7cdeab8046cd  Jeg formår at være midtpunkt for opmærksomhed ...   \n",
       "0037c93a19a7e90580086b462ba11b  Jeg formår at være midtpunkt for opmærksomhed ...   \n",
       "005b1e0298bde6b726156aefb8d88c  Jeg formår at være midtpunkt for opmærksomhed ...   \n",
       "00ad591e46eb6f3d8c474d9de9e219  Jeg formår at være midtpunkt for opmærksomhed ...   \n",
       "\n",
       "                               narcissism_excellent__response  \\\n",
       "0010fedde8e61cad5b049da6df8b5a                              4   \n",
       "002ee26a0c38a1f77b7cdeab8046cd                              3   \n",
       "0037c93a19a7e90580086b462ba11b                              2   \n",
       "005b1e0298bde6b726156aefb8d88c                              2   \n",
       "00ad591e46eb6f3d8c474d9de9e219             Passer slet ikke 1   \n",
       "\n",
       "                               narcissism_excellent__condition  \n",
       "0010fedde8e61cad5b049da6df8b5a                           False  \n",
       "002ee26a0c38a1f77b7cdeab8046cd                           False  \n",
       "0037c93a19a7e90580086b462ba11b                           False  \n",
       "005b1e0298bde6b726156aefb8d88c                           False  \n",
       "00ad591e46eb6f3d8c474d9de9e219                           False  \n",
       "\n",
       "[5 rows x 1335 columns]"
      ]
     },
     "execution_count": 148,
     "metadata": {},
     "output_type": "execute_result"
    }
   ],
   "source": [
    "tmplabel = tmprow.where(tmprow == 'radio').dropna().index.str.replace('__answer_type', '')\n",
    "df_radio = df.filter(regex='|'.join(tmplabel)) \n",
    "df_radio.head() "
   ]
  },
  {
   "cell_type": "code",
   "execution_count": 155,
   "metadata": {},
   "outputs": [
    {
     "data": {
      "image/png": "[encoded data removed]",
      "text/plain": [
       "<matplotlib.figure.Figure at 0x7f6ece9c27b8>"
      ]
     },
     "metadata": {},
     "output_type": "display_data"
    }
   ],
   "source": [
    "fig, ax = plt.subplots(figsize=(17, 7))\n",
    "_ = df_radio.filter(regex='__answer$').apply(pd.value_counts)\n",
    "ax = sns.heatmap(_.T, xticklabels=False, yticklabels=False, cmap='YlGnBu', ax=ax)\n"
   ]
  },
  {
   "cell_type": "code",
   "execution_count": 179,
   "metadata": {},
   "outputs": [
    {
     "data": {
      "image/png": "[encoded data removed]",
      "text/plain": [
       "<matplotlib.figure.Figure at 0x7f6ec5697710>"
      ]
     },
     "metadata": {},
     "output_type": "display_data"
    },
    {
     "data": {
      "image/png": "[encoded data removed]",
      "text/plain": [
       "<matplotlib.figure.Figure at 0x7f6ec584fa58>"
      ]
     },
     "metadata": {},
     "output_type": "display_data"
    }
   ],
   "source": [
    "oldfigsize = mpl.rcParams['figure.figsize']\n",
    "mpl.rcParams['figure.figsize'] = [17, 6]\n",
    "(fig0, ax0), (fig1, ax1) = plotting.boxplot_dataframe_answer_columns(df_radio, subplot=False,\n",
    "                                                            matplotlib_args={'alpha': 0.35, 'color': colorcycle[0]}) \n",
    "ax0.set_xticklabels(list())\n",
    "ax1.set_xticklabels(list())\n",
    "\n",
    "mpl.rcParams['figure.figsize'] = oldfigsize"
   ]
  },
  {
   "cell_type": "code",
   "execution_count": 180,
   "metadata": {},
   "outputs": [
    {
     "data": {
      "text/plain": [
       "<matplotlib.text.Text at 0x7f6ec6d17da0>"
      ]
     },
     "execution_count": 180,
     "metadata": {},
     "output_type": "execute_result"
    },
    {
     "data": {
      "image/png": "[encoded data removed]",
      "text/plain": [
       "<matplotlib.figure.Figure at 0x7f6ed27875f8>"
      ]
     },
     "metadata": {},
     "output_type": "display_data"
    }
   ],
   "source": [
    "\n",
    "ax = (df_radio.filter(regex='_answer$').notnull().sum() / df_radio.shape[0]).plot.hist(bins=35)\n",
    "ax.set_title(\"Fraction of not-NaN's\") "
   ]
  },
  {
   "cell_type": "markdown",
   "metadata": {},
   "source": [
    "While 266 variables is definetly pushing the limit of the boxplot, we can though see that \n",
    "\n",
    "1. Most categories points seems to around or just below 200\n",
    "2. There's some variables whice are significant higher, but the low standard deviation suggests that they contains a lot of `NaN`'s\n",
    "3. A lot of categories have big outliers.\n",
    "\n",
    "And from the `NaN`-fraction plot we see that there's endeed some `NaN`'s in the data."
   ]
  },
  {
   "cell_type": "code",
   "execution_count": null,
   "metadata": {
    "collapsed": true
   },
   "outputs": [],
   "source": []
  },
  {
   "cell_type": "code",
   "execution_count": null,
   "metadata": {
    "collapsed": true
   },
   "outputs": [],
   "source": []
  },
  {
   "cell_type": "code",
   "execution_count": null,
   "metadata": {
    "collapsed": true
   },
   "outputs": [],
   "source": []
  },
  {
   "cell_type": "markdown",
   "metadata": {},
   "source": [
    "Next, clean responses like\n",
    "```\n",
    "\n",
    "014813ebd3e875e031adf6ab717acc       Passer slet ikke 1\n",
    "0149cde16952c52bd38550ba4e5c56                        4\n",
    "0192d71b149f60e98272b3ad3daf05                        2\n",
    "01b55a9e2a33743a3b956085974184                        3\n",
    "01b752d455e97e5dd2262d339f2187       Passer slet ikke 1\n",
    "01b913754e34bbac2a17afbc398702    6 Passer fuldstændigt\n",
    "01bead0797b27df58534edb513d875                        4\n",
    "```\n",
    "\n",
    "Test that the regex works"
   ]
  },
  {
   "cell_type": "code",
   "execution_count": null,
   "metadata": {},
   "outputs": [],
   "source": [
    "rx_stupid_format = re.compile(r'^(?:\\D+\\d+)|(?:\\d+\\D+)$')\n",
    "tmp = pd.Series(['foo 123', '456 bar', 'biz', '789', 987])\n",
    "tmp.str.match(rx_stupid_format)"
   ]
  },
  {
   "cell_type": "code",
   "execution_count": null,
   "metadata": {
    "collapsed": true
   },
   "outputs": [],
   "source": [
    "df_is_stupid_format = df.copy()\n",
    "for col in df.columns:\n",
    "    try:\n",
    "        df_is_stupid_format[col] = df[col].str.match(rx_stupid_format)\n",
    "    except AttributeError:\n",
    "        df_is_stupid_format[col] = np.NaN"
   ]
  },
  {
   "cell_type": "code",
   "execution_count": null,
   "metadata": {},
   "outputs": [],
   "source": [
    "df_is_stupid_format.head(15)"
   ]
  },
  {
   "cell_type": "code",
   "execution_count": null,
   "metadata": {},
   "outputs": [],
   "source": [
    "df_is_stupid_format.shape"
   ]
  },
  {
   "cell_type": "code",
   "execution_count": null,
   "metadata": {
    "collapsed": true
   },
   "outputs": [],
   "source": [
    "df_is_stupid_format = df_is_stupid_format.dropna(axis=1, how='all')"
   ]
  },
  {
   "cell_type": "code",
   "execution_count": null,
   "metadata": {},
   "outputs": [],
   "source": [
    "df_is_stupid_format.shape"
   ]
  },
  {
   "cell_type": "code",
   "execution_count": null,
   "metadata": {
    "collapsed": true
   },
   "outputs": [],
   "source": [
    "stupid_format_idx = df_is_stupid_format.any()[df_is_stupid_format.any()].index"
   ]
  },
  {
   "cell_type": "code",
   "execution_count": null,
   "metadata": {
    "collapsed": true
   },
   "outputs": [],
   "source": [
    "tmp = df.loc[:, stupid_format_idx]"
   ]
  },
  {
   "cell_type": "code",
   "execution_count": null,
   "metadata": {},
   "outputs": [],
   "source": [
    "tmp.head() "
   ]
  },
  {
   "cell_type": "code",
   "execution_count": null,
   "metadata": {
    "collapsed": true
   },
   "outputs": [],
   "source": [
    "df.filter"
   ]
  },
  {
   "cell_type": "code",
   "execution_count": null,
   "metadata": {},
   "outputs": [],
   "source": [
    "df.filter(regex='answer|response')"
   ]
  },
  {
   "cell_type": "code",
   "execution_count": null,
   "metadata": {
    "collapsed": true
   },
   "outputs": [],
   "source": []
  },
  {
   "cell_type": "code",
   "execution_count": null,
   "metadata": {
    "collapsed": true
   },
   "outputs": [],
   "source": []
  },
  {
   "cell_type": "code",
   "execution_count": null,
   "metadata": {
    "collapsed": true
   },
   "outputs": [],
   "source": []
  },
  {
   "cell_type": "code",
   "execution_count": null,
   "metadata": {
    "collapsed": true
   },
   "outputs": [],
   "source": []
  },
  {
   "cell_type": "code",
   "execution_count": null,
   "metadata": {
    "collapsed": true
   },
   "outputs": [],
   "source": []
  },
  {
   "cell_type": "code",
   "execution_count": null,
   "metadata": {
    "collapsed": true
   },
   "outputs": [],
   "source": []
  },
  {
   "cell_type": "code",
   "execution_count": null,
   "metadata": {
    "collapsed": true
   },
   "outputs": [],
   "source": []
  },
  {
   "cell_type": "code",
   "execution_count": null,
   "metadata": {
    "collapsed": true
   },
   "outputs": [],
   "source": []
  },
  {
   "cell_type": "code",
   "execution_count": null,
   "metadata": {
    "collapsed": true
   },
   "outputs": [],
   "source": []
  },
  {
   "cell_type": "code",
   "execution_count": null,
   "metadata": {
    "collapsed": true
   },
   "outputs": [],
   "source": []
  },
  {
   "cell_type": "code",
   "execution_count": null,
   "metadata": {
    "collapsed": true
   },
   "outputs": [],
   "source": []
  },
  {
   "cell_type": "code",
   "execution_count": null,
   "metadata": {
    "collapsed": true
   },
   "outputs": [],
   "source": []
  },
  {
   "cell_type": "code",
   "execution_count": null,
   "metadata": {
    "collapsed": true
   },
   "outputs": [],
   "source": []
  },
  {
   "cell_type": "code",
   "execution_count": null,
   "metadata": {
    "collapsed": true
   },
   "outputs": [],
   "source": []
  },
  {
   "cell_type": "code",
   "execution_count": null,
   "metadata": {
    "collapsed": true
   },
   "outputs": [],
   "source": []
  },
  {
   "cell_type": "code",
   "execution_count": null,
   "metadata": {
    "collapsed": true
   },
   "outputs": [],
   "source": []
  },
  {
   "cell_type": "code",
   "execution_count": null,
   "metadata": {
    "collapsed": true
   },
   "outputs": [],
   "source": []
  },
  {
   "cell_type": "code",
   "execution_count": null,
   "metadata": {
    "collapsed": true
   },
   "outputs": [],
   "source": []
  },
  {
   "cell_type": "code",
   "execution_count": null,
   "metadata": {
    "collapsed": true
   },
   "outputs": [],
   "source": []
  },
  {
   "cell_type": "code",
   "execution_count": null,
   "metadata": {
    "collapsed": true
   },
   "outputs": [],
   "source": []
  },
  {
   "cell_type": "code",
   "execution_count": null,
   "metadata": {
    "collapsed": true
   },
   "outputs": [],
   "source": []
  },
  {
   "cell_type": "code",
   "execution_count": null,
   "metadata": {
    "collapsed": true
   },
   "outputs": [],
   "source": []
  },
  {
   "cell_type": "code",
   "execution_count": null,
   "metadata": {
    "collapsed": true
   },
   "outputs": [],
   "source": []
  },
  {
   "cell_type": "code",
   "execution_count": null,
   "metadata": {
    "collapsed": true
   },
   "outputs": [],
   "source": []
  },
  {
   "cell_type": "code",
   "execution_count": null,
   "metadata": {
    "collapsed": true
   },
   "outputs": [],
   "source": []
  }
 ],
 "metadata": {
  "kernelspec": {
   "display_name": "Python 3",
   "language": "python",
   "name": "python3"
  },
  "language_info": {
   "codemirror_mode": {
    "name": "ipython",
    "version": 3
   },
   "file_extension": ".py",
   "mimetype": "text/x-python",
   "name": "python",
   "nbconvert_exporter": "python",
   "pygments_lexer": "ipython3",
   "version": "3.6.1"
  }
 },
 "nbformat": 4,
 "nbformat_minor": 2
}
