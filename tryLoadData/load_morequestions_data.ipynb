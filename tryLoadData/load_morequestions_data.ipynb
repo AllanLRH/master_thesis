{
 "cells": [
  {
   "cell_type": "code",
   "execution_count": 1,
   "metadata": {},
   "outputs": [],
   "source": [
    "import sys\n",
    "import os\n",
    "sys.path.append(os.path.abspath(\"..\"))\n",
    "\n",
    "import numpy as np\n",
    "import pandas as pd\n",
    "import matplotlib as mpl\n",
    "import matplotlib.pyplot as plt\n",
    "import seaborn as sns\n",
    "import validus\n",
    "\n",
    "import re\n",
    "from io import StringIO\n",
    "from IPython.display import HTML\n",
    "import tabulate\n",
    "\n",
    "sns.set(context='paper', style='whitegrid', color_codes=True, font_scale=1.8)\n",
    "colorcycle = [(0.498, 0.788, 0.498),\n",
    "              (0.745, 0.682, 0.831),\n",
    "              (0.992, 0.753, 0.525),\n",
    "              (0.220, 0.424, 0.690),\n",
    "              (0.749, 0.357, 0.090),\n",
    "              (1.000, 1.000, 0.600),\n",
    "              (0.941, 0.008, 0.498),\n",
    "              (0.400, 0.400, 0.400)]\n",
    "sns.set_palette(colorcycle)\n",
    "mpl.rcParams['figure.max_open_warning'] = 65\n",
    "mpl.rcParams['figure.figsize'] = [14, 9] \n",
    "mpl.rcParams['text.usetex'] = True\n",
    "\n",
    "from speclib import plotting, misc\n",
    "\n",
    "%matplotlib inline"
   ]
  },
  {
   "cell_type": "code",
   "execution_count": 2,
   "metadata": {},
   "outputs": [],
   "source": [
    "datapath = '../../allan_data/RGender_.dat'\n",
    "fig_path = 'figs_load_morequestions_data/'"
   ]
  },
  {
   "cell_type": "markdown",
   "metadata": {},
   "source": [
    "# Load data\n",
    "\n",
    "## Mend broken lines in file\n",
    "\n",
    "Data file is in a borked format, where there's some answer-lines that spans multiple lines, even though not there's generally answers to one question pr. line.\n",
    "This code attemps to merge the broken lines.\n",
    "If there's no NaN's/null values in the loaded dataset, it's probably ok."
   ]
  },
  {
   "cell_type": "code",
   "execution_count": 3,
   "metadata": {},
   "outputs": [],
   "source": [
    "rx_is_sep_space = re.compile(r'(?<=\") (?=\")')\n",
    "with open(datapath) as fid:\n",
    "    keeplines = list()\n",
    "    partial_list = list()\n",
    "    for line in fid:\n",
    "        str_chr_cnt = len((rx_is_sep_space.findall(line)))\n",
    "        if str_chr_cnt > 9:\n",
    "            if partial_list:\n",
    "                keeplines.append(('\\t'.join(partial_list)))\n",
    "                partial_list = list()\n",
    "            keeplines.append(line.strip())\n",
    "        else:\n",
    "            partial_list.append(line.strip()) \n",
    "        "
   ]
  },
  {
   "cell_type": "code",
   "execution_count": 4,
   "metadata": {},
   "outputs": [],
   "source": [
    "df = pd.read_csv(StringIO('\\n'.join(keeplines)), sep=r'(?<=\\\")\\s+(?=\\\")', engine='python',\n",
    "                 header=0, index_col=0, ).T"
   ]
  },
  {
   "cell_type": "markdown",
   "metadata": {},
   "source": [
    "### Strip spaces from entries"
   ]
  },
  {
   "cell_type": "code",
   "execution_count": 5,
   "metadata": {},
   "outputs": [],
   "source": [
    "df = df.applymap(lambda el: el.strip())"
   ]
  },
  {
   "cell_type": "code",
   "execution_count": 6,
   "metadata": {},
   "outputs": [
    {
     "data": {
      "text/plain": [
       "(954, 1431)"
      ]
     },
     "execution_count": 6,
     "metadata": {},
     "output_type": "execute_result"
    }
   ],
   "source": [
    "df.shape"
   ]
  },
  {
   "cell_type": "code",
   "execution_count": 7,
   "metadata": {},
   "outputs": [
    {
     "data": {
      "text/plain": [
       "False"
      ]
     },
     "execution_count": 7,
     "metadata": {},
     "output_type": "execute_result"
    }
   ],
   "source": [
    "df.isnull().any().any() "
   ]
  },
  {
   "cell_type": "markdown",
   "metadata": {},
   "source": [
    "### Remove `.`  from column names"
   ]
  },
  {
   "cell_type": "code",
   "execution_count": 8,
   "metadata": {},
   "outputs": [],
   "source": [
    "df = df.rename(columns=lambda s: s.strip('\"').replace('.', '__'), index=lambda s: s.strip('\"'))"
   ]
  },
  {
   "cell_type": "markdown",
   "metadata": {},
   "source": [
    "### Remove `\"`-characters from data, and covert to ints or floats where applicable"
   ]
  },
  {
   "cell_type": "code",
   "execution_count": 9,
   "metadata": {},
   "outputs": [],
   "source": [
    "for col in df.columns:\n",
    "    df[col] = df[col].str.strip('\"')\n",
    "    if df[col].map(validus.isint).all():  # all integers\n",
    "        df[col] = df[col].astype(int)\n",
    "    elif df[col].map(validus.isfloat).all(skipna=True):  # all floats\n",
    "        df[col] = df[col].astype(float)"
   ]
  },
  {
   "cell_type": "markdown",
   "metadata": {},
   "source": [
    "### Put in `NaN`'s\n",
    "\n",
    "-1 seems to indicate a non-answer. Replace with NaN's"
   ]
  },
  {
   "cell_type": "code",
   "execution_count": 10,
   "metadata": {},
   "outputs": [],
   "source": [
    "df = df.replace(-1, np.NaN)\n",
    "df = df.replace(\"-1\", np.NaN)"
   ]
  },
  {
   "cell_type": "code",
   "execution_count": 11,
   "metadata": {},
   "outputs": [
    {
     "data": {
      "image/png": "[encoded data removed]",
      "text/plain": [
       "<matplotlib.figure.Figure at 0x7fd58f2286d8>"
      ]
     },
     "metadata": {},
     "output_type": "display_data"
    }
   ],
   "source": [
    "null_ans = df.notnull() / df.shape[1]\n",
    "fig, ax = plt.subplots()\n",
    "ax.set_yscale('log')\n",
    "(null_ans.sum(axis=1)).plot.hist(80, ax=ax)\n",
    "ax.set_xlabel(\"Fraction of mon-Null entries\") \n",
    "ax.set_ylabel(\"Number of respondents\")\n",
    "plt.tight_layout() \n",
    "fig.savefig(fig_path + 'null_distribution_before_cleaning.pdf')"
   ]
  },
  {
   "cell_type": "code",
   "execution_count": 12,
   "metadata": {},
   "outputs": [
    {
     "data": {
      "image/png": "[encoded data removed]",
      "text/plain": [
       "<matplotlib.figure.Figure at 0x7fd5976edc88>"
      ]
     },
     "metadata": {},
     "output_type": "display_data"
    },
    {
     "data": {
      "image/png": "[encoded data removed]",
      "text/plain": [
       "<matplotlib.figure.Figure at 0x7fd5976edd68>"
      ]
     },
     "metadata": {},
     "output_type": "display_data"
    }
   ],
   "source": [
    "fig1, ax1 = plt.subplots(figsize=(6, 4.5))\n",
    "fig2, ax2 = plt.subplots(figsize=(6, 4.5))\n",
    "before_cols = df.filter(regex=\"answer$\").isnull().mean(axis=1).sort_values()\n",
    "before_rows = df.filter(regex=\"answer$\").isnull().mean(axis=0).sort_values()\n",
    "before_cols.name = \"Nulls before cleaning\"\n",
    "before_rows.name = \"Nulls before cleaning\"\n",
    "before_cols.plot(ax=ax1, style=['o-']) \n",
    "before_rows.plot(ax=ax2, style=['o-'])\n",
    "for fig, ax, ymax in ((fig1, ax1, 1), (fig2, ax2, 1)):\n",
    "    ax.set_xticklabels(list())\n",
    "    ax.set_yticks(np.linspace(0, ymax, 9))\n",
    "    ax.set_ylabel('Fraction of nulls')\n",
    "    fig.tight_layout()\n",
    "ax1.set_xlabel('Questions')\n",
    "ax2.set_xlabel('Participants')\n",
    "fig1.savefig(fig_path + 'nan_fraction_over_columns_before_cleaning_questions.pdf')\n",
    "fig2.savefig(fig_path + 'nan_fraction_over_rows_before_cleaning_participants.pdf')  "
   ]
  },
  {
   "cell_type": "markdown",
   "metadata": {},
   "source": [
    "Discard users with less then 80 % answer rate"
   ]
  },
  {
   "cell_type": "code",
   "execution_count": 13,
   "metadata": {},
   "outputs": [
    {
     "name": "stdout",
     "output_type": "stream",
     "text": [
      "Discarding 14 users\n"
     ]
    }
   ],
   "source": [
    "keep_idx = null_ans.sum(axis=1) > 0.8 \n",
    "print(f\"Discarding {df.shape[0] - keep_idx.sum()} users\")\n",
    "df = df.loc[keep_idx, :] "
   ]
  },
  {
   "cell_type": "code",
   "execution_count": 14,
   "metadata": {},
   "outputs": [
    {
     "data": {
      "text/plain": [
       "Text(0.5,44.4,'Participants')"
      ]
     },
     "execution_count": 14,
     "metadata": {},
     "output_type": "execute_result"
    },
    {
     "data": {
      "image/png": "[encoded data removed]",
      "text/plain": [
       "<matplotlib.figure.Figure at 0x7fd58eca26d8>"
      ]
     },
     "metadata": {},
     "output_type": "display_data"
    },
    {
     "data": {
      "image/png": "[encoded data removed]",
      "text/plain": [
       "<matplotlib.figure.Figure at 0x7fd5976ed470>"
      ]
     },
     "metadata": {},
     "output_type": "display_data"
    }
   ],
   "source": [
    "fig1, ax1 = plt.subplots(figsize=(6, 6))\n",
    "fig2, ax2 = plt.subplots(figsize=(6, 6))\n",
    "df.filter(regex=\"answer$\").isnull().mean(axis=1).sort_values().plot(ax=ax1, style=['o-']) \n",
    "df.filter(regex=\"answer$\").isnull().mean(axis=0).sort_values().plot(ax=ax2, style=['o-'])\n",
    "for fig, ax, ymax in ((fig1, ax1, 1), (fig2, ax2, 1)):\n",
    "    ax.set_xticklabels(list())\n",
    "    ax.set_yticks(np.linspace(0, ymax, 9))\n",
    "    ax.set_ylabel('Fraction of nulls')\n",
    "    fig.tight_layout()\n",
    "ax1.set_xlabel('Questions')\n",
    "ax2.set_xlabel('Participants') "
   ]
  },
  {
   "cell_type": "markdown",
   "metadata": {},
   "source": [
    "### Fix bools and gender coding \n",
    "Make boolean string indicators into booleans"
   ]
  },
  {
   "cell_type": "code",
   "execution_count": 15,
   "metadata": {
    "scrolled": true
   },
   "outputs": [],
   "source": [
    "str_bool_dict = {'FALSE': False, 'TRUE': True, np.NaN: np.NaN}\n",
    "for col in df.columns:\n",
    "    if df.loc[:, col].isin(['FALSE', 'TRUE', np.NaN]).all():  # all booleans\n",
    "        df.loc[:, col] = df.loc[:, col].map(lambda el: str_bool_dict[el])"
   ]
  },
  {
   "cell_type": "markdown",
   "metadata": {},
   "source": [
    "Translate the gender to english"
   ]
  },
  {
   "cell_type": "code",
   "execution_count": 16,
   "metadata": {},
   "outputs": [],
   "source": [
    "str_gender_dict = {'Mand': 'male', 'Kvinde': 'female', np.NaN: np.NaN}\n",
    "df.loc[:, 'gender'] = df.gender.map(lambda el: str_gender_dict[el])"
   ]
  },
  {
   "cell_type": "markdown",
   "metadata": {},
   "source": [
    "## Examine column headers"
   ]
  },
  {
   "cell_type": "code",
   "execution_count": 17,
   "metadata": {},
   "outputs": [
    {
     "data": {
      "text/plain": [
       "response       286\n",
       "condition      286\n",
       "question       286\n",
       "answer         286\n",
       "answer_type    286\n",
       "dtype: int64"
      ]
     },
     "execution_count": 17,
     "metadata": {},
     "output_type": "execute_result"
    }
   ],
   "source": [
    "pd.value_counts([el.rsplit('__')[-1] for el in df.columns if '__' in el]) "
   ]
  },
  {
   "cell_type": "code",
   "execution_count": 18,
   "metadata": {},
   "outputs": [
    {
     "data": {
      "text/plain": [
       "gender    1\n",
       "dtype: int64"
      ]
     },
     "execution_count": 18,
     "metadata": {},
     "output_type": "execute_result"
    }
   ],
   "source": [
    "pd.value_counts([el.rsplit('__')[-1] for el in df.columns if '__' not  in el])"
   ]
  },
  {
   "cell_type": "markdown",
   "metadata": {},
   "source": [
    "Seems like there's 5 attributes to each question... check that there is"
   ]
  },
  {
   "cell_type": "code",
   "execution_count": 19,
   "metadata": {},
   "outputs": [],
   "source": [
    "df_cols = pd.DataFrame(el.rsplit('__') for el in df.columns if '__' in el)"
   ]
  },
  {
   "cell_type": "code",
   "execution_count": 20,
   "metadata": {},
   "outputs": [
    {
     "data": {
      "text/html": [
       "<div>\n",
       "<style scoped>\n",
       "    .dataframe tbody tr th:only-of-type {\n",
       "        vertical-align: middle;\n",
       "    }\n",
       "\n",
       "    .dataframe tbody tr th {\n",
       "        vertical-align: top;\n",
       "    }\n",
       "\n",
       "    .dataframe thead th {\n",
       "        text-align: right;\n",
       "    }\n",
       "</style>\n",
       "<table border=\"1\" class=\"dataframe\">\n",
       "  <thead>\n",
       "    <tr style=\"text-align: right;\">\n",
       "      <th></th>\n",
       "      <th>0</th>\n",
       "      <th>1</th>\n",
       "    </tr>\n",
       "  </thead>\n",
       "  <tbody>\n",
       "    <tr>\n",
       "      <th>0</th>\n",
       "      <td>function_duties</td>\n",
       "      <td>answer</td>\n",
       "    </tr>\n",
       "    <tr>\n",
       "      <th>1</th>\n",
       "      <td>function_duties</td>\n",
       "      <td>answer_type</td>\n",
       "    </tr>\n",
       "    <tr>\n",
       "      <th>2</th>\n",
       "      <td>function_duties</td>\n",
       "      <td>question</td>\n",
       "    </tr>\n",
       "    <tr>\n",
       "      <th>3</th>\n",
       "      <td>function_duties</td>\n",
       "      <td>response</td>\n",
       "    </tr>\n",
       "    <tr>\n",
       "      <th>4</th>\n",
       "      <td>function_duties</td>\n",
       "      <td>condition</td>\n",
       "    </tr>\n",
       "    <tr>\n",
       "      <th>5</th>\n",
       "      <td>narcissism_opponents</td>\n",
       "      <td>answer</td>\n",
       "    </tr>\n",
       "    <tr>\n",
       "      <th>6</th>\n",
       "      <td>narcissism_opponents</td>\n",
       "      <td>answer_type</td>\n",
       "    </tr>\n",
       "    <tr>\n",
       "      <th>7</th>\n",
       "      <td>narcissism_opponents</td>\n",
       "      <td>question</td>\n",
       "    </tr>\n",
       "    <tr>\n",
       "      <th>8</th>\n",
       "      <td>narcissism_opponents</td>\n",
       "      <td>response</td>\n",
       "    </tr>\n",
       "    <tr>\n",
       "      <th>9</th>\n",
       "      <td>narcissism_opponents</td>\n",
       "      <td>condition</td>\n",
       "    </tr>\n",
       "    <tr>\n",
       "      <th>10</th>\n",
       "      <td>locus_of_control_13</td>\n",
       "      <td>answer</td>\n",
       "    </tr>\n",
       "    <tr>\n",
       "      <th>11</th>\n",
       "      <td>locus_of_control_13</td>\n",
       "      <td>answer_type</td>\n",
       "    </tr>\n",
       "  </tbody>\n",
       "</table>\n",
       "</div>"
      ],
      "text/plain": [
       "                       0            1\n",
       "0        function_duties       answer\n",
       "1        function_duties  answer_type\n",
       "2        function_duties     question\n",
       "3        function_duties     response\n",
       "4        function_duties    condition\n",
       "5   narcissism_opponents       answer\n",
       "6   narcissism_opponents  answer_type\n",
       "7   narcissism_opponents     question\n",
       "8   narcissism_opponents     response\n",
       "9   narcissism_opponents    condition\n",
       "10   locus_of_control_13       answer\n",
       "11   locus_of_control_13  answer_type"
      ]
     },
     "execution_count": 20,
     "metadata": {},
     "output_type": "execute_result"
    }
   ],
   "source": [
    "df_cols.head(12) "
   ]
  },
  {
   "cell_type": "code",
   "execution_count": 21,
   "metadata": {},
   "outputs": [
    {
     "data": {
      "text/plain": [
       "5    286\n",
       "Name: 1, dtype: int64"
      ]
     },
     "execution_count": 21,
     "metadata": {},
     "output_type": "execute_result"
    }
   ],
   "source": [
    "df_cols.groupby(0).count()[1].value_counts()"
   ]
  },
  {
   "cell_type": "markdown",
   "metadata": {},
   "source": [
    "... and there is\n",
    "\n",
    "### Examening data based on the `answer_type` columns"
   ]
  },
  {
   "cell_type": "code",
   "execution_count": 22,
   "metadata": {},
   "outputs": [
    {
     "data": {
      "text/plain": [
       "radio           266\n",
       "number           16\n",
       "multi_number      2\n",
       "scale             1\n",
       "number;radio      1\n",
       "Name: 0010fedde8e61cad5b049da6df8b5a, dtype: int64"
      ]
     },
     "execution_count": 22,
     "metadata": {},
     "output_type": "execute_result"
    }
   ],
   "source": [
    "tmp = df.filter(like='_answer_type') \n",
    "\n",
    "tmprow = tmp.iloc[0, :]\n",
    "\n",
    "tmprow.value_counts() "
   ]
  },
  {
   "cell_type": "markdown",
   "metadata": {},
   "source": [
    "#### Examening the `number;radio`  type"
   ]
  },
  {
   "cell_type": "code",
   "execution_count": 23,
   "metadata": {},
   "outputs": [
    {
     "data": {
      "text/plain": [
       "alcohol_debut__answer_type    number;radio\n",
       "Name: 0010fedde8e61cad5b049da6df8b5a, dtype: object"
      ]
     },
     "execution_count": 23,
     "metadata": {},
     "output_type": "execute_result"
    }
   ],
   "source": [
    "tmprow.where(tmprow == 'number;radio').dropna()"
   ]
  },
  {
   "cell_type": "code",
   "execution_count": 24,
   "metadata": {},
   "outputs": [
    {
     "data": {
      "text/plain": [
       "'alcohol_debut'"
      ]
     },
     "execution_count": 24,
     "metadata": {},
     "output_type": "execute_result"
    }
   ],
   "source": [
    "tmplabel = tmprow.where(tmprow == 'number;radio').dropna().index[0].split('__')[0]\n",
    "tmplabel"
   ]
  },
  {
   "cell_type": "code",
   "execution_count": 25,
   "metadata": {},
   "outputs": [
    {
     "data": {
      "text/html": [
       "<div>\n",
       "<style scoped>\n",
       "    .dataframe tbody tr th:only-of-type {\n",
       "        vertical-align: middle;\n",
       "    }\n",
       "\n",
       "    .dataframe tbody tr th {\n",
       "        vertical-align: top;\n",
       "    }\n",
       "\n",
       "    .dataframe thead th {\n",
       "        text-align: right;\n",
       "    }\n",
       "</style>\n",
       "<table border=\"1\" class=\"dataframe\">\n",
       "  <thead>\n",
       "    <tr style=\"text-align: right;\">\n",
       "      <th></th>\n",
       "      <th>alcohol_debut__answer</th>\n",
       "      <th>alcohol_debut__answer_type</th>\n",
       "      <th>alcohol_debut__question</th>\n",
       "      <th>alcohol_debut__response</th>\n",
       "      <th>alcohol_debut__condition</th>\n",
       "    </tr>\n",
       "  </thead>\n",
       "  <tbody>\n",
       "    <tr>\n",
       "      <th>0010fedde8e61cad5b049da6df8b5a</th>\n",
       "      <td>1.0</td>\n",
       "      <td>number;radio</td>\n",
       "      <td>Hvor gammel var du første gang du drak mindst ...</td>\n",
       "      <td>15</td>\n",
       "      <td>False</td>\n",
       "    </tr>\n",
       "    <tr>\n",
       "      <th>002ee26a0c38a1f77b7cdeab8046cd</th>\n",
       "      <td>1.0</td>\n",
       "      <td>number;radio</td>\n",
       "      <td>Hvor gammel var du første gang du drak mindst ...</td>\n",
       "      <td>14</td>\n",
       "      <td>False</td>\n",
       "    </tr>\n",
       "    <tr>\n",
       "      <th>0037c93a19a7e90580086b462ba11b</th>\n",
       "      <td>1.0</td>\n",
       "      <td>number;radio</td>\n",
       "      <td>Hvor gammel var du første gang du drak mindst ...</td>\n",
       "      <td>15</td>\n",
       "      <td>False</td>\n",
       "    </tr>\n",
       "    <tr>\n",
       "      <th>005b1e0298bde6b726156aefb8d88c</th>\n",
       "      <td>1.0</td>\n",
       "      <td>number;radio</td>\n",
       "      <td>Hvor gammel var du første gang du drak mindst ...</td>\n",
       "      <td>14</td>\n",
       "      <td>False</td>\n",
       "    </tr>\n",
       "    <tr>\n",
       "      <th>00ad591e46eb6f3d8c474d9de9e219</th>\n",
       "      <td>1.0</td>\n",
       "      <td>number;radio</td>\n",
       "      <td>Hvor gammel var du første gang du drak mindst ...</td>\n",
       "      <td>16</td>\n",
       "      <td>False</td>\n",
       "    </tr>\n",
       "  </tbody>\n",
       "</table>\n",
       "</div>"
      ],
      "text/plain": [
       "                                alcohol_debut__answer  \\\n",
       "0010fedde8e61cad5b049da6df8b5a                    1.0   \n",
       "002ee26a0c38a1f77b7cdeab8046cd                    1.0   \n",
       "0037c93a19a7e90580086b462ba11b                    1.0   \n",
       "005b1e0298bde6b726156aefb8d88c                    1.0   \n",
       "00ad591e46eb6f3d8c474d9de9e219                    1.0   \n",
       "\n",
       "                               alcohol_debut__answer_type  \\\n",
       "0010fedde8e61cad5b049da6df8b5a               number;radio   \n",
       "002ee26a0c38a1f77b7cdeab8046cd               number;radio   \n",
       "0037c93a19a7e90580086b462ba11b               number;radio   \n",
       "005b1e0298bde6b726156aefb8d88c               number;radio   \n",
       "00ad591e46eb6f3d8c474d9de9e219               number;radio   \n",
       "\n",
       "                                                          alcohol_debut__question  \\\n",
       "0010fedde8e61cad5b049da6df8b5a  Hvor gammel var du første gang du drak mindst ...   \n",
       "002ee26a0c38a1f77b7cdeab8046cd  Hvor gammel var du første gang du drak mindst ...   \n",
       "0037c93a19a7e90580086b462ba11b  Hvor gammel var du første gang du drak mindst ...   \n",
       "005b1e0298bde6b726156aefb8d88c  Hvor gammel var du første gang du drak mindst ...   \n",
       "00ad591e46eb6f3d8c474d9de9e219  Hvor gammel var du første gang du drak mindst ...   \n",
       "\n",
       "                               alcohol_debut__response  \\\n",
       "0010fedde8e61cad5b049da6df8b5a                      15   \n",
       "002ee26a0c38a1f77b7cdeab8046cd                      14   \n",
       "0037c93a19a7e90580086b462ba11b                      15   \n",
       "005b1e0298bde6b726156aefb8d88c                      14   \n",
       "00ad591e46eb6f3d8c474d9de9e219                      16   \n",
       "\n",
       "                                alcohol_debut__condition  \n",
       "0010fedde8e61cad5b049da6df8b5a                     False  \n",
       "002ee26a0c38a1f77b7cdeab8046cd                     False  \n",
       "0037c93a19a7e90580086b462ba11b                     False  \n",
       "005b1e0298bde6b726156aefb8d88c                     False  \n",
       "00ad591e46eb6f3d8c474d9de9e219                     False  "
      ]
     },
     "execution_count": 25,
     "metadata": {},
     "output_type": "execute_result"
    }
   ],
   "source": [
    "df_number_radio = df.filter(like=tmplabel)\n",
    "df_number_radio.head() "
   ]
  },
  {
   "cell_type": "code",
   "execution_count": 26,
   "metadata": {},
   "outputs": [
    {
     "name": "stdout",
     "output_type": "stream",
     "text": [
      "0.0     34\n",
      "1.0    906\n",
      "Name: alcohol_debut__answer, dtype: int64\n",
      "\n",
      "\n",
      "number;radio    940\n",
      "Name: alcohol_debut__answer_type, dtype: int64\n",
      "\n",
      "\n",
      "Hvor gammel var du første gang du drak mindst en genstand?    940\n",
      "Name: alcohol_debut__question, dtype: int64\n",
      "\n",
      "\n",
      "10                                 13\n",
      "11                                  9\n",
      "12                                 43\n",
      "13                                151\n",
      "14                                219\n",
      "15                                272\n",
      "16                                121\n",
      "17                                 30\n",
      "18                                 18\n",
      "19                                  7\n",
      "20                                  2\n",
      "21                                  1\n",
      "22                                  1\n",
      "29                                  1\n",
      "5                                   8\n",
      "6                                   1\n",
      "7                                   1\n",
      "8                                   5\n",
      "9                                   3\n",
      "jeg_har_aldrig_drukket_alkohol     34\n",
      "Name: alcohol_debut__response, dtype: int64\n",
      "\n",
      "\n",
      "False    940\n",
      "Name: alcohol_debut__condition, dtype: int64\n",
      "\n",
      "\n"
     ]
    }
   ],
   "source": [
    "for col in (df_number_radio[col] for col in df_number_radio.columns):\n",
    "    print(col.value_counts().sort_index(), end='\\n'*3)"
   ]
  },
  {
   "cell_type": "code",
   "execution_count": 27,
   "metadata": {},
   "outputs": [
    {
     "data": {
      "text/plain": [
       "alcohol_debut__answer    1.0\n",
       "dtype: float64"
      ]
     },
     "execution_count": 27,
     "metadata": {},
     "output_type": "execute_result"
    }
   ],
   "source": [
    "df_number_radio.filter(regex='_answer$').notnull().sum() / df_number_radio.shape[0]"
   ]
  },
  {
   "cell_type": "markdown",
   "metadata": {},
   "source": [
    "The `number;radio` type seems to a radio-button with numbers on a numerical scale. There's only a few nulls.\n",
    "\n",
    "#### Examening the `number` answer type"
   ]
  },
  {
   "cell_type": "code",
   "execution_count": 28,
   "metadata": {},
   "outputs": [
    {
     "data": {
      "text/plain": [
       "alcohol_volume_sunday__answer_type       number\n",
       "alcohol_volume_thursday__answer_type     number\n",
       "alcohol_volume_saturday__answer_type     number\n",
       "alcohol_volume_monday__answer_type       number\n",
       "alcohol_volume_tuesday__answer_type      number\n",
       "weight__answer_type                      number\n",
       "alcohol_volume_wednesday__answer_type    number\n",
       "smoke_volume_cerut__answer_type          number\n",
       "function_activity__answer_type           number\n",
       "height__answer_type                      number\n",
       "birthyear__answer_type                   number\n",
       "smoke_volume_cigar__answer_type          number\n",
       "smoke_volume_pibe__answer_type           number\n",
       "alcohol_volume_friday__answer_type       number\n",
       "smoke_volume_cigarette__answer_type      number\n",
       "know_other_number__answer_type           number\n",
       "Name: 0010fedde8e61cad5b049da6df8b5a, dtype: object"
      ]
     },
     "execution_count": 28,
     "metadata": {},
     "output_type": "execute_result"
    }
   ],
   "source": [
    "tmprow.where(tmprow == 'number').dropna() "
   ]
  },
  {
   "cell_type": "code",
   "execution_count": 29,
   "metadata": {},
   "outputs": [
    {
     "data": {
      "text/plain": [
       "Index(['alcohol_volume_sunday', 'alcohol_volume_thursday',\n",
       "       'alcohol_volume_saturday', 'alcohol_volume_monday',\n",
       "       'alcohol_volume_tuesday', 'weight', 'alcohol_volume_wednesday',\n",
       "       'smoke_volume_cerut', 'function_activity', 'height', 'birthyear',\n",
       "       'smoke_volume_cigar', 'smoke_volume_pibe', 'alcohol_volume_friday',\n",
       "       'smoke_volume_cigarette', 'know_other_number'],\n",
       "      dtype='object')"
      ]
     },
     "execution_count": 29,
     "metadata": {},
     "output_type": "execute_result"
    }
   ],
   "source": [
    "tmplabel = tmprow.where(tmprow == 'number').dropna().index.str.replace('__answer_type', '')\n",
    "tmplabel"
   ]
  },
  {
   "cell_type": "code",
   "execution_count": 30,
   "metadata": {},
   "outputs": [
    {
     "data": {
      "text/html": [
       "<div>\n",
       "<style scoped>\n",
       "    .dataframe tbody tr th:only-of-type {\n",
       "        vertical-align: middle;\n",
       "    }\n",
       "\n",
       "    .dataframe tbody tr th {\n",
       "        vertical-align: top;\n",
       "    }\n",
       "\n",
       "    .dataframe thead th {\n",
       "        text-align: right;\n",
       "    }\n",
       "</style>\n",
       "<table border=\"1\" class=\"dataframe\">\n",
       "  <thead>\n",
       "    <tr style=\"text-align: right;\">\n",
       "      <th></th>\n",
       "      <th>alcohol_volume_sunday__answer</th>\n",
       "      <th>alcohol_volume_sunday__answer_type</th>\n",
       "      <th>alcohol_volume_sunday__question</th>\n",
       "      <th>alcohol_volume_sunday__response</th>\n",
       "      <th>alcohol_volume_sunday__condition</th>\n",
       "      <th>alcohol_volume_thursday__answer</th>\n",
       "      <th>alcohol_volume_thursday__answer_type</th>\n",
       "      <th>alcohol_volume_thursday__question</th>\n",
       "      <th>alcohol_volume_thursday__response</th>\n",
       "      <th>alcohol_volume_thursday__condition</th>\n",
       "      <th>...</th>\n",
       "      <th>smoke_volume_cigarette__answer</th>\n",
       "      <th>smoke_volume_cigarette__answer_type</th>\n",
       "      <th>smoke_volume_cigarette__question</th>\n",
       "      <th>smoke_volume_cigarette__response</th>\n",
       "      <th>smoke_volume_cigarette__condition</th>\n",
       "      <th>know_other_number__answer</th>\n",
       "      <th>know_other_number__answer_type</th>\n",
       "      <th>know_other_number__question</th>\n",
       "      <th>know_other_number__response</th>\n",
       "      <th>know_other_number__condition</th>\n",
       "    </tr>\n",
       "  </thead>\n",
       "  <tbody>\n",
       "    <tr>\n",
       "      <th>0010fedde8e61cad5b049da6df8b5a</th>\n",
       "      <td>0.0</td>\n",
       "      <td>number</td>\n",
       "      <td></td>\n",
       "      <td>0.0</td>\n",
       "      <td>False</td>\n",
       "      <td>0.0</td>\n",
       "      <td>number</td>\n",
       "      <td></td>\n",
       "      <td>0.0</td>\n",
       "      <td>False</td>\n",
       "      <td>...</td>\n",
       "      <td>NaN</td>\n",
       "      <td>number</td>\n",
       "      <td></td>\n",
       "      <td>NaN</td>\n",
       "      <td>smoke_freq=='Ja, dagligt'</td>\n",
       "      <td>15.0</td>\n",
       "      <td>number</td>\n",
       "      <td>Hvor mange?</td>\n",
       "      <td>15.0</td>\n",
       "      <td>know_other=='ja'</td>\n",
       "    </tr>\n",
       "    <tr>\n",
       "      <th>002ee26a0c38a1f77b7cdeab8046cd</th>\n",
       "      <td>0.0</td>\n",
       "      <td>number</td>\n",
       "      <td></td>\n",
       "      <td>0.0</td>\n",
       "      <td>False</td>\n",
       "      <td>0.0</td>\n",
       "      <td>number</td>\n",
       "      <td></td>\n",
       "      <td>0.0</td>\n",
       "      <td>False</td>\n",
       "      <td>...</td>\n",
       "      <td>20.0</td>\n",
       "      <td>number</td>\n",
       "      <td></td>\n",
       "      <td>20.0</td>\n",
       "      <td>smoke_freq=='Ja, dagligt'</td>\n",
       "      <td>NaN</td>\n",
       "      <td>number</td>\n",
       "      <td>Hvor mange?</td>\n",
       "      <td>NaN</td>\n",
       "      <td>know_other=='ja'</td>\n",
       "    </tr>\n",
       "    <tr>\n",
       "      <th>0037c93a19a7e90580086b462ba11b</th>\n",
       "      <td>0.0</td>\n",
       "      <td>number</td>\n",
       "      <td></td>\n",
       "      <td>0.0</td>\n",
       "      <td>False</td>\n",
       "      <td>0.0</td>\n",
       "      <td>number</td>\n",
       "      <td></td>\n",
       "      <td>0.0</td>\n",
       "      <td>False</td>\n",
       "      <td>...</td>\n",
       "      <td>NaN</td>\n",
       "      <td>number</td>\n",
       "      <td></td>\n",
       "      <td>NaN</td>\n",
       "      <td>smoke_freq=='Ja, dagligt'</td>\n",
       "      <td>2.0</td>\n",
       "      <td>number</td>\n",
       "      <td>Hvor mange?</td>\n",
       "      <td>2.0</td>\n",
       "      <td>know_other=='ja'</td>\n",
       "    </tr>\n",
       "    <tr>\n",
       "      <th>005b1e0298bde6b726156aefb8d88c</th>\n",
       "      <td>1.0</td>\n",
       "      <td>number</td>\n",
       "      <td></td>\n",
       "      <td>1.0</td>\n",
       "      <td>False</td>\n",
       "      <td>0.0</td>\n",
       "      <td>number</td>\n",
       "      <td></td>\n",
       "      <td>0.0</td>\n",
       "      <td>False</td>\n",
       "      <td>...</td>\n",
       "      <td>NaN</td>\n",
       "      <td>number</td>\n",
       "      <td></td>\n",
       "      <td>NaN</td>\n",
       "      <td>smoke_freq=='Ja, dagligt'</td>\n",
       "      <td>10.0</td>\n",
       "      <td>number</td>\n",
       "      <td>Hvor mange?</td>\n",
       "      <td>10.0</td>\n",
       "      <td>know_other=='ja'</td>\n",
       "    </tr>\n",
       "    <tr>\n",
       "      <th>00ad591e46eb6f3d8c474d9de9e219</th>\n",
       "      <td>0.0</td>\n",
       "      <td>number</td>\n",
       "      <td></td>\n",
       "      <td>0.0</td>\n",
       "      <td>False</td>\n",
       "      <td>0.0</td>\n",
       "      <td>number</td>\n",
       "      <td></td>\n",
       "      <td>0.0</td>\n",
       "      <td>False</td>\n",
       "      <td>...</td>\n",
       "      <td>NaN</td>\n",
       "      <td>number</td>\n",
       "      <td></td>\n",
       "      <td>NaN</td>\n",
       "      <td>smoke_freq=='Ja, dagligt'</td>\n",
       "      <td>NaN</td>\n",
       "      <td>number</td>\n",
       "      <td>Hvor mange?</td>\n",
       "      <td>NaN</td>\n",
       "      <td>know_other=='ja'</td>\n",
       "    </tr>\n",
       "  </tbody>\n",
       "</table>\n",
       "<p>5 rows × 80 columns</p>\n",
       "</div>"
      ],
      "text/plain": [
       "                                alcohol_volume_sunday__answer  \\\n",
       "0010fedde8e61cad5b049da6df8b5a                            0.0   \n",
       "002ee26a0c38a1f77b7cdeab8046cd                            0.0   \n",
       "0037c93a19a7e90580086b462ba11b                            0.0   \n",
       "005b1e0298bde6b726156aefb8d88c                            1.0   \n",
       "00ad591e46eb6f3d8c474d9de9e219                            0.0   \n",
       "\n",
       "                               alcohol_volume_sunday__answer_type  \\\n",
       "0010fedde8e61cad5b049da6df8b5a                             number   \n",
       "002ee26a0c38a1f77b7cdeab8046cd                             number   \n",
       "0037c93a19a7e90580086b462ba11b                             number   \n",
       "005b1e0298bde6b726156aefb8d88c                             number   \n",
       "00ad591e46eb6f3d8c474d9de9e219                             number   \n",
       "\n",
       "                               alcohol_volume_sunday__question  \\\n",
       "0010fedde8e61cad5b049da6df8b5a                                   \n",
       "002ee26a0c38a1f77b7cdeab8046cd                                   \n",
       "0037c93a19a7e90580086b462ba11b                                   \n",
       "005b1e0298bde6b726156aefb8d88c                                   \n",
       "00ad591e46eb6f3d8c474d9de9e219                                   \n",
       "\n",
       "                                alcohol_volume_sunday__response  \\\n",
       "0010fedde8e61cad5b049da6df8b5a                              0.0   \n",
       "002ee26a0c38a1f77b7cdeab8046cd                              0.0   \n",
       "0037c93a19a7e90580086b462ba11b                              0.0   \n",
       "005b1e0298bde6b726156aefb8d88c                              1.0   \n",
       "00ad591e46eb6f3d8c474d9de9e219                              0.0   \n",
       "\n",
       "                                alcohol_volume_sunday__condition  \\\n",
       "0010fedde8e61cad5b049da6df8b5a                             False   \n",
       "002ee26a0c38a1f77b7cdeab8046cd                             False   \n",
       "0037c93a19a7e90580086b462ba11b                             False   \n",
       "005b1e0298bde6b726156aefb8d88c                             False   \n",
       "00ad591e46eb6f3d8c474d9de9e219                             False   \n",
       "\n",
       "                                alcohol_volume_thursday__answer  \\\n",
       "0010fedde8e61cad5b049da6df8b5a                              0.0   \n",
       "002ee26a0c38a1f77b7cdeab8046cd                              0.0   \n",
       "0037c93a19a7e90580086b462ba11b                              0.0   \n",
       "005b1e0298bde6b726156aefb8d88c                              0.0   \n",
       "00ad591e46eb6f3d8c474d9de9e219                              0.0   \n",
       "\n",
       "                               alcohol_volume_thursday__answer_type  \\\n",
       "0010fedde8e61cad5b049da6df8b5a                               number   \n",
       "002ee26a0c38a1f77b7cdeab8046cd                               number   \n",
       "0037c93a19a7e90580086b462ba11b                               number   \n",
       "005b1e0298bde6b726156aefb8d88c                               number   \n",
       "00ad591e46eb6f3d8c474d9de9e219                               number   \n",
       "\n",
       "                               alcohol_volume_thursday__question  \\\n",
       "0010fedde8e61cad5b049da6df8b5a                                     \n",
       "002ee26a0c38a1f77b7cdeab8046cd                                     \n",
       "0037c93a19a7e90580086b462ba11b                                     \n",
       "005b1e0298bde6b726156aefb8d88c                                     \n",
       "00ad591e46eb6f3d8c474d9de9e219                                     \n",
       "\n",
       "                                alcohol_volume_thursday__response  \\\n",
       "0010fedde8e61cad5b049da6df8b5a                                0.0   \n",
       "002ee26a0c38a1f77b7cdeab8046cd                                0.0   \n",
       "0037c93a19a7e90580086b462ba11b                                0.0   \n",
       "005b1e0298bde6b726156aefb8d88c                                0.0   \n",
       "00ad591e46eb6f3d8c474d9de9e219                                0.0   \n",
       "\n",
       "                                alcohol_volume_thursday__condition  \\\n",
       "0010fedde8e61cad5b049da6df8b5a                               False   \n",
       "002ee26a0c38a1f77b7cdeab8046cd                               False   \n",
       "0037c93a19a7e90580086b462ba11b                               False   \n",
       "005b1e0298bde6b726156aefb8d88c                               False   \n",
       "00ad591e46eb6f3d8c474d9de9e219                               False   \n",
       "\n",
       "                                            ...               \\\n",
       "0010fedde8e61cad5b049da6df8b5a              ...                \n",
       "002ee26a0c38a1f77b7cdeab8046cd              ...                \n",
       "0037c93a19a7e90580086b462ba11b              ...                \n",
       "005b1e0298bde6b726156aefb8d88c              ...                \n",
       "00ad591e46eb6f3d8c474d9de9e219              ...                \n",
       "\n",
       "                                smoke_volume_cigarette__answer  \\\n",
       "0010fedde8e61cad5b049da6df8b5a                             NaN   \n",
       "002ee26a0c38a1f77b7cdeab8046cd                            20.0   \n",
       "0037c93a19a7e90580086b462ba11b                             NaN   \n",
       "005b1e0298bde6b726156aefb8d88c                             NaN   \n",
       "00ad591e46eb6f3d8c474d9de9e219                             NaN   \n",
       "\n",
       "                               smoke_volume_cigarette__answer_type  \\\n",
       "0010fedde8e61cad5b049da6df8b5a                              number   \n",
       "002ee26a0c38a1f77b7cdeab8046cd                              number   \n",
       "0037c93a19a7e90580086b462ba11b                              number   \n",
       "005b1e0298bde6b726156aefb8d88c                              number   \n",
       "00ad591e46eb6f3d8c474d9de9e219                              number   \n",
       "\n",
       "                               smoke_volume_cigarette__question  \\\n",
       "0010fedde8e61cad5b049da6df8b5a                                    \n",
       "002ee26a0c38a1f77b7cdeab8046cd                                    \n",
       "0037c93a19a7e90580086b462ba11b                                    \n",
       "005b1e0298bde6b726156aefb8d88c                                    \n",
       "00ad591e46eb6f3d8c474d9de9e219                                    \n",
       "\n",
       "                               smoke_volume_cigarette__response  \\\n",
       "0010fedde8e61cad5b049da6df8b5a                              NaN   \n",
       "002ee26a0c38a1f77b7cdeab8046cd                             20.0   \n",
       "0037c93a19a7e90580086b462ba11b                              NaN   \n",
       "005b1e0298bde6b726156aefb8d88c                              NaN   \n",
       "00ad591e46eb6f3d8c474d9de9e219                              NaN   \n",
       "\n",
       "                                smoke_volume_cigarette__condition  \\\n",
       "0010fedde8e61cad5b049da6df8b5a          smoke_freq=='Ja, dagligt'   \n",
       "002ee26a0c38a1f77b7cdeab8046cd          smoke_freq=='Ja, dagligt'   \n",
       "0037c93a19a7e90580086b462ba11b          smoke_freq=='Ja, dagligt'   \n",
       "005b1e0298bde6b726156aefb8d88c          smoke_freq=='Ja, dagligt'   \n",
       "00ad591e46eb6f3d8c474d9de9e219          smoke_freq=='Ja, dagligt'   \n",
       "\n",
       "                                know_other_number__answer  \\\n",
       "0010fedde8e61cad5b049da6df8b5a                       15.0   \n",
       "002ee26a0c38a1f77b7cdeab8046cd                        NaN   \n",
       "0037c93a19a7e90580086b462ba11b                        2.0   \n",
       "005b1e0298bde6b726156aefb8d88c                       10.0   \n",
       "00ad591e46eb6f3d8c474d9de9e219                        NaN   \n",
       "\n",
       "                               know_other_number__answer_type  \\\n",
       "0010fedde8e61cad5b049da6df8b5a                         number   \n",
       "002ee26a0c38a1f77b7cdeab8046cd                         number   \n",
       "0037c93a19a7e90580086b462ba11b                         number   \n",
       "005b1e0298bde6b726156aefb8d88c                         number   \n",
       "00ad591e46eb6f3d8c474d9de9e219                         number   \n",
       "\n",
       "                               know_other_number__question  \\\n",
       "0010fedde8e61cad5b049da6df8b5a                 Hvor mange?   \n",
       "002ee26a0c38a1f77b7cdeab8046cd                 Hvor mange?   \n",
       "0037c93a19a7e90580086b462ba11b                 Hvor mange?   \n",
       "005b1e0298bde6b726156aefb8d88c                 Hvor mange?   \n",
       "00ad591e46eb6f3d8c474d9de9e219                 Hvor mange?   \n",
       "\n",
       "                                know_other_number__response  \\\n",
       "0010fedde8e61cad5b049da6df8b5a                         15.0   \n",
       "002ee26a0c38a1f77b7cdeab8046cd                          NaN   \n",
       "0037c93a19a7e90580086b462ba11b                          2.0   \n",
       "005b1e0298bde6b726156aefb8d88c                         10.0   \n",
       "00ad591e46eb6f3d8c474d9de9e219                          NaN   \n",
       "\n",
       "                                know_other_number__condition  \n",
       "0010fedde8e61cad5b049da6df8b5a              know_other=='ja'  \n",
       "002ee26a0c38a1f77b7cdeab8046cd              know_other=='ja'  \n",
       "0037c93a19a7e90580086b462ba11b              know_other=='ja'  \n",
       "005b1e0298bde6b726156aefb8d88c              know_other=='ja'  \n",
       "00ad591e46eb6f3d8c474d9de9e219              know_other=='ja'  \n",
       "\n",
       "[5 rows x 80 columns]"
      ]
     },
     "execution_count": 30,
     "metadata": {},
     "output_type": "execute_result"
    }
   ],
   "source": [
    "df_number = df.filter(regex='|'.join(tmplabel))\n",
    "\n",
    "df_number.head()"
   ]
  },
  {
   "cell_type": "markdown",
   "metadata": {},
   "source": [
    "There's a lot of dimmensions in the count, so the plot are useful for showing the values are centered around a few variables for most answers."
   ]
  },
  {
   "cell_type": "code",
   "execution_count": 31,
   "metadata": {},
   "outputs": [],
   "source": [
    "tmp = df_number.filter(regex='__answer$').apply(pd.value_counts)"
   ]
  },
  {
   "cell_type": "code",
   "execution_count": 32,
   "metadata": {},
   "outputs": [
    {
     "data": {
      "text/plain": [
       "(151, 16)"
      ]
     },
     "execution_count": 32,
     "metadata": {},
     "output_type": "execute_result"
    }
   ],
   "source": [
    "tmp.shape"
   ]
  },
  {
   "cell_type": "code",
   "execution_count": 33,
   "metadata": {},
   "outputs": [
    {
     "data": {
      "text/plain": [
       "(151, 16)"
      ]
     },
     "execution_count": 33,
     "metadata": {},
     "output_type": "execute_result"
    }
   ],
   "source": [
    "tmp.shape"
   ]
  },
  {
   "cell_type": "code",
   "execution_count": 34,
   "metadata": {},
   "outputs": [
    {
     "name": "stderr",
     "output_type": "stream",
     "text": [
      "/lscr_paper/allan/miniconda3/envs/py36up/lib/python3.6/site-packages/matplotlib/colors.py:1012: RuntimeWarning: invalid value encountered in less_equal\n",
      "  mask |= resdat <= 0\n",
      "/lscr_paper/allan/miniconda3/envs/py36up/lib/python3.6/site-packages/matplotlib/colors.py:1012: RuntimeWarning: invalid value encountered in less_equal\n",
      "  mask |= resdat <= 0\n"
     ]
    },
    {
     "data": {
      "image/png": "[encoded data removed]",
      "text/plain": [
       "<matplotlib.figure.Figure at 0x7fd58da3b278>"
      ]
     },
     "metadata": {},
     "output_type": "display_data"
    }
   ],
   "source": [
    "fig, ax = plt.subplots(figsize=(10, 6))\n",
    "tmp_ser = df_number.filter(regex='__answer$').apply(pd.value_counts)  # .fillna(0.000001)\n",
    "tmp = tmp_ser.values\n",
    "norm = mpl.colors.LogNorm(vmin=tmp_ser.min().min(), vmax=tmp_ser.max().max())\n",
    "pc = ax.pcolorfast(tmp.T, cmap='YlGnBu', norm=norm)\n",
    "plt.colorbar(pc)\n",
    "ax.set_ylabel(\"Questions\")\n",
    "ax.set_xlabel(\"Histogram bins\")\n",
    "ax.set_yticks(np.arange(0, tmp.shape[1]))\n",
    "ax.set_yticklabels(tmp_ser.columns.str.replace('__answer', '').str.title().str.replace('_', ' ').tolist(),\n",
    "                   va='bottom')\n",
    "plt.tight_layout() \n",
    "ax.figure.savefig(fig_path + 'number_answer_columns_sparse_value_counts_heatmap.pdf')"
   ]
  },
  {
   "cell_type": "code",
   "execution_count": 35,
   "metadata": {},
   "outputs": [
    {
     "data": {
      "image/png": "[encoded data removed]",
      "text/plain": [
       "<matplotlib.figure.Figure at 0x7fd5991723c8>"
      ]
     },
     "metadata": {},
     "output_type": "display_data"
    }
   ],
   "source": [
    "fig, (ax0, ax1) = plotting.boxplot_dataframe_answer_columns(df_number, ha='center', xlabelrotation=90,\n",
    "                                                            matplotlib_args={'alpha': 0.35, 'color': colorcycle[0]})\n"
   ]
  },
  {
   "cell_type": "code",
   "execution_count": 36,
   "metadata": {},
   "outputs": [
    {
     "data": {
      "image/png": "[encoded data removed]",
      "text/plain": [
       "<matplotlib.figure.Figure at 0x7fd58f50f240>"
      ]
     },
     "metadata": {},
     "output_type": "display_data"
    },
    {
     "data": {
      "image/png": "[encoded data removed]",
      "text/plain": [
       "<matplotlib.figure.Figure at 0x7fd58f893710>"
      ]
     },
     "metadata": {},
     "output_type": "display_data"
    }
   ],
   "source": [
    "col_order = ['alcohol_volume_monday__answer', 'alcohol_volume_tuesday__answer', 'alcohol_volume_wednesday__answer',\n",
    "'alcohol_volume_thursday__answer', 'alcohol_volume_friday__answer', 'alcohol_volume_saturday__answer',\n",
    "'alcohol_volume_sunday__answer', 'smoke_volume_cerut__answer', 'smoke_volume_cigar__answer',\n",
    "'smoke_volume_cigarette__answer', 'smoke_volume_pibe__answer', 'function_activity__answer', 'know_other_number__answer',\n",
    "'height__answer', 'weight__answer', 'birthyear__answer']\n",
    "\n",
    "(fig0, ax0), (fig1, ax1) = plotting.boxplot_dataframe_answer_columns(df_number[col_order], ha='center',\n",
    "                                                            matplotlib_args={'alpha': 0.35, 'color': colorcycle[0]},\n",
    "                                                            subplot=False, xlabelrotation=90); \n",
    "plt.tight_layout() \n",
    "fig0.set_figheight(2.5)\n",
    "fig0.set_figwidth(6)\n",
    "fig0.savefig(fig_path + 'number_answer_columns_box_plot_linear.pdf')\n",
    "\n",
    "plt.tight_layout() \n",
    "fig1.set_figheight(4)\n",
    "fig1.set_figwidth(6)\n",
    "fig1.savefig(fig_path + 'number_answer_columns_box_plot_log.pdf') "
   ]
  },
  {
   "cell_type": "code",
   "execution_count": 39,
   "metadata": {},
   "outputs": [
    {
     "data": {
      "image/png": "[encoded data removed]",
      "text/plain": [
       "<matplotlib.figure.Figure at 0x7fd597e80be0>"
      ]
     },
     "metadata": {},
     "output_type": "display_data"
    }
   ],
   "source": [
    "fig, ax = plt.subplots(figsize=(6, 5))\n",
    "plotdata = df_number[col_order].filter(regex='_answer$')\n",
    "ax = (plotdata.notnull().mean()).plot.bar(color=colorcycle[0])\n",
    "ax.set_xticklabels([col.replace('__answer', '').replace('_', ' ').title() for col in plotdata.columns]);\n",
    "# ax.set_title(\"Fraction of not-NaN's\")\n",
    "plt.tight_layout()\n",
    "ax.figure.savefig(fig_path + 'number_answers_column_notnull_fration_bar_chart.pdf') "
   ]
  },
  {
   "cell_type": "markdown",
   "metadata": {},
   "source": [
    "It seems like the wast majority of numbers are clustered together — outlier removal may be desireable to achieve generalizable results.\n",
    "\n",
    "A few categories have a lot of null, values and should be removed."
   ]
  },
  {
   "cell_type": "markdown",
   "metadata": {},
   "source": [
    "### Examine `radio` answer types"
   ]
  },
  {
   "cell_type": "code",
   "execution_count": 40,
   "metadata": {},
   "outputs": [
    {
     "data": {
      "text/plain": [
       "function_duties__answer_type         radio\n",
       "narcissism_opponents__answer_type    radio\n",
       "locus_of_control_13__answer_type     radio\n",
       "locus_of_control_12__answer_type     radio\n",
       "self_efficacy_motto__answer_type     radio\n",
       "Name: 0010fedde8e61cad5b049da6df8b5a, dtype: object"
      ]
     },
     "execution_count": 40,
     "metadata": {},
     "output_type": "execute_result"
    }
   ],
   "source": [
    "tmprow.where(tmprow == 'radio').dropna().head() "
   ]
  },
  {
   "cell_type": "code",
   "execution_count": 41,
   "metadata": {},
   "outputs": [
    {
     "data": {
      "text/html": [
       "<div>\n",
       "<style scoped>\n",
       "    .dataframe tbody tr th:only-of-type {\n",
       "        vertical-align: middle;\n",
       "    }\n",
       "\n",
       "    .dataframe tbody tr th {\n",
       "        vertical-align: top;\n",
       "    }\n",
       "\n",
       "    .dataframe thead th {\n",
       "        text-align: right;\n",
       "    }\n",
       "</style>\n",
       "<table border=\"1\" class=\"dataframe\">\n",
       "  <thead>\n",
       "    <tr style=\"text-align: right;\">\n",
       "      <th></th>\n",
       "      <th>function_duties__answer</th>\n",
       "      <th>function_duties__answer_type</th>\n",
       "      <th>function_duties__question</th>\n",
       "      <th>function_duties__response</th>\n",
       "      <th>function_duties__condition</th>\n",
       "      <th>narcissism_opponents__answer</th>\n",
       "      <th>narcissism_opponents__answer_type</th>\n",
       "      <th>narcissism_opponents__question</th>\n",
       "      <th>narcissism_opponents__response</th>\n",
       "      <th>narcissism_opponents__condition</th>\n",
       "      <th>...</th>\n",
       "      <th>selfesteem_proud__answer</th>\n",
       "      <th>selfesteem_proud__answer_type</th>\n",
       "      <th>selfesteem_proud__question</th>\n",
       "      <th>selfesteem_proud__response</th>\n",
       "      <th>selfesteem_proud__condition</th>\n",
       "      <th>narcissism_excellent__answer</th>\n",
       "      <th>narcissism_excellent__answer_type</th>\n",
       "      <th>narcissism_excellent__question</th>\n",
       "      <th>narcissism_excellent__response</th>\n",
       "      <th>narcissism_excellent__condition</th>\n",
       "    </tr>\n",
       "  </thead>\n",
       "  <tbody>\n",
       "    <tr>\n",
       "      <th>0010fedde8e61cad5b049da6df8b5a</th>\n",
       "      <td>0.0</td>\n",
       "      <td>radio</td>\n",
       "      <td>At varetage dine praktiske pligter i hjemmet?</td>\n",
       "      <td>Slet ikke</td>\n",
       "      <td>False</td>\n",
       "      <td>1.0</td>\n",
       "      <td>radio</td>\n",
       "      <td>Jeg nyder for mig selv, når mine modstandere m...</td>\n",
       "      <td>2</td>\n",
       "      <td>False</td>\n",
       "      <td>...</td>\n",
       "      <td>2.0</td>\n",
       "      <td>radio</td>\n",
       "      <td>Jeg føler at jeg ikke har meget at være stolt af</td>\n",
       "      <td>Uenig</td>\n",
       "      <td>False</td>\n",
       "      <td>3.0</td>\n",
       "      <td>radio</td>\n",
       "      <td>Jeg formår at være midtpunkt for opmærksomhed ...</td>\n",
       "      <td>4</td>\n",
       "      <td>False</td>\n",
       "    </tr>\n",
       "    <tr>\n",
       "      <th>002ee26a0c38a1f77b7cdeab8046cd</th>\n",
       "      <td>1.0</td>\n",
       "      <td>radio</td>\n",
       "      <td>At varetage dine praktiske pligter i hjemmet?</td>\n",
       "      <td>Lidt</td>\n",
       "      <td>False</td>\n",
       "      <td>2.0</td>\n",
       "      <td>radio</td>\n",
       "      <td>Jeg nyder for mig selv, når mine modstandere m...</td>\n",
       "      <td>3</td>\n",
       "      <td>False</td>\n",
       "      <td>...</td>\n",
       "      <td>2.0</td>\n",
       "      <td>radio</td>\n",
       "      <td>Jeg føler at jeg ikke har meget at være stolt af</td>\n",
       "      <td>Uenig</td>\n",
       "      <td>False</td>\n",
       "      <td>2.0</td>\n",
       "      <td>radio</td>\n",
       "      <td>Jeg formår at være midtpunkt for opmærksomhed ...</td>\n",
       "      <td>3</td>\n",
       "      <td>False</td>\n",
       "    </tr>\n",
       "    <tr>\n",
       "      <th>0037c93a19a7e90580086b462ba11b</th>\n",
       "      <td>1.0</td>\n",
       "      <td>radio</td>\n",
       "      <td>At varetage dine praktiske pligter i hjemmet?</td>\n",
       "      <td>Lidt</td>\n",
       "      <td>False</td>\n",
       "      <td>1.0</td>\n",
       "      <td>radio</td>\n",
       "      <td>Jeg nyder for mig selv, når mine modstandere m...</td>\n",
       "      <td>2</td>\n",
       "      <td>False</td>\n",
       "      <td>...</td>\n",
       "      <td>1.0</td>\n",
       "      <td>radio</td>\n",
       "      <td>Jeg føler at jeg ikke har meget at være stolt af</td>\n",
       "      <td>Enig</td>\n",
       "      <td>False</td>\n",
       "      <td>1.0</td>\n",
       "      <td>radio</td>\n",
       "      <td>Jeg formår at være midtpunkt for opmærksomhed ...</td>\n",
       "      <td>2</td>\n",
       "      <td>False</td>\n",
       "    </tr>\n",
       "    <tr>\n",
       "      <th>005b1e0298bde6b726156aefb8d88c</th>\n",
       "      <td>1.0</td>\n",
       "      <td>radio</td>\n",
       "      <td>At varetage dine praktiske pligter i hjemmet?</td>\n",
       "      <td>Lidt</td>\n",
       "      <td>False</td>\n",
       "      <td>2.0</td>\n",
       "      <td>radio</td>\n",
       "      <td>Jeg nyder for mig selv, når mine modstandere m...</td>\n",
       "      <td>3</td>\n",
       "      <td>False</td>\n",
       "      <td>...</td>\n",
       "      <td>2.0</td>\n",
       "      <td>radio</td>\n",
       "      <td>Jeg føler at jeg ikke har meget at være stolt af</td>\n",
       "      <td>Uenig</td>\n",
       "      <td>False</td>\n",
       "      <td>1.0</td>\n",
       "      <td>radio</td>\n",
       "      <td>Jeg formår at være midtpunkt for opmærksomhed ...</td>\n",
       "      <td>2</td>\n",
       "      <td>False</td>\n",
       "    </tr>\n",
       "    <tr>\n",
       "      <th>00ad591e46eb6f3d8c474d9de9e219</th>\n",
       "      <td>1.0</td>\n",
       "      <td>radio</td>\n",
       "      <td>At varetage dine praktiske pligter i hjemmet?</td>\n",
       "      <td>Lidt</td>\n",
       "      <td>False</td>\n",
       "      <td>1.0</td>\n",
       "      <td>radio</td>\n",
       "      <td>Jeg nyder for mig selv, når mine modstandere m...</td>\n",
       "      <td>2</td>\n",
       "      <td>False</td>\n",
       "      <td>...</td>\n",
       "      <td>3.0</td>\n",
       "      <td>radio</td>\n",
       "      <td>Jeg føler at jeg ikke har meget at være stolt af</td>\n",
       "      <td>Stærkt uenig</td>\n",
       "      <td>False</td>\n",
       "      <td>0.0</td>\n",
       "      <td>radio</td>\n",
       "      <td>Jeg formår at være midtpunkt for opmærksomhed ...</td>\n",
       "      <td>Passer slet ikke 1</td>\n",
       "      <td>False</td>\n",
       "    </tr>\n",
       "  </tbody>\n",
       "</table>\n",
       "<p>5 rows × 1335 columns</p>\n",
       "</div>"
      ],
      "text/plain": [
       "                                function_duties__answer  \\\n",
       "0010fedde8e61cad5b049da6df8b5a                      0.0   \n",
       "002ee26a0c38a1f77b7cdeab8046cd                      1.0   \n",
       "0037c93a19a7e90580086b462ba11b                      1.0   \n",
       "005b1e0298bde6b726156aefb8d88c                      1.0   \n",
       "00ad591e46eb6f3d8c474d9de9e219                      1.0   \n",
       "\n",
       "                               function_duties__answer_type  \\\n",
       "0010fedde8e61cad5b049da6df8b5a                        radio   \n",
       "002ee26a0c38a1f77b7cdeab8046cd                        radio   \n",
       "0037c93a19a7e90580086b462ba11b                        radio   \n",
       "005b1e0298bde6b726156aefb8d88c                        radio   \n",
       "00ad591e46eb6f3d8c474d9de9e219                        radio   \n",
       "\n",
       "                                                    function_duties__question  \\\n",
       "0010fedde8e61cad5b049da6df8b5a  At varetage dine praktiske pligter i hjemmet?   \n",
       "002ee26a0c38a1f77b7cdeab8046cd  At varetage dine praktiske pligter i hjemmet?   \n",
       "0037c93a19a7e90580086b462ba11b  At varetage dine praktiske pligter i hjemmet?   \n",
       "005b1e0298bde6b726156aefb8d88c  At varetage dine praktiske pligter i hjemmet?   \n",
       "00ad591e46eb6f3d8c474d9de9e219  At varetage dine praktiske pligter i hjemmet?   \n",
       "\n",
       "                               function_duties__response  \\\n",
       "0010fedde8e61cad5b049da6df8b5a                 Slet ikke   \n",
       "002ee26a0c38a1f77b7cdeab8046cd                      Lidt   \n",
       "0037c93a19a7e90580086b462ba11b                      Lidt   \n",
       "005b1e0298bde6b726156aefb8d88c                      Lidt   \n",
       "00ad591e46eb6f3d8c474d9de9e219                      Lidt   \n",
       "\n",
       "                                function_duties__condition  \\\n",
       "0010fedde8e61cad5b049da6df8b5a                       False   \n",
       "002ee26a0c38a1f77b7cdeab8046cd                       False   \n",
       "0037c93a19a7e90580086b462ba11b                       False   \n",
       "005b1e0298bde6b726156aefb8d88c                       False   \n",
       "00ad591e46eb6f3d8c474d9de9e219                       False   \n",
       "\n",
       "                                narcissism_opponents__answer  \\\n",
       "0010fedde8e61cad5b049da6df8b5a                           1.0   \n",
       "002ee26a0c38a1f77b7cdeab8046cd                           2.0   \n",
       "0037c93a19a7e90580086b462ba11b                           1.0   \n",
       "005b1e0298bde6b726156aefb8d88c                           2.0   \n",
       "00ad591e46eb6f3d8c474d9de9e219                           1.0   \n",
       "\n",
       "                               narcissism_opponents__answer_type  \\\n",
       "0010fedde8e61cad5b049da6df8b5a                             radio   \n",
       "002ee26a0c38a1f77b7cdeab8046cd                             radio   \n",
       "0037c93a19a7e90580086b462ba11b                             radio   \n",
       "005b1e0298bde6b726156aefb8d88c                             radio   \n",
       "00ad591e46eb6f3d8c474d9de9e219                             radio   \n",
       "\n",
       "                                                   narcissism_opponents__question  \\\n",
       "0010fedde8e61cad5b049da6df8b5a  Jeg nyder for mig selv, når mine modstandere m...   \n",
       "002ee26a0c38a1f77b7cdeab8046cd  Jeg nyder for mig selv, når mine modstandere m...   \n",
       "0037c93a19a7e90580086b462ba11b  Jeg nyder for mig selv, når mine modstandere m...   \n",
       "005b1e0298bde6b726156aefb8d88c  Jeg nyder for mig selv, når mine modstandere m...   \n",
       "00ad591e46eb6f3d8c474d9de9e219  Jeg nyder for mig selv, når mine modstandere m...   \n",
       "\n",
       "                               narcissism_opponents__response  \\\n",
       "0010fedde8e61cad5b049da6df8b5a                              2   \n",
       "002ee26a0c38a1f77b7cdeab8046cd                              3   \n",
       "0037c93a19a7e90580086b462ba11b                              2   \n",
       "005b1e0298bde6b726156aefb8d88c                              3   \n",
       "00ad591e46eb6f3d8c474d9de9e219                              2   \n",
       "\n",
       "                                narcissism_opponents__condition  \\\n",
       "0010fedde8e61cad5b049da6df8b5a                            False   \n",
       "002ee26a0c38a1f77b7cdeab8046cd                            False   \n",
       "0037c93a19a7e90580086b462ba11b                            False   \n",
       "005b1e0298bde6b726156aefb8d88c                            False   \n",
       "00ad591e46eb6f3d8c474d9de9e219                            False   \n",
       "\n",
       "                                             ...                 \\\n",
       "0010fedde8e61cad5b049da6df8b5a               ...                  \n",
       "002ee26a0c38a1f77b7cdeab8046cd               ...                  \n",
       "0037c93a19a7e90580086b462ba11b               ...                  \n",
       "005b1e0298bde6b726156aefb8d88c               ...                  \n",
       "00ad591e46eb6f3d8c474d9de9e219               ...                  \n",
       "\n",
       "                                selfesteem_proud__answer  \\\n",
       "0010fedde8e61cad5b049da6df8b5a                       2.0   \n",
       "002ee26a0c38a1f77b7cdeab8046cd                       2.0   \n",
       "0037c93a19a7e90580086b462ba11b                       1.0   \n",
       "005b1e0298bde6b726156aefb8d88c                       2.0   \n",
       "00ad591e46eb6f3d8c474d9de9e219                       3.0   \n",
       "\n",
       "                               selfesteem_proud__answer_type  \\\n",
       "0010fedde8e61cad5b049da6df8b5a                         radio   \n",
       "002ee26a0c38a1f77b7cdeab8046cd                         radio   \n",
       "0037c93a19a7e90580086b462ba11b                         radio   \n",
       "005b1e0298bde6b726156aefb8d88c                         radio   \n",
       "00ad591e46eb6f3d8c474d9de9e219                         radio   \n",
       "\n",
       "                                                      selfesteem_proud__question  \\\n",
       "0010fedde8e61cad5b049da6df8b5a  Jeg føler at jeg ikke har meget at være stolt af   \n",
       "002ee26a0c38a1f77b7cdeab8046cd  Jeg føler at jeg ikke har meget at være stolt af   \n",
       "0037c93a19a7e90580086b462ba11b  Jeg føler at jeg ikke har meget at være stolt af   \n",
       "005b1e0298bde6b726156aefb8d88c  Jeg føler at jeg ikke har meget at være stolt af   \n",
       "00ad591e46eb6f3d8c474d9de9e219  Jeg føler at jeg ikke har meget at være stolt af   \n",
       "\n",
       "                               selfesteem_proud__response  \\\n",
       "0010fedde8e61cad5b049da6df8b5a                      Uenig   \n",
       "002ee26a0c38a1f77b7cdeab8046cd                      Uenig   \n",
       "0037c93a19a7e90580086b462ba11b                       Enig   \n",
       "005b1e0298bde6b726156aefb8d88c                      Uenig   \n",
       "00ad591e46eb6f3d8c474d9de9e219               Stærkt uenig   \n",
       "\n",
       "                                selfesteem_proud__condition  \\\n",
       "0010fedde8e61cad5b049da6df8b5a                        False   \n",
       "002ee26a0c38a1f77b7cdeab8046cd                        False   \n",
       "0037c93a19a7e90580086b462ba11b                        False   \n",
       "005b1e0298bde6b726156aefb8d88c                        False   \n",
       "00ad591e46eb6f3d8c474d9de9e219                        False   \n",
       "\n",
       "                                narcissism_excellent__answer  \\\n",
       "0010fedde8e61cad5b049da6df8b5a                           3.0   \n",
       "002ee26a0c38a1f77b7cdeab8046cd                           2.0   \n",
       "0037c93a19a7e90580086b462ba11b                           1.0   \n",
       "005b1e0298bde6b726156aefb8d88c                           1.0   \n",
       "00ad591e46eb6f3d8c474d9de9e219                           0.0   \n",
       "\n",
       "                               narcissism_excellent__answer_type  \\\n",
       "0010fedde8e61cad5b049da6df8b5a                             radio   \n",
       "002ee26a0c38a1f77b7cdeab8046cd                             radio   \n",
       "0037c93a19a7e90580086b462ba11b                             radio   \n",
       "005b1e0298bde6b726156aefb8d88c                             radio   \n",
       "00ad591e46eb6f3d8c474d9de9e219                             radio   \n",
       "\n",
       "                                                   narcissism_excellent__question  \\\n",
       "0010fedde8e61cad5b049da6df8b5a  Jeg formår at være midtpunkt for opmærksomhed ...   \n",
       "002ee26a0c38a1f77b7cdeab8046cd  Jeg formår at være midtpunkt for opmærksomhed ...   \n",
       "0037c93a19a7e90580086b462ba11b  Jeg formår at være midtpunkt for opmærksomhed ...   \n",
       "005b1e0298bde6b726156aefb8d88c  Jeg formår at være midtpunkt for opmærksomhed ...   \n",
       "00ad591e46eb6f3d8c474d9de9e219  Jeg formår at være midtpunkt for opmærksomhed ...   \n",
       "\n",
       "                               narcissism_excellent__response  \\\n",
       "0010fedde8e61cad5b049da6df8b5a                              4   \n",
       "002ee26a0c38a1f77b7cdeab8046cd                              3   \n",
       "0037c93a19a7e90580086b462ba11b                              2   \n",
       "005b1e0298bde6b726156aefb8d88c                              2   \n",
       "00ad591e46eb6f3d8c474d9de9e219             Passer slet ikke 1   \n",
       "\n",
       "                                narcissism_excellent__condition  \n",
       "0010fedde8e61cad5b049da6df8b5a                            False  \n",
       "002ee26a0c38a1f77b7cdeab8046cd                            False  \n",
       "0037c93a19a7e90580086b462ba11b                            False  \n",
       "005b1e0298bde6b726156aefb8d88c                            False  \n",
       "00ad591e46eb6f3d8c474d9de9e219                            False  \n",
       "\n",
       "[5 rows x 1335 columns]"
      ]
     },
     "execution_count": 41,
     "metadata": {},
     "output_type": "execute_result"
    }
   ],
   "source": [
    "tmplabel = tmprow.where(tmprow == 'radio').dropna().index.str.replace('__answer_type', '')\n",
    "df_radio = df.filter(regex='|'.join(tmplabel)) \n",
    "df_radio.head() "
   ]
  },
  {
   "cell_type": "code",
   "execution_count": 42,
   "metadata": {},
   "outputs": [
    {
     "data": {
      "image/png": "[encoded data removed]",
      "text/plain": [
       "<matplotlib.figure.Figure at 0x7fd58f0c9320>"
      ]
     },
     "metadata": {},
     "output_type": "display_data"
    }
   ],
   "source": [
    "fig, ax = plt.subplots(figsize=(17, 7))\n",
    "tmp = df_radio.filter(regex='__answer$').apply(pd.value_counts)\n",
    "sns.heatmap(tmp.T, xticklabels=False, yticklabels=False, cmap='YlGnBu', ax=ax)\n",
    "ax.grid(which='major', axis='both')\n",
    "xticks = np.linspace(tmp.index.min(), tmp.index.max(), 8) \n",
    "xticklabels = [\"{:.0f}\".format(fl) for fl in xticks]\n",
    "ax.set_xticks(xticks)\n",
    "ax.set_xticklabels(xticklabels)\n",
    "ax.set_xlabel('Entry value')\n",
    "plt.tight_layout() \n",
    "ax.figure.savefig(fig_path + 'radio_answer_columns_sparse_value_counts_heatmap.pdf')"
   ]
  },
  {
   "cell_type": "code",
   "execution_count": 43,
   "metadata": {},
   "outputs": [
    {
     "data": {
      "image/png": "[encoded data removed]",
      "text/plain": [
       "<matplotlib.figure.Figure at 0x7fd597d6d940>"
      ]
     },
     "metadata": {},
     "output_type": "display_data"
    },
    {
     "data": {
      "image/png": "[encoded data removed]",
      "text/plain": [
       "<matplotlib.figure.Figure at 0x7fd598202da0>"
      ]
     },
     "metadata": {},
     "output_type": "display_data"
    }
   ],
   "source": [
    "oldfigsize = mpl.rcParams['figure.figsize']\n",
    "mpl.rcParams['figure.figsize'] = [17, 6]\n",
    "(fig0, ax0), (fig1, ax1) = plotting.boxplot_dataframe_answer_columns(df_radio, subplot=False,\n",
    "                                                            matplotlib_args={'alpha': 0.35, 'color': colorcycle[0]}) \n",
    "ax0.set_xticklabels(list())\n",
    "ax1.set_xticklabels(list())\n",
    "ax0.set_xlabel('Answers with the response type radio')\n",
    "ax1.set_xlabel('Answers with the response type radio')\n",
    "plt.tight_layout()\n",
    "fig0.savefig(fig_path + 'radio_type_box_plot_linear.pdf')\n",
    "fig1.savefig(fig_path + 'radio_type_box_plot_log.pdf')\n",
    "\n",
    "mpl.rcParams['figure.figsize'] = oldfigsize"
   ]
  },
  {
   "cell_type": "code",
   "execution_count": 44,
   "metadata": {},
   "outputs": [
    {
     "data": {
      "text/plain": [
       "Text(0.5,1,\"Fraction of not-NaN's\")"
      ]
     },
     "execution_count": 44,
     "metadata": {},
     "output_type": "execute_result"
    },
    {
     "data": {
      "image/png": "[encoded data removed]",
      "text/plain": [
       "<matplotlib.figure.Figure at 0x7fd597c80748>"
      ]
     },
     "metadata": {},
     "output_type": "display_data"
    }
   ],
   "source": [
    "ax = (df_radio.filter(regex='_answer$').notnull().sum() / df_radio.shape[0]).plot.hist(bins=35)\n",
    "ax.set_title(\"Fraction of not-NaN's\") "
   ]
  },
  {
   "cell_type": "markdown",
   "metadata": {},
   "source": [
    "While 266 variables is definetly pushing the limit of the boxplot, we can though see that \n",
    "\n",
    "1. Most categories points seems to around or just below 200\n",
    "2. There's some variables whice are significant higher, but the low standard deviation suggests that they contains a lot of `NaN`'s\n",
    "3. A lot of categories have big outliers.\n",
    "\n",
    "And from the `NaN`-fraction plot we see that there's endeed some `NaN`'s in the data."
   ]
  },
  {
   "cell_type": "markdown",
   "metadata": {},
   "source": [
    "### Examening the `multi_number` answer type"
   ]
  },
  {
   "cell_type": "code",
   "execution_count": 45,
   "metadata": {},
   "outputs": [
    {
     "data": {
      "text/plain": [
       "sleep_time_wake__answer_type       multi_number\n",
       "sleep_time_falling__answer_type    multi_number\n",
       "Name: 0010fedde8e61cad5b049da6df8b5a, dtype: object"
      ]
     },
     "execution_count": 45,
     "metadata": {},
     "output_type": "execute_result"
    }
   ],
   "source": [
    "tmprow.where(tmprow == 'multi_number').dropna()\n"
   ]
  },
  {
   "cell_type": "code",
   "execution_count": 46,
   "metadata": {},
   "outputs": [
    {
     "data": {
      "text/plain": [
       "Index(['sleep_time_wake', 'sleep_time_falling'], dtype='object')"
      ]
     },
     "execution_count": 46,
     "metadata": {},
     "output_type": "execute_result"
    }
   ],
   "source": [
    "tmplabel = tmprow.where(tmprow == 'multi_number').dropna().index.str.replace('__answer_type', '')\n",
    "tmplabel"
   ]
  },
  {
   "cell_type": "code",
   "execution_count": 47,
   "metadata": {},
   "outputs": [
    {
     "data": {
      "text/html": [
       "<div>\n",
       "<style scoped>\n",
       "    .dataframe tbody tr th:only-of-type {\n",
       "        vertical-align: middle;\n",
       "    }\n",
       "\n",
       "    .dataframe tbody tr th {\n",
       "        vertical-align: top;\n",
       "    }\n",
       "\n",
       "    .dataframe thead th {\n",
       "        text-align: right;\n",
       "    }\n",
       "</style>\n",
       "<table border=\"1\" class=\"dataframe\">\n",
       "  <thead>\n",
       "    <tr style=\"text-align: right;\">\n",
       "      <th></th>\n",
       "      <th>sleep_time_wake__answer</th>\n",
       "      <th>sleep_time_wake__answer_type</th>\n",
       "      <th>sleep_time_wake__question</th>\n",
       "      <th>sleep_time_wake__response</th>\n",
       "      <th>sleep_time_wake__condition</th>\n",
       "      <th>sleep_time_falling__answer</th>\n",
       "      <th>sleep_time_falling__answer_type</th>\n",
       "      <th>sleep_time_falling__question</th>\n",
       "      <th>sleep_time_falling__response</th>\n",
       "      <th>sleep_time_falling__condition</th>\n",
       "    </tr>\n",
       "  </thead>\n",
       "  <tbody>\n",
       "    <tr>\n",
       "      <th>0010fedde8e61cad5b049da6df8b5a</th>\n",
       "      <td>7.5</td>\n",
       "      <td>multi_number</td>\n",
       "      <td>Hvornår vågner du normalt om morgenen på hverd...</td>\n",
       "      <td>07:30</td>\n",
       "      <td>False</td>\n",
       "      <td>24.75</td>\n",
       "      <td>multi_number</td>\n",
       "      <td>Hvornår sover du normalt på hverdage? (angiv v...</td>\n",
       "      <td>00:45</td>\n",
       "      <td>False</td>\n",
       "    </tr>\n",
       "    <tr>\n",
       "      <th>002ee26a0c38a1f77b7cdeab8046cd</th>\n",
       "      <td>7.0</td>\n",
       "      <td>multi_number</td>\n",
       "      <td>Hvornår vågner du normalt om morgenen på hverd...</td>\n",
       "      <td>07:00</td>\n",
       "      <td>False</td>\n",
       "      <td>23.50</td>\n",
       "      <td>multi_number</td>\n",
       "      <td>Hvornår sover du normalt på hverdage? (angiv v...</td>\n",
       "      <td>23:30</td>\n",
       "      <td>False</td>\n",
       "    </tr>\n",
       "    <tr>\n",
       "      <th>0037c93a19a7e90580086b462ba11b</th>\n",
       "      <td>7.0</td>\n",
       "      <td>multi_number</td>\n",
       "      <td>Hvornår vågner du normalt om morgenen på hverd...</td>\n",
       "      <td>07:00</td>\n",
       "      <td>False</td>\n",
       "      <td>23.00</td>\n",
       "      <td>multi_number</td>\n",
       "      <td>Hvornår sover du normalt på hverdage? (angiv v...</td>\n",
       "      <td>23:00</td>\n",
       "      <td>False</td>\n",
       "    </tr>\n",
       "    <tr>\n",
       "      <th>005b1e0298bde6b726156aefb8d88c</th>\n",
       "      <td>7.5</td>\n",
       "      <td>multi_number</td>\n",
       "      <td>Hvornår vågner du normalt om morgenen på hverd...</td>\n",
       "      <td>07:30</td>\n",
       "      <td>False</td>\n",
       "      <td>24.00</td>\n",
       "      <td>multi_number</td>\n",
       "      <td>Hvornår sover du normalt på hverdage? (angiv v...</td>\n",
       "      <td>24:00</td>\n",
       "      <td>False</td>\n",
       "    </tr>\n",
       "    <tr>\n",
       "      <th>00ad591e46eb6f3d8c474d9de9e219</th>\n",
       "      <td>6.5</td>\n",
       "      <td>multi_number</td>\n",
       "      <td>Hvornår vågner du normalt om morgenen på hverd...</td>\n",
       "      <td>06:30</td>\n",
       "      <td>False</td>\n",
       "      <td>24.00</td>\n",
       "      <td>multi_number</td>\n",
       "      <td>Hvornår sover du normalt på hverdage? (angiv v...</td>\n",
       "      <td>24:00</td>\n",
       "      <td>False</td>\n",
       "    </tr>\n",
       "  </tbody>\n",
       "</table>\n",
       "</div>"
      ],
      "text/plain": [
       "                                sleep_time_wake__answer  \\\n",
       "0010fedde8e61cad5b049da6df8b5a                      7.5   \n",
       "002ee26a0c38a1f77b7cdeab8046cd                      7.0   \n",
       "0037c93a19a7e90580086b462ba11b                      7.0   \n",
       "005b1e0298bde6b726156aefb8d88c                      7.5   \n",
       "00ad591e46eb6f3d8c474d9de9e219                      6.5   \n",
       "\n",
       "                               sleep_time_wake__answer_type  \\\n",
       "0010fedde8e61cad5b049da6df8b5a                 multi_number   \n",
       "002ee26a0c38a1f77b7cdeab8046cd                 multi_number   \n",
       "0037c93a19a7e90580086b462ba11b                 multi_number   \n",
       "005b1e0298bde6b726156aefb8d88c                 multi_number   \n",
       "00ad591e46eb6f3d8c474d9de9e219                 multi_number   \n",
       "\n",
       "                                                        sleep_time_wake__question  \\\n",
       "0010fedde8e61cad5b049da6df8b5a  Hvornår vågner du normalt om morgenen på hverd...   \n",
       "002ee26a0c38a1f77b7cdeab8046cd  Hvornår vågner du normalt om morgenen på hverd...   \n",
       "0037c93a19a7e90580086b462ba11b  Hvornår vågner du normalt om morgenen på hverd...   \n",
       "005b1e0298bde6b726156aefb8d88c  Hvornår vågner du normalt om morgenen på hverd...   \n",
       "00ad591e46eb6f3d8c474d9de9e219  Hvornår vågner du normalt om morgenen på hverd...   \n",
       "\n",
       "                               sleep_time_wake__response  \\\n",
       "0010fedde8e61cad5b049da6df8b5a                     07:30   \n",
       "002ee26a0c38a1f77b7cdeab8046cd                     07:00   \n",
       "0037c93a19a7e90580086b462ba11b                     07:00   \n",
       "005b1e0298bde6b726156aefb8d88c                     07:30   \n",
       "00ad591e46eb6f3d8c474d9de9e219                     06:30   \n",
       "\n",
       "                                sleep_time_wake__condition  \\\n",
       "0010fedde8e61cad5b049da6df8b5a                       False   \n",
       "002ee26a0c38a1f77b7cdeab8046cd                       False   \n",
       "0037c93a19a7e90580086b462ba11b                       False   \n",
       "005b1e0298bde6b726156aefb8d88c                       False   \n",
       "00ad591e46eb6f3d8c474d9de9e219                       False   \n",
       "\n",
       "                                sleep_time_falling__answer  \\\n",
       "0010fedde8e61cad5b049da6df8b5a                       24.75   \n",
       "002ee26a0c38a1f77b7cdeab8046cd                       23.50   \n",
       "0037c93a19a7e90580086b462ba11b                       23.00   \n",
       "005b1e0298bde6b726156aefb8d88c                       24.00   \n",
       "00ad591e46eb6f3d8c474d9de9e219                       24.00   \n",
       "\n",
       "                               sleep_time_falling__answer_type  \\\n",
       "0010fedde8e61cad5b049da6df8b5a                    multi_number   \n",
       "002ee26a0c38a1f77b7cdeab8046cd                    multi_number   \n",
       "0037c93a19a7e90580086b462ba11b                    multi_number   \n",
       "005b1e0298bde6b726156aefb8d88c                    multi_number   \n",
       "00ad591e46eb6f3d8c474d9de9e219                    multi_number   \n",
       "\n",
       "                                                     sleep_time_falling__question  \\\n",
       "0010fedde8e61cad5b049da6df8b5a  Hvornår sover du normalt på hverdage? (angiv v...   \n",
       "002ee26a0c38a1f77b7cdeab8046cd  Hvornår sover du normalt på hverdage? (angiv v...   \n",
       "0037c93a19a7e90580086b462ba11b  Hvornår sover du normalt på hverdage? (angiv v...   \n",
       "005b1e0298bde6b726156aefb8d88c  Hvornår sover du normalt på hverdage? (angiv v...   \n",
       "00ad591e46eb6f3d8c474d9de9e219  Hvornår sover du normalt på hverdage? (angiv v...   \n",
       "\n",
       "                               sleep_time_falling__response  \\\n",
       "0010fedde8e61cad5b049da6df8b5a                        00:45   \n",
       "002ee26a0c38a1f77b7cdeab8046cd                        23:30   \n",
       "0037c93a19a7e90580086b462ba11b                        23:00   \n",
       "005b1e0298bde6b726156aefb8d88c                        24:00   \n",
       "00ad591e46eb6f3d8c474d9de9e219                        24:00   \n",
       "\n",
       "                                sleep_time_falling__condition  \n",
       "0010fedde8e61cad5b049da6df8b5a                          False  \n",
       "002ee26a0c38a1f77b7cdeab8046cd                          False  \n",
       "0037c93a19a7e90580086b462ba11b                          False  \n",
       "005b1e0298bde6b726156aefb8d88c                          False  \n",
       "00ad591e46eb6f3d8c474d9de9e219                          False  "
      ]
     },
     "execution_count": 47,
     "metadata": {},
     "output_type": "execute_result"
    }
   ],
   "source": [
    "df_multi_number = df.filter(regex='|'.join(tmplabel))\n",
    "df_multi_number.head() "
   ]
  },
  {
   "cell_type": "code",
   "execution_count": 48,
   "metadata": {},
   "outputs": [
    {
     "name": "stdout",
     "output_type": "stream",
     "text": [
      "Hvornår vågner du normalt om morgenen på hverdage? (angiv venligst præcist klokkeslæt, fx 07.15)\n",
      "Hvornår sover du normalt på hverdage? (angiv venligst præcist klokkeslæt, fx 22.40)\n"
     ]
    }
   ],
   "source": [
    "for question in df_multi_number.filter(like='__question').iloc[0, :]:\n",
    "    print(question)"
   ]
  },
  {
   "cell_type": "code",
   "execution_count": 49,
   "metadata": {
    "scrolled": false
   },
   "outputs": [
    {
     "data": {
      "text/plain": [
       "sleep_time_wake__answer       0.997872\n",
       "sleep_time_falling__answer    0.997872\n",
       "dtype: float64"
      ]
     },
     "execution_count": 49,
     "metadata": {},
     "output_type": "execute_result"
    }
   ],
   "source": [
    "df_multi_number.filter(regex='__answer$').notnull().sum() / df_multi_number.shape[0]"
   ]
  },
  {
   "cell_type": "markdown",
   "metadata": {},
   "source": [
    "The multi_number answer types are waking and sleeping times, given as a string by the users. They should be binned and possibly converted to datetimes… though I'm not sure how that would benefit the further data processing.\n",
    "There's only a few null values in the data."
   ]
  },
  {
   "cell_type": "markdown",
   "metadata": {
    "collapsed": true
   },
   "source": [
    "### Examening the `scale` answer type"
   ]
  },
  {
   "cell_type": "code",
   "execution_count": 50,
   "metadata": {},
   "outputs": [
    {
     "data": {
      "text/plain": [
       "politic_poverty__answer_type    scale\n",
       "Name: 0010fedde8e61cad5b049da6df8b5a, dtype: object"
      ]
     },
     "execution_count": 50,
     "metadata": {},
     "output_type": "execute_result"
    }
   ],
   "source": [
    "tmprow.where(tmprow == 'scale').dropna() "
   ]
  },
  {
   "cell_type": "code",
   "execution_count": 51,
   "metadata": {},
   "outputs": [
    {
     "data": {
      "text/plain": [
       "'politic_poverty'"
      ]
     },
     "execution_count": 51,
     "metadata": {},
     "output_type": "execute_result"
    }
   ],
   "source": [
    "tmplabel = tmprow.where(tmprow == 'scale').dropna().index[0].split('__')[0]\n",
    "tmplabel\n"
   ]
  },
  {
   "cell_type": "code",
   "execution_count": 52,
   "metadata": {},
   "outputs": [
    {
     "data": {
      "text/html": [
       "<div>\n",
       "<style scoped>\n",
       "    .dataframe tbody tr th:only-of-type {\n",
       "        vertical-align: middle;\n",
       "    }\n",
       "\n",
       "    .dataframe tbody tr th {\n",
       "        vertical-align: top;\n",
       "    }\n",
       "\n",
       "    .dataframe thead th {\n",
       "        text-align: right;\n",
       "    }\n",
       "</style>\n",
       "<table border=\"1\" class=\"dataframe\">\n",
       "  <thead>\n",
       "    <tr style=\"text-align: right;\">\n",
       "      <th></th>\n",
       "      <th>politic_poverty__answer</th>\n",
       "      <th>politic_poverty__answer_type</th>\n",
       "      <th>politic_poverty__question</th>\n",
       "      <th>politic_poverty__response</th>\n",
       "      <th>politic_poverty__condition</th>\n",
       "    </tr>\n",
       "  </thead>\n",
       "  <tbody>\n",
       "    <tr>\n",
       "      <th>0010fedde8e61cad5b049da6df8b5a</th>\n",
       "      <td>3.0</td>\n",
       "      <td>scale</td>\n",
       "      <td>Nu bedes du svare på en skala fra 1 til 5. Nog...</td>\n",
       "      <td>3.0</td>\n",
       "      <td>False</td>\n",
       "    </tr>\n",
       "    <tr>\n",
       "      <th>002ee26a0c38a1f77b7cdeab8046cd</th>\n",
       "      <td>2.0</td>\n",
       "      <td>scale</td>\n",
       "      <td>Nu bedes du svare på en skala fra 1 til 5. Nog...</td>\n",
       "      <td>2.0</td>\n",
       "      <td>False</td>\n",
       "    </tr>\n",
       "    <tr>\n",
       "      <th>0037c93a19a7e90580086b462ba11b</th>\n",
       "      <td>3.0</td>\n",
       "      <td>scale</td>\n",
       "      <td>Nu bedes du svare på en skala fra 1 til 5. Nog...</td>\n",
       "      <td>3.0</td>\n",
       "      <td>False</td>\n",
       "    </tr>\n",
       "    <tr>\n",
       "      <th>005b1e0298bde6b726156aefb8d88c</th>\n",
       "      <td>4.0</td>\n",
       "      <td>scale</td>\n",
       "      <td>Nu bedes du svare på en skala fra 1 til 5. Nog...</td>\n",
       "      <td>4.0</td>\n",
       "      <td>False</td>\n",
       "    </tr>\n",
       "    <tr>\n",
       "      <th>00ad591e46eb6f3d8c474d9de9e219</th>\n",
       "      <td>4.0</td>\n",
       "      <td>scale</td>\n",
       "      <td>Nu bedes du svare på en skala fra 1 til 5. Nog...</td>\n",
       "      <td>4.0</td>\n",
       "      <td>False</td>\n",
       "    </tr>\n",
       "  </tbody>\n",
       "</table>\n",
       "</div>"
      ],
      "text/plain": [
       "                                politic_poverty__answer  \\\n",
       "0010fedde8e61cad5b049da6df8b5a                      3.0   \n",
       "002ee26a0c38a1f77b7cdeab8046cd                      2.0   \n",
       "0037c93a19a7e90580086b462ba11b                      3.0   \n",
       "005b1e0298bde6b726156aefb8d88c                      4.0   \n",
       "00ad591e46eb6f3d8c474d9de9e219                      4.0   \n",
       "\n",
       "                               politic_poverty__answer_type  \\\n",
       "0010fedde8e61cad5b049da6df8b5a                        scale   \n",
       "002ee26a0c38a1f77b7cdeab8046cd                        scale   \n",
       "0037c93a19a7e90580086b462ba11b                        scale   \n",
       "005b1e0298bde6b726156aefb8d88c                        scale   \n",
       "00ad591e46eb6f3d8c474d9de9e219                        scale   \n",
       "\n",
       "                                                        politic_poverty__question  \\\n",
       "0010fedde8e61cad5b049da6df8b5a  Nu bedes du svare på en skala fra 1 til 5. Nog...   \n",
       "002ee26a0c38a1f77b7cdeab8046cd  Nu bedes du svare på en skala fra 1 til 5. Nog...   \n",
       "0037c93a19a7e90580086b462ba11b  Nu bedes du svare på en skala fra 1 til 5. Nog...   \n",
       "005b1e0298bde6b726156aefb8d88c  Nu bedes du svare på en skala fra 1 til 5. Nog...   \n",
       "00ad591e46eb6f3d8c474d9de9e219  Nu bedes du svare på en skala fra 1 til 5. Nog...   \n",
       "\n",
       "                                politic_poverty__response  \\\n",
       "0010fedde8e61cad5b049da6df8b5a                        3.0   \n",
       "002ee26a0c38a1f77b7cdeab8046cd                        2.0   \n",
       "0037c93a19a7e90580086b462ba11b                        3.0   \n",
       "005b1e0298bde6b726156aefb8d88c                        4.0   \n",
       "00ad591e46eb6f3d8c474d9de9e219                        4.0   \n",
       "\n",
       "                                politic_poverty__condition  \n",
       "0010fedde8e61cad5b049da6df8b5a                       False  \n",
       "002ee26a0c38a1f77b7cdeab8046cd                       False  \n",
       "0037c93a19a7e90580086b462ba11b                       False  \n",
       "005b1e0298bde6b726156aefb8d88c                       False  \n",
       "00ad591e46eb6f3d8c474d9de9e219                       False  "
      ]
     },
     "execution_count": 52,
     "metadata": {},
     "output_type": "execute_result"
    }
   ],
   "source": [
    "df_scale = df.filter(like=tmplabel)\n",
    "df_scale.head() \n"
   ]
  },
  {
   "cell_type": "code",
   "execution_count": 53,
   "metadata": {},
   "outputs": [
    {
     "data": {
      "text/plain": [
       "politic_poverty__answer    0.992553\n",
       "dtype: float64"
      ]
     },
     "execution_count": 53,
     "metadata": {},
     "output_type": "execute_result"
    }
   ],
   "source": [
    "df_scale.filter(regex='_answer$').notnull().sum() / df_scale.shape[0]\n"
   ]
  },
  {
   "cell_type": "code",
   "execution_count": 54,
   "metadata": {},
   "outputs": [
    {
     "data": {
      "text/plain": [
       "'Nu bedes du svare på en skala fra 1 til 5. Nogle mennesker synes, at det offentlige skal gøre alt, hvad det kan, for at hæve levestandarden for fattige danskere; de svarer til 1 på skalaen.<br>Andre mennesker mener, at det ikke er det offentliges ansvar, og at den enkelte skal klare sig selv; de svarer til 5 på skalaen.<br>Hvor vil du placere dig selv?'"
      ]
     },
     "execution_count": 54,
     "metadata": {},
     "output_type": "execute_result"
    }
   ],
   "source": [
    "df.politic_poverty__question.iloc[0]"
   ]
  },
  {
   "cell_type": "markdown",
   "metadata": {},
   "source": [
    "The participants were rating on a scale from 1 ti 5."
   ]
  },
  {
   "cell_type": "markdown",
   "metadata": {
    "collapsed": true
   },
   "source": [
    "# Splits DataFrame and save in a sane file format\n",
    "\n",
    "Save the dirty data"
   ]
  },
  {
   "cell_type": "raw",
   "metadata": {},
   "source": [
    "if len(os.listdir('../../allan_data')) < 3:\n",
    "\n",
    "    base_save_path = '../../allan_data/RGender_'\n",
    "\n",
    "    with open(base_save_path + '.json', 'w') as fid:\n",
    "        fid.write(df.to_json())\n",
    "    df.to_csv(base_save_path + '.csv')\n",
    "    df.to_csv(base_save_path + '.tsv', sep='\\t')\n",
    "\n",
    "    filter_regex_list = ['answer', 'answer_type', 'question', 'condition', 'response', 'gender']\n",
    "    for rx in filter_regex_list:\n",
    "        sub_df = df.filter(regex=rx + '$')\n",
    "        json_sub_df_str = sub_df.to_json()\n",
    "        with open(base_save_path + rx + '.json', 'w') as fid:\n",
    "            fid.write(json_sub_df_str)\n",
    "        sub_df.to_csv(base_save_path + rx + '.csv')\n",
    "        sub_df.to_csv(base_save_path + rx + '.tsv', sep='\\t')\n",
    "\n",
    "\n",
    "    import subprocess\n",
    "    import pathlib\n",
    "\n",
    "    for ft in \"json csv tsv\".split():\n",
    "        call_str = 'zip -3 {bsp}_{ft}_files.zip {bsp}*.{ft}'.format(ft=ft, bsp=base_save_path)\n",
    "        subprocess.call(call_str, shell=True) \n",
    "\n",
    "    for fl in pathlib.Path('../../allan_data').glob(\"*.?sv\"):\n",
    "        try:\n",
    "            os.remove(fl.resolve())\n",
    "        except OSError:\n",
    "            print(f\"Couldn't remove {fl}\")"
   ]
  },
  {
   "cell_type": "code",
   "execution_count": 55,
   "metadata": {},
   "outputs": [
    {
     "data": {
      "text/plain": [
       "(940, 1431)"
      ]
     },
     "execution_count": 55,
     "metadata": {},
     "output_type": "execute_result"
    }
   ],
   "source": [
    "df.shape"
   ]
  },
  {
   "cell_type": "markdown",
   "metadata": {},
   "source": [
    "Just examine the `_answer` columns, remove presons with a lot of null-answers"
   ]
  },
  {
   "cell_type": "code",
   "execution_count": 56,
   "metadata": {},
   "outputs": [
    {
     "data": {
      "image/png": "[encoded data removed]",
      "text/plain": [
       "<matplotlib.figure.Figure at 0x7fd61ba05cc0>"
      ]
     },
     "metadata": {},
     "output_type": "display_data"
    }
   ],
   "source": [
    "fig, (ax0, ax1) = plt.subplots(1, 2, figsize=(17, 6))\n",
    "df.filter(regex=\"answer$\").isnull().sum(axis=0).sort_values().plot(ax=ax0, style=['o-']) \n",
    "df.filter(regex=\"answer$\").isnull().sum(axis=1).sort_values().plot(ax=ax1, style=['o-'])\n",
    "ax0.set_xticklabels(list())\n",
    "ax1.set_xticklabels(list());\n",
    "ax0.set_title(\"NaN's summerd over columns (questions)\")\n",
    "ax1.set_title(\"NaN's summerd over rows (persons)\")\n",
    "ax0.set_yticks(np.linspace(0, ax0.get_yticks().max(), 15).round())\n",
    "ax1.set_yticks(np.linspace(0, ax1.get_yticks().max(), 15).round());"
   ]
  },
  {
   "cell_type": "code",
   "execution_count": 57,
   "metadata": {},
   "outputs": [],
   "source": [
    "df = df.loc[df.isna().mean(axis=1) <= 0.125, :]"
   ]
  },
  {
   "cell_type": "code",
   "execution_count": 58,
   "metadata": {},
   "outputs": [
    {
     "data": {
      "text/plain": [
       "(936, 1431)"
      ]
     },
     "execution_count": 58,
     "metadata": {},
     "output_type": "execute_result"
    }
   ],
   "source": [
    "df.shape"
   ]
  },
  {
   "cell_type": "markdown",
   "metadata": {},
   "source": [
    "Make the same plot again"
   ]
  },
  {
   "cell_type": "code",
   "execution_count": 59,
   "metadata": {},
   "outputs": [
    {
     "data": {
      "text/plain": [
       "Text(0.5,1,\"NaN's averaged over rows (persons)\")"
      ]
     },
     "execution_count": 59,
     "metadata": {},
     "output_type": "execute_result"
    },
    {
     "data": {
      "image/png": "[encoded data removed]",
      "text/plain": [
       "<matplotlib.figure.Figure at 0x7fd611fdc390>"
      ]
     },
     "metadata": {},
     "output_type": "display_data"
    }
   ],
   "source": [
    "fig, (ax0, ax1) = plt.subplots(1, 2, figsize=(17, 6))\n",
    "df.filter(regex=\"answer$\").isnull().mean(axis=0).sort_values().plot(ax=ax0, style=['o-']) \n",
    "df.filter(regex=\"answer$\").isnull().mean(axis=1).sort_values().plot(ax=ax1, style=['o-'])\n",
    "ax0.set_xticklabels(list())\n",
    "ax1.set_xticklabels(list());\n",
    "ax0.set_title(\"NaN's averaged over columns (questions)\")\n",
    "ax1.set_title(\"NaN's averaged over rows (persons)\") "
   ]
  },
  {
   "cell_type": "markdown",
   "metadata": {},
   "source": [
    "Remake the plots for export"
   ]
  },
  {
   "cell_type": "code",
   "execution_count": 60,
   "metadata": {},
   "outputs": [
    {
     "data": {
      "image/png": "[encoded data removed]",
      "text/plain": [
       "<matplotlib.figure.Figure at 0x7fd611fdc358>"
      ]
     },
     "metadata": {},
     "output_type": "display_data"
    },
    {
     "data": {
      "image/png": "[encoded data removed]",
      "text/plain": [
       "<matplotlib.figure.Figure at 0x7fd611fdcfd0>"
      ]
     },
     "metadata": {},
     "output_type": "display_data"
    }
   ],
   "source": [
    "fig1, ax1 = plt.subplots(figsize=(6, 4.5))\n",
    "fig2, ax2 = plt.subplots(figsize=(6, 4.5))\n",
    "after_cols = df.filter(regex=\"answer$\").isnull().mean(axis=1).sort_values()\n",
    "after_rows = df.filter(regex=\"answer$\").isnull().mean(axis=0).sort_values()\n",
    "after_cols.plot(ax=ax1, style=['o-']) \n",
    "after_rows.plot(ax=ax2, style=['o-'])\n",
    "for fig, ax, ymax, nsteps in ((fig1, ax1, 0.4, 9), (fig2, ax2, 1, 11)):\n",
    "    ax.set_xticklabels(list())\n",
    "    ax.set_yticks(np.linspace(0, ymax, nsteps))\n",
    "    ax.set_ylabel('Fraction of nulls')\n",
    "    fig.tight_layout()\n",
    "ax1.set_xlabel('Questions')\n",
    "ax2.set_xlabel('Participants')\n",
    "fig1.savefig(fig_path + 'nan_fraction_over_columns_after_cleaning_questions.pdf')\n",
    "fig2.savefig(fig_path + 'nan_fraction_over_rows_after_cleaning_participants.pdf')  "
   ]
  },
  {
   "cell_type": "code",
   "execution_count": 61,
   "metadata": {},
   "outputs": [
    {
     "data": {
      "image/png": "[encoded data removed]",
      "text/plain": [
       "<matplotlib.figure.Figure at 0x7fd611cff4e0>"
      ]
     },
     "metadata": {},
     "output_type": "display_data"
    },
    {
     "data": {
      "image/png": "[encoded data removed]",
      "text/plain": [
       "<matplotlib.figure.Figure at 0x7fd611cff470>"
      ]
     },
     "metadata": {},
     "output_type": "display_data"
    }
   ],
   "source": [
    "fig1, ax1 = plt.subplots(figsize=(6, 4.5))\n",
    "fig2, ax2 = plt.subplots(figsize=(6, 4.5))\n",
    "after_cols.plot(ax=ax1, style=['o-']) \n",
    "before_cols.plot(ax=ax1, style=['.-']) \n",
    "after_rows.plot(ax=ax2, style=['o-'])\n",
    "before_rows.plot(ax=ax2, style=['.-'])\n",
    "for fig, ax, ymax in ((fig1, ax1, 1), (fig2, ax2, 1)):\n",
    "    ax.set_xticklabels(list())\n",
    "    ax.set_yticks(np.linspace(0, ymax, 9))\n",
    "    ax.set_ylabel('Fraction of nulls')\n",
    "    fig.tight_layout()\n",
    "ax1.set_xlabel('Questions')\n",
    "ax2.set_xlabel('Participants')\n",
    "fig1.savefig(fig_path + 'nan_fraction_over_columns_before_and_after_cleaning_questions.pdf')\n",
    "fig2.savefig(fig_path + 'nan_fraction_over_rows_before_and_after_cleaning_participants.pdf') "
   ]
  },
  {
   "cell_type": "code",
   "execution_count": 62,
   "metadata": {},
   "outputs": [
    {
     "data": {
      "image/png": "[encoded data removed]",
      "text/plain": [
       "<matplotlib.figure.Figure at 0x7fd597329be0>"
      ]
     },
     "metadata": {},
     "output_type": "display_data"
    }
   ],
   "source": [
    "fig, (ax0, ax1) = plt.subplots(1, 2, figsize=(17, 6))\n",
    "tmp = df.filter(regex=\"answer$\").isnull().sum(axis=0).sort_values()\n",
    "cutoff = 80\n",
    "tmp = tmp[tmp < cutoff]\n",
    "tmp.plot(ax=ax0, style=['o-']) \n",
    "df.filter(regex=\"answer$\").isnull().sum(axis=1).sort_values().plot(ax=ax1, style=['o-'])\n",
    "ax0.set_xticklabels(list())\n",
    "ax1.set_xticklabels(list());\n",
    "ax0.set_title(f\"NaN's summerd over columns (questions), cutoff at {cutoff}\")\n",
    "ax1.set_title(\"NaN's summerd over rows (persons)\")\n",
    "ax0.set_yticks(np.linspace(0, ax0.get_yticks().max(), 15).round())\n",
    "ax1.set_yticks(np.linspace(0, ax1.get_yticks().max(), 15).round());"
   ]
  },
  {
   "cell_type": "markdown",
   "metadata": {},
   "source": [
    "The left graph didn't change much. Questions with more that 12 mising persons are removed (because that's the lowest limit which doesn't include the alcohol questions in the feature removal)"
   ]
  },
  {
   "cell_type": "code",
   "execution_count": 63,
   "metadata": {},
   "outputs": [
    {
     "data": {
      "text/plain": [
       "smoke_volume_cigar__answer              873\n",
       "smoke_daily__answer                     873\n",
       "smoke_volume_cerut__answer              873\n",
       "smoke_volume_cigarette__answer          873\n",
       "smoke_volume_pibe__answer               873\n",
       "smoke_first_cigarette__answer           652\n",
       "contact_partner__answer                 507\n",
       "help_partner__answer                    505\n",
       "talk_partner__answer                    503\n",
       "demands_partner__answer                 500\n",
       "worries_partner__answer                 499\n",
       "conflicts_partner__answer               496\n",
       "electronic_contact_partner__answer      490\n",
       "know_other_number__answer               208\n",
       "contact_zieblings__answer                52\n",
       "electronic_contact_zieblings__answer     51\n",
       "demands_zieblings__answer                50\n",
       "worries_zieblings__answer                50\n",
       "conflicts_zieblings__answer              50\n",
       "help_zieblings__answer                   48\n",
       "talk_zieblings__answer                   48\n",
       "alcohol_binge5__answer                   33\n",
       "alcohol_volume_sunday__answer            33\n",
       "alcohol_volume_thursday__answer          33\n",
       "alcohol_volume_saturday__answer          33\n",
       "alcohol_very_drunk__answer               33\n",
       "alcohol_volume_monday__answer            33\n",
       "alcohol_volume_tuesday__answer           33\n",
       "alcohol_everyday__answer                 33\n",
       "alcohol_volume_wednesday__answer         33\n",
       "alcohol_weekend__answer                  33\n",
       "alcohol_drunk__answer                    33\n",
       "alcohol_volume_friday__answer            33\n",
       "alcohol_binge10__answer                  33\n",
       "help_father__answer                      29\n",
       "demands_father__answer                   29\n",
       "worries_father__answer                   29\n",
       "talk_father__answer                      29\n",
       "electronic_contact_family__answer        28\n",
       "conflicts_father__answer                 28\n",
       "contact_father__answer                   28\n",
       "ambition_job__answer                     17\n",
       "worries_other_family__answer             15\n",
       "dtype: int64"
      ]
     },
     "metadata": {},
     "output_type": "display_data"
    },
    {
     "data": {
      "text/plain": [
       "43"
      ]
     },
     "execution_count": 63,
     "metadata": {},
     "output_type": "execute_result"
    }
   ],
   "source": [
    "col_mask = df.filter(regex='answer$').isnull().sum(axis=0)\n",
    "display(col_mask[col_mask > 12].sort_values(ascending=False))\n",
    "\n",
    "col_mask = col_mask > 12\n",
    "col_mask.sum() "
   ]
  },
  {
   "cell_type": "code",
   "execution_count": 64,
   "metadata": {},
   "outputs": [
    {
     "name": "stdout",
     "output_type": "stream",
     "text": [
      "smoke_volume_cigar  smoke_first_cigarette  electronic_contact_family  contact_father  help_father  alcohol_binge5  alcohol_volume_tuesday  alcohol_drunk  help_zieblings  conflicts_zieblings  alcohol_weekend  alcohol_volume_thursday  smoke_daily  contact_zieblings  worries_other_family  talk_zieblings  ambition_job  alcohol_everyday  smoke_volume_pibe  alcohol_volume_friday  alcohol_volume_monday  alcohol_volume_wednesday  talk_father  worries_partner  alcohol_very_drunk  conflicts_partner  electronic_contact_partner  worries_father  worries_zieblings  help_partner  smoke_volume_cigarette  talk_partner  demands_partner  contact_partner  electronic_contact_zieblings  demands_zieblings  alcohol_volume_saturday  alcohol_binge10  demands_father  know_other_number  conflicts_father  smoke_volume_cerut  alcohol_volume_sunday\n"
     ]
    }
   ],
   "source": [
    "remove_col_names = set(col_mask[col_mask].index.str.replace('__answer', '').tolist())\n",
    "print(*remove_col_names, sep='  ')\n",
    "keep_rows = [rw for rw in df.index if not re.sub(r'__.+$', '', rw) in remove_col_names]\n",
    "\n",
    "df = df.loc[keep_rows]"
   ]
  },
  {
   "cell_type": "code",
   "execution_count": 65,
   "metadata": {},
   "outputs": [
    {
     "data": {
      "text/html": [
       "<div>\n",
       "<style scoped>\n",
       "    .dataframe tbody tr th:only-of-type {\n",
       "        vertical-align: middle;\n",
       "    }\n",
       "\n",
       "    .dataframe tbody tr th {\n",
       "        vertical-align: top;\n",
       "    }\n",
       "\n",
       "    .dataframe thead th {\n",
       "        text-align: right;\n",
       "    }\n",
       "</style>\n",
       "<table border=\"1\" class=\"dataframe\">\n",
       "  <thead>\n",
       "    <tr style=\"text-align: right;\">\n",
       "      <th></th>\n",
       "      <th>function_duties__answer</th>\n",
       "      <th>function_duties__answer_type</th>\n",
       "      <th>function_duties__question</th>\n",
       "      <th>function_duties__response</th>\n",
       "      <th>function_duties__condition</th>\n",
       "      <th>narcissism_opponents__answer</th>\n",
       "      <th>narcissism_opponents__answer_type</th>\n",
       "      <th>narcissism_opponents__question</th>\n",
       "      <th>narcissism_opponents__response</th>\n",
       "      <th>narcissism_opponents__condition</th>\n",
       "      <th>...</th>\n",
       "      <th>selfesteem_proud__answer_type</th>\n",
       "      <th>selfesteem_proud__question</th>\n",
       "      <th>selfesteem_proud__response</th>\n",
       "      <th>selfesteem_proud__condition</th>\n",
       "      <th>narcissism_excellent__answer</th>\n",
       "      <th>narcissism_excellent__answer_type</th>\n",
       "      <th>narcissism_excellent__question</th>\n",
       "      <th>narcissism_excellent__response</th>\n",
       "      <th>narcissism_excellent__condition</th>\n",
       "      <th>gender</th>\n",
       "    </tr>\n",
       "  </thead>\n",
       "  <tbody>\n",
       "    <tr>\n",
       "      <th>0010fedde8e61cad5b049da6df8b5a</th>\n",
       "      <td>0.0</td>\n",
       "      <td>radio</td>\n",
       "      <td>At varetage dine praktiske pligter i hjemmet?</td>\n",
       "      <td>Slet ikke</td>\n",
       "      <td>False</td>\n",
       "      <td>1.0</td>\n",
       "      <td>radio</td>\n",
       "      <td>Jeg nyder for mig selv, når mine modstandere m...</td>\n",
       "      <td>2</td>\n",
       "      <td>False</td>\n",
       "      <td>...</td>\n",
       "      <td>radio</td>\n",
       "      <td>Jeg føler at jeg ikke har meget at være stolt af</td>\n",
       "      <td>Uenig</td>\n",
       "      <td>False</td>\n",
       "      <td>3.0</td>\n",
       "      <td>radio</td>\n",
       "      <td>Jeg formår at være midtpunkt for opmærksomhed ...</td>\n",
       "      <td>4</td>\n",
       "      <td>False</td>\n",
       "      <td>male</td>\n",
       "    </tr>\n",
       "    <tr>\n",
       "      <th>002ee26a0c38a1f77b7cdeab8046cd</th>\n",
       "      <td>1.0</td>\n",
       "      <td>radio</td>\n",
       "      <td>At varetage dine praktiske pligter i hjemmet?</td>\n",
       "      <td>Lidt</td>\n",
       "      <td>False</td>\n",
       "      <td>2.0</td>\n",
       "      <td>radio</td>\n",
       "      <td>Jeg nyder for mig selv, når mine modstandere m...</td>\n",
       "      <td>3</td>\n",
       "      <td>False</td>\n",
       "      <td>...</td>\n",
       "      <td>radio</td>\n",
       "      <td>Jeg føler at jeg ikke har meget at være stolt af</td>\n",
       "      <td>Uenig</td>\n",
       "      <td>False</td>\n",
       "      <td>2.0</td>\n",
       "      <td>radio</td>\n",
       "      <td>Jeg formår at være midtpunkt for opmærksomhed ...</td>\n",
       "      <td>3</td>\n",
       "      <td>False</td>\n",
       "      <td>male</td>\n",
       "    </tr>\n",
       "    <tr>\n",
       "      <th>0037c93a19a7e90580086b462ba11b</th>\n",
       "      <td>1.0</td>\n",
       "      <td>radio</td>\n",
       "      <td>At varetage dine praktiske pligter i hjemmet?</td>\n",
       "      <td>Lidt</td>\n",
       "      <td>False</td>\n",
       "      <td>1.0</td>\n",
       "      <td>radio</td>\n",
       "      <td>Jeg nyder for mig selv, når mine modstandere m...</td>\n",
       "      <td>2</td>\n",
       "      <td>False</td>\n",
       "      <td>...</td>\n",
       "      <td>radio</td>\n",
       "      <td>Jeg føler at jeg ikke har meget at være stolt af</td>\n",
       "      <td>Enig</td>\n",
       "      <td>False</td>\n",
       "      <td>1.0</td>\n",
       "      <td>radio</td>\n",
       "      <td>Jeg formår at være midtpunkt for opmærksomhed ...</td>\n",
       "      <td>2</td>\n",
       "      <td>False</td>\n",
       "      <td>male</td>\n",
       "    </tr>\n",
       "    <tr>\n",
       "      <th>005b1e0298bde6b726156aefb8d88c</th>\n",
       "      <td>1.0</td>\n",
       "      <td>radio</td>\n",
       "      <td>At varetage dine praktiske pligter i hjemmet?</td>\n",
       "      <td>Lidt</td>\n",
       "      <td>False</td>\n",
       "      <td>2.0</td>\n",
       "      <td>radio</td>\n",
       "      <td>Jeg nyder for mig selv, når mine modstandere m...</td>\n",
       "      <td>3</td>\n",
       "      <td>False</td>\n",
       "      <td>...</td>\n",
       "      <td>radio</td>\n",
       "      <td>Jeg føler at jeg ikke har meget at være stolt af</td>\n",
       "      <td>Uenig</td>\n",
       "      <td>False</td>\n",
       "      <td>1.0</td>\n",
       "      <td>radio</td>\n",
       "      <td>Jeg formår at være midtpunkt for opmærksomhed ...</td>\n",
       "      <td>2</td>\n",
       "      <td>False</td>\n",
       "      <td>male</td>\n",
       "    </tr>\n",
       "    <tr>\n",
       "      <th>00ad591e46eb6f3d8c474d9de9e219</th>\n",
       "      <td>1.0</td>\n",
       "      <td>radio</td>\n",
       "      <td>At varetage dine praktiske pligter i hjemmet?</td>\n",
       "      <td>Lidt</td>\n",
       "      <td>False</td>\n",
       "      <td>1.0</td>\n",
       "      <td>radio</td>\n",
       "      <td>Jeg nyder for mig selv, når mine modstandere m...</td>\n",
       "      <td>2</td>\n",
       "      <td>False</td>\n",
       "      <td>...</td>\n",
       "      <td>radio</td>\n",
       "      <td>Jeg føler at jeg ikke har meget at være stolt af</td>\n",
       "      <td>Stærkt uenig</td>\n",
       "      <td>False</td>\n",
       "      <td>0.0</td>\n",
       "      <td>radio</td>\n",
       "      <td>Jeg formår at være midtpunkt for opmærksomhed ...</td>\n",
       "      <td>Passer slet ikke 1</td>\n",
       "      <td>False</td>\n",
       "      <td>female</td>\n",
       "    </tr>\n",
       "  </tbody>\n",
       "</table>\n",
       "<p>5 rows × 1431 columns</p>\n",
       "</div>"
      ],
      "text/plain": [
       "                                function_duties__answer  \\\n",
       "0010fedde8e61cad5b049da6df8b5a                      0.0   \n",
       "002ee26a0c38a1f77b7cdeab8046cd                      1.0   \n",
       "0037c93a19a7e90580086b462ba11b                      1.0   \n",
       "005b1e0298bde6b726156aefb8d88c                      1.0   \n",
       "00ad591e46eb6f3d8c474d9de9e219                      1.0   \n",
       "\n",
       "                               function_duties__answer_type  \\\n",
       "0010fedde8e61cad5b049da6df8b5a                        radio   \n",
       "002ee26a0c38a1f77b7cdeab8046cd                        radio   \n",
       "0037c93a19a7e90580086b462ba11b                        radio   \n",
       "005b1e0298bde6b726156aefb8d88c                        radio   \n",
       "00ad591e46eb6f3d8c474d9de9e219                        radio   \n",
       "\n",
       "                                                    function_duties__question  \\\n",
       "0010fedde8e61cad5b049da6df8b5a  At varetage dine praktiske pligter i hjemmet?   \n",
       "002ee26a0c38a1f77b7cdeab8046cd  At varetage dine praktiske pligter i hjemmet?   \n",
       "0037c93a19a7e90580086b462ba11b  At varetage dine praktiske pligter i hjemmet?   \n",
       "005b1e0298bde6b726156aefb8d88c  At varetage dine praktiske pligter i hjemmet?   \n",
       "00ad591e46eb6f3d8c474d9de9e219  At varetage dine praktiske pligter i hjemmet?   \n",
       "\n",
       "                               function_duties__response  \\\n",
       "0010fedde8e61cad5b049da6df8b5a                 Slet ikke   \n",
       "002ee26a0c38a1f77b7cdeab8046cd                      Lidt   \n",
       "0037c93a19a7e90580086b462ba11b                      Lidt   \n",
       "005b1e0298bde6b726156aefb8d88c                      Lidt   \n",
       "00ad591e46eb6f3d8c474d9de9e219                      Lidt   \n",
       "\n",
       "                                function_duties__condition  \\\n",
       "0010fedde8e61cad5b049da6df8b5a                       False   \n",
       "002ee26a0c38a1f77b7cdeab8046cd                       False   \n",
       "0037c93a19a7e90580086b462ba11b                       False   \n",
       "005b1e0298bde6b726156aefb8d88c                       False   \n",
       "00ad591e46eb6f3d8c474d9de9e219                       False   \n",
       "\n",
       "                                narcissism_opponents__answer  \\\n",
       "0010fedde8e61cad5b049da6df8b5a                           1.0   \n",
       "002ee26a0c38a1f77b7cdeab8046cd                           2.0   \n",
       "0037c93a19a7e90580086b462ba11b                           1.0   \n",
       "005b1e0298bde6b726156aefb8d88c                           2.0   \n",
       "00ad591e46eb6f3d8c474d9de9e219                           1.0   \n",
       "\n",
       "                               narcissism_opponents__answer_type  \\\n",
       "0010fedde8e61cad5b049da6df8b5a                             radio   \n",
       "002ee26a0c38a1f77b7cdeab8046cd                             radio   \n",
       "0037c93a19a7e90580086b462ba11b                             radio   \n",
       "005b1e0298bde6b726156aefb8d88c                             radio   \n",
       "00ad591e46eb6f3d8c474d9de9e219                             radio   \n",
       "\n",
       "                                                   narcissism_opponents__question  \\\n",
       "0010fedde8e61cad5b049da6df8b5a  Jeg nyder for mig selv, når mine modstandere m...   \n",
       "002ee26a0c38a1f77b7cdeab8046cd  Jeg nyder for mig selv, når mine modstandere m...   \n",
       "0037c93a19a7e90580086b462ba11b  Jeg nyder for mig selv, når mine modstandere m...   \n",
       "005b1e0298bde6b726156aefb8d88c  Jeg nyder for mig selv, når mine modstandere m...   \n",
       "00ad591e46eb6f3d8c474d9de9e219  Jeg nyder for mig selv, når mine modstandere m...   \n",
       "\n",
       "                               narcissism_opponents__response  \\\n",
       "0010fedde8e61cad5b049da6df8b5a                              2   \n",
       "002ee26a0c38a1f77b7cdeab8046cd                              3   \n",
       "0037c93a19a7e90580086b462ba11b                              2   \n",
       "005b1e0298bde6b726156aefb8d88c                              3   \n",
       "00ad591e46eb6f3d8c474d9de9e219                              2   \n",
       "\n",
       "                                narcissism_opponents__condition   ...    \\\n",
       "0010fedde8e61cad5b049da6df8b5a                            False   ...     \n",
       "002ee26a0c38a1f77b7cdeab8046cd                            False   ...     \n",
       "0037c93a19a7e90580086b462ba11b                            False   ...     \n",
       "005b1e0298bde6b726156aefb8d88c                            False   ...     \n",
       "00ad591e46eb6f3d8c474d9de9e219                            False   ...     \n",
       "\n",
       "                                selfesteem_proud__answer_type  \\\n",
       "0010fedde8e61cad5b049da6df8b5a                          radio   \n",
       "002ee26a0c38a1f77b7cdeab8046cd                          radio   \n",
       "0037c93a19a7e90580086b462ba11b                          radio   \n",
       "005b1e0298bde6b726156aefb8d88c                          radio   \n",
       "00ad591e46eb6f3d8c474d9de9e219                          radio   \n",
       "\n",
       "                                                      selfesteem_proud__question  \\\n",
       "0010fedde8e61cad5b049da6df8b5a  Jeg føler at jeg ikke har meget at være stolt af   \n",
       "002ee26a0c38a1f77b7cdeab8046cd  Jeg føler at jeg ikke har meget at være stolt af   \n",
       "0037c93a19a7e90580086b462ba11b  Jeg føler at jeg ikke har meget at være stolt af   \n",
       "005b1e0298bde6b726156aefb8d88c  Jeg føler at jeg ikke har meget at være stolt af   \n",
       "00ad591e46eb6f3d8c474d9de9e219  Jeg føler at jeg ikke har meget at være stolt af   \n",
       "\n",
       "                               selfesteem_proud__response  \\\n",
       "0010fedde8e61cad5b049da6df8b5a                      Uenig   \n",
       "002ee26a0c38a1f77b7cdeab8046cd                      Uenig   \n",
       "0037c93a19a7e90580086b462ba11b                       Enig   \n",
       "005b1e0298bde6b726156aefb8d88c                      Uenig   \n",
       "00ad591e46eb6f3d8c474d9de9e219               Stærkt uenig   \n",
       "\n",
       "                               selfesteem_proud__condition  \\\n",
       "0010fedde8e61cad5b049da6df8b5a                       False   \n",
       "002ee26a0c38a1f77b7cdeab8046cd                       False   \n",
       "0037c93a19a7e90580086b462ba11b                       False   \n",
       "005b1e0298bde6b726156aefb8d88c                       False   \n",
       "00ad591e46eb6f3d8c474d9de9e219                       False   \n",
       "\n",
       "                                narcissism_excellent__answer  \\\n",
       "0010fedde8e61cad5b049da6df8b5a                           3.0   \n",
       "002ee26a0c38a1f77b7cdeab8046cd                           2.0   \n",
       "0037c93a19a7e90580086b462ba11b                           1.0   \n",
       "005b1e0298bde6b726156aefb8d88c                           1.0   \n",
       "00ad591e46eb6f3d8c474d9de9e219                           0.0   \n",
       "\n",
       "                                narcissism_excellent__answer_type  \\\n",
       "0010fedde8e61cad5b049da6df8b5a                              radio   \n",
       "002ee26a0c38a1f77b7cdeab8046cd                              radio   \n",
       "0037c93a19a7e90580086b462ba11b                              radio   \n",
       "005b1e0298bde6b726156aefb8d88c                              radio   \n",
       "00ad591e46eb6f3d8c474d9de9e219                              radio   \n",
       "\n",
       "                                                   narcissism_excellent__question  \\\n",
       "0010fedde8e61cad5b049da6df8b5a  Jeg formår at være midtpunkt for opmærksomhed ...   \n",
       "002ee26a0c38a1f77b7cdeab8046cd  Jeg formår at være midtpunkt for opmærksomhed ...   \n",
       "0037c93a19a7e90580086b462ba11b  Jeg formår at være midtpunkt for opmærksomhed ...   \n",
       "005b1e0298bde6b726156aefb8d88c  Jeg formår at være midtpunkt for opmærksomhed ...   \n",
       "00ad591e46eb6f3d8c474d9de9e219  Jeg formår at være midtpunkt for opmærksomhed ...   \n",
       "\n",
       "                               narcissism_excellent__response  \\\n",
       "0010fedde8e61cad5b049da6df8b5a                              4   \n",
       "002ee26a0c38a1f77b7cdeab8046cd                              3   \n",
       "0037c93a19a7e90580086b462ba11b                              2   \n",
       "005b1e0298bde6b726156aefb8d88c                              2   \n",
       "00ad591e46eb6f3d8c474d9de9e219             Passer slet ikke 1   \n",
       "\n",
       "                               narcissism_excellent__condition  gender  \n",
       "0010fedde8e61cad5b049da6df8b5a                           False    male  \n",
       "002ee26a0c38a1f77b7cdeab8046cd                           False    male  \n",
       "0037c93a19a7e90580086b462ba11b                           False    male  \n",
       "005b1e0298bde6b726156aefb8d88c                           False    male  \n",
       "00ad591e46eb6f3d8c474d9de9e219                           False  female  \n",
       "\n",
       "[5 rows x 1431 columns]"
      ]
     },
     "execution_count": 65,
     "metadata": {},
     "output_type": "execute_result"
    }
   ],
   "source": [
    "df.head() "
   ]
  },
  {
   "cell_type": "code",
   "execution_count": 66,
   "metadata": {},
   "outputs": [],
   "source": [
    "df.to_pickle('../../allan_data/RGender_.pkl')"
   ]
  },
  {
   "cell_type": "code",
   "execution_count": 67,
   "metadata": {},
   "outputs": [],
   "source": [
    "tmpc = pd.Categorical(df.function_duties__answer) "
   ]
  },
  {
   "cell_type": "code",
   "execution_count": 68,
   "metadata": {},
   "outputs": [
    {
     "data": {
      "text/plain": [
       "Index(['function_duties', 'narcissism_opponents', 'locus_of_control_13',\n",
       "       'locus_of_control_12', 'self_efficacy_motto', 'locus_of_control_10',\n",
       "       'selfesteem_respect', 'mdi_confidence', 'bfi_worry', 'worries_partner',\n",
       "       ...\n",
       "       'symptoms_headache', 'satisfaction_satisfied', 'alcohol_everyday',\n",
       "       'loneliness_together', 'locus_of_control_2', 'know_other',\n",
       "       'bfi_forgive', 'bfi_calm', 'selfesteem_proud', 'narcissism_excellent'],\n",
       "      dtype='object', length=286)"
      ]
     },
     "execution_count": 68,
     "metadata": {},
     "output_type": "execute_result"
    }
   ],
   "source": [
    "(df.filter(like='__answer_type') == 'radio').columns.str.replace('__answer_type', '')"
   ]
  },
  {
   "cell_type": "code",
   "execution_count": 69,
   "metadata": {},
   "outputs": [
    {
     "data": {
      "text/html": [
       "<div>\n",
       "<style scoped>\n",
       "    .dataframe tbody tr th:only-of-type {\n",
       "        vertical-align: middle;\n",
       "    }\n",
       "\n",
       "    .dataframe tbody tr th {\n",
       "        vertical-align: top;\n",
       "    }\n",
       "\n",
       "    .dataframe thead th {\n",
       "        text-align: right;\n",
       "    }\n",
       "</style>\n",
       "<table border=\"1\" class=\"dataframe\">\n",
       "  <thead>\n",
       "    <tr style=\"text-align: right;\">\n",
       "      <th></th>\n",
       "      <th>alcohol_everyday__answer</th>\n",
       "      <th>alcohol_everyday__answer_type</th>\n",
       "      <th>alcohol_everyday__question</th>\n",
       "      <th>alcohol_everyday__response</th>\n",
       "      <th>alcohol_everyday__condition</th>\n",
       "    </tr>\n",
       "  </thead>\n",
       "  <tbody>\n",
       "    <tr>\n",
       "      <th>0010fedde8e61cad5b049da6df8b5a</th>\n",
       "      <td>0.0</td>\n",
       "      <td>radio</td>\n",
       "      <td>Drukket dig fuld på en hverdagsaften/dag, hvor...</td>\n",
       "      <td>0 gange</td>\n",
       "      <td>alcohol_debut != 'Jeg har aldrig drukket alkohol'</td>\n",
       "    </tr>\n",
       "    <tr>\n",
       "      <th>002ee26a0c38a1f77b7cdeab8046cd</th>\n",
       "      <td>0.0</td>\n",
       "      <td>radio</td>\n",
       "      <td>Drukket dig fuld på en hverdagsaften/dag, hvor...</td>\n",
       "      <td>0 gange</td>\n",
       "      <td>alcohol_debut != 'Jeg har aldrig drukket alkohol'</td>\n",
       "    </tr>\n",
       "    <tr>\n",
       "      <th>0037c93a19a7e90580086b462ba11b</th>\n",
       "      <td>0.0</td>\n",
       "      <td>radio</td>\n",
       "      <td>Drukket dig fuld på en hverdagsaften/dag, hvor...</td>\n",
       "      <td>0 gange</td>\n",
       "      <td>alcohol_debut != 'Jeg har aldrig drukket alkohol'</td>\n",
       "    </tr>\n",
       "    <tr>\n",
       "      <th>005b1e0298bde6b726156aefb8d88c</th>\n",
       "      <td>0.0</td>\n",
       "      <td>radio</td>\n",
       "      <td>Drukket dig fuld på en hverdagsaften/dag, hvor...</td>\n",
       "      <td>0 gange</td>\n",
       "      <td>alcohol_debut != 'Jeg har aldrig drukket alkohol'</td>\n",
       "    </tr>\n",
       "    <tr>\n",
       "      <th>00ad591e46eb6f3d8c474d9de9e219</th>\n",
       "      <td>0.0</td>\n",
       "      <td>radio</td>\n",
       "      <td>Drukket dig fuld på en hverdagsaften/dag, hvor...</td>\n",
       "      <td>0 gange</td>\n",
       "      <td>alcohol_debut != 'Jeg har aldrig drukket alkohol'</td>\n",
       "    </tr>\n",
       "    <tr>\n",
       "      <th>00b602879b6f7d7e1d4223325e0cb2</th>\n",
       "      <td>0.0</td>\n",
       "      <td>radio</td>\n",
       "      <td>Drukket dig fuld på en hverdagsaften/dag, hvor...</td>\n",
       "      <td>0 gange</td>\n",
       "      <td>alcohol_debut != 'Jeg har aldrig drukket alkohol'</td>\n",
       "    </tr>\n",
       "    <tr>\n",
       "      <th>00f189f7091248c825f8dda0bc9d49</th>\n",
       "      <td>0.0</td>\n",
       "      <td>radio</td>\n",
       "      <td>Drukket dig fuld på en hverdagsaften/dag, hvor...</td>\n",
       "      <td>0 gange</td>\n",
       "      <td>alcohol_debut != 'Jeg har aldrig drukket alkohol'</td>\n",
       "    </tr>\n",
       "    <tr>\n",
       "      <th>0110f75c4a9998776f39d0ce7e5393</th>\n",
       "      <td>0.0</td>\n",
       "      <td>radio</td>\n",
       "      <td>Drukket dig fuld på en hverdagsaften/dag, hvor...</td>\n",
       "      <td>0 gange</td>\n",
       "      <td>alcohol_debut != 'Jeg har aldrig drukket alkohol'</td>\n",
       "    </tr>\n",
       "    <tr>\n",
       "      <th>012a5e138f69d2f344b9dceb7363e5</th>\n",
       "      <td>0.0</td>\n",
       "      <td>radio</td>\n",
       "      <td>Drukket dig fuld på en hverdagsaften/dag, hvor...</td>\n",
       "      <td>0 gange</td>\n",
       "      <td>alcohol_debut != 'Jeg har aldrig drukket alkohol'</td>\n",
       "    </tr>\n",
       "    <tr>\n",
       "      <th>01384258ba14c9f69775c93d5f37f7</th>\n",
       "      <td>0.0</td>\n",
       "      <td>radio</td>\n",
       "      <td>Drukket dig fuld på en hverdagsaften/dag, hvor...</td>\n",
       "      <td>0 gange</td>\n",
       "      <td>alcohol_debut != 'Jeg har aldrig drukket alkohol'</td>\n",
       "    </tr>\n",
       "    <tr>\n",
       "      <th>014813ebd3e875e031adf6ab717acc</th>\n",
       "      <td>1.0</td>\n",
       "      <td>radio</td>\n",
       "      <td>Drukket dig fuld på en hverdagsaften/dag, hvor...</td>\n",
       "      <td>1 gange</td>\n",
       "      <td>alcohol_debut != 'Jeg har aldrig drukket alkohol'</td>\n",
       "    </tr>\n",
       "    <tr>\n",
       "      <th>0149cde16952c52bd38550ba4e5c56</th>\n",
       "      <td>0.0</td>\n",
       "      <td>radio</td>\n",
       "      <td>Drukket dig fuld på en hverdagsaften/dag, hvor...</td>\n",
       "      <td>0 gange</td>\n",
       "      <td>alcohol_debut != 'Jeg har aldrig drukket alkohol'</td>\n",
       "    </tr>\n",
       "  </tbody>\n",
       "</table>\n",
       "</div>"
      ],
      "text/plain": [
       "                                alcohol_everyday__answer  \\\n",
       "0010fedde8e61cad5b049da6df8b5a                       0.0   \n",
       "002ee26a0c38a1f77b7cdeab8046cd                       0.0   \n",
       "0037c93a19a7e90580086b462ba11b                       0.0   \n",
       "005b1e0298bde6b726156aefb8d88c                       0.0   \n",
       "00ad591e46eb6f3d8c474d9de9e219                       0.0   \n",
       "00b602879b6f7d7e1d4223325e0cb2                       0.0   \n",
       "00f189f7091248c825f8dda0bc9d49                       0.0   \n",
       "0110f75c4a9998776f39d0ce7e5393                       0.0   \n",
       "012a5e138f69d2f344b9dceb7363e5                       0.0   \n",
       "01384258ba14c9f69775c93d5f37f7                       0.0   \n",
       "014813ebd3e875e031adf6ab717acc                       1.0   \n",
       "0149cde16952c52bd38550ba4e5c56                       0.0   \n",
       "\n",
       "                               alcohol_everyday__answer_type  \\\n",
       "0010fedde8e61cad5b049da6df8b5a                         radio   \n",
       "002ee26a0c38a1f77b7cdeab8046cd                         radio   \n",
       "0037c93a19a7e90580086b462ba11b                         radio   \n",
       "005b1e0298bde6b726156aefb8d88c                         radio   \n",
       "00ad591e46eb6f3d8c474d9de9e219                         radio   \n",
       "00b602879b6f7d7e1d4223325e0cb2                         radio   \n",
       "00f189f7091248c825f8dda0bc9d49                         radio   \n",
       "0110f75c4a9998776f39d0ce7e5393                         radio   \n",
       "012a5e138f69d2f344b9dceb7363e5                         radio   \n",
       "01384258ba14c9f69775c93d5f37f7                         radio   \n",
       "014813ebd3e875e031adf6ab717acc                         radio   \n",
       "0149cde16952c52bd38550ba4e5c56                         radio   \n",
       "\n",
       "                                                       alcohol_everyday__question  \\\n",
       "0010fedde8e61cad5b049da6df8b5a  Drukket dig fuld på en hverdagsaften/dag, hvor...   \n",
       "002ee26a0c38a1f77b7cdeab8046cd  Drukket dig fuld på en hverdagsaften/dag, hvor...   \n",
       "0037c93a19a7e90580086b462ba11b  Drukket dig fuld på en hverdagsaften/dag, hvor...   \n",
       "005b1e0298bde6b726156aefb8d88c  Drukket dig fuld på en hverdagsaften/dag, hvor...   \n",
       "00ad591e46eb6f3d8c474d9de9e219  Drukket dig fuld på en hverdagsaften/dag, hvor...   \n",
       "00b602879b6f7d7e1d4223325e0cb2  Drukket dig fuld på en hverdagsaften/dag, hvor...   \n",
       "00f189f7091248c825f8dda0bc9d49  Drukket dig fuld på en hverdagsaften/dag, hvor...   \n",
       "0110f75c4a9998776f39d0ce7e5393  Drukket dig fuld på en hverdagsaften/dag, hvor...   \n",
       "012a5e138f69d2f344b9dceb7363e5  Drukket dig fuld på en hverdagsaften/dag, hvor...   \n",
       "01384258ba14c9f69775c93d5f37f7  Drukket dig fuld på en hverdagsaften/dag, hvor...   \n",
       "014813ebd3e875e031adf6ab717acc  Drukket dig fuld på en hverdagsaften/dag, hvor...   \n",
       "0149cde16952c52bd38550ba4e5c56  Drukket dig fuld på en hverdagsaften/dag, hvor...   \n",
       "\n",
       "                               alcohol_everyday__response  \\\n",
       "0010fedde8e61cad5b049da6df8b5a                    0 gange   \n",
       "002ee26a0c38a1f77b7cdeab8046cd                    0 gange   \n",
       "0037c93a19a7e90580086b462ba11b                    0 gange   \n",
       "005b1e0298bde6b726156aefb8d88c                    0 gange   \n",
       "00ad591e46eb6f3d8c474d9de9e219                    0 gange   \n",
       "00b602879b6f7d7e1d4223325e0cb2                    0 gange   \n",
       "00f189f7091248c825f8dda0bc9d49                    0 gange   \n",
       "0110f75c4a9998776f39d0ce7e5393                    0 gange   \n",
       "012a5e138f69d2f344b9dceb7363e5                    0 gange   \n",
       "01384258ba14c9f69775c93d5f37f7                    0 gange   \n",
       "014813ebd3e875e031adf6ab717acc                    1 gange   \n",
       "0149cde16952c52bd38550ba4e5c56                    0 gange   \n",
       "\n",
       "                                                      alcohol_everyday__condition  \n",
       "0010fedde8e61cad5b049da6df8b5a  alcohol_debut != 'Jeg har aldrig drukket alkohol'  \n",
       "002ee26a0c38a1f77b7cdeab8046cd  alcohol_debut != 'Jeg har aldrig drukket alkohol'  \n",
       "0037c93a19a7e90580086b462ba11b  alcohol_debut != 'Jeg har aldrig drukket alkohol'  \n",
       "005b1e0298bde6b726156aefb8d88c  alcohol_debut != 'Jeg har aldrig drukket alkohol'  \n",
       "00ad591e46eb6f3d8c474d9de9e219  alcohol_debut != 'Jeg har aldrig drukket alkohol'  \n",
       "00b602879b6f7d7e1d4223325e0cb2  alcohol_debut != 'Jeg har aldrig drukket alkohol'  \n",
       "00f189f7091248c825f8dda0bc9d49  alcohol_debut != 'Jeg har aldrig drukket alkohol'  \n",
       "0110f75c4a9998776f39d0ce7e5393  alcohol_debut != 'Jeg har aldrig drukket alkohol'  \n",
       "012a5e138f69d2f344b9dceb7363e5  alcohol_debut != 'Jeg har aldrig drukket alkohol'  \n",
       "01384258ba14c9f69775c93d5f37f7  alcohol_debut != 'Jeg har aldrig drukket alkohol'  \n",
       "014813ebd3e875e031adf6ab717acc  alcohol_debut != 'Jeg har aldrig drukket alkohol'  \n",
       "0149cde16952c52bd38550ba4e5c56  alcohol_debut != 'Jeg har aldrig drukket alkohol'  "
      ]
     },
     "execution_count": 69,
     "metadata": {},
     "output_type": "execute_result"
    }
   ],
   "source": [
    "df.filter(like='alcohol_everyday').head(12)"
   ]
  },
  {
   "cell_type": "code",
   "execution_count": 70,
   "metadata": {},
   "outputs": [
    {
     "data": {
      "image/png": "[encoded data removed]",
      "text/plain": [
       "<matplotlib.figure.Figure at 0x7fd611e6f128>"
      ]
     },
     "metadata": {},
     "output_type": "display_data"
    }
   ],
   "source": [
    "null_ans = df.notnull() / df.shape[1]\n",
    "fig, ax = plt.subplots()\n",
    "ax.set_yscale('log')\n",
    "(null_ans.sum(axis=1)).plot.hist(80, ax=ax)\n",
    "ax.set_xlabel(\"Fraction of mon-Null entries\") \n",
    "ax.set_ylabel(\"Number of respondents\")\n",
    "plt.tight_layout() \n",
    "fig.savefig(fig_path + 'null_distribution_after_cleaning.pdf') "
   ]
  },
  {
   "cell_type": "markdown",
   "metadata": {},
   "source": [
    "# Resave cleaned data"
   ]
  },
  {
   "cell_type": "raw",
   "metadata": {},
   "source": [
    "base_save_path = '../../allan_data/RGender_cleaned'\n",
    "\n",
    "with open(base_save_path + '.json', 'w') as fid:\n",
    "    fid.write(df.to_json())\n",
    "df.to_csv(base_save_path + '.csv')\n",
    "df.to_csv(base_save_path + '.tsv', sep='\\t')\n",
    "\n",
    "filter_regex_list = ['answer', 'answer_type', 'question', 'condition', 'response', 'gender']\n",
    "for rx in filter_regex_list:\n",
    "    sub_df = df.filter(regex=rx + '$')\n",
    "    json_sub_df_str = sub_df.to_json()\n",
    "    with open(base_save_path + rx + '.json', 'w') as fid:\n",
    "        fid.write(json_sub_df_str)\n",
    "    sub_df.to_csv(base_save_path + rx + '.csv')\n",
    "    sub_df.to_csv(base_save_path + rx + '.tsv', sep='\\t')\n",
    "\n",
    "\n",
    "import subprocess\n",
    "import pathlib\n",
    "\n",
    "for ft in \"json csv tsv\".split():\n",
    "    call_str = 'zip -3 {bsp}_{ft}_files.zip {bsp}*.{ft}'.format(ft=ft, bsp=base_save_path)\n",
    "    subprocess.call(call_str, shell=True) \n",
    "\n",
    "for fl in pathlib.Path('../../allan_data').glob(\"*.?sv\"):\n",
    "    try:\n",
    "        os.remove(fl.resolve())\n",
    "    except OSError:\n",
    "        print(f\"Couldn't remove {fl}\") "
   ]
  },
  {
   "cell_type": "code",
   "execution_count": null,
   "metadata": {},
   "outputs": [],
   "source": []
  }
 ],
 "metadata": {
  "kernelspec": {
   "display_name": "Python 3",
   "language": "python",
   "name": "python3"
  },
  "language_info": {
   "codemirror_mode": {
    "name": "ipython",
    "version": 3
   },
   "file_extension": ".py",
   "mimetype": "text/x-python",
   "name": "python",
   "nbconvert_exporter": "python",
   "pygments_lexer": "ipython3",
   "version": "3.6.4"
  }
 },
 "nbformat": 4,
 "nbformat_minor": 2
}
