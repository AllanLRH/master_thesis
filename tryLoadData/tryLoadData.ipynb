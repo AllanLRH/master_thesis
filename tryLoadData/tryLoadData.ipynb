{
 "cells": [
  {
   "cell_type": "code",
   "execution_count": null,
   "metadata": {
    "collapsed": false
   },
   "outputs": [],
   "source": [
    "import os\n",
    "import sys\n",
    "import time\n",
    "sys.path.append(os.path.abspath(\"..\"))\n",
    "\n",
    "from speclib import pushbulletNotifier\n",
    "from speclib.loaders import loadUser, loadPythonSyntaxFile\n",
    "\n",
    "from collections import Counter"
   ]
  },
  {
   "cell_type": "code",
   "execution_count": null,
   "metadata": {
    "collapsed": false
   },
   "outputs": [],
   "source": [
    "dataPath = r\"/lscr_paper/allan/data/Telefon/userfiles\"\n",
    "userList = os.listdir(dataPath)"
   ]
  },
  {
   "cell_type": "code",
   "execution_count": null,
   "metadata": {
    "collapsed": false
   },
   "outputs": [],
   "source": [
    "userList[121]"
   ]
  },
  {
   "cell_type": "code",
   "execution_count": null,
   "metadata": {
    "collapsed": false
   },
   "outputs": [],
   "source": [
    "print(dataPath + \"/\" + userList[121])"
   ]
  },
  {
   "cell_type": "code",
   "execution_count": null,
   "metadata": {
    "collapsed": false
   },
   "outputs": [],
   "source": [
    "os.listdir(os.path.join(dataPath, userList[121]))"
   ]
  },
  {
   "cell_type": "code",
   "execution_count": null,
   "metadata": {
    "collapsed": false
   },
   "outputs": [],
   "source": [
    "usr0 = loadUser(userList[121])"
   ]
  },
  {
   "cell_type": "code",
   "execution_count": null,
   "metadata": {
    "collapsed": false
   },
   "outputs": [],
   "source": [
    "cl0 = list(loadPythonSyntaxFile(os.path.join(dataPath, userList[121], \"call_log.txt\")))"
   ]
  },
  {
   "cell_type": "code",
   "execution_count": null,
   "metadata": {
    "collapsed": false
   },
   "outputs": [],
   "source": [
    "cl1 = loadUser(userList[121], dataFilter=(\"call\",))[\"call\"]"
   ]
  },
  {
   "cell_type": "code",
   "execution_count": null,
   "metadata": {
    "collapsed": false
   },
   "outputs": [],
   "source": [
    "cl1 == cl0"
   ]
  },
  {
   "cell_type": "code",
   "execution_count": null,
   "metadata": {
    "collapsed": false
   },
   "outputs": [],
   "source": [
    "%timeit sms = loadUser(userList[121], dataFilter=('sms',))"
   ]
  },
  {
   "cell_type": "code",
   "execution_count": null,
   "metadata": {
    "collapsed": false
   },
   "outputs": [],
   "source": [
    "%timeit question = loadUser(userList[121], dataFilter=('question',))"
   ]
  },
  {
   "cell_type": "code",
   "execution_count": null,
   "metadata": {
    "collapsed": false
   },
   "outputs": [],
   "source": [
    "%timeit gps = loadUser(userList[121], dataFilter=('gps',))"
   ]
  },
  {
   "cell_type": "code",
   "execution_count": null,
   "metadata": {
    "collapsed": false
   },
   "outputs": [],
   "source": [
    "%timeit bluetooth = loadUser(userList[121], dataFilter=('bluetooth',))"
   ]
  },
  {
   "cell_type": "code",
   "execution_count": null,
   "metadata": {
    "collapsed": false
   },
   "outputs": [],
   "source": [
    "%timeit screen = loadUser(userList[121], dataFilter=('screen',))"
   ]
  },
  {
   "cell_type": "code",
   "execution_count": null,
   "metadata": {
    "collapsed": false
   },
   "outputs": [],
   "source": [
    "%timeit facebook = loadUser(userList[121], dataFilter=('facebook',))"
   ]
  },
  {
   "cell_type": "code",
   "execution_count": null,
   "metadata": {
    "collapsed": false
   },
   "outputs": [],
   "source": [
    "%timeit call = loadUser(userList[121], dataFilter=('call',))"
   ]
  },
  {
   "cell_type": "code",
   "execution_count": null,
   "metadata": {
    "collapsed": false
   },
   "outputs": [],
   "source": [
    "times = list()\n",
    "lengths = list()\n",
    "print(\"Cat\\tTime\\tLen\\tTime/Line\")\n",
    "for cat in ('sms', 'question', 'gps', 'bluetooth', 'screen', 'facebook', 'call'):\n",
    "    t0 = time.time()\n",
    "    data = loadUser(userList[121], dataFilter=(cat,))\n",
    "    t1 = time.time()\n",
    "    times.append(t1 - t0)\n",
    "    lengths.append(len(data[cat]))\n",
    "    print(\"{}\\t{:.3f}\\t{}\\t{:.3e} s\".format(cat[:min(len(cat), 6)], t1 - t0, len(data[cat]), (t1 - t0)/len(data[cat])))\n",
    "    \n",
    "%pylab inline\n",
    "mpl.style.use(\"bmh\")\n",
    "plot(times, lengths, '.')\n",
    "fit = np.polyfit(times, lengths, 1)\n",
    "timesArr = np.array(times)\n",
    "plot(timesArr, np.sum(fit*timesArr[:, np.newaxis], axis=1))\n",
    "gca().set_xlabel(\"Time [s]\")\n",
    "gca().set_ylabel(\"Dataset lenght\")"
   ]
  },
  {
   "cell_type": "code",
   "execution_count": null,
   "metadata": {
    "collapsed": false
   },
   "outputs": [],
   "source": []
  }
 ],
 "metadata": {
  "kernelspec": {
   "display_name": "Python 3",
   "language": "python",
   "name": "python3"
  },
  "language_info": {
   "codemirror_mode": {
    "name": "ipython",
    "version": 3
   },
   "file_extension": ".py",
   "mimetype": "text/x-python",
   "name": "python",
   "nbconvert_exporter": "python",
   "pygments_lexer": "ipython3",
   "version": "3.5.2"
  }
 },
 "nbformat": 4,
 "nbformat_minor": 0
}
