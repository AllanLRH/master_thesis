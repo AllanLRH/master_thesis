{
 "cells": [
  {
   "cell_type": "code",
   "execution_count": 1,
   "metadata": {},
   "outputs": [],
   "source": [
    "import sys\n",
    "import os\n",
    "sys.path.append(os.path.abspath(\"..\"))\n",
    "\n",
    "import numpy as np\n",
    "import pandas as pd\n",
    "import matplotlib as mpl\n",
    "import matplotlib.pyplot as plt\n",
    "import seaborn as sns\n",
    "import re\n",
    "sns.set(context='paper', style='whitegrid', color_codes=True, font_scale=1.8)\n",
    "colorcycle = [(0.498, 0.788, 0.498),\n",
    "              (0.745, 0.682, 0.831),\n",
    "              (0.992, 0.753, 0.525),\n",
    "              (0.220, 0.424, 0.690),\n",
    "              (0.749, 0.357, 0.090),\n",
    "              (1.000, 1.000, 0.600),\n",
    "              (0.941, 0.008, 0.498),\n",
    "              (0.400, 0.400, 0.400)]\n",
    "sns.set_palette(colorcycle)\n",
    "mpl.rcParams['figure.max_open_warning'] = 65\n",
    "mpl.rcParams['figure.figsize'] = [12, 7]\n",
    "\n",
    "from speclib import misc, plotting, loaders\n",
    "\n",
    "import json\n",
    "\n",
    "%matplotlib inline "
   ]
  },
  {
   "cell_type": "code",
   "execution_count": 2,
   "metadata": {},
   "outputs": [],
   "source": [
    "with open('../temp/userDataCount.json') as fid:\n",
    "    js = json.load(fid)\n",
    "\n",
    "\n",
    "data = dict(el.popitem() for el in js)\n",
    "\n",
    "df = pd.DataFrame(data).T"
   ]
  },
  {
   "cell_type": "code",
   "execution_count": 3,
   "metadata": {},
   "outputs": [
    {
     "data": {
      "text/html": [
       "<div>\n",
       "<table border=\"1\" class=\"dataframe\">\n",
       "  <thead>\n",
       "    <tr style=\"text-align: right;\">\n",
       "      <th></th>\n",
       "      <th>bluetooth_log.txt</th>\n",
       "      <th>call_log.p</th>\n",
       "      <th>call_log.txt</th>\n",
       "      <th>correlations.txt~</th>\n",
       "      <th>facebook_log.txt</th>\n",
       "      <th>gps_log.p</th>\n",
       "      <th>gps_log.txt</th>\n",
       "      <th>question_log.txt</th>\n",
       "      <th>screen_log.txt</th>\n",
       "      <th>sms_log.txt</th>\n",
       "    </tr>\n",
       "  </thead>\n",
       "  <tbody>\n",
       "    <tr>\n",
       "      <th>0010fedde8e61cad5b049da6df8b5a</th>\n",
       "      <td>52857.0</td>\n",
       "      <td>NaN</td>\n",
       "      <td>685.0</td>\n",
       "      <td>NaN</td>\n",
       "      <td>695.0</td>\n",
       "      <td>NaN</td>\n",
       "      <td>128968.0</td>\n",
       "      <td>289.0</td>\n",
       "      <td>12453.0</td>\n",
       "      <td>961.0</td>\n",
       "    </tr>\n",
       "    <tr>\n",
       "      <th>002ee26a0c38a1f77b7cdeab8046cd</th>\n",
       "      <td>0.0</td>\n",
       "      <td>NaN</td>\n",
       "      <td>0.0</td>\n",
       "      <td>NaN</td>\n",
       "      <td>319.0</td>\n",
       "      <td>NaN</td>\n",
       "      <td>0.0</td>\n",
       "      <td>292.0</td>\n",
       "      <td>0.0</td>\n",
       "      <td>0.0</td>\n",
       "    </tr>\n",
       "    <tr>\n",
       "      <th>0037c93a19a7e90580086b462ba11b</th>\n",
       "      <td>310610.0</td>\n",
       "      <td>NaN</td>\n",
       "      <td>716.0</td>\n",
       "      <td>NaN</td>\n",
       "      <td>310.0</td>\n",
       "      <td>NaN</td>\n",
       "      <td>442557.0</td>\n",
       "      <td>287.0</td>\n",
       "      <td>74577.0</td>\n",
       "      <td>3128.0</td>\n",
       "    </tr>\n",
       "    <tr>\n",
       "      <th>005b1e0298bde6b726156aefb8d88c</th>\n",
       "      <td>157415.0</td>\n",
       "      <td>NaN</td>\n",
       "      <td>618.0</td>\n",
       "      <td>NaN</td>\n",
       "      <td>165.0</td>\n",
       "      <td>NaN</td>\n",
       "      <td>42895.0</td>\n",
       "      <td>287.0</td>\n",
       "      <td>10714.0</td>\n",
       "      <td>614.0</td>\n",
       "    </tr>\n",
       "    <tr>\n",
       "      <th>009293317688cff54ad9ab799c4945</th>\n",
       "      <td>0.0</td>\n",
       "      <td>NaN</td>\n",
       "      <td>0.0</td>\n",
       "      <td>NaN</td>\n",
       "      <td>0.0</td>\n",
       "      <td>NaN</td>\n",
       "      <td>0.0</td>\n",
       "      <td>0.0</td>\n",
       "      <td>0.0</td>\n",
       "      <td>0.0</td>\n",
       "    </tr>\n",
       "  </tbody>\n",
       "</table>\n",
       "</div>"
      ],
      "text/plain": [
       "                                bluetooth_log.txt  call_log.p  call_log.txt  \\\n",
       "0010fedde8e61cad5b049da6df8b5a            52857.0         NaN         685.0   \n",
       "002ee26a0c38a1f77b7cdeab8046cd                0.0         NaN           0.0   \n",
       "0037c93a19a7e90580086b462ba11b           310610.0         NaN         716.0   \n",
       "005b1e0298bde6b726156aefb8d88c           157415.0         NaN         618.0   \n",
       "009293317688cff54ad9ab799c4945                0.0         NaN           0.0   \n",
       "\n",
       "                                correlations.txt~  facebook_log.txt  \\\n",
       "0010fedde8e61cad5b049da6df8b5a                NaN             695.0   \n",
       "002ee26a0c38a1f77b7cdeab8046cd                NaN             319.0   \n",
       "0037c93a19a7e90580086b462ba11b                NaN             310.0   \n",
       "005b1e0298bde6b726156aefb8d88c                NaN             165.0   \n",
       "009293317688cff54ad9ab799c4945                NaN               0.0   \n",
       "\n",
       "                                gps_log.p  gps_log.txt  question_log.txt  \\\n",
       "0010fedde8e61cad5b049da6df8b5a        NaN     128968.0             289.0   \n",
       "002ee26a0c38a1f77b7cdeab8046cd        NaN          0.0             292.0   \n",
       "0037c93a19a7e90580086b462ba11b        NaN     442557.0             287.0   \n",
       "005b1e0298bde6b726156aefb8d88c        NaN      42895.0             287.0   \n",
       "009293317688cff54ad9ab799c4945        NaN          0.0               0.0   \n",
       "\n",
       "                                screen_log.txt  sms_log.txt  \n",
       "0010fedde8e61cad5b049da6df8b5a         12453.0        961.0  \n",
       "002ee26a0c38a1f77b7cdeab8046cd             0.0          0.0  \n",
       "0037c93a19a7e90580086b462ba11b         74577.0       3128.0  \n",
       "005b1e0298bde6b726156aefb8d88c         10714.0        614.0  \n",
       "009293317688cff54ad9ab799c4945             0.0          0.0  "
      ]
     },
     "execution_count": 3,
     "metadata": {},
     "output_type": "execute_result"
    }
   ],
   "source": [
    "df.head() "
   ]
  },
  {
   "cell_type": "code",
   "execution_count": 4,
   "metadata": {
    "collapsed": true
   },
   "outputs": [],
   "source": [
    "df.drop('correlations.txt~', axis=1, inplace=True)\n",
    "df.drop('call_log.p', axis=1, inplace=True)\n",
    "df.drop('gps_log.p', axis=1, inplace=True)"
   ]
  },
  {
   "cell_type": "code",
   "execution_count": 5,
   "metadata": {
    "collapsed": true
   },
   "outputs": [],
   "source": [
    "df.replace(0.0, np.NaN, inplace=True)"
   ]
  },
  {
   "cell_type": "code",
   "execution_count": 6,
   "metadata": {
    "collapsed": true
   },
   "outputs": [],
   "source": [
    "df.rename(columns=lambda s: s.split('_')[0], inplace=True)"
   ]
  },
  {
   "cell_type": "code",
   "execution_count": 7,
   "metadata": {},
   "outputs": [
    {
     "data": {
      "text/html": [
       "<div>\n",
       "<table border=\"1\" class=\"dataframe\">\n",
       "  <thead>\n",
       "    <tr style=\"text-align: right;\">\n",
       "      <th></th>\n",
       "      <th>bluetooth</th>\n",
       "      <th>call</th>\n",
       "      <th>facebook</th>\n",
       "      <th>gps</th>\n",
       "      <th>question</th>\n",
       "      <th>screen</th>\n",
       "      <th>sms</th>\n",
       "    </tr>\n",
       "  </thead>\n",
       "  <tbody>\n",
       "    <tr>\n",
       "      <th>0010fedde8e61cad5b049da6df8b5a</th>\n",
       "      <td>52857.0</td>\n",
       "      <td>685.0</td>\n",
       "      <td>695.0</td>\n",
       "      <td>128968.0</td>\n",
       "      <td>289.0</td>\n",
       "      <td>12453.0</td>\n",
       "      <td>961.0</td>\n",
       "    </tr>\n",
       "    <tr>\n",
       "      <th>002ee26a0c38a1f77b7cdeab8046cd</th>\n",
       "      <td>NaN</td>\n",
       "      <td>NaN</td>\n",
       "      <td>319.0</td>\n",
       "      <td>NaN</td>\n",
       "      <td>292.0</td>\n",
       "      <td>NaN</td>\n",
       "      <td>NaN</td>\n",
       "    </tr>\n",
       "    <tr>\n",
       "      <th>0037c93a19a7e90580086b462ba11b</th>\n",
       "      <td>310610.0</td>\n",
       "      <td>716.0</td>\n",
       "      <td>310.0</td>\n",
       "      <td>442557.0</td>\n",
       "      <td>287.0</td>\n",
       "      <td>74577.0</td>\n",
       "      <td>3128.0</td>\n",
       "    </tr>\n",
       "    <tr>\n",
       "      <th>005b1e0298bde6b726156aefb8d88c</th>\n",
       "      <td>157415.0</td>\n",
       "      <td>618.0</td>\n",
       "      <td>165.0</td>\n",
       "      <td>42895.0</td>\n",
       "      <td>287.0</td>\n",
       "      <td>10714.0</td>\n",
       "      <td>614.0</td>\n",
       "    </tr>\n",
       "    <tr>\n",
       "      <th>009293317688cff54ad9ab799c4945</th>\n",
       "      <td>NaN</td>\n",
       "      <td>NaN</td>\n",
       "      <td>NaN</td>\n",
       "      <td>NaN</td>\n",
       "      <td>NaN</td>\n",
       "      <td>NaN</td>\n",
       "      <td>NaN</td>\n",
       "    </tr>\n",
       "  </tbody>\n",
       "</table>\n",
       "</div>"
      ],
      "text/plain": [
       "                                bluetooth   call  facebook       gps  \\\n",
       "0010fedde8e61cad5b049da6df8b5a    52857.0  685.0     695.0  128968.0   \n",
       "002ee26a0c38a1f77b7cdeab8046cd        NaN    NaN     319.0       NaN   \n",
       "0037c93a19a7e90580086b462ba11b   310610.0  716.0     310.0  442557.0   \n",
       "005b1e0298bde6b726156aefb8d88c   157415.0  618.0     165.0   42895.0   \n",
       "009293317688cff54ad9ab799c4945        NaN    NaN       NaN       NaN   \n",
       "\n",
       "                                question   screen     sms  \n",
       "0010fedde8e61cad5b049da6df8b5a     289.0  12453.0   961.0  \n",
       "002ee26a0c38a1f77b7cdeab8046cd     292.0      NaN     NaN  \n",
       "0037c93a19a7e90580086b462ba11b     287.0  74577.0  3128.0  \n",
       "005b1e0298bde6b726156aefb8d88c     287.0  10714.0   614.0  \n",
       "009293317688cff54ad9ab799c4945       NaN      NaN     NaN  "
      ]
     },
     "execution_count": 7,
     "metadata": {},
     "output_type": "execute_result"
    }
   ],
   "source": [
    "df.head() "
   ]
  },
  {
   "cell_type": "code",
   "execution_count": 8,
   "metadata": {},
   "outputs": [
    {
     "data": {
      "text/plain": [
       "<matplotlib.axes._subplots.AxesSubplot at 0x7f0aafbb29e8>"
      ]
     },
     "execution_count": 8,
     "metadata": {},
     "output_type": "execute_result"
    },
    {
     "data": {
      "image/png": "[encoded data removed]",
      "text/plain": [
       "<matplotlib.figure.Figure at 0x7f0aec27d198>"
      ]
     },
     "metadata": {},
     "output_type": "display_data"
    }
   ],
   "source": [
    "df.isnull().sum(axis=1).value_counts().sort_index().plot.bar() "
   ]
  },
  {
   "cell_type": "code",
   "execution_count": 9,
   "metadata": {
    "collapsed": true
   },
   "outputs": [],
   "source": [
    "df = df[df.bluetooth.notnull()] "
   ]
  },
  {
   "cell_type": "code",
   "execution_count": 10,
   "metadata": {},
   "outputs": [
    {
     "data": {
      "text/html": [
       "<div>\n",
       "<table border=\"1\" class=\"dataframe\">\n",
       "  <thead>\n",
       "    <tr style=\"text-align: right;\">\n",
       "      <th></th>\n",
       "      <th>bluetooth</th>\n",
       "      <th>call</th>\n",
       "      <th>facebook</th>\n",
       "      <th>gps</th>\n",
       "      <th>question</th>\n",
       "      <th>screen</th>\n",
       "      <th>sms</th>\n",
       "    </tr>\n",
       "  </thead>\n",
       "  <tbody>\n",
       "    <tr>\n",
       "      <th>0010fedde8e61cad5b049da6df8b5a</th>\n",
       "      <td>52857.0</td>\n",
       "      <td>685.0</td>\n",
       "      <td>695.0</td>\n",
       "      <td>128968.0</td>\n",
       "      <td>289.0</td>\n",
       "      <td>12453.0</td>\n",
       "      <td>961.0</td>\n",
       "    </tr>\n",
       "    <tr>\n",
       "      <th>0037c93a19a7e90580086b462ba11b</th>\n",
       "      <td>310610.0</td>\n",
       "      <td>716.0</td>\n",
       "      <td>310.0</td>\n",
       "      <td>442557.0</td>\n",
       "      <td>287.0</td>\n",
       "      <td>74577.0</td>\n",
       "      <td>3128.0</td>\n",
       "    </tr>\n",
       "    <tr>\n",
       "      <th>005b1e0298bde6b726156aefb8d88c</th>\n",
       "      <td>157415.0</td>\n",
       "      <td>618.0</td>\n",
       "      <td>165.0</td>\n",
       "      <td>42895.0</td>\n",
       "      <td>287.0</td>\n",
       "      <td>10714.0</td>\n",
       "      <td>614.0</td>\n",
       "    </tr>\n",
       "    <tr>\n",
       "      <th>00ad591e46eb6f3d8c474d9de9e219</th>\n",
       "      <td>3018.0</td>\n",
       "      <td>5.0</td>\n",
       "      <td>122.0</td>\n",
       "      <td>2424.0</td>\n",
       "      <td>284.0</td>\n",
       "      <td>301.0</td>\n",
       "      <td>26.0</td>\n",
       "    </tr>\n",
       "    <tr>\n",
       "      <th>00b602879b6f7d7e1d4223325e0cb2</th>\n",
       "      <td>165227.0</td>\n",
       "      <td>1222.0</td>\n",
       "      <td>406.0</td>\n",
       "      <td>452166.0</td>\n",
       "      <td>287.0</td>\n",
       "      <td>107382.0</td>\n",
       "      <td>19685.0</td>\n",
       "    </tr>\n",
       "  </tbody>\n",
       "</table>\n",
       "</div>"
      ],
      "text/plain": [
       "                                bluetooth    call  facebook       gps  \\\n",
       "0010fedde8e61cad5b049da6df8b5a    52857.0   685.0     695.0  128968.0   \n",
       "0037c93a19a7e90580086b462ba11b   310610.0   716.0     310.0  442557.0   \n",
       "005b1e0298bde6b726156aefb8d88c   157415.0   618.0     165.0   42895.0   \n",
       "00ad591e46eb6f3d8c474d9de9e219     3018.0     5.0     122.0    2424.0   \n",
       "00b602879b6f7d7e1d4223325e0cb2   165227.0  1222.0     406.0  452166.0   \n",
       "\n",
       "                                question    screen      sms  \n",
       "0010fedde8e61cad5b049da6df8b5a     289.0   12453.0    961.0  \n",
       "0037c93a19a7e90580086b462ba11b     287.0   74577.0   3128.0  \n",
       "005b1e0298bde6b726156aefb8d88c     287.0   10714.0    614.0  \n",
       "00ad591e46eb6f3d8c474d9de9e219     284.0     301.0     26.0  \n",
       "00b602879b6f7d7e1d4223325e0cb2     287.0  107382.0  19685.0  "
      ]
     },
     "execution_count": 10,
     "metadata": {},
     "output_type": "execute_result"
    }
   ],
   "source": [
    "df.head() "
   ]
  },
  {
   "cell_type": "code",
   "execution_count": 11,
   "metadata": {
    "collapsed": true
   },
   "outputs": [],
   "source": [
    "def load_bluetooth(user):\n",
    "    try:\n",
    "        with open(f'/lscr_paper/allan/telephone/{user}/bluetooth.json') as fid:\n",
    "            data = json.load(fid)\n",
    "        return data['bluetooth']\n",
    "    except Exception as err:\n",
    "        print(f\"Couldn't read user {user}\")\n",
    "        print(err)"
   ]
  },
  {
   "cell_type": "code",
   "execution_count": 12,
   "metadata": {},
   "outputs": [],
   "source": [
    "btdata = load_bluetooth('005b1e0298bde6b726156aefb8d88c')"
   ]
  },
  {
   "cell_type": "code",
   "execution_count": 13,
   "metadata": {},
   "outputs": [
    {
     "data": {
      "text/plain": [
       "list"
      ]
     },
     "execution_count": 13,
     "metadata": {},
     "output_type": "execute_result"
    }
   ],
   "source": [
    "type(btdata)"
   ]
  },
  {
   "cell_type": "code",
   "execution_count": 14,
   "metadata": {},
   "outputs": [
    {
     "data": {
      "text/plain": [
       "157415"
      ]
     },
     "execution_count": 14,
     "metadata": {},
     "output_type": "execute_result"
    }
   ],
   "source": [
    "len(btdata)"
   ]
  },
  {
   "cell_type": "code",
   "execution_count": 15,
   "metadata": {},
   "outputs": [
    {
     "data": {
      "text/plain": [
       "[{'bt_mac': '4c36ea4587be91d7c3049875b72bc3476ad709647ef75b6aef1d097ca0f5f3e4',\n",
       "  'class': 7209228,\n",
       "  'id': 1462053,\n",
       "  'name': 'a64b876d4acaa00e05161e53e841812f',\n",
       "  'rssi': -87,\n",
       "  'scanned_user': '',\n",
       "  'timestamp': 1378384175,\n",
       "  'user': '005b1e0298bde6b726156aefb8d88c'},\n",
       " {'bt_mac': 'e06d76f943fa3c51fedadaebfa93f9c6b3c008c1c2953fb0fde3d1aeeefd6a7e',\n",
       "  'class': 4063500,\n",
       "  'id': 1462054,\n",
       "  'name': 'eb5892246909a732ab610298c58165cb',\n",
       "  'rssi': -88,\n",
       "  'scanned_user': '',\n",
       "  'timestamp': 1378384175,\n",
       "  'user': '005b1e0298bde6b726156aefb8d88c'},\n",
       " {'bt_mac': '0b23db220425ec73e369071268354b3f4ae2650cb7ca6b68ef3edb28dc1781e1',\n",
       "  'class': 5898764,\n",
       "  'id': 1462055,\n",
       "  'name': None,\n",
       "  'rssi': -82,\n",
       "  'scanned_user': 'f0ef3769fb2311ca15726c9bdfb5eb',\n",
       "  'timestamp': 1378384175,\n",
       "  'user': '005b1e0298bde6b726156aefb8d88c'}]"
      ]
     },
     "execution_count": 15,
     "metadata": {},
     "output_type": "execute_result"
    }
   ],
   "source": [
    "btdata[:3]"
   ]
  },
  {
   "cell_type": "code",
   "execution_count": 16,
   "metadata": {},
   "outputs": [
    {
     "data": {
      "text/html": [
       "<div>\n",
       "<table border=\"1\" class=\"dataframe\">\n",
       "  <thead>\n",
       "    <tr style=\"text-align: right;\">\n",
       "      <th></th>\n",
       "      <th>bt_mac</th>\n",
       "      <th>class</th>\n",
       "      <th>id</th>\n",
       "      <th>name</th>\n",
       "      <th>rssi</th>\n",
       "      <th>scanned_user</th>\n",
       "      <th>timestamp</th>\n",
       "      <th>user</th>\n",
       "    </tr>\n",
       "  </thead>\n",
       "  <tbody>\n",
       "    <tr>\n",
       "      <th>0</th>\n",
       "      <td>4c36ea4587be91d7c3049875b72bc3476ad709647ef75b...</td>\n",
       "      <td>7209228</td>\n",
       "      <td>1462053</td>\n",
       "      <td>a64b876d4acaa00e05161e53e841812f</td>\n",
       "      <td>-87</td>\n",
       "      <td></td>\n",
       "      <td>1378384175</td>\n",
       "      <td>005b1e0298bde6b726156aefb8d88c</td>\n",
       "    </tr>\n",
       "    <tr>\n",
       "      <th>1</th>\n",
       "      <td>e06d76f943fa3c51fedadaebfa93f9c6b3c008c1c2953f...</td>\n",
       "      <td>4063500</td>\n",
       "      <td>1462054</td>\n",
       "      <td>eb5892246909a732ab610298c58165cb</td>\n",
       "      <td>-88</td>\n",
       "      <td></td>\n",
       "      <td>1378384175</td>\n",
       "      <td>005b1e0298bde6b726156aefb8d88c</td>\n",
       "    </tr>\n",
       "    <tr>\n",
       "      <th>2</th>\n",
       "      <td>0b23db220425ec73e369071268354b3f4ae2650cb7ca6b...</td>\n",
       "      <td>5898764</td>\n",
       "      <td>1462055</td>\n",
       "      <td>None</td>\n",
       "      <td>-82</td>\n",
       "      <td>f0ef3769fb2311ca15726c9bdfb5eb</td>\n",
       "      <td>1378384175</td>\n",
       "      <td>005b1e0298bde6b726156aefb8d88c</td>\n",
       "    </tr>\n",
       "    <tr>\n",
       "      <th>3</th>\n",
       "      <td>f8611c32163849aeb881f531ec64313dbde0cbf45a1ac3...</td>\n",
       "      <td>5898764</td>\n",
       "      <td>1462056</td>\n",
       "      <td>None</td>\n",
       "      <td>-87</td>\n",
       "      <td>2c4ad2fe7726d1a9e2c60bc58be868</td>\n",
       "      <td>1378384175</td>\n",
       "      <td>005b1e0298bde6b726156aefb8d88c</td>\n",
       "    </tr>\n",
       "    <tr>\n",
       "      <th>4</th>\n",
       "      <td>ae0a9b29bbc47690eeae87d7dea0788e44be79b4507d13...</td>\n",
       "      <td>5898764</td>\n",
       "      <td>1462057</td>\n",
       "      <td>d565ccd0b683ad49f3d1cdd5d02ae79e</td>\n",
       "      <td>-82</td>\n",
       "      <td>b7b98e1489e735d8ce4d30348efcc9</td>\n",
       "      <td>1378384175</td>\n",
       "      <td>005b1e0298bde6b726156aefb8d88c</td>\n",
       "    </tr>\n",
       "  </tbody>\n",
       "</table>\n",
       "</div>"
      ],
      "text/plain": [
       "                                              bt_mac    class       id  \\\n",
       "0  4c36ea4587be91d7c3049875b72bc3476ad709647ef75b...  7209228  1462053   \n",
       "1  e06d76f943fa3c51fedadaebfa93f9c6b3c008c1c2953f...  4063500  1462054   \n",
       "2  0b23db220425ec73e369071268354b3f4ae2650cb7ca6b...  5898764  1462055   \n",
       "3  f8611c32163849aeb881f531ec64313dbde0cbf45a1ac3...  5898764  1462056   \n",
       "4  ae0a9b29bbc47690eeae87d7dea0788e44be79b4507d13...  5898764  1462057   \n",
       "\n",
       "                               name  rssi                    scanned_user  \\\n",
       "0  a64b876d4acaa00e05161e53e841812f   -87                                   \n",
       "1  eb5892246909a732ab610298c58165cb   -88                                   \n",
       "2                              None   -82  f0ef3769fb2311ca15726c9bdfb5eb   \n",
       "3                              None   -87  2c4ad2fe7726d1a9e2c60bc58be868   \n",
       "4  d565ccd0b683ad49f3d1cdd5d02ae79e   -82  b7b98e1489e735d8ce4d30348efcc9   \n",
       "\n",
       "    timestamp                            user  \n",
       "0  1378384175  005b1e0298bde6b726156aefb8d88c  \n",
       "1  1378384175  005b1e0298bde6b726156aefb8d88c  \n",
       "2  1378384175  005b1e0298bde6b726156aefb8d88c  \n",
       "3  1378384175  005b1e0298bde6b726156aefb8d88c  \n",
       "4  1378384175  005b1e0298bde6b726156aefb8d88c  "
      ]
     },
     "execution_count": 16,
     "metadata": {},
     "output_type": "execute_result"
    }
   ],
   "source": [
    "df = pd.DataFrame(btdata)\n",
    "\n",
    "df.head()"
   ]
  },
  {
   "cell_type": "code",
   "execution_count": 17,
   "metadata": {
    "collapsed": true
   },
   "outputs": [],
   "source": [
    "df['timestamp'] = df.timestamp.astype('datetime64[s]')"
   ]
  },
  {
   "cell_type": "code",
   "execution_count": 18,
   "metadata": {},
   "outputs": [
    {
     "data": {
      "text/html": [
       "<div>\n",
       "<table border=\"1\" class=\"dataframe\">\n",
       "  <thead>\n",
       "    <tr style=\"text-align: right;\">\n",
       "      <th></th>\n",
       "      <th>bt_mac</th>\n",
       "      <th>class</th>\n",
       "      <th>id</th>\n",
       "      <th>name</th>\n",
       "      <th>rssi</th>\n",
       "      <th>scanned_user</th>\n",
       "      <th>timestamp</th>\n",
       "      <th>user</th>\n",
       "    </tr>\n",
       "  </thead>\n",
       "  <tbody>\n",
       "    <tr>\n",
       "      <th>0</th>\n",
       "      <td>4c36ea4587be91d7c3049875b72bc3476ad709647ef75b...</td>\n",
       "      <td>7209228</td>\n",
       "      <td>1462053</td>\n",
       "      <td>a64b876d4acaa00e05161e53e841812f</td>\n",
       "      <td>-87</td>\n",
       "      <td></td>\n",
       "      <td>2013-09-05 12:29:35</td>\n",
       "      <td>005b1e0298bde6b726156aefb8d88c</td>\n",
       "    </tr>\n",
       "    <tr>\n",
       "      <th>1</th>\n",
       "      <td>e06d76f943fa3c51fedadaebfa93f9c6b3c008c1c2953f...</td>\n",
       "      <td>4063500</td>\n",
       "      <td>1462054</td>\n",
       "      <td>eb5892246909a732ab610298c58165cb</td>\n",
       "      <td>-88</td>\n",
       "      <td></td>\n",
       "      <td>2013-09-05 12:29:35</td>\n",
       "      <td>005b1e0298bde6b726156aefb8d88c</td>\n",
       "    </tr>\n",
       "    <tr>\n",
       "      <th>2</th>\n",
       "      <td>0b23db220425ec73e369071268354b3f4ae2650cb7ca6b...</td>\n",
       "      <td>5898764</td>\n",
       "      <td>1462055</td>\n",
       "      <td>None</td>\n",
       "      <td>-82</td>\n",
       "      <td>f0ef3769fb2311ca15726c9bdfb5eb</td>\n",
       "      <td>2013-09-05 12:29:35</td>\n",
       "      <td>005b1e0298bde6b726156aefb8d88c</td>\n",
       "    </tr>\n",
       "    <tr>\n",
       "      <th>3</th>\n",
       "      <td>f8611c32163849aeb881f531ec64313dbde0cbf45a1ac3...</td>\n",
       "      <td>5898764</td>\n",
       "      <td>1462056</td>\n",
       "      <td>None</td>\n",
       "      <td>-87</td>\n",
       "      <td>2c4ad2fe7726d1a9e2c60bc58be868</td>\n",
       "      <td>2013-09-05 12:29:35</td>\n",
       "      <td>005b1e0298bde6b726156aefb8d88c</td>\n",
       "    </tr>\n",
       "    <tr>\n",
       "      <th>4</th>\n",
       "      <td>ae0a9b29bbc47690eeae87d7dea0788e44be79b4507d13...</td>\n",
       "      <td>5898764</td>\n",
       "      <td>1462057</td>\n",
       "      <td>d565ccd0b683ad49f3d1cdd5d02ae79e</td>\n",
       "      <td>-82</td>\n",
       "      <td>b7b98e1489e735d8ce4d30348efcc9</td>\n",
       "      <td>2013-09-05 12:29:35</td>\n",
       "      <td>005b1e0298bde6b726156aefb8d88c</td>\n",
       "    </tr>\n",
       "  </tbody>\n",
       "</table>\n",
       "</div>"
      ],
      "text/plain": [
       "                                              bt_mac    class       id  \\\n",
       "0  4c36ea4587be91d7c3049875b72bc3476ad709647ef75b...  7209228  1462053   \n",
       "1  e06d76f943fa3c51fedadaebfa93f9c6b3c008c1c2953f...  4063500  1462054   \n",
       "2  0b23db220425ec73e369071268354b3f4ae2650cb7ca6b...  5898764  1462055   \n",
       "3  f8611c32163849aeb881f531ec64313dbde0cbf45a1ac3...  5898764  1462056   \n",
       "4  ae0a9b29bbc47690eeae87d7dea0788e44be79b4507d13...  5898764  1462057   \n",
       "\n",
       "                               name  rssi                    scanned_user  \\\n",
       "0  a64b876d4acaa00e05161e53e841812f   -87                                   \n",
       "1  eb5892246909a732ab610298c58165cb   -88                                   \n",
       "2                              None   -82  f0ef3769fb2311ca15726c9bdfb5eb   \n",
       "3                              None   -87  2c4ad2fe7726d1a9e2c60bc58be868   \n",
       "4  d565ccd0b683ad49f3d1cdd5d02ae79e   -82  b7b98e1489e735d8ce4d30348efcc9   \n",
       "\n",
       "            timestamp                            user  \n",
       "0 2013-09-05 12:29:35  005b1e0298bde6b726156aefb8d88c  \n",
       "1 2013-09-05 12:29:35  005b1e0298bde6b726156aefb8d88c  \n",
       "2 2013-09-05 12:29:35  005b1e0298bde6b726156aefb8d88c  \n",
       "3 2013-09-05 12:29:35  005b1e0298bde6b726156aefb8d88c  \n",
       "4 2013-09-05 12:29:35  005b1e0298bde6b726156aefb8d88c  "
      ]
     },
     "execution_count": 18,
     "metadata": {},
     "output_type": "execute_result"
    }
   ],
   "source": [
    "df.head()"
   ]
  },
  {
   "cell_type": "code",
   "execution_count": 19,
   "metadata": {},
   "outputs": [
    {
     "data": {
      "text/plain": [
       "<matplotlib.axes._subplots.AxesSubplot at 0x7f0aaae972e8>"
      ]
     },
     "execution_count": 19,
     "metadata": {},
     "output_type": "execute_result"
    },
    {
     "data": {
      "image/png": "[encoded data removed]",
      "text/plain": [
       "<matplotlib.figure.Figure at 0x7f0aad43b940>"
      ]
     },
     "metadata": {},
     "output_type": "display_data"
    }
   ],
   "source": [
    "df.rssi.plot.hist(60)"
   ]
  },
  {
   "cell_type": "code",
   "execution_count": 20,
   "metadata": {
    "collapsed": true
   },
   "outputs": [],
   "source": [
    "df = df[df.bt_mac != '-1']"
   ]
  },
  {
   "cell_type": "code",
   "execution_count": 21,
   "metadata": {},
   "outputs": [
    {
     "data": {
      "text/plain": [
       "<matplotlib.axes._subplots.AxesSubplot at 0x7f0aaaeccd30>"
      ]
     },
     "execution_count": 21,
     "metadata": {},
     "output_type": "execute_result"
    },
    {
     "data": {
      "image/png": "[encoded data removed]",
      "text/plain": [
       "<matplotlib.figure.Figure at 0x7f0aafb83550>"
      ]
     },
     "metadata": {},
     "output_type": "display_data"
    }
   ],
   "source": [
    "df.rssi.plot.hist(60) "
   ]
  },
  {
   "cell_type": "code",
   "execution_count": 22,
   "metadata": {},
   "outputs": [
    {
     "data": {
      "text/plain": [
       "0"
      ]
     },
     "execution_count": 22,
     "metadata": {},
     "output_type": "execute_result"
    }
   ],
   "source": [
    "df.bt_mac.isnull().sum() "
   ]
  },
  {
   "cell_type": "code",
   "execution_count": 23,
   "metadata": {
    "collapsed": true
   },
   "outputs": [],
   "source": [
    "userSet = set(el for el in os.listdir('../../telephone') if len(el) == 30)"
   ]
  },
  {
   "cell_type": "code",
   "execution_count": 24,
   "metadata": {
    "collapsed": true
   },
   "outputs": [],
   "source": [
    "df = df[df.scanned_user.isin(userSet)]"
   ]
  },
  {
   "cell_type": "code",
   "execution_count": 25,
   "metadata": {
    "collapsed": true
   },
   "outputs": [],
   "source": [
    "df = df.set_index('timestamp')"
   ]
  },
  {
   "cell_type": "code",
   "execution_count": 26,
   "metadata": {},
   "outputs": [
    {
     "data": {
      "text/html": [
       "<div>\n",
       "<table border=\"1\" class=\"dataframe\">\n",
       "  <thead>\n",
       "    <tr style=\"text-align: right;\">\n",
       "      <th></th>\n",
       "      <th>bt_mac</th>\n",
       "      <th>class</th>\n",
       "      <th>id</th>\n",
       "      <th>name</th>\n",
       "      <th>rssi</th>\n",
       "      <th>scanned_user</th>\n",
       "      <th>user</th>\n",
       "    </tr>\n",
       "    <tr>\n",
       "      <th>timestamp</th>\n",
       "      <th></th>\n",
       "      <th></th>\n",
       "      <th></th>\n",
       "      <th></th>\n",
       "      <th></th>\n",
       "      <th></th>\n",
       "      <th></th>\n",
       "    </tr>\n",
       "  </thead>\n",
       "  <tbody>\n",
       "    <tr>\n",
       "      <th>2013-09-05 12:29:35</th>\n",
       "      <td>0b23db220425ec73e369071268354b3f4ae2650cb7ca6b...</td>\n",
       "      <td>5898764</td>\n",
       "      <td>1462055</td>\n",
       "      <td>None</td>\n",
       "      <td>-82</td>\n",
       "      <td>f0ef3769fb2311ca15726c9bdfb5eb</td>\n",
       "      <td>005b1e0298bde6b726156aefb8d88c</td>\n",
       "    </tr>\n",
       "    <tr>\n",
       "      <th>2013-09-05 12:29:35</th>\n",
       "      <td>f8611c32163849aeb881f531ec64313dbde0cbf45a1ac3...</td>\n",
       "      <td>5898764</td>\n",
       "      <td>1462056</td>\n",
       "      <td>None</td>\n",
       "      <td>-87</td>\n",
       "      <td>2c4ad2fe7726d1a9e2c60bc58be868</td>\n",
       "      <td>005b1e0298bde6b726156aefb8d88c</td>\n",
       "    </tr>\n",
       "    <tr>\n",
       "      <th>2013-09-05 12:29:35</th>\n",
       "      <td>ae0a9b29bbc47690eeae87d7dea0788e44be79b4507d13...</td>\n",
       "      <td>5898764</td>\n",
       "      <td>1462057</td>\n",
       "      <td>d565ccd0b683ad49f3d1cdd5d02ae79e</td>\n",
       "      <td>-82</td>\n",
       "      <td>b7b98e1489e735d8ce4d30348efcc9</td>\n",
       "      <td>005b1e0298bde6b726156aefb8d88c</td>\n",
       "    </tr>\n",
       "    <tr>\n",
       "      <th>2013-09-05 12:29:35</th>\n",
       "      <td>662085e9e762e5452ed30d85ea2cedc0793c7c59b07519...</td>\n",
       "      <td>5898764</td>\n",
       "      <td>1462060</td>\n",
       "      <td>d565ccd0b683ad49f3d1cdd5d02ae79e</td>\n",
       "      <td>-82</td>\n",
       "      <td>48af4a10320be434da71b1ae045fd1</td>\n",
       "      <td>005b1e0298bde6b726156aefb8d88c</td>\n",
       "    </tr>\n",
       "    <tr>\n",
       "      <th>2013-09-05 12:29:35</th>\n",
       "      <td>b58f4485bcf37ccb6fe05032b1bed9f4914a1903bb5f48...</td>\n",
       "      <td>5898764</td>\n",
       "      <td>1462061</td>\n",
       "      <td>None</td>\n",
       "      <td>-81</td>\n",
       "      <td>2626d4ba091a17213934b2bc2ade22</td>\n",
       "      <td>005b1e0298bde6b726156aefb8d88c</td>\n",
       "    </tr>\n",
       "  </tbody>\n",
       "</table>\n",
       "</div>"
      ],
      "text/plain": [
       "                                                                bt_mac  \\\n",
       "timestamp                                                                \n",
       "2013-09-05 12:29:35  0b23db220425ec73e369071268354b3f4ae2650cb7ca6b...   \n",
       "2013-09-05 12:29:35  f8611c32163849aeb881f531ec64313dbde0cbf45a1ac3...   \n",
       "2013-09-05 12:29:35  ae0a9b29bbc47690eeae87d7dea0788e44be79b4507d13...   \n",
       "2013-09-05 12:29:35  662085e9e762e5452ed30d85ea2cedc0793c7c59b07519...   \n",
       "2013-09-05 12:29:35  b58f4485bcf37ccb6fe05032b1bed9f4914a1903bb5f48...   \n",
       "\n",
       "                       class       id                              name  rssi  \\\n",
       "timestamp                                                                       \n",
       "2013-09-05 12:29:35  5898764  1462055                              None   -82   \n",
       "2013-09-05 12:29:35  5898764  1462056                              None   -87   \n",
       "2013-09-05 12:29:35  5898764  1462057  d565ccd0b683ad49f3d1cdd5d02ae79e   -82   \n",
       "2013-09-05 12:29:35  5898764  1462060  d565ccd0b683ad49f3d1cdd5d02ae79e   -82   \n",
       "2013-09-05 12:29:35  5898764  1462061                              None   -81   \n",
       "\n",
       "                                       scanned_user  \\\n",
       "timestamp                                             \n",
       "2013-09-05 12:29:35  f0ef3769fb2311ca15726c9bdfb5eb   \n",
       "2013-09-05 12:29:35  2c4ad2fe7726d1a9e2c60bc58be868   \n",
       "2013-09-05 12:29:35  b7b98e1489e735d8ce4d30348efcc9   \n",
       "2013-09-05 12:29:35  48af4a10320be434da71b1ae045fd1   \n",
       "2013-09-05 12:29:35  2626d4ba091a17213934b2bc2ade22   \n",
       "\n",
       "                                               user  \n",
       "timestamp                                            \n",
       "2013-09-05 12:29:35  005b1e0298bde6b726156aefb8d88c  \n",
       "2013-09-05 12:29:35  005b1e0298bde6b726156aefb8d88c  \n",
       "2013-09-05 12:29:35  005b1e0298bde6b726156aefb8d88c  \n",
       "2013-09-05 12:29:35  005b1e0298bde6b726156aefb8d88c  \n",
       "2013-09-05 12:29:35  005b1e0298bde6b726156aefb8d88c  "
      ]
     },
     "execution_count": 26,
     "metadata": {},
     "output_type": "execute_result"
    }
   ],
   "source": [
    "df.head() "
   ]
  },
  {
   "cell_type": "code",
   "execution_count": 27,
   "metadata": {
    "collapsed": true
   },
   "outputs": [],
   "source": [
    "ua = loaders.Useralias()  "
   ]
  },
  {
   "cell_type": "code",
   "execution_count": 28,
   "metadata": {},
   "outputs": [
    {
     "data": {
      "text/html": [
       "<div>\n",
       "<table border=\"1\" class=\"dataframe\">\n",
       "  <thead>\n",
       "    <tr style=\"text-align: right;\">\n",
       "      <th></th>\n",
       "      <th>bt_mac</th>\n",
       "      <th>class</th>\n",
       "      <th>id</th>\n",
       "      <th>name</th>\n",
       "      <th>rssi</th>\n",
       "      <th>scanned_user</th>\n",
       "      <th>user</th>\n",
       "    </tr>\n",
       "    <tr>\n",
       "      <th>timestamp</th>\n",
       "      <th></th>\n",
       "      <th></th>\n",
       "      <th></th>\n",
       "      <th></th>\n",
       "      <th></th>\n",
       "      <th></th>\n",
       "      <th></th>\n",
       "    </tr>\n",
       "  </thead>\n",
       "  <tbody>\n",
       "    <tr>\n",
       "      <th>2013-09-05 12:29:35</th>\n",
       "      <td>0b23db220425ec73e369071268354b3f4ae2650cb7ca6b...</td>\n",
       "      <td>5898764</td>\n",
       "      <td>1462055</td>\n",
       "      <td>None</td>\n",
       "      <td>-82</td>\n",
       "      <td>u1003</td>\n",
       "      <td>u0004</td>\n",
       "    </tr>\n",
       "    <tr>\n",
       "      <th>2013-09-05 12:29:35</th>\n",
       "      <td>f8611c32163849aeb881f531ec64313dbde0cbf45a1ac3...</td>\n",
       "      <td>5898764</td>\n",
       "      <td>1462056</td>\n",
       "      <td>None</td>\n",
       "      <td>-87</td>\n",
       "      <td>u0196</td>\n",
       "      <td>u0004</td>\n",
       "    </tr>\n",
       "    <tr>\n",
       "      <th>2013-09-05 12:29:35</th>\n",
       "      <td>ae0a9b29bbc47690eeae87d7dea0788e44be79b4507d13...</td>\n",
       "      <td>5898764</td>\n",
       "      <td>1462057</td>\n",
       "      <td>d565ccd0b683ad49f3d1cdd5d02ae79e</td>\n",
       "      <td>-82</td>\n",
       "      <td>u0787</td>\n",
       "      <td>u0004</td>\n",
       "    </tr>\n",
       "    <tr>\n",
       "      <th>2013-09-05 12:29:35</th>\n",
       "      <td>662085e9e762e5452ed30d85ea2cedc0793c7c59b07519...</td>\n",
       "      <td>5898764</td>\n",
       "      <td>1462060</td>\n",
       "      <td>d565ccd0b683ad49f3d1cdd5d02ae79e</td>\n",
       "      <td>-82</td>\n",
       "      <td>u0315</td>\n",
       "      <td>u0004</td>\n",
       "    </tr>\n",
       "    <tr>\n",
       "      <th>2013-09-05 12:29:35</th>\n",
       "      <td>b58f4485bcf37ccb6fe05032b1bed9f4914a1903bb5f48...</td>\n",
       "      <td>5898764</td>\n",
       "      <td>1462061</td>\n",
       "      <td>None</td>\n",
       "      <td>-81</td>\n",
       "      <td>u0172</td>\n",
       "      <td>u0004</td>\n",
       "    </tr>\n",
       "  </tbody>\n",
       "</table>\n",
       "</div>"
      ],
      "text/plain": [
       "                                                                bt_mac  \\\n",
       "timestamp                                                                \n",
       "2013-09-05 12:29:35  0b23db220425ec73e369071268354b3f4ae2650cb7ca6b...   \n",
       "2013-09-05 12:29:35  f8611c32163849aeb881f531ec64313dbde0cbf45a1ac3...   \n",
       "2013-09-05 12:29:35  ae0a9b29bbc47690eeae87d7dea0788e44be79b4507d13...   \n",
       "2013-09-05 12:29:35  662085e9e762e5452ed30d85ea2cedc0793c7c59b07519...   \n",
       "2013-09-05 12:29:35  b58f4485bcf37ccb6fe05032b1bed9f4914a1903bb5f48...   \n",
       "\n",
       "                       class       id                              name  rssi  \\\n",
       "timestamp                                                                       \n",
       "2013-09-05 12:29:35  5898764  1462055                              None   -82   \n",
       "2013-09-05 12:29:35  5898764  1462056                              None   -87   \n",
       "2013-09-05 12:29:35  5898764  1462057  d565ccd0b683ad49f3d1cdd5d02ae79e   -82   \n",
       "2013-09-05 12:29:35  5898764  1462060  d565ccd0b683ad49f3d1cdd5d02ae79e   -82   \n",
       "2013-09-05 12:29:35  5898764  1462061                              None   -81   \n",
       "\n",
       "                    scanned_user   user  \n",
       "timestamp                                \n",
       "2013-09-05 12:29:35        u1003  u0004  \n",
       "2013-09-05 12:29:35        u0196  u0004  \n",
       "2013-09-05 12:29:35        u0787  u0004  \n",
       "2013-09-05 12:29:35        u0315  u0004  \n",
       "2013-09-05 12:29:35        u0172  u0004  "
      ]
     },
     "execution_count": 28,
     "metadata": {},
     "output_type": "execute_result"
    }
   ],
   "source": [
    "ua = loaders.Useralias() \n",
    "df['scanned_user'] = df.scanned_user.map(ua.userdct)\n",
    "df['user'] = df.user.map(ua.userdct)\n",
    "df.head() "
   ]
  },
  {
   "cell_type": "code",
   "execution_count": 33,
   "metadata": {},
   "outputs": [],
   "source": [
    "df = df[df.index.year >= 2013]"
   ]
  },
  {
   "cell_type": "code",
   "execution_count": null,
   "metadata": {
    "collapsed": true
   },
   "outputs": [],
   "source": []
  }
 ],
 "metadata": {
  "kernelspec": {
   "display_name": "Python 3",
   "language": "python",
   "name": "python3"
  },
  "language_info": {
   "codemirror_mode": {
    "name": "ipython",
    "version": 3
   },
   "file_extension": ".py",
   "mimetype": "text/x-python",
   "name": "python",
   "nbconvert_exporter": "python",
   "pygments_lexer": "ipython3",
   "version": "3.6.4"
  }
 },
 "nbformat": 4,
 "nbformat_minor": 2
}
